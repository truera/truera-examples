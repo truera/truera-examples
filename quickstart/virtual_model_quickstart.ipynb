{
 "cells": [
  {
   "cell_type": "markdown",
   "id": "78705b9c",
   "metadata": {},
   "source": [
    "# Tutorial: Adding a Virtual Model and Ingesting Predictions and Influences \n",
    "This notebook presents an example of ingesting local datasets and model-computed predictions with feature influences via the Python SDK.\n",
    "\n",
    "Data to be ingested include:\n",
    "\n",
    "- Input Data\n",
    "- Label Data\n",
    "- Prediction Data for provided virtual model\n",
    "- Feature Influence Data for provided virtual model"
   ]
  },
  {
   "cell_type": "markdown",
   "id": "4a8535ec",
   "metadata": {},
   "source": [
    "## Before you begin\n",
    "* Install the [TruEra Python SDK](client-installation.md)\n",
    "* Read [Ingesting a Virtual Model](model_ingestion_guide_virtual.md)"
   ]
  },
  {
   "cell_type": "markdown",
   "id": "1725a826",
   "metadata": {},
   "source": [
    "## Connecting to your TruEra endpoint\n",
    "\n",
    "- Provide your TruEra deployment URL. Free users will use `https://app.truera.net`\n",
    "- Provide your Authentication Token, available [here](https://app.truera.net/home/p?modal=workspaceSettings&selectedTab=authentication)\n",
    "- Create your TruEra workspace object! "
   ]
  },
  {
   "cell_type": "code",
   "execution_count": null,
   "id": "c898f695",
   "metadata": {},
   "outputs": [],
   "source": [
    "# FILL ME!\n",
    "TRUERA_URL = \"https://app.truera.net\"\n",
    "AUTH_TOKEN = \"\""
   ]
  },
  {
   "cell_type": "code",
   "execution_count": null,
   "id": "2167bab2",
   "metadata": {},
   "outputs": [],
   "source": [
    "from truera.client.truera_workspace import TrueraWorkspace\n",
    "from truera.client.truera_authentication import TokenAuthentication\n",
    "\n",
    "auth = TokenAuthentication(AUTH_TOKEN)\n",
    "tru = TrueraWorkspace(TRUERA_URL, auth)\n",
    "\n",
    "tru.set_environment(\"remote\") # now we're ready to add projects remotely!"
   ]
  },
  {
   "cell_type": "markdown",
   "id": "3e7d4717",
   "metadata": {},
   "source": [
    "## Adding a Project with Sample Data and Model\n",
    "\n",
    "Based on datasets for [Census Income](https://archive.ics.uci.edu/ml/datasets/adult), we have made this sample project available on a public s3.\n",
    "\n",
    "The **Census Income** project, used throughout this quickstart tutorial, includes a formatted version of the data to illustrate the data ingestion process. For other frameworks, the process is similar.\n",
    "\n",
    "Content in the census_income folder comprises:\n",
    "\n",
    "- **quickstart_model.pkl** – Pickled Python model for quickstart\n",
    "- **data_raw.csv** – training data, pre-transformed data (human-readable)\n",
    "- **data_num.csv** – data in model-readable form\n",
    "- **label.csv** – single-column containing ground truth labels\n",
    "- **extra_data.csv** – used for defining segments\n",
    "- **feature_influence.csv** - feature influence data\n",
    "- **predictions.csv** - prediction from model computed locally\n",
    "\n",
    "Next, to upload the data to TruEra, you'll need to:\n",
    "\n",
    "1. Create a TruEra project\n",
    "2. Define a data collection\n",
    "3. Create Background split for feature influence\n",
    "4. Add a virtual model\n",
    "5. Add split data, labels, predictions and feature influences\n",
    "6. Start using TruEra Diagnostics"
   ]
  },
  {
   "cell_type": "markdown",
   "id": "a53b384b",
   "metadata": {},
   "source": [
    "### Step 1. Create a TruEra project"
   ]
  },
  {
   "cell_type": "code",
   "execution_count": null,
   "id": "c98eb48a",
   "metadata": {},
   "outputs": [],
   "source": [
    "tru.add_project(\"AdultCensus_DemoNB_local_ingestion\", score_type=\"probits\")"
   ]
  },
  {
   "cell_type": "markdown",
   "id": "fa8ab4c0",
   "metadata": {},
   "source": [
    "### Step 2. Define a data collection"
   ]
  },
  {
   "cell_type": "code",
   "execution_count": null,
   "id": "d1326e6c",
   "metadata": {},
   "outputs": [],
   "source": [
    "tru.add_data_collection(\"demo_data_collection\")"
   ]
  },
  {
   "cell_type": "markdown",
   "id": "5dbe794d",
   "metadata": {},
   "source": [
    "Now for data to upload, we'll load all required data as different Dataframes"
   ]
  },
  {
   "cell_type": "code",
   "execution_count": 7,
   "id": "b97c4680",
   "metadata": {},
   "outputs": [],
   "source": [
    "import os\n",
    "import pandas as pd\n",
    "import numpy as np\n",
    "\n",
    "s3_folder = \"s3://truera-examples/data/census_income/\" # path where you download the census_income quickstart data\n",
    "\n",
    "data = pd.read_csv(s3_folder + \"data_num.csv\")\n",
    "labels = pd.read_csv(s3_folder + \"label.csv\")\n",
    "predictions = pd.read_csv(s3_folder + \"predictions.csv\")\n",
    "# Feature Influences can be computed using local explainer\n",
    "feature_influence = pd.read_csv(s3_folder + \"feature_influence.csv\")\n"
   ]
  },
  {
   "cell_type": "markdown",
   "id": "d9c49a9a",
   "metadata": {},
   "source": [
    "### Step 3. Create Background split for Feature Influence"
   ]
  },
  {
   "cell_type": "code",
   "execution_count": null,
   "id": "09b6ff07",
   "metadata": {},
   "outputs": [],
   "source": [
    "tru.add_data_split(\"background_split\", data, id_col_name=\"id\")"
   ]
  },
  {
   "cell_type": "markdown",
   "id": "76103096",
   "metadata": {},
   "source": [
    "### Step 4. Add a virtual model"
   ]
  },
  {
   "cell_type": "code",
   "execution_count": null,
   "id": "06be8ff3",
   "metadata": {},
   "outputs": [],
   "source": [
    "model_name = \"quickstart_demo\"\n",
    "tru.add_model(model_name)"
   ]
  },
  {
   "cell_type": "markdown",
   "id": "2af7b761",
   "metadata": {},
   "source": [
    "### Step 5. Add split data, labels, predictions and feature influences"
   ]
  },
  {
   "cell_type": "code",
   "execution_count": null,
   "id": "d24fa984",
   "metadata": {},
   "outputs": [],
   "source": [
    "tru.add_data_split(\"demo-all\", \n",
    "                   data, \n",
    "                   label_data=labels, \n",
    "                   prediction_data=predictions,\n",
    "                   feature_influence_data=feature_influence, \n",
    "                   split_type=\"all\", \n",
    "                   id_col_name=\"id\")"
   ]
  },
  {
   "cell_type": "markdown",
   "id": "4026daf3",
   "metadata": {},
   "source": [
    "### Validation\n",
    "\n",
    "Post upload you should be able to validate the data by making following calls:"
   ]
  },
  {
   "cell_type": "markdown",
   "id": "0c739c88",
   "metadata": {},
   "source": [
    "**To validate feature influence**"
   ]
  },
  {
   "cell_type": "code",
   "execution_count": null,
   "id": "cb5e9e73",
   "metadata": {},
   "outputs": [],
   "source": [
    "tru.get_feature_influences()"
   ]
  },
  {
   "cell_type": "markdown",
   "id": "12a012bb",
   "metadata": {},
   "source": [
    "**To validate predictions**"
   ]
  },
  {
   "cell_type": "code",
   "execution_count": null,
   "id": "adbd0d3d",
   "metadata": {},
   "outputs": [],
   "source": [
    "tru.get_ys_pred()"
   ]
  },
  {
   "cell_type": "markdown",
   "id": "184ec06f",
   "metadata": {},
   "source": [
    "**To validate label data**"
   ]
  },
  {
   "cell_type": "code",
   "execution_count": null,
   "id": "7627151c",
   "metadata": {},
   "outputs": [],
   "source": [
    "tru.get_ys()"
   ]
  }
 ],
 "metadata": {
  "kernelspec": {
   "display_name": "Python 3.10.9 ('saas_beta')",
   "language": "python",
   "name": "python3"
  },
  "language_info": {
   "codemirror_mode": {
    "name": "ipython",
    "version": 3
   },
   "file_extension": ".py",
   "mimetype": "text/x-python",
   "name": "python",
   "nbconvert_exporter": "python",
   "pygments_lexer": "ipython3",
   "version": "3.10.9"
  },
  "vscode": {
   "interpreter": {
    "hash": "a53dfad853815555b563d82cb8f5d9b44384e2ca3d6c65e7ac9afe262606d66d"
   }
  }
 },
 "nbformat": 4,
 "nbformat_minor": 5
}

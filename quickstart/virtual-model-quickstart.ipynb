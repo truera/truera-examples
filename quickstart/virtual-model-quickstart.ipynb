{
  "cells": [
    {
      "cell_type": "markdown",
      "id": "78705b9c",
      "metadata": {
        "id": "78705b9c"
      },
      "source": [
        "# Quickstart: Adding a Virtual Model and Ingesting Predictions and Influences \n",
        "This notebook presents an example of ingesting local datasets and model-computed predictions with feature influences via the Python SDK.\n",
        "\n",
        "Data to be ingested include:\n",
        "\n",
        "- Input Data\n",
        "- Label Data\n",
        "- Prediction Data for provided virtual model\n",
        "- Feature Influence Data for provided virtual model"
      ]
    },
    {
      "cell_type": "markdown",
      "id": "4a8535ec",
      "metadata": {
        "id": "4a8535ec"
      },
      "source": [
        "## Before you begin\n",
        "* Install the [TruEra Python SDK](client-installation.md)\n",
        "* Read [Ingesting a Virtual Model](model_ingestion_guide_virtual.md)"
      ]
    },
    {
      "cell_type": "markdown",
      "id": "wxHXxom2Hbdx",
      "metadata": {
        "id": "wxHXxom2Hbdx"
      },
      "source": [
        "## Set your TruEra URL and authentication token\n",
        "\n",
        "- Provide your TruEra deployment URL. Free users will use `https://app.truera.net`\n",
        "- Provide your Authentication Token, available [here](https://app.truera.net/home/p?modal=workspaceSettings&selectedTab=authentication)\n",
        "- Create your TruEra workspace object! "
      ]
    },
    {
      "cell_type": "code",
      "execution_count": null,
      "id": "gTpdXjqhHZ0E",
      "metadata": {
        "id": "gTpdXjqhHZ0E"
      },
      "outputs": [],
      "source": [
        "# FILL ME!\n",
        "TRUERA_URL = \"https://app.truera.net\"\n",
        "AUTH_TOKEN = \"\""
      ]
    },
    {
      "cell_type": "markdown",
      "id": "1725a826",
      "metadata": {
        "id": "1725a826"
      },
      "source": [
        "## Install packages\n"
      ]
    },
    {
      "cell_type": "code",
      "execution_count": 1,
      "id": "YAsU3GrpHGCh",
      "metadata": {
        "colab": {
          "base_uri": "https://localhost:8080/"
        },
        "id": "YAsU3GrpHGCh",
        "outputId": "733d1667-ee3c-4faf-8ef5-44ab6e5de660"
      },
      "outputs": [
        {
          "name": "stdout",
          "output_type": "stream",
          "text": [
            "\u001b[33mWARNING: Ignoring invalid distribution -yarrow (/usr/local/lib/python3.10/dist-packages)\u001b[0m\u001b[33m\n",
            "\u001b[0mLooking in indexes: https://pypi.org/simple, https://us-python.pkg.dev/colab-wheels/public/simple/\n",
            "Collecting truera\n",
            "  Using cached truera-11.5.6-py3-none-any.whl (860 kB)\n",
            "Requirement already satisfied: cachetools>=5.2.0 in /usr/local/lib/python3.10/dist-packages (from truera) (5.3.0)\n",
            "Requirement already satisfied: click>=8.0 in /usr/local/lib/python3.10/dist-packages (from truera) (8.1.3)\n",
            "Requirement already satisfied: cloudpickle>=1.2.2 in /usr/local/lib/python3.10/dist-packages (from truera) (2.2.1)\n",
            "Requirement already satisfied: crontab==0.23.0 in /usr/local/lib/python3.10/dist-packages (from truera) (0.23.0)\n",
            "Requirement already satisfied: cryptography>=3.2 in /usr/local/lib/python3.10/dist-packages (from truera) (40.0.2)\n",
            "Collecting dynaconf==3.1.11 (from truera)\n",
            "  Using cached dynaconf-3.1.11-py2.py3-none-any.whl (211 kB)\n",
            "Requirement already satisfied: filelock>=3.0.12 in /usr/local/lib/python3.10/dist-packages (from truera) (3.12.0)\n",
            "Requirement already satisfied: googleapis-common-protos>=1.56.0 in /usr/local/lib/python3.10/dist-packages (from truera) (1.59.0)\n",
            "Requirement already satisfied: grpcio>=1.50.0 in /usr/local/lib/python3.10/dist-packages (from truera) (1.54.0)\n",
            "Collecting grpcio-status>=1.50.0 (from truera)\n",
            "  Using cached grpcio_status-1.54.0-py3-none-any.whl (5.1 kB)\n",
            "Collecting importlib-metadata>=4.8.1 (from truera)\n",
            "  Using cached importlib_metadata-6.6.0-py3-none-any.whl (22 kB)\n",
            "Requirement already satisfied: nbformat>=5.1.2 in /usr/local/lib/python3.10/dist-packages (from truera) (5.8.0)\n",
            "Requirement already satisfied: pandas>=1.1.1 in /usr/local/lib/python3.10/dist-packages (from truera) (1.5.3)\n",
            "Requirement already satisfied: plotly>=5.11.0 in /usr/local/lib/python3.10/dist-packages (from truera) (5.13.1)\n",
            "Collecting protobuf>=4.21.12 (from truera)\n",
            "  Using cached protobuf-4.23.0-cp37-abi3-manylinux2014_x86_64.whl (304 kB)\n",
            "Requirement already satisfied: pyarrow>=10.0.0 in /usr/local/lib/python3.10/dist-packages (from truera) (12.0.0)\n",
            "Requirement already satisfied: pydantic>=1.8.0 in /usr/local/lib/python3.10/dist-packages (from truera) (1.10.7)\n",
            "Requirement already satisfied: pyjwt>=2.4.0 in /usr/local/lib/python3.10/dist-packages (from truera) (2.7.0)\n",
            "Requirement already satisfied: python-dateutil>=2.8.1 in /usr/local/lib/python3.10/dist-packages (from truera) (2.8.2)\n",
            "Requirement already satisfied: pyyaml>=5.3.1 in /usr/local/lib/python3.10/dist-packages (from truera) (6.0)\n",
            "Requirement already satisfied: requests>=2.25.0 in /usr/local/lib/python3.10/dist-packages (from truera) (2.27.1)\n",
            "Requirement already satisfied: scikit-learn>=0.21.2 in /usr/local/lib/python3.10/dist-packages (from truera) (1.2.2)\n",
            "Requirement already satisfied: sqlparse==0.4.2 in /usr/local/lib/python3.10/dist-packages (from truera) (0.4.2)\n",
            "Requirement already satisfied: tabulate>=0.8.9 in /usr/local/lib/python3.10/dist-packages (from truera) (0.8.10)\n",
            "Requirement already satisfied: tqdm>4.25.0 in /usr/local/lib/python3.10/dist-packages (from truera) (4.65.0)\n",
            "Requirement already satisfied: urllib3>=1.25.8 in /usr/local/lib/python3.10/dist-packages (from truera) (1.26.15)\n",
            "Requirement already satisfied: humanize>=4.3.0 in /usr/local/lib/python3.10/dist-packages (from truera) (4.6.0)\n",
            "Requirement already satisfied: numpy<1.24.0 in /usr/local/lib/python3.10/dist-packages (from truera) (1.22.4)\n",
            "Requirement already satisfied: mpmath==0.19 in /usr/local/lib/python3.10/dist-packages (from truera) (0.19)\n",
            "Requirement already satisfied: sympy>=1.10.1 in /usr/local/lib/python3.10/dist-packages (from truera) (1.11.1)\n",
            "Requirement already satisfied: cffi>=1.12 in /usr/local/lib/python3.10/dist-packages (from cryptography>=3.2->truera) (1.15.1)\n",
            "Requirement already satisfied: zipp>=0.5 in /usr/local/lib/python3.10/dist-packages (from importlib-metadata>=4.8.1->truera) (3.15.0)\n",
            "Requirement already satisfied: fastjsonschema in /usr/local/lib/python3.10/dist-packages (from nbformat>=5.1.2->truera) (2.16.3)\n",
            "Requirement already satisfied: jsonschema>=2.6 in /usr/local/lib/python3.10/dist-packages (from nbformat>=5.1.2->truera) (4.3.3)\n",
            "Requirement already satisfied: jupyter-core in /usr/local/lib/python3.10/dist-packages (from nbformat>=5.1.2->truera) (5.3.0)\n",
            "Requirement already satisfied: traitlets>=5.1 in /usr/local/lib/python3.10/dist-packages (from nbformat>=5.1.2->truera) (5.7.1)\n",
            "Requirement already satisfied: pytz>=2020.1 in /usr/local/lib/python3.10/dist-packages (from pandas>=1.1.1->truera) (2022.7.1)\n",
            "Requirement already satisfied: tenacity>=6.2.0 in /usr/local/lib/python3.10/dist-packages (from plotly>=5.11.0->truera) (8.2.2)\n",
            "Requirement already satisfied: typing-extensions>=4.2.0 in /usr/local/lib/python3.10/dist-packages (from pydantic>=1.8.0->truera) (4.5.0)\n",
            "Requirement already satisfied: six>=1.5 in /usr/local/lib/python3.10/dist-packages (from python-dateutil>=2.8.1->truera) (1.16.0)\n",
            "Requirement already satisfied: certifi>=2017.4.17 in /usr/local/lib/python3.10/dist-packages (from requests>=2.25.0->truera) (2022.12.7)\n",
            "Requirement already satisfied: charset-normalizer~=2.0.0 in /usr/local/lib/python3.10/dist-packages (from requests>=2.25.0->truera) (2.0.12)\n",
            "Requirement already satisfied: idna<4,>=2.5 in /usr/local/lib/python3.10/dist-packages (from requests>=2.25.0->truera) (3.4)\n",
            "Requirement already satisfied: scipy>=1.3.2 in /usr/local/lib/python3.10/dist-packages (from scikit-learn>=0.21.2->truera) (1.10.1)\n",
            "Requirement already satisfied: joblib>=1.1.1 in /usr/local/lib/python3.10/dist-packages (from scikit-learn>=0.21.2->truera) (1.2.0)\n",
            "Requirement already satisfied: threadpoolctl>=2.0.0 in /usr/local/lib/python3.10/dist-packages (from scikit-learn>=0.21.2->truera) (3.1.0)\n",
            "Requirement already satisfied: pycparser in /usr/local/lib/python3.10/dist-packages (from cffi>=1.12->cryptography>=3.2->truera) (2.21)\n",
            "Requirement already satisfied: attrs>=17.4.0 in /usr/local/lib/python3.10/dist-packages (from jsonschema>=2.6->nbformat>=5.1.2->truera) (23.1.0)\n",
            "Requirement already satisfied: pyrsistent!=0.17.0,!=0.17.1,!=0.17.2,>=0.14.0 in /usr/local/lib/python3.10/dist-packages (from jsonschema>=2.6->nbformat>=5.1.2->truera) (0.19.3)\n",
            "Requirement already satisfied: platformdirs>=2.5 in /usr/local/lib/python3.10/dist-packages (from jupyter-core->nbformat>=5.1.2->truera) (3.3.0)\n",
            "\u001b[33mWARNING: Ignoring invalid distribution -yarrow (/usr/local/lib/python3.10/dist-packages)\u001b[0m\u001b[33m\n",
            "\u001b[0mInstalling collected packages: protobuf, importlib-metadata, dynaconf, grpcio-status, truera\n",
            "  Attempting uninstall: protobuf\n",
            "    Found existing installation: protobuf 3.20.3\n",
            "    Uninstalling protobuf-3.20.3:\n",
            "      Successfully uninstalled protobuf-3.20.3\n",
            "  Attempting uninstall: grpcio-status\n",
            "    Found existing installation: grpcio-status 1.48.2\n",
            "    Uninstalling grpcio-status-1.48.2:\n",
            "      Successfully uninstalled grpcio-status-1.48.2\n",
            "\u001b[31mERROR: pip's dependency resolver does not currently take into account all the packages that are installed. This behaviour is the source of the following dependency conflicts.\n",
            "pandas-gbq 0.17.9 requires pyarrow<10.0dev,>=3.0.0, but you have pyarrow 12.0.0 which is incompatible.\u001b[0m\u001b[31m\n",
            "\u001b[0mSuccessfully installed dynaconf-3.1.11 grpcio-status-1.54.0 importlib-metadata-6.6.0 protobuf-4.23.0 truera-11.5.6\n",
            "\u001b[33mWARNING: Ignoring invalid distribution -yarrow (/usr/local/lib/python3.10/dist-packages)\u001b[0m\u001b[33m\n",
            "\u001b[0mLooking in indexes: https://pypi.org/simple, https://us-python.pkg.dev/colab-wheels/public/simple/\n",
            "Collecting s3fs\n",
            "  Downloading s3fs-2023.5.0-py3-none-any.whl (28 kB)\n",
            "Collecting aiobotocore~=2.5.0 (from s3fs)\n",
            "  Downloading aiobotocore-2.5.0-py3-none-any.whl (72 kB)\n",
            "\u001b[2K     \u001b[90m━━━━━━━━━━━━━━━━━━━━━━━━━━━━━━━━━━━━━━━━\u001b[0m \u001b[32m72.7/72.7 kB\u001b[0m \u001b[31m3.6 MB/s\u001b[0m eta \u001b[36m0:00:00\u001b[0m\n",
            "\u001b[?25hCollecting fsspec==2023.5.0 (from s3fs)\n",
            "  Downloading fsspec-2023.5.0-py3-none-any.whl (160 kB)\n",
            "\u001b[2K     \u001b[90m━━━━━━━━━━━━━━━━━━━━━━━━━━━━━━━━━━━━━━━\u001b[0m \u001b[32m160.1/160.1 kB\u001b[0m \u001b[31m6.3 MB/s\u001b[0m eta \u001b[36m0:00:00\u001b[0m\n",
            "\u001b[?25hCollecting aiohttp!=4.0.0a0,!=4.0.0a1 (from s3fs)\n",
            "  Downloading aiohttp-3.8.4-cp310-cp310-manylinux_2_17_x86_64.manylinux2014_x86_64.whl (1.0 MB)\n",
            "\u001b[2K     \u001b[90m━━━━━━━━━━━━━━━━━━━━━━━━━━━━━━━━━━━━━━━━\u001b[0m \u001b[32m1.0/1.0 MB\u001b[0m \u001b[31m30.5 MB/s\u001b[0m eta \u001b[36m0:00:00\u001b[0m\n",
            "\u001b[?25hCollecting botocore<1.29.77,>=1.29.76 (from aiobotocore~=2.5.0->s3fs)\n",
            "  Downloading botocore-1.29.76-py3-none-any.whl (10.4 MB)\n",
            "\u001b[2K     \u001b[90m━━━━━━━━━━━━━━━━━━━━━━━━━━━━━━━━━━━━━━━━\u001b[0m \u001b[32m10.4/10.4 MB\u001b[0m \u001b[31m37.1 MB/s\u001b[0m eta \u001b[36m0:00:00\u001b[0m\n",
            "\u001b[?25hRequirement already satisfied: wrapt>=1.10.10 in /usr/local/lib/python3.10/dist-packages (from aiobotocore~=2.5.0->s3fs) (1.14.1)\n",
            "Collecting aioitertools>=0.5.1 (from aiobotocore~=2.5.0->s3fs)\n",
            "  Downloading aioitertools-0.11.0-py3-none-any.whl (23 kB)\n",
            "Requirement already satisfied: attrs>=17.3.0 in /usr/local/lib/python3.10/dist-packages (from aiohttp!=4.0.0a0,!=4.0.0a1->s3fs) (23.1.0)\n",
            "Requirement already satisfied: charset-normalizer<4.0,>=2.0 in /usr/local/lib/python3.10/dist-packages (from aiohttp!=4.0.0a0,!=4.0.0a1->s3fs) (2.0.12)\n",
            "Collecting multidict<7.0,>=4.5 (from aiohttp!=4.0.0a0,!=4.0.0a1->s3fs)\n",
            "  Downloading multidict-6.0.4-cp310-cp310-manylinux_2_17_x86_64.manylinux2014_x86_64.whl (114 kB)\n",
            "\u001b[2K     \u001b[90m━━━━━━━━━━━━━━━━━━━━━━━━━━━━━━━━━━━━━━\u001b[0m \u001b[32m114.5/114.5 kB\u001b[0m \u001b[31m13.4 MB/s\u001b[0m eta \u001b[36m0:00:00\u001b[0m\n",
            "\u001b[?25hCollecting async-timeout<5.0,>=4.0.0a3 (from aiohttp!=4.0.0a0,!=4.0.0a1->s3fs)\n",
            "  Downloading async_timeout-4.0.2-py3-none-any.whl (5.8 kB)\n",
            "Collecting yarl<2.0,>=1.0 (from aiohttp!=4.0.0a0,!=4.0.0a1->s3fs)\n",
            "  Downloading yarl-1.9.2-cp310-cp310-manylinux_2_17_x86_64.manylinux2014_x86_64.whl (268 kB)\n",
            "\u001b[2K     \u001b[90m━━━━━━━━━━━━━━━━━━━━━━━━━━━━━━━━━━━━━━\u001b[0m \u001b[32m268.8/268.8 kB\u001b[0m \u001b[31m28.3 MB/s\u001b[0m eta \u001b[36m0:00:00\u001b[0m\n",
            "\u001b[?25hCollecting frozenlist>=1.1.1 (from aiohttp!=4.0.0a0,!=4.0.0a1->s3fs)\n",
            "  Downloading frozenlist-1.3.3-cp310-cp310-manylinux_2_5_x86_64.manylinux1_x86_64.manylinux_2_17_x86_64.manylinux2014_x86_64.whl (149 kB)\n",
            "\u001b[2K     \u001b[90m━━━━━━━━━━━━━━━━━━━━━━━━━━━━━━━━━━━━━━\u001b[0m \u001b[32m149.6/149.6 kB\u001b[0m \u001b[31m17.5 MB/s\u001b[0m eta \u001b[36m0:00:00\u001b[0m\n",
            "\u001b[?25hCollecting aiosignal>=1.1.2 (from aiohttp!=4.0.0a0,!=4.0.0a1->s3fs)\n",
            "  Downloading aiosignal-1.3.1-py3-none-any.whl (7.6 kB)\n",
            "Collecting jmespath<2.0.0,>=0.7.1 (from botocore<1.29.77,>=1.29.76->aiobotocore~=2.5.0->s3fs)\n",
            "  Downloading jmespath-1.0.1-py3-none-any.whl (20 kB)\n",
            "Requirement already satisfied: python-dateutil<3.0.0,>=2.1 in /usr/local/lib/python3.10/dist-packages (from botocore<1.29.77,>=1.29.76->aiobotocore~=2.5.0->s3fs) (2.8.2)\n",
            "Requirement already satisfied: urllib3<1.27,>=1.25.4 in /usr/local/lib/python3.10/dist-packages (from botocore<1.29.77,>=1.29.76->aiobotocore~=2.5.0->s3fs) (1.26.15)\n",
            "Requirement already satisfied: idna>=2.0 in /usr/local/lib/python3.10/dist-packages (from yarl<2.0,>=1.0->aiohttp!=4.0.0a0,!=4.0.0a1->s3fs) (3.4)\n",
            "Requirement already satisfied: six>=1.5 in /usr/local/lib/python3.10/dist-packages (from python-dateutil<3.0.0,>=2.1->botocore<1.29.77,>=1.29.76->aiobotocore~=2.5.0->s3fs) (1.16.0)\n",
            "\u001b[33mWARNING: Ignoring invalid distribution -yarrow (/usr/local/lib/python3.10/dist-packages)\u001b[0m\u001b[33m\n",
            "\u001b[0mInstalling collected packages: multidict, jmespath, fsspec, frozenlist, async-timeout, aioitertools, yarl, botocore, aiosignal, aiohttp, aiobotocore, s3fs\n",
            "  Attempting uninstall: fsspec\n",
            "    Found existing installation: fsspec 2023.4.0\n",
            "    Uninstalling fsspec-2023.4.0:\n",
            "      Successfully uninstalled fsspec-2023.4.0\n",
            "Successfully installed aiobotocore-2.5.0 aiohttp-3.8.4 aioitertools-0.11.0 aiosignal-1.3.1 async-timeout-4.0.2 botocore-1.29.76 frozenlist-1.3.3 fsspec-2023.5.0 jmespath-1.0.1 multidict-6.0.4 s3fs-2023.5.0 yarl-1.9.2\n"
          ]
        }
      ],
      "source": [
        "! pip install truera\n",
        "! pip install s3fs"
      ]
    },
    {
      "cell_type": "markdown",
      "id": "8ljpP3LiHzGd",
      "metadata": {
        "id": "8ljpP3LiHzGd"
      },
      "source": [
        "## Connect to your TruEra Endpoint"
      ]
    },
    {
      "cell_type": "code",
      "execution_count": null,
      "id": "2167bab2",
      "metadata": {
        "id": "2167bab2"
      },
      "outputs": [],
      "source": [
        "from truera.client.truera_workspace import TrueraWorkspace\n",
        "from truera.client.truera_authentication import TokenAuthentication\n",
        "\n",
        "auth = TokenAuthentication(AUTH_TOKEN)\n",
        "tru = TrueraWorkspace(TRUERA_URL, auth)\n",
        "\n",
        "tru.set_environment(\"remote\") # now we're ready to add projects remotely!"
      ]
    },
    {
      "cell_type": "markdown",
      "id": "3e7d4717",
      "metadata": {
        "id": "3e7d4717"
      },
      "source": [
        "## Adding a Project with Sample Data and Model\n",
        "\n",
        "Based on datasets for [Census Income](https://archive.ics.uci.edu/ml/datasets/adult), we have made this sample project available on a public s3.\n",
        "\n",
        "The **Census Income** project, used throughout this quickstart tutorial, includes a formatted version of the data to illustrate the data ingestion process. For other frameworks, the process is similar.\n",
        "\n",
        "Content in the census_income folder comprises:\n",
        "\n",
        "- **quickstart_model.pkl** – Pickled Python model for quickstart\n",
        "- **data_raw.csv** – training data, pre-transformed data (human-readable)\n",
        "- **data_num.csv** – data in model-readable form\n",
        "- **label.csv** – single-column containing ground truth labels\n",
        "- **extra_data.csv** – used for defining segments\n",
        "- **feature_influence.csv** - feature influence data\n",
        "- **predictions.csv** - prediction from model computed locally\n",
        "\n",
        "Next, to upload the data to TruEra, you'll need to:\n",
        "\n",
        "1. Create a TruEra project\n",
        "2. Define a data collection\n",
        "3. Create Background split for feature influence\n",
        "4. Add a virtual model\n",
        "5. Add split data, labels, predictions and feature influences\n",
        "6. Start using TruEra Diagnostics"
      ]
    },
    {
      "cell_type": "markdown",
      "id": "a53b384b",
      "metadata": {
        "id": "a53b384b"
      },
      "source": [
        "### Step 1. Create a TruEra project"
      ]
    },
    {
      "cell_type": "code",
      "execution_count": null,
      "id": "c98eb48a",
      "metadata": {
        "id": "c98eb48a"
      },
      "outputs": [],
      "source": [
        "tru.add_project(\"AdultCensus_DemoNB_local_ingestion\", score_type=\"probits\")"
      ]
    },
    {
      "cell_type": "markdown",
      "id": "fa8ab4c0",
      "metadata": {
        "id": "fa8ab4c0"
      },
      "source": [
        "### Step 2. Define a data collection"
      ]
    },
    {
      "cell_type": "code",
      "execution_count": null,
      "id": "d1326e6c",
      "metadata": {
        "id": "d1326e6c"
      },
      "outputs": [],
      "source": [
        "tru.add_data_collection(\"demo_data_collection\")"
      ]
    },
    {
      "cell_type": "markdown",
      "id": "5dbe794d",
      "metadata": {
        "id": "5dbe794d"
      },
      "source": [
        "Now for data to upload, we'll load all required data as different Dataframes"
      ]
    },
    {
      "cell_type": "code",
      "execution_count": null,
      "id": "OKcHbiMlHIk-",
      "metadata": {
        "id": "OKcHbiMlHIk-"
      },
      "outputs": [],
      "source": [
        "import os\n",
        "import pandas as pd\n",
        "import numpy as np\n",
        "\n",
        "s3_folder = \"s3://truera-examples/data/census_income/\" # path where you download the census_income quickstart data\n",
        "\n",
        "data = pd.read_csv(s3_folder + \"data_num.csv\")\n",
        "labels = pd.read_csv(s3_folder + \"label.csv\")\n",
        "predictions = pd.read_csv(s3_folder + \"predictions.csv\")\n",
        "# Feature Influences can be computed using local explainer\n",
        "feature_influence = pd.read_csv(s3_folder + \"feature_influence.csv\")"
      ]
    },
    {
      "cell_type": "markdown",
      "id": "d9c49a9a",
      "metadata": {
        "id": "d9c49a9a"
      },
      "source": [
        "### Step 3. Create Background split for Feature Influence"
      ]
    },
    {
      "cell_type": "code",
      "execution_count": null,
      "id": "09b6ff07",
      "metadata": {
        "id": "09b6ff07"
      },
      "outputs": [],
      "source": [
        "tru.add_data_split(\"background_split\", data, id_col_name=\"id\")"
      ]
    },
    {
      "cell_type": "markdown",
      "id": "76103096",
      "metadata": {
        "id": "76103096"
      },
      "source": [
        "### Step 4. Add a virtual model"
      ]
    },
    {
      "cell_type": "code",
      "execution_count": null,
      "id": "06be8ff3",
      "metadata": {
        "id": "06be8ff3"
      },
      "outputs": [],
      "source": [
        "model_name = \"quickstart_demo\"\n",
        "tru.add_model(model_name)"
      ]
    },
    {
      "cell_type": "markdown",
      "id": "2af7b761",
      "metadata": {
        "id": "2af7b761"
      },
      "source": [
        "### Step 5. Add split data, labels, predictions and feature influences"
      ]
    },
    {
      "cell_type": "code",
      "execution_count": null,
      "id": "d24fa984",
      "metadata": {
        "id": "d24fa984"
      },
      "outputs": [],
      "source": [
        "tru.add_data_split(\"demo-all\", \n",
        "                   data, \n",
        "                   label_data=labels, \n",
        "                   prediction_data=predictions,\n",
        "                   feature_influence_data=feature_influence, \n",
        "                   split_type=\"all\", \n",
        "                   id_col_name=\"id\")"
      ]
    },
    {
      "cell_type": "markdown",
      "id": "4026daf3",
      "metadata": {
        "id": "4026daf3"
      },
      "source": [
        "### Validation\n",
        "\n",
        "Post upload you should be able to validate the data by making following calls:"
      ]
    },
    {
      "cell_type": "markdown",
      "id": "0c739c88",
      "metadata": {
        "id": "0c739c88"
      },
      "source": [
        "**To validate feature influence**"
      ]
    },
    {
      "cell_type": "code",
      "execution_count": null,
      "id": "cb5e9e73",
      "metadata": {
        "id": "cb5e9e73"
      },
      "outputs": [],
      "source": [
        "tru.get_feature_influences()"
      ]
    },
    {
      "cell_type": "markdown",
      "id": "12a012bb",
      "metadata": {
        "id": "12a012bb"
      },
      "source": [
        "**To validate predictions**"
      ]
    },
    {
      "cell_type": "code",
      "execution_count": null,
      "id": "adbd0d3d",
      "metadata": {
        "id": "adbd0d3d"
      },
      "outputs": [],
      "source": [
        "tru.get_ys_pred()"
      ]
    },
    {
      "cell_type": "markdown",
      "id": "184ec06f",
      "metadata": {
        "id": "184ec06f"
      },
      "source": [
        "**To validate label data**"
      ]
    },
    {
      "cell_type": "code",
      "execution_count": null,
      "id": "7627151c",
      "metadata": {
        "id": "7627151c"
      },
      "outputs": [],
      "source": [
        "tru.get_ys()"
      ]
    }
  ],
  "metadata": {
    "colab": {
      "collapsed_sections": [
        "1725a826"
      ],
      "provenance": []
    },
    "kernelspec": {
      "display_name": "Python 3.10.9 ('saas_beta')",
      "language": "python",
      "name": "python3"
    },
    "language_info": {
      "codemirror_mode": {
        "name": "ipython",
        "version": 3
      },
      "file_extension": ".py",
      "mimetype": "text/x-python",
      "name": "python",
      "nbconvert_exporter": "python",
      "pygments_lexer": "ipython3",
      "version": "3.10.9"
    },
    "vscode": {
      "interpreter": {
        "hash": "a53dfad853815555b563d82cb8f5d9b44384e2ca3d6c65e7ac9afe262606d66d"
      }
    }
  },
  "nbformat": 4,
  "nbformat_minor": 5
}

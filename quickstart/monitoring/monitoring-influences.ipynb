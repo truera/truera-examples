{
 "cells": [
  {
   "cell_type": "markdown",
   "id": "20568313-6a99-4909-bdd5-2a47e417f16d",
   "metadata": {},
   "source": [
    "# Monitoring: Computing and Ingesting Feature Influences"
   ]
  },
  {
   "cell_type": "markdown",
   "id": "bcd33197-13f5-4167-8789-2d36513de5e1",
   "metadata": {},
   "source": [
    "In this notebook, we will show how to compute and ingest feature influences in monitoring. We assume you have some familiarity from going through other quickstarts and have the [TruEra Python SDK](https://pypi.org/project/truera/) installed."
   ]
  },
  {
   "cell_type": "markdown",
   "id": "f65ae9d6-c66e-4fc3-a5c0-bad11ad658e4",
   "metadata": {},
   "source": [
    "### Step 1: Connect to TruEra"
   ]
  },
  {
   "cell_type": "code",
   "execution_count": 1,
   "id": "ec0409d7-3ec7-4a78-8c6b-114208fbe7af",
   "metadata": {},
   "outputs": [],
   "source": [
    "TRUERA_URL = \"https://app.truera.net/\"\n",
    "AUTH_TOKEN = \"<replace with your token>\""
   ]
  },
  {
   "cell_type": "code",
   "execution_count": 3,
   "id": "d54213f3-f13f-4bfe-80b0-551e6d524254",
   "metadata": {},
   "outputs": [
    {
     "name": "stderr",
     "output_type": "stream",
     "text": [
      "INFO:truera.client.remote_truera_workspace:Connecting to 'https://app-stg.truera.net'\n"
     ]
    }
   ],
   "source": [
    "from truera.client.truera_workspace import TrueraWorkspace\n",
    "from truera.client.truera_authentication import TokenAuthentication\n",
    "\n",
    "auth = TokenAuthentication(AUTH_TOKEN)\n",
    "tru = TrueraWorkspace(TRUERA_URL, auth, ignore_version_mismatch=True)"
   ]
  },
  {
   "cell_type": "markdown",
   "id": "0fdfc69e-085f-4470-8092-69e5229e21f4",
   "metadata": {},
   "source": [
    "### Step 2: Create a project and data collection"
   ]
  },
  {
   "cell_type": "code",
   "execution_count": 5,
   "id": "2563a245-31bd-498a-a1e1-b5096c31877c",
   "metadata": {},
   "outputs": [],
   "source": [
    "# adding project\n",
    "project_name = \"PROJECT_NAME\" # Replace this with a project name of choice. \n",
    "if project_name not in tru.get_projects():\n",
    "    tru.add_project(project=project_name, score_type=\"regression\")\n",
    "else:\n",
    "    tru.set_project(project_name)"
   ]
  },
  {
   "cell_type": "code",
   "execution_count": 6,
   "id": "298d361d-55cf-480e-87eb-276cc74d144f",
   "metadata": {},
   "outputs": [],
   "source": [
    "# Add data collection.\n",
    "data_collection_name = \"dc1\"\n",
    "if data_collection_name not in tru.get_data_collections():\n",
    "    tru.add_data_collection(data_collection_name=data_collection_name)\n",
    "else:\n",
    "    tru.set_data_collection(data_collection_name)"
   ]
  },
  {
   "cell_type": "markdown",
   "id": "76425f37-a9fb-4601-832d-72a000324bc0",
   "metadata": {},
   "source": [
    "### Step 3: Train Model (Optional)\n",
    "\n",
    "In order to compute feature influences, we need to have the model object ingested into TruEra. If you already have a trained model ready, skip this step. For this notebook, we will train a XGBoost model.\n"
   ]
  },
  {
   "cell_type": "code",
   "execution_count": 7,
   "id": "41e66d4c-5162-401a-b4cc-5eca05599aec",
   "metadata": {},
   "outputs": [],
   "source": [
    "from xgboost import XGBRegressor\n",
    "import pandas as pd\n",
    "import numpy as np\n",
    "from sklearn.datasets import fetch_california_housing\n",
    "\n",
    "data_bunch = fetch_california_housing()\n",
    "\n",
    "XS_TRAIN = pd.DataFrame(data=data_bunch[\"data\"], columns=data_bunch[\"feature_names\"])\n",
    "YS_TRAIN = pd.DataFrame(data_bunch[\"target\"], columns=[\"label\"])\n",
    "\n",
    "model = XGBRegressor().fit(XS_TRAIN, YS_TRAIN)"
   ]
  },
  {
   "cell_type": "markdown",
   "id": "c99255fd-f378-4576-9875-ebc7c22792ce",
   "metadata": {},
   "source": [
    "### Step 4: Ingest Model"
   ]
  },
  {
   "cell_type": "code",
   "execution_count": 8,
   "id": "e0b3919b-b8c0-4280-9fdf-c87a369a0f65",
   "metadata": {},
   "outputs": [
    {
     "name": "stderr",
     "output_type": "stream",
     "text": [
      "INFO:truera.client.remote_truera_workspace:Uploading xgboost model: XGBRegressor\n",
      "INFO:truera.client.remote_truera_workspace:Verifying model...\n",
      "INFO:truera.client.remote_truera_workspace:✔️ Verified packaged model format.\n",
      "INFO:truera.client.remote_truera_workspace:✔️ Loaded model in current environment.\n",
      "INFO:truera.client.remote_truera_workspace:❔ Skipping test model check, as no data splits exist in this data collection.\n"
     ]
    },
    {
     "name": "stdout",
     "output_type": "stream",
     "text": [
      "Uploading conda.yaml (207.0B) -- ### -- file upload complete.\n",
      "Uploading MLmodel (218.0B) -- ### -- file upload complete.\n",
      "Uploading tmp3f04wojk.json (599.0KiB) -- ### -- file upload complete.\n",
      "Uploading xgboost_regression_predict_wrapper.py (459.0B) -- ### -- file upload complete.\n",
      "Uploading xgboost_regression_predict_wrapper.cpython-310.pyc (1.1KiB) -- ### -- file upload complete.\n",
      "Put resource done.\n"
     ]
    },
    {
     "name": "stderr",
     "output_type": "stream",
     "text": [
      "INFO:truera.client.remote_truera_workspace:Model \"xgb_model\" is added and associated with data collection \"dc1\". \"xgb_model\" is set as the model for the workspace context.\n"
     ]
    },
    {
     "name": "stdout",
     "output_type": "stream",
     "text": [
      "Model uploaded to: https://app-stg.truera.net/home/p/PROJECT_NAME/m/xgb_model/\n"
     ]
    },
    {
     "name": "stderr",
     "output_type": "stream",
     "text": [
      "WARNING:truera.client.remote_truera_workspace:This remote deployment does not support auto-triggering of any computations. You should upload the predictions and/or influences along with split data for further analysis.\n"
     ]
    }
   ],
   "source": [
    "tru.add_python_model(\"xgb_model\", model)"
   ]
  },
  {
   "cell_type": "markdown",
   "id": "0347046f-4077-4510-89d8-0afff8d29691",
   "metadata": {},
   "source": [
    "### Step 5: Create and set a background data split\n",
    "\n",
    "In order to compute feature influences, we need a background data split to compute against. In this notebook, we will use the data that the model was trained on."
   ]
  },
  {
   "cell_type": "code",
   "execution_count": 9,
   "id": "e4d96ecd-8276-455b-ad35-ccbd706a122f",
   "metadata": {},
   "outputs": [],
   "source": [
    "background_data = XS_TRAIN.merge(YS_TRAIN, left_index=True, right_index=True).reset_index(names=\"id\")"
   ]
  },
  {
   "cell_type": "code",
   "execution_count": 10,
   "id": "14eaa61b-9113-44e8-abb9-1b9ca7e9cc39",
   "metadata": {},
   "outputs": [
    {
     "name": "stdout",
     "output_type": "stream",
     "text": [
      "Uploading tmp28ox9jyn.parquet (919.4KiB) -- ### -- file upload complete.\n",
      "Put resource done.\n"
     ]
    },
    {
     "name": "stderr",
     "output_type": "stream",
     "text": [
      "INFO:truera.client.remote_truera_workspace:Waiting for data split to materialize...\n",
      "INFO:truera.client.remote_truera_workspace:Materialize operation id: 6e81b52e-bb3f-4815-b915-53fffe6be77c finished with status: SUCCEEDED.\n"
     ]
    }
   ],
   "source": [
    "from truera.client.ingestion import ColumnSpec\n",
    "\n",
    "# Ingest data\n",
    "background_data = XS_TRAIN.merge(YS_TRAIN, left_index=True, right_index=True).reset_index(names=\"id\")\n",
    "tru.add_data(\n",
    "    data=background_data,\n",
    "    data_split_name=\"background_data_split\",\n",
    "    column_spec=ColumnSpec(\n",
    "        id_col_name=\"id\",\n",
    "        pre_data_col_names=XS_TRAIN.columns.to_list(),\n",
    "        label_col_names=YS_TRAIN.columns.to_list()\n",
    "    )\n",
    ")"
   ]
  },
  {
   "cell_type": "code",
   "execution_count": 11,
   "id": "02a5456b-9bca-4656-ac81-dbad07000368",
   "metadata": {},
   "outputs": [],
   "source": [
    "# Set a background data split for influences\n",
    "tru.set_influences_background_data_split(\"background_data_split\")"
   ]
  },
  {
   "cell_type": "markdown",
   "id": "ff6027d7-db3e-46dc-ae2a-1ebdb7123a28",
   "metadata": {},
   "source": [
    "### Step 6: Ingest production data"
   ]
  },
  {
   "cell_type": "code",
   "execution_count": 12,
   "id": "aed34506-8551-42e6-a5a8-694d55d4ebbf",
   "metadata": {},
   "outputs": [],
   "source": [
    "XS_PROD = pd.DataFrame(data=data_bunch[\"data\"], columns=data_bunch[\"feature_names\"])\n",
    "YS_PROD = pd.DataFrame(data_bunch[\"target\"], columns=[\"label\"])"
   ]
  },
  {
   "cell_type": "code",
   "execution_count": 13,
   "id": "532a7a00-1c37-4cf3-9b03-0b14d62d876d",
   "metadata": {},
   "outputs": [],
   "source": [
    "from datetime import datetime\n",
    "timestamp = datetime.utcnow()\n",
    "\n",
    "prod_data = XS_PROD.merge(YS_PROD, left_index=True, right_index=True)\n",
    "prod_data[\"predictions\"] = model.predict(XS_PROD)\n",
    "prod_data[\"timestamp\"] = timestamp\n",
    "prod_data.reset_index(names=\"id\", inplace=True)"
   ]
  },
  {
   "cell_type": "code",
   "execution_count": 14,
   "id": "c72f84cc-770e-43da-b509-9efbfde1593c",
   "metadata": {},
   "outputs": [
    {
     "name": "stderr",
     "output_type": "stream",
     "text": [
      "INFO:truera.client.remote_truera_workspace:`model_output_context` will be inferred as it was not provided.\n",
      "INFO:truera.client.remote_truera_workspace:Inferred ModelOutputContext: ModelOutputContext(model_name='xgb_model', score_type='regression', background_split_name='', influence_type='')\n"
     ]
    },
    {
     "name": "stdout",
     "output_type": "stream",
     "text": [
      "Uploading tmpc4o7r_aq.parquet (1.0MiB) -- ### -- file upload complete.\n",
      "Put resource done.\n"
     ]
    },
    {
     "name": "stderr",
     "output_type": "stream",
     "text": [
      "INFO:truera.client.remote_truera_workspace:Waiting for data split to materialize...\n",
      "INFO:truera.client.remote_truera_workspace:Materialize operation id: 46ec3bb6-f3be-46fa-be0a-456a7604973b finished with status: SUCCEEDED.\n"
     ]
    }
   ],
   "source": [
    "tru.add_production_data(\n",
    "    prod_data,\n",
    "    column_spec=ColumnSpec(\n",
    "        id_col_name=\"id\",\n",
    "        timestamp_col_name=\"timestamp\",\n",
    "        pre_data_col_names=XS_PROD.columns.to_list(),\n",
    "        label_col_names=YS_PROD.columns.to_list(),\n",
    "        prediction_col_names=\"predictions\"\n",
    "    )\n",
    ")"
   ]
  },
  {
   "cell_type": "code",
   "execution_count": 15,
   "id": "113e24a9-3209-4a9a-a809-af1781b37675",
   "metadata": {},
   "outputs": [
    {
     "data": {
      "text/html": [
       "<div>\n",
       "<style scoped>\n",
       "    .dataframe tbody tr th:only-of-type {\n",
       "        vertical-align: middle;\n",
       "    }\n",
       "\n",
       "    .dataframe tbody tr th {\n",
       "        vertical-align: top;\n",
       "    }\n",
       "\n",
       "    .dataframe thead th {\n",
       "        text-align: right;\n",
       "    }\n",
       "</style>\n",
       "<table border=\"1\" class=\"dataframe\">\n",
       "  <thead>\n",
       "    <tr style=\"text-align: right;\">\n",
       "      <th></th>\n",
       "      <th>MedInc</th>\n",
       "      <th>HouseAge</th>\n",
       "      <th>AveRooms</th>\n",
       "      <th>AveBedrms</th>\n",
       "      <th>Population</th>\n",
       "      <th>AveOccup</th>\n",
       "      <th>Latitude</th>\n",
       "      <th>Longitude</th>\n",
       "      <th>__truera_timestamp__</th>\n",
       "    </tr>\n",
       "  </thead>\n",
       "  <tbody>\n",
       "    <tr>\n",
       "      <th>5329</th>\n",
       "      <td>2.6509</td>\n",
       "      <td>25.0</td>\n",
       "      <td>3.742950</td>\n",
       "      <td>1.159436</td>\n",
       "      <td>3136.0</td>\n",
       "      <td>1.700651</td>\n",
       "      <td>34.049999</td>\n",
       "      <td>-118.459999</td>\n",
       "      <td>2023-09-22 19:54:11</td>\n",
       "    </tr>\n",
       "    <tr>\n",
       "      <th>1970</th>\n",
       "      <td>4.0197</td>\n",
       "      <td>10.0</td>\n",
       "      <td>6.845820</td>\n",
       "      <td>1.248643</td>\n",
       "      <td>2597.0</td>\n",
       "      <td>2.819761</td>\n",
       "      <td>38.709999</td>\n",
       "      <td>-120.620003</td>\n",
       "      <td>2023-09-22 19:54:11</td>\n",
       "    </tr>\n",
       "    <tr>\n",
       "      <th>20074</th>\n",
       "      <td>4.0583</td>\n",
       "      <td>17.0</td>\n",
       "      <td>6.404255</td>\n",
       "      <td>2.000000</td>\n",
       "      <td>122.0</td>\n",
       "      <td>2.595745</td>\n",
       "      <td>38.130001</td>\n",
       "      <td>-120.260002</td>\n",
       "      <td>2023-09-22 19:54:11</td>\n",
       "    </tr>\n",
       "    <tr>\n",
       "      <th>18829</th>\n",
       "      <td>2.7222</td>\n",
       "      <td>25.0</td>\n",
       "      <td>5.528302</td>\n",
       "      <td>1.254717</td>\n",
       "      <td>1117.0</td>\n",
       "      <td>2.634434</td>\n",
       "      <td>41.860001</td>\n",
       "      <td>-123.260002</td>\n",
       "      <td>2023-09-22 19:54:11</td>\n",
       "    </tr>\n",
       "    <tr>\n",
       "      <th>9700</th>\n",
       "      <td>2.5329</td>\n",
       "      <td>31.0</td>\n",
       "      <td>4.055639</td>\n",
       "      <td>1.037594</td>\n",
       "      <td>2220.0</td>\n",
       "      <td>3.338346</td>\n",
       "      <td>36.669998</td>\n",
       "      <td>-121.620003</td>\n",
       "      <td>2023-09-22 19:54:11</td>\n",
       "    </tr>\n",
       "    <tr>\n",
       "      <th>4612</th>\n",
       "      <td>1.6406</td>\n",
       "      <td>22.0</td>\n",
       "      <td>1.885057</td>\n",
       "      <td>1.030651</td>\n",
       "      <td>634.0</td>\n",
       "      <td>2.429119</td>\n",
       "      <td>34.070000</td>\n",
       "      <td>-118.290001</td>\n",
       "      <td>2023-09-22 19:54:11</td>\n",
       "    </tr>\n",
       "    <tr>\n",
       "      <th>6095</th>\n",
       "      <td>4.0417</td>\n",
       "      <td>34.0</td>\n",
       "      <td>6.080000</td>\n",
       "      <td>1.100000</td>\n",
       "      <td>522.0</td>\n",
       "      <td>3.480000</td>\n",
       "      <td>34.119999</td>\n",
       "      <td>-117.879997</td>\n",
       "      <td>2023-09-22 19:54:11</td>\n",
       "    </tr>\n",
       "    <tr>\n",
       "      <th>11610</th>\n",
       "      <td>6.6264</td>\n",
       "      <td>25.0</td>\n",
       "      <td>7.226994</td>\n",
       "      <td>1.012270</td>\n",
       "      <td>937.0</td>\n",
       "      <td>2.874233</td>\n",
       "      <td>33.779999</td>\n",
       "      <td>-118.050003</td>\n",
       "      <td>2023-09-22 19:54:11</td>\n",
       "    </tr>\n",
       "    <tr>\n",
       "      <th>16774</th>\n",
       "      <td>3.4375</td>\n",
       "      <td>26.0</td>\n",
       "      <td>3.910909</td>\n",
       "      <td>1.022727</td>\n",
       "      <td>3320.0</td>\n",
       "      <td>3.018182</td>\n",
       "      <td>37.689999</td>\n",
       "      <td>-122.459999</td>\n",
       "      <td>2023-09-22 19:54:11</td>\n",
       "    </tr>\n",
       "    <tr>\n",
       "      <th>4897</th>\n",
       "      <td>2.1466</td>\n",
       "      <td>31.0</td>\n",
       "      <td>3.450928</td>\n",
       "      <td>1.068966</td>\n",
       "      <td>1952.0</td>\n",
       "      <td>5.177719</td>\n",
       "      <td>34.009998</td>\n",
       "      <td>-118.250000</td>\n",
       "      <td>2023-09-22 19:54:11</td>\n",
       "    </tr>\n",
       "  </tbody>\n",
       "</table>\n",
       "</div>"
      ],
      "text/plain": [
       "       MedInc  HouseAge  AveRooms  AveBedrms  Population  AveOccup   Latitude  \\\n",
       "5329   2.6509      25.0  3.742950   1.159436      3136.0  1.700651  34.049999   \n",
       "1970   4.0197      10.0  6.845820   1.248643      2597.0  2.819761  38.709999   \n",
       "20074  4.0583      17.0  6.404255   2.000000       122.0  2.595745  38.130001   \n",
       "18829  2.7222      25.0  5.528302   1.254717      1117.0  2.634434  41.860001   \n",
       "9700   2.5329      31.0  4.055639   1.037594      2220.0  3.338346  36.669998   \n",
       "4612   1.6406      22.0  1.885057   1.030651       634.0  2.429119  34.070000   \n",
       "6095   4.0417      34.0  6.080000   1.100000       522.0  3.480000  34.119999   \n",
       "11610  6.6264      25.0  7.226994   1.012270       937.0  2.874233  33.779999   \n",
       "16774  3.4375      26.0  3.910909   1.022727      3320.0  3.018182  37.689999   \n",
       "4897   2.1466      31.0  3.450928   1.068966      1952.0  5.177719  34.009998   \n",
       "\n",
       "        Longitude __truera_timestamp__  \n",
       "5329  -118.459999  2023-09-22 19:54:11  \n",
       "1970  -120.620003  2023-09-22 19:54:11  \n",
       "20074 -120.260002  2023-09-22 19:54:11  \n",
       "18829 -123.260002  2023-09-22 19:54:11  \n",
       "9700  -121.620003  2023-09-22 19:54:11  \n",
       "4612  -118.290001  2023-09-22 19:54:11  \n",
       "6095  -117.879997  2023-09-22 19:54:11  \n",
       "11610 -118.050003  2023-09-22 19:54:11  \n",
       "16774 -122.459999  2023-09-22 19:54:11  \n",
       "4897  -118.250000  2023-09-22 19:54:11  "
      ]
     },
     "execution_count": 15,
     "metadata": {},
     "output_type": "execute_result"
    }
   ],
   "source": [
    "# Verify ingestion\n",
    "tru.get_xs(0, 10, system_data=True)"
   ]
  },
  {
   "cell_type": "markdown",
   "id": "4c9b1c1e-8667-4a6f-a104-2f1feb60d3be",
   "metadata": {},
   "source": [
    "### Step 7: Compute feature influences on production data"
   ]
  },
  {
   "cell_type": "code",
   "execution_count": 16,
   "id": "c4452b71-00ae-4d14-8620-e83ba45bd687",
   "metadata": {},
   "outputs": [],
   "source": [
    "# Retrieve a subset of production data\n",
    "prod_xs = tru.get_xs(0, 1000)"
   ]
  },
  {
   "cell_type": "code",
   "execution_count": 17,
   "id": "5a354efb-6184-4c35-a1b8-ead56151a15c",
   "metadata": {},
   "outputs": [
    {
     "name": "stderr",
     "output_type": "stream",
     "text": [
      "WARNING:truera.client.truera_workspace:`download_project()` is being deprecated. Please use remote environments instead.\n",
      "INFO:truera.client.truera_workspace:Download temp_dir: /tmp/tmpdttynqwj\n",
      "INFO:truera.client.truera_workspace:Syncing data collection \"dc1\" to local.\n",
      "INFO:truera.client.local.local_truera_workspace:Data collection in local environment is now set to \"dc1\". \n",
      "INFO:truera.client.truera_workspace:Syncing data split \"background_data_split\" to local.\n",
      "INFO:truera.client.local.local_truera_workspace:Data split \"background_data_split\" is added to local data collection \"dc1\", and set as the data split for the workspace context.\n",
      "INFO:truera.client.truera_workspace:Downloading model xgb_model...\n",
      "INFO:truera.client.truera_workspace:Syncing segments groups from remote to local.\n",
      "INFO:truera.client.local.local_truera_workspace:The previous data collection (\"dc1\") and its associated data splits and/or models have been cleared from the local environment workspace context.\n",
      "INFO:truera.client.local.local_truera_workspace:Data collection in local environment is now set to \"dc1\". \n"
     ]
    }
   ],
   "source": [
    "tru.set_data_split(\"background_data_split\")"
   ]
  },
  {
   "cell_type": "code",
   "execution_count": 18,
   "id": "ddd97edd-fc72-4131-942f-313231db21d3",
   "metadata": {},
   "outputs": [
    {
     "data": {
      "application/vnd.jupyter.widget-view+json": {
       "model_id": "",
       "version_major": 2,
       "version_minor": 0
      },
      "text/plain": [
       "|          | 0.000% [00:00<?]"
      ]
     },
     "metadata": {},
     "output_type": "display_data"
    }
   ],
   "source": [
    "INFLUENCES_PROD = tru.compute_feature_influences_for_data(prod_xs)"
   ]
  },
  {
   "cell_type": "code",
   "execution_count": 19,
   "id": "3689a7b7-d29a-4265-bab2-ddc4ba57925d",
   "metadata": {},
   "outputs": [
    {
     "data": {
      "text/html": [
       "<div>\n",
       "<style scoped>\n",
       "    .dataframe tbody tr th:only-of-type {\n",
       "        vertical-align: middle;\n",
       "    }\n",
       "\n",
       "    .dataframe tbody tr th {\n",
       "        vertical-align: top;\n",
       "    }\n",
       "\n",
       "    .dataframe thead th {\n",
       "        text-align: right;\n",
       "    }\n",
       "</style>\n",
       "<table border=\"1\" class=\"dataframe\">\n",
       "  <thead>\n",
       "    <tr style=\"text-align: right;\">\n",
       "      <th></th>\n",
       "      <th>MedInc</th>\n",
       "      <th>HouseAge</th>\n",
       "      <th>AveRooms</th>\n",
       "      <th>AveBedrms</th>\n",
       "      <th>Population</th>\n",
       "      <th>AveOccup</th>\n",
       "      <th>Latitude</th>\n",
       "      <th>Longitude</th>\n",
       "    </tr>\n",
       "  </thead>\n",
       "  <tbody>\n",
       "    <tr>\n",
       "      <th>5329</th>\n",
       "      <td>-0.308769</td>\n",
       "      <td>0.023874</td>\n",
       "      <td>-0.198069</td>\n",
       "      <td>0.028406</td>\n",
       "      <td>-0.042587</td>\n",
       "      <td>0.425318</td>\n",
       "      <td>1.054309</td>\n",
       "      <td>0.476623</td>\n",
       "    </tr>\n",
       "    <tr>\n",
       "      <th>1970</th>\n",
       "      <td>-0.109728</td>\n",
       "      <td>0.023297</td>\n",
       "      <td>0.248250</td>\n",
       "      <td>-0.118971</td>\n",
       "      <td>-0.017163</td>\n",
       "      <td>-0.029630</td>\n",
       "      <td>-0.879800</td>\n",
       "      <td>0.203722</td>\n",
       "    </tr>\n",
       "    <tr>\n",
       "      <th>20074</th>\n",
       "      <td>-0.075011</td>\n",
       "      <td>0.041535</td>\n",
       "      <td>0.047804</td>\n",
       "      <td>-0.111241</td>\n",
       "      <td>-0.061263</td>\n",
       "      <td>-0.006103</td>\n",
       "      <td>-1.178181</td>\n",
       "      <td>0.300355</td>\n",
       "    </tr>\n",
       "    <tr>\n",
       "      <th>18829</th>\n",
       "      <td>-0.336528</td>\n",
       "      <td>-0.009431</td>\n",
       "      <td>-0.045018</td>\n",
       "      <td>-0.041373</td>\n",
       "      <td>-0.010003</td>\n",
       "      <td>-0.007644</td>\n",
       "      <td>-1.778821</td>\n",
       "      <td>0.960855</td>\n",
       "    </tr>\n",
       "    <tr>\n",
       "      <th>9700</th>\n",
       "      <td>-0.283829</td>\n",
       "      <td>0.018434</td>\n",
       "      <td>-0.165362</td>\n",
       "      <td>-0.012819</td>\n",
       "      <td>0.011688</td>\n",
       "      <td>-0.175731</td>\n",
       "      <td>-0.635661</td>\n",
       "      <td>0.460185</td>\n",
       "    </tr>\n",
       "    <tr>\n",
       "      <th>...</th>\n",
       "      <td>...</td>\n",
       "      <td>...</td>\n",
       "      <td>...</td>\n",
       "      <td>...</td>\n",
       "      <td>...</td>\n",
       "      <td>...</td>\n",
       "      <td>...</td>\n",
       "      <td>...</td>\n",
       "    </tr>\n",
       "    <tr>\n",
       "      <th>14746</th>\n",
       "      <td>-0.022791</td>\n",
       "      <td>0.012517</td>\n",
       "      <td>0.028641</td>\n",
       "      <td>0.013745</td>\n",
       "      <td>-0.009560</td>\n",
       "      <td>-0.376938</td>\n",
       "      <td>1.149124</td>\n",
       "      <td>-1.537508</td>\n",
       "    </tr>\n",
       "    <tr>\n",
       "      <th>18075</th>\n",
       "      <td>1.484543</td>\n",
       "      <td>0.082001</td>\n",
       "      <td>0.397349</td>\n",
       "      <td>-0.014108</td>\n",
       "      <td>0.026615</td>\n",
       "      <td>0.079297</td>\n",
       "      <td>-0.281407</td>\n",
       "      <td>1.081445</td>\n",
       "    </tr>\n",
       "    <tr>\n",
       "      <th>13463</th>\n",
       "      <td>-0.069285</td>\n",
       "      <td>0.005235</td>\n",
       "      <td>0.025997</td>\n",
       "      <td>0.001135</td>\n",
       "      <td>-0.005201</td>\n",
       "      <td>-0.235176</td>\n",
       "      <td>0.362228</td>\n",
       "      <td>-1.118061</td>\n",
       "    </tr>\n",
       "    <tr>\n",
       "      <th>15101</th>\n",
       "      <td>-0.235256</td>\n",
       "      <td>-0.073188</td>\n",
       "      <td>-0.091429</td>\n",
       "      <td>-0.006136</td>\n",
       "      <td>-0.014288</td>\n",
       "      <td>0.066581</td>\n",
       "      <td>1.151131</td>\n",
       "      <td>-1.369775</td>\n",
       "    </tr>\n",
       "    <tr>\n",
       "      <th>9361</th>\n",
       "      <td>1.471309</td>\n",
       "      <td>0.062276</td>\n",
       "      <td>0.317776</td>\n",
       "      <td>-0.017109</td>\n",
       "      <td>0.031014</td>\n",
       "      <td>0.073803</td>\n",
       "      <td>-0.604799</td>\n",
       "      <td>1.408036</td>\n",
       "    </tr>\n",
       "  </tbody>\n",
       "</table>\n",
       "<p>1000 rows × 8 columns</p>\n",
       "</div>"
      ],
      "text/plain": [
       "         MedInc  HouseAge  AveRooms  AveBedrms  Population  AveOccup  \\\n",
       "5329  -0.308769  0.023874 -0.198069   0.028406   -0.042587  0.425318   \n",
       "1970  -0.109728  0.023297  0.248250  -0.118971   -0.017163 -0.029630   \n",
       "20074 -0.075011  0.041535  0.047804  -0.111241   -0.061263 -0.006103   \n",
       "18829 -0.336528 -0.009431 -0.045018  -0.041373   -0.010003 -0.007644   \n",
       "9700  -0.283829  0.018434 -0.165362  -0.012819    0.011688 -0.175731   \n",
       "...         ...       ...       ...        ...         ...       ...   \n",
       "14746 -0.022791  0.012517  0.028641   0.013745   -0.009560 -0.376938   \n",
       "18075  1.484543  0.082001  0.397349  -0.014108    0.026615  0.079297   \n",
       "13463 -0.069285  0.005235  0.025997   0.001135   -0.005201 -0.235176   \n",
       "15101 -0.235256 -0.073188 -0.091429  -0.006136   -0.014288  0.066581   \n",
       "9361   1.471309  0.062276  0.317776  -0.017109    0.031014  0.073803   \n",
       "\n",
       "       Latitude  Longitude  \n",
       "5329   1.054309   0.476623  \n",
       "1970  -0.879800   0.203722  \n",
       "20074 -1.178181   0.300355  \n",
       "18829 -1.778821   0.960855  \n",
       "9700  -0.635661   0.460185  \n",
       "...         ...        ...  \n",
       "14746  1.149124  -1.537508  \n",
       "18075 -0.281407   1.081445  \n",
       "13463  0.362228  -1.118061  \n",
       "15101  1.151131  -1.369775  \n",
       "9361  -0.604799   1.408036  \n",
       "\n",
       "[1000 rows x 8 columns]"
      ]
     },
     "execution_count": 19,
     "metadata": {},
     "output_type": "execute_result"
    }
   ],
   "source": [
    "INFLUENCES_PROD"
   ]
  },
  {
   "cell_type": "markdown",
   "id": "cd7a38ac-7492-4289-aa0a-265bce61d591",
   "metadata": {},
   "source": [
    "### Step 8: Ingest feature influences into production data"
   ]
  },
  {
   "cell_type": "code",
   "execution_count": 20,
   "id": "b37ffdef-0aa8-4885-be16-29d2aa75a63e",
   "metadata": {},
   "outputs": [
    {
     "name": "stderr",
     "output_type": "stream",
     "text": [
      "INFO:truera.client.remote_truera_workspace:`model_output_context` will be inferred as it was not provided.\n",
      "INFO:truera.client.remote_truera_workspace:Inferred ModelOutputContext: ModelOutputContext(model_name='xgb_model', score_type='regression', background_split_name='background_data_split', influence_type='truera-qii')\n"
     ]
    },
    {
     "name": "stdout",
     "output_type": "stream",
     "text": [
      "Uploading tmpk4x7pul4.parquet (85.7KiB) -- ### -- file upload complete.\n",
      "Put resource done.\n"
     ]
    },
    {
     "name": "stderr",
     "output_type": "stream",
     "text": [
      "INFO:truera.client.remote_truera_workspace:Waiting for data split to materialize...\n",
      "INFO:truera.client.remote_truera_workspace:Materialize operation id: 4bacf048-0880-4617-a2b8-75788ea00446 finished with status: SUCCEEDED.\n"
     ]
    }
   ],
   "source": [
    "influence_data = INFLUENCES_PROD.reset_index(names=\"id\")\n",
    "influence_data[\"timestamp\"] = timestamp\n",
    "\n",
    "tru.add_production_data(\n",
    "    data=influence_data,\n",
    "    column_spec = ColumnSpec(\n",
    "        id_col_name=\"id\",\n",
    "        timestamp_col_name=\"timestamp\",\n",
    "        feature_influence_col_names=INFLUENCES_PROD.columns.to_list()\n",
    "    )\n",
    ")"
   ]
  }
 ],
 "metadata": {
  "kernelspec": {
   "display_name": "Python 3 (ipykernel)",
   "language": "python",
   "name": "python3"
  },
  "language_info": {
   "codemirror_mode": {
    "name": "ipython",
    "version": 3
   },
   "file_extension": ".py",
   "mimetype": "text/x-python",
   "name": "python",
   "nbconvert_exporter": "python",
   "pygments_lexer": "ipython3",
   "version": "3.10.6"
  }
 },
 "nbformat": 4,
 "nbformat_minor": 5
}

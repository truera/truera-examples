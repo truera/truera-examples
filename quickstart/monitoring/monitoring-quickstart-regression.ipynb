{
 "cells": [
  {
   "cell_type": "code",
   "execution_count": null,
   "id": "c2093a1c",
   "metadata": {},
   "outputs": [],
   "source": [
    "import sys\n",
    "from datetime import datetime, timedelta\n",
    "from dateutil.relativedelta import relativedelta\n",
    "import pandas as pd\n",
    "import glob\n",
    "import os\n",
    "import pandas as pd\n",
    "import time\n",
    "from truera.client.truera_workspace import TrueraWorkspace\n",
    "from truera.client.truera_authentication import TokenAuthentication, BasicAuthentication\n",
    "from truera.client.ingestion import ColumnSpec"
   ]
  },
  {
   "cell_type": "markdown",
   "id": "fb556ff6",
   "metadata": {},
   "source": [
    "### 1. Connect to TruEra"
   ]
  },
  {
   "cell_type": "code",
   "execution_count": null,
   "id": "8dccc6f5",
   "metadata": {},
   "outputs": [],
   "source": [
    "# connection details\n",
    "TRUERA_URL = \"https://app.truera.net\"\n",
    "AUTH_TOKEN = \"XXXX\" # Replace with auth token as copied from TruEra"
   ]
  },
  {
   "cell_type": "markdown",
   "id": "20371662",
   "metadata": {},
   "source": [
    "### 2. Install Package"
   ]
  },
  {
   "cell_type": "markdown",
   "id": "085a4ded",
   "metadata": {},
   "source": [
    "#### Create TruEra Client"
   ]
  },
  {
   "cell_type": "code",
   "execution_count": null,
   "id": "fd156e00",
   "metadata": {},
   "outputs": [],
   "source": [
    "from truera.client.truera_workspace import TrueraWorkspace\n",
    "from truera.client.truera_authentication import TokenAuthentication\n",
    "\n",
    "auth = TokenAuthentication(AUTH_TOKEN)\n",
    "tru = TrueraWorkspace(TRUERA_URL, auth, ignore_version_mismatch=True)"
   ]
  },
  {
   "cell_type": "markdown",
   "id": "4ba3d826",
   "metadata": {},
   "source": [
    "### Step 3: Download and Process sample data"
   ]
  },
  {
   "cell_type": "code",
   "execution_count": null,
   "id": "252b4857",
   "metadata": {},
   "outputs": [],
   "source": [
    "date_format = '%Y-%m-%d %H:%M:%S'\n",
    "\n",
    "def process_csv(file_name):\n",
    "    df = pd.read_csv(file_name)\n",
    "    # Making sure that we've data starting from last 3 months. \n",
    "    start_time = datetime.now() - relativedelta(months=3)\n",
    "    \n",
    "    # Change the datatime in each row.\n",
    "    for df_idx in df.index:\n",
    "        start_time = start_time + timedelta(minutes=1)\n",
    "        timestamp = start_time.strftime(date_format)\n",
    "        df['timestamp'][df_idx] = timestamp\n",
    "    \n",
    "    for col_name,col_type in df.dtypes.items(): # cast all bools to str\n",
    "        if col_type == 'bool' and col_name not in [\"timestamp\"]:\n",
    "            df[col_name] = col_name + \"_\" + df[col_name].astype(\"string\") # add string prefix to prevent reading as object\n",
    "    df['id'] = \"id_\" + df[\"id\"].astype(\"string\") # add string prefix to prevent reading as object\n",
    "    df.drop([\"model\"], axis=\"columns\", inplace=True)\n",
    "    return df\n"
   ]
  },
  {
   "cell_type": "code",
   "execution_count": null,
   "id": "cec4c4c4",
   "metadata": {},
   "outputs": [],
   "source": [
    "import pandas as pd\n",
    "import numpy as np\n",
    "from itertools import combinations\n",
    "\n",
    "# common parameters & constants\n",
    "_ID_COLUMN_NAME = 'id'\n",
    "_TIMESTAMP_COLUMN_NAME = 'timestamp'\n",
    "_GENDER_COLUMN_NAME = 'gender'\n",
    "_LABEL_COLUMN_NAME = 'price'\n",
    "_PREDICTION_COLUMN_NAME = 'prediction'\n",
    "_EXTRA_COLUMN_NAME = 'lotAreaRaw'\n",
    "\n",
    "# prod data\n",
    "prod_data = process_csv(\"https://quickstart-sample-data.s3.us-west-2.amazonaws.com/housing-price-prediction/gb_prod.csv\")\n",
    "\n",
    "# If __id__ in the data, remove this. \n",
    "prod_data.rename(columns={'__id__': _ID_COLUMN_NAME}, inplace=True)"
   ]
  },
  {
   "cell_type": "code",
   "execution_count": null,
   "id": "9a0c58c2",
   "metadata": {},
   "outputs": [],
   "source": [
    "prod_data"
   ]
  },
  {
   "cell_type": "markdown",
   "id": "8deaf62e",
   "metadata": {},
   "source": [
    "### 4. Create Project"
   ]
  },
  {
   "cell_type": "code",
   "execution_count": null,
   "id": "09954913",
   "metadata": {},
   "outputs": [],
   "source": [
    "# adding project\n",
    "project_name = \"PROJECT_NAME_REGRESSION\" # Replace this with a project name of choice. \n",
    "if project_name not in tru.get_projects():\n",
    "    tru.add_project(project=project_name, score_type=\"regression\")\n",
    "else:\n",
    "    tru.set_project(project_name)"
   ]
  },
  {
   "cell_type": "markdown",
   "id": "66e65f4e",
   "metadata": {},
   "source": [
    "### 5. Add data collection and model"
   ]
  },
  {
   "cell_type": "code",
   "execution_count": null,
   "id": "e8f691af",
   "metadata": {},
   "outputs": [],
   "source": [
    "MODEL_NAME = \"lr\"\n",
    "\n",
    "data_collection_name = \"{}_dataset\".format(MODEL_NAME)\n",
    "\n",
    "# Add data collection.\n",
    "if data_collection_name not in tru.get_data_collections():\n",
    "    tru.add_data_collection(data_collection_name=data_collection_name)\n",
    "else:\n",
    "    tru.set_data_collection(data_collection_name)\n",
    "\n",
    "# Add models.\n",
    "if MODEL_NAME not in tru.get_models():\n",
    "    tru.add_model(MODEL_NAME)\n",
    "else:\n",
    "    tru.set_model(MODEL_NAME)"
   ]
  },
  {
   "cell_type": "markdown",
   "id": "b375bfac",
   "metadata": {},
   "source": [
    "### Step 5: Add production data"
   ]
  },
  {
   "cell_type": "code",
   "execution_count": null,
   "id": "3f0fdf08",
   "metadata": {},
   "outputs": [],
   "source": [
    "from typing import Sequence\n",
    "from truera.client.ingestion.util import ColumnSpec, ModelOutputContext\n",
    "\n",
    "def columns_excluding(df: pd.DataFrame, exclude_columns: Sequence[str]):\n",
    "    column_names = df.columns.tolist()\n",
    "    for column in exclude_columns:\n",
    "        if column in column_names:\n",
    "            column_names.remove(column)\n",
    "    return column_names\n",
    "\n",
    "pre_column_names = columns_excluding(\n",
    "            prod_data, [\n",
    "                _ID_COLUMN_NAME, _TIMESTAMP_COLUMN_NAME,\n",
    "                _PREDICTION_COLUMN_NAME, _LABEL_COLUMN_NAME\n",
    "            ]\n",
    "        )\n",
    "\n",
    "# Add prod data\n",
    "tru.add_production_data(\n",
    "                prod_data,\n",
    "                column_spec=ColumnSpec(\n",
    "                    id_col_name=_ID_COLUMN_NAME,\n",
    "                    pre_data_col_names=pre_column_names,\n",
    "                    label_col_names=[_LABEL_COLUMN_NAME],\n",
    "                    prediction_col_names=[_PREDICTION_COLUMN_NAME],\n",
    "                    timestamp_col_name=_TIMESTAMP_COLUMN_NAME\n",
    "                )\n",
    "            )"
   ]
  },
  {
   "cell_type": "markdown",
   "id": "3167b276",
   "metadata": {},
   "source": [
    "### Step 6: Create dahsboard"
   ]
  },
  {
   "cell_type": "markdown",
   "id": "3e55c738",
   "metadata": {},
   "source": [
    "You can head to URL: https://app.truera.net/home/monitoring to create the dashboard."
   ]
  },
  {
   "cell_type": "code",
   "execution_count": null,
   "id": "5859e570",
   "metadata": {},
   "outputs": [],
   "source": []
  }
 ],
 "metadata": {
  "kernelspec": {
   "display_name": "Python 3 (ipykernel)",
   "language": "python",
   "name": "python3"
  },
  "language_info": {
   "codemirror_mode": {
    "name": "ipython",
    "version": 3
   },
   "file_extension": ".py",
   "mimetype": "text/x-python",
   "name": "python",
   "nbconvert_exporter": "python",
   "pygments_lexer": "ipython3",
   "version": "3.9.15"
  }
 },
 "nbformat": 4,
 "nbformat_minor": 5
}

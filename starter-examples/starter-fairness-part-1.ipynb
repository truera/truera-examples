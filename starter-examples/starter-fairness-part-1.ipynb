{
  "cells": [
    {
      "cell_type": "markdown",
      "id": "88137095",
      "metadata": {
        "id": "88137095"
      },
      "source": [
        "# Guided Exercise: Fairness\n",
        "\n",
        "### Goals 🎯\n",
        "1. Train and ingest a credit-worthiness model\n",
        "2. Create a fairness test to evaluate its impact ratio.\n",
        "3. View the results of the fairness test.\n",
        "\n",
        "### First, set the credentials for your TruEra deployment.\n",
        "\n",
        "If you don't have credentials yet, get them by signing up for the free private beta: https://go.truera.com/diagnostics-free"
      ]
    },
    {
      "cell_type": "code",
      "execution_count": null,
      "id": "4299bbe9",
      "metadata": {
        "id": "4299bbe9"
      },
      "outputs": [],
      "source": [
        "#connection details\n",
        "CONNECTION_STRING = \"\"\n",
        "AUTH_TOKEN = \"\""
      ]
    },
    {
      "cell_type": "markdown",
      "id": "ce855c64",
      "metadata": {
        "id": "ce855c64"
      },
      "source": [
        "### Install required packages"
      ]
    },
    {
      "cell_type": "code",
      "execution_count": null,
      "id": "0249eada",
      "metadata": {},
      "outputs": [],
      "source": [
        "! pip install --upgrade shap\n",
        "! pip install --upgrade truera"
      ]
    },
    {
      "cell_type": "markdown",
      "id": "3f5e86b1",
      "metadata": {
        "id": "3f5e86b1"
      },
      "source": [
        "### From here, you can run the rest of the notebook to follow the analysis."
      ]
    },
    {
      "cell_type": "code",
      "execution_count": null,
      "id": "52a0de28",
      "metadata": {
        "id": "52a0de28"
      },
      "outputs": [],
      "source": [
        "import pandas as pd\n",
        "import xgboost as xgb\n",
        "from sklearn import preprocessing\n",
        "import sklearn.metrics\n",
        "from sklearn.utils import resample\n",
        "import logging\n",
        "\n",
        "from truera.client.truera_workspace import TrueraWorkspace\n",
        "from truera.client.truera_authentication import TokenAuthentication\n",
        "\n",
        "auth = TokenAuthentication(AUTH_TOKEN)\n",
        "tru = TrueraWorkspace(CONNECTION_STRING, auth, ignore_version_mismatch=True, log_level=logging.ERROR)\n",
        "\n",
        "# set our environmetn to local compute so we can compute predictions and feature influences on our local machine\n",
        "tru.set_environment(\"local\")\n",
        "# note: we'll periodically toggle between local and remote so we can interact with our remote deployment as well."
      ]
    },
    {
      "cell_type": "code",
      "execution_count": null,
      "id": "cb2220c2",
      "metadata": {
        "id": "cb2220c2"
      },
      "outputs": [],
      "source": [
        "from smart_open import open\n",
        "\n",
        "data_s3_file_name = \"https://truera-examples.s3.us-west-2.amazonaws.com/data/starter-fairness/starter-fairness-data.pickle\"\n",
        "with open(data_s3_file_name, 'rb') as f:\n",
        "   data = pd.read_pickle(f)\n",
        "\n",
        "feature_map_s3_file_name = \"https://truera-examples.s3.us-west-2.amazonaws.com/data/starter-fairness/starter-fairness-feature-map.pickle\"\n",
        "with open(feature_map_s3_file_name, 'rb') as f:\n",
        "   feature_map = pd.read_pickle(f)"
      ]
    },
    {
      "cell_type": "code",
      "execution_count": null,
      "id": "22aac77a",
      "metadata": {
        "id": "22aac77a"
      },
      "outputs": [],
      "source": [
        "# create the first project and data collection\n",
        "tru.set_environment(\"local\")\n",
        "project_name = \"Starter Example - Fairness\"\n",
        "tru.add_project(project_name, score_type = \"probits\")\n",
        "\n",
        "tru.add_data_collection(\"Data Collection v1\",\n",
        "                        pre_to_post_feature_map = feature_map,\n",
        "                        provide_transform_with_model = False)\n",
        "\n",
        "# add data splits to the collection we just created\n",
        "year_begin = 2014\n",
        "year_end = 2016 # exclusive\n",
        "states = ['CA', 'NY']\n",
        "first_iteration = True\n",
        "\n",
        "for year in range(year_begin, year_end):\n",
        "    for state in states:\n",
        "        tru.add_data_split(f'{year}-{state}', pre_data = data[year][state]['data_preprocessed'],\n",
        "                            post_data = data[year][state]['data_postprocessed'],\n",
        "                            label_data = data[year][state]['label'],\n",
        "                            extra_data_df = data[year][state]['extra_data'],\n",
        "                            split_type = \"all\")\n",
        "                            \n",
        "        if first_iteration:\n",
        "            tru.add_segment_group(\"Sex\", {\"Male\": \"Sex == 'Male'\", \"Female\": \"Sex == 'Female'\"})\n",
        "            tru.add_segment_group(\"Language at home\", {\"English\": \"LANX == 1\", \"Not English\": \"LANX == 2\"})\n",
        "            first_iteration = False"
      ]
    },
    {
      "cell_type": "code",
      "execution_count": null,
      "id": "8065c754",
      "metadata": {
        "colab": {
          "base_uri": "https://localhost:8080/"
        },
        "id": "8065c754",
        "outputId": "37caad07-bbed-402e-9072-8d4f4c42b52c"
      },
      "outputs": [
        {
          "name": "stderr",
          "output_type": "stream",
          "text": [
            "WARNING:truera.client.local.intelligence.local_explainer:Background split for `data_collection` \"Data Collection v1\" is currently not set. Setting it to \"2014-CA\"\n",
            "WARNING:truera.client.local.intelligence.local_explainer:Failed to use TreeSHAP for this model. Defaulting to KernelSHAP...\n",
            "WARNING:truera.client.local.intelligence.local_explainer:Only \"probits\" and \"logloss\" score types are supported for classification models using the TreeSHAP algorithm!\n",
            "WARNING:truera.client.local.intelligence.local_explainer:Failed to use TreeSHAP for this model. Defaulting to KernelSHAP...\n",
            "WARNING:truera.client.local.intelligence.local_explainer:Only \"probits\" and \"logloss\" score types are supported for classification models using the TreeSHAP algorithm!\n",
            "WARNING:truera.client.local.intelligence.local_explainer:Failed to use TreeSHAP for this model. Defaulting to KernelSHAP...\n",
            "WARNING:truera.client.local.intelligence.local_explainer:Only \"probits\" and \"logloss\" score types are supported for classification models using the TreeSHAP algorithm!\n",
            "WARNING:truera.client.local.intelligence.local_explainer:Failed to use TreeSHAP for this model. Defaulting to KernelSHAP...\n",
            "WARNING:truera.client.local.intelligence.local_explainer:Only \"probits\" and \"logloss\" score types are supported for classification models using the TreeSHAP algorithm!\n"
          ]
        }
      ],
      "source": [
        "\n",
        "# Train xgboost\n",
        "models = {}\n",
        "model_name_v1 = \"model_1\"\n",
        "\n",
        "models[model_name_v1] = xgb.XGBClassifier(eta = 0.2, max_depth = 4)\n",
        "\n",
        "models[model_name_v1].fit(data[2014]['NY']['data_postprocessed'],\n",
        "                        data[2014]['NY']['label'])\n",
        "\n",
        "train_params = {\"model_type\":\"xgb.XGBClassifier\", \"eta\":0.2, \"max_depth\":4}\n",
        "\n",
        "train_params['model_type'] = str(type(models[model_name_v1]))\n",
        "\n",
        "# register the model\n",
        "tru.add_python_model(model_name_v1,\n",
        "                        models[model_name_v1],\n",
        "                        train_split_name='2014-NY',\n",
        "                        train_parameters = train_params\n",
        "                        )\n",
        "\n",
        "tru.upload_project()"
      ]
    },
    {
      "cell_type": "code",
      "execution_count": null,
      "id": "a3b06c7d",
      "metadata": {
        "id": "a3b06c7d"
      },
      "outputs": [],
      "source": [
        "# set up protected segment for fairness test\n",
        "tru.set_environment(\"remote\")\n",
        "tru.set_project(project_name)\n",
        "tru.set_data_collection(\"Data Collection v1\")\n",
        "tru.set_data_split(\"2014-NY\")\n",
        "tru.set_as_protected_segment(segment_group_name = \"Sex\", segment_name = \"Female\")\n",
        "\n",
        "# fairness test\n",
        "tru.tester.add_fairness_test(test_name = \"Impact Ratio Test\",\n",
        "    data_split_name_regex = \".\",\n",
        "    all_data_collections=True,\n",
        "    all_protected_segments=True,\n",
        "    metric = \"DISPARATE_IMPACT_RATIO\",\n",
        "    fail_if_outside = [0.8, 1.25])"
      ]
    },
    {
      "cell_type": "code",
      "execution_count": null,
      "id": "bc124eed-714d-488f-bdf2-a7e1ebe98788",
      "metadata": {
        "colab": {
          "base_uri": "https://localhost:8080/",
          "height": 146
        },
        "id": "bc124eed-714d-488f-bdf2-a7e1ebe98788",
        "outputId": "91cbee97-b737-4eeb-d61d-7130bb9fa1c4"
      },
      "outputs": [
        {
          "data": {
            "text/html": [
              "\n",
              "        <html>\n",
              "        <head>\n",
              "        <style>\n",
              "        table, th, td {\n",
              "            border-radius: 5px;\n",
              "        }\n",
              "        .header {\n",
              "            font-weight: bold;\n",
              "            font-size: 14px;\n",
              "        }\n",
              "        caption {\n",
              "            font-weight: bolder;\n",
              "            font-size: 16px;\n",
              "            background-color: powderblue;\n",
              "            color: black;\n",
              "            border-radius: 5px;\n",
              "        }\n",
              "        \n",
              "            .PASSED {\n",
              "                color: black;\n",
              "                background-color: palegreen;\n",
              "            }\n",
              "            .WARNING {\n",
              "                color: black;\n",
              "                background-color: yellow;\n",
              "            }\n",
              "            .FAILED {\n",
              "                color: black;\n",
              "                background-color: pink;\n",
              "            }\n",
              "            \n",
              "        </style>\n",
              "        </head>\n",
              "        <body>\n",
              "        <table>\n",
              "            <caption>Fairness Tests Results for Model \"model_1\"</caption>\n",
              "            <tr class=\"header\"><td></td><td>Name</td><td>Split</td><td>Protected Segment</td><td>Comparison Segment</td><td>Metric</td><td>Score</td><td>Navigate</td></tr>\n",
              "            <tr><td >❌</td><td >Impact Ratio Test</td><td >2014-CA</td><td >Sex--Female: Sex = 'Female'</td><td >REST OF POPULATION</td><td >DISPARATE_IMPACT_RATIO</td><td class=\"FAILED\">0.6358</td><td ><a href=\"https://daily-demo-truera1.sandbox.truera.com/p/Starter%20Example%20-%20Fairness/m/model_1/t/fairness/t/fairness-analysis?biasSegmentIdJSON=%7B%22segmentationId%22:%220f421620-5a2f-478d-b28c-187745758f59%22,%22segmentIndex%22:1%7D&splitId=ea0041ad-a541-44b4-bea8-72a30e093130&modelIds=f5acff5a-ca2b-4708-88c0-492965f0e3e0&\" target=\"_blank\">Explore in UI</a></td></tr><tr><td >❌</td><td >Impact Ratio Test</td><td >2014-NY</td><td >Sex--Female: Sex = 'Female'</td><td >REST OF POPULATION</td><td >DISPARATE_IMPACT_RATIO</td><td class=\"FAILED\">0.6227</td><td ><a href=\"https://daily-demo-truera1.sandbox.truera.com/p/Starter%20Example%20-%20Fairness/m/model_1/t/fairness/t/fairness-analysis?biasSegmentIdJSON=%7B%22segmentationId%22:%220f421620-5a2f-478d-b28c-187745758f59%22,%22segmentIndex%22:1%7D&splitId=a5dc1ac3-5fc0-4023-8be1-c9b3a3b4d9df&modelIds=f5acff5a-ca2b-4708-88c0-492965f0e3e0&\" target=\"_blank\">Explore in UI</a></td></tr><tr><td >❌</td><td >Impact Ratio Test</td><td >2015-CA</td><td >Sex--Female: Sex = 'Female'</td><td >REST OF POPULATION</td><td >DISPARATE_IMPACT_RATIO</td><td class=\"FAILED\">0.6713</td><td ><a href=\"https://daily-demo-truera1.sandbox.truera.com/p/Starter%20Example%20-%20Fairness/m/model_1/t/fairness/t/fairness-analysis?biasSegmentIdJSON=%7B%22segmentationId%22:%220f421620-5a2f-478d-b28c-187745758f59%22,%22segmentIndex%22:1%7D&splitId=147fdecb-3f3f-4882-ab5b-b494ed069497&modelIds=f5acff5a-ca2b-4708-88c0-492965f0e3e0&\" target=\"_blank\">Explore in UI</a></td></tr><tr><td >❌</td><td >Impact Ratio Test</td><td >2015-NY</td><td >Sex--Female: Sex = 'Female'</td><td >REST OF POPULATION</td><td >DISPARATE_IMPACT_RATIO</td><td class=\"FAILED\">0.6453</td><td ><a href=\"https://daily-demo-truera1.sandbox.truera.com/p/Starter%20Example%20-%20Fairness/m/model_1/t/fairness/t/fairness-analysis?biasSegmentIdJSON=%7B%22segmentationId%22:%220f421620-5a2f-478d-b28c-187745758f59%22,%22segmentIndex%22:1%7D&splitId=1d2b283c-088b-428a-ad05-962302eabcf1&modelIds=f5acff5a-ca2b-4708-88c0-492965f0e3e0&\" target=\"_blank\">Explore in UI</a></td></tr>\n",
              "        </table>\n",
              "        </body>\n",
              "        </html>\n",
              "        "
            ],
            "text/plain": [
              "<truera.client.intelligence.model_tests.ModelTestResults at 0x7ff4c98be9a0>"
            ]
          },
          "execution_count": 8,
          "metadata": {},
          "output_type": "execute_result"
        }
      ],
      "source": [
        "tru.set_model(model_name_v1)\n",
        "tru.tester.get_model_test_results(test_types = [\"fairness\"])"
      ]
    },
    {
      "cell_type": "markdown",
      "id": "062b0f35-8d10-4fd9-a8f4-59b9b2474267",
      "metadata": {
        "id": "062b0f35-8d10-4fd9-a8f4-59b9b2474267"
      },
      "source": [
        "* What? Shown in the model test results, the first version of the test fails the Impact Ratio Test.\n",
        "\n",
        "### From here, navigate to the TruEra Web App for analysis or continue on to Part 2!    [![Open In Colab](https://colab.research.google.com/assets/colab-badge.svg)](https://colab.research.google.com/drive/1wSCmWMeWlFPdLSYP4RnSvhsEh9lONHLQ)"
      ]
    }
  ],
  "metadata": {
    "colab": {
      "collapsed_sections": [
        "ce855c64"
      ],
      "provenance": []
    },
    "kernelspec": {
      "display_name": "Python 3.10.9 ('beta_env')",
      "language": "python",
      "name": "python3"
    },
    "language_info": {
      "codemirror_mode": {
        "name": "ipython",
        "version": 3
      },
      "file_extension": ".py",
      "mimetype": "text/x-python",
      "name": "python",
      "nbconvert_exporter": "python",
      "pygments_lexer": "ipython3",
      "version": "3.10.9"
    },
    "vscode": {
      "interpreter": {
        "hash": "20f9ef045266517c71fd446c9bb3681d7350ad6f6c0e18df8199b23de5012ef8"
      }
    }
  },
  "nbformat": 4,
  "nbformat_minor": 5
}

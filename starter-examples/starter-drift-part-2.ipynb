{
 "cells": [
  {
   "attachments": {},
   "cell_type": "markdown",
   "metadata": {
    "id": "4ThQA9IJixcY"
   },
   "source": [
    "# Guided Exercise: Drift\n",
    "This is a continuation of part 1. If you missed it:     [![Open In Colab](https://colab.research.google.com/assets/colab-badge.svg)](https://colab.research.google.com/github/truera/truera-examples/blob/release/rc-1.37/starter-examples/starter-drift-part-1.ipynb)\n",
    "\n",
    "### Goals 🎯\n",
    "In this tutorial, you will learn how to:\n",
    "1. View the results of stability tests set up in part 1.\n",
    "2. Debug the true cause of stability issues.\n",
    "3. Retest the new model and confirm the effectiveness of the mitigation strategy.\n",
    "\n",
    "### First, set the credentials for your TruEra deployment.\n",
    "If you don't have credentials yet, get them instantly by signing up for free at: https://www.truera.com"
   ]
  },
  {
   "cell_type": "code",
   "execution_count": 1,
   "metadata": {
    "execution": {
     "iopub.execute_input": "2023-08-03T20:07:01.350701Z",
     "iopub.status.busy": "2023-08-03T20:07:01.350205Z",
     "iopub.status.idle": "2023-08-03T20:07:01.360759Z",
     "shell.execute_reply": "2023-08-03T20:07:01.359441Z",
     "shell.execute_reply.started": "2023-08-03T20:07:01.350670Z"
    },
    "id": "5R0i__Z8ixca"
   },
   "outputs": [],
   "source": [
    "# connection details\n",
    "TRUERA_URL = \"https://app.truera.net/\"\n",
    "AUTH_TOKEN = \"...\""
   ]
  },
  {
   "attachments": {},
   "cell_type": "markdown",
   "metadata": {
    "id": "glAQlNBfixcb"
   },
   "source": [
    "### Install the required packages for running in colab"
   ]
  },
  {
   "cell_type": "code",
   "execution_count": 2,
   "metadata": {
    "colab": {
     "base_uri": "https://localhost:8080/"
    },
    "execution": {
     "iopub.execute_input": "2023-08-03T20:07:01.363145Z",
     "iopub.status.busy": "2023-08-03T20:07:01.361957Z",
     "iopub.status.idle": "2023-08-03T20:07:01.368573Z",
     "shell.execute_reply": "2023-08-03T20:07:01.366197Z",
     "shell.execute_reply.started": "2023-08-03T20:07:01.363116Z"
    },
    "id": "Y_ypf-Pmixcb",
    "outputId": "4f6af9b2-bbb0-42f4-8138-ae8e375e7066"
   },
   "outputs": [],
   "source": [
    "#! pip install truera"
   ]
  },
  {
   "cell_type": "code",
   "execution_count": 3,
   "metadata": {
    "execution": {
     "iopub.execute_input": "2023-08-03T20:07:01.371043Z",
     "iopub.status.busy": "2023-08-03T20:07:01.370386Z",
     "iopub.status.idle": "2023-08-03T20:07:04.731229Z",
     "shell.execute_reply": "2023-08-03T20:07:04.730272Z",
     "shell.execute_reply.started": "2023-08-03T20:07:01.371010Z"
    }
   },
   "outputs": [
    {
     "name": "stderr",
     "output_type": "stream",
     "text": [
      "INFO:truera.client.remote_truera_workspace:Connecting to 'http://localhost:8000'\n"
     ]
    }
   ],
   "source": [
    "# delete this cell\n",
    "# uncomment out install of truera\n",
    "# uncomment out workspace/auth\n",
    "# clear cell output\n",
    "\n",
    "import os\n",
    "import sys\n",
    "\n",
    "os.chdir(\"/Users/davidkurokawa/Work/code/truera/truera/python\")\n",
    "if \"/Users/davidkurokawa/Work/code/truera/truera/python\" not in sys.path:\n",
    "    sys.path.append(\"/Users/davidkurokawa/Work/code/truera/truera/python\")\n",
    "\n",
    "from truera.client.truera_authentication import BasicAuthentication, TokenAuthentication\n",
    "from truera.client.truera_workspace import TrueraWorkspace\n",
    "\n",
    "TRUERA_URL = \"http://localhost:8000\"\n",
    "AUTH_TOKEN = \"\"\n",
    "tru = TrueraWorkspace(TRUERA_URL, BasicAuthentication(\"ailens\", \"ailens123\"))"
   ]
  },
  {
   "attachments": {},
   "cell_type": "markdown",
   "metadata": {
    "id": "ewL5GnJlixcb"
   },
   "source": [
    "### From here, run the rest of the notebook and follow the analysis.\n",
    "\n",
    "### First, load data and train the in your beach-head market, San Francisco. Also add additional data for Seattle and Austin, your target markets."
   ]
  },
  {
   "cell_type": "code",
   "execution_count": 4,
   "metadata": {
    "execution": {
     "iopub.execute_input": "2023-08-03T20:07:04.735330Z",
     "iopub.status.busy": "2023-08-03T20:07:04.734854Z",
     "iopub.status.idle": "2023-08-03T20:07:04.827758Z",
     "shell.execute_reply": "2023-08-03T20:07:04.826918Z",
     "shell.execute_reply.started": "2023-08-03T20:07:04.735301Z"
    },
    "id": "HvZYMI4fixcb"
   },
   "outputs": [],
   "source": [
    "import logging\n",
    "\n",
    "import pandas as pd\n",
    "import xgboost as xgb\n",
    "from sklearn import preprocessing\n",
    "from sklearn.utils import resample\n",
    "from truera.client.ingestion import ColumnSpec, ModelOutputContext\n",
    "from truera.client.truera_authentication import TokenAuthentication\n",
    "from truera.client.truera_workspace import TrueraWorkspace\n",
    "\n",
    "#auth = TokenAuthentication(AUTH_TOKEN)\n",
    "#tru = TrueraWorkspace(TRUERA_URL, auth)"
   ]
  },
  {
   "attachments": {},
   "cell_type": "markdown",
   "metadata": {
    "id": "1oHfd4Hhixcc"
   },
   "source": [
    "### Test for stability in Seattle and Austin."
   ]
  },
  {
   "cell_type": "code",
   "execution_count": 5,
   "metadata": {
    "colab": {
     "base_uri": "https://localhost:8080/"
    },
    "execution": {
     "iopub.execute_input": "2023-08-03T20:07:04.829126Z",
     "iopub.status.busy": "2023-08-03T20:07:04.828711Z",
     "iopub.status.idle": "2023-08-03T20:07:05.080287Z",
     "shell.execute_reply": "2023-08-03T20:07:05.079456Z",
     "shell.execute_reply.started": "2023-08-03T20:07:04.829099Z"
    },
    "id": "h_tdwbLWixcc",
    "outputId": "dd9fc1fa-7a53-404b-b9b3-12e735d0424a"
   },
   "outputs": [
    {
     "name": "stderr",
     "output_type": "stream",
     "text": [
      "INFO:truera.client.remote_truera_workspace:Data collection in remote environment is now set to \"Data Collection v1\". \n"
     ]
    },
    {
     "data": {
      "text/plain": [
       "['model_1']"
      ]
     },
     "execution_count": 5,
     "metadata": {},
     "output_type": "execute_result"
    }
   ],
   "source": [
    "# create the first project and data collection\n",
    "project_name = \"Starter Example Companion - Drift\"\n",
    "tru.set_project(project_name)\n",
    "tru.set_data_collection(\"Data Collection v1\")\n",
    "tru.get_models()"
   ]
  },
  {
   "cell_type": "code",
   "execution_count": 6,
   "metadata": {
    "execution": {
     "iopub.execute_input": "2023-08-03T20:07:05.082090Z",
     "iopub.status.busy": "2023-08-03T20:07:05.081652Z",
     "iopub.status.idle": "2023-08-03T20:07:05.371780Z",
     "shell.execute_reply": "2023-08-03T20:07:05.370882Z",
     "shell.execute_reply.started": "2023-08-03T20:07:05.082062Z"
    }
   },
   "outputs": [],
   "source": [
    "# add performance and feature importance tests\n",
    "tru.tester.add_performance_test(test_name=\"MAE Test\",\n",
    "                                all_data_collections=True,\n",
    "                                data_split_name_regex=\"Seattle\",\n",
    "                                metric=\"MAE\",\n",
    "                                reference_split_name=\"San Francisco\",\n",
    "                                fail_if_greater_than=40,\n",
    "                                fail_threshold_type=\"RELATIVE\")"
   ]
  },
  {
   "cell_type": "code",
   "execution_count": 7,
   "metadata": {
    "colab": {
     "base_uri": "https://localhost:8080/",
     "height": 172
    },
    "execution": {
     "iopub.execute_input": "2023-08-03T20:07:05.374282Z",
     "iopub.status.busy": "2023-08-03T20:07:05.373842Z",
     "iopub.status.idle": "2023-08-03T20:07:08.359803Z",
     "shell.execute_reply": "2023-08-03T20:07:08.358971Z",
     "shell.execute_reply.started": "2023-08-03T20:07:05.374243Z"
    },
    "id": "bi183I_ZkulK",
    "outputId": "3f00254f-9bc2-4181-fbe9-6aa15797adf7"
   },
   "outputs": [
    {
     "data": {
      "text/html": [
       "\n",
       "        <html>\n",
       "        <head>\n",
       "        <style>\n",
       "        table, th, td {\n",
       "            border-radius: 5px;\n",
       "        }\n",
       "        .header {\n",
       "            font-weight: bold;\n",
       "            font-size: 14px;\n",
       "        }\n",
       "        caption {\n",
       "            font-weight: bolder;\n",
       "            font-size: 16px;\n",
       "            background-color: powderblue;\n",
       "            color: black;\n",
       "            border-radius: 5px;\n",
       "        }\n",
       "        \n",
       "        </style>\n",
       "        </head>\n",
       "        <body>\n",
       "        <table>\n",
       "            <caption>Test Leaderboard of Models in Data Collection \"Data Collection v1\"</caption>\n",
       "            <tr class=\"header\"><td>Model Name</td><td>Train Split Name</td><td>Train Parameters</td><td>Performance Tests (Failed/Warning/Total)</td><td>Fairness Tests (Failed/Warning/Total)</td><td>Stability Tests (Failed/Warning/Total)</td><td>Feature Importance Tests (Failed/Warning/Total)</td></tr>\n",
       "            <tr><td >model_1</td><td >San Francisco</td><td >eta: 0.2<br>max_depth: 4.0<br>model_type: xgb.XGBRegressor</td><td >0 ❌ / 0 ⚠️ / 1</td><td >0 ❌ / 0 ⚠️ / 0</td><td >2 ❌ / 0 ⚠️ / 2</td><td >0 ❌ / 0 ⚠️ / 0</td></tr>\n",
       "        </table>\n",
       "        </body>\n",
       "        </html>\n",
       "        "
      ],
      "text/plain": [
       "<truera.client.intelligence.model_tests.ModelTestLeaderboard at 0x7fe2cc2d79a0>"
      ]
     },
     "execution_count": 7,
     "metadata": {},
     "output_type": "execute_result"
    }
   ],
   "source": [
    "tru.tester.get_model_leaderboard(sort_by=\"performance\")"
   ]
  },
  {
   "cell_type": "code",
   "execution_count": 8,
   "metadata": {
    "colab": {
     "base_uri": "https://localhost:8080/",
     "height": 103
    },
    "execution": {
     "iopub.execute_input": "2023-08-03T20:07:08.361472Z",
     "iopub.status.busy": "2023-08-03T20:07:08.361029Z",
     "iopub.status.idle": "2023-08-03T20:07:11.351499Z",
     "shell.execute_reply": "2023-08-03T20:07:11.350126Z",
     "shell.execute_reply.started": "2023-08-03T20:07:08.361444Z"
    },
    "id": "g9_wizHvixcc",
    "outputId": "44e200f9-f608-4340-99b2-ecf8031a52bc"
   },
   "outputs": [
    {
     "name": "stderr",
     "output_type": "stream",
     "text": [
      "INFO:truera.client.remote_truera_workspace:Setting remote model context to \"model_1\".\n"
     ]
    },
    {
     "data": {
      "text/html": [
       "\n",
       "        <html>\n",
       "        <head>\n",
       "        <style>\n",
       "        table, th, td {\n",
       "            border-radius: 5px;\n",
       "        }\n",
       "        .header {\n",
       "            font-weight: bold;\n",
       "            font-size: 14px;\n",
       "        }\n",
       "        caption {\n",
       "            font-weight: bolder;\n",
       "            font-size: 16px;\n",
       "            background-color: powderblue;\n",
       "            color: black;\n",
       "            border-radius: 5px;\n",
       "        }\n",
       "        \n",
       "            .PASSED {\n",
       "                color: black;\n",
       "                background-color: palegreen;\n",
       "            }\n",
       "            .WARNING {\n",
       "                color: black;\n",
       "                background-color: yellow;\n",
       "            }\n",
       "            .FAILED {\n",
       "                color: black;\n",
       "                background-color: pink;\n",
       "            }\n",
       "            \n",
       "        </style>\n",
       "        </head>\n",
       "        <body>\n",
       "        <table>\n",
       "            <caption>Stability Tests Results for Model \"model_1\"</caption>\n",
       "            <tr class=\"header\"><td></td><td>Name</td><td>Comparison Split</td><td>Base Split</td><td>Segment</td><td>Metric</td><td>Score</td><td>Navigate</td></tr>\n",
       "            <tr><td >❌</td><td >Stability Test - Seattle</td><td >Seattle</td><td >San Francisco</td><td >ALL POINTS</td><td >DIFFERENCE_OF_MEAN</td><td class=\"FAILED\">-4.5582</td><td ><a href=\"http://localhost:8000/home/p/Starter Example Companion - Drift/m/model_1/t/stability?baseSplitName=San Francisco&compareSplitName=Seattle&splitId=5e324e56-e6f5-4bfb-ba7a-d38b81d3816d&modelIds=2079c00a-35d1-4d7f-8a09-0153a8b762a3&\" target=\"_blank\">Explore in UI</a></td></tr><tr><td >❌</td><td >Stability Test - Austin</td><td >Austin</td><td >San Francisco</td><td >ALL POINTS</td><td >DIFFERENCE_OF_MEAN</td><td class=\"FAILED\">64.0755</td><td ><a href=\"http://localhost:8000/home/p/Starter Example Companion - Drift/m/model_1/t/stability?baseSplitName=San Francisco&compareSplitName=Austin&splitId=cf9ad8b8-a11f-495a-b062-8fcfbccd9f8a&modelIds=2079c00a-35d1-4d7f-8a09-0153a8b762a3&\" target=\"_blank\">Explore in UI</a></td></tr>\n",
       "        </table>\n",
       "        </body>\n",
       "        </html>\n",
       "        "
      ],
      "text/plain": [
       "<truera.client.intelligence.model_tests.ModelTestResults at 0x7fe2cc31eb30>"
      ]
     },
     "execution_count": 8,
     "metadata": {},
     "output_type": "execute_result"
    }
   ],
   "source": [
    "tru.set_model(\"model_1\")\n",
    "tru.tester.get_model_test_results(test_types=[\"stability\"])"
   ]
  },
  {
   "attachments": {},
   "cell_type": "markdown",
   "metadata": {
    "id": "Sr8xZVMWixcd"
   },
   "source": [
    "The model fails in Seattle and Austin because the scores drifted too far from the ground truth in the new cities."
   ]
  },
  {
   "cell_type": "code",
   "execution_count": 9,
   "metadata": {
    "execution": {
     "iopub.execute_input": "2023-08-03T20:07:11.353730Z",
     "iopub.status.busy": "2023-08-03T20:07:11.352935Z",
     "iopub.status.idle": "2023-08-03T20:07:21.197171Z",
     "shell.execute_reply": "2023-08-03T20:07:21.195806Z",
     "shell.execute_reply.started": "2023-08-03T20:07:11.353636Z"
    }
   },
   "outputs": [
    {
     "name": "stderr",
     "output_type": "stream",
     "text": [
      "INFO:truera.client.truera_workspace:Download temp_dir: /var/folders/pg/2f8qcnr92cx4rcwpvm_x2ckc0000gn/T/tmpxgqdts0u\n",
      "INFO:truera.client.truera_workspace:Syncing data collection \"Data Collection v1\" to local.\n",
      "INFO:truera.client.local.local_truera_workspace:Data collection in local environment is now set to \"Data Collection v1\". \n",
      "INFO:truera.client.truera_workspace:Syncing data split \"San Francisco\" to local.\n",
      "INFO:truera.client.local.local_truera_workspace:Data split \"San Francisco\" is added to local data collection \"Data Collection v1\", and set as the data split for the workspace context.\n",
      "INFO:truera.client.truera_workspace:Syncing data split \"Austin\" to local.\n",
      "INFO:truera.client.local.local_truera_workspace:Data split \"Austin\" is added to local data collection \"Data Collection v1\", and set as the data split for the workspace context.\n",
      "INFO:truera.client.truera_workspace:Syncing model model_1 to local.\n",
      "INFO:truera.client.local.local_truera_workspace:Model \"model_1\" is added and associated with local data collection \"Data Collection v1\". \"model_1\" is set as the model for the workspace context.\n",
      "INFO:truera.client.truera_workspace:Syncing segments groups from remote to local.\n",
      "INFO:truera.client.local.local_truera_workspace:The previous data collection (\"Data Collection v1\") and its associated data splits and/or models have been cleared from the local environment workspace context.\n",
      "INFO:truera.client.local.local_truera_workspace:Data collection in local environment is now set to \"Data Collection v1\". \n",
      "INFO:truera.client.local.local_truera_workspace:Setting local model context to \"model_1\".\n"
     ]
    },
    {
     "data": {
      "text/html": [
       "<div>\n",
       "<style scoped>\n",
       "    .dataframe tbody tr th:only-of-type {\n",
       "        vertical-align: middle;\n",
       "    }\n",
       "\n",
       "    .dataframe tbody tr th {\n",
       "        vertical-align: top;\n",
       "    }\n",
       "\n",
       "    .dataframe thead th {\n",
       "        text-align: right;\n",
       "    }\n",
       "</style>\n",
       "<table border=\"1\" class=\"dataframe\">\n",
       "  <thead>\n",
       "    <tr style=\"text-align: right;\">\n",
       "      <th></th>\n",
       "      <th>segment_definition</th>\n",
       "      <th>MAE</th>\n",
       "      <th>size</th>\n",
       "      <th>size (%)</th>\n",
       "    </tr>\n",
       "  </thead>\n",
       "  <tbody>\n",
       "    <tr>\n",
       "      <th>0</th>\n",
       "      <td>_DATA_GROUND_TRUTH in_range [829.0, 999.0]</td>\n",
       "      <td>381.233584</td>\n",
       "      <td>185</td>\n",
       "      <td>2.023185</td>\n",
       "    </tr>\n",
       "    <tr>\n",
       "      <th>2</th>\n",
       "      <td>bathrooms in_range [2.5, 7.0]</td>\n",
       "      <td>174.443792</td>\n",
       "      <td>1055</td>\n",
       "      <td>11.537620</td>\n",
       "    </tr>\n",
       "    <tr>\n",
       "      <th>1</th>\n",
       "      <td>accommodates in_range [6.0, 16.0]</td>\n",
       "      <td>161.833050</td>\n",
       "      <td>2619</td>\n",
       "      <td>28.641732</td>\n",
       "    </tr>\n",
       "    <tr>\n",
       "      <th>4</th>\n",
       "      <td>beds in_range [3.0, 16.0]</td>\n",
       "      <td>155.644171</td>\n",
       "      <td>2636</td>\n",
       "      <td>28.827647</td>\n",
       "    </tr>\n",
       "    <tr>\n",
       "      <th>3</th>\n",
       "      <td>bedrooms in_range [2.0, 10.0]</td>\n",
       "      <td>155.521023</td>\n",
       "      <td>3835</td>\n",
       "      <td>41.940070</td>\n",
       "    </tr>\n",
       "  </tbody>\n",
       "</table>\n",
       "</div>"
      ],
      "text/plain": [
       "                           segment_definition         MAE  size   size (%)\n",
       "0  _DATA_GROUND_TRUTH in_range [829.0, 999.0]  381.233584   185   2.023185\n",
       "2               bathrooms in_range [2.5, 7.0]  174.443792  1055  11.537620\n",
       "1           accommodates in_range [6.0, 16.0]  161.833050  2619  28.641732\n",
       "4                   beds in_range [3.0, 16.0]  155.644171  2636  28.827647\n",
       "3               bedrooms in_range [2.0, 10.0]  155.521023  3835  41.940070"
      ]
     },
     "execution_count": 9,
     "metadata": {},
     "output_type": "execute_result"
    }
   ],
   "source": [
    "explainer = tru.get_explainer(\"Austin\", comparison_data_splits=[\"San Francisco\"])\n",
    "explainer.find_hotspots(max_num_responses=5)"
   ]
  },
  {
   "attachments": {},
   "cell_type": "markdown",
   "metadata": {
    "id": "nIcy1t1Aixcd"
   },
   "source": [
    "The MAE for larger, more expensive houses is high, as represented in the hotspots. Bedrooms are a commonly used proxy for house size and price. This will correlate with all the listed hotspots. Let's resample the San Francisco data we're training on to include an equal proportion of larger listings as Austin."
   ]
  },
  {
   "cell_type": "code",
   "execution_count": 10,
   "metadata": {
    "execution": {
     "iopub.execute_input": "2023-08-03T20:07:21.199602Z",
     "iopub.status.busy": "2023-08-03T20:07:21.199028Z",
     "iopub.status.idle": "2023-08-03T20:07:22.239457Z",
     "shell.execute_reply": "2023-08-03T20:07:22.238421Z",
     "shell.execute_reply.started": "2023-08-03T20:07:21.199562Z"
    },
    "id": "KEgSpLx1ixcd"
   },
   "outputs": [],
   "source": [
    "# load data\n",
    "san_francisco = pd.read_csv(\n",
    "    \"https://truera-examples.s3.us-west-2.amazonaws.com/data/starter-stability/San_Francisco_for_stability.csv\")\n",
    "seattle = pd.read_csv(\n",
    "    \"https://truera-examples.s3.us-west-2.amazonaws.com/data/starter-stability/Seattle_for_stability.csv\")\n",
    "austin = pd.read_csv(\n",
    "    \"https://truera-examples.s3.us-west-2.amazonaws.com/data/starter-stability/Austin_for_stability.csv\")\n",
    "\n",
    "# make all float and make index ids\n",
    "san_francisco = san_francisco.astype(float).reset_index(names=\"id\")\n",
    "seattle = seattle.astype(float).reset_index(names=\"id\")\n",
    "austin = austin.astype(float).reset_index(names=\"id\")"
   ]
  },
  {
   "cell_type": "code",
   "execution_count": 11,
   "metadata": {
    "execution": {
     "iopub.execute_input": "2023-08-03T20:07:22.241065Z",
     "iopub.status.busy": "2023-08-03T20:07:22.240610Z",
     "iopub.status.idle": "2023-08-03T20:07:22.252683Z",
     "shell.execute_reply": "2023-08-03T20:07:22.251808Z",
     "shell.execute_reply.started": "2023-08-03T20:07:22.241038Z"
    }
   },
   "outputs": [],
   "source": [
    "large_listings = san_francisco[san_francisco[\"bedrooms\"] >= 2]\n",
    "small_listings = san_francisco[san_francisco[\"bedrooms\"] < 2]\n",
    "\n",
    "austin_large_listings = austin[austin[\"bedrooms\"] >= 2]\n",
    "num_samples = int(round((len(austin_large_listings) / len(austin)) * len(san_francisco), 0))\n",
    "\n",
    "large_listings_resampled = resample(\n",
    "    large_listings,\n",
    "    replace=True,\n",
    "    n_samples=num_samples,\n",
    "    random_state=1  # include random seed so we can perform same sampling on each data set\n",
    ")\n",
    "\n",
    "san_francisco_resampled = pd.concat([small_listings, large_listings_resampled])"
   ]
  },
  {
   "cell_type": "code",
   "execution_count": 12,
   "metadata": {
    "execution": {
     "iopub.execute_input": "2023-08-03T20:07:22.254457Z",
     "iopub.status.busy": "2023-08-03T20:07:22.254130Z",
     "iopub.status.idle": "2023-08-03T20:07:24.522144Z",
     "shell.execute_reply": "2023-08-03T20:07:24.520931Z",
     "shell.execute_reply.started": "2023-08-03T20:07:22.254431Z"
    }
   },
   "outputs": [
    {
     "name": "stderr",
     "output_type": "stream",
     "text": [
      "INFO:truera.client.remote_truera_workspace:Uploading xgboost model: XGBRegressor\n",
      "INFO:truera.client.remote_truera_workspace:Verifying model...\n",
      "INFO:truera.client.remote_truera_workspace:✔️ Verified packaged model format.\n",
      "INFO:truera.client.remote_truera_workspace:✔️ Loaded model in current environment.\n",
      "INFO:truera.client.remote_truera_workspace:✔️ Called predict on model.\n",
      "INFO:truera.client.remote_truera_workspace:✔️ Verified model output.\n",
      "INFO:truera.client.remote_truera_workspace:Verification succeeded!\n"
     ]
    },
    {
     "name": "stdout",
     "output_type": "stream",
     "text": [
      "Uploading MLmodel (218.0B) -- ### -- file upload complete.\n",
      "Uploading tmp2u3ea6ec.json (174.1KiB) -- ### -- file upload complete.\n",
      "Uploading conda.yaml (208.0B) -- ### -- file upload complete.\n",
      "Uploading xgboost_regression_predict_wrapper.py (459.0B) -- ### -- file upload complete.\n",
      "Uploading xgboost_regression_predict_wrapper.cpython-310.pyc (1.1KiB) -- ### -- file upload complete.\n",
      "Put resource done.\n"
     ]
    },
    {
     "name": "stderr",
     "output_type": "stream",
     "text": [
      "INFO:truera.client.remote_truera_workspace:Model \"model_2\" is added and associated with remote data collection \"Data Collection v1\". \"model_2\" is set as the model for the workspace context.\n"
     ]
    },
    {
     "name": "stdout",
     "output_type": "stream",
     "text": [
      "Model uploaded to: http://localhost:8000/home/p/Starter%20Example%20Companion%20-%20Drift/m/model_2/\n"
     ]
    }
   ],
   "source": [
    "# train new model on resampled sf data\n",
    "xgb_reg = xgb.XGBRegressor(eta=0.2, max_depth=4)\n",
    "xgb_reg.fit(san_francisco_resampled.drop([\"id\", \"price\"], axis=1), san_francisco_resampled.price)\n",
    "\n",
    "tru.set_project(project_name)\n",
    "tru.set_data_collection(\"Data Collection v1\")\n",
    "\n",
    "# register the model\n",
    "tru.add_python_model(\"model_2\",\n",
    "                     xgb_reg,\n",
    "                     train_parameters={\n",
    "                         \"model_type\": \"xgb.XGBRegressor\",\n",
    "                         \"eta\": 0.2,\n",
    "                         \"max_depth\": 4\n",
    "                     },\n",
    "                     compute_predictions=False)"
   ]
  },
  {
   "cell_type": "code",
   "execution_count": 13,
   "metadata": {
    "execution": {
     "iopub.execute_input": "2023-08-03T20:07:24.529343Z",
     "iopub.status.busy": "2023-08-03T20:07:24.528952Z",
     "iopub.status.idle": "2023-08-03T20:07:52.331020Z",
     "shell.execute_reply": "2023-08-03T20:07:52.330156Z",
     "shell.execute_reply.started": "2023-08-03T20:07:24.529312Z"
    }
   },
   "outputs": [
    {
     "name": "stderr",
     "output_type": "stream",
     "text": [
      "INFO:truera.client.truera_workspace:Download temp_dir: /var/folders/pg/2f8qcnr92cx4rcwpvm_x2ckc0000gn/T/tmpxgqdts0u\n",
      "INFO:truera.client.truera_workspace:Syncing data collection \"Data Collection v1\" to local.\n",
      "WARNING:truera.client.truera_workspace:Data split \"San Francisco\" exists in local. Skipping.\n",
      "INFO:truera.client.truera_workspace:Syncing data split \"Seattle\" to local.\n",
      "INFO:truera.client.local.local_truera_workspace:Data split \"Seattle\" is added to local data collection \"Data Collection v1\", and set as the data split for the workspace context.\n",
      "INFO:truera.client.truera_workspace:Syncing model model_2 to local.\n",
      "INFO:truera.client.local.local_truera_workspace:Model \"model_2\" is added and associated with local data collection \"Data Collection v1\". \"model_2\" is set as the model for the workspace context.\n",
      "INFO:truera.client.truera_workspace:Syncing segments groups from remote to local.\n",
      "INFO:truera.client.local.local_truera_workspace:Setting local model context to \"model_1\".\n",
      "INFO:truera.client.local.local_truera_workspace:Setting local model context to \"model_2\".\n",
      "INFO:truera.client.remote_truera_workspace:`model_output_context` will be inferred as it was not provided.\n",
      "INFO:truera.client.remote_truera_workspace:Inferred ModelOutputContext: ModelOutputContext(model_name='model_2', score_type='regression', background_split_name='', influence_type='')\n"
     ]
    },
    {
     "name": "stdout",
     "output_type": "stream",
     "text": [
      "Uploading tmpigjj8yt5.parquet (44.4KiB) -- ### -- file upload complete.\n",
      "Put resource done.\n"
     ]
    },
    {
     "name": "stderr",
     "output_type": "stream",
     "text": [
      "INFO:truera.client.remote_truera_workspace:Waiting for data split to materialize...\n",
      "INFO:truera.client.truera_workspace:Download temp_dir: /var/folders/pg/2f8qcnr92cx4rcwpvm_x2ckc0000gn/T/tmpxgqdts0u\n",
      "INFO:truera.client.truera_workspace:Syncing data collection \"Data Collection v1\" to local.\n",
      "WARNING:truera.client.truera_workspace:Data split \"San Francisco\" exists in local. Skipping.\n",
      "WARNING:truera.client.truera_workspace:Model \"model_2\" already exists in local. Skipping.\n",
      "INFO:truera.client.truera_workspace:Syncing segments groups from remote to local.\n",
      "INFO:truera.client.remote_truera_workspace:`model_output_context` will be inferred as it was not provided.\n",
      "INFO:truera.client.remote_truera_workspace:Inferred ModelOutputContext: ModelOutputContext(model_name='model_2', score_type='regression', background_split_name='', influence_type='')\n"
     ]
    },
    {
     "name": "stdout",
     "output_type": "stream",
     "text": [
      "Uploading tmpxf890ex4.parquet (70.7KiB) -- ### -- file upload complete.\n",
      "Put resource done.\n"
     ]
    },
    {
     "name": "stderr",
     "output_type": "stream",
     "text": [
      "INFO:truera.client.remote_truera_workspace:Waiting for data split to materialize...\n",
      "INFO:truera.client.truera_workspace:Download temp_dir: /var/folders/pg/2f8qcnr92cx4rcwpvm_x2ckc0000gn/T/tmpxgqdts0u\n",
      "INFO:truera.client.truera_workspace:Syncing data collection \"Data Collection v1\" to local.\n",
      "WARNING:truera.client.truera_workspace:Data split \"San Francisco\" exists in local. Skipping.\n",
      "WARNING:truera.client.truera_workspace:Data split \"Austin\" exists in local. Skipping.\n",
      "WARNING:truera.client.truera_workspace:Model \"model_2\" already exists in local. Skipping.\n",
      "INFO:truera.client.truera_workspace:Syncing segments groups from remote to local.\n",
      "INFO:truera.client.remote_truera_workspace:`model_output_context` will be inferred as it was not provided.\n",
      "INFO:truera.client.remote_truera_workspace:Inferred ModelOutputContext: ModelOutputContext(model_name='model_2', score_type='regression', background_split_name='', influence_type='')\n"
     ]
    },
    {
     "name": "stdout",
     "output_type": "stream",
     "text": [
      "Uploading tmpgsir7zo_.parquet (111.2KiB) -- ### -- file upload complete.\n",
      "Put resource done.\n"
     ]
    },
    {
     "name": "stderr",
     "output_type": "stream",
     "text": [
      "INFO:truera.client.remote_truera_workspace:Waiting for data split to materialize...\n"
     ]
    }
   ],
   "source": [
    "# predictions\n",
    "tru.set_project(project_name)\n",
    "tru.set_data_collection(\"Data Collection v1\")\n",
    "tru.set_model(\"model_2\")\n",
    "tru.set_influences_background_data_split(\"San Francisco\")\n",
    "\n",
    "for data_split_name in [\"Seattle\", \"San Francisco\", \"Austin\"]:\n",
    "    tru.set_data_split(data_split_name)\n",
    "    preds = tru.get_ys_pred().reset_index(names=\"id\")\n",
    "    tru.add_data(data=preds,\n",
    "                 data_split_name=data_split_name,\n",
    "                 column_spec=ColumnSpec(id_col_name=\"id\", prediction_col_names=\"__truera_prediction__\"))"
   ]
  },
  {
   "cell_type": "code",
   "execution_count": 14,
   "metadata": {
    "execution": {
     "iopub.execute_input": "2023-08-03T20:07:52.333253Z",
     "iopub.status.busy": "2023-08-03T20:07:52.332050Z",
     "iopub.status.idle": "2023-08-03T20:08:22.188233Z",
     "shell.execute_reply": "2023-08-03T20:08:22.187496Z",
     "shell.execute_reply.started": "2023-08-03T20:07:52.333222Z"
    }
   },
   "outputs": [
    {
     "name": "stderr",
     "output_type": "stream",
     "text": [
      "INFO:truera.client.truera_workspace:Download temp_dir: /var/folders/pg/2f8qcnr92cx4rcwpvm_x2ckc0000gn/T/tmpxgqdts0u\n",
      "INFO:truera.client.truera_workspace:Syncing data collection \"Data Collection v1\" to local.\n",
      "WARNING:truera.client.truera_workspace:Data split \"San Francisco\" exists in local. Skipping.\n",
      "WARNING:truera.client.truera_workspace:Data split \"Seattle\" exists in local. Skipping.\n",
      "WARNING:truera.client.truera_workspace:Model \"model_2\" already exists in local. Skipping.\n",
      "INFO:truera.client.truera_workspace:Syncing segments groups from remote to local.\n",
      "WARNING:truera.client.local.intelligence.local_explainer:Background split for `data_collection` \"Data Collection v1\" is currently not set. Setting it to \"San Francisco\"\n"
     ]
    },
    {
     "name": "stdout",
     "output_type": "stream",
     "text": [
      "Uploading tmph9je1btq.parquet (37.8KiB) -- ### -- file upload complete.\n",
      "Put resource done.\n"
     ]
    },
    {
     "name": "stderr",
     "output_type": "stream",
     "text": [
      "INFO:truera.client.remote_truera_workspace:Waiting for data split to materialize...\n",
      "INFO:truera.client.truera_workspace:Download temp_dir: /var/folders/pg/2f8qcnr92cx4rcwpvm_x2ckc0000gn/T/tmpxgqdts0u\n",
      "INFO:truera.client.truera_workspace:Syncing data collection \"Data Collection v1\" to local.\n",
      "WARNING:truera.client.truera_workspace:Data split \"San Francisco\" exists in local. Skipping.\n",
      "WARNING:truera.client.truera_workspace:Model \"model_2\" already exists in local. Skipping.\n",
      "INFO:truera.client.truera_workspace:Syncing segments groups from remote to local.\n"
     ]
    },
    {
     "name": "stdout",
     "output_type": "stream",
     "text": [
      "Uploading tmpmzfad5j2.parquet (38.1KiB) -- ### -- file upload complete.\n",
      "Put resource done.\n"
     ]
    },
    {
     "name": "stderr",
     "output_type": "stream",
     "text": [
      "INFO:truera.client.remote_truera_workspace:Waiting for data split to materialize...\n",
      "INFO:truera.client.truera_workspace:Download temp_dir: /var/folders/pg/2f8qcnr92cx4rcwpvm_x2ckc0000gn/T/tmpxgqdts0u\n",
      "INFO:truera.client.truera_workspace:Syncing data collection \"Data Collection v1\" to local.\n",
      "WARNING:truera.client.truera_workspace:Data split \"San Francisco\" exists in local. Skipping.\n",
      "WARNING:truera.client.truera_workspace:Data split \"Austin\" exists in local. Skipping.\n",
      "WARNING:truera.client.truera_workspace:Model \"model_2\" already exists in local. Skipping.\n",
      "INFO:truera.client.truera_workspace:Syncing segments groups from remote to local.\n"
     ]
    },
    {
     "name": "stdout",
     "output_type": "stream",
     "text": [
      "Uploading tmp9yjbm_1i.parquet (38.5KiB) -- ### -- file upload complete.\n",
      "Put resource done.\n"
     ]
    },
    {
     "name": "stderr",
     "output_type": "stream",
     "text": [
      "INFO:truera.client.remote_truera_workspace:Waiting for data split to materialize...\n"
     ]
    }
   ],
   "source": [
    "# set model and background split\n",
    "tru.set_model(\"model_2\")\n",
    "tru.set_influences_background_data_split(\"San Francisco\")\n",
    "\n",
    "# influence type\n",
    "tru.set_influence_type(\"shap\")\n",
    "\n",
    "# reduce settings for speed\n",
    "tru.set_num_internal_qii_samples(100)\n",
    "tru.set_num_default_influences(100)\n",
    "\n",
    "for data_split_name in [\"Seattle\", \"San Francisco\", \"Austin\"]:\n",
    "    tru.set_data_split(data_split_name)\n",
    "    tru.compute_feature_influences()"
   ]
  },
  {
   "cell_type": "code",
   "execution_count": 15,
   "metadata": {
    "execution": {
     "iopub.execute_input": "2023-08-03T20:08:22.190603Z",
     "iopub.status.busy": "2023-08-03T20:08:22.189490Z",
     "iopub.status.idle": "2023-08-03T20:10:00.189732Z",
     "shell.execute_reply": "2023-08-03T20:10:00.184072Z",
     "shell.execute_reply.started": "2023-08-03T20:08:22.190572Z"
    }
   },
   "outputs": [
    {
     "name": "stderr",
     "output_type": "stream",
     "text": [
      "INFO:truera.client.truera_workspace:Download temp_dir: /var/folders/pg/2f8qcnr92cx4rcwpvm_x2ckc0000gn/T/tmpxgqdts0u\n",
      "INFO:truera.client.truera_workspace:Syncing data collection \"Data Collection v1\" to local.\n",
      "WARNING:truera.client.truera_workspace:Data split \"San Francisco\" exists in local. Skipping.\n",
      "WARNING:truera.client.truera_workspace:Data split \"Seattle\" exists in local. Skipping.\n",
      "WARNING:truera.client.truera_workspace:Model \"model_2\" already exists in local. Skipping.\n",
      "INFO:truera.client.truera_workspace:Syncing segments groups from remote to local.\n",
      "WARNING:truera.client.local.intelligence.local_explainer:Failed to use TreeSHAP for this model. Defaulting to KernelSHAP...\n",
      "WARNING:truera.client.local.intelligence.local_explainer:TreeSHAP cannot handle error influence computations for regression models!\n"
     ]
    },
    {
     "data": {
      "application/vnd.jupyter.widget-view+json": {
       "model_id": "31f2031c91f04973a87f638c441bd6d5",
       "version_major": 2,
       "version_minor": 0
      },
      "text/plain": [
       "|          | 0.000% [00:00<?]"
      ]
     },
     "metadata": {},
     "output_type": "display_data"
    },
    {
     "name": "stdout",
     "output_type": "stream",
     "text": [
      "Uploading tmp7doom_1t.parquet (34.2KiB) -- ### -- file upload complete.\n",
      "Put resource done.\n"
     ]
    },
    {
     "name": "stderr",
     "output_type": "stream",
     "text": [
      "INFO:truera.client.remote_truera_workspace:Waiting for data split to materialize...\n",
      "INFO:truera.client.truera_workspace:Download temp_dir: /var/folders/pg/2f8qcnr92cx4rcwpvm_x2ckc0000gn/T/tmpxgqdts0u\n",
      "INFO:truera.client.truera_workspace:Syncing data collection \"Data Collection v1\" to local.\n",
      "WARNING:truera.client.truera_workspace:Data split \"San Francisco\" exists in local. Skipping.\n",
      "WARNING:truera.client.truera_workspace:Model \"model_2\" already exists in local. Skipping.\n",
      "INFO:truera.client.truera_workspace:Syncing segments groups from remote to local.\n",
      "WARNING:truera.client.local.intelligence.local_explainer:Failed to use TreeSHAP for this model. Defaulting to KernelSHAP...\n",
      "WARNING:truera.client.local.intelligence.local_explainer:TreeSHAP cannot handle error influence computations for regression models!\n"
     ]
    },
    {
     "data": {
      "application/vnd.jupyter.widget-view+json": {
       "model_id": "092dc39683734e748c25076af8fe846f",
       "version_major": 2,
       "version_minor": 0
      },
      "text/plain": [
       "|          | 0.000% [00:00<?]"
      ]
     },
     "metadata": {},
     "output_type": "display_data"
    },
    {
     "name": "stdout",
     "output_type": "stream",
     "text": [
      "Uploading tmpya1cquk6.parquet (34.1KiB) -- ### -- file upload complete.\n",
      "Put resource done.\n"
     ]
    },
    {
     "name": "stderr",
     "output_type": "stream",
     "text": [
      "INFO:truera.client.remote_truera_workspace:Waiting for data split to materialize...\n",
      "INFO:truera.client.truera_workspace:Download temp_dir: /var/folders/pg/2f8qcnr92cx4rcwpvm_x2ckc0000gn/T/tmpxgqdts0u\n",
      "INFO:truera.client.truera_workspace:Syncing data collection \"Data Collection v1\" to local.\n",
      "WARNING:truera.client.truera_workspace:Data split \"San Francisco\" exists in local. Skipping.\n",
      "WARNING:truera.client.truera_workspace:Data split \"Austin\" exists in local. Skipping.\n",
      "WARNING:truera.client.truera_workspace:Model \"model_2\" already exists in local. Skipping.\n",
      "INFO:truera.client.truera_workspace:Syncing segments groups from remote to local.\n",
      "WARNING:truera.client.local.intelligence.local_explainer:Failed to use TreeSHAP for this model. Defaulting to KernelSHAP...\n",
      "WARNING:truera.client.local.intelligence.local_explainer:TreeSHAP cannot handle error influence computations for regression models!\n"
     ]
    },
    {
     "data": {
      "application/vnd.jupyter.widget-view+json": {
       "model_id": "65de89b29b2a4786ad00884c0617b746",
       "version_major": 2,
       "version_minor": 0
      },
      "text/plain": [
       "|          | 0.000% [00:00<?]"
      ]
     },
     "metadata": {},
     "output_type": "display_data"
    },
    {
     "name": "stdout",
     "output_type": "stream",
     "text": [
      "Uploading tmputm7n8ti.parquet (34.0KiB) -- ### -- file upload complete.\n",
      "Put resource done.\n"
     ]
    },
    {
     "name": "stderr",
     "output_type": "stream",
     "text": [
      "INFO:truera.client.remote_truera_workspace:Waiting for data split to materialize...\n"
     ]
    }
   ],
   "source": [
    "# error influences\n",
    "\n",
    "for data_split_name in [\"Seattle\", \"San Francisco\", \"Austin\"]:\n",
    "    tru.set_data_split(data_split_name)\n",
    "    tru.compute_feature_influences(score_type=\"mean_absolute_error_for_regression\")"
   ]
  },
  {
   "cell_type": "code",
   "execution_count": 16,
   "metadata": {
    "execution": {
     "iopub.execute_input": "2023-08-03T20:10:00.195821Z",
     "iopub.status.busy": "2023-08-03T20:10:00.195112Z",
     "iopub.status.idle": "2023-08-03T20:10:04.443667Z",
     "shell.execute_reply": "2023-08-03T20:10:04.442377Z",
     "shell.execute_reply.started": "2023-08-03T20:10:00.195780Z"
    },
    "id": "_ZKjCFPbixce",
    "outputId": "3e2d3c33-f442-4b0e-e83b-703a25c43fab"
   },
   "outputs": [
    {
     "data": {
      "text/html": [
       "\n",
       "        <html>\n",
       "        <head>\n",
       "        <style>\n",
       "        table, th, td {\n",
       "            border-radius: 5px;\n",
       "        }\n",
       "        .header {\n",
       "            font-weight: bold;\n",
       "            font-size: 14px;\n",
       "        }\n",
       "        caption {\n",
       "            font-weight: bolder;\n",
       "            font-size: 16px;\n",
       "            background-color: powderblue;\n",
       "            color: black;\n",
       "            border-radius: 5px;\n",
       "        }\n",
       "        \n",
       "            .PASSED {\n",
       "                color: black;\n",
       "                background-color: palegreen;\n",
       "            }\n",
       "            .WARNING {\n",
       "                color: black;\n",
       "                background-color: yellow;\n",
       "            }\n",
       "            .FAILED {\n",
       "                color: black;\n",
       "                background-color: pink;\n",
       "            }\n",
       "            \n",
       "        </style>\n",
       "        </head>\n",
       "        <body>\n",
       "        <table>\n",
       "            <caption>Stability Tests Results for Model \"model_2\"</caption>\n",
       "            <tr class=\"header\"><td></td><td>Name</td><td>Comparison Split</td><td>Base Split</td><td>Segment</td><td>Metric</td><td>Score</td><td>Navigate</td></tr>\n",
       "            <tr><td >❌</td><td >Stability Test - Seattle</td><td >Seattle</td><td >San Francisco</td><td >ALL POINTS</td><td >DIFFERENCE_OF_MEAN</td><td class=\"FAILED\">-0.9796</td><td ><a href=\"http://localhost:8000/home/p/Starter Example Companion - Drift/m/model_2/t/stability?baseSplitName=San Francisco&compareSplitName=Seattle&splitId=5e324e56-e6f5-4bfb-ba7a-d38b81d3816d&modelIds=bd5d6e77-c6d5-4014-bf58-d6baaff0af43&\" target=\"_blank\">Explore in UI</a></td></tr><tr><td >✅</td><td >Stability Test - Austin</td><td >Austin</td><td >San Francisco</td><td >ALL POINTS</td><td >DIFFERENCE_OF_MEAN</td><td class=\"PASSED\">57.3777</td><td ><a href=\"http://localhost:8000/home/p/Starter Example Companion - Drift/m/model_2/t/stability?baseSplitName=San Francisco&compareSplitName=Austin&splitId=cf9ad8b8-a11f-495a-b062-8fcfbccd9f8a&modelIds=bd5d6e77-c6d5-4014-bf58-d6baaff0af43&\" target=\"_blank\">Explore in UI</a></td></tr>\n",
       "        </table>\n",
       "        </body>\n",
       "        </html>\n",
       "        "
      ],
      "text/plain": [
       "<truera.client.intelligence.model_tests.ModelTestResults at 0x7fe2b36b3670>"
      ]
     },
     "execution_count": 16,
     "metadata": {},
     "output_type": "execute_result"
    }
   ],
   "source": [
    "# check drift results\n",
    "tru.set_model(\"model_2\")\n",
    "tru.tester.get_model_test_results(test_types=[\"stability\"])"
   ]
  },
  {
   "attachments": {},
   "cell_type": "markdown",
   "metadata": {
    "id": "GJnsZ6dNixce"
   },
   "source": [
    "The model now passes in Austin and is ready for production, while it still fails in Seattle. Let's continue to iterate on Seattle.\n",
    "\n",
    "Since the model errors with scores that are too high, we should look for the largest positive contributors to score drift."
   ]
  },
  {
   "cell_type": "code",
   "execution_count": 17,
   "metadata": {
    "execution": {
     "iopub.execute_input": "2023-08-03T20:10:04.446618Z",
     "iopub.status.busy": "2023-08-03T20:10:04.445640Z",
     "iopub.status.idle": "2023-08-03T20:10:06.331284Z",
     "shell.execute_reply": "2023-08-03T20:10:06.330425Z",
     "shell.execute_reply.started": "2023-08-03T20:10:04.446573Z"
    },
    "id": "MR6sFFj4ixce",
    "outputId": "6fe4dbe8-e603-4a64-e5d0-16589b45a8b6"
   },
   "outputs": [
    {
     "name": "stderr",
     "output_type": "stream",
     "text": [
      "INFO:truera.client.truera_workspace:Download temp_dir: /var/folders/pg/2f8qcnr92cx4rcwpvm_x2ckc0000gn/T/tmpxgqdts0u\n",
      "INFO:truera.client.truera_workspace:Syncing data collection \"Data Collection v1\" to local.\n",
      "WARNING:truera.client.truera_workspace:Data split \"San Francisco\" exists in local. Skipping.\n",
      "WARNING:truera.client.truera_workspace:Data split \"Seattle\" exists in local. Skipping.\n",
      "WARNING:truera.client.truera_workspace:Data split \"Austin\" exists in local. Skipping.\n",
      "WARNING:truera.client.truera_workspace:Model \"model_2\" already exists in local. Skipping.\n",
      "INFO:truera.client.truera_workspace:Syncing segments groups from remote to local.\n"
     ]
    },
    {
     "data": {
      "text/html": [
       "<div>\n",
       "<style scoped>\n",
       "    .dataframe tbody tr th:only-of-type {\n",
       "        vertical-align: middle;\n",
       "    }\n",
       "\n",
       "    .dataframe tbody tr th {\n",
       "        vertical-align: top;\n",
       "    }\n",
       "\n",
       "    .dataframe thead th {\n",
       "        text-align: right;\n",
       "    }\n",
       "</style>\n",
       "<table border=\"1\" class=\"dataframe\">\n",
       "  <thead>\n",
       "    <tr style=\"text-align: right;\">\n",
       "      <th></th>\n",
       "      <th>Seattle</th>\n",
       "    </tr>\n",
       "  </thead>\n",
       "  <tbody>\n",
       "    <tr>\n",
       "      <th>availability_90</th>\n",
       "      <td>0.202483</td>\n",
       "    </tr>\n",
       "    <tr>\n",
       "      <th>bathrooms</th>\n",
       "      <td>-0.005774</td>\n",
       "    </tr>\n",
       "    <tr>\n",
       "      <th>accommodates</th>\n",
       "      <td>-0.001105</td>\n",
       "    </tr>\n",
       "    <tr>\n",
       "      <th>bedrooms</th>\n",
       "      <td>0.041468</td>\n",
       "    </tr>\n",
       "    <tr>\n",
       "      <th>reviews_per_month</th>\n",
       "      <td>-0.098158</td>\n",
       "    </tr>\n",
       "    <tr>\n",
       "      <th>beds</th>\n",
       "      <td>-0.013941</td>\n",
       "    </tr>\n",
       "    <tr>\n",
       "      <th>minimum_nights</th>\n",
       "      <td>0.051571</td>\n",
       "    </tr>\n",
       "    <tr>\n",
       "      <th>extra_people</th>\n",
       "      <td>-0.033043</td>\n",
       "    </tr>\n",
       "    <tr>\n",
       "      <th>availability_365</th>\n",
       "      <td>-0.019861</td>\n",
       "    </tr>\n",
       "    <tr>\n",
       "      <th>features_Host_Is_Superhost</th>\n",
       "      <td>-0.010163</td>\n",
       "    </tr>\n",
       "    <tr>\n",
       "      <th>amenities_Air_conditioning</th>\n",
       "      <td>-0.013478</td>\n",
       "    </tr>\n",
       "    <tr>\n",
       "      <th>amenities_Cable_TV</th>\n",
       "      <td>0.001986</td>\n",
       "    </tr>\n",
       "    <tr>\n",
       "      <th>amenities_Dog(s)</th>\n",
       "      <td>0.001237</td>\n",
       "    </tr>\n",
       "    <tr>\n",
       "      <th>amenities_Indoor_fireplace</th>\n",
       "      <td>-0.020252</td>\n",
       "    </tr>\n",
       "    <tr>\n",
       "      <th>amenities_Internet</th>\n",
       "      <td>0.003284</td>\n",
       "    </tr>\n",
       "    <tr>\n",
       "      <th>amenities_Shampoo</th>\n",
       "      <td>-0.020941</td>\n",
       "    </tr>\n",
       "    <tr>\n",
       "      <th>amenities_Smoke_detector</th>\n",
       "      <td>0.059715</td>\n",
       "    </tr>\n",
       "    <tr>\n",
       "      <th>amenities_Washer</th>\n",
       "      <td>0.021961</td>\n",
       "    </tr>\n",
       "    <tr>\n",
       "      <th>amenities_translation_missing:_en.hosting_amenity_50</th>\n",
       "      <td>0.025817</td>\n",
       "    </tr>\n",
       "    <tr>\n",
       "      <th>room_type_Entire_home/apt</th>\n",
       "      <td>0.036680</td>\n",
       "    </tr>\n",
       "    <tr>\n",
       "      <th>room_type_Private_room</th>\n",
       "      <td>-0.005888</td>\n",
       "    </tr>\n",
       "    <tr>\n",
       "      <th>lat_dist</th>\n",
       "      <td>-0.286107</td>\n",
       "    </tr>\n",
       "    <tr>\n",
       "      <th>lon_dist</th>\n",
       "      <td>-0.025086</td>\n",
       "    </tr>\n",
       "  </tbody>\n",
       "</table>\n",
       "</div>"
      ],
      "text/plain": [
       "                                                     Seattle\n",
       "availability_90                                     0.202483\n",
       "bathrooms                                          -0.005774\n",
       "accommodates                                       -0.001105\n",
       "bedrooms                                            0.041468\n",
       "reviews_per_month                                  -0.098158\n",
       "beds                                               -0.013941\n",
       "minimum_nights                                      0.051571\n",
       "extra_people                                       -0.033043\n",
       "availability_365                                   -0.019861\n",
       "features_Host_Is_Superhost                         -0.010163\n",
       "amenities_Air_conditioning                         -0.013478\n",
       "amenities_Cable_TV                                  0.001986\n",
       "amenities_Dog(s)                                    0.001237\n",
       "amenities_Indoor_fireplace                         -0.020252\n",
       "amenities_Internet                                  0.003284\n",
       "amenities_Shampoo                                  -0.020941\n",
       "amenities_Smoke_detector                            0.059715\n",
       "amenities_Washer                                    0.021961\n",
       "amenities_translation_missing:_en.hosting_ameni...  0.025817\n",
       "room_type_Entire_home/apt                           0.036680\n",
       "room_type_Private_room                             -0.005888\n",
       "lat_dist                                           -0.286107\n",
       "lon_dist                                           -0.025086"
      ]
     },
     "execution_count": 17,
     "metadata": {},
     "output_type": "execute_result"
    }
   ],
   "source": [
    "explainer = tru.get_explainer(\"San Francisco\", comparison_data_splits=[\"Seattle\"])\n",
    "explainer.compute_feature_contributors_to_instability(use_difference_of_means=True).T"
   ]
  },
  {
   "attachments": {},
   "cell_type": "markdown",
   "metadata": {
    "id": "knOfy6PRixce"
   },
   "source": [
    "Availability_90 is by far the largest positive contributor to score drift in Seattle. Let's remove that feature along with the related feature Availability_365 to mitigate this issue."
   ]
  },
  {
   "cell_type": "code",
   "execution_count": 18,
   "metadata": {
    "execution": {
     "iopub.execute_input": "2023-08-03T20:10:06.332794Z",
     "iopub.status.busy": "2023-08-03T20:10:06.332383Z",
     "iopub.status.idle": "2023-08-03T20:10:07.169787Z",
     "shell.execute_reply": "2023-08-03T20:10:07.168723Z",
     "shell.execute_reply.started": "2023-08-03T20:10:06.332768Z"
    }
   },
   "outputs": [],
   "source": [
    "# train a new model\n",
    "xgb_reg = xgb.XGBRegressor(eta=0.2, max_depth=4)\n",
    "xgb_reg.fit(san_francisco_resampled.drop([\"id\", \"price\", \"availability_90\", \"availability_365\"], axis=1),\n",
    "            san_francisco_resampled.price)\n",
    "\n",
    "# create the first project and data collection\n",
    "tru.add_data_collection(\"Data Collection v2\")"
   ]
  },
  {
   "cell_type": "code",
   "execution_count": 19,
   "metadata": {
    "execution": {
     "iopub.execute_input": "2023-08-03T20:10:07.171791Z",
     "iopub.status.busy": "2023-08-03T20:10:07.171325Z",
     "iopub.status.idle": "2023-08-03T20:10:29.122344Z",
     "shell.execute_reply": "2023-08-03T20:10:29.121281Z",
     "shell.execute_reply.started": "2023-08-03T20:10:07.171761Z"
    },
    "id": "jTrTPeZpixce",
    "outputId": "0a771a73-d1ef-4434-ee13-a42e455fd4a0"
   },
   "outputs": [
    {
     "name": "stderr",
     "output_type": "stream",
     "text": [
      "WARNING:truera.client.remote_truera_workspace:Column 'availability_90' found in `data`, but will be ignored as it is not specified in `column_spec`.\n",
      "WARNING:truera.client.remote_truera_workspace:Column 'availability_365' found in `data`, but will be ignored as it is not specified in `column_spec`.\n"
     ]
    },
    {
     "name": "stdout",
     "output_type": "stream",
     "text": [
      "Uploading tmpxmjf1ok9.parquet (224.4KiB) -- ### -- file upload complete.\n",
      "Put resource done.\n"
     ]
    },
    {
     "name": "stderr",
     "output_type": "stream",
     "text": [
      "INFO:truera.client.remote_truera_workspace:Waiting for data split to materialize...\n",
      "WARNING:truera.client.remote_truera_workspace:Column 'availability_90' found in `data`, but will be ignored as it is not specified in `column_spec`.\n",
      "WARNING:truera.client.remote_truera_workspace:Column 'availability_365' found in `data`, but will be ignored as it is not specified in `column_spec`.\n"
     ]
    },
    {
     "name": "stdout",
     "output_type": "stream",
     "text": [
      "Uploading tmpcz8_ctxy.parquet (147.9KiB) -- ### -- file upload complete.\n",
      "Put resource done.\n"
     ]
    },
    {
     "name": "stderr",
     "output_type": "stream",
     "text": [
      "INFO:truera.client.remote_truera_workspace:Waiting for data split to materialize...\n",
      "WARNING:truera.client.remote_truera_workspace:Column 'availability_90' found in `data`, but will be ignored as it is not specified in `column_spec`.\n",
      "WARNING:truera.client.remote_truera_workspace:Column 'availability_365' found in `data`, but will be ignored as it is not specified in `column_spec`.\n"
     ]
    },
    {
     "name": "stdout",
     "output_type": "stream",
     "text": [
      "Uploading tmpns3_c81l.parquet (336.8KiB) -- ### -- file upload complete.\n",
      "Put resource done.\n"
     ]
    },
    {
     "name": "stderr",
     "output_type": "stream",
     "text": [
      "INFO:truera.client.remote_truera_workspace:Waiting for data split to materialize...\n",
      "INFO:truera.client.remote_truera_workspace:Uploading xgboost model: XGBRegressor\n",
      "INFO:truera.client.remote_truera_workspace:Verifying model...\n",
      "INFO:truera.client.remote_truera_workspace:✔️ Verified packaged model format.\n",
      "INFO:truera.client.remote_truera_workspace:✔️ Loaded model in current environment.\n",
      "INFO:truera.client.remote_truera_workspace:✔️ Called predict on model.\n",
      "INFO:truera.client.remote_truera_workspace:✔️ Verified model output.\n",
      "INFO:truera.client.remote_truera_workspace:Verification succeeded!\n"
     ]
    },
    {
     "name": "stdout",
     "output_type": "stream",
     "text": [
      "Uploading MLmodel (218.0B) -- ### -- file upload complete.\n",
      "Uploading conda.yaml (208.0B) -- ### -- file upload complete.\n",
      "Uploading tmp2ilmhwla.json (170.9KiB) -- ### -- file upload complete.\n",
      "Uploading xgboost_regression_predict_wrapper.py (459.0B) -- ### -- file upload complete.\n",
      "Uploading xgboost_regression_predict_wrapper.cpython-310.pyc (1.1KiB) -- ### -- file upload complete.\n",
      "Put resource done.\n"
     ]
    },
    {
     "name": "stderr",
     "output_type": "stream",
     "text": [
      "INFO:truera.client.remote_truera_workspace:Model \"model_3\" is added and associated with remote data collection \"Data Collection v2\". \"model_3\" is set as the model for the workspace context.\n"
     ]
    },
    {
     "name": "stdout",
     "output_type": "stream",
     "text": [
      "Model uploaded to: http://localhost:8000/home/p/Starter%20Example%20Companion%20-%20Drift/m/model_3/\n"
     ]
    }
   ],
   "source": [
    "# add data to the collection we just created\n",
    "tru.add_data(data=san_francisco,\n",
    "             data_split_name=\"San Francisco\",\n",
    "             column_spec=ColumnSpec(id_col_name=\"id\",\n",
    "                                    pre_data_col_names=list(\n",
    "                                        san_francisco.columns.drop(\n",
    "                                            [\"id\", \"price\", \"availability_90\", \"availability_365\"])),\n",
    "                                    label_col_names=\"price\"))\n",
    "tru.add_data(data=seattle,\n",
    "             data_split_name=\"Seattle\",\n",
    "             column_spec=ColumnSpec(id_col_name=\"id\",\n",
    "                                    pre_data_col_names=list(\n",
    "                                        seattle.columns.drop([\"id\", \"price\", \"availability_90\", \"availability_365\"])),\n",
    "                                    label_col_names=\"price\"))\n",
    "tru.add_data(data=austin,\n",
    "             data_split_name=\"Austin\",\n",
    "             column_spec=ColumnSpec(id_col_name=\"id\",\n",
    "                                    pre_data_col_names=list(\n",
    "                                        seattle.columns.drop([\"id\", \"price\", \"availability_90\", \"availability_365\"])),\n",
    "                                    label_col_names=\"price\"))\n",
    "tru.set_influences_background_data_split(\"San Francisco\")\n",
    "\n",
    "# register the model\n",
    "tru.add_python_model(\"model_3\",\n",
    "                     xgb_reg,\n",
    "                     train_parameters={\n",
    "                         \"model_type\": \"xgb.XGBRegressor\",\n",
    "                         \"eta\": 0.2,\n",
    "                         \"max_depth\": 4\n",
    "                     },\n",
    "                     compute_predictions=False)"
   ]
  },
  {
   "cell_type": "code",
   "execution_count": 20,
   "metadata": {
    "execution": {
     "iopub.execute_input": "2023-08-03T20:10:29.125033Z",
     "iopub.status.busy": "2023-08-03T20:10:29.124474Z",
     "iopub.status.idle": "2023-08-03T20:10:29.133360Z",
     "shell.execute_reply": "2023-08-03T20:10:29.132569Z",
     "shell.execute_reply.started": "2023-08-03T20:10:29.125000Z"
    }
   },
   "outputs": [],
   "source": [
    "tru.set_model(\"model_3\")"
   ]
  },
  {
   "cell_type": "code",
   "execution_count": 21,
   "metadata": {
    "execution": {
     "iopub.execute_input": "2023-08-03T20:10:29.135596Z",
     "iopub.status.busy": "2023-08-03T20:10:29.135182Z",
     "iopub.status.idle": "2023-08-03T20:11:04.066830Z",
     "shell.execute_reply": "2023-08-03T20:11:04.065141Z",
     "shell.execute_reply.started": "2023-08-03T20:10:29.135566Z"
    }
   },
   "outputs": [
    {
     "name": "stderr",
     "output_type": "stream",
     "text": [
      "INFO:truera.client.truera_workspace:Download temp_dir: /var/folders/pg/2f8qcnr92cx4rcwpvm_x2ckc0000gn/T/tmpxgqdts0u\n",
      "INFO:truera.client.truera_workspace:Syncing data collection \"Data Collection v2\" to local.\n",
      "INFO:truera.client.local.local_truera_workspace:Data collection in local environment is now set to \"Data Collection v2\". The previous data collection (\"Data Collection v1\") and its associated data splits and/or models have been cleared from the local environment workspace context.\n",
      "INFO:truera.client.truera_workspace:Syncing data split \"San Francisco\" to local.\n",
      "INFO:truera.client.local.local_truera_workspace:Data split \"San Francisco\" is added to local data collection \"Data Collection v2\", and set as the data split for the workspace context.\n",
      "INFO:truera.client.truera_workspace:Syncing data split \"Seattle\" to local.\n",
      "INFO:truera.client.local.local_truera_workspace:Data split \"Seattle\" is added to local data collection \"Data Collection v2\", and set as the data split for the workspace context.\n",
      "INFO:truera.client.truera_workspace:Syncing model model_3 to local.\n",
      "INFO:truera.client.local.local_truera_workspace:Model \"model_3\" is added and associated with local data collection \"Data Collection v2\". \"model_3\" is set as the model for the workspace context.\n",
      "INFO:truera.client.truera_workspace:Syncing segments groups from remote to local.\n",
      "INFO:truera.client.local.local_truera_workspace:Model \"model_2\" in local is associated with a different data_collection (\"Data Collection v1\") than the one in context (\"Data Collection v2\").\n",
      "INFO:truera.client.local.local_truera_workspace:Data collection in local environment is now set to \"Data Collection v1\". The previous data collection (\"Data Collection v2\") and its associated data splits and/or models have been cleared from the local environment workspace context.\n",
      "INFO:truera.client.local.local_truera_workspace:Setting local model context to \"model_2\".\n",
      "INFO:truera.client.local.local_truera_workspace:Model \"model_3\" in local is associated with a different data_collection (\"Data Collection v2\") than the one in context (\"Data Collection v1\").\n",
      "INFO:truera.client.local.local_truera_workspace:Data collection in local environment is now set to \"Data Collection v2\". The previous data collection (\"Data Collection v1\") and its associated data splits and/or models have been cleared from the local environment workspace context.\n",
      "INFO:truera.client.local.local_truera_workspace:Setting local model context to \"model_3\".\n",
      "INFO:truera.client.remote_truera_workspace:`model_output_context` will be inferred as it was not provided.\n",
      "INFO:truera.client.remote_truera_workspace:Inferred ModelOutputContext: ModelOutputContext(model_name='model_3', score_type='regression', background_split_name='', influence_type='')\n"
     ]
    },
    {
     "name": "stdout",
     "output_type": "stream",
     "text": [
      "Uploading tmpuu8gx_br.parquet (44.3KiB) -- ### -- file upload complete.\n",
      "Put resource done.\n"
     ]
    },
    {
     "name": "stderr",
     "output_type": "stream",
     "text": [
      "INFO:truera.client.remote_truera_workspace:Waiting for data split to materialize...\n",
      "INFO:truera.client.truera_workspace:Download temp_dir: /var/folders/pg/2f8qcnr92cx4rcwpvm_x2ckc0000gn/T/tmpxgqdts0u\n",
      "INFO:truera.client.local.local_truera_workspace:Data collection in local environment is now set to \"Data Collection v1\". The previous data collection (\"Data Collection v2\") and its associated data splits and/or models have been cleared from the local environment workspace context.\n",
      "INFO:truera.client.local.local_truera_workspace:Data collection in local environment is now set to \"Data Collection v2\". The previous data collection (\"Data Collection v1\") and its associated data splits and/or models have been cleared from the local environment workspace context.\n",
      "INFO:truera.client.truera_workspace:Syncing data collection \"Data Collection v2\" to local.\n",
      "WARNING:truera.client.truera_workspace:Data split \"San Francisco\" exists in local. Skipping.\n",
      "WARNING:truera.client.truera_workspace:Model \"model_3\" already exists in local. Skipping.\n",
      "INFO:truera.client.truera_workspace:Syncing segments groups from remote to local.\n",
      "INFO:truera.client.local.local_truera_workspace:Setting local model context to \"model_3\".\n",
      "INFO:truera.client.remote_truera_workspace:`model_output_context` will be inferred as it was not provided.\n",
      "INFO:truera.client.remote_truera_workspace:Inferred ModelOutputContext: ModelOutputContext(model_name='model_3', score_type='regression', background_split_name='', influence_type='')\n"
     ]
    },
    {
     "name": "stdout",
     "output_type": "stream",
     "text": [
      "Uploading tmp798_ai0g.parquet (70.6KiB) -- ### -- file upload complete.\n",
      "Put resource done.\n"
     ]
    },
    {
     "name": "stderr",
     "output_type": "stream",
     "text": [
      "INFO:truera.client.remote_truera_workspace:Waiting for data split to materialize...\n",
      "INFO:truera.client.truera_workspace:Download temp_dir: /var/folders/pg/2f8qcnr92cx4rcwpvm_x2ckc0000gn/T/tmpxgqdts0u\n",
      "INFO:truera.client.local.local_truera_workspace:Data collection in local environment is now set to \"Data Collection v1\". The previous data collection (\"Data Collection v2\") and its associated data splits and/or models have been cleared from the local environment workspace context.\n",
      "INFO:truera.client.local.local_truera_workspace:Data collection in local environment is now set to \"Data Collection v2\". The previous data collection (\"Data Collection v1\") and its associated data splits and/or models have been cleared from the local environment workspace context.\n",
      "INFO:truera.client.truera_workspace:Syncing data collection \"Data Collection v2\" to local.\n",
      "WARNING:truera.client.truera_workspace:Data split \"San Francisco\" exists in local. Skipping.\n",
      "INFO:truera.client.truera_workspace:Syncing data split \"Austin\" to local.\n",
      "INFO:truera.client.local.local_truera_workspace:Data split \"Austin\" is added to local data collection \"Data Collection v2\", and set as the data split for the workspace context.\n",
      "WARNING:truera.client.truera_workspace:Model \"model_3\" already exists in local. Skipping.\n",
      "INFO:truera.client.truera_workspace:Syncing segments groups from remote to local.\n",
      "INFO:truera.client.local.local_truera_workspace:Setting local model context to \"model_3\".\n",
      "INFO:truera.client.remote_truera_workspace:`model_output_context` will be inferred as it was not provided.\n",
      "INFO:truera.client.remote_truera_workspace:Inferred ModelOutputContext: ModelOutputContext(model_name='model_3', score_type='regression', background_split_name='', influence_type='')\n"
     ]
    },
    {
     "name": "stdout",
     "output_type": "stream",
     "text": [
      "Uploading tmprnsl8_jm.parquet (111.1KiB) -- ### -- file upload complete.\n",
      "Put resource done.\n"
     ]
    },
    {
     "name": "stderr",
     "output_type": "stream",
     "text": [
      "INFO:truera.client.remote_truera_workspace:Waiting for data split to materialize...\n"
     ]
    }
   ],
   "source": [
    "for data_split_name in [\"Seattle\", \"San Francisco\", \"Austin\"]:\n",
    "    tru.set_data_split(data_split_name)\n",
    "    preds = tru.get_ys_pred().reset_index(names=\"id\")\n",
    "    tru.add_data(data=preds,\n",
    "                 data_split_name=data_split_name,\n",
    "                 column_spec=ColumnSpec(id_col_name=\"id\", prediction_col_names=\"__truera_prediction__\"))"
   ]
  },
  {
   "cell_type": "code",
   "execution_count": 22,
   "metadata": {
    "execution": {
     "iopub.execute_input": "2023-08-03T20:11:04.069395Z",
     "iopub.status.busy": "2023-08-03T20:11:04.068475Z",
     "iopub.status.idle": "2023-08-03T20:11:04.424475Z",
     "shell.execute_reply": "2023-08-03T20:11:04.423473Z",
     "shell.execute_reply.started": "2023-08-03T20:11:04.069366Z"
    },
    "id": "x-Ioo-Ajixce",
    "outputId": "ebef4cce-44f5-4b3a-aaba-3c2111e5b2a1"
   },
   "outputs": [
    {
     "name": "stderr",
     "output_type": "stream",
     "text": [
      "INFO:truera.client.remote_truera_workspace:Model \"model_2\" in remote is associated with a different data_collection (\"Data Collection v1\") than the one in context (\"Data Collection v2\").\n",
      "INFO:truera.client.remote_truera_workspace:Data collection in remote environment is now set to \"Data Collection v1\". The previous data collection (\"Data Collection v2\") and its associated data splits and/or models have been cleared from the remote environment workspace context.\n",
      "INFO:truera.client.remote_truera_workspace:Setting remote model context to \"model_2\".\n"
     ]
    },
    {
     "data": {
      "text/plain": [
       "[['Stability Test - Seattle',\n",
       "  'Seattle',\n",
       "  'San Francisco',\n",
       "  'ALL POINTS',\n",
       "  'DIFFERENCE_OF_MEAN',\n",
       "  '',\n",
       "  'Not specified',\n",
       "  'DIFFERENCE_OF_MEAN < -142.44841 OR DIFFERENCE_OF_MEAN > -12.44841'],\n",
       " ['Stability Test - Austin',\n",
       "  'Austin',\n",
       "  'San Francisco',\n",
       "  'ALL POINTS',\n",
       "  'DIFFERENCE_OF_MEAN',\n",
       "  '',\n",
       "  'Not specified',\n",
       "  'DIFFERENCE_OF_MEAN < -18.244545 OR DIFFERENCE_OF_MEAN > 61.755455']]"
      ]
     },
     "execution_count": 22,
     "metadata": {},
     "output_type": "execute_result"
    }
   ],
   "source": [
    "# get the test details from model_2 so we can copy them for model_3\n",
    "tru.set_model(\"model_2\")\n",
    "tru.tester.get_model_tests().as_dict()[\"Stability Tests\"][\"Rows\"]"
   ]
  },
  {
   "cell_type": "code",
   "execution_count": 23,
   "metadata": {
    "execution": {
     "iopub.execute_input": "2023-08-03T20:11:04.426850Z",
     "iopub.status.busy": "2023-08-03T20:11:04.426461Z",
     "iopub.status.idle": "2023-08-03T20:11:04.935967Z",
     "shell.execute_reply": "2023-08-03T20:11:04.935023Z",
     "shell.execute_reply.started": "2023-08-03T20:11:04.426824Z"
    }
   },
   "outputs": [
    {
     "name": "stderr",
     "output_type": "stream",
     "text": [
      "INFO:truera.client.remote_truera_workspace:Model \"model_3\" in remote is associated with a different data_collection (\"Data Collection v2\") than the one in context (\"Data Collection v1\").\n",
      "INFO:truera.client.remote_truera_workspace:Data collection in remote environment is now set to \"Data Collection v2\". The previous data collection (\"Data Collection v1\") and its associated data splits and/or models have been cleared from the remote environment workspace context.\n",
      "INFO:truera.client.remote_truera_workspace:Setting remote model context to \"model_3\".\n"
     ]
    }
   ],
   "source": [
    "# check stability results\n",
    "tru.set_model(\"model_3\")\n",
    "\n",
    "# let the warn conditions have $50 in wiggle room\n",
    "tru.tester.add_stability_test(test_name=\"Stability Test - Seattle - v3\",\n",
    "                              base_data_split_name=\"San Francisco\",\n",
    "                              comparison_data_split_names=[\"Seattle\"],\n",
    "                              fail_if_outside=[-142.44841, -12.44841])"
   ]
  },
  {
   "cell_type": "code",
   "execution_count": 24,
   "metadata": {
    "execution": {
     "iopub.execute_input": "2023-08-03T20:11:04.938091Z",
     "iopub.status.busy": "2023-08-03T20:11:04.937732Z",
     "iopub.status.idle": "2023-08-03T20:11:06.975477Z",
     "shell.execute_reply": "2023-08-03T20:11:06.974536Z",
     "shell.execute_reply.started": "2023-08-03T20:11:04.938058Z"
    },
    "id": "HhCY_1VZixcf",
    "outputId": "3ff6e498-04a1-4105-a16c-bceac7dc8c81"
   },
   "outputs": [
    {
     "data": {
      "text/html": [
       "\n",
       "        <html>\n",
       "        <head>\n",
       "        <style>\n",
       "        table, th, td {\n",
       "            border-radius: 5px;\n",
       "        }\n",
       "        .header {\n",
       "            font-weight: bold;\n",
       "            font-size: 14px;\n",
       "        }\n",
       "        caption {\n",
       "            font-weight: bolder;\n",
       "            font-size: 16px;\n",
       "            background-color: powderblue;\n",
       "            color: black;\n",
       "            border-radius: 5px;\n",
       "        }\n",
       "        \n",
       "            .PASSED {\n",
       "                color: black;\n",
       "                background-color: palegreen;\n",
       "            }\n",
       "            .WARNING {\n",
       "                color: black;\n",
       "                background-color: yellow;\n",
       "            }\n",
       "            .FAILED {\n",
       "                color: black;\n",
       "                background-color: pink;\n",
       "            }\n",
       "            \n",
       "        </style>\n",
       "        </head>\n",
       "        <body>\n",
       "        <table>\n",
       "            <caption>Stability Tests Results for Model \"model_3\"</caption>\n",
       "            <tr class=\"header\"><td></td><td>Name</td><td>Comparison Split</td><td>Base Split</td><td>Segment</td><td>Metric</td><td>Score</td><td>Navigate</td></tr>\n",
       "            <tr><td >✅</td><td >Stability Test - Seattle - v3</td><td >Seattle</td><td >San Francisco</td><td >ALL POINTS</td><td >DIFFERENCE_OF_MEAN</td><td class=\"PASSED\">-12.9648</td><td ><a href=\"http://localhost:8000/home/p/Starter Example Companion - Drift/m/model_3/t/stability?baseSplitName=San Francisco&compareSplitName=Seattle&splitId=cb6284d8-43cb-4d7c-a909-2b0472758550&modelIds=54160ebf-7995-4c6c-affe-eb3cf613519a&\" target=\"_blank\">Explore in UI</a></td></tr>\n",
       "        </table>\n",
       "        </body>\n",
       "        </html>\n",
       "        "
      ],
      "text/plain": [
       "<truera.client.intelligence.model_tests.ModelTestResults at 0x7fe2cc3b1a80>"
      ]
     },
     "execution_count": 24,
     "metadata": {},
     "output_type": "execute_result"
    }
   ],
   "source": [
    "tru.tester.get_model_test_results(test_types=[\"stability\"])"
   ]
  },
  {
   "attachments": {},
   "cell_type": "markdown",
   "metadata": {
    "id": "Rh78BT9bixcf"
   },
   "source": [
    "In v3, the model passes now in Seattle. We can deploy the v2 model in Austin and v3 model in Seattle as we launch and the investors of our startup are satisfied with these results!"
   ]
  }
 ],
 "metadata": {
  "colab": {
   "collapsed_sections": [
    "glAQlNBfixcb"
   ],
   "provenance": []
  },
  "kernelspec": {
   "display_name": "Python 3 (ipykernel)",
   "language": "python",
   "name": "python3"
  },
  "language_info": {
   "codemirror_mode": {
    "name": "ipython",
    "version": 3
   },
   "file_extension": ".py",
   "mimetype": "text/x-python",
   "name": "python",
   "nbconvert_exporter": "python",
   "pygments_lexer": "ipython3",
   "version": "3.10.6"
  },
  "vscode": {
   "interpreter": {
    "hash": "b4f2e5daa82a60c8a70e0d3e9bda538f88cddb8e82481cb13c1d3f460faace44"
   }
  }
 },
 "nbformat": 4,
 "nbformat_minor": 4
}

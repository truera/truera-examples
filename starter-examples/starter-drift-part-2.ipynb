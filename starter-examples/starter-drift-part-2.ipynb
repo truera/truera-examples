{
 "cells": [
  {
   "attachments": {},
   "cell_type": "markdown",
   "metadata": {
    "id": "4ThQA9IJixcY"
   },
   "source": [
    "# Guided Exercise: Drift\n",
    "This is a continuation of part 1. If you missed it:     [![Open In Colab](https://colab.research.google.com/assets/colab-badge.svg)](https://colab.research.google.com/github/truera/truera-examples/blob/release/rc-1.37/starter-examples/starter-drift-part-1.ipynb)\n",
    "\n",
    "#### Goals 🎯\n",
    "In this tutorial, you will learn how to:\n",
    "1. View the results of stability tests set up in part 1.\n",
    "2. Debug the true cause of stability issues.\n",
    "3. Retest the new model and confirm the effectiveness of the mitigation strategy.\n",
    "\n",
    "### First, set the credentials for your TruEra deployment.\n",
    "If you don't have credentials yet, get them instantly by signing up for free at: https://www.truera.com"
   ]
  },
  {
   "cell_type": "code",
   "execution_count": 1,
   "metadata": {
    "id": "5R0i__Z8ixca"
   },
   "outputs": [],
   "source": [
    "# connection details\n",
    "TRUERA_URL = \"https://app.truera.net\"\n",
    "AUTH_TOKEN = \"...\""
   ]
  },
  {
   "attachments": {},
   "cell_type": "markdown",
   "metadata": {
    "id": "glAQlNBfixcb"
   },
   "source": [
    "### Install the required packages for running in colab"
   ]
  },
  {
   "cell_type": "code",
   "execution_count": 4,
   "metadata": {
    "colab": {
     "base_uri": "https://localhost:8080/"
    },
    "id": "Y_ypf-Pmixcb",
    "outputId": "4f6af9b2-bbb0-42f4-8138-ae8e375e7066"
   },
   "outputs": [
    {
     "name": "stdout",
     "output_type": "stream",
     "text": [
      "Requirement already satisfied: shap in /Users/davidkurokawa/opt/anaconda3/envs/demo3/lib/python3.10/site-packages (0.41.0)\n",
      "Requirement already satisfied: tqdm>4.25.0 in /Users/davidkurokawa/opt/anaconda3/envs/demo3/lib/python3.10/site-packages (from shap) (4.65.0)\n",
      "Requirement already satisfied: cloudpickle in /Users/davidkurokawa/opt/anaconda3/envs/demo3/lib/python3.10/site-packages (from shap) (2.2.1)\n",
      "Requirement already satisfied: slicer==0.0.7 in /Users/davidkurokawa/opt/anaconda3/envs/demo3/lib/python3.10/site-packages (from shap) (0.0.7)\n",
      "Requirement already satisfied: scipy in /Users/davidkurokawa/opt/anaconda3/envs/demo3/lib/python3.10/site-packages (from shap) (1.10.1)\n",
      "Requirement already satisfied: numpy in /Users/davidkurokawa/opt/anaconda3/envs/demo3/lib/python3.10/site-packages (from shap) (1.23.5)\n",
      "Requirement already satisfied: scikit-learn in /Users/davidkurokawa/opt/anaconda3/envs/demo3/lib/python3.10/site-packages (from shap) (1.2.2)\n",
      "Requirement already satisfied: packaging>20.9 in /Users/davidkurokawa/opt/anaconda3/envs/demo3/lib/python3.10/site-packages (from shap) (23.1)\n",
      "Requirement already satisfied: pandas in /Users/davidkurokawa/opt/anaconda3/envs/demo3/lib/python3.10/site-packages (from shap) (2.0.1)\n",
      "Requirement already satisfied: numba in /Users/davidkurokawa/opt/anaconda3/envs/demo3/lib/python3.10/site-packages (from shap) (0.56.4)\n",
      "Requirement already satisfied: llvmlite<0.40,>=0.39.0dev0 in /Users/davidkurokawa/opt/anaconda3/envs/demo3/lib/python3.10/site-packages (from numba->shap) (0.39.1)\n",
      "Requirement already satisfied: setuptools in /Users/davidkurokawa/opt/anaconda3/envs/demo3/lib/python3.10/site-packages (from numba->shap) (67.7.2)\n",
      "Requirement already satisfied: tzdata>=2022.1 in /Users/davidkurokawa/opt/anaconda3/envs/demo3/lib/python3.10/site-packages (from pandas->shap) (2023.3)\n",
      "Requirement already satisfied: pytz>=2020.1 in /Users/davidkurokawa/opt/anaconda3/envs/demo3/lib/python3.10/site-packages (from pandas->shap) (2023.3)\n",
      "Requirement already satisfied: python-dateutil>=2.8.2 in /Users/davidkurokawa/opt/anaconda3/envs/demo3/lib/python3.10/site-packages (from pandas->shap) (2.8.2)\n",
      "Requirement already satisfied: threadpoolctl>=2.0.0 in /Users/davidkurokawa/opt/anaconda3/envs/demo3/lib/python3.10/site-packages (from scikit-learn->shap) (3.1.0)\n",
      "Requirement already satisfied: joblib>=1.1.1 in /Users/davidkurokawa/opt/anaconda3/envs/demo3/lib/python3.10/site-packages (from scikit-learn->shap) (1.2.0)\n",
      "Requirement already satisfied: six>=1.5 in /Users/davidkurokawa/opt/anaconda3/envs/demo3/lib/python3.10/site-packages (from python-dateutil>=2.8.2->pandas->shap) (1.16.0)\n",
      "Requirement already satisfied: truera in /Users/davidkurokawa/opt/anaconda3/envs/demo3/lib/python3.10/site-packages (11.6.3)\n",
      "Requirement already satisfied: protobuf>=4.21.12 in /Users/davidkurokawa/opt/anaconda3/envs/demo3/lib/python3.10/site-packages (from truera) (4.22.3)\n",
      "Requirement already satisfied: pyarrow>=10.0.0 in /Users/davidkurokawa/opt/anaconda3/envs/demo3/lib/python3.10/site-packages (from truera) (11.0.0)\n",
      "Requirement already satisfied: humanize>=4.3.0 in /Users/davidkurokawa/opt/anaconda3/envs/demo3/lib/python3.10/site-packages (from truera) (4.6.0)\n",
      "Requirement already satisfied: cryptography>=3.2 in /Users/davidkurokawa/opt/anaconda3/envs/demo3/lib/python3.10/site-packages (from truera) (40.0.2)\n",
      "Requirement already satisfied: importlib-metadata>=4.8.1 in /Users/davidkurokawa/opt/anaconda3/envs/demo3/lib/python3.10/site-packages (from truera) (6.6.0)\n",
      "Requirement already satisfied: nbformat>=5.1.2 in /Users/davidkurokawa/opt/anaconda3/envs/demo3/lib/python3.10/site-packages (from truera) (5.8.0)\n",
      "Requirement already satisfied: crontab==0.23.0 in /Users/davidkurokawa/opt/anaconda3/envs/demo3/lib/python3.10/site-packages (from truera) (0.23.0)\n",
      "Requirement already satisfied: pyjwt>=2.4.0 in /Users/davidkurokawa/opt/anaconda3/envs/demo3/lib/python3.10/site-packages (from truera) (2.6.0)\n",
      "Requirement already satisfied: sympy>=1.10.1 in /Users/davidkurokawa/opt/anaconda3/envs/demo3/lib/python3.10/site-packages (from truera) (1.10.1)\n",
      "Requirement already satisfied: dynaconf==3.1.11 in /Users/davidkurokawa/opt/anaconda3/envs/demo3/lib/python3.10/site-packages (from truera) (3.1.11)\n",
      "Requirement already satisfied: filelock>=3.0.12 in /Users/davidkurokawa/opt/anaconda3/envs/demo3/lib/python3.10/site-packages (from truera) (3.12.0)\n",
      "Requirement already satisfied: requests>=2.25.0 in /Users/davidkurokawa/opt/anaconda3/envs/demo3/lib/python3.10/site-packages (from truera) (2.28.2)\n",
      "Requirement already satisfied: mpmath==0.19 in /Users/davidkurokawa/opt/anaconda3/envs/demo3/lib/python3.10/site-packages (from truera) (0.19)\n",
      "Requirement already satisfied: grpcio>=1.50.0 in /Users/davidkurokawa/opt/anaconda3/envs/demo3/lib/python3.10/site-packages (from truera) (1.54.0)\n",
      "Requirement already satisfied: plotly>=5.11.0 in /Users/davidkurokawa/opt/anaconda3/envs/demo3/lib/python3.10/site-packages (from truera) (5.14.1)\n",
      "Requirement already satisfied: googleapis-common-protos>=1.56.0 in /Users/davidkurokawa/opt/anaconda3/envs/demo3/lib/python3.10/site-packages (from truera) (1.59.0)\n",
      "Requirement already satisfied: pydantic>=1.8.0 in /Users/davidkurokawa/opt/anaconda3/envs/demo3/lib/python3.10/site-packages (from truera) (1.10.7)\n",
      "Requirement already satisfied: scikit-learn>=0.21.2 in /Users/davidkurokawa/opt/anaconda3/envs/demo3/lib/python3.10/site-packages (from truera) (1.2.2)\n",
      "Requirement already satisfied: pandas>=1.1.1 in /Users/davidkurokawa/opt/anaconda3/envs/demo3/lib/python3.10/site-packages (from truera) (2.0.1)\n",
      "Requirement already satisfied: urllib3>=1.25.8 in /Users/davidkurokawa/opt/anaconda3/envs/demo3/lib/python3.10/site-packages (from truera) (1.26.15)\n",
      "Requirement already satisfied: tqdm>4.25.0 in /Users/davidkurokawa/opt/anaconda3/envs/demo3/lib/python3.10/site-packages (from truera) (4.65.0)\n",
      "Requirement already satisfied: cachetools>=5.2.0 in /Users/davidkurokawa/opt/anaconda3/envs/demo3/lib/python3.10/site-packages (from truera) (5.3.0)\n",
      "Requirement already satisfied: pyyaml>=5.3.1 in /Users/davidkurokawa/opt/anaconda3/envs/demo3/lib/python3.10/site-packages (from truera) (6.0)\n",
      "Requirement already satisfied: click>=8.0 in /Users/davidkurokawa/opt/anaconda3/envs/demo3/lib/python3.10/site-packages (from truera) (8.1.3)\n",
      "Requirement already satisfied: tabulate>=0.8.9 in /Users/davidkurokawa/opt/anaconda3/envs/demo3/lib/python3.10/site-packages (from truera) (0.9.0)\n",
      "Requirement already satisfied: shap>=0.41.0 in /Users/davidkurokawa/opt/anaconda3/envs/demo3/lib/python3.10/site-packages (from truera) (0.41.0)\n",
      "Requirement already satisfied: grpcio-status>=1.50.0 in /Users/davidkurokawa/opt/anaconda3/envs/demo3/lib/python3.10/site-packages (from truera) (1.54.0)\n",
      "Requirement already satisfied: python-dateutil>=2.8.1 in /Users/davidkurokawa/opt/anaconda3/envs/demo3/lib/python3.10/site-packages (from truera) (2.8.2)\n",
      "Requirement already satisfied: sqlparse==0.4.2 in /Users/davidkurokawa/opt/anaconda3/envs/demo3/lib/python3.10/site-packages (from truera) (0.4.2)\n",
      "Requirement already satisfied: cloudpickle>=1.2.2 in /Users/davidkurokawa/opt/anaconda3/envs/demo3/lib/python3.10/site-packages (from truera) (2.2.1)\n",
      "Requirement already satisfied: numpy<1.24.0 in /Users/davidkurokawa/opt/anaconda3/envs/demo3/lib/python3.10/site-packages (from truera) (1.23.5)\n",
      "Requirement already satisfied: cffi>=1.12 in /Users/davidkurokawa/opt/anaconda3/envs/demo3/lib/python3.10/site-packages (from cryptography>=3.2->truera) (1.15.1)\n",
      "Requirement already satisfied: zipp>=0.5 in /Users/davidkurokawa/opt/anaconda3/envs/demo3/lib/python3.10/site-packages (from importlib-metadata>=4.8.1->truera) (3.15.0)\n",
      "Requirement already satisfied: jupyter-core in /Users/davidkurokawa/opt/anaconda3/envs/demo3/lib/python3.10/site-packages (from nbformat>=5.1.2->truera) (5.3.0)\n",
      "Requirement already satisfied: fastjsonschema in /Users/davidkurokawa/opt/anaconda3/envs/demo3/lib/python3.10/site-packages (from nbformat>=5.1.2->truera) (2.16.3)\n",
      "Requirement already satisfied: jsonschema>=2.6 in /Users/davidkurokawa/opt/anaconda3/envs/demo3/lib/python3.10/site-packages (from nbformat>=5.1.2->truera) (4.17.3)\n",
      "Requirement already satisfied: traitlets>=5.1 in /Users/davidkurokawa/opt/anaconda3/envs/demo3/lib/python3.10/site-packages (from nbformat>=5.1.2->truera) (5.9.0)\n",
      "Requirement already satisfied: tzdata>=2022.1 in /Users/davidkurokawa/opt/anaconda3/envs/demo3/lib/python3.10/site-packages (from pandas>=1.1.1->truera) (2023.3)\n",
      "Requirement already satisfied: pytz>=2020.1 in /Users/davidkurokawa/opt/anaconda3/envs/demo3/lib/python3.10/site-packages (from pandas>=1.1.1->truera) (2023.3)\n",
      "Requirement already satisfied: tenacity>=6.2.0 in /Users/davidkurokawa/opt/anaconda3/envs/demo3/lib/python3.10/site-packages (from plotly>=5.11.0->truera) (8.2.2)\n",
      "Requirement already satisfied: packaging in /Users/davidkurokawa/opt/anaconda3/envs/demo3/lib/python3.10/site-packages (from plotly>=5.11.0->truera) (23.1)\n",
      "Requirement already satisfied: typing-extensions>=4.2.0 in /Users/davidkurokawa/opt/anaconda3/envs/demo3/lib/python3.10/site-packages (from pydantic>=1.8.0->truera) (4.5.0)\n",
      "Requirement already satisfied: six>=1.5 in /Users/davidkurokawa/opt/anaconda3/envs/demo3/lib/python3.10/site-packages (from python-dateutil>=2.8.1->truera) (1.16.0)\n",
      "Requirement already satisfied: charset-normalizer<4,>=2 in /Users/davidkurokawa/opt/anaconda3/envs/demo3/lib/python3.10/site-packages (from requests>=2.25.0->truera) (3.1.0)\n",
      "Requirement already satisfied: idna<4,>=2.5 in /Users/davidkurokawa/opt/anaconda3/envs/demo3/lib/python3.10/site-packages (from requests>=2.25.0->truera) (3.4)\n",
      "Requirement already satisfied: certifi>=2017.4.17 in /Users/davidkurokawa/opt/anaconda3/envs/demo3/lib/python3.10/site-packages (from requests>=2.25.0->truera) (2022.12.7)\n",
      "Requirement already satisfied: joblib>=1.1.1 in /Users/davidkurokawa/opt/anaconda3/envs/demo3/lib/python3.10/site-packages (from scikit-learn>=0.21.2->truera) (1.2.0)\n",
      "Requirement already satisfied: scipy>=1.3.2 in /Users/davidkurokawa/opt/anaconda3/envs/demo3/lib/python3.10/site-packages (from scikit-learn>=0.21.2->truera) (1.10.1)\n",
      "Requirement already satisfied: threadpoolctl>=2.0.0 in /Users/davidkurokawa/opt/anaconda3/envs/demo3/lib/python3.10/site-packages (from scikit-learn>=0.21.2->truera) (3.1.0)\n",
      "Requirement already satisfied: numba in /Users/davidkurokawa/opt/anaconda3/envs/demo3/lib/python3.10/site-packages (from shap>=0.41.0->truera) (0.56.4)\n",
      "Requirement already satisfied: slicer==0.0.7 in /Users/davidkurokawa/opt/anaconda3/envs/demo3/lib/python3.10/site-packages (from shap>=0.41.0->truera) (0.0.7)\n",
      "Requirement already satisfied: pycparser in /Users/davidkurokawa/opt/anaconda3/envs/demo3/lib/python3.10/site-packages (from cffi>=1.12->cryptography>=3.2->truera) (2.21)\n",
      "Requirement already satisfied: pyrsistent!=0.17.0,!=0.17.1,!=0.17.2,>=0.14.0 in /Users/davidkurokawa/opt/anaconda3/envs/demo3/lib/python3.10/site-packages (from jsonschema>=2.6->nbformat>=5.1.2->truera) (0.19.3)\n",
      "Requirement already satisfied: attrs>=17.4.0 in /Users/davidkurokawa/opt/anaconda3/envs/demo3/lib/python3.10/site-packages (from jsonschema>=2.6->nbformat>=5.1.2->truera) (23.1.0)\n",
      "Requirement already satisfied: platformdirs>=2.5 in /Users/davidkurokawa/opt/anaconda3/envs/demo3/lib/python3.10/site-packages (from jupyter-core->nbformat>=5.1.2->truera) (3.5.1)\n",
      "Requirement already satisfied: llvmlite<0.40,>=0.39.0dev0 in /Users/davidkurokawa/opt/anaconda3/envs/demo3/lib/python3.10/site-packages (from numba->shap>=0.41.0->truera) (0.39.1)\n",
      "Requirement already satisfied: setuptools in /Users/davidkurokawa/opt/anaconda3/envs/demo3/lib/python3.10/site-packages (from numba->shap>=0.41.0->truera) (67.7.2)\n"
     ]
    }
   ],
   "source": [
    "! pip install --upgrade truera"
   ]
  },
  {
   "attachments": {},
   "cell_type": "markdown",
   "metadata": {
    "id": "ewL5GnJlixcb"
   },
   "source": [
    "### From here, run the rest of the notebook and follow the analysis.\n",
    "\n",
    "### First, load data and train the in your beach-head market, San Francisco. Also add additional data for Seattle and Austin, your target markets."
   ]
  },
  {
   "cell_type": "code",
   "execution_count": 5,
   "metadata": {
    "id": "HvZYMI4fixcb"
   },
   "outputs": [],
   "source": [
    "import logging\n",
    "import pandas as pd\n",
    "import xgboost as xgb\n",
    "from sklearn import preprocessing\n",
    "from sklearn.utils import resample\n",
    "\n",
    "from truera.client.truera_workspace import TrueraWorkspace\n",
    "from truera.client.truera_authentication import TokenAuthentication\n",
    "\n",
    "auth = TokenAuthentication(AUTH_TOKEN)\n",
    "tru = TrueraWorkspace(TRUERA_URL, auth, ignore_version_mismatch=True, log_level=logging.ERROR)\n",
    "\n",
    "# set our environmetn to local compute so we can compute predictions and feature influences on our local machine\n",
    "tru.set_environment(\"remote\")\n",
    "# note: we'll periodically toggle between local and remote so we can interact with our remote deployment as well."
   ]
  },
  {
   "attachments": {},
   "cell_type": "markdown",
   "metadata": {
    "id": "1oHfd4Hhixcc"
   },
   "source": [
    "### Test for stability in Seattle and Austin."
   ]
  },
  {
   "cell_type": "code",
   "execution_count": 6,
   "metadata": {
    "colab": {
     "base_uri": "https://localhost:8080/"
    },
    "id": "h_tdwbLWixcc",
    "outputId": "dd9fc1fa-7a53-404b-b9b3-12e735d0424a"
   },
   "outputs": [
    {
     "data": {
      "text/plain": [
       "['model_1']"
      ]
     },
     "execution_count": 6,
     "metadata": {},
     "output_type": "execute_result"
    }
   ],
   "source": [
    "# create the first project and data collection\n",
    "project_name = \"Starter Example Companion - Drift\"\n",
    "tru.set_project(project_name)\n",
    "tru.set_data_collection(\"Data Collection v1\")\n",
    "tru.get_models()"
   ]
  },
  {
   "cell_type": "code",
   "execution_count": 7,
   "metadata": {},
   "outputs": [],
   "source": [
    "# add performance and feature importance tests\n",
    "tru.tester.add_performance_test(\n",
    "    test_name=\"MAE Test\",\n",
    "    all_data_collections=True,\n",
    "    data_split_name_regex=\"Seattle\",\n",
    "    metric=\"MAE\",\n",
    "    reference_split_name=\"San Francisco\",\n",
    "    fail_if_greater_than=40,\n",
    "    fail_threshold_type=\"RELATIVE\"\n",
    ")"
   ]
  },
  {
   "cell_type": "code",
   "execution_count": 8,
   "metadata": {
    "colab": {
     "base_uri": "https://localhost:8080/",
     "height": 172
    },
    "id": "bi183I_ZkulK",
    "outputId": "3f00254f-9bc2-4181-fbe9-6aa15797adf7"
   },
   "outputs": [
    {
     "data": {
      "text/html": [
       "\n",
       "        <html>\n",
       "        <head>\n",
       "        <style>\n",
       "        table, th, td {\n",
       "            border-radius: 5px;\n",
       "        }\n",
       "        .header {\n",
       "            font-weight: bold;\n",
       "            font-size: 14px;\n",
       "        }\n",
       "        caption {\n",
       "            font-weight: bolder;\n",
       "            font-size: 16px;\n",
       "            background-color: powderblue;\n",
       "            color: black;\n",
       "            border-radius: 5px;\n",
       "        }\n",
       "        \n",
       "        </style>\n",
       "        </head>\n",
       "        <body>\n",
       "        <table>\n",
       "            <caption>Test Leaderboard of Models in Data Collection \"Data Collection v1\"</caption>\n",
       "            <tr class=\"header\"><td>Model Name</td><td>Train Split Name</td><td>Train Parameters</td><td>Performance Tests (Failed/Warning/Total)</td><td>Fairness Tests (Failed/Warning/Total)</td><td>Stability Tests (Failed/Warning/Total)</td><td>Feature Importance Tests (Failed/Warning/Total)</td></tr>\n",
       "            <tr><td >model_1</td><td >San Francisco</td><td >eta: 0.2<br>max_depth: 4.0<br>model_type: xgb.XGBRegressor</td><td >0 ❌ / 0 ⚠️ / 1</td><td >0 ❌ / 0 ⚠️ / 0</td><td >2 ❌ / 0 ⚠️ / 2</td><td >0 ❌ / 0 ⚠️ / 0</td></tr>\n",
       "        </table>\n",
       "        </body>\n",
       "        </html>\n",
       "        "
      ],
      "text/plain": [
       "<truera.client.intelligence.model_tests.ModelTestLeaderboard at 0x7feb4bee7e50>"
      ]
     },
     "execution_count": 8,
     "metadata": {},
     "output_type": "execute_result"
    }
   ],
   "source": [
    "tru.tester.get_model_leaderboard(sort_by=\"performance\")"
   ]
  },
  {
   "cell_type": "code",
   "execution_count": 9,
   "metadata": {
    "colab": {
     "base_uri": "https://localhost:8080/",
     "height": 103
    },
    "id": "g9_wizHvixcc",
    "outputId": "44e200f9-f608-4340-99b2-ecf8031a52bc"
   },
   "outputs": [
    {
     "data": {
      "text/html": [
       "\n",
       "        <html>\n",
       "        <head>\n",
       "        <style>\n",
       "        table, th, td {\n",
       "            border-radius: 5px;\n",
       "        }\n",
       "        .header {\n",
       "            font-weight: bold;\n",
       "            font-size: 14px;\n",
       "        }\n",
       "        caption {\n",
       "            font-weight: bolder;\n",
       "            font-size: 16px;\n",
       "            background-color: powderblue;\n",
       "            color: black;\n",
       "            border-radius: 5px;\n",
       "        }\n",
       "        \n",
       "            .PASSED {\n",
       "                color: black;\n",
       "                background-color: palegreen;\n",
       "            }\n",
       "            .WARNING {\n",
       "                color: black;\n",
       "                background-color: yellow;\n",
       "            }\n",
       "            .FAILED {\n",
       "                color: black;\n",
       "                background-color: pink;\n",
       "            }\n",
       "            \n",
       "        </style>\n",
       "        </head>\n",
       "        <body>\n",
       "        <table>\n",
       "            <caption>Stability Tests Results for Model \"model_1\"</caption>\n",
       "            <tr class=\"header\"><td></td><td>Name</td><td>Comparison Split</td><td>Base Split</td><td>Segment</td><td>Metric</td><td>Score</td><td>Navigate</td></tr>\n",
       "            <tr><td >❌</td><td >Stability Test - Seattle</td><td >Seattle</td><td >San Francisco</td><td >ALL POINTS</td><td >DIFFERENCE_OF_MEAN</td><td class=\"FAILED\">-4.5409</td><td ><a href=\"https://beta-test.test.truera.com/home/p/Starter Example Companion - Drift/m/model_1/t/stability?baseSplitName=San Francisco&compareSplitName=Seattle&splitId=17a72023-4e95-4215-a236-a6444c4d5111&modelIds=c5d94da5-6889-4acb-936f-a478a3bbfd5b&\" target=\"_blank\">Explore in UI</a></td></tr><tr><td >❌</td><td >Stability Test - Austin</td><td >Austin</td><td >San Francisco</td><td >ALL POINTS</td><td >DIFFERENCE_OF_MEAN</td><td class=\"FAILED\">64.1611</td><td ><a href=\"https://beta-test.test.truera.com/home/p/Starter Example Companion - Drift/m/model_1/t/stability?baseSplitName=San Francisco&compareSplitName=Austin&splitId=29307125-121f-448c-83de-22e973c939d6&modelIds=c5d94da5-6889-4acb-936f-a478a3bbfd5b&\" target=\"_blank\">Explore in UI</a></td></tr>\n",
       "        </table>\n",
       "        </body>\n",
       "        </html>\n",
       "        "
      ],
      "text/plain": [
       "<truera.client.intelligence.model_tests.ModelTestResults at 0x7feb4be878e0>"
      ]
     },
     "execution_count": 9,
     "metadata": {},
     "output_type": "execute_result"
    }
   ],
   "source": [
    "tru.set_model(\"model_1\")\n",
    "tru.tester.get_model_test_results(test_types=[\"stability\"])"
   ]
  },
  {
   "attachments": {},
   "cell_type": "markdown",
   "metadata": {
    "id": "Sr8xZVMWixcd"
   },
   "source": [
    "The model fails in Seattle and Austin because the scores drifted too far from the ground truth in the new cities."
   ]
  },
  {
   "cell_type": "code",
   "execution_count": 10,
   "metadata": {},
   "outputs": [
    {
     "data": {
      "text/html": [
       "<div>\n",
       "<style scoped>\n",
       "    .dataframe tbody tr th:only-of-type {\n",
       "        vertical-align: middle;\n",
       "    }\n",
       "\n",
       "    .dataframe tbody tr th {\n",
       "        vertical-align: top;\n",
       "    }\n",
       "\n",
       "    .dataframe thead th {\n",
       "        text-align: right;\n",
       "    }\n",
       "</style>\n",
       "<table border=\"1\" class=\"dataframe\">\n",
       "  <thead>\n",
       "    <tr style=\"text-align: right;\">\n",
       "      <th></th>\n",
       "      <th>segment_definition</th>\n",
       "      <th>MAE</th>\n",
       "      <th>size</th>\n",
       "      <th>size (%)</th>\n",
       "    </tr>\n",
       "  </thead>\n",
       "  <tbody>\n",
       "    <tr>\n",
       "      <th>0</th>\n",
       "      <td>_DATA_GROUND_TRUTH in_range [829.0, 999.0]</td>\n",
       "      <td>381.233582</td>\n",
       "      <td>185</td>\n",
       "      <td>2.023185</td>\n",
       "    </tr>\n",
       "    <tr>\n",
       "      <th>2</th>\n",
       "      <td>bathrooms in_range [2.5, 7.0]</td>\n",
       "      <td>174.443787</td>\n",
       "      <td>1055</td>\n",
       "      <td>11.537620</td>\n",
       "    </tr>\n",
       "    <tr>\n",
       "      <th>1</th>\n",
       "      <td>accommodates in_range [6.0, 16.0]</td>\n",
       "      <td>161.751678</td>\n",
       "      <td>2619</td>\n",
       "      <td>28.641732</td>\n",
       "    </tr>\n",
       "    <tr>\n",
       "      <th>4</th>\n",
       "      <td>beds in_range [3.0, 16.0]</td>\n",
       "      <td>155.646561</td>\n",
       "      <td>2636</td>\n",
       "      <td>28.827647</td>\n",
       "    </tr>\n",
       "    <tr>\n",
       "      <th>3</th>\n",
       "      <td>bedrooms in_range [2.0, 10.0]</td>\n",
       "      <td>155.508789</td>\n",
       "      <td>3835</td>\n",
       "      <td>41.940070</td>\n",
       "    </tr>\n",
       "  </tbody>\n",
       "</table>\n",
       "</div>"
      ],
      "text/plain": [
       "                           segment_definition         MAE  size   size (%)\n",
       "0  _DATA_GROUND_TRUTH in_range [829.0, 999.0]  381.233582   185   2.023185\n",
       "2               bathrooms in_range [2.5, 7.0]  174.443787  1055  11.537620\n",
       "1           accommodates in_range [6.0, 16.0]  161.751678  2619  28.641732\n",
       "4                   beds in_range [3.0, 16.0]  155.646561  2636  28.827647\n",
       "3               bedrooms in_range [2.0, 10.0]  155.508789  3835  41.940070"
      ]
     },
     "execution_count": 10,
     "metadata": {},
     "output_type": "execute_result"
    }
   ],
   "source": [
    "explainer = tru.get_explainer(\"Austin\", comparison_data_splits=[\"San Francisco\"])\n",
    "explainer.find_hotspots(max_num_responses=5)"
   ]
  },
  {
   "attachments": {},
   "cell_type": "markdown",
   "metadata": {
    "id": "nsV-mABrixcd"
   },
   "source": [
    "As an example, let's focus on the segment relaying bedrooms and compare the MAE of that group to the rest."
   ]
  },
  {
   "cell_type": "code",
   "execution_count": 11,
   "metadata": {
    "colab": {
     "base_uri": "https://localhost:8080/"
    },
    "id": "O9JpnQwtixcd",
    "outputId": "c38d2757-900b-4c4f-a3c1-d9e61264731d"
   },
   "outputs": [
    {
     "name": "stdout",
     "output_type": "stream",
     "text": [
      "Few bedrooms MAE: 77.29932403564453\n",
      "More bedrooms MAE: 155.5087890625\n"
     ]
    }
   ],
   "source": [
    "explainer = tru.get_explainer(base_data_split=\"Austin\")\n",
    "tru.set_data_split(\"Austin\")\n",
    "tru.add_segment_group(\"Bedrooms\", {\"Few Bedrooms\": \"bedrooms < 2\", \"More Bedrooms\": \"bedrooms >= 2\"})\n",
    "explainer.set_segment(segment_group_name=\"Bedrooms\", segment_name=\"Few Bedrooms\")\n",
    "print(\"Few bedrooms MAE: \" + str(explainer.compute_performance(metric_type=\"MAE\")))\n",
    "explainer.set_segment(segment_group_name=\"Bedrooms\", segment_name=\"More Bedrooms\")\n",
    "print(\"More bedrooms MAE: \" + str(explainer.compute_performance(metric_type=\"MAE\")))"
   ]
  },
  {
   "attachments": {},
   "cell_type": "markdown",
   "metadata": {
    "id": "nIcy1t1Aixcd"
   },
   "source": [
    "As expected, the MAE for 2+ bedroom listings is way higher (double) that of fewer bedroom listings. Let's resample the San Francisco data we're training on to include an equal proportion of larger listings as Austin."
   ]
  },
  {
   "cell_type": "code",
   "execution_count": 12,
   "metadata": {
    "id": "KEgSpLx1ixcd"
   },
   "outputs": [],
   "source": [
    "# load data\n",
    "san_francisco = pd.read_csv(\"https://truera-examples.s3.us-west-2.amazonaws.com/data/starter-stability/San_Francisco_for_stability.csv\")\n",
    "seattle = pd.read_csv(\"https://truera-examples.s3.us-west-2.amazonaws.com/data/starter-stability/Seattle_for_stability.csv\")\n",
    "austin = pd.read_csv(\"https://truera-examples.s3.us-west-2.amazonaws.com/data/starter-stability/Austin_for_stability.csv\")\n",
    "\n",
    "# make all float\n",
    "san_francisco = san_francisco.astype(float).fillna(value=0)\n",
    "seattle = seattle.astype(float).fillna(value=0)\n",
    "austin = austin.astype(float).fillna(value=0)\n",
    "\n",
    "# add point ids\n",
    "sf_ids = [f\"point_{i}\" for i in range(len(san_francisco))]\n",
    "san_francisco[\"id\"] = sf_ids\n",
    "se_ids = [f\"point_{i}\" for i in range(len(seattle))]\n",
    "seattle[\"id\"] = se_ids\n",
    "au_ids = [f\"point_{i}\" for i in range(len(austin))]\n",
    "austin[\"id\"] = au_ids"
   ]
  },
  {
   "cell_type": "code",
   "execution_count": 13,
   "metadata": {
    "id": "K6krD4wcixce"
   },
   "outputs": [
    {
     "name": "stderr",
     "output_type": "stream",
     "text": [
      "WARNING:truera.client.local.intelligence.local_explainer:Background split for `data_collection` \"Data Collection v1\" is currently not set. Setting it to \"San Francisco\"\n",
      "WARNING:truera.client.local.intelligence.local_explainer:Failed to use TreeSHAP for this model. Defaulting to KernelSHAP...\n",
      "WARNING:truera.client.local.intelligence.local_explainer:TreeSHAP cannot handle error influence computations for regression models!\n"
     ]
    },
    {
     "data": {
      "application/vnd.jupyter.widget-view+json": {
       "model_id": "2857906551684b5aac1e5b6bd80b0cd3",
       "version_major": 2,
       "version_minor": 0
      },
      "text/plain": [
       "|          | 0.000% [00:00<?]"
      ]
     },
     "metadata": {},
     "output_type": "display_data"
    },
    {
     "name": "stderr",
     "output_type": "stream",
     "text": [
      "WARNING:truera.client.local.intelligence.local_explainer:Failed to use TreeSHAP for this model. Defaulting to KernelSHAP...\n",
      "WARNING:truera.client.local.intelligence.local_explainer:TreeSHAP cannot handle error influence computations for regression models!\n"
     ]
    },
    {
     "data": {
      "application/vnd.jupyter.widget-view+json": {
       "model_id": "d77466c8000548e49cf8efc30c570eef",
       "version_major": 2,
       "version_minor": 0
      },
      "text/plain": [
       "|          | 0.000% [00:00<?]"
      ]
     },
     "metadata": {},
     "output_type": "display_data"
    },
    {
     "name": "stderr",
     "output_type": "stream",
     "text": [
      "WARNING:truera.client.local.intelligence.local_explainer:Failed to use TreeSHAP for this model. Defaulting to KernelSHAP...\n",
      "WARNING:truera.client.local.intelligence.local_explainer:TreeSHAP cannot handle error influence computations for regression models!\n"
     ]
    },
    {
     "data": {
      "application/vnd.jupyter.widget-view+json": {
       "model_id": "bb0c4f88ba5e484babcdf07cc7ccf32c",
       "version_major": 2,
       "version_minor": 0
      },
      "text/plain": [
       "|          | 0.000% [00:00<?]"
      ]
     },
     "metadata": {},
     "output_type": "display_data"
    }
   ],
   "source": [
    "large_listings = san_francisco[san_francisco[\"bedrooms\"] >= 2]\n",
    "small_listings = san_francisco[san_francisco[\"bedrooms\"] < 2]\n",
    "\n",
    "austin_large_listings = austin[austin[\"bedrooms\"] >= 2]\n",
    "num_samples = int(round((len(austin_large_listings)/len(austin)) * len(san_francisco), 0))\n",
    "\n",
    "large_listings_resampled = resample(\n",
    "    large_listings, \n",
    "    replace=True,\n",
    "    n_samples=num_samples,\n",
    "    random_state=1 # include random seed so we can perform same sampling on each data set\n",
    ")\n",
    "\n",
    "san_francisco_resampled = pd.concat([small_listings, large_listings_resampled])\n",
    "\n",
    "# train new model on resampled sf data\n",
    "xgb_reg = xgb.XGBRegressor(eta=0.2, max_depth=4)\n",
    "xgb_reg.fit(san_francisco_resampled.drop([\"id\", \"price\"], axis=1), san_francisco_resampled.price)\n",
    "\n",
    "# download project\n",
    "tru.set_environment(\"local\")\n",
    "tru.download_project(project_name)\n",
    "tru.set_project(project_name)\n",
    "tru.set_data_collection(\"Data Collection v1\")\n",
    "\n",
    "# register the model\n",
    "tru.add_python_model(\n",
    "    \"model_2\",\n",
    "    xgb_reg,\n",
    "    train_parameters={\"model_type\": \"xgb.XGBRegressor\", \"eta\": 0.2, \"max_depth\": 4}\n",
    ")\n",
    "\n",
    "# sync with remote\n",
    "tru.upload_project()"
   ]
  },
  {
   "cell_type": "code",
   "execution_count": 14,
   "metadata": {
    "id": "_ZKjCFPbixce",
    "outputId": "3e2d3c33-f442-4b0e-e83b-703a25c43fab"
   },
   "outputs": [
    {
     "data": {
      "text/html": [
       "\n",
       "        <html>\n",
       "        <head>\n",
       "        <style>\n",
       "        table, th, td {\n",
       "            border-radius: 5px;\n",
       "        }\n",
       "        .header {\n",
       "            font-weight: bold;\n",
       "            font-size: 14px;\n",
       "        }\n",
       "        caption {\n",
       "            font-weight: bolder;\n",
       "            font-size: 16px;\n",
       "            background-color: powderblue;\n",
       "            color: black;\n",
       "            border-radius: 5px;\n",
       "        }\n",
       "        \n",
       "            .PASSED {\n",
       "                color: black;\n",
       "                background-color: palegreen;\n",
       "            }\n",
       "            .WARNING {\n",
       "                color: black;\n",
       "                background-color: yellow;\n",
       "            }\n",
       "            .FAILED {\n",
       "                color: black;\n",
       "                background-color: pink;\n",
       "            }\n",
       "            \n",
       "        </style>\n",
       "        </head>\n",
       "        <body>\n",
       "        <table>\n",
       "            <caption>Stability Tests Results for Model \"model_2\"</caption>\n",
       "            <tr class=\"header\"><td></td><td>Name</td><td>Comparison Split</td><td>Base Split</td><td>Segment</td><td>Metric</td><td>Score</td><td>Navigate</td></tr>\n",
       "            <tr><td >❌</td><td >Stability Test - Seattle</td><td >Seattle</td><td >San Francisco</td><td >ALL POINTS</td><td >DIFFERENCE_OF_MEAN</td><td class=\"FAILED\">-0.8494</td><td ><a href=\"https://beta-test.test.truera.com/home/p/Starter Example Companion - Drift/m/model_2/t/stability?baseSplitName=San Francisco&compareSplitName=Seattle&splitId=17a72023-4e95-4215-a236-a6444c4d5111&modelIds=0bdbc282-db7b-45a4-8843-83f22d8ee76e&\" target=\"_blank\">Explore in UI</a></td></tr><tr><td >✅</td><td >Stability Test - Austin</td><td >Austin</td><td >San Francisco</td><td >ALL POINTS</td><td >DIFFERENCE_OF_MEAN</td><td class=\"PASSED\">58.5707</td><td ><a href=\"https://beta-test.test.truera.com/home/p/Starter Example Companion - Drift/m/model_2/t/stability?baseSplitName=San Francisco&compareSplitName=Austin&splitId=29307125-121f-448c-83de-22e973c939d6&modelIds=0bdbc282-db7b-45a4-8843-83f22d8ee76e&\" target=\"_blank\">Explore in UI</a></td></tr>\n",
       "        </table>\n",
       "        </body>\n",
       "        </html>\n",
       "        "
      ],
      "text/plain": [
       "<truera.client.intelligence.model_tests.ModelTestResults at 0x7feb4587fb50>"
      ]
     },
     "execution_count": 14,
     "metadata": {},
     "output_type": "execute_result"
    }
   ],
   "source": [
    "# check stability results\n",
    "tru.set_environment(\"remote\")\n",
    "tru.set_model(\"model_2\")\n",
    "tru.tester.get_model_test_results(test_types=[\"stability\"])"
   ]
  },
  {
   "attachments": {},
   "cell_type": "markdown",
   "metadata": {
    "id": "GJnsZ6dNixce"
   },
   "source": [
    "The model now passes in Austin and is ready for production, while it still fails in Seattle. Let's continue to iterate on Seattle.\n",
    "\n",
    "Since the model errors with scores that are too high, we should look for the largest positive contributors to score drift."
   ]
  },
  {
   "cell_type": "code",
   "execution_count": 15,
   "metadata": {
    "id": "MR6sFFj4ixce",
    "outputId": "6fe4dbe8-e603-4a64-e5d0-16589b45a8b6"
   },
   "outputs": [
    {
     "data": {
      "text/html": [
       "<div>\n",
       "<style scoped>\n",
       "    .dataframe tbody tr th:only-of-type {\n",
       "        vertical-align: middle;\n",
       "    }\n",
       "\n",
       "    .dataframe tbody tr th {\n",
       "        vertical-align: top;\n",
       "    }\n",
       "\n",
       "    .dataframe thead th {\n",
       "        text-align: right;\n",
       "    }\n",
       "</style>\n",
       "<table border=\"1\" class=\"dataframe\">\n",
       "  <thead>\n",
       "    <tr style=\"text-align: right;\">\n",
       "      <th></th>\n",
       "      <th>Seattle</th>\n",
       "    </tr>\n",
       "  </thead>\n",
       "  <tbody>\n",
       "    <tr>\n",
       "      <th>availability_90</th>\n",
       "      <td>0.183109</td>\n",
       "    </tr>\n",
       "    <tr>\n",
       "      <th>bathrooms</th>\n",
       "      <td>-0.024676</td>\n",
       "    </tr>\n",
       "    <tr>\n",
       "      <th>accommodates</th>\n",
       "      <td>0.013577</td>\n",
       "    </tr>\n",
       "    <tr>\n",
       "      <th>bedrooms</th>\n",
       "      <td>-0.017046</td>\n",
       "    </tr>\n",
       "    <tr>\n",
       "      <th>reviews_per_month</th>\n",
       "      <td>-0.070710</td>\n",
       "    </tr>\n",
       "    <tr>\n",
       "      <th>beds</th>\n",
       "      <td>0.003723</td>\n",
       "    </tr>\n",
       "    <tr>\n",
       "      <th>minimum_nights</th>\n",
       "      <td>0.032455</td>\n",
       "    </tr>\n",
       "    <tr>\n",
       "      <th>extra_people</th>\n",
       "      <td>-0.042551</td>\n",
       "    </tr>\n",
       "    <tr>\n",
       "      <th>availability_365</th>\n",
       "      <td>0.048124</td>\n",
       "    </tr>\n",
       "    <tr>\n",
       "      <th>features_Host_Is_Superhost</th>\n",
       "      <td>0.003985</td>\n",
       "    </tr>\n",
       "    <tr>\n",
       "      <th>amenities_Air_conditioning</th>\n",
       "      <td>-0.018177</td>\n",
       "    </tr>\n",
       "    <tr>\n",
       "      <th>amenities_Cable_TV</th>\n",
       "      <td>0.021071</td>\n",
       "    </tr>\n",
       "    <tr>\n",
       "      <th>amenities_Dog(s)</th>\n",
       "      <td>0.005202</td>\n",
       "    </tr>\n",
       "    <tr>\n",
       "      <th>amenities_Indoor_fireplace</th>\n",
       "      <td>-0.022168</td>\n",
       "    </tr>\n",
       "    <tr>\n",
       "      <th>amenities_Internet</th>\n",
       "      <td>0.008014</td>\n",
       "    </tr>\n",
       "    <tr>\n",
       "      <th>amenities_Shampoo</th>\n",
       "      <td>-0.001277</td>\n",
       "    </tr>\n",
       "    <tr>\n",
       "      <th>amenities_Smoke_detector</th>\n",
       "      <td>0.060695</td>\n",
       "    </tr>\n",
       "    <tr>\n",
       "      <th>amenities_Washer</th>\n",
       "      <td>0.013247</td>\n",
       "    </tr>\n",
       "    <tr>\n",
       "      <th>amenities_translation_missing:_en.hosting_amenity_50</th>\n",
       "      <td>0.022299</td>\n",
       "    </tr>\n",
       "    <tr>\n",
       "      <th>room_type_Entire_home/apt</th>\n",
       "      <td>0.054603</td>\n",
       "    </tr>\n",
       "    <tr>\n",
       "      <th>room_type_Private_room</th>\n",
       "      <td>-0.000189</td>\n",
       "    </tr>\n",
       "    <tr>\n",
       "      <th>lat_dist</th>\n",
       "      <td>-0.309819</td>\n",
       "    </tr>\n",
       "    <tr>\n",
       "      <th>lon_dist</th>\n",
       "      <td>-0.023282</td>\n",
       "    </tr>\n",
       "  </tbody>\n",
       "</table>\n",
       "</div>"
      ],
      "text/plain": [
       "                                                     Seattle\n",
       "availability_90                                     0.183109\n",
       "bathrooms                                          -0.024676\n",
       "accommodates                                        0.013577\n",
       "bedrooms                                           -0.017046\n",
       "reviews_per_month                                  -0.070710\n",
       "beds                                                0.003723\n",
       "minimum_nights                                      0.032455\n",
       "extra_people                                       -0.042551\n",
       "availability_365                                    0.048124\n",
       "features_Host_Is_Superhost                          0.003985\n",
       "amenities_Air_conditioning                         -0.018177\n",
       "amenities_Cable_TV                                  0.021071\n",
       "amenities_Dog(s)                                    0.005202\n",
       "amenities_Indoor_fireplace                         -0.022168\n",
       "amenities_Internet                                  0.008014\n",
       "amenities_Shampoo                                  -0.001277\n",
       "amenities_Smoke_detector                            0.060695\n",
       "amenities_Washer                                    0.013247\n",
       "amenities_translation_missing:_en.hosting_ameni...  0.022299\n",
       "room_type_Entire_home/apt                           0.054603\n",
       "room_type_Private_room                             -0.000189\n",
       "lat_dist                                           -0.309819\n",
       "lon_dist                                           -0.023282"
      ]
     },
     "execution_count": 15,
     "metadata": {},
     "output_type": "execute_result"
    }
   ],
   "source": [
    "explainer = tru.get_explainer(\"San Francisco\", comparison_data_splits=[\"Seattle\"])\n",
    "explainer.compute_feature_contributors_to_instability(use_difference_of_means=True).T"
   ]
  },
  {
   "attachments": {},
   "cell_type": "markdown",
   "metadata": {
    "id": "knOfy6PRixce"
   },
   "source": [
    "Availability_90 is by far the largest positive contributor to score drift in Seattle. Let's remove that feature along with the related feature Availability_365 to mitigate this issue."
   ]
  },
  {
   "cell_type": "code",
   "execution_count": 16,
   "metadata": {
    "id": "jTrTPeZpixce",
    "outputId": "0a771a73-d1ef-4434-ee13-a42e455fd4a0"
   },
   "outputs": [
    {
     "name": "stderr",
     "output_type": "stream",
     "text": [
      "WARNING:truera.client.local.intelligence.local_explainer:Background split for `data_collection` \"Data Collection v2\" is currently not set. Setting it to \"San Francisco\"\n",
      "WARNING:truera.client.local.intelligence.local_explainer:Failed to use TreeSHAP for this model. Defaulting to KernelSHAP...\n",
      "WARNING:truera.client.local.intelligence.local_explainer:TreeSHAP cannot handle error influence computations for regression models!\n"
     ]
    },
    {
     "data": {
      "application/vnd.jupyter.widget-view+json": {
       "model_id": "cfdc2d47dda145a29e2079709020fb4c",
       "version_major": 2,
       "version_minor": 0
      },
      "text/plain": [
       "|          | 0.000% [00:00<?]"
      ]
     },
     "metadata": {},
     "output_type": "display_data"
    },
    {
     "name": "stderr",
     "output_type": "stream",
     "text": [
      "WARNING:truera.client.local.intelligence.local_explainer:Failed to use TreeSHAP for this model. Defaulting to KernelSHAP...\n",
      "WARNING:truera.client.local.intelligence.local_explainer:TreeSHAP cannot handle error influence computations for regression models!\n"
     ]
    },
    {
     "data": {
      "application/vnd.jupyter.widget-view+json": {
       "model_id": "2cf2a4cce1d6447ba14016f72dd5a073",
       "version_major": 2,
       "version_minor": 0
      },
      "text/plain": [
       "|          | 0.000% [00:00<?]"
      ]
     },
     "metadata": {},
     "output_type": "display_data"
    },
    {
     "name": "stderr",
     "output_type": "stream",
     "text": [
      "WARNING:truera.client.local.intelligence.local_explainer:Failed to use TreeSHAP for this model. Defaulting to KernelSHAP...\n",
      "WARNING:truera.client.local.intelligence.local_explainer:TreeSHAP cannot handle error influence computations for regression models!\n"
     ]
    },
    {
     "data": {
      "application/vnd.jupyter.widget-view+json": {
       "model_id": "5aa9b9c16a2e45a681ef739210a69561",
       "version_major": 2,
       "version_minor": 0
      },
      "text/plain": [
       "|          | 0.000% [00:00<?]"
      ]
     },
     "metadata": {},
     "output_type": "display_data"
    }
   ],
   "source": [
    "tru.set_environment(\"local\")\n",
    "\n",
    "# train first model\n",
    "xgb_reg = xgb.XGBRegressor(eta=0.2, max_depth=4)\n",
    "xgb_reg.fit(san_francisco_resampled.drop([\"id\", \"price\", \"availability_90\", \"availability_365\"], axis=1), san_francisco_resampled.price)\n",
    "\n",
    "# create the first project and data collection\n",
    "tru.add_data_collection(\"Data Collection v2\")\n",
    "\n",
    "# add data splits to the collection we just created\n",
    "tru.add_data_split(\"San Francisco\", pre_data=san_francisco.drop([\"availability_90\", \"availability_365\"], axis=1), label_col_name=\"price\", id_col_name=\"id\", split_type=\"train\")\n",
    "tru.add_data_split(\"Seattle\", pre_data=seattle.drop([\"availability_90\", \"availability_365\"], axis=1), label_col_name=\"price\", id_col_name=\"id\", split_type=\"test\")\n",
    "tru.add_data_split(\"Austin\", pre_data=austin.drop([\"availability_90\", \"availability_365\"], axis=1), label_col_name=\"price\", id_col_name=\"id\", split_type=\"oot\")\n",
    "\n",
    "# register the model\n",
    "tru.add_python_model(\n",
    "    \"model_3\",\n",
    "    xgb_reg,\n",
    "    train_parameters={\"model_type\": \"xgb.XGBRegressor\", \"eta\": 0.2, \"max_depth\": 4}\n",
    ")\n",
    "\n",
    "# sync with remote\n",
    "tru.upload_project()"
   ]
  },
  {
   "cell_type": "code",
   "execution_count": 17,
   "metadata": {
    "id": "x-Ioo-Ajixce",
    "outputId": "ebef4cce-44f5-4b3a-aaba-3c2111e5b2a1"
   },
   "outputs": [
    {
     "data": {
      "text/plain": [
       "[['Stability Test - Seattle',\n",
       "  'Seattle',\n",
       "  'San Francisco',\n",
       "  'ALL POINTS',\n",
       "  'DIFFERENCE_OF_MEAN',\n",
       "  '',\n",
       "  'Not specified',\n",
       "  'DIFFERENCE_OF_MEAN < -142.44841 OR DIFFERENCE_OF_MEAN > -12.44841'],\n",
       " ['Stability Test - Austin',\n",
       "  'Austin',\n",
       "  'San Francisco',\n",
       "  'ALL POINTS',\n",
       "  'DIFFERENCE_OF_MEAN',\n",
       "  '',\n",
       "  'Not specified',\n",
       "  'DIFFERENCE_OF_MEAN < -18.244545 OR DIFFERENCE_OF_MEAN > 61.755455']]"
      ]
     },
     "execution_count": 17,
     "metadata": {},
     "output_type": "execute_result"
    }
   ],
   "source": [
    "# get the test details from model_2 so we can copy them for model_3\n",
    "tru.set_environment(\"remote\")\n",
    "tru.set_model(\"model_2\")\n",
    "tru.tester.get_model_tests().as_dict()[\"Stability Tests\"][\"Rows\"]"
   ]
  },
  {
   "cell_type": "code",
   "execution_count": 18,
   "metadata": {
    "id": "HhCY_1VZixcf",
    "outputId": "3ff6e498-04a1-4105-a16c-bceac7dc8c81"
   },
   "outputs": [
    {
     "data": {
      "text/html": [
       "\n",
       "        <html>\n",
       "        <head>\n",
       "        <style>\n",
       "        table, th, td {\n",
       "            border-radius: 5px;\n",
       "        }\n",
       "        .header {\n",
       "            font-weight: bold;\n",
       "            font-size: 14px;\n",
       "        }\n",
       "        caption {\n",
       "            font-weight: bolder;\n",
       "            font-size: 16px;\n",
       "            background-color: powderblue;\n",
       "            color: black;\n",
       "            border-radius: 5px;\n",
       "        }\n",
       "        \n",
       "            .PASSED {\n",
       "                color: black;\n",
       "                background-color: palegreen;\n",
       "            }\n",
       "            .WARNING {\n",
       "                color: black;\n",
       "                background-color: yellow;\n",
       "            }\n",
       "            .FAILED {\n",
       "                color: black;\n",
       "                background-color: pink;\n",
       "            }\n",
       "            \n",
       "        </style>\n",
       "        </head>\n",
       "        <body>\n",
       "        <table>\n",
       "            <caption>Stability Tests Results for Model \"model_3\"</caption>\n",
       "            <tr class=\"header\"><td></td><td>Name</td><td>Comparison Split</td><td>Base Split</td><td>Segment</td><td>Metric</td><td>Score</td><td>Navigate</td></tr>\n",
       "            <tr><td >✅</td><td >Stability Test - Seattle - v3</td><td >Seattle</td><td >San Francisco</td><td >ALL POINTS</td><td >DIFFERENCE_OF_MEAN</td><td class=\"PASSED\">-15.448</td><td ><a href=\"https://beta-test.test.truera.com/home/p/Starter Example Companion - Drift/m/model_3/t/stability?baseSplitName=San Francisco&compareSplitName=Seattle&splitId=294f0bd1-9397-4ae5-984c-eb037bdddd20&modelIds=7022c5a6-49ac-4e9e-86f1-a651e2cf0388&\" target=\"_blank\">Explore in UI</a></td></tr>\n",
       "        </table>\n",
       "        </body>\n",
       "        </html>\n",
       "        "
      ],
      "text/plain": [
       "<truera.client.intelligence.model_tests.ModelTestResults at 0x7feb338c4a90>"
      ]
     },
     "execution_count": 18,
     "metadata": {},
     "output_type": "execute_result"
    }
   ],
   "source": [
    "# toggle back to remote to interact with the tester\n",
    "\n",
    "# check stability results\n",
    "tru.set_model(\"model_3\")\n",
    "\n",
    "# let the warn conditions have $50 in wiggle room\n",
    "tru.tester.add_stability_test(test_name=\"Stability Test - Seattle - v3\",\n",
    "    base_data_split_name=\"San Francisco\",\n",
    "    comparison_data_split_names=[\"Seattle\"],\n",
    "    fail_if_outside=[-142.44841, -12.44841]\n",
    ")\n",
    "\n",
    "tru.tester.get_model_test_results(test_types=[\"stability\"])"
   ]
  },
  {
   "attachments": {},
   "cell_type": "markdown",
   "metadata": {
    "id": "Rh78BT9bixcf"
   },
   "source": [
    "In v3, the model passes now in Seattle. We can deploy the v2 model in Austin and v3 model in Seattle as we launch and the investors of our startup are satisfied with these results!"
   ]
  }
 ],
 "metadata": {
  "colab": {
   "collapsed_sections": [
    "glAQlNBfixcb"
   ],
   "provenance": []
  },
  "kernelspec": {
   "display_name": "Python 3 (ipykernel)",
   "language": "python",
   "name": "python3"
  },
  "language_info": {
   "codemirror_mode": {
    "name": "ipython",
    "version": 3
   },
   "file_extension": ".py",
   "mimetype": "text/x-python",
   "name": "python",
   "nbconvert_exporter": "python",
   "pygments_lexer": "ipython3",
   "version": "3.9.16"
  },
  "vscode": {
   "interpreter": {
    "hash": "ae6b40da3e7f7d8e09a32c5203d705c3659d8d4b112340e3410acbfc9602c6f6"
   }
  }
 },
 "nbformat": 4,
 "nbformat_minor": 4
}

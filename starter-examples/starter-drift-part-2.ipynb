{
 "cells": [
  {
   "attachments": {},
   "cell_type": "markdown",
   "metadata": {
    "id": "4ThQA9IJixcY"
   },
   "source": [
    "# Guided Exercise: Drift\n",
    "This is a continuation of part 1. If you missed it:     [![Open In Colab](https://colab.research.google.com/assets/colab-badge.svg)](https://colab.research.google.com/github/truera/truera-examples/blob/release/rc-1.37/starter-examples/starter-drift-part-1.ipynb)\n",
    "\n",
    "#### Goals 🎯\n",
    "In this tutorial, you will learn how to:\n",
    "1. View the results of stability tests set up in part 1.\n",
    "2. Debug the true cause of stability issues.\n",
    "3. Retest the new model and confirm the effectiveness of the mitigation strategy.\n",
    "\n",
    "### First, set the credentials for your TruEra deployment.\n",
    "If you don't have credentials yet, get them instantly by signing up for free at: https://www.truera.com"
   ]
  },
  {
   "cell_type": "code",
   "execution_count": null,
   "metadata": {
    "id": "5R0i__Z8ixca"
   },
   "outputs": [],
   "source": [
    "#connection details\n",
    "TRUERA_URL = \"https://app.truera.net/\"\n",
    "AUTH_TOKEN = \"...\""
   ]
  },
  {
   "attachments": {},
   "cell_type": "markdown",
   "metadata": {
    "id": "glAQlNBfixcb"
   },
   "source": [
    "### Install the required packages for running in colab"
   ]
  },
  {
   "cell_type": "code",
   "execution_count": null,
   "metadata": {
    "colab": {
     "base_uri": "https://localhost:8080/"
    },
    "id": "Y_ypf-Pmixcb",
    "outputId": "4f6af9b2-bbb0-42f4-8138-ae8e375e7066"
   },
   "outputs": [],
   "source": [
    "! pip install truera"
   ]
  },
  {
   "attachments": {},
   "cell_type": "markdown",
   "metadata": {
    "id": "ewL5GnJlixcb"
   },
   "source": [
    "### From here, run the rest of the notebook and follow the analysis.\n",
    "\n",
    "### First, load data and train the in your beach-head market, San Francisco. Also add additional data for Seattle and Austin, your target markets."
   ]
  },
  {
   "cell_type": "code",
   "execution_count": null,
   "metadata": {
    "id": "HvZYMI4fixcb"
   },
   "outputs": [],
   "source": [
    "import logging\n",
    "import pandas as pd\n",
    "import xgboost as xgb\n",
    "from sklearn import preprocessing\n",
    "from sklearn.utils import resample\n",
    "\n",
    "from truera.client.truera_workspace import TrueraWorkspace\n",
    "from truera.client.truera_authentication import TokenAuthentication\n",
    "from truera.client.ingestion import ModelOutputContext, ColumnSpec\n",
    "\n",
    "auth = TokenAuthentication(AUTH_TOKEN)\n",
    "tru = TrueraWorkspace(TRUERA_URL, auth)"
   ]
  },
  {
   "attachments": {},
   "cell_type": "markdown",
   "metadata": {
    "id": "1oHfd4Hhixcc"
   },
   "source": [
    "### Test for stability in Seattle and Austin."
   ]
  },
  {
   "cell_type": "code",
   "execution_count": null,
   "metadata": {
    "colab": {
     "base_uri": "https://localhost:8080/"
    },
    "id": "h_tdwbLWixcc",
    "outputId": "dd9fc1fa-7a53-404b-b9b3-12e735d0424a"
   },
   "outputs": [],
   "source": [
    "# create the first project and data collection\n",
    "project_name = \"Starter Example Companion - Drift\"\n",
    "tru.set_project(project_name)\n",
    "tru.set_data_collection(\"Data Collection v1\")\n",
    "tru.get_models()"
   ]
  },
  {
   "cell_type": "code",
   "execution_count": null,
   "metadata": {},
   "outputs": [],
   "source": [
    "# add performance and feature importance tests\n",
    "tru.tester.add_performance_test(\n",
    "    test_name=\"MAE Test\",\n",
    "    all_data_collections=True,\n",
    "    data_split_name_regex=\"Seattle\",\n",
    "    metric=\"MAE\",\n",
    "    reference_split_name=\"San Francisco\",\n",
    "    fail_if_greater_than=40,\n",
    "    fail_threshold_type=\"RELATIVE\"\n",
    ")"
   ]
  },
  {
   "cell_type": "code",
   "execution_count": null,
   "metadata": {
    "colab": {
     "base_uri": "https://localhost:8080/",
     "height": 172
    },
    "id": "bi183I_ZkulK",
    "outputId": "3f00254f-9bc2-4181-fbe9-6aa15797adf7"
   },
   "outputs": [],
   "source": [
    "tru.tester.get_model_leaderboard(sort_by=\"performance\")"
   ]
  },
  {
   "cell_type": "code",
   "execution_count": null,
   "metadata": {
    "colab": {
     "base_uri": "https://localhost:8080/",
     "height": 103
    },
    "id": "g9_wizHvixcc",
    "outputId": "44e200f9-f608-4340-99b2-ecf8031a52bc"
   },
   "outputs": [],
   "source": [
    "tru.set_model(\"model_1\")\n",
    "tru.tester.get_model_test_results(test_types=[\"stability\"])"
   ]
  },
  {
   "attachments": {},
   "cell_type": "markdown",
   "metadata": {
    "id": "Sr8xZVMWixcd"
   },
   "source": [
    "The model fails in Seattle and Austin because the scores drifted too far from the ground truth in the new cities."
   ]
  },
  {
   "cell_type": "code",
   "execution_count": null,
   "metadata": {},
   "outputs": [],
   "source": [
    "explainer = tru.get_explainer(\"Austin\", comparison_data_splits=[\"San Francisco\"])\n",
    "explainer.find_hotspots(max_num_responses=5)"
   ]
  },
  {
   "attachments": {},
   "cell_type": "markdown",
   "metadata": {
    "id": "nIcy1t1Aixcd"
   },
   "source": [
    "The MAE for larger, more expensive houses is high, as represented in the hotspots. Bedrooms are a commonly used proxy for house size and price. This will correlate with all the listed hotspots. Let's resample the San Francisco data we're training on to include an equal proportion of larger listings as Austin."
   ]
  },
  {
   "cell_type": "code",
   "execution_count": null,
   "metadata": {
    "id": "KEgSpLx1ixcd"
   },
   "outputs": [],
   "source": [
    "# load data\n",
    "san_francisco = pd.read_csv(\"https://truera-examples.s3.us-west-2.amazonaws.com/data/starter-stability/San_Francisco_for_stability.csv\")\n",
    "seattle = pd.read_csv(\"https://truera-examples.s3.us-west-2.amazonaws.com/data/starter-stability/Seattle_for_stability.csv\")\n",
    "austin = pd.read_csv(\"https://truera-examples.s3.us-west-2.amazonaws.com/data/starter-stability/Austin_for_stability.csv\")\n",
    "\n",
    "# make all float and make index ids\n",
    "san_francisco = san_francisco.astype(float).reset_index(names=\"id\")\n",
    "seattle = seattle.astype(float).reset_index(names=\"id\")\n",
    "austin = austin.astype(float).reset_index(names=\"id\")"
   ]
  },
  {
   "cell_type": "code",
   "execution_count": null,
   "metadata": {},
   "outputs": [],
   "source": [
    "large_listings = san_francisco[san_francisco[\"bedrooms\"] >= 2]\n",
    "small_listings = san_francisco[san_francisco[\"bedrooms\"] < 2]\n",
    "\n",
    "austin_large_listings = austin[austin[\"bedrooms\"] >= 2]\n",
    "num_samples = int(round((len(austin_large_listings)/len(austin)) * len(san_francisco), 0))\n",
    "\n",
    "large_listings_resampled = resample(\n",
    "    large_listings, \n",
    "    replace=True,\n",
    "    n_samples=num_samples,\n",
    "    random_state=1 # include random seed so we can perform same sampling on each data set\n",
    ")\n",
    "\n",
    "san_francisco_resampled = pd.concat([small_listings, large_listings_resampled])"
   ]
  },
  {
   "cell_type": "code",
   "execution_count": null,
   "metadata": {},
   "outputs": [],
   "source": [
    "# train new model on resampled sf data\n",
    "xgb_reg = xgb.XGBRegressor(eta=0.2, max_depth=4)\n",
    "xgb_reg.fit(san_francisco_resampled.drop([\"id\", \"price\"], axis=1), san_francisco_resampled.price)\n",
    "\n",
    "tru.set_project(project_name)\n",
    "tru.set_data_collection(\"Data Collection v1\")\n",
    "\n",
    "# register the model\n",
    "tru.add_python_model(\n",
    "    \"model_2\",\n",
    "    xgb_reg,\n",
    "    train_parameters={\"model_type\": \"xgb.XGBRegressor\", \"eta\": 0.2, \"max_depth\": 4}\n",
    ")"
   ]
  },
  {
   "cell_type": "code",
   "execution_count": null,
   "metadata": {},
   "outputs": [],
   "source": [
    "# predictions\n",
    "tru.set_project(project_name)\n",
    "tru.set_data_collection(\"Data Collection v1\")\n",
    "tru.set_model(\"model_2\")\n",
    "tru.set_influences_background_data_split(\"San Francisco\")\n",
    "tru.set_data_split(\"San Francisco\")\n",
    "sf_preds = tru.get_ys_pred().reset_index(names = \"id\")\n",
    "tru.set_data_split(\"Seattle\")\n",
    "se_preds = tru.get_ys_pred().reset_index(names = \"id\")\n",
    "tru.set_data_split(\"Austin\")\n",
    "au_preds = tru.get_ys_pred().reset_index(names = \"id\")\n",
    "\n",
    "tru.add_data(\n",
    "    data = sf_preds,\n",
    "    data_split_name = \"San Francisco\",\n",
    "    column_spec=ColumnSpec(\n",
    "        id_col_name=\"id\",\n",
    "        prediction_col_names=\"__truera_prediction__\"\n",
    "    )\n",
    ")\n",
    "\n",
    "tru.add_data(\n",
    "    data = se_preds,\n",
    "    data_split_name = \"Seattle\",\n",
    "    column_spec=ColumnSpec(\n",
    "        id_col_name=\"id\",\n",
    "        prediction_col_names=\"__truera_prediction__\"\n",
    "    )\n",
    ")\n",
    "\n",
    "tru.add_data(\n",
    "    data = au_preds,\n",
    "    data_split_name = \"Austin\",\n",
    "    column_spec=ColumnSpec(\n",
    "        id_col_name=\"id\",\n",
    "        prediction_col_names=\"__truera_prediction__\"\n",
    "    )\n",
    ")"
   ]
  },
  {
   "cell_type": "code",
   "execution_count": null,
   "metadata": {},
   "outputs": [],
   "source": [
    "# set model and background split\n",
    "tru.set_model(\"model_2\")\n",
    "tru.set_influences_background_data_split(\"San Francisco\")\n",
    "\n",
    "# influence type\n",
    "tru.set_influence_type(\"shap\")\n",
    "\n",
    "# reduce settings for speed\n",
    "tru.set_num_internal_qii_samples(100)\n",
    "tru.set_num_default_influences(100)\n",
    "\n",
    "se_explainer = tru.get_explainer(\"Seattle\")\n",
    "se_infs = se_explainer.get_feature_influences().reset_index(names = \"id\")\n",
    "\n",
    "sf_explainer = tru.get_explainer(\"San Francisco\")\n",
    "sf_infs = sf_explainer.get_feature_influences().reset_index(names = \"id\")\n",
    "\n",
    "au_explainer = tru.get_explainer(\"Austin\")\n",
    "au_infs = sf_explainer.get_feature_influences().reset_index(names = \"id\")\n",
    "\n",
    "model_output_context = ModelOutputContext(model_name='model_2', score_type='regression', background_split_name='San Francisco', influence_type='kernel-shap')\n",
    "\n",
    "tru.add_data(\n",
    "    data = sf_infs,\n",
    "    data_split_name = \"San Francisco\",\n",
    "    column_spec = ColumnSpec(\n",
    "        id_col_name = \"id\",\n",
    "        feature_influence_col_names = list(sf_infs.columns.drop(\"id\"))\n",
    "    ),\n",
    "    model_output_context=model_output_context\n",
    ")\n",
    "\n",
    "tru.add_data(\n",
    "    data = se_infs,\n",
    "    data_split_name = \"Seattle\",\n",
    "    column_spec = ColumnSpec(\n",
    "        id_col_name = \"id\",\n",
    "        feature_influence_col_names = list(se_infs.columns.drop(\"id\"))\n",
    "    ),\n",
    "    model_output_context=model_output_context\n",
    ")\n",
    "\n",
    "tru.add_data(\n",
    "    data = au_infs,\n",
    "    data_split_name = \"Austin\",\n",
    "    column_spec = ColumnSpec(\n",
    "        id_col_name = \"id\",\n",
    "        feature_influence_col_names = list(se_infs.columns.drop(\"id\"))\n",
    "    ),\n",
    "    model_output_context=model_output_context\n",
    ")"
   ]
  },
  {
   "cell_type": "code",
   "execution_count": null,
   "metadata": {},
   "outputs": [],
   "source": [
    "# error influences\n",
    "model_output_context = ModelOutputContext(model_name='model_2', score_type='mean_absolute_error_for_regression', background_split_name='San Francisco', influence_type='kernel-shap')\n",
    "\n",
    "tru.set_data_split('San Francisco')\n",
    "sf_error_infs = tru.get_feature_influences(score_type='mean_absolute_error_for_regression').reset_index(names=\"id\")\n",
    "\n",
    "tru.set_data_split('Seattle')\n",
    "se_error_infs = tru.get_feature_influences(score_type='mean_absolute_error_for_regression').reset_index(names=\"id\")\n",
    "\n",
    "tru.set_data_split('Austin')\n",
    "au_error_infs = tru.get_feature_influences(score_type='mean_absolute_error_for_regression').reset_index(names=\"id\")\n",
    "\n",
    "tru.add_data(\n",
    "    data = sf_error_infs,\n",
    "    data_split_name = \"San Francisco\",\n",
    "    column_spec = ColumnSpec(\n",
    "        id_col_name = \"id\",\n",
    "        feature_influence_col_names = list(sf_error_infs.columns.drop(\"id\"))\n",
    "    ),\n",
    "    model_output_context=model_output_context\n",
    ")\n",
    "\n",
    "tru.add_data(\n",
    "    data = se_error_infs,\n",
    "    data_split_name = \"Seattle\",\n",
    "    column_spec = ColumnSpec(\n",
    "        id_col_name = \"id\",\n",
    "        feature_influence_col_names = list(se_error_infs.columns.drop(\"id\"))\n",
    "    ),\n",
    "    model_output_context=model_output_context\n",
    ")\n",
    "\n",
    "tru.add_data(\n",
    "    data = au_error_infs,\n",
    "    data_split_name = \"Austin\",\n",
    "    column_spec = ColumnSpec(\n",
    "        id_col_name = \"id\",\n",
    "        feature_influence_col_names = list(se_error_infs.columns.drop(\"id\"))\n",
    "    ),\n",
    "    model_output_context=model_output_context\n",
    ")"
   ]
  },
  {
   "cell_type": "code",
   "execution_count": null,
   "metadata": {
    "id": "_ZKjCFPbixce",
    "outputId": "3e2d3c33-f442-4b0e-e83b-703a25c43fab"
   },
   "outputs": [],
   "source": [
    "# check drift results\n",
    "tru.set_environment(\"remote\")\n",
    "tru.set_model(\"model_2\")\n",
    "tru.tester.get_model_test_results(test_types=[\"stability\"])"
   ]
  },
  {
   "attachments": {},
   "cell_type": "markdown",
   "metadata": {
    "id": "GJnsZ6dNixce"
   },
   "source": [
    "The model now passes in Austin and is ready for production, while it still fails in Seattle. Let's continue to iterate on Seattle.\n",
    "\n",
    "Since the model errors with scores that are too high, we should look for the largest positive contributors to score drift."
   ]
  },
  {
   "cell_type": "code",
   "execution_count": null,
   "metadata": {
    "id": "MR6sFFj4ixce",
    "outputId": "6fe4dbe8-e603-4a64-e5d0-16589b45a8b6"
   },
   "outputs": [],
   "source": [
    "explainer = tru.get_explainer(\"San Francisco\", comparison_data_splits=[\"Seattle\"])\n",
    "explainer.compute_feature_contributors_to_instability(use_difference_of_means=True).T"
   ]
  },
  {
   "attachments": {},
   "cell_type": "markdown",
   "metadata": {
    "id": "knOfy6PRixce"
   },
   "source": [
    "Availability_90 is by far the largest positive contributor to score drift in Seattle. Let's remove that feature along with the related feature Availability_365 to mitigate this issue."
   ]
  },
  {
   "cell_type": "code",
   "execution_count": null,
   "metadata": {},
   "outputs": [],
   "source": [
    "# train a new model\n",
    "xgb_reg = xgb.XGBRegressor(eta=0.2, max_depth=4)\n",
    "xgb_reg.fit(san_francisco_resampled.drop([\"id\", \"price\", \"availability_90\", \"availability_365\"], axis=1), san_francisco_resampled.price)\n",
    "\n",
    "# create the first project and data collection\n",
    "tru.add_data_collection(\"Data Collection v2\")"
   ]
  },
  {
   "cell_type": "code",
   "execution_count": null,
   "metadata": {
    "id": "jTrTPeZpixce",
    "outputId": "0a771a73-d1ef-4434-ee13-a42e455fd4a0"
   },
   "outputs": [],
   "source": [
    "# add data to the collection we just created\n",
    "tru.add_data(\n",
    "    data = san_francisco,\n",
    "    data_split_name = \"San Francisco\",\n",
    "    column_spec=ColumnSpec(\n",
    "        id_col_name = \"id\",\n",
    "        pre_data_col_names=list(san_francisco.columns.drop([\"id\",\"price\",\"availability_90\",\"availability_365\"])),\n",
    "        label_col_names=\"price\")\n",
    ")\n",
    "tru.add_data(\n",
    "    data = seattle,\n",
    "    data_split_name = \"Seattle\",\n",
    "    column_spec=ColumnSpec(\n",
    "        id_col_name = \"id\",\n",
    "        pre_data_col_names=list(seattle.columns.drop([\"id\",\"price\",\"availability_90\",\"availability_365\"])),\n",
    "        label_col_names=\"price\")\n",
    ")\n",
    "tru.add_data(\n",
    "    data = austin,\n",
    "    data_split_name = \"Austin\",\n",
    "    column_spec=ColumnSpec(\n",
    "        id_col_name = \"id\",\n",
    "        pre_data_col_names=list(seattle.columns.drop([\"id\",\"price\",\"availability_90\",\"availability_365\"])),\n",
    "        label_col_names=\"price\")\n",
    ")\n",
    "tru.set_influences_background_data_split(\"San Francisco\")\n",
    "\n",
    "# register the model\n",
    "tru.add_python_model(\n",
    "    \"model_3\",\n",
    "    xgb_reg,\n",
    "    train_parameters={\"model_type\": \"xgb.XGBRegressor\", \"eta\": 0.2, \"max_depth\": 4}\n",
    ")"
   ]
  },
  {
   "cell_type": "code",
   "execution_count": null,
   "metadata": {},
   "outputs": [],
   "source": [
    "tru.set_model('model_3')"
   ]
  },
  {
   "cell_type": "code",
   "execution_count": null,
   "metadata": {},
   "outputs": [],
   "source": [
    "tru.set_data_split(\"San Francisco\")\n",
    "sf_preds = tru.get_ys_pred().reset_index(names = \"id\")\n",
    "tru.set_data_split(\"Seattle\")\n",
    "se_preds = tru.get_ys_pred().reset_index(names = \"id\")\n",
    "tru.set_data_split(\"Austin\")\n",
    "au_preds = tru.get_ys_pred().reset_index(names = \"id\")"
   ]
  },
  {
   "cell_type": "code",
   "execution_count": null,
   "metadata": {},
   "outputs": [],
   "source": [
    "tru.set_data_split(\"San Francisco\")\n",
    "sf_preds = tru.get_ys_pred().reset_index(names = \"id\")\n",
    "tru.set_data_split(\"Seattle\")\n",
    "se_preds = tru.get_ys_pred().reset_index(names = \"id\")\n",
    "tru.set_data_split(\"Austin\")\n",
    "au_preds = tru.get_ys_pred().reset_index(names = \"id\")\n",
    "\n",
    "tru.add_data(\n",
    "    data = sf_preds,\n",
    "    data_split_name = \"San Francisco\",\n",
    "    column_spec=ColumnSpec(\n",
    "        id_col_name=\"id\",\n",
    "        prediction_col_names=\"__truera_prediction__\"\n",
    "    )\n",
    ")\n",
    "\n",
    "tru.add_data(\n",
    "    data = se_preds,\n",
    "    data_split_name = \"Seattle\",\n",
    "    column_spec=ColumnSpec(\n",
    "        id_col_name=\"id\",\n",
    "        prediction_col_names=\"__truera_prediction__\"\n",
    "    )\n",
    ")\n",
    "\n",
    "tru.add_data(\n",
    "    data = au_preds,\n",
    "    data_split_name = \"Austin\",\n",
    "    column_spec=ColumnSpec(\n",
    "        id_col_name=\"id\",\n",
    "        prediction_col_names=\"__truera_prediction__\"\n",
    "    )\n",
    ")"
   ]
  },
  {
   "cell_type": "code",
   "execution_count": null,
   "metadata": {
    "id": "x-Ioo-Ajixce",
    "outputId": "ebef4cce-44f5-4b3a-aaba-3c2111e5b2a1"
   },
   "outputs": [],
   "source": [
    "# get the test details from model_2 so we can copy them for model_3\n",
    "tru.set_environment(\"remote\")\n",
    "tru.set_model(\"model_2\")\n",
    "tru.tester.get_model_tests().as_dict()[\"Stability Tests\"][\"Rows\"]"
   ]
  },
  {
   "cell_type": "code",
   "execution_count": null,
   "metadata": {},
   "outputs": [],
   "source": [
    "# toggle back to remote to interact with the tester\n",
    "\n",
    "# check stability results\n",
    "tru.set_model(\"model_3\")\n",
    "\n",
    "# let the warn conditions have $50 in wiggle room\n",
    "tru.tester.add_stability_test(test_name=\"Stability Test - Seattle - v3\",\n",
    "    base_data_split_name=\"San Francisco\",\n",
    "    comparison_data_split_names=[\"Seattle\"],\n",
    "    fail_if_outside=[-142.44841, -12.44841]\n",
    ")\n"
   ]
  },
  {
   "cell_type": "code",
   "execution_count": null,
   "metadata": {
    "id": "HhCY_1VZixcf",
    "outputId": "3ff6e498-04a1-4105-a16c-bceac7dc8c81"
   },
   "outputs": [],
   "source": [
    "tru.tester.get_model_test_results(test_types=[\"stability\"])"
   ]
  },
  {
   "attachments": {},
   "cell_type": "markdown",
   "metadata": {
    "id": "Rh78BT9bixcf"
   },
   "source": [
    "In v3, the model passes now in Seattle. We can deploy the v2 model in Austin and v3 model in Seattle as we launch and the investors of our startup are satisfied with these results!"
   ]
  }
 ],
 "metadata": {
  "colab": {
   "collapsed_sections": [
    "glAQlNBfixcb"
   ],
   "provenance": []
  },
  "kernelspec": {
   "display_name": "Python 3 (ipykernel)",
   "language": "python",
   "name": "python3"
  },
  "language_info": {
   "codemirror_mode": {
    "name": "ipython",
    "version": 3
   },
   "file_extension": ".py",
   "mimetype": "text/x-python",
   "name": "python",
   "nbconvert_exporter": "python",
   "pygments_lexer": "ipython3",
   "version": "3.10.6"
  },
  "vscode": {
   "interpreter": {
    "hash": "b4f2e5daa82a60c8a70e0d3e9bda538f88cddb8e82481cb13c1d3f460faace44"
   }
  }
 },
 "nbformat": 4,
 "nbformat_minor": 4
}

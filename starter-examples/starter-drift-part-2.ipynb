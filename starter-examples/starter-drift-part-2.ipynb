{
 "cells": [
  {
   "attachments": {},
   "cell_type": "markdown",
   "metadata": {
    "id": "4ThQA9IJixcY"
   },
   "source": [
    "# Guided Exercise: Drift\n",
    "This is a continuation of part 1. If you missed it:     [![Open In Colab](https://colab.research.google.com/assets/colab-badge.svg)](https://colab.research.google.com/github/truera/truera-examples/blob/release/rc-1.37/starter-examples/starter-drift-part-1.ipynb)\n",
    "\n",
    "#### Goals 🎯\n",
    "In this tutorial, you will learn how to:\n",
    "1. View the results of stability tests set up in part 1.\n",
    "2. Debug the true cause of stability issues.\n",
    "3. Retest the new model and confirm the effectiveness of the mitigation strategy.\n",
    "\n",
    "### First, set the credentials for your TruEra deployment.\n",
    "If you don't have credentials yet, get them instantly by signing up for free at: https://www.truera.com"
   ]
  },
  {
   "cell_type": "code",
   "execution_count": 1,
   "metadata": {
    "execution": {
     "iopub.execute_input": "2023-07-28T16:54:36.152948Z",
     "iopub.status.busy": "2023-07-28T16:54:36.152464Z",
     "iopub.status.idle": "2023-07-28T16:54:39.211276Z",
     "shell.execute_reply": "2023-07-28T16:54:39.210427Z",
     "shell.execute_reply.started": "2023-07-28T16:54:36.152918Z"
    }
   },
   "outputs": [],
   "source": [
    "# connection details\n",
    "from truera.client.truera_authentication import BasicAuthentication\n",
    "from truera.client.truera_workspace import TrueraWorkspace\n",
    "\n",
    "TRUERA_URL = \"http://localhost:8000\"\n",
    "auth = BasicAuthentication(\"ailens\", \"ailens123\")\n",
    "\n",
    "# Fix up this\n",
    "# Uncomment pip thing\n",
    "# fix up auth\n",
    "# Change kernel"
   ]
  },
  {
   "cell_type": "code",
   "execution_count": 2,
   "metadata": {
    "execution": {
     "iopub.execute_input": "2023-07-28T16:54:39.212962Z",
     "iopub.status.busy": "2023-07-28T16:54:39.212388Z",
     "iopub.status.idle": "2023-07-28T16:54:39.217016Z",
     "shell.execute_reply": "2023-07-28T16:54:39.216223Z",
     "shell.execute_reply.started": "2023-07-28T16:54:39.212935Z"
    },
    "id": "5R0i__Z8ixca"
   },
   "outputs": [],
   "source": [
    "# connection details\n",
    "#TRUERA_URL = \"https://app.truera.net/\"\n",
    "AUTH_TOKEN = \"...\""
   ]
  },
  {
   "attachments": {},
   "cell_type": "markdown",
   "metadata": {
    "id": "glAQlNBfixcb"
   },
   "source": [
    "### Install the required packages for running in colab"
   ]
  },
  {
   "cell_type": "code",
   "execution_count": 3,
   "metadata": {
    "colab": {
     "base_uri": "https://localhost:8080/"
    },
    "execution": {
     "iopub.execute_input": "2023-07-28T16:54:39.218806Z",
     "iopub.status.busy": "2023-07-28T16:54:39.218444Z",
     "iopub.status.idle": "2023-07-28T16:54:39.222071Z",
     "shell.execute_reply": "2023-07-28T16:54:39.221266Z",
     "shell.execute_reply.started": "2023-07-28T16:54:39.218781Z"
    },
    "id": "Y_ypf-Pmixcb",
    "outputId": "4f6af9b2-bbb0-42f4-8138-ae8e375e7066"
   },
   "outputs": [],
   "source": [
    "#! pip install --upgrade truera"
   ]
  },
  {
   "attachments": {},
   "cell_type": "markdown",
   "metadata": {
    "id": "ewL5GnJlixcb"
   },
   "source": [
    "### From here, run the rest of the notebook and follow the analysis.\n",
    "\n",
    "### First, load data and train the in your beach-head market, San Francisco. Also add additional data for Seattle and Austin, your target markets."
   ]
  },
  {
   "cell_type": "code",
   "execution_count": 4,
   "metadata": {
    "execution": {
     "iopub.execute_input": "2023-07-28T16:54:39.225784Z",
     "iopub.status.busy": "2023-07-28T16:54:39.225447Z",
     "iopub.status.idle": "2023-07-28T16:54:39.386047Z",
     "shell.execute_reply": "2023-07-28T16:54:39.385314Z",
     "shell.execute_reply.started": "2023-07-28T16:54:39.225759Z"
    },
    "id": "HvZYMI4fixcb"
   },
   "outputs": [
    {
     "name": "stderr",
     "output_type": "stream",
     "text": [
      "INFO:truera.client.remote_truera_workspace:Connecting to 'http://localhost:8000'\n"
     ]
    }
   ],
   "source": [
    "import logging\n",
    "import pandas as pd\n",
    "import xgboost as xgb\n",
    "from sklearn import preprocessing\n",
    "from sklearn.utils import resample\n",
    "\n",
    "from truera.client.truera_workspace import TrueraWorkspace\n",
    "from truera.client.truera_authentication import TokenAuthentication\n",
    "from truera.client.ingestion import ModelOutputContext, ColumnSpec\n",
    "\n",
    "#auth = TokenAuthentication(AUTH_TOKEN)\n",
    "tru = TrueraWorkspace(TRUERA_URL, auth)\n",
    "\n",
    "# note: we'll periodically toggle between local and remote so we can interact with our remote deployment as well."
   ]
  },
  {
   "attachments": {},
   "cell_type": "markdown",
   "metadata": {
    "id": "1oHfd4Hhixcc"
   },
   "source": [
    "### Test for stability in Seattle and Austin."
   ]
  },
  {
   "cell_type": "code",
   "execution_count": 5,
   "metadata": {
    "colab": {
     "base_uri": "https://localhost:8080/"
    },
    "execution": {
     "iopub.execute_input": "2023-07-28T16:54:39.387869Z",
     "iopub.status.busy": "2023-07-28T16:54:39.387336Z",
     "iopub.status.idle": "2023-07-28T16:54:40.323491Z",
     "shell.execute_reply": "2023-07-28T16:54:40.322640Z",
     "shell.execute_reply.started": "2023-07-28T16:54:39.387841Z"
    },
    "id": "h_tdwbLWixcc",
    "outputId": "dd9fc1fa-7a53-404b-b9b3-12e735d0424a"
   },
   "outputs": [
    {
     "name": "stderr",
     "output_type": "stream",
     "text": [
      "INFO:truera.client.remote_truera_workspace:Data collection in remote environment is now set to \"Data Collection v1\". \n"
     ]
    },
    {
     "data": {
      "text/plain": [
       "['model_1']"
      ]
     },
     "execution_count": 5,
     "metadata": {},
     "output_type": "execute_result"
    }
   ],
   "source": [
    "# create the first project and data collection\n",
    "project_name = \"Starter Example Companion - Drift\"\n",
    "tru.set_project(project_name)\n",
    "tru.set_data_collection(\"Data Collection v1\")\n",
    "tru.get_models()"
   ]
  },
  {
   "cell_type": "code",
   "execution_count": 6,
   "metadata": {
    "execution": {
     "iopub.execute_input": "2023-07-28T16:54:40.325740Z",
     "iopub.status.busy": "2023-07-28T16:54:40.325106Z",
     "iopub.status.idle": "2023-07-28T16:54:40.880324Z",
     "shell.execute_reply": "2023-07-28T16:54:40.879308Z",
     "shell.execute_reply.started": "2023-07-28T16:54:40.325714Z"
    }
   },
   "outputs": [],
   "source": [
    "# add performance and feature importance tests\n",
    "tru.tester.add_performance_test(\n",
    "    test_name=\"MAE Test\",\n",
    "    all_data_collections=True,\n",
    "    data_split_name_regex=\"Seattle\",\n",
    "    metric=\"MAE\",\n",
    "    reference_split_name=\"San Francisco\",\n",
    "    fail_if_greater_than=40,\n",
    "    fail_threshold_type=\"RELATIVE\"\n",
    ")"
   ]
  },
  {
   "cell_type": "code",
   "execution_count": 7,
   "metadata": {
    "colab": {
     "base_uri": "https://localhost:8080/",
     "height": 172
    },
    "execution": {
     "iopub.execute_input": "2023-07-28T16:54:40.881745Z",
     "iopub.status.busy": "2023-07-28T16:54:40.881366Z",
     "iopub.status.idle": "2023-07-28T16:54:46.183766Z",
     "shell.execute_reply": "2023-07-28T16:54:46.182878Z",
     "shell.execute_reply.started": "2023-07-28T16:54:40.881717Z"
    },
    "id": "bi183I_ZkulK",
    "outputId": "3f00254f-9bc2-4181-fbe9-6aa15797adf7"
   },
   "outputs": [
    {
     "data": {
      "text/html": [
       "\n",
       "        <html>\n",
       "        <head>\n",
       "        <style>\n",
       "        table, th, td {\n",
       "            border-radius: 5px;\n",
       "        }\n",
       "        .header {\n",
       "            font-weight: bold;\n",
       "            font-size: 14px;\n",
       "        }\n",
       "        caption {\n",
       "            font-weight: bolder;\n",
       "            font-size: 16px;\n",
       "            background-color: powderblue;\n",
       "            color: black;\n",
       "            border-radius: 5px;\n",
       "        }\n",
       "        \n",
       "        </style>\n",
       "        </head>\n",
       "        <body>\n",
       "        <table>\n",
       "            <caption>Test Leaderboard of Models in Data Collection \"Data Collection v1\"</caption>\n",
       "            <tr class=\"header\"><td>Model Name</td><td>Train Split Name</td><td>Train Parameters</td><td>Performance Tests (Failed/Warning/Total)</td><td>Fairness Tests (Failed/Warning/Total)</td><td>Stability Tests (Failed/Warning/Total)</td><td>Feature Importance Tests (Failed/Warning/Total)</td></tr>\n",
       "            <tr><td >model_1</td><td >San Francisco</td><td >eta: 0.2<br>max_depth: 4.0<br>model_type: xgb.XGBRegressor</td><td >0 ❌ / 0 ⚠️ / 1</td><td >0 ❌ / 0 ⚠️ / 0</td><td >2 ❌ / 0 ⚠️ / 2</td><td >0 ❌ / 0 ⚠️ / 0</td></tr>\n",
       "        </table>\n",
       "        </body>\n",
       "        </html>\n",
       "        "
      ],
      "text/plain": [
       "<truera.client.intelligence.model_tests.ModelTestLeaderboard at 0x7fbdaa36d5a0>"
      ]
     },
     "execution_count": 7,
     "metadata": {},
     "output_type": "execute_result"
    }
   ],
   "source": [
    "tru.tester.get_model_leaderboard(sort_by=\"performance\")"
   ]
  },
  {
   "cell_type": "code",
   "execution_count": 8,
   "metadata": {
    "colab": {
     "base_uri": "https://localhost:8080/",
     "height": 103
    },
    "execution": {
     "iopub.execute_input": "2023-07-28T16:54:46.185747Z",
     "iopub.status.busy": "2023-07-28T16:54:46.185347Z",
     "iopub.status.idle": "2023-07-28T16:54:49.909771Z",
     "shell.execute_reply": "2023-07-28T16:54:49.908819Z",
     "shell.execute_reply.started": "2023-07-28T16:54:46.185721Z"
    },
    "id": "g9_wizHvixcc",
    "outputId": "44e200f9-f608-4340-99b2-ecf8031a52bc"
   },
   "outputs": [
    {
     "name": "stderr",
     "output_type": "stream",
     "text": [
      "INFO:truera.client.remote_truera_workspace:Setting remote model context to \"model_1\".\n"
     ]
    },
    {
     "data": {
      "text/html": [
       "\n",
       "        <html>\n",
       "        <head>\n",
       "        <style>\n",
       "        table, th, td {\n",
       "            border-radius: 5px;\n",
       "        }\n",
       "        .header {\n",
       "            font-weight: bold;\n",
       "            font-size: 14px;\n",
       "        }\n",
       "        caption {\n",
       "            font-weight: bolder;\n",
       "            font-size: 16px;\n",
       "            background-color: powderblue;\n",
       "            color: black;\n",
       "            border-radius: 5px;\n",
       "        }\n",
       "        \n",
       "            .PASSED {\n",
       "                color: black;\n",
       "                background-color: palegreen;\n",
       "            }\n",
       "            .WARNING {\n",
       "                color: black;\n",
       "                background-color: yellow;\n",
       "            }\n",
       "            .FAILED {\n",
       "                color: black;\n",
       "                background-color: pink;\n",
       "            }\n",
       "            \n",
       "        </style>\n",
       "        </head>\n",
       "        <body>\n",
       "        <table>\n",
       "            <caption>Stability Tests Results for Model \"model_1\"</caption>\n",
       "            <tr class=\"header\"><td></td><td>Name</td><td>Comparison Split</td><td>Base Split</td><td>Segment</td><td>Metric</td><td>Score</td><td>Navigate</td></tr>\n",
       "            <tr><td >❌</td><td >Stability Test - Seattle</td><td >Seattle</td><td >San Francisco</td><td >ALL POINTS</td><td >DIFFERENCE_OF_MEAN</td><td class=\"FAILED\">-4.5582</td><td ><a href=\"http://localhost:8000/home/p/Starter Example Companion - Drift/m/model_1/t/stability?baseSplitName=San Francisco&compareSplitName=Seattle&splitId=bbf9fd96-2da9-4b70-b244-60d997933ea1&modelIds=c7cc053a-7ede-4338-ba08-a4f485a07144&\" target=\"_blank\">Explore in UI</a></td></tr><tr><td >❌</td><td >Stability Test - Austin</td><td >Austin</td><td >San Francisco</td><td >ALL POINTS</td><td >DIFFERENCE_OF_MEAN</td><td class=\"FAILED\">64.0755</td><td ><a href=\"http://localhost:8000/home/p/Starter Example Companion - Drift/m/model_1/t/stability?baseSplitName=San Francisco&compareSplitName=Austin&splitId=33c168b1-19e6-4198-919a-08ab0b336c9f&modelIds=c7cc053a-7ede-4338-ba08-a4f485a07144&\" target=\"_blank\">Explore in UI</a></td></tr>\n",
       "        </table>\n",
       "        </body>\n",
       "        </html>\n",
       "        "
      ],
      "text/plain": [
       "<truera.client.intelligence.model_tests.ModelTestResults at 0x7fbdaa4b9840>"
      ]
     },
     "execution_count": 8,
     "metadata": {},
     "output_type": "execute_result"
    }
   ],
   "source": [
    "tru.set_model(\"model_1\")\n",
    "tru.tester.get_model_test_results(test_types=[\"stability\"])"
   ]
  },
  {
   "attachments": {},
   "cell_type": "markdown",
   "metadata": {
    "id": "Sr8xZVMWixcd"
   },
   "source": [
    "The model fails in Seattle and Austin because the scores drifted too far from the ground truth in the new cities."
   ]
  },
  {
   "cell_type": "code",
   "execution_count": 9,
   "metadata": {
    "execution": {
     "iopub.execute_input": "2023-07-28T16:54:49.912117Z",
     "iopub.status.busy": "2023-07-28T16:54:49.911333Z",
     "iopub.status.idle": "2023-07-28T16:55:05.974392Z",
     "shell.execute_reply": "2023-07-28T16:55:05.973140Z",
     "shell.execute_reply.started": "2023-07-28T16:54:49.912032Z"
    }
   },
   "outputs": [
    {
     "name": "stderr",
     "output_type": "stream",
     "text": [
      "INFO:truera.client.truera_workspace:Download temp_dir: /var/folders/pg/2f8qcnr92cx4rcwpvm_x2ckc0000gn/T/tmpm9hs6zxv\n",
      "INFO:truera.client.truera_workspace:Syncing data collection \"Data Collection v1\" to local.\n",
      "INFO:truera.client.local.local_truera_workspace:Data collection in local environment is now set to \"Data Collection v1\". \n",
      "INFO:truera.client.truera_workspace:Syncing data split \"San Francisco\" to local.\n",
      "INFO:truera.client.local.local_truera_workspace:Data split \"San Francisco\" is added to local data collection \"Data Collection v1\", and set as the data split for the workspace context.\n",
      "INFO:truera.client.truera_workspace:Syncing data split \"Austin\" to local.\n",
      "INFO:truera.client.local.local_truera_workspace:Data split \"Austin\" is added to local data collection \"Data Collection v1\", and set as the data split for the workspace context.\n",
      "INFO:truera.client.truera_workspace:Syncing model model_1 to local.\n",
      "INFO:truera.client.local.local_truera_workspace:Model \"model_1\" is added and associated with local data collection \"Data Collection v1\". \"model_1\" is set as the model for the workspace context.\n",
      "ERROR:truera.client.truera_workspace:Failed to sync explanation cache for model \"model_1\" and data_split \"Seattle\" to local: No such data split \"Seattle\" in data collection \"Data Collection v1\"!\n",
      "ERROR:truera.client.truera_workspace:Failed to sync explanation cache for model \"model_1\" and data_split \"Austin\" to local: all the input array dimensions for the concatenation axis must match exactly, but along dimension 0, the array at index 0 has size 100 and the array at index 1 has size 67\n",
      "INFO:truera.client.truera_workspace:Syncing segments groups from remote to local.\n",
      "INFO:truera.client.local.local_truera_workspace:The previous data collection (\"Data Collection v1\") and its associated data splits and/or models have been cleared from the local environment workspace context.\n",
      "INFO:truera.client.local.local_truera_workspace:Data collection in local environment is now set to \"Data Collection v1\". \n",
      "INFO:truera.client.local.local_truera_workspace:Setting local model context to \"model_1\".\n"
     ]
    },
    {
     "data": {
      "text/html": [
       "<div>\n",
       "<style scoped>\n",
       "    .dataframe tbody tr th:only-of-type {\n",
       "        vertical-align: middle;\n",
       "    }\n",
       "\n",
       "    .dataframe tbody tr th {\n",
       "        vertical-align: top;\n",
       "    }\n",
       "\n",
       "    .dataframe thead th {\n",
       "        text-align: right;\n",
       "    }\n",
       "</style>\n",
       "<table border=\"1\" class=\"dataframe\">\n",
       "  <thead>\n",
       "    <tr style=\"text-align: right;\">\n",
       "      <th></th>\n",
       "      <th>segment_definition</th>\n",
       "      <th>MAE</th>\n",
       "      <th>size</th>\n",
       "      <th>size (%)</th>\n",
       "    </tr>\n",
       "  </thead>\n",
       "  <tbody>\n",
       "    <tr>\n",
       "      <th>0</th>\n",
       "      <td>_DATA_GROUND_TRUTH in_range [829.0, 999.0]</td>\n",
       "      <td>381.233584</td>\n",
       "      <td>185</td>\n",
       "      <td>2.023185</td>\n",
       "    </tr>\n",
       "    <tr>\n",
       "      <th>2</th>\n",
       "      <td>bathrooms in_range [2.5, 7.0]</td>\n",
       "      <td>174.443792</td>\n",
       "      <td>1055</td>\n",
       "      <td>11.537620</td>\n",
       "    </tr>\n",
       "    <tr>\n",
       "      <th>1</th>\n",
       "      <td>accommodates in_range [6.0, 16.0]</td>\n",
       "      <td>161.833050</td>\n",
       "      <td>2619</td>\n",
       "      <td>28.641732</td>\n",
       "    </tr>\n",
       "    <tr>\n",
       "      <th>4</th>\n",
       "      <td>beds in_range [3.0, 16.0]</td>\n",
       "      <td>155.644171</td>\n",
       "      <td>2636</td>\n",
       "      <td>28.827647</td>\n",
       "    </tr>\n",
       "    <tr>\n",
       "      <th>3</th>\n",
       "      <td>bedrooms in_range [2.0, 10.0]</td>\n",
       "      <td>155.521023</td>\n",
       "      <td>3835</td>\n",
       "      <td>41.940070</td>\n",
       "    </tr>\n",
       "  </tbody>\n",
       "</table>\n",
       "</div>"
      ],
      "text/plain": [
       "                           segment_definition         MAE  size   size (%)\n",
       "0  _DATA_GROUND_TRUTH in_range [829.0, 999.0]  381.233584   185   2.023185\n",
       "2               bathrooms in_range [2.5, 7.0]  174.443792  1055  11.537620\n",
       "1           accommodates in_range [6.0, 16.0]  161.833050  2619  28.641732\n",
       "4                   beds in_range [3.0, 16.0]  155.644171  2636  28.827647\n",
       "3               bedrooms in_range [2.0, 10.0]  155.521023  3835  41.940070"
      ]
     },
     "execution_count": 9,
     "metadata": {},
     "output_type": "execute_result"
    }
   ],
   "source": [
    "explainer = tru.get_explainer(\"Austin\", comparison_data_splits=[\"San Francisco\"])\n",
    "explainer.find_hotspots(max_num_responses=5)"
   ]
  },
  {
   "attachments": {},
   "cell_type": "markdown",
   "metadata": {
    "id": "nIcy1t1Aixcd"
   },
   "source": [
    "The MAE for larger, more expensive houses is high, as represented in the hotspots. Bedrooms are a commonly used proxy for house size and price. This will correlate with all the listed hotspots. Let's resample the San Francisco data we're training on to include an equal proportion of larger listings as Austin."
   ]
  },
  {
   "cell_type": "code",
   "execution_count": 10,
   "metadata": {
    "execution": {
     "iopub.execute_input": "2023-07-28T16:55:05.976660Z",
     "iopub.status.busy": "2023-07-28T16:55:05.976105Z",
     "iopub.status.idle": "2023-07-28T16:55:06.862458Z",
     "shell.execute_reply": "2023-07-28T16:55:06.861337Z",
     "shell.execute_reply.started": "2023-07-28T16:55:05.976614Z"
    },
    "id": "KEgSpLx1ixcd"
   },
   "outputs": [],
   "source": [
    "# load data\n",
    "san_francisco = pd.read_csv(\"https://truera-examples.s3.us-west-2.amazonaws.com/data/starter-stability/San_Francisco_for_stability.csv\")\n",
    "seattle = pd.read_csv(\"https://truera-examples.s3.us-west-2.amazonaws.com/data/starter-stability/Seattle_for_stability.csv\")\n",
    "austin = pd.read_csv(\"https://truera-examples.s3.us-west-2.amazonaws.com/data/starter-stability/Austin_for_stability.csv\")\n",
    "\n",
    "# make all float and make index ids\n",
    "san_francisco = san_francisco.astype(float).reset_index(names=\"id\")\n",
    "seattle = seattle.astype(float).reset_index(names=\"id\")\n",
    "austin = austin.astype(float).reset_index(names=\"id\")"
   ]
  },
  {
   "cell_type": "code",
   "execution_count": 11,
   "metadata": {
    "execution": {
     "iopub.execute_input": "2023-07-28T16:55:06.864169Z",
     "iopub.status.busy": "2023-07-28T16:55:06.863767Z",
     "iopub.status.idle": "2023-07-28T16:55:06.876952Z",
     "shell.execute_reply": "2023-07-28T16:55:06.875836Z",
     "shell.execute_reply.started": "2023-07-28T16:55:06.864140Z"
    }
   },
   "outputs": [],
   "source": [
    "large_listings = san_francisco[san_francisco[\"bedrooms\"] >= 2]\n",
    "small_listings = san_francisco[san_francisco[\"bedrooms\"] < 2]\n",
    "\n",
    "austin_large_listings = austin[austin[\"bedrooms\"] >= 2]\n",
    "num_samples = int(round((len(austin_large_listings)/len(austin)) * len(san_francisco), 0))\n",
    "\n",
    "large_listings_resampled = resample(\n",
    "    large_listings, \n",
    "    replace=True,\n",
    "    n_samples=num_samples,\n",
    "    random_state=1 # include random seed so we can perform same sampling on each data set\n",
    ")\n",
    "\n",
    "san_francisco_resampled = pd.concat([small_listings, large_listings_resampled])"
   ]
  },
  {
   "cell_type": "code",
   "execution_count": 12,
   "metadata": {
    "execution": {
     "iopub.execute_input": "2023-07-28T16:55:06.879224Z",
     "iopub.status.busy": "2023-07-28T16:55:06.878787Z",
     "iopub.status.idle": "2023-07-28T16:55:11.751476Z",
     "shell.execute_reply": "2023-07-28T16:55:11.750238Z",
     "shell.execute_reply.started": "2023-07-28T16:55:06.879197Z"
    }
   },
   "outputs": [
    {
     "name": "stderr",
     "output_type": "stream",
     "text": [
      "INFO:truera.client.remote_truera_workspace:Uploading xgboost model: XGBRegressor\n",
      "INFO:truera.client.remote_truera_workspace:Verifying model...\n",
      "INFO:truera.client.remote_truera_workspace:✔️ Verified packaged model format.\n",
      "INFO:truera.client.remote_truera_workspace:✔️ Loaded model in current environment.\n",
      "INFO:truera.client.remote_truera_workspace:✔️ Called predict on model.\n",
      "INFO:truera.client.remote_truera_workspace:✔️ Verified model output.\n",
      "INFO:truera.client.remote_truera_workspace:Verification succeeded!\n"
     ]
    },
    {
     "name": "stdout",
     "output_type": "stream",
     "text": [
      "Uploading MLmodel (218.0B) -- ### -- file upload complete.\n",
      "Uploading tmpb2qpygfx.json (174.2KiB) -- ### -- file upload complete.\n",
      "Uploading conda.yaml (208.0B) -- ### -- file upload complete.\n",
      "Uploading xgboost_regression_predict_wrapper.py (459.0B) -- ### -- file upload complete.\n",
      "Uploading xgboost_regression_predict_wrapper.cpython-310.pyc (1.1KiB) -- ### -- file upload complete.\n",
      "Put resource done.\n"
     ]
    },
    {
     "name": "stderr",
     "output_type": "stream",
     "text": [
      "INFO:truera.client.remote_truera_workspace:Model \"model_2\" is added and associated with remote data collection \"Data Collection v1\". \"model_2\" is set as the model for the workspace context.\n"
     ]
    },
    {
     "name": "stdout",
     "output_type": "stream",
     "text": [
      "Model uploaded to: http://localhost:8000/home/p/Starter%20Example%20Companion%20-%20Drift/m/model_2/\n"
     ]
    },
    {
     "name": "stderr",
     "output_type": "stream",
     "text": [
      "INFO:truera.client.remote_truera_workspace:Triggering computations for model predictions on split San Francisco.\n",
      "INFO:truera.client.remote_truera_workspace:Data collection in remote environment is now set to \"Data Collection v1\". \n",
      "INFO:truera.client.remote_truera_workspace:Setting remote model context to \"model_2\".\n"
     ]
    }
   ],
   "source": [
    "# train new model on resampled sf data\n",
    "xgb_reg = xgb.XGBRegressor(eta=0.2, max_depth=4)\n",
    "xgb_reg.fit(san_francisco_resampled.drop([\"id\", \"price\"], axis=1), san_francisco_resampled.price)\n",
    "\n",
    "tru.set_project(project_name)\n",
    "tru.set_data_collection(\"Data Collection v1\")\n",
    "\n",
    "# register the model\n",
    "tru.add_python_model(\n",
    "    \"model_2\",\n",
    "    xgb_reg,\n",
    "    train_parameters={\"model_type\": \"xgb.XGBRegressor\", \"eta\": 0.2, \"max_depth\": 4}\n",
    ")"
   ]
  },
  {
   "cell_type": "code",
   "execution_count": 13,
   "metadata": {
    "execution": {
     "iopub.execute_input": "2023-07-28T16:55:11.761106Z",
     "iopub.status.busy": "2023-07-28T16:55:11.760534Z",
     "iopub.status.idle": "2023-07-28T16:55:41.778015Z",
     "shell.execute_reply": "2023-07-28T16:55:41.776597Z",
     "shell.execute_reply.started": "2023-07-28T16:55:11.761064Z"
    }
   },
   "outputs": [
    {
     "name": "stderr",
     "output_type": "stream",
     "text": [
      "INFO:truera.client.truera_workspace:Download temp_dir: /var/folders/pg/2f8qcnr92cx4rcwpvm_x2ckc0000gn/T/tmpm9hs6zxv\n",
      "INFO:truera.client.truera_workspace:Syncing data collection \"Data Collection v1\" to local.\n",
      "WARNING:truera.client.truera_workspace:Data split \"San Francisco\" exists in local. Skipping.\n",
      "INFO:truera.client.truera_workspace:Syncing model model_2 to local.\n",
      "INFO:truera.client.local.local_truera_workspace:Model \"model_2\" is added and associated with local data collection \"Data Collection v1\". \"model_2\" is set as the model for the workspace context.\n",
      "ERROR:truera.client.truera_workspace:Failed to sync explanation cache for model \"model_2\" and data_split \"Seattle\" to local: No such data split \"Seattle\" in data collection \"Data Collection v1\"!\n",
      "INFO:truera.client.truera_workspace:Syncing segments groups from remote to local.\n",
      "INFO:truera.client.local.local_truera_workspace:Setting local model context to \"model_1\".\n",
      "INFO:truera.client.local.local_truera_workspace:Setting local model context to \"model_2\".\n",
      "INFO:truera.client.truera_workspace:Download temp_dir: /var/folders/pg/2f8qcnr92cx4rcwpvm_x2ckc0000gn/T/tmpm9hs6zxv\n",
      "INFO:truera.client.truera_workspace:Syncing data collection \"Data Collection v1\" to local.\n",
      "WARNING:truera.client.truera_workspace:Data split \"San Francisco\" exists in local. Skipping.\n",
      "INFO:truera.client.truera_workspace:Syncing data split \"Seattle\" to local.\n",
      "INFO:truera.client.local.local_truera_workspace:Data split \"Seattle\" is added to local data collection \"Data Collection v1\", and set as the data split for the workspace context.\n",
      "WARNING:truera.client.truera_workspace:Model \"model_2\" already exists in local. Skipping.\n",
      "INFO:truera.client.truera_workspace:Syncing segments groups from remote to local.\n",
      "INFO:truera.client.truera_workspace:Download temp_dir: /var/folders/pg/2f8qcnr92cx4rcwpvm_x2ckc0000gn/T/tmpm9hs6zxv\n",
      "INFO:truera.client.truera_workspace:Syncing data collection \"Data Collection v1\" to local.\n",
      "WARNING:truera.client.truera_workspace:Data split \"San Francisco\" exists in local. Skipping.\n",
      "WARNING:truera.client.truera_workspace:Data split \"Austin\" exists in local. Skipping.\n",
      "WARNING:truera.client.truera_workspace:Model \"model_2\" already exists in local. Skipping.\n",
      "INFO:truera.client.truera_workspace:Syncing segments groups from remote to local.\n",
      "INFO:truera.client.remote_truera_workspace:`model_output_context` will be inferred as it was not provided.\n",
      "INFO:truera.client.remote_truera_workspace:Inferred ModelOutputContext: ModelOutputContext(model_name='model_2', score_type='regression', background_split_name='', influence_type='')\n"
     ]
    },
    {
     "name": "stdout",
     "output_type": "stream",
     "text": [
      "Uploading tmpa5bz_byl.parquet (70.7KiB) -- ### -- file upload complete.\n",
      "Put resource done.\n"
     ]
    },
    {
     "name": "stderr",
     "output_type": "stream",
     "text": [
      "INFO:truera.client.remote_truera_workspace:Waiting for data split to materialize...\n",
      "INFO:truera.client.remote_truera_workspace:`model_output_context` will be inferred as it was not provided.\n",
      "INFO:truera.client.remote_truera_workspace:Inferred ModelOutputContext: ModelOutputContext(model_name='model_2', score_type='regression', background_split_name='', influence_type='')\n"
     ]
    },
    {
     "name": "stdout",
     "output_type": "stream",
     "text": [
      "Uploading tmp8j4jn3nm.parquet (44.4KiB) -- ### -- file upload complete.\n",
      "Put resource done.\n"
     ]
    },
    {
     "name": "stderr",
     "output_type": "stream",
     "text": [
      "INFO:truera.client.remote_truera_workspace:Waiting for data split to materialize...\n",
      "INFO:truera.client.remote_truera_workspace:`model_output_context` will be inferred as it was not provided.\n",
      "INFO:truera.client.remote_truera_workspace:Inferred ModelOutputContext: ModelOutputContext(model_name='model_2', score_type='regression', background_split_name='', influence_type='')\n"
     ]
    },
    {
     "name": "stdout",
     "output_type": "stream",
     "text": [
      "Uploading tmpg0opnz_k.parquet (111.2KiB) -- ### -- file upload complete.\n",
      "Put resource done.\n"
     ]
    },
    {
     "name": "stderr",
     "output_type": "stream",
     "text": [
      "INFO:truera.client.remote_truera_workspace:Waiting for data split to materialize...\n"
     ]
    }
   ],
   "source": [
    "# predictions\n",
    "tru.set_project(project_name)\n",
    "tru.set_data_collection(\"Data Collection v1\")\n",
    "tru.set_model(\"model_2\")\n",
    "tru.set_influences_background_data_split(\"San Francisco\")\n",
    "tru.set_data_split(\"San Francisco\")\n",
    "sf_preds = tru.get_ys_pred().reset_index(names=\"id\")\n",
    "tru.set_data_split(\"Seattle\")\n",
    "se_preds = tru.get_ys_pred().reset_index(names=\"id\")\n",
    "tru.set_data_split(\"Austin\")\n",
    "au_preds = tru.get_ys_pred().reset_index(names=\"id\")\n",
    "\n",
    "tru.add_data(\n",
    "    data=sf_preds,\n",
    "    data_split_name=\"San Francisco\",\n",
    "    column_spec=ColumnSpec(\n",
    "        id_col_name=\"id\",\n",
    "        prediction_col_names=\"__truera_prediction__\"\n",
    "    )\n",
    ")\n",
    "\n",
    "tru.add_data(\n",
    "    data=se_preds,\n",
    "    data_split_name=\"Seattle\",\n",
    "    column_spec=ColumnSpec(\n",
    "        id_col_name=\"id\",\n",
    "        prediction_col_names=\"__truera_prediction__\"\n",
    "    )\n",
    ")\n",
    "\n",
    "tru.add_data(\n",
    "    data=au_preds,\n",
    "    data_split_name=\"Austin\",\n",
    "    column_spec=ColumnSpec(\n",
    "        id_col_name=\"id\",\n",
    "        prediction_col_names=\"__truera_prediction__\"\n",
    "    )\n",
    ")"
   ]
  },
  {
   "cell_type": "code",
   "execution_count": 14,
   "metadata": {
    "execution": {
     "iopub.execute_input": "2023-07-28T16:55:41.780030Z",
     "iopub.status.busy": "2023-07-28T16:55:41.779616Z",
     "iopub.status.idle": "2023-07-28T16:56:10.461859Z",
     "shell.execute_reply": "2023-07-28T16:56:10.460097Z",
     "shell.execute_reply.started": "2023-07-28T16:55:41.780000Z"
    }
   },
   "outputs": [
    {
     "name": "stderr",
     "output_type": "stream",
     "text": [
      "INFO:truera.client.truera_workspace:Download temp_dir: /var/folders/pg/2f8qcnr92cx4rcwpvm_x2ckc0000gn/T/tmpm9hs6zxv\n",
      "INFO:truera.client.truera_workspace:Syncing data collection \"Data Collection v1\" to local.\n",
      "WARNING:truera.client.truera_workspace:Data split \"San Francisco\" exists in local. Skipping.\n",
      "WARNING:truera.client.truera_workspace:Data split \"Seattle\" exists in local. Skipping.\n",
      "WARNING:truera.client.truera_workspace:Data split \"Austin\" exists in local. Skipping.\n",
      "WARNING:truera.client.truera_workspace:Model \"model_2\" already exists in local. Skipping.\n",
      "INFO:truera.client.truera_workspace:Syncing segments groups from remote to local.\n",
      "INFO:truera.client.truera_workspace:Download temp_dir: /var/folders/pg/2f8qcnr92cx4rcwpvm_x2ckc0000gn/T/tmpm9hs6zxv\n",
      "INFO:truera.client.truera_workspace:Syncing data collection \"Data Collection v1\" to local.\n",
      "WARNING:truera.client.truera_workspace:Data split \"San Francisco\" exists in local. Skipping.\n",
      "WARNING:truera.client.truera_workspace:Data split \"Austin\" exists in local. Skipping.\n",
      "WARNING:truera.client.truera_workspace:Model \"model_2\" already exists in local. Skipping.\n",
      "INFO:truera.client.truera_workspace:Syncing segments groups from remote to local.\n",
      "INFO:truera.client.truera_workspace:Download temp_dir: /var/folders/pg/2f8qcnr92cx4rcwpvm_x2ckc0000gn/T/tmpm9hs6zxv\n",
      "INFO:truera.client.truera_workspace:Syncing data collection \"Data Collection v1\" to local.\n",
      "WARNING:truera.client.truera_workspace:Data split \"San Francisco\" exists in local. Skipping.\n",
      "WARNING:truera.client.truera_workspace:Data split \"Austin\" exists in local. Skipping.\n",
      "WARNING:truera.client.truera_workspace:Model \"model_2\" already exists in local. Skipping.\n",
      "INFO:truera.client.truera_workspace:Syncing segments groups from remote to local.\n"
     ]
    },
    {
     "name": "stdout",
     "output_type": "stream",
     "text": [
      "Uploading tmpx0ndlc8o.parquet (37.8KiB) -- ### -- file upload complete.\n",
      "Put resource done.\n"
     ]
    },
    {
     "name": "stderr",
     "output_type": "stream",
     "text": [
      "INFO:truera.client.remote_truera_workspace:Waiting for data split to materialize...\n"
     ]
    },
    {
     "name": "stdout",
     "output_type": "stream",
     "text": [
      "Uploading tmp0ckf5685.parquet (37.5KiB) -- ### -- file upload complete.\n",
      "Put resource done.\n"
     ]
    },
    {
     "name": "stderr",
     "output_type": "stream",
     "text": [
      "INFO:truera.client.remote_truera_workspace:Waiting for data split to materialize...\n"
     ]
    },
    {
     "name": "stdout",
     "output_type": "stream",
     "text": [
      "Uploading tmpepn2s0m2.parquet (37.8KiB) -- ### -- file upload complete.\n",
      "Put resource done.\n"
     ]
    },
    {
     "name": "stderr",
     "output_type": "stream",
     "text": [
      "INFO:truera.client.remote_truera_workspace:Waiting for data split to materialize...\n"
     ]
    }
   ],
   "source": [
    "# set model and background split\n",
    "tru.set_model(\"model_2\")\n",
    "tru.set_influences_background_data_split(\"San Francisco\")\n",
    "\n",
    "# influence type\n",
    "tru.set_influence_type(\"shap\")\n",
    "\n",
    "# reduce settings for speed\n",
    "tru.set_num_internal_qii_samples(100)\n",
    "tru.set_num_default_influences(100)\n",
    "\n",
    "se_explainer = tru.get_explainer(\"Seattle\")\n",
    "se_infs = se_explainer.get_feature_influences().reset_index(names=\"id\")\n",
    "\n",
    "sf_explainer = tru.get_explainer(\"San Francisco\")\n",
    "sf_infs = sf_explainer.get_feature_influences().reset_index(names=\"id\")\n",
    "\n",
    "au_explainer = tru.get_explainer(\"Austin\")\n",
    "au_infs = sf_explainer.get_feature_influences().reset_index(names=\"id\")\n",
    "\n",
    "model_output_context = ModelOutputContext(model_name=\"model_2\", score_type=\"regression\", background_split_name=\"San Francisco\", influence_type=\"kernel-shap\")\n",
    "\n",
    "tru.add_data(\n",
    "    data=sf_infs,\n",
    "    data_split_name=\"San Francisco\",\n",
    "    column_spec=ColumnSpec(\n",
    "        id_col_name=\"id\",\n",
    "        feature_influence_col_names=list(sf_infs.columns.drop(\"id\"))\n",
    "    ),\n",
    "    model_output_context=model_output_context\n",
    ")\n",
    "\n",
    "tru.add_data(\n",
    "    data=se_infs,\n",
    "    data_split_name=\"Seattle\",\n",
    "    column_spec=ColumnSpec(\n",
    "        id_col_name=\"id\",\n",
    "        feature_influence_col_names=list(se_infs.columns.drop(\"id\"))\n",
    "    ),\n",
    "    model_output_context=model_output_context\n",
    ")\n",
    "\n",
    "tru.add_data(\n",
    "    data=au_infs,\n",
    "    data_split_name=\"Austin\",\n",
    "    column_spec=ColumnSpec(\n",
    "        id_col_name=\"id\",\n",
    "        feature_influence_col_names=list(se_infs.columns.drop(\"id\"))\n",
    "    ),\n",
    "    model_output_context=model_output_context\n",
    ")"
   ]
  },
  {
   "cell_type": "code",
   "execution_count": 15,
   "metadata": {
    "execution": {
     "iopub.execute_input": "2023-07-28T16:56:10.464056Z",
     "iopub.status.busy": "2023-07-28T16:56:10.463226Z",
     "iopub.status.idle": "2023-07-28T16:57:50.461531Z",
     "shell.execute_reply": "2023-07-28T16:57:50.460441Z",
     "shell.execute_reply.started": "2023-07-28T16:56:10.464025Z"
    }
   },
   "outputs": [
    {
     "name": "stderr",
     "output_type": "stream",
     "text": [
      "INFO:truera.client.truera_workspace:Download temp_dir: /var/folders/pg/2f8qcnr92cx4rcwpvm_x2ckc0000gn/T/tmpm9hs6zxv\n",
      "INFO:truera.client.truera_workspace:Syncing data collection \"Data Collection v1\" to local.\n",
      "WARNING:truera.client.truera_workspace:Data split \"San Francisco\" exists in local. Skipping.\n",
      "WARNING:truera.client.truera_workspace:Model \"model_2\" already exists in local. Skipping.\n",
      "INFO:truera.client.truera_workspace:Syncing segments groups from remote to local.\n",
      "WARNING:truera.client.local.intelligence.local_explainer:Failed to use TreeSHAP for this model. Defaulting to KernelSHAP...\n",
      "WARNING:truera.client.local.intelligence.local_explainer:TreeSHAP cannot handle error influence computations for regression models!\n"
     ]
    },
    {
     "data": {
      "application/vnd.jupyter.widget-view+json": {
       "model_id": "f3af118b07ac45939a1698f741ec0143",
       "version_major": 2,
       "version_minor": 0
      },
      "text/plain": [
       "|          | 0.000% [00:00<?]"
      ]
     },
     "metadata": {},
     "output_type": "display_data"
    },
    {
     "name": "stderr",
     "output_type": "stream",
     "text": [
      "INFO:truera.client.truera_workspace:Download temp_dir: /var/folders/pg/2f8qcnr92cx4rcwpvm_x2ckc0000gn/T/tmpm9hs6zxv\n",
      "INFO:truera.client.truera_workspace:Syncing data collection \"Data Collection v1\" to local.\n",
      "WARNING:truera.client.truera_workspace:Data split \"San Francisco\" exists in local. Skipping.\n",
      "WARNING:truera.client.truera_workspace:Data split \"Seattle\" exists in local. Skipping.\n",
      "WARNING:truera.client.truera_workspace:Model \"model_2\" already exists in local. Skipping.\n",
      "INFO:truera.client.truera_workspace:Syncing segments groups from remote to local.\n",
      "WARNING:truera.client.local.intelligence.local_explainer:Failed to use TreeSHAP for this model. Defaulting to KernelSHAP...\n",
      "WARNING:truera.client.local.intelligence.local_explainer:TreeSHAP cannot handle error influence computations for regression models!\n"
     ]
    },
    {
     "data": {
      "application/vnd.jupyter.widget-view+json": {
       "model_id": "eef149a0a2cd4fc989604173884e139e",
       "version_major": 2,
       "version_minor": 0
      },
      "text/plain": [
       "|          | 0.000% [00:00<?]"
      ]
     },
     "metadata": {},
     "output_type": "display_data"
    },
    {
     "name": "stderr",
     "output_type": "stream",
     "text": [
      "INFO:truera.client.truera_workspace:Download temp_dir: /var/folders/pg/2f8qcnr92cx4rcwpvm_x2ckc0000gn/T/tmpm9hs6zxv\n",
      "INFO:truera.client.truera_workspace:Syncing data collection \"Data Collection v1\" to local.\n",
      "WARNING:truera.client.truera_workspace:Data split \"San Francisco\" exists in local. Skipping.\n",
      "WARNING:truera.client.truera_workspace:Data split \"Austin\" exists in local. Skipping.\n",
      "WARNING:truera.client.truera_workspace:Model \"model_2\" already exists in local. Skipping.\n",
      "INFO:truera.client.truera_workspace:Syncing segments groups from remote to local.\n",
      "WARNING:truera.client.local.intelligence.local_explainer:Failed to use TreeSHAP for this model. Defaulting to KernelSHAP...\n",
      "WARNING:truera.client.local.intelligence.local_explainer:TreeSHAP cannot handle error influence computations for regression models!\n"
     ]
    },
    {
     "data": {
      "application/vnd.jupyter.widget-view+json": {
       "model_id": "b629e17aebf1447aac4164f3d3ffd6c6",
       "version_major": 2,
       "version_minor": 0
      },
      "text/plain": [
       "|          | 0.000% [00:00<?]"
      ]
     },
     "metadata": {},
     "output_type": "display_data"
    },
    {
     "name": "stdout",
     "output_type": "stream",
     "text": [
      "Uploading tmpf4cx6v7n.parquet (33.8KiB) -- ### -- file upload complete.\n",
      "Put resource done.\n"
     ]
    },
    {
     "name": "stderr",
     "output_type": "stream",
     "text": [
      "INFO:truera.client.remote_truera_workspace:Waiting for data split to materialize...\n"
     ]
    },
    {
     "name": "stdout",
     "output_type": "stream",
     "text": [
      "Uploading tmpdk6w3w0y.parquet (33.7KiB) -- ### -- file upload complete.\n",
      "Put resource done.\n"
     ]
    },
    {
     "name": "stderr",
     "output_type": "stream",
     "text": [
      "INFO:truera.client.remote_truera_workspace:Waiting for data split to materialize...\n"
     ]
    },
    {
     "name": "stdout",
     "output_type": "stream",
     "text": [
      "Uploading tmpq949hr81.parquet (33.7KiB) -- ### -- file upload complete.\n",
      "Put resource done.\n"
     ]
    },
    {
     "name": "stderr",
     "output_type": "stream",
     "text": [
      "INFO:truera.client.remote_truera_workspace:Waiting for data split to materialize...\n"
     ]
    }
   ],
   "source": [
    "# error influences\n",
    "model_output_context = ModelOutputContext(model_name=\"model_2\", score_type=\"mean_absolute_error_for_regression\", background_split_name=\"San Francisco\", influence_type=\"kernel-shap\")\n",
    "\n",
    "tru.set_data_split(\"San Francisco\")\n",
    "sf_error_infs = tru.get_feature_influences(score_type=\"mean_absolute_error_for_regression\").reset_index(names=\"id\")\n",
    "\n",
    "tru.set_data_split(\"Seattle\")\n",
    "se_error_infs = tru.get_feature_influences(score_type=\"mean_absolute_error_for_regression\").reset_index(names=\"id\")\n",
    "\n",
    "tru.set_data_split(\"Austin\")\n",
    "au_error_infs = tru.get_feature_influences(score_type=\"mean_absolute_error_for_regression\").reset_index(names=\"id\")\n",
    "\n",
    "tru.add_data(\n",
    "    data=sf_error_infs,\n",
    "    data_split_name=\"San Francisco\",\n",
    "    column_spec=ColumnSpec(\n",
    "        id_col_name=\"id\",\n",
    "        feature_influence_col_names=list(sf_error_infs.columns.drop(\"id\"))\n",
    "    ),\n",
    "    model_output_context=model_output_context\n",
    ")\n",
    "\n",
    "tru.add_data(\n",
    "    data=se_error_infs,\n",
    "    data_split_name=\"Seattle\",\n",
    "    column_spec=ColumnSpec(\n",
    "        id_col_name=\"id\",\n",
    "        feature_influence_col_names=list(se_error_infs.columns.drop(\"id\"))\n",
    "    ),\n",
    "    model_output_context=model_output_context\n",
    ")\n",
    "\n",
    "tru.add_data(\n",
    "    data=au_error_infs,\n",
    "    data_split_name=\"Austin\",\n",
    "    column_spec=ColumnSpec(\n",
    "        id_col_name=\"id\",\n",
    "        feature_influence_col_names=list(se_error_infs.columns.drop(\"id\"))\n",
    "    ),\n",
    "    model_output_context=model_output_context\n",
    ")"
   ]
  },
  {
   "cell_type": "code",
   "execution_count": 16,
   "metadata": {
    "execution": {
     "iopub.execute_input": "2023-07-28T16:57:50.464213Z",
     "iopub.status.busy": "2023-07-28T16:57:50.463767Z",
     "iopub.status.idle": "2023-07-28T16:57:55.537000Z",
     "shell.execute_reply": "2023-07-28T16:57:55.536038Z",
     "shell.execute_reply.started": "2023-07-28T16:57:50.464183Z"
    },
    "id": "_ZKjCFPbixce",
    "outputId": "3e2d3c33-f442-4b0e-e83b-703a25c43fab"
   },
   "outputs": [
    {
     "name": "stderr",
     "output_type": "stream",
     "text": [
      "INFO:truera.client.truera_workspace:Model execution environment set to 'remote'\n"
     ]
    },
    {
     "data": {
      "text/html": [
       "\n",
       "        <html>\n",
       "        <head>\n",
       "        <style>\n",
       "        table, th, td {\n",
       "            border-radius: 5px;\n",
       "        }\n",
       "        .header {\n",
       "            font-weight: bold;\n",
       "            font-size: 14px;\n",
       "        }\n",
       "        caption {\n",
       "            font-weight: bolder;\n",
       "            font-size: 16px;\n",
       "            background-color: powderblue;\n",
       "            color: black;\n",
       "            border-radius: 5px;\n",
       "        }\n",
       "        \n",
       "            .PASSED {\n",
       "                color: black;\n",
       "                background-color: palegreen;\n",
       "            }\n",
       "            .WARNING {\n",
       "                color: black;\n",
       "                background-color: yellow;\n",
       "            }\n",
       "            .FAILED {\n",
       "                color: black;\n",
       "                background-color: pink;\n",
       "            }\n",
       "            \n",
       "        </style>\n",
       "        </head>\n",
       "        <body>\n",
       "        <table>\n",
       "            <caption>Stability Tests Results for Model \"model_2\"</caption>\n",
       "            <tr class=\"header\"><td></td><td>Name</td><td>Comparison Split</td><td>Base Split</td><td>Segment</td><td>Metric</td><td>Score</td><td>Navigate</td></tr>\n",
       "            <tr><td >❌</td><td >Stability Test - Seattle</td><td >Seattle</td><td >San Francisco</td><td >ALL POINTS</td><td >DIFFERENCE_OF_MEAN</td><td class=\"FAILED\">-0.9796</td><td ><a href=\"http://localhost:8000/home/p/Starter Example Companion - Drift/m/model_2/t/stability?baseSplitName=San Francisco&compareSplitName=Seattle&splitId=bbf9fd96-2da9-4b70-b244-60d997933ea1&modelIds=6c6850ea-7d60-45c2-8a93-3b511cc46d70&\" target=\"_blank\">Explore in UI</a></td></tr><tr><td >✅</td><td >Stability Test - Austin</td><td >Austin</td><td >San Francisco</td><td >ALL POINTS</td><td >DIFFERENCE_OF_MEAN</td><td class=\"PASSED\">57.3777</td><td ><a href=\"http://localhost:8000/home/p/Starter Example Companion - Drift/m/model_2/t/stability?baseSplitName=San Francisco&compareSplitName=Austin&splitId=33c168b1-19e6-4198-919a-08ab0b336c9f&modelIds=6c6850ea-7d60-45c2-8a93-3b511cc46d70&\" target=\"_blank\">Explore in UI</a></td></tr>\n",
       "        </table>\n",
       "        </body>\n",
       "        </html>\n",
       "        "
      ],
      "text/plain": [
       "<truera.client.intelligence.model_tests.ModelTestResults at 0x7fbd92482da0>"
      ]
     },
     "execution_count": 16,
     "metadata": {},
     "output_type": "execute_result"
    }
   ],
   "source": [
    "# check drift results\n",
    "tru.set_environment(\"remote\")\n",
    "tru.set_model(\"model_2\")\n",
    "tru.tester.get_model_test_results(test_types=[\"stability\"])"
   ]
  },
  {
   "attachments": {},
   "cell_type": "markdown",
   "metadata": {
    "id": "GJnsZ6dNixce"
   },
   "source": [
    "The model now passes in Austin and is ready for production, while it still fails in Seattle. Let's continue to iterate on Seattle.\n",
    "\n",
    "Since the model errors with scores that are too high, we should look for the largest positive contributors to score drift."
   ]
  },
  {
   "cell_type": "code",
   "execution_count": 17,
   "metadata": {
    "execution": {
     "iopub.execute_input": "2023-07-28T16:57:55.539216Z",
     "iopub.status.busy": "2023-07-28T16:57:55.538742Z",
     "iopub.status.idle": "2023-07-28T16:57:58.311912Z",
     "shell.execute_reply": "2023-07-28T16:57:58.310581Z",
     "shell.execute_reply.started": "2023-07-28T16:57:55.539187Z"
    },
    "id": "MR6sFFj4ixce",
    "outputId": "6fe4dbe8-e603-4a64-e5d0-16589b45a8b6"
   },
   "outputs": [
    {
     "ename": "ValueError",
     "evalue": "Unexpected error: Code: [StatusCode.FAILED_PRECONDITION][Query returned more results than expected. Expected: 1000. This might be caused by duplicate/multiple ingestion. Please check the data you have ingested.]. If the issue persists contact TruEra for help.",
     "output_type": "error",
     "traceback": [
      "\u001b[0;31m---------------------------------------------------------------------------\u001b[0m",
      "\u001b[0;31mValueError\u001b[0m                                Traceback (most recent call last)",
      "Cell \u001b[0;32mIn[17], line 2\u001b[0m\n\u001b[1;32m      1\u001b[0m explainer \u001b[38;5;241m=\u001b[39m tru\u001b[38;5;241m.\u001b[39mget_explainer(\u001b[38;5;124m\"\u001b[39m\u001b[38;5;124mSan Francisco\u001b[39m\u001b[38;5;124m\"\u001b[39m, comparison_data_splits\u001b[38;5;241m=\u001b[39m[\u001b[38;5;124m\"\u001b[39m\u001b[38;5;124mSeattle\u001b[39m\u001b[38;5;124m\"\u001b[39m])\n\u001b[0;32m----> 2\u001b[0m \u001b[43mexplainer\u001b[49m\u001b[38;5;241;43m.\u001b[39;49m\u001b[43mcompute_feature_contributors_to_instability\u001b[49m\u001b[43m(\u001b[49m\u001b[43muse_difference_of_means\u001b[49m\u001b[38;5;241;43m=\u001b[39;49m\u001b[38;5;28;43;01mTrue\u001b[39;49;00m\u001b[43m)\u001b[49m\u001b[38;5;241m.\u001b[39mT\n",
      "File \u001b[0;32m~/opt/anaconda3/envs/demo3/lib/python3.10/site-packages/truera/client/intelligence/remote_explainer.py:43\u001b[0m, in \u001b[0;36mcatch_model_runner_errors.<locals>.wrapper\u001b[0;34m(*args, **kwargs)\u001b[0m\n\u001b[1;32m     41\u001b[0m explainer \u001b[38;5;241m=\u001b[39m args[\u001b[38;5;241m0\u001b[39m]\n\u001b[1;32m     42\u001b[0m \u001b[38;5;28;01mtry\u001b[39;00m:\n\u001b[0;32m---> 43\u001b[0m     \u001b[38;5;28;01mreturn\u001b[39;00m \u001b[43mfunc\u001b[49m\u001b[43m(\u001b[49m\u001b[38;5;241;43m*\u001b[39;49m\u001b[43margs\u001b[49m\u001b[43m,\u001b[49m\u001b[43m \u001b[49m\u001b[38;5;241;43m*\u001b[39;49m\u001b[38;5;241;43m*\u001b[39;49m\u001b[43mkwargs\u001b[49m\u001b[43m)\u001b[49m\n\u001b[1;32m     44\u001b[0m \u001b[38;5;28;01mexcept\u001b[39;00m ModelRunnerError \u001b[38;5;28;01mas\u001b[39;00m e:\n\u001b[1;32m     45\u001b[0m     project_name \u001b[38;5;241m=\u001b[39m explainer\u001b[38;5;241m.\u001b[39m_project_name\n",
      "File \u001b[0;32m~/opt/anaconda3/envs/demo3/lib/python3.10/site-packages/truera/client/intelligence/remote_explainer.py:628\u001b[0m, in \u001b[0;36mRemoteExplainer.compute_feature_contributors_to_instability\u001b[0;34m(self, score_type, use_difference_of_means, wait)\u001b[0m\n\u001b[1;32m    626\u001b[0m dfs_to_concat \u001b[38;5;241m=\u001b[39m []\n\u001b[1;32m    627\u001b[0m \u001b[38;5;28;01mfor\u001b[39;00m split_metadata \u001b[38;5;129;01min\u001b[39;00m \u001b[38;5;28mself\u001b[39m\u001b[38;5;241m.\u001b[39m_comparison_data_splits:\n\u001b[0;32m--> 628\u001b[0m     df \u001b[38;5;241m=\u001b[39m \u001b[38;5;28;43mself\u001b[39;49m\u001b[38;5;241;43m.\u001b[39;49m\u001b[43m_workspace\u001b[49m\u001b[38;5;241;43m.\u001b[39;49m\u001b[43maiq_client\u001b[49m\u001b[38;5;241;43m.\u001b[39;49m\u001b[43mcompute_feature_contributors_to_instability\u001b[49m\u001b[43m(\u001b[49m\n\u001b[1;32m    629\u001b[0m \u001b[43m        \u001b[49m\u001b[38;5;28;43mself\u001b[39;49m\u001b[38;5;241;43m.\u001b[39;49m\u001b[43m_project_id\u001b[49m\u001b[43m,\u001b[49m\n\u001b[1;32m    630\u001b[0m \u001b[43m        \u001b[49m\u001b[38;5;28;43mself\u001b[39;49m\u001b[38;5;241;43m.\u001b[39;49m\u001b[43m_model_id\u001b[49m\u001b[43m,\u001b[49m\n\u001b[1;32m    631\u001b[0m \u001b[43m        \u001b[49m\u001b[43mbase_split_id\u001b[49m\u001b[43m,\u001b[49m\n\u001b[1;32m    632\u001b[0m \u001b[43m        \u001b[49m\u001b[43msplit_metadata\u001b[49m\u001b[38;5;241;43m.\u001b[39;49m\u001b[43msplit_id\u001b[49m\u001b[43m,\u001b[49m\n\u001b[1;32m    633\u001b[0m \u001b[43m        \u001b[49m\u001b[43mscore_type\u001b[49m\u001b[38;5;241;43m=\u001b[39;49m\u001b[43mscore_type\u001b[49m\u001b[43m,\u001b[49m\n\u001b[1;32m    634\u001b[0m \u001b[43m        \u001b[49m\u001b[43muse_difference_of_means\u001b[49m\u001b[38;5;241;43m=\u001b[39;49m\u001b[43muse_difference_of_means\u001b[49m\u001b[43m,\u001b[49m\n\u001b[1;32m    635\u001b[0m \u001b[43m        \u001b[49m\u001b[43msegment\u001b[49m\u001b[38;5;241;43m=\u001b[39;49m\u001b[38;5;28;43mself\u001b[39;49m\u001b[38;5;241;43m.\u001b[39;49m\u001b[43m_segment\u001b[49m\u001b[43m,\u001b[49m\n\u001b[1;32m    636\u001b[0m \u001b[43m        \u001b[49m\u001b[43mwait\u001b[49m\u001b[38;5;241;43m=\u001b[39;49m\u001b[43mwait\u001b[49m\n\u001b[1;32m    637\u001b[0m \u001b[43m    \u001b[49m\u001b[43m)\u001b[49m\u001b[38;5;241m.\u001b[39mresponse\n\u001b[1;32m    638\u001b[0m     df\u001b[38;5;241m.\u001b[39mset_index(pd\u001b[38;5;241m.\u001b[39mIndex([split_metadata\u001b[38;5;241m.\u001b[39msplit_name]), inplace\u001b[38;5;241m=\u001b[39m\u001b[38;5;28;01mTrue\u001b[39;00m)\n\u001b[1;32m    639\u001b[0m     dfs_to_concat\u001b[38;5;241m.\u001b[39mappend(df)\n",
      "File \u001b[0;32m~/opt/anaconda3/envs/demo3/lib/python3.10/site-packages/truera/client/services/aiq_client.py:1134\u001b[0m, in \u001b[0;36mAiqClient.compute_feature_contributors_to_instability\u001b[0;34m(self, project_id, model_id, base_data_split_id, compare_data_split_id, score_type, use_difference_of_means, segment, wait)\u001b[0m\n\u001b[1;32m   1123\u001b[0m \u001b[38;5;28;01mdef\u001b[39;00m \u001b[38;5;21mcompute_feature_contributors_to_instability\u001b[39m(\n\u001b[1;32m   1124\u001b[0m     \u001b[38;5;28mself\u001b[39m,\n\u001b[1;32m   1125\u001b[0m     project_id: \u001b[38;5;28mstr\u001b[39m,\n\u001b[0;32m   (...)\u001b[0m\n\u001b[1;32m   1132\u001b[0m     wait: \u001b[38;5;28mbool\u001b[39m \u001b[38;5;241m=\u001b[39m \u001b[38;5;28;01mTrue\u001b[39;00m\n\u001b[1;32m   1133\u001b[0m ) \u001b[38;5;241m-\u001b[39m\u001b[38;5;241m>\u001b[39m AiqClientResponse[\u001b[38;5;28mfloat\u001b[39m]:\n\u001b[0;32m-> 1134\u001b[0m     response \u001b[38;5;241m=\u001b[39m \u001b[38;5;28;43mself\u001b[39;49m\u001b[38;5;241;43m.\u001b[39;49m\u001b[43m_compute_compare_model_output\u001b[49m\u001b[43m(\u001b[49m\n\u001b[1;32m   1135\u001b[0m \u001b[43m        \u001b[49m\u001b[43mproject_id\u001b[49m\u001b[43m,\u001b[49m\n\u001b[1;32m   1136\u001b[0m \u001b[43m        \u001b[49m\u001b[43mmodel_id\u001b[49m\u001b[43m,\u001b[49m\n\u001b[1;32m   1137\u001b[0m \u001b[43m        \u001b[49m\u001b[43mbase_data_split_id\u001b[49m\u001b[43m,\u001b[49m\n\u001b[1;32m   1138\u001b[0m \u001b[43m        \u001b[49m\u001b[43mcompare_data_split_id\u001b[49m\u001b[43m,\u001b[49m\n\u001b[1;32m   1139\u001b[0m \u001b[43m        \u001b[49m\u001b[43mscore_type\u001b[49m\u001b[38;5;241;43m=\u001b[39;49m\u001b[43mscore_type\u001b[49m\u001b[43m,\u001b[49m\n\u001b[1;32m   1140\u001b[0m \u001b[43m        \u001b[49m\u001b[43minclude_breakdown_by_feature\u001b[49m\u001b[38;5;241;43m=\u001b[39;49m\u001b[38;5;28;43;01mTrue\u001b[39;49;00m\u001b[43m,\u001b[49m\n\u001b[1;32m   1141\u001b[0m \u001b[43m        \u001b[49m\u001b[43msegment\u001b[49m\u001b[38;5;241;43m=\u001b[39;49m\u001b[43msegment\u001b[49m\u001b[43m,\u001b[49m\n\u001b[1;32m   1142\u001b[0m \u001b[43m        \u001b[49m\u001b[43mwait\u001b[49m\u001b[38;5;241;43m=\u001b[39;49m\u001b[43mwait\u001b[49m\n\u001b[1;32m   1143\u001b[0m \u001b[43m    \u001b[49m\u001b[43m)\u001b[49m\n\u001b[1;32m   1145\u001b[0m     contributors_map \u001b[38;5;241m=\u001b[39m {\n\u001b[1;32m   1146\u001b[0m         comparison\u001b[38;5;241m.\u001b[39mdistance_type:\n\u001b[1;32m   1147\u001b[0m             pd\u001b[38;5;241m.\u001b[39mSeries(comparison\u001b[38;5;241m.\u001b[39mfeature_breakdown)\u001b[38;5;241m.\u001b[39mto_frame()\u001b[38;5;241m.\u001b[39mT\n\u001b[1;32m   1148\u001b[0m         \u001b[38;5;28;01mfor\u001b[39;00m comparison \u001b[38;5;129;01min\u001b[39;00m response\u001b[38;5;241m.\u001b[39mdistribution_comparisons\n\u001b[1;32m   1149\u001b[0m     }\n\u001b[1;32m   1150\u001b[0m     \u001b[38;5;28;01mreturn\u001b[39;00m AiqClientResponse(\n\u001b[1;32m   1151\u001b[0m         response\u001b[38;5;241m=\u001b[39mcontributors_map[\n\u001b[1;32m   1152\u001b[0m             distance_pb2\u001b[38;5;241m.\u001b[39mDistanceType\u001b[38;5;241m.\u001b[39m\n\u001b[0;32m   (...)\u001b[0m\n\u001b[1;32m   1156\u001b[0m         waiting_on_operation_ids\n\u001b[1;32m   1157\u001b[0m     )\n",
      "File \u001b[0;32m~/opt/anaconda3/envs/demo3/lib/python3.10/site-packages/truera/client/services/aiq_client.py:991\u001b[0m, in \u001b[0;36mAiqClient._compute_compare_model_output\u001b[0;34m(self, project_id, model_id, base_data_split_id, compare_data_split_id, score_type, include_breakdown_by_feature, segment, wait)\u001b[0m\n\u001b[1;32m    989\u001b[0m request\u001b[38;5;241m.\u001b[39moutput_spec2\u001b[38;5;241m.\u001b[39mmodel_input_spec\u001b[38;5;241m.\u001b[39msplit_id \u001b[38;5;241m=\u001b[39m compare_data_split_id\n\u001b[1;32m    990\u001b[0m \u001b[38;5;28;01mif\u001b[39;00m wait:\n\u001b[0;32m--> 991\u001b[0m     \u001b[38;5;28;01mreturn\u001b[39;00m \u001b[38;5;28;43mself\u001b[39;49m\u001b[38;5;241;43m.\u001b[39;49m\u001b[43m_wait_till_complete\u001b[49m\u001b[43m(\u001b[49m\n\u001b[1;32m    992\u001b[0m \u001b[43m        \u001b[49m\u001b[38;5;28;43;01mlambda\u001b[39;49;00m\u001b[43m:\u001b[49m\u001b[43m \u001b[49m\u001b[38;5;28;43mself\u001b[39;49m\u001b[38;5;241;43m.\u001b[39;49m\u001b[43mcommunicator\u001b[49m\u001b[38;5;241;43m.\u001b[39;49m\n\u001b[1;32m    993\u001b[0m \u001b[43m        \u001b[49m\u001b[43mcompute_model_score_instability\u001b[49m\u001b[43m(\u001b[49m\u001b[43mrequest\u001b[49m\u001b[43m)\u001b[49m\u001b[43m,\u001b[49m\u001b[43m \u001b[49m\u001b[43mproject_id\u001b[49m\n\u001b[1;32m    994\u001b[0m \u001b[43m    \u001b[49m\u001b[43m)\u001b[49m\n\u001b[1;32m    995\u001b[0m \u001b[38;5;28;01melse\u001b[39;00m:\n\u001b[1;32m    996\u001b[0m     \u001b[38;5;28;01mreturn\u001b[39;00m \u001b[38;5;28mself\u001b[39m\u001b[38;5;241m.\u001b[39mcommunicator\u001b[38;5;241m.\u001b[39mcompute_model_score_instability(request)\n",
      "File \u001b[0;32m~/opt/anaconda3/envs/demo3/lib/python3.10/site-packages/truera/client/services/pending_operation_client.py:33\u001b[0m, in \u001b[0;36mPendingOperationClient._wait_till_complete\u001b[0;34m(self, request_func, project_id, timeout)\u001b[0m\n\u001b[1;32m     27\u001b[0m \u001b[38;5;28;01mdef\u001b[39;00m \u001b[38;5;21m_wait_till_complete\u001b[39m(\n\u001b[1;32m     28\u001b[0m     \u001b[38;5;28mself\u001b[39m,\n\u001b[1;32m     29\u001b[0m     request_func: Callable,\n\u001b[1;32m     30\u001b[0m     project_id: \u001b[38;5;28mstr\u001b[39m,\n\u001b[1;32m     31\u001b[0m     timeout: Optional[\u001b[38;5;28mfloat\u001b[39m] \u001b[38;5;241m=\u001b[39m \u001b[38;5;28;01mNone\u001b[39;00m\n\u001b[1;32m     32\u001b[0m ):\n\u001b[0;32m---> 33\u001b[0m     \u001b[38;5;28;01mreturn\u001b[39;00m \u001b[38;5;28;43mself\u001b[39;49m\u001b[38;5;241;43m.\u001b[39;49m\u001b[43m_wait_till_complete_generic\u001b[49m\u001b[43m(\u001b[49m\n\u001b[1;32m     34\u001b[0m \u001b[43m        \u001b[49m\u001b[38;5;28;43;01mlambda\u001b[39;49;00m\u001b[43m \u001b[49m\u001b[43mret\u001b[49m\u001b[43m:\u001b[49m\u001b[43m \u001b[49m\u001b[43mret\u001b[49m\u001b[38;5;241;43m.\u001b[39;49m\u001b[43mpending_operations\u001b[49m\u001b[38;5;241;43m.\u001b[39;49m\u001b[43mwaiting_on_operation_ids\u001b[49m\u001b[43m,\u001b[49m\n\u001b[1;32m     35\u001b[0m \u001b[43m        \u001b[49m\u001b[43mrequest_func\u001b[49m\u001b[43m,\u001b[49m\n\u001b[1;32m     36\u001b[0m \u001b[43m        \u001b[49m\u001b[43mproject_id\u001b[49m\u001b[43m,\u001b[49m\n\u001b[1;32m     37\u001b[0m \u001b[43m        \u001b[49m\u001b[43mtimeout\u001b[49m\u001b[38;5;241;43m=\u001b[39;49m\u001b[43mtimeout\u001b[49m\n\u001b[1;32m     38\u001b[0m \u001b[43m    \u001b[49m\u001b[43m)\u001b[49m\n",
      "File \u001b[0;32m~/opt/anaconda3/envs/demo3/lib/python3.10/site-packages/truera/client/services/pending_operation_client.py:82\u001b[0m, in \u001b[0;36mPendingOperationClient._wait_till_complete_generic\u001b[0;34m(self, pending_op_accessor, request_func, project_id, timeout)\u001b[0m\n\u001b[1;32m     80\u001b[0m \u001b[38;5;28;01mwith\u001b[39;00m AbsoluteProgressBars() \u001b[38;5;28;01mas\u001b[39;00m progress_bars:\n\u001b[1;32m     81\u001b[0m     \u001b[38;5;28;01mwhile\u001b[39;00m (timeout \u001b[38;5;129;01mis\u001b[39;00m \u001b[38;5;28;01mNone\u001b[39;00m) \u001b[38;5;129;01mor\u001b[39;00m (time\u001b[38;5;241m.\u001b[39mtime() \u001b[38;5;241m-\u001b[39m time_start \u001b[38;5;241m<\u001b[39m timeout):\n\u001b[0;32m---> 82\u001b[0m         ret \u001b[38;5;241m=\u001b[39m \u001b[43mrequest_func\u001b[49m\u001b[43m(\u001b[49m\u001b[43m)\u001b[49m\n\u001b[1;32m     83\u001b[0m         pending_op_ids \u001b[38;5;241m=\u001b[39m pending_op_accessor(ret)\n\u001b[1;32m     84\u001b[0m         \u001b[38;5;28;01mif\u001b[39;00m \u001b[38;5;28mlen\u001b[39m(pending_op_ids) \u001b[38;5;241m==\u001b[39m \u001b[38;5;241m0\u001b[39m:\n",
      "File \u001b[0;32m~/opt/anaconda3/envs/demo3/lib/python3.10/site-packages/truera/client/services/aiq_client.py:993\u001b[0m, in \u001b[0;36mAiqClient._compute_compare_model_output.<locals>.<lambda>\u001b[0;34m()\u001b[0m\n\u001b[1;32m    989\u001b[0m request\u001b[38;5;241m.\u001b[39moutput_spec2\u001b[38;5;241m.\u001b[39mmodel_input_spec\u001b[38;5;241m.\u001b[39msplit_id \u001b[38;5;241m=\u001b[39m compare_data_split_id\n\u001b[1;32m    990\u001b[0m \u001b[38;5;28;01mif\u001b[39;00m wait:\n\u001b[1;32m    991\u001b[0m     \u001b[38;5;28;01mreturn\u001b[39;00m \u001b[38;5;28mself\u001b[39m\u001b[38;5;241m.\u001b[39m_wait_till_complete(\n\u001b[1;32m    992\u001b[0m         \u001b[38;5;28;01mlambda\u001b[39;00m: \u001b[38;5;28;43mself\u001b[39;49m\u001b[38;5;241;43m.\u001b[39;49m\u001b[43mcommunicator\u001b[49m\u001b[38;5;241;43m.\u001b[39;49m\n\u001b[0;32m--> 993\u001b[0m \u001b[43m        \u001b[49m\u001b[43mcompute_model_score_instability\u001b[49m\u001b[43m(\u001b[49m\u001b[43mrequest\u001b[49m\u001b[43m)\u001b[49m, project_id\n\u001b[1;32m    994\u001b[0m     )\n\u001b[1;32m    995\u001b[0m \u001b[38;5;28;01melse\u001b[39;00m:\n\u001b[1;32m    996\u001b[0m     \u001b[38;5;28;01mreturn\u001b[39;00m \u001b[38;5;28mself\u001b[39m\u001b[38;5;241m.\u001b[39mcommunicator\u001b[38;5;241m.\u001b[39mcompute_model_score_instability(request)\n",
      "File \u001b[0;32m~/opt/anaconda3/envs/demo3/lib/python3.10/site-packages/truera/client/public/communicator/aiq_http_communicator.py:194\u001b[0m, in \u001b[0;36mHttpAiqCommunicator.compute_model_score_instability\u001b[0;34m(self, req)\u001b[0m\n\u001b[1;32m    192\u001b[0m uri \u001b[38;5;241m=\u001b[39m \u001b[38;5;124mf\u001b[39m\u001b[38;5;124m\"\u001b[39m\u001b[38;5;132;01m{\u001b[39;00m\u001b[38;5;28mself\u001b[39m\u001b[38;5;241m.\u001b[39mconnection_string\u001b[38;5;132;01m}\u001b[39;00m\u001b[38;5;124m/\u001b[39m\u001b[38;5;132;01m{\u001b[39;00mreq\u001b[38;5;241m.\u001b[39moutput_spec1\u001b[38;5;241m.\u001b[39mmodel_id\u001b[38;5;241m.\u001b[39mproject_id\u001b[38;5;132;01m}\u001b[39;00m\u001b[38;5;124m/model/\u001b[39m\u001b[38;5;132;01m{\u001b[39;00mreq\u001b[38;5;241m.\u001b[39moutput_spec1\u001b[38;5;241m.\u001b[39mmodel_id\u001b[38;5;241m.\u001b[39mmodel_id\u001b[38;5;132;01m}\u001b[39;00m\u001b[38;5;124m/compare_model_output_distribution\u001b[39m\u001b[38;5;124m\"\u001b[39m\n\u001b[1;32m    193\u001b[0m json_req \u001b[38;5;241m=\u001b[39m \u001b[38;5;28mself\u001b[39m\u001b[38;5;241m.\u001b[39mhttp_communicator\u001b[38;5;241m.\u001b[39m_proto_to_json(req)\n\u001b[0;32m--> 194\u001b[0m json_resp \u001b[38;5;241m=\u001b[39m \u001b[38;5;28;43mself\u001b[39;49m\u001b[38;5;241;43m.\u001b[39;49m\u001b[43mhttp_communicator\u001b[49m\u001b[38;5;241;43m.\u001b[39;49m\u001b[43mpost_request\u001b[49m\u001b[43m(\u001b[49m\u001b[43muri\u001b[49m\u001b[43m,\u001b[49m\u001b[43m \u001b[49m\u001b[43mjson_req\u001b[49m\u001b[43m)\u001b[49m\n\u001b[1;32m    195\u001b[0m \u001b[38;5;28;01mreturn\u001b[39;00m \u001b[38;5;28mself\u001b[39m\u001b[38;5;241m.\u001b[39mhttp_communicator\u001b[38;5;241m.\u001b[39m_json_to_proto(\n\u001b[1;32m    196\u001b[0m     json_resp, is_pb\u001b[38;5;241m.\u001b[39mCompareModelOutputResponse()\n\u001b[1;32m    197\u001b[0m )\n",
      "File \u001b[0;32m~/opt/anaconda3/envs/demo3/lib/python3.10/site-packages/truera/client/public/communicator/http_communicator.py:260\u001b[0m, in \u001b[0;36mHttpCommunicator.post_request\u001b[0;34m(self, uri, json_data_or_generator, stream)\u001b[0m\n\u001b[1;32m    259\u001b[0m \u001b[38;5;28;01mdef\u001b[39;00m \u001b[38;5;21mpost_request\u001b[39m(\u001b[38;5;28mself\u001b[39m, uri, json_data_or_generator, stream\u001b[38;5;241m=\u001b[39m\u001b[38;5;28;01mFalse\u001b[39;00m):\n\u001b[0;32m--> 260\u001b[0m     \u001b[38;5;28;01mreturn\u001b[39;00m \u001b[38;5;28;43mself\u001b[39;49m\u001b[38;5;241;43m.\u001b[39;49m\u001b[43m_execute_request\u001b[49m\u001b[43m(\u001b[49m\n\u001b[1;32m    261\u001b[0m \u001b[43m        \u001b[49m\u001b[43muri\u001b[49m\u001b[38;5;241;43m=\u001b[39;49m\u001b[43muri\u001b[49m\u001b[43m,\u001b[49m\n\u001b[1;32m    262\u001b[0m \u001b[43m        \u001b[49m\u001b[43mparams\u001b[49m\u001b[38;5;241;43m=\u001b[39;49m\u001b[38;5;28;43;01mNone\u001b[39;49;00m\u001b[43m,\u001b[49m\n\u001b[1;32m    263\u001b[0m \u001b[43m        \u001b[49m\u001b[43mdata\u001b[49m\u001b[38;5;241;43m=\u001b[39;49m\u001b[43mjson_data_or_generator\u001b[49m\u001b[43m,\u001b[49m\n\u001b[1;32m    264\u001b[0m \u001b[43m        \u001b[49m\u001b[43mrequest_func\u001b[49m\u001b[38;5;241;43m=\u001b[39;49m\u001b[38;5;28;43mself\u001b[39;49m\u001b[38;5;241;43m.\u001b[39;49m\u001b[43mrequest_client\u001b[49m\u001b[43m(\u001b[49m\u001b[43m)\u001b[49m\u001b[38;5;241;43m.\u001b[39;49m\u001b[43mpost\u001b[49m\u001b[43m,\u001b[49m\n\u001b[1;32m    265\u001b[0m \u001b[43m        \u001b[49m\u001b[43mstream\u001b[49m\u001b[38;5;241;43m=\u001b[39;49m\u001b[43mstream\u001b[49m\n\u001b[1;32m    266\u001b[0m \u001b[43m    \u001b[49m\u001b[43m)\u001b[49m\n",
      "File \u001b[0;32m~/opt/anaconda3/envs/demo3/lib/python3.10/site-packages/truera/client/public/communicator/http_communicator.py:302\u001b[0m, in \u001b[0;36mHttpCommunicator._execute_request\u001b[0;34m(self, uri, params, data, request_func, stream)\u001b[0m\n\u001b[1;32m    299\u001b[0m     \u001b[38;5;28;01mreturn\u001b[39;00m request_func(uri, headers\u001b[38;5;241m=\u001b[39m\u001b[38;5;28mself\u001b[39m\u001b[38;5;241m.\u001b[39mheaders, \u001b[38;5;241m*\u001b[39m\u001b[38;5;241m*\u001b[39mkwargs)\n\u001b[1;32m    301\u001b[0m response \u001b[38;5;241m=\u001b[39m request_func(uri, headers\u001b[38;5;241m=\u001b[39m\u001b[38;5;28mself\u001b[39m\u001b[38;5;241m.\u001b[39mheaders, \u001b[38;5;241m*\u001b[39m\u001b[38;5;241m*\u001b[39mkwargs)\n\u001b[0;32m--> 302\u001b[0m \u001b[38;5;28;43mself\u001b[39;49m\u001b[38;5;241;43m.\u001b[39;49m\u001b[43m_handle_response\u001b[49m\u001b[43m(\u001b[49m\u001b[43mresponse\u001b[49m\u001b[43m)\u001b[49m\n\u001b[1;32m    303\u001b[0m \u001b[38;5;28;01mreturn\u001b[39;00m \u001b[38;5;28mself\u001b[39m\u001b[38;5;241m.\u001b[39mget_data_from_response(response)\n",
      "File \u001b[0;32m~/opt/anaconda3/envs/demo3/lib/python3.10/site-packages/truera/client/public/communicator/http_communicator.py:319\u001b[0m, in \u001b[0;36mHttpCommunicator._handle_response\u001b[0;34m(self, response)\u001b[0m\n\u001b[1;32m    309\u001b[0m     \u001b[38;5;28;01mraise\u001b[39;00m AuthenticationFailedError(\n\u001b[1;32m    310\u001b[0m         \u001b[38;5;124m\"\u001b[39m\u001b[38;5;124m An unexpected redirect was detected, make sure you are using the correct\u001b[39m\u001b[38;5;124m\"\u001b[39m\n\u001b[1;32m    311\u001b[0m         \u001b[38;5;124m\"\u001b[39m\u001b[38;5;124m authentication type (token or key based) and correct authentication details.\u001b[39m\u001b[38;5;124m\"\u001b[39m\n\u001b[1;32m    312\u001b[0m         \u001b[38;5;124m\"\u001b[39m\u001b[38;5;124m Location: \u001b[39m\u001b[38;5;124m\"\u001b[39m \u001b[38;5;241m+\u001b[39m response\u001b[38;5;241m.\u001b[39mheaders\u001b[38;5;241m.\u001b[39mget(\u001b[38;5;124m\"\u001b[39m\u001b[38;5;124mLocation\u001b[39m\u001b[38;5;124m\"\u001b[39m, \u001b[38;5;28;01mNone\u001b[39;00m)\n\u001b[1;32m    313\u001b[0m     )\n\u001b[1;32m    314\u001b[0m \u001b[38;5;28mself\u001b[39m\u001b[38;5;241m.\u001b[39mlogger\u001b[38;5;241m.\u001b[39mdebug(\n\u001b[1;32m    315\u001b[0m     \u001b[38;5;124m\"\u001b[39m\u001b[38;5;124mRequest failed: Code: \u001b[39m\u001b[38;5;132;01m{}\u001b[39;00m\u001b[38;5;124m Headers: \u001b[39m\u001b[38;5;132;01m{}\u001b[39;00m\u001b[38;5;124m\"\u001b[39m\u001b[38;5;241m.\u001b[39mformat(\n\u001b[1;32m    316\u001b[0m         response\u001b[38;5;241m.\u001b[39mstatus_code, json\u001b[38;5;241m.\u001b[39mdumps(\u001b[38;5;28mdict\u001b[39m(response\u001b[38;5;241m.\u001b[39mheaders))\n\u001b[1;32m    317\u001b[0m     )\n\u001b[1;32m    318\u001b[0m )\n\u001b[0;32m--> 319\u001b[0m \u001b[38;5;28;43mself\u001b[39;49m\u001b[38;5;241;43m.\u001b[39;49m\u001b[43m_parse_grpc_error_from_response\u001b[49m\u001b[43m(\u001b[49m\u001b[43mresponse\u001b[49m\u001b[43m)\u001b[49m\n\u001b[1;32m    321\u001b[0m \u001b[38;5;66;03m# we could not find error classification from either grpc-status or http-status\u001b[39;00m\n\u001b[1;32m    322\u001b[0m \u001b[38;5;28;01mraise\u001b[39;00m \u001b[38;5;167;01mConnectionError\u001b[39;00m(\n\u001b[1;32m    323\u001b[0m     \u001b[38;5;124m\"\u001b[39m\u001b[38;5;124mFailed to connect to the server. Response code: \u001b[39m\u001b[38;5;124m\"\u001b[39m \u001b[38;5;241m+\u001b[39m\n\u001b[1;32m    324\u001b[0m     \u001b[38;5;28mstr\u001b[39m(response\u001b[38;5;241m.\u001b[39mstatus_code) \u001b[38;5;241m+\u001b[39m \u001b[38;5;124m\"\u001b[39m\u001b[38;5;124m Response header: \u001b[39m\u001b[38;5;124m\"\u001b[39m \u001b[38;5;241m+\u001b[39m\n\u001b[1;32m    325\u001b[0m     json\u001b[38;5;241m.\u001b[39mdumps(\u001b[38;5;28mdict\u001b[39m(response\u001b[38;5;241m.\u001b[39mheaders))\n\u001b[1;32m    326\u001b[0m )\n",
      "File \u001b[0;32m~/opt/anaconda3/envs/demo3/lib/python3.10/site-packages/truera/client/public/communicator/http_communicator.py:369\u001b[0m, in \u001b[0;36mHttpCommunicator._parse_grpc_error_from_response\u001b[0;34m(self, response)\u001b[0m\n\u001b[1;32m    364\u001b[0m     grpc_status \u001b[38;5;241m=\u001b[39m _default_http_code_to_grpc_status_map\u001b[38;5;241m.\u001b[39mget(\n\u001b[1;32m    365\u001b[0m         response\u001b[38;5;241m.\u001b[39mstatus_code, grpc\u001b[38;5;241m.\u001b[39mStatusCode\u001b[38;5;241m.\u001b[39mUNKNOWN\n\u001b[1;32m    366\u001b[0m     )\n\u001b[1;32m    368\u001b[0m \u001b[38;5;28;01mif\u001b[39;00m grpc_status \u001b[38;5;241m!=\u001b[39m grpc\u001b[38;5;241m.\u001b[39mStatusCode\u001b[38;5;241m.\u001b[39mUNKNOWN:\n\u001b[0;32m--> 369\u001b[0m     \u001b[38;5;28;01mraise\u001b[39;00m \u001b[43m_get_error_from_grpc_status\u001b[49m\u001b[43m(\u001b[49m\n\u001b[1;32m    370\u001b[0m \u001b[43m        \u001b[49m\u001b[43mgrpc_status\u001b[49m\u001b[43m,\u001b[49m\n\u001b[1;32m    371\u001b[0m \u001b[43m        \u001b[49m\u001b[43merror_message\u001b[49m\u001b[43m,\u001b[49m\n\u001b[1;32m    372\u001b[0m \u001b[43m        \u001b[49m\u001b[43merror_details\u001b[49m\u001b[38;5;241;43m=\u001b[39;49m\u001b[43merror_details\u001b[49m\u001b[43m,\u001b[49m\n\u001b[1;32m    373\u001b[0m \u001b[43m        \u001b[49m\u001b[43mauth_details\u001b[49m\u001b[38;5;241;43m=\u001b[39;49m\u001b[38;5;28;43mself\u001b[39;49m\u001b[38;5;241;43m.\u001b[39;49m\u001b[43mauth_details\u001b[49m\u001b[43m,\u001b[49m\n\u001b[1;32m    374\u001b[0m \u001b[43m        \u001b[49m\u001b[43mconnection_string\u001b[49m\u001b[38;5;241;43m=\u001b[39;49m\u001b[38;5;28;43mself\u001b[39;49m\u001b[38;5;241;43m.\u001b[39;49m\u001b[43mconnection_string\u001b[49m\n\u001b[1;32m    375\u001b[0m \u001b[43m    \u001b[49m\u001b[43m)\u001b[49m\n",
      "File \u001b[0;32m~/opt/anaconda3/envs/demo3/lib/python3.10/site-packages/truera/client/public/communicator/http_communicator.py:146\u001b[0m, in \u001b[0;36m_get_error_from_grpc_status\u001b[0;34m(status_code, message, error_details, auth_details, connection_string)\u001b[0m\n\u001b[1;32m    144\u001b[0m     \u001b[38;5;28;01mreturn\u001b[39;00m NotFoundError(message)\n\u001b[1;32m    145\u001b[0m \u001b[38;5;28;01mif\u001b[39;00m status_code \u001b[38;5;241m==\u001b[39m grpc\u001b[38;5;241m.\u001b[39mStatusCode\u001b[38;5;241m.\u001b[39mFAILED_PRECONDITION:\n\u001b[0;32m--> 146\u001b[0m     \u001b[38;5;28;01mraise\u001b[39;00m \u001b[38;5;167;01mValueError\u001b[39;00m(message)\n\u001b[1;32m    147\u001b[0m \u001b[38;5;28;01mif\u001b[39;00m status_code \u001b[38;5;241m==\u001b[39m grpc\u001b[38;5;241m.\u001b[39mStatusCode\u001b[38;5;241m.\u001b[39mUNIMPLEMENTED:\n\u001b[1;32m    148\u001b[0m     \u001b[38;5;28;01mraise\u001b[39;00m NotSupportedError(\n\u001b[1;32m    149\u001b[0m         \u001b[38;5;124mf\u001b[39m\u001b[38;5;124m\"\u001b[39m\u001b[38;5;124mUNIMPLEMENTED error[\u001b[39m\u001b[38;5;132;01m{\u001b[39;00mmessage\u001b[38;5;132;01m}\u001b[39;00m\u001b[38;5;124m]. Check connection string / function are in a correct and supported configuration. If the issue persists contact TruEra for help.\u001b[39m\u001b[38;5;124m\"\u001b[39m\n\u001b[1;32m    150\u001b[0m     )\n",
      "\u001b[0;31mValueError\u001b[0m: Unexpected error: Code: [StatusCode.FAILED_PRECONDITION][Query returned more results than expected. Expected: 1000. This might be caused by duplicate/multiple ingestion. Please check the data you have ingested.]. If the issue persists contact TruEra for help."
     ]
    }
   ],
   "source": [
    "explainer = tru.get_explainer(\"San Francisco\", comparison_data_splits=[\"Seattle\"])\n",
    "explainer.compute_feature_contributors_to_instability(use_difference_of_means=True).T"
   ]
  },
  {
   "attachments": {},
   "cell_type": "markdown",
   "metadata": {
    "id": "knOfy6PRixce"
   },
   "source": [
    "Availability_90 is by far the largest positive contributor to score drift in Seattle. Let's remove that feature along with the related feature Availability_365 to mitigate this issue."
   ]
  },
  {
   "cell_type": "code",
   "execution_count": null,
   "metadata": {
    "execution": {
     "iopub.status.busy": "2023-07-28T16:57:58.312608Z",
     "iopub.status.idle": "2023-07-28T16:57:58.313245Z",
     "shell.execute_reply": "2023-07-28T16:57:58.313043Z",
     "shell.execute_reply.started": "2023-07-28T16:57:58.313022Z"
    }
   },
   "outputs": [],
   "source": [
    "# train a new model\n",
    "xgb_reg = xgb.XGBRegressor(eta=0.2, max_depth=4)\n",
    "xgb_reg.fit(san_francisco_resampled.drop([\"id\", \"price\", \"availability_90\", \"availability_365\"], axis=1), san_francisco_resampled.price)\n",
    "\n",
    "# create the first project and data collection\n",
    "tru.add_data_collection(\"Data Collection v2\")"
   ]
  },
  {
   "cell_type": "code",
   "execution_count": null,
   "metadata": {
    "execution": {
     "iopub.status.busy": "2023-07-28T16:57:58.314608Z",
     "iopub.status.idle": "2023-07-28T16:57:58.315088Z",
     "shell.execute_reply": "2023-07-28T16:57:58.314909Z",
     "shell.execute_reply.started": "2023-07-28T16:57:58.314890Z"
    },
    "id": "jTrTPeZpixce",
    "outputId": "0a771a73-d1ef-4434-ee13-a42e455fd4a0"
   },
   "outputs": [],
   "source": [
    "# add data to the collection we just created\n",
    "tru.add_data(\n",
    "    data=san_francisco,\n",
    "    data_split_name=\"San Francisco\",\n",
    "    column_spec=ColumnSpec(\n",
    "        id_col_name=\"id\",\n",
    "        pre_data_col_names=list(san_francisco.columns.drop([\"id\",\"price\",\"availability_90\",\"availability_365\"])),\n",
    "        label_col_names=\"price\")\n",
    ")\n",
    "tru.add_data(\n",
    "    data=seattle,\n",
    "    data_split_name=\"Seattle\",\n",
    "    column_spec=ColumnSpec(\n",
    "        id_col_name=\"id\",\n",
    "        pre_data_col_names=list(seattle.columns.drop([\"id\",\"price\",\"availability_90\",\"availability_365\"])),\n",
    "        label_col_names=\"price\")\n",
    ")\n",
    "tru.add_data(\n",
    "    data=austin,\n",
    "    data_split_name=\"Austin\",\n",
    "    column_spec=ColumnSpec(\n",
    "        id_col_name=\"id\",\n",
    "        pre_data_col_names=list(seattle.columns.drop([\"id\",\"price\",\"availability_90\",\"availability_365\"])),\n",
    "        label_col_names=\"price\")\n",
    ")\n",
    "# register the model\n",
    "tru.add_python_model(\n",
    "    \"model_3\",\n",
    "    xgb_reg,\n",
    "    train_parameters={\"model_type\": \"xgb.XGBRegressor\", \"eta\": 0.2, \"max_depth\": 4}\n",
    ")"
   ]
  },
  {
   "cell_type": "code",
   "execution_count": null,
   "metadata": {
    "execution": {
     "iopub.status.busy": "2023-07-28T16:57:58.317084Z",
     "iopub.status.idle": "2023-07-28T16:57:58.317626Z",
     "shell.execute_reply": "2023-07-28T16:57:58.317425Z",
     "shell.execute_reply.started": "2023-07-28T16:57:58.317404Z"
    }
   },
   "outputs": [],
   "source": [
    "tru.set_model(\"model_3\")"
   ]
  },
  {
   "cell_type": "code",
   "execution_count": null,
   "metadata": {
    "execution": {
     "iopub.status.busy": "2023-07-28T16:57:58.319332Z",
     "iopub.status.idle": "2023-07-28T16:57:58.319818Z",
     "shell.execute_reply": "2023-07-28T16:57:58.319635Z",
     "shell.execute_reply.started": "2023-07-28T16:57:58.319617Z"
    }
   },
   "outputs": [],
   "source": [
    "tru.set_data_split(\"San Francisco\")\n",
    "sf_preds = tru.get_ys_pred().reset_index(names=\"id\")\n",
    "tru.set_data_split(\"Seattle\")\n",
    "se_preds = tru.get_ys_pred().reset_index(names=\"id\")\n",
    "tru.set_data_split(\"Austin\")\n",
    "au_preds = tru.get_ys_pred().reset_index(names=\"id\")"
   ]
  },
  {
   "cell_type": "code",
   "execution_count": null,
   "metadata": {
    "execution": {
     "iopub.status.busy": "2023-07-28T16:57:58.321396Z",
     "iopub.status.idle": "2023-07-28T16:57:58.321892Z",
     "shell.execute_reply": "2023-07-28T16:57:58.321704Z",
     "shell.execute_reply.started": "2023-07-28T16:57:58.321685Z"
    }
   },
   "outputs": [],
   "source": [
    "tru.set_data_split(\"San Francisco\")\n",
    "sf_preds = tru.get_ys_pred().reset_index(names=\"id\")\n",
    "tru.set_data_split(\"Seattle\")\n",
    "se_preds = tru.get_ys_pred().reset_index(names=\"id\")\n",
    "tru.set_data_split(\"Austin\")\n",
    "au_preds = tru.get_ys_pred().reset_index(names=\"id\")\n",
    "\n",
    "tru.add_data(\n",
    "    data=sf_preds,\n",
    "    data_split_name=\"San Francisco\",\n",
    "    column_spec=ColumnSpec(\n",
    "        id_col_name=\"id\",\n",
    "        prediction_col_names=\"__truera_prediction__\"\n",
    "    )\n",
    ")\n",
    "\n",
    "tru.add_data(\n",
    "    data=se_preds,\n",
    "    data_split_name=\"Seattle\",\n",
    "    column_spec=ColumnSpec(\n",
    "        id_col_name=\"id\",\n",
    "        prediction_col_names=\"__truera_prediction__\"\n",
    "    )\n",
    ")\n",
    "\n",
    "tru.add_data(\n",
    "    data=au_preds,\n",
    "    data_split_name=\"Austin\",\n",
    "    column_spec=ColumnSpec(\n",
    "        id_col_name=\"id\",\n",
    "        prediction_col_names=\"__truera_prediction__\"\n",
    "    )\n",
    ")"
   ]
  },
  {
   "cell_type": "code",
   "execution_count": null,
   "metadata": {
    "execution": {
     "iopub.status.busy": "2023-07-28T16:57:58.324746Z",
     "iopub.status.idle": "2023-07-28T16:57:58.325526Z",
     "shell.execute_reply": "2023-07-28T16:57:58.325305Z",
     "shell.execute_reply.started": "2023-07-28T16:57:58.325276Z"
    },
    "id": "x-Ioo-Ajixce",
    "outputId": "ebef4cce-44f5-4b3a-aaba-3c2111e5b2a1"
   },
   "outputs": [],
   "source": [
    "# get the test details from model_2 so we can copy them for model_3\n",
    "tru.set_environment(\"remote\")\n",
    "tru.set_model(\"model_2\")\n",
    "tru.tester.get_model_tests().as_dict()[\"Stability Tests\"][\"Rows\"]"
   ]
  },
  {
   "cell_type": "code",
   "execution_count": null,
   "metadata": {
    "execution": {
     "iopub.status.busy": "2023-07-28T16:57:58.327278Z",
     "iopub.status.idle": "2023-07-28T16:57:58.327862Z",
     "shell.execute_reply": "2023-07-28T16:57:58.327678Z",
     "shell.execute_reply.started": "2023-07-28T16:57:58.327659Z"
    }
   },
   "outputs": [],
   "source": [
    "# toggle back to remote to interact with the tester\n",
    "\n",
    "# check stability results\n",
    "tru.set_model(\"model_3\")\n",
    "\n",
    "# let the warn conditions have $50 in wiggle room\n",
    "tru.tester.add_stability_test(test_name=\"Stability Test - Seattle - v3\",\n",
    "    base_data_split_name=\"San Francisco\",\n",
    "    comparison_data_split_names=[\"Seattle\"],\n",
    "    fail_if_outside=[-142.44841, -12.44841]\n",
    ")\n"
   ]
  },
  {
   "cell_type": "code",
   "execution_count": null,
   "metadata": {
    "execution": {
     "iopub.status.busy": "2023-07-28T16:57:58.329277Z",
     "iopub.status.idle": "2023-07-28T16:57:58.329876Z",
     "shell.execute_reply": "2023-07-28T16:57:58.329650Z",
     "shell.execute_reply.started": "2023-07-28T16:57:58.329615Z"
    },
    "id": "HhCY_1VZixcf",
    "outputId": "3ff6e498-04a1-4105-a16c-bceac7dc8c81"
   },
   "outputs": [],
   "source": [
    "tru.tester.get_model_test_results(test_types=[\"stability\"])"
   ]
  },
  {
   "attachments": {},
   "cell_type": "markdown",
   "metadata": {
    "id": "Rh78BT9bixcf"
   },
   "source": [
    "In v3, the model passes now in Seattle. We can deploy the v2 model in Austin and v3 model in Seattle as we launch and the investors of our startup are satisfied with these results!"
   ]
  }
 ],
 "metadata": {
  "colab": {
   "collapsed_sections": [
    "glAQlNBfixcb"
   ],
   "provenance": []
  },
  "kernelspec": {
   "display_name": "demo3",
   "language": "python",
   "name": "demo3"
  },
  "language_info": {
   "codemirror_mode": {
    "name": "ipython",
    "version": 3
   },
   "file_extension": ".py",
   "mimetype": "text/x-python",
   "name": "python",
   "nbconvert_exporter": "python",
   "pygments_lexer": "ipython3",
   "version": "3.10.6"
  },
  "vscode": {
   "interpreter": {
    "hash": "b4f2e5daa82a60c8a70e0d3e9bda538f88cddb8e82481cb13c1d3f460faace44"
   }
  }
 },
 "nbformat": 4,
 "nbformat_minor": 4
}

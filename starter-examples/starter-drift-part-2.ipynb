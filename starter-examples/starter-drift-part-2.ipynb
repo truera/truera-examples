{
  "cells": [
    {
      "cell_type": "markdown",
      "metadata": {
        "id": "4ThQA9IJixcY"
      },
      "source": [
        "# Guided Exercise: Drift\n",
        "\n",
        "This is a continuation of part 1. If you missed it:     [![Open In Colab](https://colab.research.google.com/assets/colab-badge.svg)](https://colab.research.google.com/drive/15an365tkQZt2g_12O2VeWMSf3mVevnM7)\n",
        "\n",
        "#### Goals 🎯\n",
        "\n",
        "In this tutorial, you will learn how to:\n",
        "1. View the results of stability tests set up in part 1.\n",
        "2. Debug the true cause of stability issues.\n",
        "3. Retest the new model and confirm the effectivenesss of the mitigation strategy.\n",
        "\n",
        "### First, set the credentials for your TruEra deployment.\n",
        "If you don't have credentials yet, get them instantly by signing up for the free open beta: https://app.truera.net"
      ]
    },
    {
      "cell_type": "code",
      "execution_count": null,
      "metadata": {
        "id": "5R0i__Z8ixca"
      },
      "outputs": [],
      "source": [
        "#connection details\n",
        "TRUERA_URL = \"https://app.truera.net\"\n",
        "AUTH_TOKEN = \"\""
      ]
    },
    {
      "cell_type": "markdown",
      "metadata": {
        "id": "glAQlNBfixcb"
      },
      "source": [
        "### Install the required packages for running in colab"
      ]
    },
    {
      "cell_type": "code",
      "execution_count": null,
      "metadata": {
        "colab": {
          "base_uri": "https://localhost:8080/"
        },
        "id": "Y_ypf-Pmixcb",
        "outputId": "4f6af9b2-bbb0-42f4-8138-ae8e375e7066"
      },
      "outputs": [
        {
          "output_type": "stream",
          "name": "stdout",
          "text": [
            "Looking in indexes: https://pypi.org/simple, https://us-python.pkg.dev/colab-wheels/public/simple/\n",
            "Requirement already satisfied: Flask in /usr/local/lib/python3.8/dist-packages (2.2.2)\n",
            "Requirement already satisfied: importlib-metadata>=3.6.0 in /usr/local/lib/python3.8/dist-packages (from Flask) (6.0.0)\n",
            "Requirement already satisfied: Werkzeug>=2.2.2 in /usr/local/lib/python3.8/dist-packages (from Flask) (2.2.2)\n",
            "Requirement already satisfied: itsdangerous>=2.0 in /usr/local/lib/python3.8/dist-packages (from Flask) (2.1.2)\n",
            "Requirement already satisfied: click>=8.0 in /usr/local/lib/python3.8/dist-packages (from Flask) (8.1.3)\n",
            "Requirement already satisfied: Jinja2>=3.0 in /usr/local/lib/python3.8/dist-packages (from Flask) (3.1.2)\n",
            "Requirement already satisfied: zipp>=0.5 in /usr/local/lib/python3.8/dist-packages (from importlib-metadata>=3.6.0->Flask) (3.11.0)\n",
            "Requirement already satisfied: MarkupSafe>=2.0 in /usr/local/lib/python3.8/dist-packages (from Jinja2>=3.0->Flask) (2.1.2)\n",
            "Looking in indexes: https://pypi.org/simple, https://us-python.pkg.dev/colab-wheels/public/simple/\n",
            "Requirement already satisfied: protobuf in /usr/local/lib/python3.8/dist-packages (4.21.12)\n",
            "Looking in indexes: https://pypi.org/simple, https://us-python.pkg.dev/colab-wheels/public/simple/\n",
            "Requirement already satisfied: shap in /usr/local/lib/python3.8/dist-packages (0.41.0)\n",
            "Requirement already satisfied: numba in /usr/local/lib/python3.8/dist-packages (from shap) (0.56.4)\n",
            "Requirement already satisfied: scipy in /usr/local/lib/python3.8/dist-packages (from shap) (1.7.3)\n",
            "Requirement already satisfied: slicer==0.0.7 in /usr/local/lib/python3.8/dist-packages (from shap) (0.0.7)\n",
            "Requirement already satisfied: pandas in /usr/local/lib/python3.8/dist-packages (from shap) (1.3.5)\n",
            "Requirement already satisfied: tqdm>4.25.0 in /usr/local/lib/python3.8/dist-packages (from shap) (4.64.1)\n",
            "Requirement already satisfied: packaging>20.9 in /usr/local/lib/python3.8/dist-packages (from shap) (21.3)\n",
            "Requirement already satisfied: numpy in /usr/local/lib/python3.8/dist-packages (from shap) (1.21.6)\n",
            "Requirement already satisfied: scikit-learn in /usr/local/lib/python3.8/dist-packages (from shap) (1.0.2)\n",
            "Requirement already satisfied: cloudpickle in /usr/local/lib/python3.8/dist-packages (from shap) (2.2.0)\n",
            "Requirement already satisfied: pyparsing!=3.0.5,>=2.0.2 in /usr/local/lib/python3.8/dist-packages (from packaging>20.9->shap) (3.0.9)\n",
            "Requirement already satisfied: llvmlite<0.40,>=0.39.0dev0 in /usr/local/lib/python3.8/dist-packages (from numba->shap) (0.39.1)\n",
            "Requirement already satisfied: importlib-metadata in /usr/local/lib/python3.8/dist-packages (from numba->shap) (6.0.0)\n",
            "Requirement already satisfied: setuptools in /usr/local/lib/python3.8/dist-packages (from numba->shap) (57.4.0)\n",
            "Requirement already satisfied: python-dateutil>=2.7.3 in /usr/local/lib/python3.8/dist-packages (from pandas->shap) (2.8.2)\n",
            "Requirement already satisfied: pytz>=2017.3 in /usr/local/lib/python3.8/dist-packages (from pandas->shap) (2022.7)\n",
            "Requirement already satisfied: joblib>=0.11 in /usr/local/lib/python3.8/dist-packages (from scikit-learn->shap) (1.2.0)\n",
            "Requirement already satisfied: threadpoolctl>=2.0.0 in /usr/local/lib/python3.8/dist-packages (from scikit-learn->shap) (3.1.0)\n",
            "Requirement already satisfied: six>=1.5 in /usr/local/lib/python3.8/dist-packages (from python-dateutil>=2.7.3->pandas->shap) (1.15.0)\n",
            "Requirement already satisfied: zipp>=0.5 in /usr/local/lib/python3.8/dist-packages (from importlib-metadata->numba->shap) (3.11.0)\n",
            "Looking in indexes: https://pypi.org/simple, https://us-python.pkg.dev/colab-wheels/public/simple/\n",
            "Requirement already satisfied: truera in /usr/local/lib/python3.8/dist-packages (10.0.0)\n",
            "Requirement already satisfied: protobuf>=3.8.0 in /usr/local/lib/python3.8/dist-packages (from truera) (4.21.12)\n",
            "Requirement already satisfied: cryptography>=3.2 in /usr/local/lib/python3.8/dist-packages (from truera) (39.0.0)\n",
            "Requirement already satisfied: cachetools>=5.2.0 in /usr/local/lib/python3.8/dist-packages (from truera) (5.2.1)\n",
            "Requirement already satisfied: click>=8.0 in /usr/local/lib/python3.8/dist-packages (from truera) (8.1.3)\n",
            "Requirement already satisfied: filelock>=3.0.12 in /usr/local/lib/python3.8/dist-packages (from truera) (3.9.0)\n",
            "Requirement already satisfied: crontab==0.23.0 in /usr/local/lib/python3.8/dist-packages (from truera) (0.23.0)\n",
            "Requirement already satisfied: python-dateutil>=2.8.1 in /usr/local/lib/python3.8/dist-packages (from truera) (2.8.2)\n",
            "Requirement already satisfied: sqlparse==0.4.2 in /usr/local/lib/python3.8/dist-packages (from truera) (0.4.2)\n",
            "Requirement already satisfied: tabulate>=0.8.9 in /usr/local/lib/python3.8/dist-packages (from truera) (0.8.10)\n",
            "Requirement already satisfied: tqdm>4.25.0 in /usr/local/lib/python3.8/dist-packages (from truera) (4.64.1)\n",
            "Requirement already satisfied: pyyaml>=5.3.1 in /usr/local/lib/python3.8/dist-packages (from truera) (6.0)\n",
            "Requirement already satisfied: pyjwt>=2.4.0 in /usr/local/lib/python3.8/dist-packages (from truera) (2.6.0)\n",
            "Requirement already satisfied: grpcio>=1.22.0 in /usr/local/lib/python3.8/dist-packages (from truera) (1.51.1)\n",
            "Requirement already satisfied: importlib-metadata>=4.8.1 in /usr/local/lib/python3.8/dist-packages (from truera) (6.0.0)\n",
            "Requirement already satisfied: urllib3>=1.25.8 in /usr/local/lib/python3.8/dist-packages (from truera) (1.26.14)\n",
            "Requirement already satisfied: pandas>=1.1.1 in /usr/local/lib/python3.8/dist-packages (from truera) (1.3.5)\n",
            "Requirement already satisfied: scikit-learn>=0.21.2 in /usr/local/lib/python3.8/dist-packages (from truera) (1.0.2)\n",
            "Requirement already satisfied: grpcio-status>=1.22.0 in /usr/local/lib/python3.8/dist-packages (from truera) (1.48.2)\n",
            "Requirement already satisfied: pydantic>=1.8.0 in /usr/local/lib/python3.8/dist-packages (from truera) (1.10.4)\n",
            "Requirement already satisfied: requests>=2.25.0 in /usr/local/lib/python3.8/dist-packages (from truera) (2.25.1)\n",
            "Requirement already satisfied: googleapis-common-protos>=1.56.0 in /usr/local/lib/python3.8/dist-packages (from truera) (1.58.0)\n",
            "Requirement already satisfied: cloudpickle>=1.2.2 in /usr/local/lib/python3.8/dist-packages (from truera) (2.2.0)\n",
            "Requirement already satisfied: humanize>=4.3.0 in /usr/local/lib/python3.8/dist-packages (from truera) (4.4.0)\n",
            "Requirement already satisfied: cffi>=1.12 in /usr/local/lib/python3.8/dist-packages (from cryptography>=3.2->truera) (1.15.1)\n",
            "Requirement already satisfied: zipp>=0.5 in /usr/local/lib/python3.8/dist-packages (from importlib-metadata>=4.8.1->truera) (3.11.0)\n",
            "Requirement already satisfied: pytz>=2017.3 in /usr/local/lib/python3.8/dist-packages (from pandas>=1.1.1->truera) (2022.7)\n",
            "Requirement already satisfied: numpy>=1.17.3 in /usr/local/lib/python3.8/dist-packages (from pandas>=1.1.1->truera) (1.21.6)\n",
            "Requirement already satisfied: typing-extensions>=4.2.0 in /usr/local/lib/python3.8/dist-packages (from pydantic>=1.8.0->truera) (4.4.0)\n",
            "Requirement already satisfied: six>=1.5 in /usr/local/lib/python3.8/dist-packages (from python-dateutil>=2.8.1->truera) (1.15.0)\n",
            "Requirement already satisfied: chardet<5,>=3.0.2 in /usr/local/lib/python3.8/dist-packages (from requests>=2.25.0->truera) (4.0.0)\n",
            "Requirement already satisfied: certifi>=2017.4.17 in /usr/local/lib/python3.8/dist-packages (from requests>=2.25.0->truera) (2022.12.7)\n",
            "Requirement already satisfied: idna<3,>=2.5 in /usr/local/lib/python3.8/dist-packages (from requests>=2.25.0->truera) (2.10)\n",
            "Requirement already satisfied: threadpoolctl>=2.0.0 in /usr/local/lib/python3.8/dist-packages (from scikit-learn>=0.21.2->truera) (3.1.0)\n",
            "Requirement already satisfied: joblib>=0.11 in /usr/local/lib/python3.8/dist-packages (from scikit-learn>=0.21.2->truera) (1.2.0)\n",
            "Requirement already satisfied: scipy>=1.1.0 in /usr/local/lib/python3.8/dist-packages (from scikit-learn>=0.21.2->truera) (1.7.3)\n",
            "Requirement already satisfied: pycparser in /usr/local/lib/python3.8/dist-packages (from cffi>=1.12->cryptography>=3.2->truera) (2.21)\n"
          ]
        }
      ],
      "source": [
        "! pip install --upgrade Flask\n",
        "! pip install --upgrade protobuf\n",
        "! pip install --upgrade shap\n",
        "! pip install --upgrade truera"
      ]
    },
    {
      "cell_type": "markdown",
      "metadata": {
        "id": "ewL5GnJlixcb"
      },
      "source": [
        "### From here, run the rest of the notebook and follow the analysis.\n",
        "\n",
        "### First, load data and train the in your beach-head market, San Francisco. Also add additional data for Seattle and Austin, your target markets."
      ]
    },
    {
      "cell_type": "code",
      "execution_count": null,
      "metadata": {
        "id": "HvZYMI4fixcb"
      },
      "outputs": [],
      "source": [
        "import pandas as pd\n",
        "import xgboost as xgb\n",
        "from sklearn import preprocessing\n",
        "import sklearn.metrics\n",
        "from sklearn.utils import resample\n",
        "import logging\n",
        "import pandas as pd\n",
        "import xgboost as xgb\n",
        "\n",
        "from truera.client.truera_workspace import TrueraWorkspace\n",
        "from truera.client.truera_authentication import TokenAuthentication\n",
        "\n",
        "auth = TokenAuthentication(AUTH_TOKEN)\n",
        "tru = TrueraWorkspace(TRUERA_URL, auth, ignore_version_mismatch=True, log_level=logging.ERROR)\n",
        "\n",
        "# set our environmetn to local compute so we can compute predictions and feature influences on our local machine\n",
        "tru.set_environment(\"remote\")\n",
        "# note: we'll periodically toggle between local and remote so we can interact with our remote deployment as well."
      ]
    },
    {
      "cell_type": "markdown",
      "metadata": {
        "id": "1oHfd4Hhixcc"
      },
      "source": [
        "### Test for stability in Seattle and Austin."
      ]
    },
    {
      "cell_type": "code",
      "execution_count": null,
      "metadata": {
        "colab": {
          "base_uri": "https://localhost:8080/"
        },
        "id": "h_tdwbLWixcc",
        "outputId": "dd9fc1fa-7a53-404b-b9b3-12e735d0424a"
      },
      "outputs": [
        {
          "output_type": "execute_result",
          "data": {
            "text/plain": [
              "['xgboost_v1', 'xgboost_v2', 'xgboost_v3']"
            ]
          },
          "metadata": {},
          "execution_count": 4
        }
      ],
      "source": [
        "# create the first project and data collection\n",
        "project_name = \"Starter Example Companion - Drift\"\n",
        "tru.set_project(project_name)\n",
        "tru.set_data_collection(\"Data Collection v1\")\n",
        "tru.get_models()"
      ]
    },
    {
      "cell_type": "code",
      "source": [
        "# add performance and feature importance tests\n",
        "tru.tester.add_performance_test(\n",
        "    test_name = 'MAE Test',\n",
        "        all_data_collections = True,\n",
        "        data_split_name_regex = 'Seattle',\n",
        "        metric=\"MAE\",\n",
        "        reference_split_name='San Francisco',\n",
        "        fail_if_greater_than=40,\n",
        "        fail_threshold_type=\"RELATIVE\")"
      ],
      "metadata": {
        "id": "pZRMxwZsy9SH"
      },
      "execution_count": null,
      "outputs": []
    },
    {
      "cell_type": "code",
      "source": [
        "tru.tester.get_model_leaderboard(sort_by='performance')"
      ],
      "metadata": {
        "colab": {
          "base_uri": "https://localhost:8080/",
          "height": 172
        },
        "id": "bi183I_ZkulK",
        "outputId": "3f00254f-9bc2-4181-fbe9-6aa15797adf7"
      },
      "execution_count": null,
      "outputs": [
        {
          "output_type": "execute_result",
          "data": {
            "text/plain": [
              "<truera.client.intelligence.model_tests.ModelTestLeaderboard at 0x7fd5c01cd880>"
            ],
            "text/html": [
              "\n",
              "        <html>\n",
              "        <head>\n",
              "        <style>\n",
              "        table, th, td {\n",
              "            border-radius: 5px;\n",
              "        }\n",
              "        .header {\n",
              "            font-weight: bold;\n",
              "            font-size: 14px;\n",
              "        }\n",
              "        caption {\n",
              "            font-weight: bolder;\n",
              "            font-size: 16px;\n",
              "            background-color: powderblue;\n",
              "            color: black;\n",
              "            border-radius: 5px;\n",
              "        }\n",
              "        \n",
              "        </style>\n",
              "        </head>\n",
              "        <body>\n",
              "        <table>\n",
              "            <caption>Test Leaderboard of Models in Data Collection \"Data Collection v1\"</caption>\n",
              "            <tr class=\"header\"><td>Model Name</td><td>Train Split Name</td><td>Train Parameters</td><td>Performance Tests (Failed/Warning/Total)</td><td>Fairness Tests (Failed/Warning/Total)</td><td>Stability Tests (Failed/Warning/Total)</td><td>Feature Importance Tests (Failed/Warning/Total)</td></tr>\n",
              "            <tr><td >xgboost_v1</td><td >San Francisco</td><td >eta: 0.2<br>max_depth: 4.0<br>model_type: xgb.XGBRegressor</td><td >0 ❌ / 0 ⚠️ / 1</td><td >0 ❌ / 0 ⚠️ / 0</td><td >2 ❌ / 0 ⚠️ / 2</td><td >0 ❌ / 0 ⚠️ / 0</td></tr><tr><td >xgboost_v2</td><td >San Francisco - resampled</td><td >eta: 0.2<br>max_depth: 4.0<br>model_type: xgb.XGBRegressor</td><td >0 ❌ / 0 ⚠️ / 1</td><td >0 ❌ / 0 ⚠️ / 0</td><td >1 ❌ / 0 ⚠️ / 2</td><td >0 ❌ / 0 ⚠️ / 0</td></tr>\n",
              "        </table>\n",
              "        </body>\n",
              "        </html>\n",
              "        "
            ]
          },
          "metadata": {},
          "execution_count": 6
        }
      ]
    },
    {
      "cell_type": "code",
      "execution_count": null,
      "metadata": {
        "colab": {
          "base_uri": "https://localhost:8080/",
          "height": 103
        },
        "id": "g9_wizHvixcc",
        "outputId": "44e200f9-f608-4340-99b2-ecf8031a52bc"
      },
      "outputs": [
        {
          "output_type": "execute_result",
          "data": {
            "text/plain": [
              "<truera.client.intelligence.model_tests.ModelTestResults at 0x7fd5bf16be50>"
            ],
            "text/html": [
              "\n",
              "        <html>\n",
              "        <head>\n",
              "        <style>\n",
              "        table, th, td {\n",
              "            border-radius: 5px;\n",
              "        }\n",
              "        .header {\n",
              "            font-weight: bold;\n",
              "            font-size: 14px;\n",
              "        }\n",
              "        caption {\n",
              "            font-weight: bolder;\n",
              "            font-size: 16px;\n",
              "            background-color: powderblue;\n",
              "            color: black;\n",
              "            border-radius: 5px;\n",
              "        }\n",
              "        \n",
              "            .PASSED {\n",
              "                color: black;\n",
              "                background-color: palegreen;\n",
              "            }\n",
              "            .WARNING {\n",
              "                color: black;\n",
              "                background-color: yellow;\n",
              "            }\n",
              "            .FAILED {\n",
              "                color: black;\n",
              "                background-color: pink;\n",
              "            }\n",
              "            \n",
              "        </style>\n",
              "        </head>\n",
              "        <body>\n",
              "        <table>\n",
              "            <caption>Stability Tests Results for Model \"xgboost_v1\"</caption>\n",
              "            <tr class=\"header\"><td></td><td>Name</td><td>Comparison Split</td><td>Base Split</td><td>Segment</td><td>Metric</td><td>Score</td><td>Navigate</td></tr>\n",
              "            <tr><td >❌</td><td >Stability Test - Seattle</td><td >Seattle</td><td >San Francisco</td><td >ALL POINTS</td><td >DIFFERENCE_OF_MEAN</td><td class=\"FAILED\">-4.5409</td><td ><a href=\"https://eap-demo.sandbox.truera.com/p/Starter Example - Stability/m/xgboost_v1/t/stability?baseSplitName=San Francisco&compareSplitName=Seattle&splitId=03a46f38-31f2-4437-af7b-e1bc9e5c24ff&modelIds=2d740859-5386-4bc5-8d5a-1936fb4ee920&\" target=\"_blank\">Explore in UI</a></td></tr><tr><td >❌</td><td >Stability Test - Austin</td><td >Austin</td><td >San Francisco</td><td >ALL POINTS</td><td >DIFFERENCE_OF_MEAN</td><td class=\"FAILED\">64.1611</td><td ><a href=\"https://eap-demo.sandbox.truera.com/p/Starter Example - Stability/m/xgboost_v1/t/stability?baseSplitName=San Francisco&compareSplitName=Austin&splitId=ab21b5ba-4439-43af-84a7-d0934dc7bfd5&modelIds=2d740859-5386-4bc5-8d5a-1936fb4ee920&\" target=\"_blank\">Explore in UI</a></td></tr>\n",
              "        </table>\n",
              "        </body>\n",
              "        </html>\n",
              "        "
            ]
          },
          "metadata": {},
          "execution_count": 10
        }
      ],
      "source": [
        "tru.set_model('model_1')\n",
        "tru.tester.get_model_test_results(test_types=[\"stability\"])"
      ]
    },
    {
      "cell_type": "markdown",
      "metadata": {
        "id": "Sr8xZVMWixcd"
      },
      "source": [
        "The model fails in Seattle and Austin because the scores drifted too far from the ground truth in the new cities."
      ]
    },
    {
      "cell_type": "code",
      "execution_count": null,
      "metadata": {
        "colab": {
          "base_uri": "https://localhost:8080/",
          "height": 143
        },
        "id": "drduS6R4ixcd",
        "outputId": "53cb6a7c-aa3a-4f39-8bc4-475bdf310067"
      },
      "outputs": [
        {
          "output_type": "execute_result",
          "data": {
            "text/plain": [
              "                                 representation         MAE  size   size (%)\n",
              "0  accommodates <= 16.0 AND accommodates >= 6.0  161.751678  2619  28.641732\n",
              "1         bathrooms <= 7.0 AND bathrooms >= 2.5  174.443787  1055  11.537620\n",
              "2          bedrooms <= 10.0 AND bedrooms >= 2.0  155.508789  3835  41.940070"
            ],
            "text/html": [
              "\n",
              "  <div id=\"df-27f8e111-c060-47eb-b02a-ba365584f2c0\">\n",
              "    <div class=\"colab-df-container\">\n",
              "      <div>\n",
              "<style scoped>\n",
              "    .dataframe tbody tr th:only-of-type {\n",
              "        vertical-align: middle;\n",
              "    }\n",
              "\n",
              "    .dataframe tbody tr th {\n",
              "        vertical-align: top;\n",
              "    }\n",
              "\n",
              "    .dataframe thead th {\n",
              "        text-align: right;\n",
              "    }\n",
              "</style>\n",
              "<table border=\"1\" class=\"dataframe\">\n",
              "  <thead>\n",
              "    <tr style=\"text-align: right;\">\n",
              "      <th></th>\n",
              "      <th>representation</th>\n",
              "      <th>MAE</th>\n",
              "      <th>size</th>\n",
              "      <th>size (%)</th>\n",
              "    </tr>\n",
              "  </thead>\n",
              "  <tbody>\n",
              "    <tr>\n",
              "      <th>0</th>\n",
              "      <td>accommodates &lt;= 16.0 AND accommodates &gt;= 6.0</td>\n",
              "      <td>161.751678</td>\n",
              "      <td>2619</td>\n",
              "      <td>28.641732</td>\n",
              "    </tr>\n",
              "    <tr>\n",
              "      <th>1</th>\n",
              "      <td>bathrooms &lt;= 7.0 AND bathrooms &gt;= 2.5</td>\n",
              "      <td>174.443787</td>\n",
              "      <td>1055</td>\n",
              "      <td>11.537620</td>\n",
              "    </tr>\n",
              "    <tr>\n",
              "      <th>2</th>\n",
              "      <td>bedrooms &lt;= 10.0 AND bedrooms &gt;= 2.0</td>\n",
              "      <td>155.508789</td>\n",
              "      <td>3835</td>\n",
              "      <td>41.940070</td>\n",
              "    </tr>\n",
              "  </tbody>\n",
              "</table>\n",
              "</div>\n",
              "      <button class=\"colab-df-convert\" onclick=\"convertToInteractive('df-27f8e111-c060-47eb-b02a-ba365584f2c0')\"\n",
              "              title=\"Convert this dataframe to an interactive table.\"\n",
              "              style=\"display:none;\">\n",
              "        \n",
              "  <svg xmlns=\"http://www.w3.org/2000/svg\" height=\"24px\"viewBox=\"0 0 24 24\"\n",
              "       width=\"24px\">\n",
              "    <path d=\"M0 0h24v24H0V0z\" fill=\"none\"/>\n",
              "    <path d=\"M18.56 5.44l.94 2.06.94-2.06 2.06-.94-2.06-.94-.94-2.06-.94 2.06-2.06.94zm-11 1L8.5 8.5l.94-2.06 2.06-.94-2.06-.94L8.5 2.5l-.94 2.06-2.06.94zm10 10l.94 2.06.94-2.06 2.06-.94-2.06-.94-.94-2.06-.94 2.06-2.06.94z\"/><path d=\"M17.41 7.96l-1.37-1.37c-.4-.4-.92-.59-1.43-.59-.52 0-1.04.2-1.43.59L10.3 9.45l-7.72 7.72c-.78.78-.78 2.05 0 2.83L4 21.41c.39.39.9.59 1.41.59.51 0 1.02-.2 1.41-.59l7.78-7.78 2.81-2.81c.8-.78.8-2.07 0-2.86zM5.41 20L4 18.59l7.72-7.72 1.47 1.35L5.41 20z\"/>\n",
              "  </svg>\n",
              "      </button>\n",
              "      \n",
              "  <style>\n",
              "    .colab-df-container {\n",
              "      display:flex;\n",
              "      flex-wrap:wrap;\n",
              "      gap: 12px;\n",
              "    }\n",
              "\n",
              "    .colab-df-convert {\n",
              "      background-color: #E8F0FE;\n",
              "      border: none;\n",
              "      border-radius: 50%;\n",
              "      cursor: pointer;\n",
              "      display: none;\n",
              "      fill: #1967D2;\n",
              "      height: 32px;\n",
              "      padding: 0 0 0 0;\n",
              "      width: 32px;\n",
              "    }\n",
              "\n",
              "    .colab-df-convert:hover {\n",
              "      background-color: #E2EBFA;\n",
              "      box-shadow: 0px 1px 2px rgba(60, 64, 67, 0.3), 0px 1px 3px 1px rgba(60, 64, 67, 0.15);\n",
              "      fill: #174EA6;\n",
              "    }\n",
              "\n",
              "    [theme=dark] .colab-df-convert {\n",
              "      background-color: #3B4455;\n",
              "      fill: #D2E3FC;\n",
              "    }\n",
              "\n",
              "    [theme=dark] .colab-df-convert:hover {\n",
              "      background-color: #434B5C;\n",
              "      box-shadow: 0px 1px 3px 1px rgba(0, 0, 0, 0.15);\n",
              "      filter: drop-shadow(0px 1px 2px rgba(0, 0, 0, 0.3));\n",
              "      fill: #FFFFFF;\n",
              "    }\n",
              "  </style>\n",
              "\n",
              "      <script>\n",
              "        const buttonEl =\n",
              "          document.querySelector('#df-27f8e111-c060-47eb-b02a-ba365584f2c0 button.colab-df-convert');\n",
              "        buttonEl.style.display =\n",
              "          google.colab.kernel.accessAllowed ? 'block' : 'none';\n",
              "\n",
              "        async function convertToInteractive(key) {\n",
              "          const element = document.querySelector('#df-27f8e111-c060-47eb-b02a-ba365584f2c0');\n",
              "          const dataTable =\n",
              "            await google.colab.kernel.invokeFunction('convertToInteractive',\n",
              "                                                     [key], {});\n",
              "          if (!dataTable) return;\n",
              "\n",
              "          const docLinkHtml = 'Like what you see? Visit the ' +\n",
              "            '<a target=\"_blank\" href=https://colab.research.google.com/notebooks/data_table.ipynb>data table notebook</a>'\n",
              "            + ' to learn more about interactive tables.';\n",
              "          element.innerHTML = '';\n",
              "          dataTable['output_type'] = 'display_data';\n",
              "          await google.colab.output.renderOutput(dataTable, element);\n",
              "          const docLink = document.createElement('div');\n",
              "          docLink.innerHTML = docLinkHtml;\n",
              "          element.appendChild(docLink);\n",
              "        }\n",
              "      </script>\n",
              "    </div>\n",
              "  </div>\n",
              "  "
            ]
          },
          "metadata": {},
          "execution_count": 11
        }
      ],
      "source": [
        "explainer = tru.get_explainer('Austin', comparison_data_splits=['San Francisco'])\n",
        "explainer.suggest_high_error_segments()"
      ]
    },
    {
      "cell_type": "markdown",
      "metadata": {
        "id": "nsV-mABrixcd"
      },
      "source": [
        "Notice the top four error segments are all related to listing size. Let's focus on the largest group, bedrooms and compare the MAE of that group to the rest."
      ]
    },
    {
      "cell_type": "code",
      "execution_count": null,
      "metadata": {
        "colab": {
          "base_uri": "https://localhost:8080/"
        },
        "id": "O9JpnQwtixcd",
        "outputId": "c38d2757-900b-4c4f-a3c1-d9e61264731d"
      },
      "outputs": [
        {
          "output_type": "stream",
          "name": "stdout",
          "text": [
            "Few bedrooms mae: 77.29932403564453\n",
            "More bedrooms mae: 155.5087890625\n"
          ]
        }
      ],
      "source": [
        "explainer = tru.get_explainer(base_data_split='Austin')\n",
        "tru.set_data_split(\"Austin\")\n",
        "#tru.add_segment_group(\"Bedrooms\", {\"Few Bedrooms\": \"bedrooms < 2\", \"More Bedrooms\": \"bedrooms >= 2\"})\n",
        "explainer.set_segment(segment_group_name = \"Bedrooms\", segment_name = \"Few Bedrooms\")\n",
        "print(\"Few bedrooms mae: \" + str(explainer.compute_performance(metric_type=\"MAE\")))\n",
        "explainer.set_segment(segment_group_name = \"Bedrooms\", segment_name = \"More Bedrooms\")\n",
        "print(\"More bedrooms mae: \" + str(explainer.compute_performance(metric_type=\"MAE\")))"
      ]
    },
    {
      "cell_type": "markdown",
      "metadata": {
        "id": "nIcy1t1Aixcd"
      },
      "source": [
        "As expected, the MAE for 2+ bedroom listings is way higher (double) that of fewer bedroom listings. Let's resample the San Francisco data we're training on to include an equal proportion of larger listings as Austin."
      ]
    },
    {
      "cell_type": "code",
      "execution_count": null,
      "metadata": {
        "id": "KEgSpLx1ixcd"
      },
      "outputs": [],
      "source": [
        "# load data\n",
        "san_francisco = pd.read_csv('https://truera-examples.s3.us-west-2.amazonaws.com/data/starter-stability/San_Francisco_for_stability.csv')\n",
        "seattle = pd.read_csv('https://truera-examples.s3.us-west-2.amazonaws.com/data/starter-stability/Seattle_for_stability.csv')\n",
        "austin = pd.read_csv('https://truera-examples.s3.us-west-2.amazonaws.com/data/starter-stability/Austin_for_stability.csv')\n",
        "\n",
        "#make all float\n",
        "san_francisco = san_francisco.astype(float).fillna(value=0)\n",
        "seattle = seattle.astype(float).fillna(value=0)\n",
        "austin = austin.astype(float).fillna(value=0)\n",
        "\n",
        "#add point ids\n",
        "sf_ids = [f\"point_{i}\" for i in range(len(san_francisco))]\n",
        "san_francisco[\"id\"] = sf_ids\n",
        "\n",
        "se_ids = [f\"point_{i}\" for i in range(len(seattle))]\n",
        "seattle[\"id\"] = se_ids\n",
        "\n",
        "a_ids = [f\"point_{i}\" for i in range(len(austin))]\n",
        "austin[\"id\"] = a_ids"
      ]
    },
    {
      "cell_type": "code",
      "execution_count": null,
      "metadata": {
        "id": "K6krD4wcixce"
      },
      "outputs": [],
      "source": [
        "large_listings = san_francisco[san_francisco['bedrooms'] >= 2]\n",
        "small_listings = san_francisco[san_francisco['bedrooms'] < 2]\n",
        "\n",
        "austin_large_listings = austin[austin['bedrooms'] >= 2]\n",
        "num_samples = int(round((len(austin_large_listings)/len(austin)) * len(san_francisco), 0))\n",
        "\n",
        "large_listings_resampled = resample(\n",
        "        large_listings, \n",
        "        replace=True,\n",
        "        n_samples=num_samples,\n",
        "        random_state=1 # include random seed so we can perform same sampling on each data set\n",
        "        )\n",
        "\n",
        "san_francisco_resampled = pd.concat([small_listings, large_listings_resampled])\n",
        "\n",
        "# train new model on resampled sf data\n",
        "xgb_reg = xgb.XGBRegressor(eta = 0.2, max_depth = 4)\n",
        "xgb_reg.fit(san_francisco_resampled.drop(['id','price'], axis = 1), san_francisco_resampled.price)\n",
        "\n",
        "# add resampled data split\n",
        "tru.add_data_split(\"San Francisco - resampled\",\n",
        "                   pre_data = san_francisco_resampled,\n",
        "                   label_col_name = \"price\",\n",
        "                   id_col_name = \"id\",\n",
        "                   split_type = \"train\")\n",
        "\n",
        "# register the model\n",
        "tru.add_python_model(\"model_2\", xgb_reg, train_split_name=\"San Francisco - resampled\",\n",
        "                     train_parameters = {\"model_type\":\"xgb.XGBRegressor\", \"eta\":0.2, \"max_depth\":4})\n",
        "\n",
        "# sync with remote\n",
        "tru.upload_project()\n"
      ]
    },
    {
      "cell_type": "code",
      "execution_count": null,
      "metadata": {
        "id": "_ZKjCFPbixce",
        "outputId": "3e2d3c33-f442-4b0e-e83b-703a25c43fab"
      },
      "outputs": [
        {
          "data": {
            "text/html": [
              "\n",
              "        <html>\n",
              "        <head>\n",
              "        <style>\n",
              "        table, th, td {\n",
              "            border-radius: 5px;\n",
              "        }\n",
              "        .header {\n",
              "            font-weight: bold;\n",
              "            font-size: 14px;\n",
              "        }\n",
              "        caption {\n",
              "            font-weight: bolder;\n",
              "            font-size: 16px;\n",
              "            background-color: powderblue;\n",
              "            color: black;\n",
              "            border-radius: 5px;\n",
              "        }\n",
              "        \n",
              "            .PASSED {\n",
              "                color: black;\n",
              "                background-color: palegreen;\n",
              "            }\n",
              "            .WARNING {\n",
              "                color: black;\n",
              "                background-color: yellow;\n",
              "            }\n",
              "            .FAILED {\n",
              "                color: black;\n",
              "                background-color: pink;\n",
              "            }\n",
              "            \n",
              "        </style>\n",
              "        </head>\n",
              "        <body>\n",
              "        <table>\n",
              "            <caption>Stability Tests Results for Model \"xgboost_v2\"</caption>\n",
              "            <tr class=\"header\"><td></td><td>Name</td><td>Comparison Split</td><td>Base Split</td><td>Segment</td><td>Metric</td><td>Score</td><td>Navigate</td></tr>\n",
              "            <tr><td >❌</td><td >Stability Test - Seattle</td><td >Seattle</td><td >San Francisco</td><td >ALL POINTS</td><td >DIFFERENCE_OF_MEAN</td><td class=\"FAILED\">-1.0388</td><td ><a href=\"https://eap-demo.sandbox.truera.com/p/Starter Example - Stability/m/xgboost_v2/t/stability?baseSplitName=San Francisco&compareSplitName=Seattle&splitId=03a46f38-31f2-4437-af7b-e1bc9e5c24ff&modelIds=ad46dabe-2b42-4494-9148-5c6d6c668eb3&\" target=\"_blank\">Explore in UI</a></td></tr><tr><td >✅</td><td >Stability Test - Austin</td><td >Austin</td><td >San Francisco</td><td >ALL POINTS</td><td >DIFFERENCE_OF_MEAN</td><td class=\"PASSED\">57.4268</td><td ><a href=\"https://eap-demo.sandbox.truera.com/p/Starter Example - Stability/m/xgboost_v2/t/stability?baseSplitName=San Francisco&compareSplitName=Austin&splitId=ab21b5ba-4439-43af-84a7-d0934dc7bfd5&modelIds=ad46dabe-2b42-4494-9148-5c6d6c668eb3&\" target=\"_blank\">Explore in UI</a></td></tr>\n",
              "        </table>\n",
              "        </body>\n",
              "        </html>\n",
              "        "
            ],
            "text/plain": [
              "<truera.client.intelligence.model_tests.ModelTestResults at 0x7fe1b0a60b50>"
            ]
          },
          "execution_count": 13,
          "metadata": {},
          "output_type": "execute_result"
        }
      ],
      "source": [
        "# check stability results\n",
        "tru.set_environment(\"remote\")\n",
        "tru.set_model(\"model_2\")\n",
        "    \n",
        "tru.tester.get_model_test_results(test_types=[\"stability\"])"
      ]
    },
    {
      "cell_type": "markdown",
      "metadata": {
        "id": "GJnsZ6dNixce"
      },
      "source": [
        "The model now passes in Austin and is ready for production, while it still fails in Seattle. Let's continue to iterate on Seattle.\n",
        "\n",
        "Since the model errors with scores that are too high, we should look for the largest positive contributors to score drift."
      ]
    },
    {
      "cell_type": "code",
      "execution_count": null,
      "metadata": {
        "id": "MR6sFFj4ixce",
        "outputId": "6fe4dbe8-e603-4a64-e5d0-16589b45a8b6"
      },
      "outputs": [
        {
          "data": {
            "text/html": [
              "<div>\n",
              "<style scoped>\n",
              "    .dataframe tbody tr th:only-of-type {\n",
              "        vertical-align: middle;\n",
              "    }\n",
              "\n",
              "    .dataframe tbody tr th {\n",
              "        vertical-align: top;\n",
              "    }\n",
              "\n",
              "    .dataframe thead th {\n",
              "        text-align: right;\n",
              "    }\n",
              "</style>\n",
              "<table border=\"1\" class=\"dataframe\">\n",
              "  <thead>\n",
              "    <tr style=\"text-align: right;\">\n",
              "      <th></th>\n",
              "      <th>Seattle</th>\n",
              "    </tr>\n",
              "  </thead>\n",
              "  <tbody>\n",
              "    <tr>\n",
              "      <th>availability_90</th>\n",
              "      <td>0.181856</td>\n",
              "    </tr>\n",
              "    <tr>\n",
              "      <th>room_type_Entire_home/apt</th>\n",
              "      <td>0.081749</td>\n",
              "    </tr>\n",
              "    <tr>\n",
              "      <th>accommodates</th>\n",
              "      <td>0.065924</td>\n",
              "    </tr>\n",
              "    <tr>\n",
              "      <th>minimum_nights</th>\n",
              "      <td>0.047815</td>\n",
              "    </tr>\n",
              "    <tr>\n",
              "      <th>amenities_Smoke_detector</th>\n",
              "      <td>0.047023</td>\n",
              "    </tr>\n",
              "  </tbody>\n",
              "</table>\n",
              "</div>"
            ],
            "text/plain": [
              "                            Seattle\n",
              "availability_90            0.181856\n",
              "room_type_Entire_home/apt  0.081749\n",
              "accommodates               0.065924\n",
              "minimum_nights             0.047815\n",
              "amenities_Smoke_detector   0.047023"
            ]
          },
          "execution_count": 14,
          "metadata": {},
          "output_type": "execute_result"
        }
      ],
      "source": [
        "explainer = tru.get_explainer(\"San Francisco\", comparison_data_splits=[\"Seattle\"])\n",
        "explainer.compute_feature_contributors_to_instability(use_difference_of_means=True)"
      ]
    },
    {
      "cell_type": "markdown",
      "metadata": {
        "id": "knOfy6PRixce"
      },
      "source": [
        "Availability_90 is by far the largest positive contributor to score drift in Seattle. Let's remove that feature along with the related feature Availability_365 to mitigate this issue."
      ]
    },
    {
      "cell_type": "code",
      "execution_count": null,
      "metadata": {
        "id": "jTrTPeZpixce",
        "outputId": "0a771a73-d1ef-4434-ee13-a42e455fd4a0"
      },
      "outputs": [
        {
          "name": "stderr",
          "output_type": "stream",
          "text": [
            "WARNING:truera.client.local.intelligence.local_explainer:Background split for `data_collection` \"Data Collection v2\" is currently not set. Setting it to \"San Francisco\"\n",
            "                                   \r"
          ]
        }
      ],
      "source": [
        "tru.set_environment(\"local\")\n",
        "\n",
        "# train first model\n",
        "xgb_reg = xgb.XGBRegressor(eta = 0.2, max_depth = 4)\n",
        "xgb_reg.fit(san_francisco_resampled.drop(['price','availability_90', 'availability_365'], axis = 1), san_francisco_resampled.price)\n",
        "\n",
        "# create the first project and data collection\n",
        "tru.add_data_collection(\"Data Collection v2\")\n",
        "\n",
        "# add data splits to the collection we just created\n",
        "tru.add_data_split(\"San Francisco\", pre_data = san_francisco.drop(['availability_90', 'availability_365'], axis = 1), label_col_name = \"price\", id_col_name = \"id\", split_type = \"train\")\n",
        "tru.add_data_split(\"San Francisco - resampled\", pre_data = san_francisco_resampled.drop(['availability_90', 'availability_365'], axis = 1), label_col_name = \"price\", id_col_name = \"id\", split_type = \"train\")\n",
        "tru.add_data_split(\"Seattle\", pre_data = seattle.drop(['availability_90', 'availability_365'], axis = 1), label_col_name = \"price\", id_col_name = \"id\", split_type = \"test\")\n",
        "tru.add_data_split(\"Austin\", pre_data = austin.drop(['availability_90', 'availability_365'], axis = 1), label_col_name = \"price\", id_col_name = \"id\", split_type = \"oot\")\n",
        "\n",
        "# register the model\n",
        "tru.add_python_model(\"model_3\", xgb_reg, train_split_name=\"San Francisco - resampled\", train_parameters = {\"model_type\":\"xgb.XGBRegressor\", \"eta\":0.2, \"max_depth\":4})\n",
        "\n",
        "# sync with remote\n",
        "tru.upload_project()"
      ]
    },
    {
      "cell_type": "code",
      "execution_count": null,
      "metadata": {
        "id": "x-Ioo-Ajixce",
        "outputId": "ebef4cce-44f5-4b3a-aaba-3c2111e5b2a1"
      },
      "outputs": [
        {
          "data": {
            "text/plain": [
              "[['Stability Test - Seattle',\n",
              "  'Seattle',\n",
              "  'San Francisco',\n",
              "  'ALL POINTS',\n",
              "  'DIFFERENCE_OF_MEAN',\n",
              "  '',\n",
              "  'Not specified',\n",
              "  'DIFFERENCE_OF_MEAN < -142.44841 OR DIFFERENCE_OF_MEAN > -12.44841'],\n",
              " ['Stability Test - Austin',\n",
              "  'Austin',\n",
              "  'San Francisco',\n",
              "  'ALL POINTS',\n",
              "  'DIFFERENCE_OF_MEAN',\n",
              "  '',\n",
              "  'Not specified',\n",
              "  'DIFFERENCE_OF_MEAN < -18.244545 OR DIFFERENCE_OF_MEAN > 61.755455']]"
            ]
          },
          "execution_count": 38,
          "metadata": {},
          "output_type": "execute_result"
        }
      ],
      "source": [
        "#get the test details from model_2 so we can copy them for model_3\n",
        "tru.set_environment(\"remote\")\n",
        "tru.set_model(\"model_2\")\n",
        "tru.tester.get_model_tests().as_dict()['Stability Tests']['Rows']"
      ]
    },
    {
      "cell_type": "code",
      "execution_count": null,
      "metadata": {
        "id": "HhCY_1VZixcf",
        "outputId": "3ff6e498-04a1-4105-a16c-bceac7dc8c81"
      },
      "outputs": [
        {
          "data": {
            "text/html": [
              "\n",
              "        <html>\n",
              "        <head>\n",
              "        <style>\n",
              "        table, th, td {\n",
              "            border-radius: 5px;\n",
              "        }\n",
              "        .header {\n",
              "            font-weight: bold;\n",
              "            font-size: 14px;\n",
              "        }\n",
              "        caption {\n",
              "            font-weight: bolder;\n",
              "            font-size: 16px;\n",
              "            background-color: powderblue;\n",
              "            color: black;\n",
              "            border-radius: 5px;\n",
              "        }\n",
              "        \n",
              "            .PASSED {\n",
              "                color: black;\n",
              "                background-color: palegreen;\n",
              "            }\n",
              "            .WARNING {\n",
              "                color: black;\n",
              "                background-color: yellow;\n",
              "            }\n",
              "            .FAILED {\n",
              "                color: black;\n",
              "                background-color: pink;\n",
              "            }\n",
              "            \n",
              "        </style>\n",
              "        </head>\n",
              "        <body>\n",
              "        <table>\n",
              "            <caption>Stability Tests Results for Model \"xgboost_v3\"</caption>\n",
              "            <tr class=\"header\"><td></td><td>Name</td><td>Comparison Split</td><td>Base Split</td><td>Segment</td><td>Metric</td><td>Score</td><td>Navigate</td></tr>\n",
              "            <tr><td >✅</td><td >Stability Test - Seattle - v3</td><td >Seattle</td><td >San Francisco</td><td >ALL POINTS</td><td >DIFFERENCE_OF_MEAN</td><td class=\"PASSED\">-12.9788</td><td ><a href=\"https://eap-demo.sandbox.truera.com/p/Starter Example - Stability/m/xgboost_v3/t/stability?baseSplitName=San Francisco&compareSplitName=Seattle&splitId=2530a088-df50-489c-875a-281268683468&modelIds=14327cba-115b-4743-8517-4062e008835a&\" target=\"_blank\">Explore in UI</a></td></tr>\n",
              "        </table>\n",
              "        </body>\n",
              "        </html>\n",
              "        "
            ],
            "text/plain": [
              "<truera.client.intelligence.model_tests.ModelTestResults at 0x7fe1b0a60730>"
            ]
          },
          "execution_count": 32,
          "metadata": {},
          "output_type": "execute_result"
        }
      ],
      "source": [
        "#toggle back to remote to interact with the tester\n",
        "\n",
        "# check stability results\n",
        "tru.set_model(\"model_3\")\n",
        "tru.tester.delete_tests(test_type=\"stability\")\n",
        "# Let the warn conditions have $50 in wiggle room\n",
        "tru.tester.add_stability_test(test_name = \"Stability Test - Seattle - v3\",\n",
        "    base_data_split_name = \"San Francisco\",\n",
        "    comparison_data_split_names = [\"Seattle\"],\n",
        "    fail_if_outside = [-142.44841, -12.44841])\n",
        "\n",
        "tru.tester.get_model_test_results(test_types=[\"stability\"])"
      ]
    },
    {
      "cell_type": "markdown",
      "metadata": {
        "id": "Rh78BT9bixcf"
      },
      "source": [
        "In v3, the model passes now in Seattle. We can deploy the v2 model in Austin and v3 model in Seattle as we launch and the investors of our startup are satisfied with these results!"
      ]
    }
  ],
  "metadata": {
    "kernelspec": {
      "display_name": "Python 3.10.8 ('bug_bash')",
      "language": "python",
      "name": "python3"
    },
    "language_info": {
      "codemirror_mode": {
        "name": "ipython",
        "version": 3
      },
      "file_extension": ".py",
      "mimetype": "text/x-python",
      "name": "python",
      "nbconvert_exporter": "python",
      "pygments_lexer": "ipython3",
      "version": "3.10.8"
    },
    "orig_nbformat": 4,
    "vscode": {
      "interpreter": {
        "hash": "b6d2f329cc99867c3321bb055fe993e3910b7976c3ac48c4721da3bd29cb2372"
      }
    },
    "colab": {
      "provenance": [],
      "collapsed_sections": [
        "glAQlNBfixcb"
      ]
    }
  },
  "nbformat": 4,
  "nbformat_minor": 0
}
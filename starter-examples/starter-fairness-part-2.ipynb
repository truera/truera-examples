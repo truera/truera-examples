{
 "cells": [
  {
   "attachments": {},
   "cell_type": "markdown",
   "id": "88137095",
   "metadata": {
    "id": "88137095"
   },
   "source": [
    "# Guided Exercise: Fairness\n",
    "\n",
    "### Goals 🎯\n",
    "In this tutorial, you will view the fairness test results from part 1, identify the root cause and mitigate the fairness issues in the model.\n",
    "\n",
    "If you missed part 1, go back:     [![Open In Colab](https://colab.research.google.com/assets/colab-badge.svg)](https://colab.research.google.com/github/truera/truera-examples/blob/release/rc-1.37/starter-examples/starter-fairness-part-1.ipynb)\n",
    "\n",
    "The data used is ACS Employment data made available through the [*folktables* repository](https://github.com/zykls/folktables)\n",
    "\n",
    "### First, set the credentials for your TruEra deployment.\n",
    "If you don't have credentials yet, get them instantly by signing up for free at: https://www.truera.com"
   ]
  },
  {
   "cell_type": "code",
   "execution_count": 1,
   "id": "4299bbe9",
   "metadata": {
    "execution": {
     "iopub.execute_input": "2023-08-03T22:06:18.732445Z",
     "iopub.status.busy": "2023-08-03T22:06:18.732061Z",
     "iopub.status.idle": "2023-08-03T22:06:18.742807Z",
     "shell.execute_reply": "2023-08-03T22:06:18.741955Z",
     "shell.execute_reply.started": "2023-08-03T22:06:18.732418Z"
    },
    "id": "4299bbe9"
   },
   "outputs": [],
   "source": [
    "# connection details\n",
    "TRUERA_URL = \"https://app.truera.net/\"\n",
    "AUTH_TOKEN = \"...\""
   ]
  },
  {
   "attachments": {},
   "cell_type": "markdown",
   "id": "ce855c64",
   "metadata": {
    "id": "ce855c64"
   },
   "source": [
    "### Install required packages for running in colab"
   ]
  },
  {
   "cell_type": "code",
   "execution_count": 2,
   "id": "b19cc7f6",
   "metadata": {
    "colab": {
     "base_uri": "https://localhost:8080/"
    },
    "execution": {
     "iopub.execute_input": "2023-08-03T22:06:18.744454Z",
     "iopub.status.busy": "2023-08-03T22:06:18.744070Z",
     "iopub.status.idle": "2023-08-03T22:06:23.723619Z",
     "shell.execute_reply": "2023-08-03T22:06:23.722603Z",
     "shell.execute_reply.started": "2023-08-03T22:06:18.744427Z"
    },
    "id": "b19cc7f6",
    "outputId": "114a8281-0938-44d3-f7d5-1f2b99829f28"
   },
   "outputs": [
    {
     "name": "stdout",
     "output_type": "stream",
     "text": [
      "Requirement already satisfied: pandas==1.5.2 in /Users/davidkurokawa/opt/anaconda3/envs/demo3/lib/python3.10/site-packages (1.5.2)\n",
      "Requirement already satisfied: numpy>=1.21.0 in /Users/davidkurokawa/opt/anaconda3/envs/demo3/lib/python3.10/site-packages (from pandas==1.5.2) (1.23.5)\n",
      "Requirement already satisfied: python-dateutil>=2.8.1 in /Users/davidkurokawa/opt/anaconda3/envs/demo3/lib/python3.10/site-packages (from pandas==1.5.2) (2.8.2)\n",
      "Requirement already satisfied: pytz>=2020.1 in /Users/davidkurokawa/opt/anaconda3/envs/demo3/lib/python3.10/site-packages (from pandas==1.5.2) (2023.3)\n",
      "Requirement already satisfied: six>=1.5 in /Users/davidkurokawa/opt/anaconda3/envs/demo3/lib/python3.10/site-packages (from python-dateutil>=2.8.1->pandas==1.5.2) (1.16.0)\n"
     ]
    }
   ],
   "source": [
    "#! pip install truera\n",
    "! pip install --upgrade pandas==1.5.2"
   ]
  },
  {
   "cell_type": "code",
   "execution_count": 3,
   "id": "b35c7001-c9e1-41eb-a186-119d9c822f08",
   "metadata": {
    "execution": {
     "iopub.execute_input": "2023-08-03T22:06:23.726059Z",
     "iopub.status.busy": "2023-08-03T22:06:23.725592Z",
     "iopub.status.idle": "2023-08-03T22:06:27.051661Z",
     "shell.execute_reply": "2023-08-03T22:06:27.050833Z",
     "shell.execute_reply.started": "2023-08-03T22:06:23.726026Z"
    }
   },
   "outputs": [
    {
     "name": "stderr",
     "output_type": "stream",
     "text": [
      "INFO:truera.client.remote_truera_workspace:Connecting to 'http://localhost:8000'\n"
     ]
    }
   ],
   "source": [
    "# delete this cell\n",
    "# uncomment out install of truera\n",
    "# uncomment out workspace/auth\n",
    "# clear cell output\n",
    "\n",
    "import os\n",
    "import sys\n",
    "\n",
    "os.chdir(\"/Users/davidkurokawa/Work/code/truera/truera/python\")\n",
    "if \"/Users/davidkurokawa/Work/code/truera/truera/python\" not in sys.path:\n",
    "    sys.path.append(\"/Users/davidkurokawa/Work/code/truera/truera/python\")\n",
    "\n",
    "from truera.client.truera_authentication import BasicAuthentication, TokenAuthentication\n",
    "from truera.client.truera_workspace import TrueraWorkspace\n",
    "\n",
    "TRUERA_URL = \"http://localhost:8000\"\n",
    "AUTH_TOKEN = \"\"\n",
    "tru = TrueraWorkspace(TRUERA_URL, BasicAuthentication(\"ailens\", \"ailens123\"))"
   ]
  },
  {
   "attachments": {},
   "cell_type": "markdown",
   "id": "3f5e86b1",
   "metadata": {
    "id": "3f5e86b1"
   },
   "source": [
    "### From here, you can run the rest of the notebook to follow the analysis."
   ]
  },
  {
   "cell_type": "code",
   "execution_count": 4,
   "id": "52a0de28",
   "metadata": {
    "execution": {
     "iopub.execute_input": "2023-08-03T22:06:27.053386Z",
     "iopub.status.busy": "2023-08-03T22:06:27.052918Z",
     "iopub.status.idle": "2023-08-03T22:06:27.145346Z",
     "shell.execute_reply": "2023-08-03T22:06:27.144069Z",
     "shell.execute_reply.started": "2023-08-03T22:06:27.053360Z"
    },
    "id": "52a0de28"
   },
   "outputs": [],
   "source": [
    "import logging\n",
    "\n",
    "import pandas as pd\n",
    "import sklearn.metrics\n",
    "import xgboost as xgb\n",
    "from sklearn import preprocessing\n",
    "from sklearn.utils import resample\n",
    "from truera.client.ingestion import ColumnSpec, ModelOutputContext\n",
    "from truera.client.truera_authentication import TokenAuthentication\n",
    "from truera.client.truera_workspace import TrueraWorkspace\n",
    "\n",
    "#auth = TokenAuthentication(AUTH_TOKEN)\n",
    "#tru = TrueraWorkspace(TRUERA_URL, auth)"
   ]
  },
  {
   "cell_type": "code",
   "execution_count": 5,
   "id": "5gnWRtDQNAOa",
   "metadata": {
    "colab": {
     "base_uri": "https://localhost:8080/"
    },
    "execution": {
     "iopub.execute_input": "2023-08-03T22:06:27.150671Z",
     "iopub.status.busy": "2023-08-03T22:06:27.150310Z",
     "iopub.status.idle": "2023-08-03T22:06:27.441693Z",
     "shell.execute_reply": "2023-08-03T22:06:27.440918Z",
     "shell.execute_reply.started": "2023-08-03T22:06:27.150643Z"
    },
    "id": "5gnWRtDQNAOa",
    "outputId": "c8b0af05-fe8b-4b92-96b2-849be6441281"
   },
   "outputs": [
    {
     "name": "stderr",
     "output_type": "stream",
     "text": [
      "INFO:truera.client.remote_truera_workspace:Data collection in remote environment is now set to \"Data Collection v1\". \n"
     ]
    },
    {
     "data": {
      "text/plain": [
       "['model_1']"
      ]
     },
     "execution_count": 5,
     "metadata": {},
     "output_type": "execute_result"
    }
   ],
   "source": [
    "# create the first project and data collection\n",
    "project_name = \"Starter Example Companion - Fairness\"\n",
    "tru.set_project(project_name)\n",
    "tru.set_data_collection(\"Data Collection v1\")\n",
    "tru.get_models()"
   ]
  },
  {
   "cell_type": "code",
   "execution_count": 6,
   "id": "bc124eed-714d-488f-bdf2-a7e1ebe98788",
   "metadata": {
    "colab": {
     "base_uri": "https://localhost:8080/",
     "height": 146
    },
    "execution": {
     "iopub.execute_input": "2023-08-03T22:06:27.443426Z",
     "iopub.status.busy": "2023-08-03T22:06:27.443009Z",
     "iopub.status.idle": "2023-08-03T22:06:28.247561Z",
     "shell.execute_reply": "2023-08-03T22:06:28.246682Z",
     "shell.execute_reply.started": "2023-08-03T22:06:27.443395Z"
    },
    "id": "bc124eed-714d-488f-bdf2-a7e1ebe98788",
    "outputId": "5f12cb56-14f8-439e-bea3-ce0e024785bd"
   },
   "outputs": [
    {
     "name": "stderr",
     "output_type": "stream",
     "text": [
      "INFO:truera.client.remote_truera_workspace:Setting remote model context to \"model_1\".\n"
     ]
    },
    {
     "data": {
      "text/html": [
       "\n",
       "        <html>\n",
       "        <head>\n",
       "        <style>\n",
       "        table, th, td {\n",
       "            border-radius: 5px;\n",
       "        }\n",
       "        .header {\n",
       "            font-weight: bold;\n",
       "            font-size: 14px;\n",
       "        }\n",
       "        caption {\n",
       "            font-weight: bolder;\n",
       "            font-size: 16px;\n",
       "            background-color: powderblue;\n",
       "            color: black;\n",
       "            border-radius: 5px;\n",
       "        }\n",
       "        \n",
       "            .PASSED {\n",
       "                color: black;\n",
       "                background-color: palegreen;\n",
       "            }\n",
       "            .WARNING {\n",
       "                color: black;\n",
       "                background-color: yellow;\n",
       "            }\n",
       "            .FAILED {\n",
       "                color: black;\n",
       "                background-color: pink;\n",
       "            }\n",
       "            \n",
       "        </style>\n",
       "        </head>\n",
       "        <body>\n",
       "        <table>\n",
       "            <caption>Fairness Tests Results for Model \"model_1\"</caption>\n",
       "            <tr class=\"header\"><td></td><td>Name</td><td>Split</td><td>Protected Segment</td><td>Comparison Segment</td><td>Metric</td><td>Score</td><td>Navigate</td></tr>\n",
       "            <tr><td >❌</td><td >Impact Ratio Test</td><td >2014-CA</td><td >Sex--Female: Sex = 'Female'</td><td >REST OF POPULATION</td><td >DISPARATE_IMPACT_RATIO</td><td class=\"FAILED\">0.6502</td><td ><a href=\"http://localhost:8000/home/p/Starter%20Example%20Companion%20-%20Fairness/m/model_1/t/fairness/t/fairness-analysis?biasSegmentIdJSON=%7B%22segmentationId%22:%22180089af-f93d-4ed6-940e-472480188e15%22,%22segmentIndex%22:1%7D&splitId=59946842-c54b-4a2a-93e4-54149562fa3e&modelIds=899109a4-38ad-4506-ab24-f0c9be5ade1d&\" target=\"_blank\">Explore in UI</a></td></tr><tr><td >❌</td><td >Impact Ratio Test</td><td >2014-NY</td><td >Sex--Female: Sex = 'Female'</td><td >REST OF POPULATION</td><td >DISPARATE_IMPACT_RATIO</td><td class=\"FAILED\">0.6334</td><td ><a href=\"http://localhost:8000/home/p/Starter%20Example%20Companion%20-%20Fairness/m/model_1/t/fairness/t/fairness-analysis?biasSegmentIdJSON=%7B%22segmentationId%22:%22180089af-f93d-4ed6-940e-472480188e15%22,%22segmentIndex%22:1%7D&splitId=4458e755-5508-42c3-8a0f-a8f3d50ff92f&modelIds=899109a4-38ad-4506-ab24-f0c9be5ade1d&\" target=\"_blank\">Explore in UI</a></td></tr><tr><td >❌</td><td >Impact Ratio Test</td><td >2015-CA</td><td >Sex--Female: Sex = 'Female'</td><td >REST OF POPULATION</td><td >DISPARATE_IMPACT_RATIO</td><td class=\"FAILED\">0.6891</td><td ><a href=\"http://localhost:8000/home/p/Starter%20Example%20Companion%20-%20Fairness/m/model_1/t/fairness/t/fairness-analysis?biasSegmentIdJSON=%7B%22segmentationId%22:%22180089af-f93d-4ed6-940e-472480188e15%22,%22segmentIndex%22:1%7D&splitId=44685958-2fa0-4814-9cb8-60eb40c9ba21&modelIds=899109a4-38ad-4506-ab24-f0c9be5ade1d&\" target=\"_blank\">Explore in UI</a></td></tr><tr><td >❌</td><td >Impact Ratio Test</td><td >2015-NY</td><td >Sex--Female: Sex = 'Female'</td><td >REST OF POPULATION</td><td >DISPARATE_IMPACT_RATIO</td><td class=\"FAILED\">0.6613</td><td ><a href=\"http://localhost:8000/home/p/Starter%20Example%20Companion%20-%20Fairness/m/model_1/t/fairness/t/fairness-analysis?biasSegmentIdJSON=%7B%22segmentationId%22:%22180089af-f93d-4ed6-940e-472480188e15%22,%22segmentIndex%22:1%7D&splitId=ec590af0-70df-4b3a-8a85-75cec291c296&modelIds=899109a4-38ad-4506-ab24-f0c9be5ade1d&\" target=\"_blank\">Explore in UI</a></td></tr>\n",
       "        </table>\n",
       "        </body>\n",
       "        </html>\n",
       "        "
      ],
      "text/plain": [
       "<truera.client.intelligence.model_tests.ModelTestResults at 0x7f88aa76f820>"
      ]
     },
     "execution_count": 6,
     "metadata": {},
     "output_type": "execute_result"
    }
   ],
   "source": [
    "tru.set_model(tru.get_models()[0])\n",
    "tru.tester.get_model_test_results(test_types=[\"fairness\"])"
   ]
  },
  {
   "attachments": {},
   "cell_type": "markdown",
   "id": "062b0f35-8d10-4fd9-a8f4-59b9b2474267",
   "metadata": {
    "id": "062b0f35-8d10-4fd9-a8f4-59b9b2474267"
   },
   "source": [
    "* What? Shown in the model test results, the first version of the test fails the Impact Ratio Test.\n",
    "\n",
    "* Why? After exploring results, CA has a better impact ratio than in NY, leading us to a hypothesis that CA might have a lower difference in ground truth outcomes between men and women. This phenomenon can also be referred to as *dataset disparity*.\n",
    "\n",
    "* We can examine the dataset disparity either in the web app or in the SDK (shown below)."
   ]
  },
  {
   "cell_type": "code",
   "execution_count": 7,
   "id": "63dc2117",
   "metadata": {
    "colab": {
     "base_uri": "https://localhost:8080/"
    },
    "execution": {
     "iopub.execute_input": "2023-08-03T22:06:28.249232Z",
     "iopub.status.busy": "2023-08-03T22:06:28.248793Z",
     "iopub.status.idle": "2023-08-03T22:06:47.160478Z",
     "shell.execute_reply": "2023-08-03T22:06:47.159368Z",
     "shell.execute_reply.started": "2023-08-03T22:06:28.249194Z"
    },
    "id": "63dc2117",
    "outputId": "ee46048c-2fe3-4c53-e54a-bebce3b3f7c0"
   },
   "outputs": [
    {
     "name": "stderr",
     "output_type": "stream",
     "text": [
      "INFO:truera.client.truera_workspace:Download temp_dir: /var/folders/pg/2f8qcnr92cx4rcwpvm_x2ckc0000gn/T/tmpyzzueqm5\n",
      "INFO:truera.client.truera_workspace:Syncing data collection \"Data Collection v1\" to local.\n",
      "INFO:truera.client.local.local_truera_workspace:Data collection in local environment is now set to \"Data Collection v1\". \n",
      "INFO:truera.client.truera_workspace:Syncing data split \"2014-NY\" to local.\n",
      "INFO:truera.client.local.local_truera_workspace:Data split \"2014-NY\" is added to local data collection \"Data Collection v1\", and set as the data split for the workspace context.\n",
      "INFO:truera.client.truera_workspace:Syncing model model_1 to local.\n",
      "INFO:truera.client.local.local_truera_workspace:Model \"model_1\" is added and associated with local data collection \"Data Collection v1\". \"model_1\" is set as the model for the workspace context.\n",
      "INFO:truera.client.truera_workspace:Syncing segments groups from remote to local.\n",
      "INFO:truera.client.local.local_truera_workspace:The previous data collection (\"Data Collection v1\") and its associated data splits and/or models have been cleared from the local environment workspace context.\n",
      "INFO:truera.client.local.local_truera_workspace:Data collection in local environment is now set to \"Data Collection v1\". \n",
      "INFO:truera.client.local.local_truera_workspace:Setting local model context to \"model_1\".\n"
     ]
    },
    {
     "name": "stdout",
     "output_type": "stream",
     "text": [
      "2014-NY dataset disparity: __truera_label__   -0.124236\n",
      "dtype: float64\n"
     ]
    },
    {
     "name": "stderr",
     "output_type": "stream",
     "text": [
      "INFO:truera.client.truera_workspace:Download temp_dir: /var/folders/pg/2f8qcnr92cx4rcwpvm_x2ckc0000gn/T/tmpyzzueqm5\n",
      "INFO:truera.client.truera_workspace:Syncing data collection \"Data Collection v1\" to local.\n",
      "INFO:truera.client.truera_workspace:Syncing data split \"2014-CA\" to local.\n",
      "INFO:truera.client.local.local_truera_workspace:Data split \"2014-CA\" is added to local data collection \"Data Collection v1\", and set as the data split for the workspace context.\n",
      "WARNING:truera.client.truera_workspace:Data split \"2014-NY\" exists in local. Skipping.\n",
      "WARNING:truera.client.truera_workspace:Model \"model_1\" already exists in local. Skipping.\n",
      "INFO:truera.client.truera_workspace:Syncing segments groups from remote to local.\n",
      "WARNING:truera.client.truera_workspace:Segment group Sex already exists in local! Skipped downloading this from remote.\n",
      "WARNING:truera.client.truera_workspace:Segment group Language at home already exists in local! Skipped downloading this from remote.\n"
     ]
    },
    {
     "name": "stdout",
     "output_type": "stream",
     "text": [
      "2014-CA dataset disparity: __truera_label__   -0.107614\n",
      "dtype: float64\n"
     ]
    }
   ],
   "source": [
    "# dataset disparity for 2014-NY\n",
    "explainer = tru.get_explainer(\"2014-NY\")\n",
    "explainer.set_segment(segment_group_name=\"Sex\", segment_name=\"Female\")\n",
    "mean_outcome_females_NY_2014 = explainer.get_ys().mean()\n",
    "explainer.set_segment(segment_group_name=\"Sex\", segment_name=\"Male\")\n",
    "mean_outcome_males_NY_2014 = explainer.get_ys().mean()\n",
    "print(\"2014-NY dataset disparity: \" + str(mean_outcome_females_NY_2014 - mean_outcome_males_NY_2014))\n",
    "\n",
    "# dataset disparity for 2014-CA\n",
    "explainer = tru.get_explainer(\"2014-CA\")\n",
    "explainer.set_segment(segment_group_name=\"Sex\", segment_name=\"Female\")\n",
    "mean_outcome_females_CA_2014 = explainer.get_ys().mean()\n",
    "explainer.set_segment(segment_group_name=\"Sex\", segment_name=\"Male\")\n",
    "mean_outcome_males_CA_2014 = explainer.get_ys().mean()\n",
    "print(\"2014-CA dataset disparity: \" + str(mean_outcome_females_CA_2014 - mean_outcome_males_CA_2014))"
   ]
  },
  {
   "attachments": {},
   "cell_type": "markdown",
   "id": "d97769ad",
   "metadata": {
    "id": "d97769ad"
   },
   "source": [
    "This calculation of dataset disparity for NY and CA confirm our hypothesis.\n",
    "\n",
    "Going forward, we should retrain our model on CA with the belief that more fair training data will lead to a more fair model. But let's not stop there.\n",
    "\n",
    "* We notice that sex is included in the training data, and the second leading contributor to disparity. We should remove it so it's not learned by the model.\n",
    "\n",
    "* What next? Let's see the fairness outcome after removing sex from the training data and using CA as our training set."
   ]
  },
  {
   "cell_type": "code",
   "execution_count": 8,
   "id": "c47ac911",
   "metadata": {
    "execution": {
     "iopub.execute_input": "2023-08-03T22:06:47.162587Z",
     "iopub.status.busy": "2023-08-03T22:06:47.162234Z",
     "iopub.status.idle": "2023-08-03T22:07:33.075759Z",
     "shell.execute_reply": "2023-08-03T22:07:33.074908Z",
     "shell.execute_reply.started": "2023-08-03T22:06:47.162557Z"
    },
    "id": "c47ac911"
   },
   "outputs": [
    {
     "name": "stdout",
     "output_type": "stream",
     "text": [
      "Ingesting data-split: 2014-CA...\n"
     ]
    },
    {
     "name": "stderr",
     "output_type": "stream",
     "text": [
      "WARNING:truera.client.remote_truera_workspace:Column 'Sex_Female' found in `data`, but will be ignored as it is not specified in `column_spec`.\n",
      "WARNING:truera.client.remote_truera_workspace:Column 'Sex_Male' found in `data`, but will be ignored as it is not specified in `column_spec`.\n"
     ]
    },
    {
     "name": "stdout",
     "output_type": "stream",
     "text": [
      "Uploading tmpmuo_ypy1.parquet (175.2KiB) -- ### -- file upload complete.\n",
      "Put resource done.\n"
     ]
    },
    {
     "name": "stderr",
     "output_type": "stream",
     "text": [
      "INFO:truera.client.remote_truera_workspace:Waiting for data split to materialize...\n"
     ]
    },
    {
     "name": "stdout",
     "output_type": "stream",
     "text": [
      "Ingesting data-split: 2014-NY...\n"
     ]
    },
    {
     "name": "stderr",
     "output_type": "stream",
     "text": [
      "WARNING:truera.client.remote_truera_workspace:Column 'Sex_Female' found in `data`, but will be ignored as it is not specified in `column_spec`.\n",
      "WARNING:truera.client.remote_truera_workspace:Column 'Sex_Male' found in `data`, but will be ignored as it is not specified in `column_spec`.\n"
     ]
    },
    {
     "name": "stdout",
     "output_type": "stream",
     "text": [
      "Uploading tmpv7qd2cb1.parquet (174.2KiB) -- ### -- file upload complete.\n",
      "Put resource done.\n"
     ]
    },
    {
     "name": "stderr",
     "output_type": "stream",
     "text": [
      "INFO:truera.client.remote_truera_workspace:Waiting for data split to materialize...\n"
     ]
    },
    {
     "name": "stdout",
     "output_type": "stream",
     "text": [
      "Ingesting data-split: 2015-CA...\n"
     ]
    },
    {
     "name": "stderr",
     "output_type": "stream",
     "text": [
      "WARNING:truera.client.remote_truera_workspace:Column 'Sex_Female' found in `data`, but will be ignored as it is not specified in `column_spec`.\n",
      "WARNING:truera.client.remote_truera_workspace:Column 'Sex_Male' found in `data`, but will be ignored as it is not specified in `column_spec`.\n"
     ]
    },
    {
     "name": "stdout",
     "output_type": "stream",
     "text": [
      "Uploading tmpt1thw06j.parquet (175.3KiB) -- ### -- file upload complete.\n",
      "Put resource done.\n"
     ]
    },
    {
     "name": "stderr",
     "output_type": "stream",
     "text": [
      "INFO:truera.client.remote_truera_workspace:Waiting for data split to materialize...\n"
     ]
    },
    {
     "name": "stdout",
     "output_type": "stream",
     "text": [
      "Ingesting data-split: 2015-NY...\n"
     ]
    },
    {
     "name": "stderr",
     "output_type": "stream",
     "text": [
      "WARNING:truera.client.remote_truera_workspace:Column 'Sex_Female' found in `data`, but will be ignored as it is not specified in `column_spec`.\n",
      "WARNING:truera.client.remote_truera_workspace:Column 'Sex_Male' found in `data`, but will be ignored as it is not specified in `column_spec`.\n"
     ]
    },
    {
     "name": "stdout",
     "output_type": "stream",
     "text": [
      "Uploading tmp6m1uuhzm.parquet (174.0KiB) -- ### -- file upload complete.\n",
      "Put resource done.\n"
     ]
    },
    {
     "name": "stderr",
     "output_type": "stream",
     "text": [
      "INFO:truera.client.remote_truera_workspace:Waiting for data split to materialize...\n"
     ]
    }
   ],
   "source": [
    "# get data and feature map\n",
    "\n",
    "from smart_open import open\n",
    "\n",
    "data_s3_file_name = \"https://truera-examples.s3.us-west-2.amazonaws.com/data/starter-fairness/starter-fairness-data-compressed.pickle\"\n",
    "with open(data_s3_file_name, \"rb\") as f:\n",
    "    data = pd.read_pickle(f)\n",
    "\n",
    "feature_map_s3_file_name = \"https://truera-examples.s3.us-west-2.amazonaws.com/data/starter-fairness/starter-fairness-feature-map.pickle\"\n",
    "with open(feature_map_s3_file_name, \"rb\") as f:\n",
    "    feature_map = pd.read_pickle(f)\n",
    "feature_map.pop(\"Sex\")\n",
    "\n",
    "tru.add_data_collection(\"Data Collection v2\", pre_to_post_feature_map=feature_map, provide_transform_with_model=False)\n",
    "\n",
    "# add data splits to the collection we just created\n",
    "year_begin = 2014\n",
    "year_end = 2016  # exclusive\n",
    "states = [\"CA\", \"NY\"]\n",
    "\n",
    "for year in range(year_begin, year_end):\n",
    "    for state in states:\n",
    "        data_split_name = f\"{year}-{state}\"\n",
    "        print(f\"Ingesting data-split: {data_split_name}...\")\n",
    "        ids = [f\"{i}\" for i in range(len(data[year][state][\"data_preprocessed\"]))]\n",
    "        data[year][state][\"data_preprocessed\"][\"id\"] = ids\n",
    "        data[year][state][\"data_postprocessed\"][\"id\"] = ids\n",
    "        data[year][state][\"label\"] = pd.DataFrame(data[year][state][\"label\"])\n",
    "        data[year][state][\"label\"][\"id\"] = ids\n",
    "        data[year][state][\"extra_data\"] = pd.DataFrame(data[year][state][\"extra_data\"][[\"LANX\"]])\n",
    "        data[year][state][\"extra_data\"][\"id\"] = ids\n",
    "        # data\n",
    "        merged_data = data[year][state][\"data_preprocessed\"].\\\n",
    "            merge(data[year][state][\"data_postprocessed\"]).\\\n",
    "            merge(data[year][state][\"label\"]).\\\n",
    "            merge(data[year][state][\"extra_data\"])\n",
    "        tru.add_data(\n",
    "            data=merged_data,\n",
    "            data_split_name=data_split_name,\n",
    "            column_spec=ColumnSpec(\n",
    "                id_col_name=\"id\",\n",
    "                pre_data_col_names=list(data[year][state][\"data_preprocessed\"].columns.drop(\n",
    "                    [\"id\", \"Sex\"])),  # drop sex from pre-data\n",
    "                post_data_col_names=list(data[year][state][\"data_postprocessed\"].columns.drop(\n",
    "                    [\"id\", \"Sex_Male\", \"Sex_Female\"])),\n",
    "                label_col_names=list(data[year][state][\"label\"].columns.drop(\"id\")),\n",
    "                extra_data_col_names=list(data[year][state][\"extra_data\"].columns.drop(\"id\")) +\n",
    "                [\"Sex\"]  # add sex to extra-data\n",
    "            ))\n",
    "tru.set_influences_background_data_split(f\"{year_begin}-{states[0]}\")"
   ]
  },
  {
   "cell_type": "code",
   "execution_count": 9,
   "id": "Oc61CAfctHTI",
   "metadata": {
    "execution": {
     "iopub.execute_input": "2023-08-03T22:07:33.077640Z",
     "iopub.status.busy": "2023-08-03T22:07:33.077241Z",
     "iopub.status.idle": "2023-08-03T22:07:37.484010Z",
     "shell.execute_reply": "2023-08-03T22:07:37.483018Z",
     "shell.execute_reply.started": "2023-08-03T22:07:33.077612Z"
    },
    "id": "Oc61CAfctHTI"
   },
   "outputs": [
    {
     "name": "stderr",
     "output_type": "stream",
     "text": [
      "INFO:truera.client.remote_truera_workspace:Uploading xgboost model: XGBClassifier\n",
      "INFO:truera.client.remote_truera_workspace:Verifying model...\n",
      "INFO:truera.client.remote_truera_workspace:✔️ Verified packaged model format.\n",
      "INFO:truera.client.remote_truera_workspace:✔️ Loaded model in current environment.\n",
      "INFO:truera.client.remote_truera_workspace:✔️ Called predict on model.\n",
      "INFO:truera.client.remote_truera_workspace:✔️ Verified model output.\n",
      "INFO:truera.client.remote_truera_workspace:Verification succeeded!\n"
     ]
    },
    {
     "name": "stdout",
     "output_type": "stream",
     "text": [
      "Uploading MLmodel (222.0B) -- ### -- file upload complete.\n",
      "Uploading tmp2o9t576d.json (170.2KiB) -- ### -- file upload complete.\n",
      "Uploading conda.yaml (208.0B) -- ### -- file upload complete.\n",
      "Uploading xgboost_classification_predict_wrapper.py (573.0B) -- ### -- file upload complete.\n",
      "Uploading xgboost_classification_predict_wrapper.cpython-310.pyc (1.2KiB) -- ### -- file upload complete.\n",
      "Put resource done.\n"
     ]
    },
    {
     "name": "stderr",
     "output_type": "stream",
     "text": [
      "INFO:truera.client.remote_truera_workspace:Model \"model_2\" is added and associated with remote data collection \"Data Collection v2\". \"model_2\" is set as the model for the workspace context.\n"
     ]
    },
    {
     "name": "stdout",
     "output_type": "stream",
     "text": [
      "Model uploaded to: http://localhost:8000/home/p/Starter%20Example%20Companion%20-%20Fairness/m/model_2/\n"
     ]
    },
    {
     "name": "stderr",
     "output_type": "stream",
     "text": [
      "INFO:truera.client.remote_truera_workspace:Triggering computations for model predictions on split 2014-CA.\n",
      "INFO:truera.client.remote_truera_workspace:Data collection in remote environment is now set to \"Data Collection v2\". \n",
      "INFO:truera.client.remote_truera_workspace:Setting remote model context to \"model_2\".\n"
     ]
    }
   ],
   "source": [
    "# train xgboost\n",
    "models = {}\n",
    "model_name_v2 = \"model_2\"\n",
    "\n",
    "models[model_name_v2] = xgb.XGBClassifier(eta=0.2, max_depth=4)\n",
    "\n",
    "models[model_name_v2].fit(data[2014][\"CA\"][\"data_postprocessed\"].drop([\"Sex_Female\", \"Sex_Male\", \"id\"], axis=1),\n",
    "                          data[2014][\"CA\"][\"label\"].drop(\"id\", axis=1))\n",
    "\n",
    "train_params = {\"model_type\": \"xgb.XGBClassifier\", \"eta\": 0.2, \"max_depth\": 4}\n",
    "\n",
    "# ingest the model\n",
    "tru.set_project(project_name)\n",
    "tru.set_data_collection(\"Data Collection v2\")\n",
    "tru.add_python_model(model_name_v2, models[model_name_v2], train_split_name=\"2014-CA\", train_parameters=train_params)"
   ]
  },
  {
   "cell_type": "code",
   "execution_count": 10,
   "id": "c82af504",
   "metadata": {
    "execution": {
     "iopub.execute_input": "2023-08-03T22:07:37.486333Z",
     "iopub.status.busy": "2023-08-03T22:07:37.485323Z",
     "iopub.status.idle": "2023-08-03T22:09:19.160634Z",
     "shell.execute_reply": "2023-08-03T22:09:19.159009Z",
     "shell.execute_reply.started": "2023-08-03T22:07:37.486301Z"
    }
   },
   "outputs": [
    {
     "name": "stdout",
     "output_type": "stream",
     "text": [
      "Ingesting data-split: 2014-CA...\n"
     ]
    },
    {
     "name": "stderr",
     "output_type": "stream",
     "text": [
      "INFO:truera.client.truera_workspace:Download temp_dir: /var/folders/pg/2f8qcnr92cx4rcwpvm_x2ckc0000gn/T/tmpyzzueqm5\n",
      "INFO:truera.client.truera_workspace:Syncing data collection \"Data Collection v2\" to local.\n",
      "INFO:truera.client.local.local_truera_workspace:Data collection in local environment is now set to \"Data Collection v2\". The previous data collection (\"Data Collection v1\") and its associated data splits and/or models have been cleared from the local environment workspace context.\n",
      "INFO:truera.client.truera_workspace:Syncing data split \"2014-CA\" to local.\n",
      "INFO:truera.client.local.local_truera_workspace:Data split \"2014-CA\" is added to local data collection \"Data Collection v2\", and set as the data split for the workspace context.\n",
      "INFO:truera.client.truera_workspace:Syncing data split \"2014-NY\" to local.\n",
      "INFO:truera.client.local.local_truera_workspace:Data split \"2014-NY\" is added to local data collection \"Data Collection v2\", and set as the data split for the workspace context.\n",
      "INFO:truera.client.truera_workspace:Syncing model model_2 to local.\n",
      "INFO:truera.client.local.local_truera_workspace:Model \"model_2\" is added and associated with local data collection \"Data Collection v2\". \"model_2\" is set as the model for the workspace context.\n",
      "INFO:truera.client.truera_workspace:Syncing segments groups from remote to local.\n",
      "WARNING:truera.client.truera_workspace:Segment group Sex already exists in local! Skipped downloading this from remote.\n",
      "WARNING:truera.client.truera_workspace:Segment group Language at home already exists in local! Skipped downloading this from remote.\n",
      "INFO:truera.client.local.local_truera_workspace:Model \"model_1\" in local is associated with a different data_collection (\"Data Collection v1\") than the one in context (\"Data Collection v2\").\n",
      "INFO:truera.client.local.local_truera_workspace:Data collection in local environment is now set to \"Data Collection v1\". The previous data collection (\"Data Collection v2\") and its associated data splits and/or models have been cleared from the local environment workspace context.\n",
      "INFO:truera.client.local.local_truera_workspace:Setting local model context to \"model_1\".\n",
      "INFO:truera.client.local.local_truera_workspace:Model \"model_2\" in local is associated with a different data_collection (\"Data Collection v2\") than the one in context (\"Data Collection v1\").\n",
      "INFO:truera.client.local.local_truera_workspace:Data collection in local environment is now set to \"Data Collection v2\". The previous data collection (\"Data Collection v1\") and its associated data splits and/or models have been cleared from the local environment workspace context.\n",
      "INFO:truera.client.local.local_truera_workspace:Setting local model context to \"model_2\".\n",
      "INFO:truera.client.remote_truera_workspace:`model_output_context` will be inferred as it was not provided.\n",
      "INFO:truera.client.remote_truera_workspace:Inferred ModelOutputContext: ModelOutputContext(model_name='model_2', score_type='probits', background_split_name='', influence_type='')\n"
     ]
    },
    {
     "name": "stdout",
     "output_type": "stream",
     "text": [
      "Uploading tmpo8wfhetb.parquet (58.1KiB) -- ### -- file upload complete.\n",
      "Put resource done.\n"
     ]
    },
    {
     "name": "stderr",
     "output_type": "stream",
     "text": [
      "INFO:truera.client.remote_truera_workspace:Waiting for data split to materialize...\n",
      "INFO:truera.client.truera_workspace:Download temp_dir: /var/folders/pg/2f8qcnr92cx4rcwpvm_x2ckc0000gn/T/tmpyzzueqm5\n",
      "INFO:truera.client.local.local_truera_workspace:Data collection in local environment is now set to \"Data Collection v1\". The previous data collection (\"Data Collection v2\") and its associated data splits and/or models have been cleared from the local environment workspace context.\n",
      "INFO:truera.client.local.local_truera_workspace:Data collection in local environment is now set to \"Data Collection v2\". The previous data collection (\"Data Collection v1\") and its associated data splits and/or models have been cleared from the local environment workspace context.\n",
      "INFO:truera.client.truera_workspace:Syncing data collection \"Data Collection v2\" to local.\n",
      "WARNING:truera.client.truera_workspace:Data split \"2014-CA\" exists in local. Skipping.\n",
      "WARNING:truera.client.truera_workspace:Data split \"2014-NY\" exists in local. Skipping.\n",
      "WARNING:truera.client.truera_workspace:Model \"model_2\" already exists in local. Skipping.\n",
      "INFO:truera.client.truera_workspace:Syncing segments groups from remote to local.\n",
      "WARNING:truera.client.truera_workspace:Segment group Sex already exists in local! Skipped downloading this from remote.\n",
      "WARNING:truera.client.truera_workspace:Segment group Language at home already exists in local! Skipped downloading this from remote.\n",
      "INFO:truera.client.local.local_truera_workspace:Setting local model context to \"model_2\".\n",
      "WARNING:truera.client.local.intelligence.local_explainer:Background split for `data_collection` \"Data Collection v2\" is currently not set. Setting it to \"2014-CA\"\n"
     ]
    },
    {
     "name": "stdout",
     "output_type": "stream",
     "text": [
      "Uploading tmpa8tnc0g0.parquet (14.5KiB) -- ### -- file upload complete.\n",
      "Put resource done.\n"
     ]
    },
    {
     "name": "stderr",
     "output_type": "stream",
     "text": [
      "INFO:truera.client.remote_truera_workspace:Waiting for data split to materialize...\n"
     ]
    },
    {
     "name": "stdout",
     "output_type": "stream",
     "text": [
      "Ingesting data-split: 2014-NY...\n"
     ]
    },
    {
     "name": "stderr",
     "output_type": "stream",
     "text": [
      "INFO:truera.client.truera_workspace:Download temp_dir: /var/folders/pg/2f8qcnr92cx4rcwpvm_x2ckc0000gn/T/tmpyzzueqm5\n",
      "INFO:truera.client.local.local_truera_workspace:Data collection in local environment is now set to \"Data Collection v1\". The previous data collection (\"Data Collection v2\") and its associated data splits and/or models have been cleared from the local environment workspace context.\n",
      "INFO:truera.client.local.local_truera_workspace:Data collection in local environment is now set to \"Data Collection v2\". The previous data collection (\"Data Collection v1\") and its associated data splits and/or models have been cleared from the local environment workspace context.\n",
      "INFO:truera.client.truera_workspace:Syncing data collection \"Data Collection v2\" to local.\n",
      "WARNING:truera.client.truera_workspace:Data split \"2014-NY\" exists in local. Skipping.\n",
      "WARNING:truera.client.truera_workspace:Model \"model_2\" already exists in local. Skipping.\n",
      "INFO:truera.client.truera_workspace:Syncing segments groups from remote to local.\n",
      "WARNING:truera.client.truera_workspace:Segment group Sex already exists in local! Skipped downloading this from remote.\n",
      "WARNING:truera.client.truera_workspace:Segment group Language at home already exists in local! Skipped downloading this from remote.\n",
      "INFO:truera.client.local.local_truera_workspace:Setting local model context to \"model_2\".\n",
      "INFO:truera.client.remote_truera_workspace:`model_output_context` will be inferred as it was not provided.\n",
      "INFO:truera.client.remote_truera_workspace:Inferred ModelOutputContext: ModelOutputContext(model_name='model_2', score_type='probits', background_split_name='', influence_type='')\n"
     ]
    },
    {
     "name": "stdout",
     "output_type": "stream",
     "text": [
      "Uploading tmpoamep60c.parquet (57.7KiB) -- ### -- file upload complete.\n",
      "Put resource done.\n"
     ]
    },
    {
     "name": "stderr",
     "output_type": "stream",
     "text": [
      "INFO:truera.client.remote_truera_workspace:Waiting for data split to materialize...\n",
      "INFO:truera.client.truera_workspace:Download temp_dir: /var/folders/pg/2f8qcnr92cx4rcwpvm_x2ckc0000gn/T/tmpyzzueqm5\n",
      "INFO:truera.client.local.local_truera_workspace:Data collection in local environment is now set to \"Data Collection v1\". The previous data collection (\"Data Collection v2\") and its associated data splits and/or models have been cleared from the local environment workspace context.\n",
      "INFO:truera.client.local.local_truera_workspace:Data collection in local environment is now set to \"Data Collection v2\". The previous data collection (\"Data Collection v1\") and its associated data splits and/or models have been cleared from the local environment workspace context.\n",
      "INFO:truera.client.truera_workspace:Syncing data collection \"Data Collection v2\" to local.\n",
      "WARNING:truera.client.truera_workspace:Data split \"2014-NY\" exists in local. Skipping.\n",
      "WARNING:truera.client.truera_workspace:Model \"model_2\" already exists in local. Skipping.\n",
      "INFO:truera.client.truera_workspace:Syncing segments groups from remote to local.\n",
      "WARNING:truera.client.truera_workspace:Segment group Sex already exists in local! Skipped downloading this from remote.\n",
      "WARNING:truera.client.truera_workspace:Segment group Language at home already exists in local! Skipped downloading this from remote.\n",
      "INFO:truera.client.local.local_truera_workspace:Setting local model context to \"model_2\".\n"
     ]
    },
    {
     "name": "stdout",
     "output_type": "stream",
     "text": [
      "Uploading tmptfklsm_k.parquet (14.5KiB) -- ### -- file upload complete.\n",
      "Put resource done.\n"
     ]
    },
    {
     "name": "stderr",
     "output_type": "stream",
     "text": [
      "INFO:truera.client.remote_truera_workspace:Waiting for data split to materialize...\n"
     ]
    },
    {
     "name": "stdout",
     "output_type": "stream",
     "text": [
      "Ingesting data-split: 2015-CA...\n"
     ]
    },
    {
     "name": "stderr",
     "output_type": "stream",
     "text": [
      "INFO:truera.client.truera_workspace:Download temp_dir: /var/folders/pg/2f8qcnr92cx4rcwpvm_x2ckc0000gn/T/tmpyzzueqm5\n",
      "INFO:truera.client.local.local_truera_workspace:Data collection in local environment is now set to \"Data Collection v1\". The previous data collection (\"Data Collection v2\") and its associated data splits and/or models have been cleared from the local environment workspace context.\n",
      "INFO:truera.client.local.local_truera_workspace:Data collection in local environment is now set to \"Data Collection v2\". The previous data collection (\"Data Collection v1\") and its associated data splits and/or models have been cleared from the local environment workspace context.\n",
      "INFO:truera.client.truera_workspace:Syncing data collection \"Data Collection v2\" to local.\n",
      "WARNING:truera.client.truera_workspace:Data split \"2014-NY\" exists in local. Skipping.\n",
      "INFO:truera.client.truera_workspace:Syncing data split \"2015-CA\" to local.\n",
      "INFO:truera.client.local.local_truera_workspace:Data split \"2015-CA\" is added to local data collection \"Data Collection v2\", and set as the data split for the workspace context.\n",
      "WARNING:truera.client.truera_workspace:Model \"model_2\" already exists in local. Skipping.\n",
      "INFO:truera.client.truera_workspace:Syncing segments groups from remote to local.\n",
      "WARNING:truera.client.truera_workspace:Segment group Sex already exists in local! Skipped downloading this from remote.\n",
      "WARNING:truera.client.truera_workspace:Segment group Language at home already exists in local! Skipped downloading this from remote.\n",
      "INFO:truera.client.local.local_truera_workspace:Setting local model context to \"model_2\".\n",
      "INFO:truera.client.remote_truera_workspace:`model_output_context` will be inferred as it was not provided.\n",
      "INFO:truera.client.remote_truera_workspace:Inferred ModelOutputContext: ModelOutputContext(model_name='model_2', score_type='probits', background_split_name='', influence_type='')\n"
     ]
    },
    {
     "name": "stdout",
     "output_type": "stream",
     "text": [
      "Uploading tmpu4jos04h.parquet (58.2KiB) -- ### -- file upload complete.\n",
      "Put resource done.\n"
     ]
    },
    {
     "name": "stderr",
     "output_type": "stream",
     "text": [
      "INFO:truera.client.remote_truera_workspace:Waiting for data split to materialize...\n",
      "INFO:truera.client.truera_workspace:Download temp_dir: /var/folders/pg/2f8qcnr92cx4rcwpvm_x2ckc0000gn/T/tmpyzzueqm5\n",
      "INFO:truera.client.local.local_truera_workspace:Data collection in local environment is now set to \"Data Collection v1\". The previous data collection (\"Data Collection v2\") and its associated data splits and/or models have been cleared from the local environment workspace context.\n",
      "INFO:truera.client.local.local_truera_workspace:Data collection in local environment is now set to \"Data Collection v2\". The previous data collection (\"Data Collection v1\") and its associated data splits and/or models have been cleared from the local environment workspace context.\n",
      "INFO:truera.client.truera_workspace:Syncing data collection \"Data Collection v2\" to local.\n",
      "WARNING:truera.client.truera_workspace:Data split \"2014-NY\" exists in local. Skipping.\n",
      "WARNING:truera.client.truera_workspace:Data split \"2015-CA\" exists in local. Skipping.\n",
      "WARNING:truera.client.truera_workspace:Model \"model_2\" already exists in local. Skipping.\n",
      "INFO:truera.client.truera_workspace:Syncing segments groups from remote to local.\n",
      "WARNING:truera.client.truera_workspace:Segment group Sex already exists in local! Skipped downloading this from remote.\n",
      "WARNING:truera.client.truera_workspace:Segment group Language at home already exists in local! Skipped downloading this from remote.\n",
      "INFO:truera.client.local.local_truera_workspace:Setting local model context to \"model_2\".\n"
     ]
    },
    {
     "name": "stdout",
     "output_type": "stream",
     "text": [
      "Uploading tmpkc2zdr7_.parquet (14.5KiB) -- ### -- file upload complete.\n",
      "Put resource done.\n"
     ]
    },
    {
     "name": "stderr",
     "output_type": "stream",
     "text": [
      "INFO:truera.client.remote_truera_workspace:Waiting for data split to materialize...\n"
     ]
    },
    {
     "name": "stdout",
     "output_type": "stream",
     "text": [
      "Ingesting data-split: 2015-NY...\n"
     ]
    },
    {
     "name": "stderr",
     "output_type": "stream",
     "text": [
      "INFO:truera.client.truera_workspace:Download temp_dir: /var/folders/pg/2f8qcnr92cx4rcwpvm_x2ckc0000gn/T/tmpyzzueqm5\n",
      "INFO:truera.client.local.local_truera_workspace:Data collection in local environment is now set to \"Data Collection v1\". The previous data collection (\"Data Collection v2\") and its associated data splits and/or models have been cleared from the local environment workspace context.\n",
      "INFO:truera.client.local.local_truera_workspace:Data collection in local environment is now set to \"Data Collection v2\". The previous data collection (\"Data Collection v1\") and its associated data splits and/or models have been cleared from the local environment workspace context.\n",
      "INFO:truera.client.truera_workspace:Syncing data collection \"Data Collection v2\" to local.\n",
      "WARNING:truera.client.truera_workspace:Data split \"2014-NY\" exists in local. Skipping.\n",
      "INFO:truera.client.truera_workspace:Syncing data split \"2015-NY\" to local.\n",
      "INFO:truera.client.local.local_truera_workspace:Data split \"2015-NY\" is added to local data collection \"Data Collection v2\", and set as the data split for the workspace context.\n",
      "WARNING:truera.client.truera_workspace:Model \"model_2\" already exists in local. Skipping.\n",
      "INFO:truera.client.truera_workspace:Syncing segments groups from remote to local.\n",
      "WARNING:truera.client.truera_workspace:Segment group Sex already exists in local! Skipped downloading this from remote.\n",
      "WARNING:truera.client.truera_workspace:Segment group Language at home already exists in local! Skipped downloading this from remote.\n",
      "INFO:truera.client.local.local_truera_workspace:Setting local model context to \"model_2\".\n",
      "INFO:truera.client.remote_truera_workspace:`model_output_context` will be inferred as it was not provided.\n",
      "INFO:truera.client.remote_truera_workspace:Inferred ModelOutputContext: ModelOutputContext(model_name='model_2', score_type='probits', background_split_name='', influence_type='')\n"
     ]
    },
    {
     "name": "stdout",
     "output_type": "stream",
     "text": [
      "Uploading tmpjnjuld41.parquet (57.6KiB) -- ### -- file upload complete.\n",
      "Put resource done.\n"
     ]
    },
    {
     "name": "stderr",
     "output_type": "stream",
     "text": [
      "INFO:truera.client.remote_truera_workspace:Waiting for data split to materialize...\n",
      "INFO:truera.client.truera_workspace:Download temp_dir: /var/folders/pg/2f8qcnr92cx4rcwpvm_x2ckc0000gn/T/tmpyzzueqm5\n",
      "INFO:truera.client.local.local_truera_workspace:Data collection in local environment is now set to \"Data Collection v1\". The previous data collection (\"Data Collection v2\") and its associated data splits and/or models have been cleared from the local environment workspace context.\n",
      "INFO:truera.client.local.local_truera_workspace:Data collection in local environment is now set to \"Data Collection v2\". The previous data collection (\"Data Collection v1\") and its associated data splits and/or models have been cleared from the local environment workspace context.\n",
      "INFO:truera.client.truera_workspace:Syncing data collection \"Data Collection v2\" to local.\n",
      "WARNING:truera.client.truera_workspace:Data split \"2014-NY\" exists in local. Skipping.\n",
      "WARNING:truera.client.truera_workspace:Data split \"2015-NY\" exists in local. Skipping.\n",
      "WARNING:truera.client.truera_workspace:Model \"model_2\" already exists in local. Skipping.\n",
      "INFO:truera.client.truera_workspace:Syncing segments groups from remote to local.\n",
      "WARNING:truera.client.truera_workspace:Segment group Sex already exists in local! Skipped downloading this from remote.\n",
      "WARNING:truera.client.truera_workspace:Segment group Language at home already exists in local! Skipped downloading this from remote.\n",
      "INFO:truera.client.local.local_truera_workspace:Setting local model context to \"model_2\".\n"
     ]
    },
    {
     "name": "stdout",
     "output_type": "stream",
     "text": [
      "Uploading tmpwywcyf64.parquet (14.5KiB) -- ### -- file upload complete.\n",
      "Put resource done.\n"
     ]
    },
    {
     "name": "stderr",
     "output_type": "stream",
     "text": [
      "INFO:truera.client.remote_truera_workspace:Waiting for data split to materialize...\n"
     ]
    }
   ],
   "source": [
    "tru.set_model(\"model_2\")\n",
    "tru.set_influences_background_data_split(\"2014-NY\")\n",
    "\n",
    "# set model output context\n",
    "model_output_context = ModelOutputContext(model_name=model_name_v2,\n",
    "                                          score_type=\"probits\",\n",
    "                                          background_split_name=f\"2014-NY\",\n",
    "                                          influence_type='tree-shap-interventional')\n",
    "\n",
    "for year in range(year_begin, year_end):\n",
    "    for state in states:\n",
    "        data_split_name = f\"{year}-{state}\"\n",
    "        tru.set_data_split(data_split_name)\n",
    "        print(f\"Ingesting data-split: {data_split_name}...\")\n",
    "        preds = tru.get_ys_pred().reset_index(names=\"id\")\n",
    "        # predictions\n",
    "        tru.add_data(data=preds,\n",
    "                     data_split_name=data_split_name,\n",
    "                     column_spec=ColumnSpec(id_col_name=\"id\", prediction_col_names=\"__truera_prediction__\"))\n",
    "        # influences\n",
    "        tru.compute_feature_influences()"
   ]
  },
  {
   "cell_type": "code",
   "execution_count": 11,
   "id": "eb94f1e7-da04-470f-8f95-abba9983f9a3",
   "metadata": {
    "execution": {
     "iopub.execute_input": "2023-08-03T22:09:19.163321Z",
     "iopub.status.busy": "2023-08-03T22:09:19.162121Z",
     "iopub.status.idle": "2023-08-03T22:09:26.771309Z",
     "shell.execute_reply": "2023-08-03T22:09:26.770431Z",
     "shell.execute_reply.started": "2023-08-03T22:09:19.163272Z"
    }
   },
   "outputs": [
    {
     "data": {
      "text/html": [
       "\n",
       "        <html>\n",
       "        <head>\n",
       "        <style>\n",
       "        table, th, td {\n",
       "            border-radius: 5px;\n",
       "        }\n",
       "        .header {\n",
       "            font-weight: bold;\n",
       "            font-size: 14px;\n",
       "        }\n",
       "        caption {\n",
       "            font-weight: bolder;\n",
       "            font-size: 16px;\n",
       "            background-color: powderblue;\n",
       "            color: black;\n",
       "            border-radius: 5px;\n",
       "        }\n",
       "        \n",
       "            .PASSED {\n",
       "                color: black;\n",
       "                background-color: palegreen;\n",
       "            }\n",
       "            .WARNING {\n",
       "                color: black;\n",
       "                background-color: yellow;\n",
       "            }\n",
       "            .FAILED {\n",
       "                color: black;\n",
       "                background-color: pink;\n",
       "            }\n",
       "            \n",
       "        </style>\n",
       "        </head>\n",
       "        <body>\n",
       "        <table>\n",
       "            <caption>Fairness Tests Results for Model \"model_2\"</caption>\n",
       "            <tr class=\"header\"><td></td><td>Name</td><td>Split</td><td>Protected Segment</td><td>Comparison Segment</td><td>Metric</td><td>Score</td><td>Navigate</td></tr>\n",
       "            <tr><td >❌</td><td >Impact Ratio Test</td><td >2014-CA</td><td >Sex--Female: Sex = 'Female'</td><td >REST OF POPULATION</td><td >DISPARATE_IMPACT_RATIO</td><td class=\"FAILED\">0.7773</td><td ><a href=\"http://localhost:8000/home/p/Starter%20Example%20Companion%20-%20Fairness/m/model_2/t/fairness/t/fairness-analysis?biasSegmentIdJSON=%7B%22segmentationId%22:%22180089af-f93d-4ed6-940e-472480188e15%22,%22segmentIndex%22:1%7D&splitId=bb8bab9a-249b-4304-aa8b-8f28b3a1c75a&modelIds=f2a37d16-dc0e-417d-8589-722179e8acaa&\" target=\"_blank\">Explore in UI</a></td></tr><tr><td >❌</td><td >Impact Ratio Test</td><td >2014-NY</td><td >Sex--Female: Sex = 'Female'</td><td >REST OF POPULATION</td><td >DISPARATE_IMPACT_RATIO</td><td class=\"FAILED\">0.776</td><td ><a href=\"http://localhost:8000/home/p/Starter%20Example%20Companion%20-%20Fairness/m/model_2/t/fairness/t/fairness-analysis?biasSegmentIdJSON=%7B%22segmentationId%22:%22180089af-f93d-4ed6-940e-472480188e15%22,%22segmentIndex%22:1%7D&splitId=a0dd9a32-ad93-4adc-a345-9b4bf87ec695&modelIds=f2a37d16-dc0e-417d-8589-722179e8acaa&\" target=\"_blank\">Explore in UI</a></td></tr><tr><td >✅</td><td >Impact Ratio Test</td><td >2015-CA</td><td >Sex--Female: Sex = 'Female'</td><td >REST OF POPULATION</td><td >DISPARATE_IMPACT_RATIO</td><td class=\"PASSED\">0.8156</td><td ><a href=\"http://localhost:8000/home/p/Starter%20Example%20Companion%20-%20Fairness/m/model_2/t/fairness/t/fairness-analysis?biasSegmentIdJSON=%7B%22segmentationId%22:%22180089af-f93d-4ed6-940e-472480188e15%22,%22segmentIndex%22:1%7D&splitId=683d3f64-87c8-4eb5-a836-08ea5e9b158c&modelIds=f2a37d16-dc0e-417d-8589-722179e8acaa&\" target=\"_blank\">Explore in UI</a></td></tr><tr><td >✅</td><td >Impact Ratio Test</td><td >2015-NY</td><td >Sex--Female: Sex = 'Female'</td><td >REST OF POPULATION</td><td >DISPARATE_IMPACT_RATIO</td><td class=\"PASSED\">0.8053</td><td ><a href=\"http://localhost:8000/home/p/Starter%20Example%20Companion%20-%20Fairness/m/model_2/t/fairness/t/fairness-analysis?biasSegmentIdJSON=%7B%22segmentationId%22:%22180089af-f93d-4ed6-940e-472480188e15%22,%22segmentIndex%22:1%7D&splitId=b6cc690a-12c8-4d91-8407-4bc890bc103e&modelIds=f2a37d16-dc0e-417d-8589-722179e8acaa&\" target=\"_blank\">Explore in UI</a></td></tr>\n",
       "        </table>\n",
       "        </body>\n",
       "        </html>\n",
       "        "
      ],
      "text/plain": [
       "<truera.client.intelligence.model_tests.ModelTestResults at 0x7f88b13e5390>"
      ]
     },
     "execution_count": 11,
     "metadata": {},
     "output_type": "execute_result"
    }
   ],
   "source": [
    "# view model test results\n",
    "tru.set_model(model_name_v2)\n",
    "tru.tester.get_model_test_results(test_types=[\"fairness\"])"
   ]
  },
  {
   "attachments": {},
   "cell_type": "markdown",
   "id": "799c1964",
   "metadata": {
    "id": "799c1964"
   },
   "source": [
    "* What? Our newest model now passes 2/4 impact ratio tests.\n",
    "* Shown on the Dataset Disparity section of the Fairness page in the web app, we notice that there is a lower positive outcome rate for females in the data. Let's check the performance of females with a positive label."
   ]
  },
  {
   "cell_type": "code",
   "execution_count": 12,
   "id": "d288f60c",
   "metadata": {
    "execution": {
     "iopub.execute_input": "2023-08-03T22:09:26.772949Z",
     "iopub.status.busy": "2023-08-03T22:09:26.772433Z",
     "iopub.status.idle": "2023-08-03T22:09:30.078963Z",
     "shell.execute_reply": "2023-08-03T22:09:30.078023Z",
     "shell.execute_reply.started": "2023-08-03T22:09:26.772919Z"
    }
   },
   "outputs": [
    {
     "name": "stderr",
     "output_type": "stream",
     "text": [
      "INFO:truera.client.truera_workspace:Download temp_dir: /var/folders/pg/2f8qcnr92cx4rcwpvm_x2ckc0000gn/T/tmpyzzueqm5\n",
      "INFO:truera.client.local.local_truera_workspace:Data collection in local environment is now set to \"Data Collection v1\". The previous data collection (\"Data Collection v2\") and its associated data splits and/or models have been cleared from the local environment workspace context.\n",
      "INFO:truera.client.local.local_truera_workspace:Data collection in local environment is now set to \"Data Collection v2\". The previous data collection (\"Data Collection v1\") and its associated data splits and/or models have been cleared from the local environment workspace context.\n",
      "INFO:truera.client.truera_workspace:Syncing data collection \"Data Collection v2\" to local.\n",
      "WARNING:truera.client.truera_workspace:Data split \"2014-CA\" exists in local. Skipping.\n",
      "WARNING:truera.client.truera_workspace:Data split \"2014-NY\" exists in local. Skipping.\n",
      "WARNING:truera.client.truera_workspace:Model \"model_2\" already exists in local. Skipping.\n",
      "INFO:truera.client.truera_workspace:Syncing segments groups from remote to local.\n",
      "WARNING:truera.client.truera_workspace:Segment group Sex already exists in local! Skipped downloading this from remote.\n",
      "WARNING:truera.client.truera_workspace:Segment group Language at home already exists in local! Skipped downloading this from remote.\n",
      "INFO:truera.client.local.local_truera_workspace:Setting local model context to \"model_2\".\n"
     ]
    }
   ],
   "source": [
    "tru.set_model(model_name_v2)\n",
    "tru.set_data_split(\"2014-CA\")\n",
    "tru.add_segment_group(\n",
    "    \"Sex + Label\", {\n",
    "        \"Other\": \"(Sex == 'Male') OR (_DATA_GROUND_TRUTH == 0)\",\n",
    "        \"Female + Label 1\": \"(Sex == 'Female') AND (_DATA_GROUND_TRUTH == 1)\"\n",
    "    })\n",
    "explainer = tru.get_explainer(base_data_split=\"2014-CA\")"
   ]
  },
  {
   "cell_type": "code",
   "execution_count": 13,
   "id": "f7ae8d87",
   "metadata": {
    "execution": {
     "iopub.execute_input": "2023-08-03T22:09:30.080683Z",
     "iopub.status.busy": "2023-08-03T22:09:30.080192Z",
     "iopub.status.idle": "2023-08-03T22:09:30.145872Z",
     "shell.execute_reply": "2023-08-03T22:09:30.144593Z",
     "shell.execute_reply.started": "2023-08-03T22:09:30.080655Z"
    }
   },
   "outputs": [
    {
     "name": "stdout",
     "output_type": "stream",
     "text": [
      "Female + label 1 performance: 0.7719298245614035\n",
      "Other performance: 0.8663113994439295\n"
     ]
    }
   ],
   "source": [
    "explainer.set_segment(segment_group_name=\"Sex + Label\", segment_name=\"Female + Label 1\")\n",
    "print(\"Female + label 1 performance: \" + str(explainer.compute_performance(metric_type=\"CLASSIFICATION_ACCURACY\")))\n",
    "explainer.set_segment(segment_group_name=\"Sex + Label\", segment_name=\"Other\")\n",
    "print(\"Other performance: \" + str(explainer.compute_performance(metric_type=\"CLASSIFICATION_ACCURACY\")))"
   ]
  },
  {
   "attachments": {},
   "cell_type": "markdown",
   "id": "a7edb6de",
   "metadata": {
    "id": "a7edb6de"
   },
   "source": [
    "Our hunch was correct. To correct for this, rebalance the training set by overampling female with label==1 in train set because female with label==1 has more error than rest_of_pop with label==1"
   ]
  },
  {
   "cell_type": "code",
   "execution_count": 14,
   "id": "1c53005b-136c-47d5-896b-d752b331368b",
   "metadata": {
    "execution": {
     "iopub.execute_input": "2023-08-03T22:09:30.198990Z",
     "iopub.status.busy": "2023-08-03T22:09:30.147891Z",
     "iopub.status.idle": "2023-08-03T22:09:30.212975Z",
     "shell.execute_reply": "2023-08-03T22:09:30.208562Z",
     "shell.execute_reply.started": "2023-08-03T22:09:30.198926Z"
    },
    "id": "1c53005b-136c-47d5-896b-d752b331368b"
   },
   "outputs": [],
   "source": [
    "def rebalance_gender(df, data_type):\n",
    "    if data_type == 0:\n",
    "        df_female_true = df[(df[\"Sex\"] == \"Female\") & (df[\"PINCP\"] == True)]\n",
    "        df_else = df[~((df[\"Sex\"] == \"Female\") & (df[\"PINCP\"] == True))]\n",
    "    else:\n",
    "        df_female_true = df[(df[\"Sex_Female\"] == 1) & (df[\"PINCP\"] == True)]\n",
    "        df_else = df[~((df[\"Sex_Female\"] == 1) & (df[\"PINCP\"] == True))]\n",
    "\n",
    "    if data_type == 0:\n",
    "        num_samples = len(df[(df[\"Sex\"] == \"Male\") & (df[\"PINCP\"] == True)])\n",
    "    else:\n",
    "        num_samples = len(df[(df[\"Sex_Male\"] == 1) & (df[\"PINCP\"] == True)])\n",
    "    # Resample female target segment so that they are the same size as male\n",
    "    df_female_true_resampled = resample(\n",
    "        df_female_true,\n",
    "        replace=True,\n",
    "        n_samples=num_samples,\n",
    "        random_state=1  # include random seed so we can perform same sampling on each data set\n",
    "    )\n",
    "\n",
    "    return pd.concat([df_female_true_resampled, df_else])"
   ]
  },
  {
   "cell_type": "code",
   "execution_count": 15,
   "id": "201f3c31",
   "metadata": {
    "execution": {
     "iopub.execute_input": "2023-08-03T22:09:30.219228Z",
     "iopub.status.busy": "2023-08-03T22:09:30.217244Z",
     "iopub.status.idle": "2023-08-03T22:09:30.347384Z",
     "shell.execute_reply": "2023-08-03T22:09:30.346481Z",
     "shell.execute_reply.started": "2023-08-03T22:09:30.219186Z"
    },
    "id": "201f3c31"
   },
   "outputs": [],
   "source": [
    "data[2014][\"CA\"][\"data_preprocessed_resampled\"] = rebalance_gender(data[2014][\"CA\"][\"data_preprocessed\"].reset_index(drop=True).\\\n",
    "                                        merge(data[2014][\"CA\"][\"label\"].reset_index(drop=True), on=\"id\"), 0).drop([\"Sex\",\"PINCP\"], axis=1)\n",
    "data[2014][\"CA\"][\"data_postprocessed_resampled\"] = rebalance_gender(data[2014][\"CA\"][\"data_postprocessed\"].reset_index(drop=True).\\\n",
    "                                        merge(data[2014][\"CA\"][\"label\"].reset_index(drop=True), on=\"id\"), 1).drop([\"Sex_Male\",\"Sex_Female\", \"PINCP\"], axis=1)\n",
    "data[2014][\"CA\"][\"label_resampled\"] = rebalance_gender(pd.DataFrame(data[2014][\"CA\"][\"label\"].reset_index(drop=True)).\\\n",
    "                                        merge(data[2014][\"CA\"][\"data_preprocessed\"].reset_index(drop=True), on=\"id\"), 0).drop([\"Sex\"], axis=1)[[\"PINCP\",\"id\"]]\n",
    "data[2014][\"CA\"][\"extra_data_resampled\"] = rebalance_gender(pd.DataFrame(data[2014][\"CA\"][\"extra_data\"].reset_index(drop=True)).\\\n",
    "                                        merge(data[2014][\"CA\"][\"data_preprocessed\"].reset_index(drop=True), on=\"id\").\\\n",
    "                                        merge(data[2014][\"CA\"][\"label\"].reset_index(drop=True), on=\"id\"), 0)[[\"LANX\",\"id\",\"Sex\"]]\n",
    "\n",
    "ids = [f\"{i}\" for i in range(len(data[2014][\"CA\"][\"data_preprocessed_resampled\"]))]\n",
    "data[2014][\"CA\"][\"data_preprocessed_resampled\"][\"id\"] = ids\n",
    "data[2014][\"CA\"][\"data_postprocessed_resampled\"][\"id\"] = ids\n",
    "data[2014][\"CA\"][\"label_resampled\"][\"id\"] = ids\n",
    "data[2014][\"CA\"][\"extra_data_resampled\"][\"id\"] = ids"
   ]
  },
  {
   "cell_type": "code",
   "execution_count": 16,
   "id": "474b6edb",
   "metadata": {
    "execution": {
     "iopub.execute_input": "2023-08-03T22:09:30.348869Z",
     "iopub.status.busy": "2023-08-03T22:09:30.348456Z",
     "iopub.status.idle": "2023-08-03T22:09:42.438880Z",
     "shell.execute_reply": "2023-08-03T22:09:42.437888Z",
     "shell.execute_reply.started": "2023-08-03T22:09:30.348842Z"
    }
   },
   "outputs": [
    {
     "name": "stdout",
     "output_type": "stream",
     "text": [
      "Uploading tmp1xrnrkz0.parquet (178.2KiB) -- ### -- file upload complete.\n",
      "Put resource done.\n"
     ]
    },
    {
     "name": "stderr",
     "output_type": "stream",
     "text": [
      "INFO:truera.client.remote_truera_workspace:Waiting for data split to materialize...\n"
     ]
    }
   ],
   "source": [
    "merged_data = data[2014][\"CA\"][\"data_preprocessed_resampled\"].\\\n",
    "            merge(data[2014][\"CA\"][\"data_postprocessed_resampled\"]).\\\n",
    "            merge(data[2014][\"CA\"][\"label_resampled\"]).\\\n",
    "            merge(data[2014][\"CA\"][\"extra_data_resampled\"])\n",
    "tru.add_data(data=merged_data,\n",
    "             data_split_name=\"2014-CA-resampled\",\n",
    "             column_spec=ColumnSpec(\n",
    "                 id_col_name=\"id\",\n",
    "                 pre_data_col_names=list(data[2014][\"CA\"][\"data_preprocessed_resampled\"].columns.drop([\"id\"])),\n",
    "                 post_data_col_names=list(data[2014][\"CA\"][\"data_postprocessed_resampled\"].columns.drop([\"id\"])),\n",
    "                 label_col_names=list(data[2014][\"CA\"][\"label_resampled\"].columns.drop(\"id\")),\n",
    "                 extra_data_col_names=list(data[2014][\"CA\"][\"extra_data_resampled\"].columns.drop(\"id\"))))"
   ]
  },
  {
   "cell_type": "code",
   "execution_count": 17,
   "id": "z0HEF2dmtU3U",
   "metadata": {
    "execution": {
     "iopub.execute_input": "2023-08-03T22:09:42.441270Z",
     "iopub.status.busy": "2023-08-03T22:09:42.440720Z",
     "iopub.status.idle": "2023-08-03T22:09:46.335375Z",
     "shell.execute_reply": "2023-08-03T22:09:46.334523Z",
     "shell.execute_reply.started": "2023-08-03T22:09:42.441240Z"
    },
    "id": "z0HEF2dmtU3U"
   },
   "outputs": [
    {
     "name": "stderr",
     "output_type": "stream",
     "text": [
      "INFO:truera.client.remote_truera_workspace:Uploading xgboost model: XGBClassifier\n",
      "INFO:truera.client.remote_truera_workspace:Verifying model...\n",
      "INFO:truera.client.remote_truera_workspace:✔️ Verified packaged model format.\n",
      "INFO:truera.client.remote_truera_workspace:✔️ Loaded model in current environment.\n",
      "INFO:truera.client.remote_truera_workspace:✔️ Called predict on model.\n",
      "INFO:truera.client.remote_truera_workspace:✔️ Verified model output.\n",
      "INFO:truera.client.remote_truera_workspace:Verification succeeded!\n"
     ]
    },
    {
     "name": "stdout",
     "output_type": "stream",
     "text": [
      "Uploading MLmodel (222.0B) -- ### -- file upload complete.\n",
      "Uploading tmp259xq10y.json (165.8KiB) -- ### -- file upload complete.\n",
      "Uploading conda.yaml (208.0B) -- ### -- file upload complete.\n",
      "Uploading xgboost_classification_predict_wrapper.py (573.0B) -- ### -- file upload complete.\n",
      "Uploading xgboost_classification_predict_wrapper.cpython-310.pyc (1.2KiB) -- ### -- file upload complete.\n",
      "Put resource done.\n"
     ]
    },
    {
     "name": "stderr",
     "output_type": "stream",
     "text": [
      "INFO:truera.client.remote_truera_workspace:Model \"model_3\" is added and associated with remote data collection \"Data Collection v2\". \"model_3\" is set as the model for the workspace context.\n"
     ]
    },
    {
     "name": "stdout",
     "output_type": "stream",
     "text": [
      "Model uploaded to: http://localhost:8000/home/p/Starter%20Example%20Companion%20-%20Fairness/m/model_3/\n"
     ]
    },
    {
     "name": "stderr",
     "output_type": "stream",
     "text": [
      "INFO:truera.client.remote_truera_workspace:Triggering computations for model predictions on split 2014-NY.\n",
      "WARNING:truera.client.remote_truera_workspace:Failed to autotrigger computations. See error: Score types not found\n",
      "INFO:truera.client.remote_truera_workspace:Data collection in remote environment is now set to \"Data Collection v2\". \n",
      "INFO:truera.client.remote_truera_workspace:Setting remote model context to \"model_3\".\n"
     ]
    }
   ],
   "source": [
    "# train xgboost\n",
    "model_name_v3 = \"model_3\"\n",
    "\n",
    "models[model_name_v3] = xgb.XGBClassifier(eta=0.2, max_depth=4)\n",
    "models[model_name_v3].fit(data[2014][\"CA\"][\"data_postprocessed_resampled\"].drop(\"id\", axis=1),\n",
    "                          data[2014][\"CA\"][\"label_resampled\"].drop(\"id\", axis=1))\n",
    "\n",
    "# ingest the model\n",
    "tru.add_python_model(model_name_v3,\n",
    "                     models[model_name_v3],\n",
    "                     train_split_name=\"2014-CA-resampled\",\n",
    "                     train_parameters=train_params)"
   ]
  },
  {
   "cell_type": "code",
   "execution_count": 18,
   "id": "ee08960c",
   "metadata": {
    "execution": {
     "iopub.execute_input": "2023-08-03T22:09:46.338079Z",
     "iopub.status.busy": "2023-08-03T22:09:46.337351Z",
     "iopub.status.idle": "2023-08-03T22:10:11.140471Z",
     "shell.execute_reply": "2023-08-03T22:10:11.139620Z",
     "shell.execute_reply.started": "2023-08-03T22:09:46.338047Z"
    }
   },
   "outputs": [
    {
     "name": "stdout",
     "output_type": "stream",
     "text": [
      "Ingesting data-split: 2014-CA-resampled...\n"
     ]
    },
    {
     "name": "stderr",
     "output_type": "stream",
     "text": [
      "INFO:truera.client.truera_workspace:Download temp_dir: /var/folders/pg/2f8qcnr92cx4rcwpvm_x2ckc0000gn/T/tmpyzzueqm5\n",
      "INFO:truera.client.local.local_truera_workspace:Data collection in local environment is now set to \"Data Collection v1\". The previous data collection (\"Data Collection v2\") and its associated data splits and/or models have been cleared from the local environment workspace context.\n",
      "INFO:truera.client.local.local_truera_workspace:Data collection in local environment is now set to \"Data Collection v2\". The previous data collection (\"Data Collection v1\") and its associated data splits and/or models have been cleared from the local environment workspace context.\n",
      "INFO:truera.client.truera_workspace:Syncing data collection \"Data Collection v2\" to local.\n",
      "INFO:truera.client.truera_workspace:Syncing data split \"2014-CA-resampled\" to local.\n",
      "INFO:truera.client.local.local_truera_workspace:Data split \"2014-CA-resampled\" is added to local data collection \"Data Collection v2\", and set as the data split for the workspace context.\n",
      "INFO:truera.client.truera_workspace:Syncing model model_3 to local.\n",
      "INFO:truera.client.local.local_truera_workspace:Model \"model_3\" is added and associated with local data collection \"Data Collection v2\". \"model_3\" is set as the model for the workspace context.\n",
      "INFO:truera.client.truera_workspace:Syncing segments groups from remote to local.\n",
      "WARNING:truera.client.truera_workspace:Segment group Sex already exists in local! Skipped downloading this from remote.\n",
      "WARNING:truera.client.truera_workspace:Segment group Language at home already exists in local! Skipped downloading this from remote.\n",
      "WARNING:truera.client.truera_workspace:Segment group Sex + Label already exists in local! Skipped downloading this from remote.\n",
      "INFO:truera.client.local.local_truera_workspace:Setting local model context to \"model_2\".\n",
      "INFO:truera.client.local.local_truera_workspace:Setting local model context to \"model_3\".\n",
      "INFO:truera.client.remote_truera_workspace:`model_output_context` will be inferred as it was not provided.\n",
      "INFO:truera.client.remote_truera_workspace:Inferred ModelOutputContext: ModelOutputContext(model_name='model_3', score_type='probits', background_split_name='', influence_type='')\n"
     ]
    },
    {
     "name": "stdout",
     "output_type": "stream",
     "text": [
      "Uploading tmp1__csb4v.parquet (61.1KiB) -- ### -- file upload complete.\n",
      "Put resource done.\n"
     ]
    },
    {
     "name": "stderr",
     "output_type": "stream",
     "text": [
      "INFO:truera.client.remote_truera_workspace:Waiting for data split to materialize...\n",
      "INFO:truera.client.truera_workspace:Download temp_dir: /var/folders/pg/2f8qcnr92cx4rcwpvm_x2ckc0000gn/T/tmpyzzueqm5\n",
      "INFO:truera.client.local.local_truera_workspace:Data collection in local environment is now set to \"Data Collection v1\". The previous data collection (\"Data Collection v2\") and its associated data splits and/or models have been cleared from the local environment workspace context.\n",
      "INFO:truera.client.local.local_truera_workspace:Data collection in local environment is now set to \"Data Collection v2\". The previous data collection (\"Data Collection v1\") and its associated data splits and/or models have been cleared from the local environment workspace context.\n",
      "INFO:truera.client.truera_workspace:Syncing data collection \"Data Collection v2\" to local.\n",
      "WARNING:truera.client.truera_workspace:Data split \"2014-CA-resampled\" exists in local. Skipping.\n",
      "WARNING:truera.client.truera_workspace:Model \"model_3\" already exists in local. Skipping.\n",
      "INFO:truera.client.truera_workspace:Syncing segments groups from remote to local.\n",
      "WARNING:truera.client.truera_workspace:Segment group Sex already exists in local! Skipped downloading this from remote.\n",
      "WARNING:truera.client.truera_workspace:Segment group Language at home already exists in local! Skipped downloading this from remote.\n",
      "WARNING:truera.client.truera_workspace:Segment group Sex + Label already exists in local! Skipped downloading this from remote.\n",
      "INFO:truera.client.local.local_truera_workspace:Setting local model context to \"model_3\".\n"
     ]
    },
    {
     "name": "stdout",
     "output_type": "stream",
     "text": [
      "Uploading tmphhb0rsua.parquet (14.5KiB) -- ### -- file upload complete.\n",
      "Put resource done.\n"
     ]
    },
    {
     "name": "stderr",
     "output_type": "stream",
     "text": [
      "INFO:truera.client.remote_truera_workspace:Waiting for data split to materialize...\n"
     ]
    },
    {
     "data": {
      "text/html": [
       "<div>\n",
       "<style scoped>\n",
       "    .dataframe tbody tr th:only-of-type {\n",
       "        vertical-align: middle;\n",
       "    }\n",
       "\n",
       "    .dataframe tbody tr th {\n",
       "        vertical-align: top;\n",
       "    }\n",
       "\n",
       "    .dataframe thead th {\n",
       "        text-align: right;\n",
       "    }\n",
       "</style>\n",
       "<table border=\"1\" class=\"dataframe\">\n",
       "  <thead>\n",
       "    <tr style=\"text-align: right;\">\n",
       "      <th></th>\n",
       "      <th>Age</th>\n",
       "      <th>Class_of_worker</th>\n",
       "      <th>Marital_status</th>\n",
       "      <th>Relationship</th>\n",
       "      <th>Education_attainment</th>\n",
       "      <th>Work_hours_per_week</th>\n",
       "      <th>Occupation_area</th>\n",
       "      <th>Race</th>\n",
       "    </tr>\n",
       "    <tr>\n",
       "      <th>6b1c748f-3a69-43a1-8125-79d660af0c90</th>\n",
       "      <th></th>\n",
       "      <th></th>\n",
       "      <th></th>\n",
       "      <th></th>\n",
       "      <th></th>\n",
       "      <th></th>\n",
       "      <th></th>\n",
       "      <th></th>\n",
       "    </tr>\n",
       "  </thead>\n",
       "  <tbody>\n",
       "    <tr>\n",
       "      <th>5329</th>\n",
       "      <td>0.062600</td>\n",
       "      <td>-0.006303</td>\n",
       "      <td>0.019363</td>\n",
       "      <td>0.043392</td>\n",
       "      <td>0.132384</td>\n",
       "      <td>0.091780</td>\n",
       "      <td>0.167688</td>\n",
       "      <td>-0.017412</td>\n",
       "    </tr>\n",
       "    <tr>\n",
       "      <th>1970</th>\n",
       "      <td>0.025450</td>\n",
       "      <td>-0.041165</td>\n",
       "      <td>-0.008946</td>\n",
       "      <td>0.017926</td>\n",
       "      <td>-0.049954</td>\n",
       "      <td>0.049862</td>\n",
       "      <td>-0.253300</td>\n",
       "      <td>-0.001106</td>\n",
       "    </tr>\n",
       "    <tr>\n",
       "      <th>4612</th>\n",
       "      <td>-0.168059</td>\n",
       "      <td>0.003331</td>\n",
       "      <td>-0.020178</td>\n",
       "      <td>-0.040817</td>\n",
       "      <td>-0.079256</td>\n",
       "      <td>0.000743</td>\n",
       "      <td>0.005924</td>\n",
       "      <td>0.009545</td>\n",
       "    </tr>\n",
       "    <tr>\n",
       "      <th>4897</th>\n",
       "      <td>0.086994</td>\n",
       "      <td>0.115345</td>\n",
       "      <td>0.026898</td>\n",
       "      <td>0.071541</td>\n",
       "      <td>0.104078</td>\n",
       "      <td>-0.087838</td>\n",
       "      <td>0.025532</td>\n",
       "      <td>0.021203</td>\n",
       "    </tr>\n",
       "    <tr>\n",
       "      <th>363</th>\n",
       "      <td>0.063667</td>\n",
       "      <td>-0.078509</td>\n",
       "      <td>0.013049</td>\n",
       "      <td>-0.092652</td>\n",
       "      <td>0.132105</td>\n",
       "      <td>0.260099</td>\n",
       "      <td>0.107027</td>\n",
       "      <td>0.058507</td>\n",
       "    </tr>\n",
       "    <tr>\n",
       "      <th>...</th>\n",
       "      <td>...</td>\n",
       "      <td>...</td>\n",
       "      <td>...</td>\n",
       "      <td>...</td>\n",
       "      <td>...</td>\n",
       "      <td>...</td>\n",
       "      <td>...</td>\n",
       "      <td>...</td>\n",
       "    </tr>\n",
       "    <tr>\n",
       "      <th>4463</th>\n",
       "      <td>0.084367</td>\n",
       "      <td>0.030146</td>\n",
       "      <td>0.015766</td>\n",
       "      <td>0.026285</td>\n",
       "      <td>-0.072431</td>\n",
       "      <td>-0.073311</td>\n",
       "      <td>-0.080442</td>\n",
       "      <td>-0.077592</td>\n",
       "    </tr>\n",
       "    <tr>\n",
       "      <th>5087</th>\n",
       "      <td>-0.097702</td>\n",
       "      <td>-0.004884</td>\n",
       "      <td>-0.002827</td>\n",
       "      <td>-0.037647</td>\n",
       "      <td>-0.051907</td>\n",
       "      <td>-0.078970</td>\n",
       "      <td>-0.075990</td>\n",
       "      <td>0.004802</td>\n",
       "    </tr>\n",
       "    <tr>\n",
       "      <th>933</th>\n",
       "      <td>0.066994</td>\n",
       "      <td>0.005356</td>\n",
       "      <td>0.019708</td>\n",
       "      <td>0.019279</td>\n",
       "      <td>0.108000</td>\n",
       "      <td>0.209093</td>\n",
       "      <td>-0.000161</td>\n",
       "      <td>0.026896</td>\n",
       "    </tr>\n",
       "    <tr>\n",
       "      <th>2754</th>\n",
       "      <td>0.071651</td>\n",
       "      <td>-0.003272</td>\n",
       "      <td>0.026662</td>\n",
       "      <td>0.062341</td>\n",
       "      <td>0.082455</td>\n",
       "      <td>0.064490</td>\n",
       "      <td>0.043741</td>\n",
       "      <td>0.034906</td>\n",
       "    </tr>\n",
       "    <tr>\n",
       "      <th>180</th>\n",
       "      <td>0.079513</td>\n",
       "      <td>0.003013</td>\n",
       "      <td>0.019400</td>\n",
       "      <td>0.049571</td>\n",
       "      <td>0.123263</td>\n",
       "      <td>0.205596</td>\n",
       "      <td>-0.082423</td>\n",
       "      <td>0.025069</td>\n",
       "    </tr>\n",
       "  </tbody>\n",
       "</table>\n",
       "<p>100 rows × 8 columns</p>\n",
       "</div>"
      ],
      "text/plain": [
       "                                           Age  Class_of_worker  \\\n",
       "6b1c748f-3a69-43a1-8125-79d660af0c90                              \n",
       "5329                                  0.062600        -0.006303   \n",
       "1970                                  0.025450        -0.041165   \n",
       "4612                                 -0.168059         0.003331   \n",
       "4897                                  0.086994         0.115345   \n",
       "363                                   0.063667        -0.078509   \n",
       "...                                        ...              ...   \n",
       "4463                                  0.084367         0.030146   \n",
       "5087                                 -0.097702        -0.004884   \n",
       "933                                   0.066994         0.005356   \n",
       "2754                                  0.071651        -0.003272   \n",
       "180                                   0.079513         0.003013   \n",
       "\n",
       "                                      Marital_status  Relationship  \\\n",
       "6b1c748f-3a69-43a1-8125-79d660af0c90                                 \n",
       "5329                                        0.019363      0.043392   \n",
       "1970                                       -0.008946      0.017926   \n",
       "4612                                       -0.020178     -0.040817   \n",
       "4897                                        0.026898      0.071541   \n",
       "363                                         0.013049     -0.092652   \n",
       "...                                              ...           ...   \n",
       "4463                                        0.015766      0.026285   \n",
       "5087                                       -0.002827     -0.037647   \n",
       "933                                         0.019708      0.019279   \n",
       "2754                                        0.026662      0.062341   \n",
       "180                                         0.019400      0.049571   \n",
       "\n",
       "                                      Education_attainment  \\\n",
       "6b1c748f-3a69-43a1-8125-79d660af0c90                         \n",
       "5329                                              0.132384   \n",
       "1970                                             -0.049954   \n",
       "4612                                             -0.079256   \n",
       "4897                                              0.104078   \n",
       "363                                               0.132105   \n",
       "...                                                    ...   \n",
       "4463                                             -0.072431   \n",
       "5087                                             -0.051907   \n",
       "933                                               0.108000   \n",
       "2754                                              0.082455   \n",
       "180                                               0.123263   \n",
       "\n",
       "                                      Work_hours_per_week  Occupation_area  \\\n",
       "6b1c748f-3a69-43a1-8125-79d660af0c90                                         \n",
       "5329                                             0.091780         0.167688   \n",
       "1970                                             0.049862        -0.253300   \n",
       "4612                                             0.000743         0.005924   \n",
       "4897                                            -0.087838         0.025532   \n",
       "363                                              0.260099         0.107027   \n",
       "...                                                   ...              ...   \n",
       "4463                                            -0.073311        -0.080442   \n",
       "5087                                            -0.078970        -0.075990   \n",
       "933                                              0.209093        -0.000161   \n",
       "2754                                             0.064490         0.043741   \n",
       "180                                              0.205596        -0.082423   \n",
       "\n",
       "                                          Race  \n",
       "6b1c748f-3a69-43a1-8125-79d660af0c90            \n",
       "5329                                 -0.017412  \n",
       "1970                                 -0.001106  \n",
       "4612                                  0.009545  \n",
       "4897                                  0.021203  \n",
       "363                                   0.058507  \n",
       "...                                        ...  \n",
       "4463                                 -0.077592  \n",
       "5087                                  0.004802  \n",
       "933                                   0.026896  \n",
       "2754                                  0.034906  \n",
       "180                                   0.025069  \n",
       "\n",
       "[100 rows x 8 columns]"
      ]
     },
     "execution_count": 18,
     "metadata": {},
     "output_type": "execute_result"
    }
   ],
   "source": [
    "tru.set_model(model_name_v3)\n",
    "tru.set_influences_background_data_split(\"2014-CA-resampled\")\n",
    "\n",
    "# set model output context\n",
    "model_output_context = ModelOutputContext(model_name=model_name_v3,\n",
    "                                          score_type=\"probits\",\n",
    "                                          background_split_name=f\"2014-CA-resampled\",\n",
    "                                          influence_type='tree-shap-interventional')\n",
    "\n",
    "data_split_name = \"2014-CA-resampled\"\n",
    "tru.set_data_split(data_split_name)\n",
    "print(f\"Ingesting data-split: 2014-CA-resampled...\")\n",
    "\n",
    "# predictions\n",
    "preds = tru.get_ys_pred().reset_index(names=\"id\")\n",
    "tru.add_data(data=preds,\n",
    "             data_split_name=data_split_name,\n",
    "             column_spec=ColumnSpec(id_col_name=\"id\", prediction_col_names=\"__truera_prediction__\"))\n",
    "\n",
    "# influences\n",
    "tru.compute_feature_influences()"
   ]
  },
  {
   "cell_type": "code",
   "execution_count": 19,
   "id": "857dae64",
   "metadata": {
    "execution": {
     "iopub.execute_input": "2023-08-03T22:10:11.142203Z",
     "iopub.status.busy": "2023-08-03T22:10:11.141672Z",
     "iopub.status.idle": "2023-08-03T22:11:17.739935Z",
     "shell.execute_reply": "2023-08-03T22:11:17.739021Z",
     "shell.execute_reply.started": "2023-08-03T22:10:11.142174Z"
    }
   },
   "outputs": [
    {
     "name": "stdout",
     "output_type": "stream",
     "text": [
      "Ingesting data-split: 2014-CA...\n"
     ]
    },
    {
     "name": "stderr",
     "output_type": "stream",
     "text": [
      "INFO:truera.client.truera_workspace:Download temp_dir: /var/folders/pg/2f8qcnr92cx4rcwpvm_x2ckc0000gn/T/tmpyzzueqm5\n",
      "INFO:truera.client.local.local_truera_workspace:Data collection in local environment is now set to \"Data Collection v1\". The previous data collection (\"Data Collection v2\") and its associated data splits and/or models have been cleared from the local environment workspace context.\n",
      "INFO:truera.client.local.local_truera_workspace:Data collection in local environment is now set to \"Data Collection v2\". The previous data collection (\"Data Collection v1\") and its associated data splits and/or models have been cleared from the local environment workspace context.\n",
      "INFO:truera.client.truera_workspace:Syncing data collection \"Data Collection v2\" to local.\n",
      "WARNING:truera.client.truera_workspace:Data split \"2014-CA\" exists in local. Skipping.\n",
      "WARNING:truera.client.truera_workspace:Data split \"2014-CA-resampled\" exists in local. Skipping.\n",
      "WARNING:truera.client.truera_workspace:Model \"model_3\" already exists in local. Skipping.\n",
      "INFO:truera.client.truera_workspace:Syncing segments groups from remote to local.\n",
      "WARNING:truera.client.truera_workspace:Segment group Sex already exists in local! Skipped downloading this from remote.\n",
      "WARNING:truera.client.truera_workspace:Segment group Language at home already exists in local! Skipped downloading this from remote.\n",
      "WARNING:truera.client.truera_workspace:Segment group Sex + Label already exists in local! Skipped downloading this from remote.\n",
      "INFO:truera.client.local.local_truera_workspace:Setting local model context to \"model_3\".\n",
      "INFO:truera.client.remote_truera_workspace:`model_output_context` will be inferred as it was not provided.\n",
      "INFO:truera.client.remote_truera_workspace:Inferred ModelOutputContext: ModelOutputContext(model_name='model_3', score_type='probits', background_split_name='', influence_type='')\n"
     ]
    },
    {
     "name": "stdout",
     "output_type": "stream",
     "text": [
      "Uploading tmpej5entzk.parquet (58.1KiB) -- ### -- file upload complete.\n",
      "Put resource done.\n"
     ]
    },
    {
     "name": "stderr",
     "output_type": "stream",
     "text": [
      "INFO:truera.client.remote_truera_workspace:Waiting for data split to materialize...\n",
      "INFO:truera.client.truera_workspace:Download temp_dir: /var/folders/pg/2f8qcnr92cx4rcwpvm_x2ckc0000gn/T/tmpyzzueqm5\n",
      "INFO:truera.client.local.local_truera_workspace:Data collection in local environment is now set to \"Data Collection v1\". The previous data collection (\"Data Collection v2\") and its associated data splits and/or models have been cleared from the local environment workspace context.\n",
      "INFO:truera.client.local.local_truera_workspace:Data collection in local environment is now set to \"Data Collection v2\". The previous data collection (\"Data Collection v1\") and its associated data splits and/or models have been cleared from the local environment workspace context.\n",
      "INFO:truera.client.truera_workspace:Syncing data collection \"Data Collection v2\" to local.\n",
      "WARNING:truera.client.truera_workspace:Data split \"2014-CA\" exists in local. Skipping.\n",
      "WARNING:truera.client.truera_workspace:Data split \"2014-CA-resampled\" exists in local. Skipping.\n",
      "WARNING:truera.client.truera_workspace:Model \"model_3\" already exists in local. Skipping.\n",
      "INFO:truera.client.truera_workspace:Syncing segments groups from remote to local.\n",
      "WARNING:truera.client.truera_workspace:Segment group Sex already exists in local! Skipped downloading this from remote.\n",
      "WARNING:truera.client.truera_workspace:Segment group Language at home already exists in local! Skipped downloading this from remote.\n",
      "WARNING:truera.client.truera_workspace:Segment group Sex + Label already exists in local! Skipped downloading this from remote.\n",
      "INFO:truera.client.local.local_truera_workspace:Setting local model context to \"model_3\".\n"
     ]
    },
    {
     "name": "stdout",
     "output_type": "stream",
     "text": [
      "Uploading tmphm57zpdm.parquet (14.5KiB) -- ### -- file upload complete.\n",
      "Put resource done.\n"
     ]
    },
    {
     "name": "stderr",
     "output_type": "stream",
     "text": [
      "INFO:truera.client.remote_truera_workspace:Waiting for data split to materialize...\n"
     ]
    },
    {
     "name": "stdout",
     "output_type": "stream",
     "text": [
      "Ingesting data-split: 2014-NY...\n"
     ]
    },
    {
     "name": "stderr",
     "output_type": "stream",
     "text": [
      "INFO:truera.client.truera_workspace:Download temp_dir: /var/folders/pg/2f8qcnr92cx4rcwpvm_x2ckc0000gn/T/tmpyzzueqm5\n",
      "INFO:truera.client.local.local_truera_workspace:Data collection in local environment is now set to \"Data Collection v1\". The previous data collection (\"Data Collection v2\") and its associated data splits and/or models have been cleared from the local environment workspace context.\n",
      "INFO:truera.client.local.local_truera_workspace:Data collection in local environment is now set to \"Data Collection v2\". The previous data collection (\"Data Collection v1\") and its associated data splits and/or models have been cleared from the local environment workspace context.\n",
      "INFO:truera.client.truera_workspace:Syncing data collection \"Data Collection v2\" to local.\n",
      "WARNING:truera.client.truera_workspace:Data split \"2014-NY\" exists in local. Skipping.\n",
      "WARNING:truera.client.truera_workspace:Data split \"2014-CA-resampled\" exists in local. Skipping.\n",
      "WARNING:truera.client.truera_workspace:Model \"model_3\" already exists in local. Skipping.\n",
      "INFO:truera.client.truera_workspace:Syncing segments groups from remote to local.\n",
      "WARNING:truera.client.truera_workspace:Segment group Sex already exists in local! Skipped downloading this from remote.\n",
      "WARNING:truera.client.truera_workspace:Segment group Language at home already exists in local! Skipped downloading this from remote.\n",
      "WARNING:truera.client.truera_workspace:Segment group Sex + Label already exists in local! Skipped downloading this from remote.\n",
      "INFO:truera.client.local.local_truera_workspace:Setting local model context to \"model_3\".\n",
      "INFO:truera.client.remote_truera_workspace:`model_output_context` will be inferred as it was not provided.\n",
      "INFO:truera.client.remote_truera_workspace:Inferred ModelOutputContext: ModelOutputContext(model_name='model_3', score_type='probits', background_split_name='', influence_type='')\n"
     ]
    },
    {
     "name": "stdout",
     "output_type": "stream",
     "text": [
      "Uploading tmpe6jwi84j.parquet (57.5KiB) -- ### -- file upload complete.\n",
      "Put resource done.\n"
     ]
    },
    {
     "name": "stderr",
     "output_type": "stream",
     "text": [
      "INFO:truera.client.remote_truera_workspace:Waiting for data split to materialize...\n",
      "INFO:truera.client.truera_workspace:Download temp_dir: /var/folders/pg/2f8qcnr92cx4rcwpvm_x2ckc0000gn/T/tmpyzzueqm5\n",
      "INFO:truera.client.local.local_truera_workspace:Data collection in local environment is now set to \"Data Collection v1\". The previous data collection (\"Data Collection v2\") and its associated data splits and/or models have been cleared from the local environment workspace context.\n",
      "INFO:truera.client.local.local_truera_workspace:Data collection in local environment is now set to \"Data Collection v2\". The previous data collection (\"Data Collection v1\") and its associated data splits and/or models have been cleared from the local environment workspace context.\n",
      "INFO:truera.client.truera_workspace:Syncing data collection \"Data Collection v2\" to local.\n",
      "WARNING:truera.client.truera_workspace:Data split \"2014-NY\" exists in local. Skipping.\n",
      "WARNING:truera.client.truera_workspace:Data split \"2014-CA-resampled\" exists in local. Skipping.\n",
      "WARNING:truera.client.truera_workspace:Model \"model_3\" already exists in local. Skipping.\n",
      "INFO:truera.client.truera_workspace:Syncing segments groups from remote to local.\n",
      "WARNING:truera.client.truera_workspace:Segment group Sex already exists in local! Skipped downloading this from remote.\n",
      "WARNING:truera.client.truera_workspace:Segment group Language at home already exists in local! Skipped downloading this from remote.\n",
      "WARNING:truera.client.truera_workspace:Segment group Sex + Label already exists in local! Skipped downloading this from remote.\n",
      "INFO:truera.client.local.local_truera_workspace:Setting local model context to \"model_3\".\n"
     ]
    },
    {
     "name": "stdout",
     "output_type": "stream",
     "text": [
      "Uploading tmp4qqvywlr.parquet (14.5KiB) -- ### -- file upload complete.\n",
      "Put resource done.\n"
     ]
    },
    {
     "name": "stderr",
     "output_type": "stream",
     "text": [
      "INFO:truera.client.remote_truera_workspace:Waiting for data split to materialize...\n"
     ]
    },
    {
     "name": "stdout",
     "output_type": "stream",
     "text": [
      "Ingesting data-split: 2015-CA...\n"
     ]
    },
    {
     "name": "stderr",
     "output_type": "stream",
     "text": [
      "INFO:truera.client.truera_workspace:Download temp_dir: /var/folders/pg/2f8qcnr92cx4rcwpvm_x2ckc0000gn/T/tmpyzzueqm5\n",
      "INFO:truera.client.local.local_truera_workspace:Data collection in local environment is now set to \"Data Collection v1\". The previous data collection (\"Data Collection v2\") and its associated data splits and/or models have been cleared from the local environment workspace context.\n",
      "INFO:truera.client.local.local_truera_workspace:Data collection in local environment is now set to \"Data Collection v2\". The previous data collection (\"Data Collection v1\") and its associated data splits and/or models have been cleared from the local environment workspace context.\n",
      "INFO:truera.client.truera_workspace:Syncing data collection \"Data Collection v2\" to local.\n",
      "WARNING:truera.client.truera_workspace:Data split \"2015-CA\" exists in local. Skipping.\n",
      "WARNING:truera.client.truera_workspace:Data split \"2014-CA-resampled\" exists in local. Skipping.\n",
      "WARNING:truera.client.truera_workspace:Model \"model_3\" already exists in local. Skipping.\n",
      "INFO:truera.client.truera_workspace:Syncing segments groups from remote to local.\n",
      "WARNING:truera.client.truera_workspace:Segment group Sex already exists in local! Skipped downloading this from remote.\n",
      "WARNING:truera.client.truera_workspace:Segment group Language at home already exists in local! Skipped downloading this from remote.\n",
      "WARNING:truera.client.truera_workspace:Segment group Sex + Label already exists in local! Skipped downloading this from remote.\n",
      "INFO:truera.client.local.local_truera_workspace:Setting local model context to \"model_3\".\n",
      "INFO:truera.client.remote_truera_workspace:`model_output_context` will be inferred as it was not provided.\n",
      "INFO:truera.client.remote_truera_workspace:Inferred ModelOutputContext: ModelOutputContext(model_name='model_3', score_type='probits', background_split_name='', influence_type='')\n"
     ]
    },
    {
     "name": "stdout",
     "output_type": "stream",
     "text": [
      "Uploading tmpgy78x9vq.parquet (58.1KiB) -- ### -- file upload complete.\n",
      "Put resource done.\n"
     ]
    },
    {
     "name": "stderr",
     "output_type": "stream",
     "text": [
      "INFO:truera.client.remote_truera_workspace:Waiting for data split to materialize...\n",
      "INFO:truera.client.truera_workspace:Download temp_dir: /var/folders/pg/2f8qcnr92cx4rcwpvm_x2ckc0000gn/T/tmpyzzueqm5\n",
      "INFO:truera.client.local.local_truera_workspace:Data collection in local environment is now set to \"Data Collection v1\". The previous data collection (\"Data Collection v2\") and its associated data splits and/or models have been cleared from the local environment workspace context.\n",
      "INFO:truera.client.local.local_truera_workspace:Data collection in local environment is now set to \"Data Collection v2\". The previous data collection (\"Data Collection v1\") and its associated data splits and/or models have been cleared from the local environment workspace context.\n",
      "INFO:truera.client.truera_workspace:Syncing data collection \"Data Collection v2\" to local.\n",
      "WARNING:truera.client.truera_workspace:Data split \"2015-CA\" exists in local. Skipping.\n",
      "WARNING:truera.client.truera_workspace:Data split \"2014-CA-resampled\" exists in local. Skipping.\n",
      "WARNING:truera.client.truera_workspace:Model \"model_3\" already exists in local. Skipping.\n",
      "INFO:truera.client.truera_workspace:Syncing segments groups from remote to local.\n",
      "WARNING:truera.client.truera_workspace:Segment group Sex already exists in local! Skipped downloading this from remote.\n",
      "WARNING:truera.client.truera_workspace:Segment group Language at home already exists in local! Skipped downloading this from remote.\n",
      "WARNING:truera.client.truera_workspace:Segment group Sex + Label already exists in local! Skipped downloading this from remote.\n",
      "INFO:truera.client.local.local_truera_workspace:Setting local model context to \"model_3\".\n"
     ]
    },
    {
     "name": "stdout",
     "output_type": "stream",
     "text": [
      "Uploading tmp2uv967s3.parquet (14.5KiB) -- ### -- file upload complete.\n",
      "Put resource done.\n"
     ]
    },
    {
     "name": "stderr",
     "output_type": "stream",
     "text": [
      "INFO:truera.client.remote_truera_workspace:Waiting for data split to materialize...\n"
     ]
    },
    {
     "name": "stdout",
     "output_type": "stream",
     "text": [
      "Ingesting data-split: 2015-NY...\n"
     ]
    },
    {
     "name": "stderr",
     "output_type": "stream",
     "text": [
      "INFO:truera.client.truera_workspace:Download temp_dir: /var/folders/pg/2f8qcnr92cx4rcwpvm_x2ckc0000gn/T/tmpyzzueqm5\n",
      "INFO:truera.client.local.local_truera_workspace:Data collection in local environment is now set to \"Data Collection v1\". The previous data collection (\"Data Collection v2\") and its associated data splits and/or models have been cleared from the local environment workspace context.\n",
      "INFO:truera.client.local.local_truera_workspace:Data collection in local environment is now set to \"Data Collection v2\". The previous data collection (\"Data Collection v1\") and its associated data splits and/or models have been cleared from the local environment workspace context.\n",
      "INFO:truera.client.truera_workspace:Syncing data collection \"Data Collection v2\" to local.\n",
      "WARNING:truera.client.truera_workspace:Data split \"2015-NY\" exists in local. Skipping.\n",
      "WARNING:truera.client.truera_workspace:Data split \"2014-CA-resampled\" exists in local. Skipping.\n",
      "WARNING:truera.client.truera_workspace:Model \"model_3\" already exists in local. Skipping.\n",
      "INFO:truera.client.truera_workspace:Syncing segments groups from remote to local.\n",
      "WARNING:truera.client.truera_workspace:Segment group Sex already exists in local! Skipped downloading this from remote.\n",
      "WARNING:truera.client.truera_workspace:Segment group Language at home already exists in local! Skipped downloading this from remote.\n",
      "WARNING:truera.client.truera_workspace:Segment group Sex + Label already exists in local! Skipped downloading this from remote.\n",
      "INFO:truera.client.local.local_truera_workspace:Setting local model context to \"model_3\".\n",
      "INFO:truera.client.remote_truera_workspace:`model_output_context` will be inferred as it was not provided.\n",
      "INFO:truera.client.remote_truera_workspace:Inferred ModelOutputContext: ModelOutputContext(model_name='model_3', score_type='probits', background_split_name='', influence_type='')\n"
     ]
    },
    {
     "name": "stdout",
     "output_type": "stream",
     "text": [
      "Uploading tmp8xe60x55.parquet (57.6KiB) -- ### -- file upload complete.\n",
      "Put resource done.\n"
     ]
    },
    {
     "name": "stderr",
     "output_type": "stream",
     "text": [
      "INFO:truera.client.remote_truera_workspace:Waiting for data split to materialize...\n",
      "INFO:truera.client.truera_workspace:Download temp_dir: /var/folders/pg/2f8qcnr92cx4rcwpvm_x2ckc0000gn/T/tmpyzzueqm5\n",
      "INFO:truera.client.local.local_truera_workspace:Data collection in local environment is now set to \"Data Collection v1\". The previous data collection (\"Data Collection v2\") and its associated data splits and/or models have been cleared from the local environment workspace context.\n",
      "INFO:truera.client.local.local_truera_workspace:Data collection in local environment is now set to \"Data Collection v2\". The previous data collection (\"Data Collection v1\") and its associated data splits and/or models have been cleared from the local environment workspace context.\n",
      "INFO:truera.client.truera_workspace:Syncing data collection \"Data Collection v2\" to local.\n",
      "WARNING:truera.client.truera_workspace:Data split \"2015-NY\" exists in local. Skipping.\n",
      "WARNING:truera.client.truera_workspace:Data split \"2014-CA-resampled\" exists in local. Skipping.\n",
      "WARNING:truera.client.truera_workspace:Model \"model_3\" already exists in local. Skipping.\n",
      "INFO:truera.client.truera_workspace:Syncing segments groups from remote to local.\n",
      "WARNING:truera.client.truera_workspace:Segment group Sex already exists in local! Skipped downloading this from remote.\n",
      "WARNING:truera.client.truera_workspace:Segment group Language at home already exists in local! Skipped downloading this from remote.\n",
      "WARNING:truera.client.truera_workspace:Segment group Sex + Label already exists in local! Skipped downloading this from remote.\n",
      "INFO:truera.client.local.local_truera_workspace:Setting local model context to \"model_3\".\n"
     ]
    },
    {
     "name": "stdout",
     "output_type": "stream",
     "text": [
      "Uploading tmp5n93qn0e.parquet (14.5KiB) -- ### -- file upload complete.\n",
      "Put resource done.\n"
     ]
    },
    {
     "name": "stderr",
     "output_type": "stream",
     "text": [
      "INFO:truera.client.remote_truera_workspace:Waiting for data split to materialize...\n"
     ]
    }
   ],
   "source": [
    "for year in range(year_begin, year_end):\n",
    "    for state in states:\n",
    "        data_split_name = f\"{year}-{state}\"\n",
    "        tru.set_data_split(data_split_name)\n",
    "        print(f\"Ingesting data-split: {data_split_name}...\")\n",
    "        preds = tru.get_ys_pred().reset_index(names=\"id\")\n",
    "        # predictions\n",
    "        tru.add_data(data=preds,\n",
    "                     data_split_name=data_split_name,\n",
    "                     column_spec=ColumnSpec(id_col_name=\"id\", prediction_col_names=\"__truera_prediction__\"))\n",
    "        # influences\n",
    "        tru.compute_feature_influences()"
   ]
  },
  {
   "cell_type": "code",
   "execution_count": 20,
   "id": "b104cee5-e74e-46b7-af73-2ab98cdbbf18",
   "metadata": {
    "execution": {
     "iopub.execute_input": "2023-08-03T22:11:17.750767Z",
     "iopub.status.busy": "2023-08-03T22:11:17.750408Z",
     "iopub.status.idle": "2023-08-03T22:11:26.666226Z",
     "shell.execute_reply": "2023-08-03T22:11:26.665298Z",
     "shell.execute_reply.started": "2023-08-03T22:11:17.750740Z"
    }
   },
   "outputs": [
    {
     "data": {
      "text/html": [
       "\n",
       "        <html>\n",
       "        <head>\n",
       "        <style>\n",
       "        table, th, td {\n",
       "            border-radius: 5px;\n",
       "        }\n",
       "        .header {\n",
       "            font-weight: bold;\n",
       "            font-size: 14px;\n",
       "        }\n",
       "        caption {\n",
       "            font-weight: bolder;\n",
       "            font-size: 16px;\n",
       "            background-color: powderblue;\n",
       "            color: black;\n",
       "            border-radius: 5px;\n",
       "        }\n",
       "        \n",
       "            .PASSED {\n",
       "                color: black;\n",
       "                background-color: palegreen;\n",
       "            }\n",
       "            .WARNING {\n",
       "                color: black;\n",
       "                background-color: yellow;\n",
       "            }\n",
       "            .FAILED {\n",
       "                color: black;\n",
       "                background-color: pink;\n",
       "            }\n",
       "            \n",
       "        </style>\n",
       "        </head>\n",
       "        <body>\n",
       "        <table>\n",
       "            <caption>Fairness Tests Results for Model \"model_3\"</caption>\n",
       "            <tr class=\"header\"><td></td><td>Name</td><td>Split</td><td>Protected Segment</td><td>Comparison Segment</td><td>Metric</td><td>Score</td><td>Navigate</td></tr>\n",
       "            <tr><td >✅</td><td >Impact Ratio Test</td><td >2014-CA</td><td >Sex--Female: Sex = 'Female'</td><td >REST OF POPULATION</td><td >DISPARATE_IMPACT_RATIO</td><td class=\"PASSED\">0.8213</td><td ><a href=\"http://localhost:8000/home/p/Starter%20Example%20Companion%20-%20Fairness/m/model_3/t/fairness/t/fairness-analysis?biasSegmentIdJSON=%7B%22segmentationId%22:%22180089af-f93d-4ed6-940e-472480188e15%22,%22segmentIndex%22:1%7D&splitId=bb8bab9a-249b-4304-aa8b-8f28b3a1c75a&modelIds=8eeadf39-d523-4964-90e4-abf943e2ca88&\" target=\"_blank\">Explore in UI</a></td></tr><tr><td >✅</td><td >Impact Ratio Test</td><td >2014-NY</td><td >Sex--Female: Sex = 'Female'</td><td >REST OF POPULATION</td><td >DISPARATE_IMPACT_RATIO</td><td class=\"PASSED\">0.8079</td><td ><a href=\"http://localhost:8000/home/p/Starter%20Example%20Companion%20-%20Fairness/m/model_3/t/fairness/t/fairness-analysis?biasSegmentIdJSON=%7B%22segmentationId%22:%22180089af-f93d-4ed6-940e-472480188e15%22,%22segmentIndex%22:1%7D&splitId=a0dd9a32-ad93-4adc-a345-9b4bf87ec695&modelIds=8eeadf39-d523-4964-90e4-abf943e2ca88&\" target=\"_blank\">Explore in UI</a></td></tr><tr><td >✅</td><td >Impact Ratio Test</td><td >2015-CA</td><td >Sex--Female: Sex = 'Female'</td><td >REST OF POPULATION</td><td >DISPARATE_IMPACT_RATIO</td><td class=\"PASSED\">0.8539</td><td ><a href=\"http://localhost:8000/home/p/Starter%20Example%20Companion%20-%20Fairness/m/model_3/t/fairness/t/fairness-analysis?biasSegmentIdJSON=%7B%22segmentationId%22:%22180089af-f93d-4ed6-940e-472480188e15%22,%22segmentIndex%22:1%7D&splitId=683d3f64-87c8-4eb5-a836-08ea5e9b158c&modelIds=8eeadf39-d523-4964-90e4-abf943e2ca88&\" target=\"_blank\">Explore in UI</a></td></tr><tr><td >✅</td><td >Impact Ratio Test</td><td >2015-NY</td><td >Sex--Female: Sex = 'Female'</td><td >REST OF POPULATION</td><td >DISPARATE_IMPACT_RATIO</td><td class=\"PASSED\">0.827</td><td ><a href=\"http://localhost:8000/home/p/Starter%20Example%20Companion%20-%20Fairness/m/model_3/t/fairness/t/fairness-analysis?biasSegmentIdJSON=%7B%22segmentationId%22:%22180089af-f93d-4ed6-940e-472480188e15%22,%22segmentIndex%22:1%7D&splitId=b6cc690a-12c8-4d91-8407-4bc890bc103e&modelIds=8eeadf39-d523-4964-90e4-abf943e2ca88&\" target=\"_blank\">Explore in UI</a></td></tr><tr><td >✅</td><td >Impact Ratio Test</td><td >2014-CA-resampled</td><td >Sex--Female: Sex = 'Female'</td><td >REST OF POPULATION</td><td >DISPARATE_IMPACT_RATIO</td><td class=\"PASSED\">1.048</td><td ><a href=\"http://localhost:8000/home/p/Starter%20Example%20Companion%20-%20Fairness/m/model_3/t/fairness/t/fairness-analysis?biasSegmentIdJSON=%7B%22segmentationId%22:%22180089af-f93d-4ed6-940e-472480188e15%22,%22segmentIndex%22:1%7D&splitId=8c3cc48c-0161-4764-afcc-51ad70f876fd&modelIds=8eeadf39-d523-4964-90e4-abf943e2ca88&\" target=\"_blank\">Explore in UI</a></td></tr>\n",
       "        </table>\n",
       "        </body>\n",
       "        </html>\n",
       "        "
      ],
      "text/plain": [
       "<truera.client.intelligence.model_tests.ModelTestResults at 0x7f88aa76f3a0>"
      ]
     },
     "execution_count": 20,
     "metadata": {},
     "output_type": "execute_result"
    }
   ],
   "source": [
    "# view model test results\n",
    "tru.set_model(model_name_v3)\n",
    "tru.tester.get_model_test_results(test_types=[\"fairness\"])"
   ]
  },
  {
   "attachments": {},
   "cell_type": "markdown",
   "id": "7ddb76b1-c90b-4f7b-a684-1128412c4955",
   "metadata": {
    "id": "7ddb76b1-c90b-4f7b-a684-1128412c4955"
   },
   "source": [
    "### After rebalancing, the model passes 4/4 impact ratio tests, giving us confidence in the fairness of the model."
   ]
  }
 ],
 "metadata": {
  "colab": {
   "collapsed_sections": [
    "ce855c64"
   ],
   "provenance": []
  },
  "kernelspec": {
   "display_name": "demo3",
   "language": "python",
   "name": "demo3"
  },
  "language_info": {
   "codemirror_mode": {
    "name": "ipython",
    "version": 3
   },
   "file_extension": ".py",
   "mimetype": "text/x-python",
   "name": "python",
   "nbconvert_exporter": "python",
   "pygments_lexer": "ipython3",
   "version": "3.10.6"
  },
  "vscode": {
   "interpreter": {
    "hash": "b4f2e5daa82a60c8a70e0d3e9bda538f88cddb8e82481cb13c1d3f460faace44"
   }
  }
 },
 "nbformat": 4,
 "nbformat_minor": 5
}

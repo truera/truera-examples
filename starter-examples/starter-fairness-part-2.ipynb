{
  "cells": [
    {
      "cell_type": "markdown",
      "id": "88137095",
      "metadata": {
        "id": "88137095"
      },
      "source": [
        "# Guided Exercise: Fairness\n",
        "\n",
        "#### Goals 🎯\n",
        "In this tutorial, you will view the fairness test results from part 1, identify the root cause and mitigate the fairness issues in the model.\n",
        "\n",
        "If you missed part 1, go back:     [![Open In Colab](https://colab.research.google.com/assets/colab-badge.svg)](https://colab.research.google.com/drive/1AZAlCVjX_zFijKndMK2VRwmbDv5Uh_Jo)\n",
        "\n",
        "The data used is ACS Employment data made available through the *folktables* repository (https://github.com/zykls/folktables)\n",
        "\n",
        "### First, set the credentials for your TruEra deployment."
      ]
    },
    {
      "cell_type": "code",
      "execution_count": null,
      "id": "4299bbe9",
      "metadata": {
        "id": "4299bbe9"
      },
      "outputs": [],
      "source": [
        "#connection details\n",
        "CONNECTION_STRING = \"\"\n",
        "AUTH_TOKEN = \"\""
      ]
    },
    {
      "cell_type": "markdown",
      "id": "ce855c64",
      "metadata": {
        "id": "ce855c64"
      },
      "source": [
        "### Install required packages"
      ]
    },
    {
      "cell_type": "code",
      "execution_count": null,
      "id": "0ca2043d",
      "metadata": {},
      "outputs": [],
      "source": [
        "! pip install --upgrade shap\n",
        "! pip install --upgrade truera"
      ]
    },
    {
      "cell_type": "markdown",
      "id": "3f5e86b1",
      "metadata": {
        "id": "3f5e86b1"
      },
      "source": [
        "### From here, you can run the rest of the notebook to follow the analysis."
      ]
    },
    {
      "cell_type": "code",
      "execution_count": null,
      "id": "52a0de28",
      "metadata": {
        "id": "52a0de28"
      },
      "outputs": [],
      "source": [
        "import pandas as pd\n",
        "import xgboost as xgb\n",
        "from sklearn import preprocessing\n",
        "import sklearn.metrics\n",
        "from sklearn.utils import resample\n",
        "import logging\n",
        "\n",
        "from truera.client.truera_workspace import TrueraWorkspace\n",
        "from truera.client.truera_authentication import TokenAuthentication\n",
        "\n",
        "auth = TokenAuthentication(AUTH_TOKEN)\n",
        "tru = TrueraWorkspace(CONNECTION_STRING, auth, ignore_version_mismatch=True, log_level=logging.ERROR)\n",
        "\n",
        "# set our environment to remote to view the test results from part one\n",
        "tru.set_environment(\"remote\")\n",
        "# note: we'll periodically toggle between local and remote so we can interact with our remote deployment as well."
      ]
    },
    {
      "cell_type": "code",
      "execution_count": null,
      "id": "5gnWRtDQNAOa",
      "metadata": {
        "colab": {
          "base_uri": "https://localhost:8080/"
        },
        "id": "5gnWRtDQNAOa",
        "outputId": "e4cc4d7c-a950-4108-fc4a-bf1eb3dd5efc"
      },
      "outputs": [
        {
          "data": {
            "text/plain": [
              "['model_1']"
            ]
          },
          "execution_count": 4,
          "metadata": {},
          "output_type": "execute_result"
        }
      ],
      "source": [
        "# create the first project and data collection\n",
        "project_name = \"Starter Example - Fairness\"\n",
        "tru.set_project(project_name)\n",
        "tru.set_data_collection(\"Data Collection v1\")\n",
        "tru.get_models()"
      ]
    },
    {
      "cell_type": "code",
      "execution_count": null,
      "id": "bc124eed-714d-488f-bdf2-a7e1ebe98788",
      "metadata": {
        "colab": {
          "base_uri": "https://localhost:8080/",
          "height": 146
        },
        "id": "bc124eed-714d-488f-bdf2-a7e1ebe98788",
        "outputId": "bf6708a0-b6cb-4e9c-e8f5-8c133375e3d4"
      },
      "outputs": [
        {
          "data": {
            "text/html": [
              "\n",
              "        <html>\n",
              "        <head>\n",
              "        <style>\n",
              "        table, th, td {\n",
              "            border-radius: 5px;\n",
              "        }\n",
              "        .header {\n",
              "            font-weight: bold;\n",
              "            font-size: 14px;\n",
              "        }\n",
              "        caption {\n",
              "            font-weight: bolder;\n",
              "            font-size: 16px;\n",
              "            background-color: powderblue;\n",
              "            color: black;\n",
              "            border-radius: 5px;\n",
              "        }\n",
              "        \n",
              "            .PASSED {\n",
              "                color: black;\n",
              "                background-color: palegreen;\n",
              "            }\n",
              "            .WARNING {\n",
              "                color: black;\n",
              "                background-color: yellow;\n",
              "            }\n",
              "            .FAILED {\n",
              "                color: black;\n",
              "                background-color: pink;\n",
              "            }\n",
              "            \n",
              "        </style>\n",
              "        </head>\n",
              "        <body>\n",
              "        <table>\n",
              "            <caption>Fairness Tests Results for Model \"model_1\"</caption>\n",
              "            <tr class=\"header\"><td></td><td>Name</td><td>Split</td><td>Protected Segment</td><td>Comparison Segment</td><td>Metric</td><td>Score</td><td>Navigate</td></tr>\n",
              "            <tr><td >❌</td><td >Impact Ratio Test</td><td >2014-CA</td><td >Sex--Female: Sex = 'Female'</td><td >REST OF POPULATION</td><td >DISPARATE_IMPACT_RATIO</td><td class=\"FAILED\">0.6358</td><td ><a href=\"https://daily-demo-truera1.sandbox.truera.com/p/Starter%20Example%20-%20Fairness/m/model_1/t/fairness/t/fairness-analysis?biasSegmentIdJSON=%7B%22segmentationId%22:%220f421620-5a2f-478d-b28c-187745758f59%22,%22segmentIndex%22:1%7D&splitId=ea0041ad-a541-44b4-bea8-72a30e093130&modelIds=f5acff5a-ca2b-4708-88c0-492965f0e3e0&\" target=\"_blank\">Explore in UI</a></td></tr><tr><td >❌</td><td >Impact Ratio Test</td><td >2014-NY</td><td >Sex--Female: Sex = 'Female'</td><td >REST OF POPULATION</td><td >DISPARATE_IMPACT_RATIO</td><td class=\"FAILED\">0.6227</td><td ><a href=\"https://daily-demo-truera1.sandbox.truera.com/p/Starter%20Example%20-%20Fairness/m/model_1/t/fairness/t/fairness-analysis?biasSegmentIdJSON=%7B%22segmentationId%22:%220f421620-5a2f-478d-b28c-187745758f59%22,%22segmentIndex%22:1%7D&splitId=a5dc1ac3-5fc0-4023-8be1-c9b3a3b4d9df&modelIds=f5acff5a-ca2b-4708-88c0-492965f0e3e0&\" target=\"_blank\">Explore in UI</a></td></tr><tr><td >❌</td><td >Impact Ratio Test</td><td >2015-CA</td><td >Sex--Female: Sex = 'Female'</td><td >REST OF POPULATION</td><td >DISPARATE_IMPACT_RATIO</td><td class=\"FAILED\">0.6713</td><td ><a href=\"https://daily-demo-truera1.sandbox.truera.com/p/Starter%20Example%20-%20Fairness/m/model_1/t/fairness/t/fairness-analysis?biasSegmentIdJSON=%7B%22segmentationId%22:%220f421620-5a2f-478d-b28c-187745758f59%22,%22segmentIndex%22:1%7D&splitId=147fdecb-3f3f-4882-ab5b-b494ed069497&modelIds=f5acff5a-ca2b-4708-88c0-492965f0e3e0&\" target=\"_blank\">Explore in UI</a></td></tr><tr><td >❌</td><td >Impact Ratio Test</td><td >2015-NY</td><td >Sex--Female: Sex = 'Female'</td><td >REST OF POPULATION</td><td >DISPARATE_IMPACT_RATIO</td><td class=\"FAILED\">0.6453</td><td ><a href=\"https://daily-demo-truera1.sandbox.truera.com/p/Starter%20Example%20-%20Fairness/m/model_1/t/fairness/t/fairness-analysis?biasSegmentIdJSON=%7B%22segmentationId%22:%220f421620-5a2f-478d-b28c-187745758f59%22,%22segmentIndex%22:1%7D&splitId=1d2b283c-088b-428a-ad05-962302eabcf1&modelIds=f5acff5a-ca2b-4708-88c0-492965f0e3e0&\" target=\"_blank\">Explore in UI</a></td></tr>\n",
              "        </table>\n",
              "        </body>\n",
              "        </html>\n",
              "        "
            ],
            "text/plain": [
              "<truera.client.intelligence.model_tests.ModelTestResults at 0x7fc58cdadd60>"
            ]
          },
          "execution_count": 5,
          "metadata": {},
          "output_type": "execute_result"
        }
      ],
      "source": [
        "tru.set_model(tru.get_models()[0])\n",
        "tru.tester.get_model_test_results(test_types = [\"fairness\"])"
      ]
    },
    {
      "cell_type": "markdown",
      "id": "062b0f35-8d10-4fd9-a8f4-59b9b2474267",
      "metadata": {
        "id": "062b0f35-8d10-4fd9-a8f4-59b9b2474267"
      },
      "source": [
        "* What? Shown in the model test results, the first version of the test fails the Impact Ratio Test.\n",
        "\n",
        "* Why? After exploring results, CA has a better impact ratio than in NY, leading us to a hypothesis that CA might have a lower difference in ground truth outcomes between men and women. This phenomenon can also be referred to as *dataset disparity*.\n",
        "\n",
        "* We can examine the dataset disparity either in the web app or in the SDK (shown below)."
      ]
    },
    {
      "cell_type": "code",
      "execution_count": null,
      "id": "63dc2117",
      "metadata": {
        "colab": {
          "base_uri": "https://localhost:8080/"
        },
        "id": "63dc2117",
        "outputId": "895f1f08-be9a-4e41-bed0-7b0e699713e9"
      },
      "outputs": [
        {
          "name": "stdout",
          "output_type": "stream",
          "text": [
            "2014-NY dataset disparity: -0.12423616644589686\n",
            "2014-CA dataset disparity: -0.10761410632087881\n"
          ]
        }
      ],
      "source": [
        "# dataset disparity for 2014-NY\n",
        "explainer = tru.get_explainer(\"2014-NY\")\n",
        "explainer.set_segment(segment_group_name = \"Sex\", segment_name = \"Female\")\n",
        "mean_outcome_females_NY_2014 = explainer.get_ys().mean()\n",
        "explainer.set_segment(segment_group_name = \"Sex\", segment_name = \"Male\")\n",
        "mean_outcome_males_NY_2014 = explainer.get_ys().mean()\n",
        "print(\"2014-NY dataset disparity: \" + str(mean_outcome_females_NY_2014 - mean_outcome_males_NY_2014))\n",
        "\n",
        "# dataset disparity for 2014-CA\n",
        "explainer = tru.get_explainer(\"2014-CA\")\n",
        "explainer.set_segment(segment_group_name = \"Sex\", segment_name = \"Female\")\n",
        "mean_outcome_females_CA_2014 = explainer.get_ys().mean()\n",
        "explainer.set_segment(segment_group_name = \"Sex\", segment_name = \"Male\")\n",
        "mean_outcome_males_CA_2014 = explainer.get_ys().mean()\n",
        "print(\"2014-CA dataset disparity: \" + str(mean_outcome_females_CA_2014 - mean_outcome_males_CA_2014))"
      ]
    },
    {
      "cell_type": "markdown",
      "id": "d97769ad",
      "metadata": {
        "id": "d97769ad"
      },
      "source": [
        "This calculation of dataset disparity for NY and CA confirm our hypothesis.\n",
        "\n",
        "Next, we should retrain our model on CA with the belief that more fair training data will lead to a more fair model."
      ]
    },
    {
      "cell_type": "code",
      "execution_count": null,
      "id": "b784294f",
      "metadata": {
        "colab": {
          "base_uri": "https://localhost:8080/",
          "height": 302
        },
        "id": "b784294f",
        "outputId": "95a736d9-1c83-427b-88bd-245bd01dbb21"
      },
      "outputs": [
        {
          "name": "stderr",
          "output_type": "stream",
          "text": [
            "WARNING:truera.client.local.intelligence.local_explainer:Background split for `data_collection` \"Data Collection v1\" is currently not set. Setting it to \"2014-CA\"\n",
            "WARNING:truera.client.local.intelligence.local_explainer:Failed to use TreeSHAP for this model. Defaulting to KernelSHAP...\n",
            "WARNING:truera.client.local.intelligence.local_explainer:Only \"probits\" and \"logloss\" score types are supported for classification models using the TreeSHAP algorithm!\n",
            "WARNING:truera.client.local.intelligence.local_explainer:Failed to use TreeSHAP for this model. Defaulting to KernelSHAP...\n",
            "WARNING:truera.client.local.intelligence.local_explainer:Only \"probits\" and \"logloss\" score types are supported for classification models using the TreeSHAP algorithm!\n",
            "WARNING:truera.client.local.intelligence.local_explainer:Failed to use TreeSHAP for this model. Defaulting to KernelSHAP...\n",
            "WARNING:truera.client.local.intelligence.local_explainer:Only \"probits\" and \"logloss\" score types are supported for classification models using the TreeSHAP algorithm!\n",
            "WARNING:truera.client.local.intelligence.local_explainer:Failed to use TreeSHAP for this model. Defaulting to KernelSHAP...\n",
            "WARNING:truera.client.local.intelligence.local_explainer:Only \"probits\" and \"logloss\" score types are supported for classification models using the TreeSHAP algorithm!\n"
          ]
        },
        {
          "data": {
            "text/html": [
              "\n",
              "        <html>\n",
              "        <head>\n",
              "        <style>\n",
              "        table, th, td {\n",
              "            border-radius: 5px;\n",
              "        }\n",
              "        .header {\n",
              "            font-weight: bold;\n",
              "            font-size: 14px;\n",
              "        }\n",
              "        caption {\n",
              "            font-weight: bolder;\n",
              "            font-size: 16px;\n",
              "            background-color: powderblue;\n",
              "            color: black;\n",
              "            border-radius: 5px;\n",
              "        }\n",
              "        \n",
              "            .PASSED {\n",
              "                color: black;\n",
              "                background-color: palegreen;\n",
              "            }\n",
              "            .WARNING {\n",
              "                color: black;\n",
              "                background-color: yellow;\n",
              "            }\n",
              "            .FAILED {\n",
              "                color: black;\n",
              "                background-color: pink;\n",
              "            }\n",
              "            \n",
              "        </style>\n",
              "        </head>\n",
              "        <body>\n",
              "        <table>\n",
              "            <caption>Fairness Tests Results for Model \"model_2\"</caption>\n",
              "            <tr class=\"header\"><td></td><td>Name</td><td>Split</td><td>Protected Segment</td><td>Comparison Segment</td><td>Metric</td><td>Score</td><td>Navigate</td></tr>\n",
              "            <tr><td >❌</td><td >Impact Ratio Test</td><td >2014-CA</td><td >Sex--Female: Sex = 'Female'</td><td >REST OF POPULATION</td><td >DISPARATE_IMPACT_RATIO</td><td class=\"FAILED\">0.701</td><td ><a href=\"https://daily-demo-truera1.sandbox.truera.com/p/Starter%20Example%20-%20Fairness/m/model_2/t/fairness/t/fairness-analysis?biasSegmentIdJSON=%7B%22segmentationId%22:%220f421620-5a2f-478d-b28c-187745758f59%22,%22segmentIndex%22:1%7D&splitId=ea0041ad-a541-44b4-bea8-72a30e093130&modelIds=7428ec19-103d-4d54-a89d-88b9e57bbff4&\" target=\"_blank\">Explore in UI</a></td></tr><tr><td >❌</td><td >Impact Ratio Test</td><td >2014-NY</td><td >Sex--Female: Sex = 'Female'</td><td >REST OF POPULATION</td><td >DISPARATE_IMPACT_RATIO</td><td class=\"FAILED\">0.664</td><td ><a href=\"https://daily-demo-truera1.sandbox.truera.com/p/Starter%20Example%20-%20Fairness/m/model_2/t/fairness/t/fairness-analysis?biasSegmentIdJSON=%7B%22segmentationId%22:%220f421620-5a2f-478d-b28c-187745758f59%22,%22segmentIndex%22:1%7D&splitId=a5dc1ac3-5fc0-4023-8be1-c9b3a3b4d9df&modelIds=7428ec19-103d-4d54-a89d-88b9e57bbff4&\" target=\"_blank\">Explore in UI</a></td></tr><tr><td >❌</td><td >Impact Ratio Test</td><td >2015-CA</td><td >Sex--Female: Sex = 'Female'</td><td >REST OF POPULATION</td><td >DISPARATE_IMPACT_RATIO</td><td class=\"FAILED\">0.71</td><td ><a href=\"https://daily-demo-truera1.sandbox.truera.com/p/Starter%20Example%20-%20Fairness/m/model_2/t/fairness/t/fairness-analysis?biasSegmentIdJSON=%7B%22segmentationId%22:%220f421620-5a2f-478d-b28c-187745758f59%22,%22segmentIndex%22:1%7D&splitId=147fdecb-3f3f-4882-ab5b-b494ed069497&modelIds=7428ec19-103d-4d54-a89d-88b9e57bbff4&\" target=\"_blank\">Explore in UI</a></td></tr><tr><td >❌</td><td >Impact Ratio Test</td><td >2015-NY</td><td >Sex--Female: Sex = 'Female'</td><td >REST OF POPULATION</td><td >DISPARATE_IMPACT_RATIO</td><td class=\"FAILED\">0.7132</td><td ><a href=\"https://daily-demo-truera1.sandbox.truera.com/p/Starter%20Example%20-%20Fairness/m/model_2/t/fairness/t/fairness-analysis?biasSegmentIdJSON=%7B%22segmentationId%22:%220f421620-5a2f-478d-b28c-187745758f59%22,%22segmentIndex%22:1%7D&splitId=1d2b283c-088b-428a-ad05-962302eabcf1&modelIds=7428ec19-103d-4d54-a89d-88b9e57bbff4&\" target=\"_blank\">Explore in UI</a></td></tr>\n",
              "        </table>\n",
              "        </body>\n",
              "        </html>\n",
              "        "
            ],
            "text/plain": [
              "<truera.client.intelligence.model_tests.ModelTestResults at 0x7fc42927e040>"
            ]
          },
          "execution_count": 7,
          "metadata": {},
          "output_type": "execute_result"
        }
      ],
      "source": [
        "tru.set_environment('local')\n",
        "\n",
        "# get data and feature map\n",
        "\n",
        "from smart_open import open\n",
        "\n",
        "data_s3_file_name = \"https://truera-examples.s3.us-west-2.amazonaws.com/data/starter-fairness/starter-fairness-data.pickle\"\n",
        "with open(data_s3_file_name, 'rb') as f:\n",
        "   data = pd.read_pickle(f)\n",
        "\n",
        "feature_map_s3_file_name = \"https://truera-examples.s3.us-west-2.amazonaws.com/data/starter-fairness/starter-fairness-feature-map.pickle\"\n",
        "with open(feature_map_s3_file_name, 'rb') as f:\n",
        "   feature_map = pd.read_pickle(f)\n",
        "\n",
        "# Train xgboost\n",
        "models = {}\n",
        "model_name_v2 = 'model_2'\n",
        "\n",
        "models[model_name_v2] = xgb.XGBClassifier(eta = 0.2, max_depth = 4)\n",
        "\n",
        "models[model_name_v2].fit(data[2014]['CA']['data_postprocessed'],\n",
        "                        data[2014]['CA']['label'])\n",
        "\n",
        "train_params = {\"model_type\":\"xgb.XGBClassifier\", \"eta\":0.2, \"max_depth\":4}\n",
        "\n",
        "train_params['model_type'] = str(type(models[model_name_v2]))\n",
        "\n",
        "# download and set project, data collection in local environment\n",
        "tru.download_project(project_name)\n",
        "tru.set_project(project_name)\n",
        "tru.set_data_collection(\"Data Collection v1\")\n",
        "\n",
        "train_params['model_type'] = str(type(models[model_name_v2]))\n",
        "\n",
        "# register the model\n",
        "tru.add_python_model(model_name_v2,\n",
        "                        models[model_name_v2],\n",
        "                        train_split_name='2014-CA',\n",
        "                        train_parameters = train_params\n",
        "                        )\n",
        "\n",
        "tru.upload_project()\n",
        "\n",
        "tru.set_environment('remote')\n",
        "tru.set_model(model_name_v2)\n",
        "tru.tester.get_model_test_results(test_types = [\"fairness\"])"
      ]
    },
    {
      "cell_type": "markdown",
      "id": "b5596a01",
      "metadata": {
        "id": "b5596a01"
      },
      "source": [
        "* What? Shown in the model test results, the second version that was trained on CA data is substantially more fair than v1. However, v2 still fails the impact ratio test.\n",
        "\n",
        "* Why? We notice that sex is included in the training data, and the second leading contributor to disparity. We should remove it so it's not learned by the model.\n",
        "\n",
        "* What next? Let's see the fairness outcome after removing sex from the training data."
      ]
    },
    {
      "cell_type": "code",
      "execution_count": null,
      "id": "c47ac911",
      "metadata": {
        "id": "c47ac911"
      },
      "outputs": [],
      "source": [
        "# create the first project and data collection\n",
        "tru.set_environment(\"local\")\n",
        "\n",
        "feature_map.pop('Sex')\n",
        "\n",
        "tru.add_data_collection(\"Data Collection v2\",\n",
        "                        pre_to_post_feature_map = feature_map,\n",
        "                        provide_transform_with_model = False)\n",
        "\n",
        "# add data splits to the collection we just created\n",
        "year_begin = 2014\n",
        "year_end = 2016 # exclusive\n",
        "states = ['CA', 'NY']\n",
        "first_iteration = True\n",
        "\n",
        "for year in range(year_begin, year_end):\n",
        "    for state in states:\n",
        "        tru.add_data_split(f'{year}-{state}', pre_data = data[year][state]['data_preprocessed'].drop('Sex', axis = 1), # drop sex from pre-data\n",
        "                            post_data = data[year][state]['data_postprocessed'].drop(['Sex_Female','Sex_Male'], axis = 1), # drop sex from post-data\n",
        "                            label_data = data[year][state]['label'],\n",
        "                            extra_data_df = data[year][state]['extra_data'].reset_index(drop=True).join(data[year][state]['data_preprocessed']['Sex'].reset_index(drop=True)), # add sex to extra data\n",
        "                            split_type = \"all\")\n",
        "                            \n",
        "        if first_iteration:\n",
        "            tru.add_segment_group(\"Sex\", {\"Male\": \"Sex == 'Male'\", \"Female\": \"Sex == 'Female'\"})\n",
        "            tru.add_segment_group(\"Language at home\", {\"English\": \"LANX == 1\", \"Not English\": \"LANX == 2\"})\n",
        "            first_iteration = False"
      ]
    },
    {
      "cell_type": "code",
      "execution_count": null,
      "id": "df8bded9",
      "metadata": {
        "colab": {
          "base_uri": "https://localhost:8080/",
          "height": 441
        },
        "id": "df8bded9",
        "outputId": "33768207-9bf3-469a-e345-0210e1eac3dd"
      },
      "outputs": [
        {
          "name": "stderr",
          "output_type": "stream",
          "text": [
            "WARNING:truera.client.local.intelligence.local_explainer:Failed to use TreeSHAP for this model. Defaulting to KernelSHAP...\n",
            "WARNING:truera.client.local.intelligence.local_explainer:Only \"probits\" and \"logloss\" score types are supported for classification models using the TreeSHAP algorithm!\n",
            "WARNING:truera.client.local.intelligence.local_explainer:Failed to use TreeSHAP for this model. Defaulting to KernelSHAP...\n",
            "WARNING:truera.client.local.intelligence.local_explainer:Only \"probits\" and \"logloss\" score types are supported for classification models using the TreeSHAP algorithm!\n",
            "WARNING:truera.client.local.intelligence.local_explainer:Failed to use TreeSHAP for this model. Defaulting to KernelSHAP...\n",
            "WARNING:truera.client.local.intelligence.local_explainer:Only \"probits\" and \"logloss\" score types are supported for classification models using the TreeSHAP algorithm!\n",
            "WARNING:truera.client.local.intelligence.local_explainer:Failed to use TreeSHAP for this model. Defaulting to KernelSHAP...\n",
            "WARNING:truera.client.local.intelligence.local_explainer:Only \"probits\" and \"logloss\" score types are supported for classification models using the TreeSHAP algorithm!\n",
            "WARNING:truera.client.local.intelligence.local_explainer:Background split for `data_collection` \"Data Collection v2\" is currently not set. Setting it to \"2014-CA\"\n",
            "WARNING:truera.client.local.intelligence.local_explainer:Failed to use TreeSHAP for this model. Defaulting to KernelSHAP...\n",
            "WARNING:truera.client.local.intelligence.local_explainer:Only \"probits\" and \"logloss\" score types are supported for classification models using the TreeSHAP algorithm!\n",
            "WARNING:truera.client.local.intelligence.local_explainer:Failed to use TreeSHAP for this model. Defaulting to KernelSHAP...\n",
            "WARNING:truera.client.local.intelligence.local_explainer:Only \"probits\" and \"logloss\" score types are supported for classification models using the TreeSHAP algorithm!\n",
            "WARNING:truera.client.local.intelligence.local_explainer:Failed to use TreeSHAP for this model. Defaulting to KernelSHAP...\n",
            "WARNING:truera.client.local.intelligence.local_explainer:Only \"probits\" and \"logloss\" score types are supported for classification models using the TreeSHAP algorithm!\n",
            "WARNING:truera.client.local.intelligence.local_explainer:Failed to use TreeSHAP for this model. Defaulting to KernelSHAP...\n",
            "WARNING:truera.client.local.intelligence.local_explainer:Only \"probits\" and \"logloss\" score types are supported for classification models using the TreeSHAP algorithm!\n"
          ]
        },
        {
          "data": {
            "text/html": [
              "\n",
              "        <html>\n",
              "        <head>\n",
              "        <style>\n",
              "        table, th, td {\n",
              "            border-radius: 5px;\n",
              "        }\n",
              "        .header {\n",
              "            font-weight: bold;\n",
              "            font-size: 14px;\n",
              "        }\n",
              "        caption {\n",
              "            font-weight: bolder;\n",
              "            font-size: 16px;\n",
              "            background-color: powderblue;\n",
              "            color: black;\n",
              "            border-radius: 5px;\n",
              "        }\n",
              "        \n",
              "            .PASSED {\n",
              "                color: black;\n",
              "                background-color: palegreen;\n",
              "            }\n",
              "            .WARNING {\n",
              "                color: black;\n",
              "                background-color: yellow;\n",
              "            }\n",
              "            .FAILED {\n",
              "                color: black;\n",
              "                background-color: pink;\n",
              "            }\n",
              "            \n",
              "        </style>\n",
              "        </head>\n",
              "        <body>\n",
              "        <table>\n",
              "            <caption>Fairness Tests Results for Model \"model_3\"</caption>\n",
              "            <tr class=\"header\"><td></td><td>Name</td><td>Split</td><td>Protected Segment</td><td>Comparison Segment</td><td>Metric</td><td>Score</td><td>Navigate</td></tr>\n",
              "            <tr><td >❌</td><td >Impact Ratio Test</td><td >2014-CA</td><td >Sex--Female: Sex = 'Female'</td><td >REST OF POPULATION</td><td >DISPARATE_IMPACT_RATIO</td><td class=\"FAILED\">0.7909</td><td ><a href=\"https://daily-demo-truera1.sandbox.truera.com/p/Starter%20Example%20-%20Fairness/m/model_3/t/fairness/t/fairness-analysis?biasSegmentIdJSON=%7B%22segmentationId%22:%220f421620-5a2f-478d-b28c-187745758f59%22,%22segmentIndex%22:1%7D&splitId=96f75d78-b119-4a9b-b7c5-20b6c0fc334d&modelIds=cd7dd87e-ffc2-45a2-9e53-fded64fd3b12&\" target=\"_blank\">Explore in UI</a></td></tr><tr><td >❌</td><td >Impact Ratio Test</td><td >2014-NY</td><td >Sex--Female: Sex = 'Female'</td><td >REST OF POPULATION</td><td >DISPARATE_IMPACT_RATIO</td><td class=\"FAILED\">0.7508</td><td ><a href=\"https://daily-demo-truera1.sandbox.truera.com/p/Starter%20Example%20-%20Fairness/m/model_3/t/fairness/t/fairness-analysis?biasSegmentIdJSON=%7B%22segmentationId%22:%220f421620-5a2f-478d-b28c-187745758f59%22,%22segmentIndex%22:1%7D&splitId=83c64152-e7d2-4c2f-9962-c9e5ddd1e8a0&modelIds=cd7dd87e-ffc2-45a2-9e53-fded64fd3b12&\" target=\"_blank\">Explore in UI</a></td></tr><tr><td >❌</td><td >Impact Ratio Test</td><td >2015-NY</td><td >Sex--Female: Sex = 'Female'</td><td >REST OF POPULATION</td><td >DISPARATE_IMPACT_RATIO</td><td class=\"FAILED\">0.7897</td><td ><a href=\"https://daily-demo-truera1.sandbox.truera.com/p/Starter%20Example%20-%20Fairness/m/model_3/t/fairness/t/fairness-analysis?biasSegmentIdJSON=%7B%22segmentationId%22:%220f421620-5a2f-478d-b28c-187745758f59%22,%22segmentIndex%22:1%7D&splitId=a9353948-4ba8-4e58-a91b-72d7ebbd54e6&modelIds=cd7dd87e-ffc2-45a2-9e53-fded64fd3b12&\" target=\"_blank\">Explore in UI</a></td></tr><tr><td >✅</td><td >Impact Ratio Test</td><td >2015-CA</td><td >Sex--Female: Sex = 'Female'</td><td >REST OF POPULATION</td><td >DISPARATE_IMPACT_RATIO</td><td class=\"PASSED\">0.8082</td><td ><a href=\"https://daily-demo-truera1.sandbox.truera.com/p/Starter%20Example%20-%20Fairness/m/model_3/t/fairness/t/fairness-analysis?biasSegmentIdJSON=%7B%22segmentationId%22:%220f421620-5a2f-478d-b28c-187745758f59%22,%22segmentIndex%22:1%7D&splitId=880c3efa-89b2-49da-b412-f7967b6fadd7&modelIds=cd7dd87e-ffc2-45a2-9e53-fded64fd3b12&\" target=\"_blank\">Explore in UI</a></td></tr>\n",
              "        </table>\n",
              "        </body>\n",
              "        </html>\n",
              "        "
            ],
            "text/plain": [
              "<truera.client.intelligence.model_tests.ModelTestResults at 0x7fc42927e6a0>"
            ]
          },
          "execution_count": 9,
          "metadata": {},
          "output_type": "execute_result"
        }
      ],
      "source": [
        "# Train xgboost\n",
        "models = {}\n",
        "model_name_v3 = 'model_3'\n",
        "\n",
        "models[model_name_v3] = xgb.XGBClassifier(eta = 0.2, max_depth = 4)\n",
        "\n",
        "models[model_name_v3].fit(data[2014]['CA']['data_postprocessed'].drop(['Sex_Female','Sex_Male'], axis = 1),\n",
        "                        data[2014]['CA']['label'])\n",
        "\n",
        "train_params['model_type'] = str(type(models[model_name_v3]))\n",
        "\n",
        "# register the model\n",
        "tru.add_python_model(model_name_v3,\n",
        "                        models[model_name_v3],\n",
        "                        train_split_name='2014-CA',\n",
        "                        train_parameters=train_params)\n",
        "\n",
        "tru.upload_project()\n",
        "\n",
        "tru.set_environment('remote')\n",
        "tru.set_model(model_name_v3)\n",
        "tru.tester.get_model_test_results(test_types = [\"fairness\"])"
      ]
    },
    {
      "cell_type": "markdown",
      "id": "799c1964",
      "metadata": {
        "id": "799c1964"
      },
      "source": [
        "* What? Our newest model now passes 2/4 impact ratio tests.\n",
        "* Shown on the Dataset Disparity section of the Fairness page in the web app, we notice that there is a lower positive outcome rate for females in the data. Let's check the performance of females with a positive label."
      ]
    },
    {
      "cell_type": "code",
      "execution_count": null,
      "id": "5653494f",
      "metadata": {
        "colab": {
          "base_uri": "https://localhost:8080/"
        },
        "id": "5653494f",
        "outputId": "a1beb74d-5867-4e22-9e7a-bd5e64985ca9"
      },
      "outputs": [
        {
          "name": "stdout",
          "output_type": "stream",
          "text": [
            "Female + label 1 performance: 0.7353801131248474\n",
            "Other performance: 0.8549582958221436\n"
          ]
        }
      ],
      "source": [
        "explainer = tru.get_explainer(base_data_split='2014-CA')\n",
        "tru.set_data_split(\"2014-CA\")\n",
        "tru.add_segment_group(\"Sex + Label\", {\"Other\": \"(Sex == 'Male') OR (_DATA_GROUND_TRUTH == 0)\",\n",
        "                                      \"Female + Label 1\": \"(Sex == 'Female') AND (_DATA_GROUND_TRUTH == 1)\"})\n",
        "explainer.set_segment(segment_group_name = \"Sex + Label\", segment_name = \"Female + Label 1\")\n",
        "print(\"Female + label 1 performance: \" + str(explainer.compute_performance(metric_type=\"CLASSIFICATION_ACCURACY\")))\n",
        "explainer.set_segment(segment_group_name = \"Sex + Label\", segment_name = \"Other\")\n",
        "print(\"Other performance: \" + str(explainer.compute_performance(metric_type=\"CLASSIFICATION_ACCURACY\")))"
      ]
    },
    {
      "cell_type": "markdown",
      "id": "a7edb6de",
      "metadata": {
        "id": "a7edb6de"
      },
      "source": [
        "Our hunch was correct. To correct for this, rebalance the training set by overampling female with label==1 in train set because female with label==1 has more error than rest_of_pop with label==1"
      ]
    },
    {
      "cell_type": "code",
      "execution_count": null,
      "id": "1c53005b-136c-47d5-896b-d752b331368b",
      "metadata": {
        "id": "1c53005b-136c-47d5-896b-d752b331368b"
      },
      "outputs": [],
      "source": [
        "def rebalance_gender(df, data_type):\n",
        "    if data_type == 0:\n",
        "        df_female_true = df[(df['Sex'] == 'Female') & (df['PINCP'] == True)]\n",
        "        df_else = df[~((df['Sex'] == 'Female') & (df['PINCP'] == True))]\n",
        "    else:\n",
        "        df_female_true = df[(df['Sex_Female'] == 1) & (df['PINCP'] == True)]\n",
        "        df_else = df[~((df['Sex_Female'] == 1) & (df['PINCP'] == True))]\n",
        "\n",
        "    if data_type == 0:\n",
        "        num_samples = len(df[(df['Sex'] == 'Male') & (df['PINCP'] == True)])\n",
        "    else:\n",
        "        num_samples = len(df[(df['Sex_Male'] == 1) & (df['PINCP'] == True)])\n",
        "    # Resample female target segment so that they are the same size as male \n",
        "    df_female_true_resampled = resample(\n",
        "        df_female_true, \n",
        "        replace=True,\n",
        "        n_samples=num_samples,\n",
        "        random_state=1 # include random seed so we can perform same sampling on each data set\n",
        "        )\n",
        "\n",
        "    return pd.concat([df_female_true_resampled, df_else])"
      ]
    },
    {
      "cell_type": "code",
      "execution_count": null,
      "id": "201f3c31",
      "metadata": {
        "id": "201f3c31"
      },
      "outputs": [],
      "source": [
        "data[2014]['CA']['data_preprocessed_resampled'] = rebalance_gender(data[2014]['CA']['data_preprocessed'].reset_index(drop=True).\\\n",
        "                                        join(data[2014]['CA']['label'].reset_index(drop=True)), 0).drop(['Sex','PINCP'], axis = 1)\n",
        "data[2014]['CA']['data_postprocessed_resampled'] = rebalance_gender(data[2014]['CA']['data_postprocessed'].reset_index(drop=True).\\\n",
        "                                        join(data[2014]['CA']['label'].reset_index(drop=True)), 1).drop(['Sex_Male','Sex_Female', 'PINCP'], axis = 1)\n",
        "data[2014]['CA']['label_resampled'] = rebalance_gender(pd.DataFrame(data[2014]['CA']['label'].reset_index(drop=True)).\\\n",
        "                                        join(data[2014]['CA']['data_preprocessed']['Sex'].reset_index(drop=True)), 0).drop(['Sex'], axis = 1)\n",
        "data[2014]['CA']['extra_data_resampled'] = rebalance_gender(pd.DataFrame(data[2014]['CA']['extra_data'].reset_index(drop=True)).\\\n",
        "                                        join(data[2014]['CA']['data_preprocessed']['Sex'].reset_index(drop=True)).\\\n",
        "                                        join(data[2014]['CA']['label'].reset_index(drop=True)), 0).drop(['Sex','PINCP'], axis = 1)"
      ]
    },
    {
      "cell_type": "code",
      "execution_count": null,
      "id": "64291ad3-3ddd-4d08-851f-ca9af45ad265",
      "metadata": {
        "colab": {
          "base_uri": "https://localhost:8080/"
        },
        "id": "64291ad3-3ddd-4d08-851f-ca9af45ad265",
        "outputId": "324871c9-4039-4c46-89aa-a6e086bd214e"
      },
      "outputs": [
        {
          "name": "stderr",
          "output_type": "stream",
          "text": [
            "WARNING:truera.client.local.intelligence.local_explainer:Failed to use TreeSHAP for this model. Defaulting to KernelSHAP...\n",
            "WARNING:truera.client.local.intelligence.local_explainer:Only \"probits\" and \"logloss\" score types are supported for classification models using the TreeSHAP algorithm!\n",
            "WARNING:truera.client.local.intelligence.local_explainer:Failed to use TreeSHAP for this model. Defaulting to KernelSHAP...\n",
            "WARNING:truera.client.local.intelligence.local_explainer:Only \"probits\" and \"logloss\" score types are supported for classification models using the TreeSHAP algorithm!\n",
            "WARNING:truera.client.local.intelligence.local_explainer:Failed to use TreeSHAP for this model. Defaulting to KernelSHAP...\n",
            "WARNING:truera.client.local.intelligence.local_explainer:Only \"probits\" and \"logloss\" score types are supported for classification models using the TreeSHAP algorithm!\n",
            "WARNING:truera.client.local.intelligence.local_explainer:Failed to use TreeSHAP for this model. Defaulting to KernelSHAP...\n",
            "WARNING:truera.client.local.intelligence.local_explainer:Only \"probits\" and \"logloss\" score types are supported for classification models using the TreeSHAP algorithm!\n",
            "WARNING:truera.client.local.intelligence.local_explainer:Failed to use TreeSHAP for this model. Defaulting to KernelSHAP...\n",
            "WARNING:truera.client.local.intelligence.local_explainer:Only \"probits\" and \"logloss\" score types are supported for classification models using the TreeSHAP algorithm!\n",
            "WARNING:truera.client.local.intelligence.local_explainer:Failed to use TreeSHAP for this model. Defaulting to KernelSHAP...\n",
            "WARNING:truera.client.local.intelligence.local_explainer:Only \"probits\" and \"logloss\" score types are supported for classification models using the TreeSHAP algorithm!\n",
            "WARNING:truera.client.local.intelligence.local_explainer:Failed to use TreeSHAP for this model. Defaulting to KernelSHAP...\n",
            "WARNING:truera.client.local.intelligence.local_explainer:Only \"probits\" and \"logloss\" score types are supported for classification models using the TreeSHAP algorithm!\n",
            "WARNING:truera.client.local.intelligence.local_explainer:Failed to use TreeSHAP for this model. Defaulting to KernelSHAP...\n",
            "WARNING:truera.client.local.intelligence.local_explainer:Only \"probits\" and \"logloss\" score types are supported for classification models using the TreeSHAP algorithm!\n",
            "WARNING:truera.client.local.intelligence.local_explainer:Failed to use TreeSHAP for this model. Defaulting to KernelSHAP...\n",
            "WARNING:truera.client.local.intelligence.local_explainer:Only \"probits\" and \"logloss\" score types are supported for classification models using the TreeSHAP algorithm!\n"
          ]
        }
      ],
      "source": [
        "tru.set_environment(\"local\")\n",
        "tru.add_data_split(\"2014-CA-resampled\",\n",
        "    pre_data=data[2014]['CA']['data_preprocessed_resampled'],\n",
        "    post_data=data[2014]['CA']['data_postprocessed_resampled'],\n",
        "    label_data=data[2014]['CA']['label_resampled'],\n",
        "    extra_data_df=data[2014]['CA']['extra_data_resampled']\n",
        ")\n",
        "tru.upload_project()"
      ]
    },
    {
      "cell_type": "code",
      "execution_count": null,
      "id": "f9be6065",
      "metadata": {
        "colab": {
          "base_uri": "https://localhost:8080/",
          "height": 653
        },
        "id": "f9be6065",
        "outputId": "408afccb-3132-4aa9-d255-a903ef66a47d"
      },
      "outputs": [
        {
          "name": "stderr",
          "output_type": "stream",
          "text": [
            "WARNING:truera.client.local.intelligence.local_explainer:Failed to use TreeSHAP for this model. Defaulting to KernelSHAP...\n",
            "WARNING:truera.client.local.intelligence.local_explainer:Only \"probits\" and \"logloss\" score types are supported for classification models using the TreeSHAP algorithm!\n",
            "WARNING:truera.client.local.intelligence.local_explainer:Failed to use TreeSHAP for this model. Defaulting to KernelSHAP...\n",
            "WARNING:truera.client.local.intelligence.local_explainer:Only \"probits\" and \"logloss\" score types are supported for classification models using the TreeSHAP algorithm!\n",
            "WARNING:truera.client.local.intelligence.local_explainer:Failed to use TreeSHAP for this model. Defaulting to KernelSHAP...\n",
            "WARNING:truera.client.local.intelligence.local_explainer:Only \"probits\" and \"logloss\" score types are supported for classification models using the TreeSHAP algorithm!\n",
            "WARNING:truera.client.local.intelligence.local_explainer:Failed to use TreeSHAP for this model. Defaulting to KernelSHAP...\n",
            "WARNING:truera.client.local.intelligence.local_explainer:Only \"probits\" and \"logloss\" score types are supported for classification models using the TreeSHAP algorithm!\n",
            "WARNING:truera.client.local.intelligence.local_explainer:Failed to use TreeSHAP for this model. Defaulting to KernelSHAP...\n",
            "WARNING:truera.client.local.intelligence.local_explainer:Only \"probits\" and \"logloss\" score types are supported for classification models using the TreeSHAP algorithm!\n",
            "WARNING:truera.client.local.intelligence.local_explainer:Failed to use TreeSHAP for this model. Defaulting to KernelSHAP...\n",
            "WARNING:truera.client.local.intelligence.local_explainer:Only \"probits\" and \"logloss\" score types are supported for classification models using the TreeSHAP algorithm!\n",
            "WARNING:truera.client.local.intelligence.local_explainer:Failed to use TreeSHAP for this model. Defaulting to KernelSHAP...\n",
            "WARNING:truera.client.local.intelligence.local_explainer:Only \"probits\" and \"logloss\" score types are supported for classification models using the TreeSHAP algorithm!\n",
            "WARNING:truera.client.local.intelligence.local_explainer:Failed to use TreeSHAP for this model. Defaulting to KernelSHAP...\n",
            "WARNING:truera.client.local.intelligence.local_explainer:Only \"probits\" and \"logloss\" score types are supported for classification models using the TreeSHAP algorithm!\n",
            "WARNING:truera.client.local.intelligence.local_explainer:Failed to use TreeSHAP for this model. Defaulting to KernelSHAP...\n",
            "WARNING:truera.client.local.intelligence.local_explainer:Only \"probits\" and \"logloss\" score types are supported for classification models using the TreeSHAP algorithm!\n",
            "WARNING:truera.client.local.intelligence.local_explainer:Failed to use TreeSHAP for this model. Defaulting to KernelSHAP...\n",
            "WARNING:truera.client.local.intelligence.local_explainer:Only \"probits\" and \"logloss\" score types are supported for classification models using the TreeSHAP algorithm!\n",
            "WARNING:truera.client.local.intelligence.local_explainer:Failed to use TreeSHAP for this model. Defaulting to KernelSHAP...\n",
            "WARNING:truera.client.local.intelligence.local_explainer:Only \"probits\" and \"logloss\" score types are supported for classification models using the TreeSHAP algorithm!\n",
            "WARNING:truera.client.local.intelligence.local_explainer:Failed to use TreeSHAP for this model. Defaulting to KernelSHAP...\n",
            "WARNING:truera.client.local.intelligence.local_explainer:Only \"probits\" and \"logloss\" score types are supported for classification models using the TreeSHAP algorithm!\n",
            "WARNING:truera.client.local.intelligence.local_explainer:Failed to use TreeSHAP for this model. Defaulting to KernelSHAP...\n",
            "WARNING:truera.client.local.intelligence.local_explainer:Only \"probits\" and \"logloss\" score types are supported for classification models using the TreeSHAP algorithm!\n",
            "WARNING:truera.client.local.intelligence.local_explainer:Failed to use TreeSHAP for this model. Defaulting to KernelSHAP...\n",
            "WARNING:truera.client.local.intelligence.local_explainer:Only \"probits\" and \"logloss\" score types are supported for classification models using the TreeSHAP algorithm!\n"
          ]
        },
        {
          "data": {
            "text/html": [
              "\n",
              "        <html>\n",
              "        <head>\n",
              "        <style>\n",
              "        table, th, td {\n",
              "            border-radius: 5px;\n",
              "        }\n",
              "        .header {\n",
              "            font-weight: bold;\n",
              "            font-size: 14px;\n",
              "        }\n",
              "        caption {\n",
              "            font-weight: bolder;\n",
              "            font-size: 16px;\n",
              "            background-color: powderblue;\n",
              "            color: black;\n",
              "            border-radius: 5px;\n",
              "        }\n",
              "        \n",
              "            .PASSED {\n",
              "                color: black;\n",
              "                background-color: palegreen;\n",
              "            }\n",
              "            .WARNING {\n",
              "                color: black;\n",
              "                background-color: yellow;\n",
              "            }\n",
              "            .FAILED {\n",
              "                color: black;\n",
              "                background-color: pink;\n",
              "            }\n",
              "            \n",
              "        </style>\n",
              "        </head>\n",
              "        <body>\n",
              "        <table>\n",
              "            <caption>Fairness Tests Results for Model \"model_4\"</caption>\n",
              "            <tr class=\"header\"><td></td><td>Name</td><td>Split</td><td>Protected Segment</td><td>Comparison Segment</td><td>Metric</td><td>Score</td><td>Navigate</td></tr>\n",
              "            <tr><td ></td><td >Impact Ratio Test</td><td >2014-CA-resampled</td><td >Sex--Female: Sex = 'Female'</td><td >REST OF POPULATION</td><td >DISPARATE_IMPACT_RATIO</td><td class=\"UNDEFINED\">N/A</td><td ><a href=\"https://daily-demo-truera1.sandbox.truera.com/p/Starter%20Example%20-%20Fairness/m/model_4/t/fairness/t/fairness-analysis?biasSegmentIdJSON=%7B%22segmentationId%22:%220f421620-5a2f-478d-b28c-187745758f59%22,%22segmentIndex%22:1%7D&splitId=e18a9f5a-d6fc-40a1-bbef-6edd4bd42902&modelIds=84c1c62b-7cfa-48fe-b65e-4c1abe886975&\" target=\"_blank\">Explore in UI</a></td></tr><tr><td >✅</td><td >Impact Ratio Test</td><td >2014-CA</td><td >Sex--Female: Sex = 'Female'</td><td >REST OF POPULATION</td><td >DISPARATE_IMPACT_RATIO</td><td class=\"PASSED\">0.8433</td><td ><a href=\"https://daily-demo-truera1.sandbox.truera.com/p/Starter%20Example%20-%20Fairness/m/model_4/t/fairness/t/fairness-analysis?biasSegmentIdJSON=%7B%22segmentationId%22:%220f421620-5a2f-478d-b28c-187745758f59%22,%22segmentIndex%22:1%7D&splitId=96f75d78-b119-4a9b-b7c5-20b6c0fc334d&modelIds=84c1c62b-7cfa-48fe-b65e-4c1abe886975&\" target=\"_blank\">Explore in UI</a></td></tr><tr><td >✅</td><td >Impact Ratio Test</td><td >2014-NY</td><td >Sex--Female: Sex = 'Female'</td><td >REST OF POPULATION</td><td >DISPARATE_IMPACT_RATIO</td><td class=\"PASSED\">0.8057</td><td ><a href=\"https://daily-demo-truera1.sandbox.truera.com/p/Starter%20Example%20-%20Fairness/m/model_4/t/fairness/t/fairness-analysis?biasSegmentIdJSON=%7B%22segmentationId%22:%220f421620-5a2f-478d-b28c-187745758f59%22,%22segmentIndex%22:1%7D&splitId=83c64152-e7d2-4c2f-9962-c9e5ddd1e8a0&modelIds=84c1c62b-7cfa-48fe-b65e-4c1abe886975&\" target=\"_blank\">Explore in UI</a></td></tr><tr><td >✅</td><td >Impact Ratio Test</td><td >2015-CA</td><td >Sex--Female: Sex = 'Female'</td><td >REST OF POPULATION</td><td >DISPARATE_IMPACT_RATIO</td><td class=\"PASSED\">0.8381</td><td ><a href=\"https://daily-demo-truera1.sandbox.truera.com/p/Starter%20Example%20-%20Fairness/m/model_4/t/fairness/t/fairness-analysis?biasSegmentIdJSON=%7B%22segmentationId%22:%220f421620-5a2f-478d-b28c-187745758f59%22,%22segmentIndex%22:1%7D&splitId=880c3efa-89b2-49da-b412-f7967b6fadd7&modelIds=84c1c62b-7cfa-48fe-b65e-4c1abe886975&\" target=\"_blank\">Explore in UI</a></td></tr><tr><td >✅</td><td >Impact Ratio Test</td><td >2015-NY</td><td >Sex--Female: Sex = 'Female'</td><td >REST OF POPULATION</td><td >DISPARATE_IMPACT_RATIO</td><td class=\"PASSED\">0.8356</td><td ><a href=\"https://daily-demo-truera1.sandbox.truera.com/p/Starter%20Example%20-%20Fairness/m/model_4/t/fairness/t/fairness-analysis?biasSegmentIdJSON=%7B%22segmentationId%22:%220f421620-5a2f-478d-b28c-187745758f59%22,%22segmentIndex%22:1%7D&splitId=a9353948-4ba8-4e58-a91b-72d7ebbd54e6&modelIds=84c1c62b-7cfa-48fe-b65e-4c1abe886975&\" target=\"_blank\">Explore in UI</a></td></tr>\n",
              "        </table>\n",
              "        </body>\n",
              "        </html>\n",
              "        "
            ],
            "text/plain": [
              "<truera.client.intelligence.model_tests.ModelTestResults at 0x7fc4292450d0>"
            ]
          },
          "execution_count": 14,
          "metadata": {},
          "output_type": "execute_result"
        }
      ],
      "source": [
        "# Specify training parameters\n",
        "\n",
        "# Train xgboost\n",
        "models = {}\n",
        "model_name_v4 = 'model_4'\n",
        "\n",
        "models[model_name_v4] = xgb.XGBClassifier(eta = 0.2, max_depth = 4)\n",
        "\n",
        "models[model_name_v4].fit(data[2014]['CA']['data_postprocessed_resampled'],\n",
        "                        data[2014]['CA']['label_resampled'])\n",
        "\n",
        "train_params['model_type'] = str(type(models[model_name_v4]))\n",
        "\n",
        "# register the model\n",
        "tru.add_python_model(model_name_v4,\n",
        "                        models[model_name_v4],\n",
        "                        train_split_name='2014-CA-resampled',\n",
        "                        train_parameters = train_params\n",
        "                        )\n",
        "\n",
        "tru.upload_project()\n",
        "\n",
        "tru.set_environment('remote')\n",
        "tru.set_model(model_name_v4)\n",
        "tru.tester.get_model_test_results(test_types = [\"fairness\"])"
      ]
    },
    {
      "cell_type": "markdown",
      "id": "7ddb76b1-c90b-4f7b-a684-1128412c4955",
      "metadata": {
        "id": "7ddb76b1-c90b-4f7b-a684-1128412c4955"
      },
      "source": [
        "### After reblancing, the model passes 4/4 impact ratio tests, giving us confidence in the fairness of the model."
      ]
    }
  ],
  "metadata": {
    "colab": {
      "collapsed_sections": [
        "ce855c64"
      ],
      "provenance": []
    },
    "kernelspec": {
      "display_name": "Python 3.10.8 ('eap_demo')",
      "language": "python",
      "name": "python3"
    },
    "language_info": {
      "codemirror_mode": {
        "name": "ipython",
        "version": 3
      },
      "file_extension": ".py",
      "mimetype": "text/x-python",
      "name": "python",
      "nbconvert_exporter": "python",
      "pygments_lexer": "ipython3",
      "version": "3.8.15"
    },
    "vscode": {
      "interpreter": {
        "hash": "da3924fd47657b295ea4ff31ffc159b50bdc67549cd17755b5462d5d6bda3f74"
      }
    }
  },
  "nbformat": 4,
  "nbformat_minor": 5
}

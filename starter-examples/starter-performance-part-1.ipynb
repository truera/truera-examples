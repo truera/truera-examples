{
  "cells": [
    {
      "cell_type": "markdown",
      "id": "bf792a77",
      "metadata": {
        "id": "bf792a77"
      },
      "source": [
        "# Guided Exercise: Performance\n",
        "#### Goals 🎯\n",
        "In this tutorial, you will use TruEra to train and ingest a model, and then make performance improvements to our model in a structured and methodical way!\n",
        "\n",
        "In this tutorial, you will:\n",
        "1. Set up and view the results of performance and feature importance tests.\n",
        "2. Find actionable issues with the model.\n",
        "3. Mitigate these issues and re-upload your model to TruEra.\n",
        "4. Retest the new model and confirm the effectivenesss of the mitigation strategy.\n",
        "\n",
        "[![Open In Colab](https://colab.research.google.com/assets/colab-badge.svg)](https://colab.research.google.com/github/truera/truera-examples/blob/release/rc-1.38/starter-examples/starter-performance-part-1.ipynb)\n",
        "\n",
        "### First, set the credentials for your TruEra deployment.\n",
        "\n",
        "If you don't have credentials yet, get them instantly by signing up for the free open beta: https://app.truera.net"
      ]
    },
    {
      "cell_type": "code",
      "execution_count": null,
      "id": "61f77925",
      "metadata": {
        "id": "61f77925"
      },
      "outputs": [],
      "source": [
        "#connection details\n",
        "TRUERA_URL = \"https://app.truera.net\"\n",
        "AUTH_TOKEN = \"\""
      ]
    },
    {
      "cell_type": "markdown",
      "id": "dbea14e2",
      "metadata": {
        "id": "dbea14e2"
      },
      "source": [
        "### Install required packages for running in colab"
      ]
    },
    {
      "cell_type": "code",
      "execution_count": null,
      "id": "b882320a",
      "metadata": {
        "colab": {
          "base_uri": "https://localhost:8080/"
        },
        "id": "b882320a",
        "outputId": "6805f9ca-a1c9-4a41-b70c-68faa9b8ef9d"
      },
      "outputs": [],
      "source": [
        "! pip install truera==12.1.0 pandas==1.5.0 sklearn==1.3.0 xgboost==1.6.2"
      ]
    },
    {
      "cell_type": "markdown",
      "id": "e8ede3b0",
      "metadata": {
        "id": "e8ede3b0"
      },
      "source": [
        "### From here, run the rest of the notebook and follow the analysis."
      ]
    },
    {
      "cell_type": "markdown",
      "id": "bxfSeL0Uw7w8",
      "metadata": {
        "id": "bxfSeL0Uw7w8"
      },
      "source": [
        "### Import packages, set up your TruEra Workspace"
      ]
    },
    {
      "cell_type": "code",
      "execution_count": null,
      "id": "887135e4",
      "metadata": {
        "id": "887135e4"
      },
      "outputs": [],
      "source": [
        "import pandas as pd\n",
        "import xgboost as xgb\n",
        "import logging\n",
        "\n",
        "from truera.client.truera_workspace import TrueraWorkspace\n",
        "from truera.client.truera_authentication import TokenAuthentication\n",
        "\n",
        "auth = TokenAuthentication(AUTH_TOKEN)\n",
        "tru = TrueraWorkspace(TRUERA_URL, auth)\n",
        "\n",
        "# set our environment to local compute so we can compute predictions and feature influences on our local machine\n",
        "tru.set_environment(\"local\")\n",
        "# note: we'll periodically toggle between local and remote so we can interact with our remote deployment as well."
      ]
    },
    {
      "cell_type": "markdown",
      "id": "5806fedf",
      "metadata": {
        "id": "5806fedf"
      },
      "source": [
        "### Load the data and train an xgboost model\n",
        "A bit about the model and data... \n",
        "\n",
        "In this example, we will use real data on the AirBnb listings 🏠 in San Francisco and Seattle to predict the listing price. The Airbnb data was scraped by Inside Airbnb and hosted by OpenDataSoft. Pricing a rental property is a challenging task for Airbnb owners as they need to understand the market, the features of their property, and how those features contribute to listing price.\n",
        "\n",
        "You can find more information about the data here:\n",
        "https://data.opendatasoft.com/explore/dataset/airbnb-listings%40public/"
      ]
    },
    {
      "cell_type": "code",
      "execution_count": null,
      "id": "743759f7",
      "metadata": {
        "colab": {
          "base_uri": "https://localhost:8080/"
        },
        "id": "743759f7",
        "outputId": "2a568b94-c083-4962-81f9-9b8b970c72c3"
      },
      "outputs": [],
      "source": [
        "# load data\n",
        "san_francisco = pd.read_csv('https://truera-examples.s3.us-west-2.amazonaws.com/data/starter-performance/San_Francisco.csv')\n",
        "seattle = pd.read_csv('https://truera-examples.s3.us-west-2.amazonaws.com/data/starter-performance/Seattle.csv')\n",
        "\n",
        "#make all float\n",
        "san_francisco = san_francisco.astype(float)\n",
        "seattle = seattle.astype(float)\n",
        "\n",
        "#add point ids\n",
        "sf_ids = [f\"point_{i}\" for i in range(len(san_francisco))]\n",
        "san_francisco[\"id\"] = sf_ids\n",
        "\n",
        "se_ids = [f\"point_{i}\" for i in range(len(seattle))]\n",
        "seattle[\"id\"] = se_ids\n",
        "\n",
        "# train first model\n",
        "xgb_reg = xgb.XGBRegressor(eta = 0.2, max_depth = 4)\n",
        "xgb_reg.fit(san_francisco.drop(['id','price'], axis = 1), san_francisco.price)\n",
        "\n",
        "# create the first project\n",
        "project_name = \"Starter Example Companion - Performance\"\n",
        "tru.add_project(project_name, score_type = 'regression')\n",
        "\n",
        "# add data collection\n",
        "tru.add_data_collection(\"Data Collection v1\")\n",
        "\n",
        "# add data splits to the collection we just created\n",
        "tru.add_data_split(\"San Francisco\", pre_data = san_francisco, label_col_name=\"price\", id_col_name = \"id\", split_type = \"train\")\n",
        "tru.add_data_split(\"Seattle\", pre_data = seattle, label_col_name=\"price\", id_col_name = \"id\", split_type = \"test\")\n",
        "\n",
        "# register the model\n",
        "tru.add_python_model(\"model_1\", xgb_reg, train_split_name=\"San Francisco\", train_parameters = {\"model_type\":\"xgb.XGBRegressor\", \"eta\":0.2, \"max_depth\":4})\n",
        "\n",
        "# sync with remote\n",
        "tru.upload_project(upload_error_influences = False)\n",
        "\n",
        "# Note that we're explicitly opting not to compute and upload error influences to optimize for ingestion speed. This is because SHAP is not optimized to compute error influences for regression models.\n",
        "# Doing so will disable the \"Debug\" tab under Performance, and the \"Contributors to Error Influence\" tab under Drift.\n",
        "# If you'd like to enable these pages, please remove the flag, i.e. run the method below. Please be aware that doing so will greatly increase the time required for ingestion.\n",
        "# tru.upload_project()"
      ]
    },
    {
      "cell_type": "markdown",
      "id": "d89c5145",
      "metadata": {
        "id": "d89c5145"
      },
      "source": [
        "### Issue: Overfitting\n",
        "\n",
        "We observe there to be a large discrepency between our train and test accuracy!"
      ]
    },
    {
      "cell_type": "code",
      "execution_count": null,
      "id": "66c431d2",
      "metadata": {
        "ExecuteTime": {
          "end_time": "2022-08-31T21:21:42.608027Z",
          "start_time": "2022-08-31T21:21:41.231410Z"
        },
        "colab": {
          "base_uri": "https://localhost:8080/",
          "height": 147
        },
        "id": "66c431d2",
        "outputId": "cdeb9e8f-91b7-4766-8123-c2135b5d1815"
      },
      "outputs": [],
      "source": [
        "# toggle to remote to interact with the tester\n",
        "tru.set_environment(\"remote\")\n",
        "tru.set_project(project_name)\n",
        "\n",
        "# set default performance metric\n",
        "tru.set_default_performance_metrics([\"MAE\"])\n",
        "\n",
        "tru.set_data_collection(\"Data Collection v1\")\n",
        "tru.set_model(\"model_1\")\n",
        "\n",
        "train_split_name = \"San Francisco\"\n",
        "test_split_name = \"Seattle\"\n",
        "\n",
        "# generate the explainer and compute performance\n",
        "explainer = tru.get_explainer(test_split_name, comparison_data_splits=[train_split_name])\n",
        "explainer.compute_performance(metric_type=\"MAE\")"
      ]
    },
    {
      "cell_type": "markdown",
      "id": "d5f6ae57",
      "metadata": {
        "id": "d5f6ae57"
      },
      "source": [
        "### Create Tests\n",
        "\n",
        "To help us keep track of this issue, let's add a test for it!\n",
        "\n",
        "Additionally, too many unimportant features is a common cause of overfitting. We should test for that as well.\n",
        "\n",
        "Note that we could also set up tests for fairness and stability."
      ]
    },
    {
      "cell_type": "code",
      "execution_count": null,
      "id": "LmoZ7l0hxV6L",
      "metadata": {
        "id": "LmoZ7l0hxV6L"
      },
      "outputs": [],
      "source": [
        "# add performance tests\n",
        "tru.tester.add_performance_test(\n",
        "    test_name='Relative MAE Test',\n",
        "    all_data_collections=True,\n",
        "    data_split_name_regex='Seattle',\n",
        "    metric=\"MAE\",\n",
        "    reference_split_name=train_split_name,\n",
        "    fail_if_greater_than=0.80,\n",
        "    fail_threshold_type=\"RELATIVE\"\n",
        ")\n",
        "\n",
        "tru.tester.add_performance_test(\n",
        "    test_name='RMSE Test',\n",
        "    all_data_collections=True,\n",
        "    data_split_name_regex='.*',\n",
        "    metric=\"RMSE\",\n",
        "    fail_if_greater_than=115,\n",
        "    fail_threshold_type=\"ABSOLUTE\"\n",
        ")"
      ]
    },
    {
      "cell_type": "markdown",
      "id": "v9674AqUxYsv",
      "metadata": {
        "id": "v9674AqUxYsv"
      },
      "source": [
        "### View Test Results"
      ]
    },
    {
      "cell_type": "code",
      "execution_count": null,
      "id": "qBEnIFjk71pk",
      "metadata": {
        "colab": {
          "base_uri": "https://localhost:8080/",
          "height": 124
        },
        "id": "qBEnIFjk71pk",
        "outputId": "e5a96fe3-d2fc-43c5-b09b-444e9a714c9e"
      },
      "outputs": [],
      "source": [
        "# get model results\n",
        "tru.set_model(\"model_1\")\n",
        "tru.tester.get_model_test_results(test_types=[\"performance\"])"
      ]
    },
    {
      "cell_type": "markdown",
      "id": "de1ed7b4",
      "metadata": {
        "id": "de1ed7b4"
      },
      "source": [
        "### Both tests are failing.\n",
        "\n",
        "### From here, navigate to the TruEra Web App for analysis or continue on to Part 2!     [![Open In Colab](https://colab.research.google.com/assets/colab-badge.svg)](https://colab.research.google.com/drive/16DexGCY1i4A5fLJZXC7xHPpqCSrQhVab)"
      ]
    }
  ],
  "metadata": {
    "colab": {
      "collapsed_sections": [
        "dbea14e2"
      ],
      "provenance": []
    },
    "gpuClass": "standard",
    "kernelspec": {
      "display_name": "Python 3.10.8 ('eap_demo')",
      "language": "python",
      "name": "python3"
    },
    "language_info": {
      "codemirror_mode": {
        "name": "ipython",
        "version": 3
      },
      "file_extension": ".py",
      "mimetype": "text/x-python",
      "name": "python",
      "nbconvert_exporter": "python",
      "pygments_lexer": "ipython3",
      "version": "3.8.15"
    },
    "latex_envs": {
      "LaTeX_envs_menu_present": true,
      "autoclose": false,
      "autocomplete": true,
      "bibliofile": "biblio.bib",
      "cite_by": "apalike",
      "current_citInitial": 1,
      "eqLabelWithNumbers": true,
      "eqNumInitial": 1,
      "hotkeys": {
        "equation": "Ctrl-E",
        "itemize": "Ctrl-I"
      },
      "labels_anchors": false,
      "latex_user_defs": false,
      "report_style_numbering": false,
      "user_envs_cfg": false
    },
    "toc": {
      "base_numbering": 1,
      "nav_menu": {},
      "number_sections": true,
      "sideBar": true,
      "skip_h1_title": false,
      "title_cell": "Table of Contents",
      "title_sidebar": "Contents",
      "toc_cell": false,
      "toc_position": {},
      "toc_section_display": true,
      "toc_window_display": false
    },
    "vscode": {
      "interpreter": {
        "hash": "da3924fd47657b295ea4ff31ffc159b50bdc67549cd17755b5462d5d6bda3f74"
      }
    }
  },
  "nbformat": 4,
  "nbformat_minor": 5
}

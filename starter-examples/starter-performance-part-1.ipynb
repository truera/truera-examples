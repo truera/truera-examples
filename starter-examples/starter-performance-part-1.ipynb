{
 "cells": [
  {
   "cell_type": "markdown",
   "id": "bf792a77",
   "metadata": {
    "id": "bf792a77"
   },
   "source": [
    "# Guided Exercise: Performance\n",
    "\n",
    "### Goals 🎯\n",
    "In this tutorial, you will use TruEra to train and ingest a model, and then make performance improvements to our model in a structured and methodical way!\n",
    "\n",
    "In this tutorial, you will:\n",
    "1. Set up and view the results of performance and feature importance tests.\n",
    "2. Find actionable issues with the model.\n",
    "3. Mitigate these issues and re-upload your model to TruEra.\n",
    "4. Retest the new model and confirm the effectivenesss of the mitigation strategy.\n",
    "\n",
    "### First, set the credentials for your TruEra deployment.\n",
    "\n",
    "If you don't have credentials yet, get them instantly by signing up for free at: https://www.truera.com"
   ]
  },
  {
   "cell_type": "code",
   "execution_count": 1,
   "id": "61f77925",
   "metadata": {
    "execution": {
     "iopub.execute_input": "2023-08-03T22:14:20.889643Z",
     "iopub.status.busy": "2023-08-03T22:14:20.889373Z",
     "iopub.status.idle": "2023-08-03T22:14:20.901302Z",
     "shell.execute_reply": "2023-08-03T22:14:20.899305Z",
     "shell.execute_reply.started": "2023-08-03T22:14:20.889618Z"
    },
    "id": "61f77925"
   },
   "outputs": [],
   "source": [
    "# connection details\n",
    "TRUERA_URL = \"https://app.truera.net/\"\n",
    "AUTH_TOKEN = \"...\""
   ]
  },
  {
   "cell_type": "markdown",
   "id": "a055cd87",
   "metadata": {},
   "source": [
    "### Install required packages"
   ]
  },
  {
   "cell_type": "code",
   "execution_count": 2,
   "id": "baeb34d6",
   "metadata": {
    "execution": {
     "iopub.execute_input": "2023-08-03T22:14:20.902687Z",
     "iopub.status.busy": "2023-08-03T22:14:20.902436Z",
     "iopub.status.idle": "2023-08-03T22:14:25.935258Z",
     "shell.execute_reply": "2023-08-03T22:14:25.934213Z",
     "shell.execute_reply.started": "2023-08-03T22:14:20.902664Z"
    }
   },
   "outputs": [
    {
     "name": "stdout",
     "output_type": "stream",
     "text": [
      "Requirement already satisfied: xgboost==1.6.2 in /Users/davidkurokawa/opt/anaconda3/envs/demo3/lib/python3.10/site-packages (1.6.2)\n",
      "Requirement already satisfied: scipy in /Users/davidkurokawa/opt/anaconda3/envs/demo3/lib/python3.10/site-packages (from xgboost==1.6.2) (1.11.1)\n",
      "Requirement already satisfied: numpy in /Users/davidkurokawa/opt/anaconda3/envs/demo3/lib/python3.10/site-packages (from xgboost==1.6.2) (1.23.5)\n"
     ]
    }
   ],
   "source": [
    "! pip install --upgrade xgboost==1.6.2\n",
    "#! pip install truera"
   ]
  },
  {
   "cell_type": "code",
   "execution_count": 3,
   "id": "78dba94a-8950-4897-a834-0598d6e0f023",
   "metadata": {
    "execution": {
     "iopub.execute_input": "2023-08-03T22:14:25.938661Z",
     "iopub.status.busy": "2023-08-03T22:14:25.938288Z",
     "iopub.status.idle": "2023-08-03T22:14:31.291659Z",
     "shell.execute_reply": "2023-08-03T22:14:31.290773Z",
     "shell.execute_reply.started": "2023-08-03T22:14:25.938630Z"
    }
   },
   "outputs": [
    {
     "name": "stderr",
     "output_type": "stream",
     "text": [
      "INFO:truera.client.remote_truera_workspace:Connecting to 'http://localhost:8000'\n",
      "INFO:truera.client.remote_truera_workspace:remaining items: []\n",
      "INFO:truera.client.remote_truera_workspace:Delete resource succeeded. Project_id: Starter Example Companion - Performance intra_artifact_path: \n"
     ]
    }
   ],
   "source": [
    "# delete this cell\n",
    "# uncomment out install of truera\n",
    "# uncomment out workspace/auth\n",
    "# clear cell output\n",
    "\n",
    "import os\n",
    "import sys\n",
    "\n",
    "os.chdir(\"/Users/davidkurokawa/Work/code/truera/truera/python\")\n",
    "if \"/Users/davidkurokawa/Work/code/truera/truera/python\" not in sys.path:\n",
    "    sys.path.append(\"/Users/davidkurokawa/Work/code/truera/truera/python\")\n",
    "\n",
    "from truera.client.truera_authentication import BasicAuthentication, TokenAuthentication\n",
    "from truera.client.truera_workspace import TrueraWorkspace\n",
    "\n",
    "TRUERA_URL = \"http://localhost:8000\"\n",
    "AUTH_TOKEN = \"\"\n",
    "tru = TrueraWorkspace(TRUERA_URL, BasicAuthentication(\"ailens\", \"ailens123\"))\n",
    "if \"Starter Example Companion - Performance\" in tru.get_projects():\n",
    "    tru.delete_project(\"Starter Example Companion - Performance\")"
   ]
  },
  {
   "cell_type": "markdown",
   "id": "e8ede3b0",
   "metadata": {
    "id": "e8ede3b0"
   },
   "source": [
    "### From here, run the rest of the notebook and follow the analysis."
   ]
  },
  {
   "cell_type": "markdown",
   "id": "bxfSeL0Uw7w8",
   "metadata": {
    "id": "bxfSeL0Uw7w8"
   },
   "source": [
    "### Import packages, set up your TruEra Workspace"
   ]
  },
  {
   "cell_type": "code",
   "execution_count": 4,
   "id": "887135e4",
   "metadata": {
    "execution": {
     "iopub.execute_input": "2023-08-03T22:14:31.293295Z",
     "iopub.status.busy": "2023-08-03T22:14:31.292685Z",
     "iopub.status.idle": "2023-08-03T22:14:31.380637Z",
     "shell.execute_reply": "2023-08-03T22:14:31.379826Z",
     "shell.execute_reply.started": "2023-08-03T22:14:31.293266Z"
    },
    "id": "887135e4"
   },
   "outputs": [],
   "source": [
    "import logging\n",
    "\n",
    "import pandas as pd\n",
    "import xgboost as xgb\n",
    "from truera.client.ingestion import ColumnSpec, ModelOutputContext\n",
    "from truera.client.truera_authentication import TokenAuthentication\n",
    "from truera.client.truera_workspace import TrueraWorkspace\n",
    "\n",
    "#auth = TokenAuthentication(AUTH_TOKEN)\n",
    "#tru = TrueraWorkspace(TRUERA_URL, auth)"
   ]
  },
  {
   "cell_type": "markdown",
   "id": "5806fedf",
   "metadata": {
    "id": "5806fedf"
   },
   "source": [
    "### Load the data and train an xgboost model\n",
    "A bit about the model and data... \n",
    "\n",
    "In this example, we will use real data on the AirBnb listings 🏠 in San Francisco and Seattle to predict the listing price. The Airbnb data was scraped by Inside Airbnb and hosted by OpenDataSoft. Pricing a rental property is a challenging task for Airbnb owners as they need to understand the market, the features of their property, and how those features contribute to listing price.\n",
    "\n",
    "You can find more information about the data here:\n",
    "https://data.opendatasoft.com/explore/dataset/airbnb-listings%40public/"
   ]
  },
  {
   "cell_type": "code",
   "execution_count": 5,
   "id": "25418b1c",
   "metadata": {
    "execution": {
     "iopub.execute_input": "2023-08-03T22:14:31.382298Z",
     "iopub.status.busy": "2023-08-03T22:14:31.381751Z",
     "iopub.status.idle": "2023-08-03T22:14:32.078234Z",
     "shell.execute_reply": "2023-08-03T22:14:32.077340Z",
     "shell.execute_reply.started": "2023-08-03T22:14:31.382270Z"
    }
   },
   "outputs": [],
   "source": [
    "# load data\n",
    "san_francisco = pd.read_csv(\n",
    "    'https://truera-examples.s3.us-west-2.amazonaws.com/data/starter-performance/San_Francisco.csv')\n",
    "seattle = pd.read_csv('https://truera-examples.s3.us-west-2.amazonaws.com/data/starter-performance/Seattle.csv')\n",
    "\n",
    "# make all float\n",
    "san_francisco = san_francisco.astype(float).reset_index(names=\"id\")\n",
    "seattle = seattle.astype(float).reset_index(names=\"id\")"
   ]
  },
  {
   "cell_type": "markdown",
   "id": "c6a85a78",
   "metadata": {},
   "source": [
    "### Now we can create our first project"
   ]
  },
  {
   "cell_type": "code",
   "execution_count": 6,
   "id": "743759f7",
   "metadata": {
    "colab": {
     "base_uri": "https://localhost:8080/"
    },
    "execution": {
     "iopub.execute_input": "2023-08-03T22:14:32.080494Z",
     "iopub.status.busy": "2023-08-03T22:14:32.080027Z",
     "iopub.status.idle": "2023-08-03T22:14:34.015518Z",
     "shell.execute_reply": "2023-08-03T22:14:34.014256Z",
     "shell.execute_reply.started": "2023-08-03T22:14:32.080465Z"
    },
    "id": "743759f7",
    "outputId": "2a568b94-c083-4962-81f9-9b8b970c72c3"
   },
   "outputs": [],
   "source": [
    "# create the first project\n",
    "project_name = \"Starter Example Companion - Performance\"\n",
    "\n",
    "tru.add_project(project_name, score_type='regression')\n",
    "\n",
    "# set up influence algorithm\n",
    "tru.set_influence_type(\"shap\")\n",
    "\n",
    "# reduce settings for speed\n",
    "tru.set_num_internal_qii_samples(100)\n",
    "tru.set_num_default_influences(100)\n",
    "\n",
    "# add data collection\n",
    "tru.add_data_collection(\"Data Collection v1\")"
   ]
  },
  {
   "cell_type": "markdown",
   "id": "04e50e03",
   "metadata": {},
   "source": [
    "### After we've done so, the next thing to do is adding the data.\n",
    "\n",
    "To do so, we'll introduce the add_data method along with the `ColumnSpec`. `add_data` is a general purpose method for adding data to truera and can be used to ingest a variety of data types including feature data, predictions, influences, labels and extra data.\n",
    "\n",
    "`ColumnSpec` is a helper class we imported from truera.client.ingestion that we use to specify which columns in the dataframe are for what purpose. If you prefer, you can skip using `ColumnSpec` and just pass a dict instead, e.g. `{'id_col_name': 'id', ...}`"
   ]
  },
  {
   "cell_type": "code",
   "execution_count": 7,
   "id": "2524db66",
   "metadata": {
    "execution": {
     "iopub.execute_input": "2023-08-03T22:14:34.018713Z",
     "iopub.status.busy": "2023-08-03T22:14:34.018053Z",
     "iopub.status.idle": "2023-08-03T22:14:58.042510Z",
     "shell.execute_reply": "2023-08-03T22:14:58.041553Z",
     "shell.execute_reply.started": "2023-08-03T22:14:34.018683Z"
    }
   },
   "outputs": [
    {
     "name": "stdout",
     "output_type": "stream",
     "text": [
      "Uploading tmp4ssq3o_5.parquet (336.5KiB) -- ### -- file upload complete.\n",
      "Put resource done.\n"
     ]
    },
    {
     "name": "stderr",
     "output_type": "stream",
     "text": [
      "INFO:truera.client.remote_truera_workspace:Waiting for data split to materialize...\n"
     ]
    },
    {
     "name": "stdout",
     "output_type": "stream",
     "text": [
      "Uploading tmpwqr3bqol.parquet (228.9KiB) -- ### -- file upload complete.\n",
      "Put resource done.\n"
     ]
    },
    {
     "name": "stderr",
     "output_type": "stream",
     "text": [
      "INFO:truera.client.remote_truera_workspace:Waiting for data split to materialize...\n"
     ]
    }
   ],
   "source": [
    "# add data to the collection we just created\n",
    "tru.add_data(data=san_francisco,\n",
    "             data_split_name=\"San Francisco\",\n",
    "             column_spec=ColumnSpec(id_col_name=\"id\",\n",
    "                                    pre_data_col_names=list(san_francisco.columns.drop([\"id\", \"price\"])),\n",
    "                                    label_col_names=\"price\"))\n",
    "tru.add_data(data=seattle,\n",
    "             data_split_name=\"Seattle\",\n",
    "             column_spec=ColumnSpec(id_col_name=\"id\",\n",
    "                                    pre_data_col_names=list(seattle.columns.drop([\"id\", \"price\"])),\n",
    "                                    label_col_names=\"price\"))"
   ]
  },
  {
   "cell_type": "markdown",
   "id": "0b44602b",
   "metadata": {},
   "source": [
    "After adding our data, it's a good time to set our background set for calculating feature influences. Generally, it's a good practice to set the background set equal to the training set. We'll do so here."
   ]
  },
  {
   "cell_type": "code",
   "execution_count": 8,
   "id": "dab27027",
   "metadata": {
    "execution": {
     "iopub.execute_input": "2023-08-03T22:14:58.045479Z",
     "iopub.status.busy": "2023-08-03T22:14:58.044864Z",
     "iopub.status.idle": "2023-08-03T22:14:58.229153Z",
     "shell.execute_reply": "2023-08-03T22:14:58.228365Z",
     "shell.execute_reply.started": "2023-08-03T22:14:58.045448Z"
    }
   },
   "outputs": [],
   "source": [
    "tru.set_influences_background_data_split(\"San Francisco\")"
   ]
  },
  {
   "cell_type": "markdown",
   "id": "fb65939d",
   "metadata": {},
   "source": [
    "### Train and register the model"
   ]
  },
  {
   "cell_type": "code",
   "execution_count": 9,
   "id": "353f6d8f",
   "metadata": {
    "execution": {
     "iopub.execute_input": "2023-08-03T22:14:58.234793Z",
     "iopub.status.busy": "2023-08-03T22:14:58.234434Z",
     "iopub.status.idle": "2023-08-03T22:15:02.806758Z",
     "shell.execute_reply": "2023-08-03T22:15:02.805074Z",
     "shell.execute_reply.started": "2023-08-03T22:14:58.234765Z"
    }
   },
   "outputs": [
    {
     "name": "stderr",
     "output_type": "stream",
     "text": [
      "INFO:truera.client.remote_truera_workspace:Uploading xgboost model: XGBRegressor\n",
      "INFO:truera.client.remote_truera_workspace:Verifying model...\n",
      "INFO:truera.client.remote_truera_workspace:✔️ Verified packaged model format.\n",
      "INFO:truera.client.remote_truera_workspace:✔️ Loaded model in current environment.\n",
      "INFO:truera.client.remote_truera_workspace:✔️ Called predict on model.\n",
      "INFO:truera.client.remote_truera_workspace:✔️ Verified model output.\n",
      "INFO:truera.client.remote_truera_workspace:Verification succeeded!\n"
     ]
    },
    {
     "name": "stdout",
     "output_type": "stream",
     "text": [
      "Uploading tmpholjptj4.json (172.9KiB) -- ### -- file upload complete.\n",
      "Uploading MLmodel (218.0B) -- ### -- file upload complete.\n",
      "Uploading conda.yaml (208.0B) -- ### -- file upload complete.\n",
      "Uploading xgboost_regression_predict_wrapper.py (459.0B) -- ### -- file upload complete.\n",
      "Uploading xgboost_regression_predict_wrapper.cpython-310.pyc (1.1KiB) -- ### -- file upload complete.\n",
      "Put resource done.\n"
     ]
    },
    {
     "name": "stderr",
     "output_type": "stream",
     "text": [
      "INFO:truera.client.remote_truera_workspace:Model \"model_1\" is added and associated with remote data collection \"Data Collection v1\". \"model_1\" is set as the model for the workspace context.\n"
     ]
    },
    {
     "name": "stdout",
     "output_type": "stream",
     "text": [
      "Model uploaded to: http://localhost:8000/home/p/Starter%20Example%20Companion%20-%20Performance/m/model_1/\n"
     ]
    },
    {
     "name": "stderr",
     "output_type": "stream",
     "text": [
      "INFO:truera.client.remote_truera_workspace:Triggering computations for model predictions on split San Francisco.\n",
      "INFO:truera.client.remote_truera_workspace:Data collection in remote environment is now set to \"Data Collection v1\". \n",
      "INFO:truera.client.remote_truera_workspace:Setting remote model context to \"model_1\".\n"
     ]
    }
   ],
   "source": [
    "# train first model\n",
    "xgb_reg = xgb.XGBRegressor(eta=0.2, max_depth=4)\n",
    "xgb_reg.fit(san_francisco.drop(['id', 'price'], axis=1), san_francisco.price)\n",
    "\n",
    "# register the model\n",
    "tru.add_python_model(\"model_1\",\n",
    "                     xgb_reg,\n",
    "                     train_split_name=\"San Francisco\",\n",
    "                     train_parameters={\n",
    "                         \"model_type\": \"xgb.XGBRegressor\",\n",
    "                         \"eta\": 0.2,\n",
    "                         \"max_depth\": 4\n",
    "                     })"
   ]
  },
  {
   "cell_type": "markdown",
   "id": "2556a4d8",
   "metadata": {},
   "source": [
    "### Calculate and ingest predicitions.\n",
    "\n",
    "For calculation, we'll use the built-in tru.get_ys_pred() to compute predictions."
   ]
  },
  {
   "cell_type": "code",
   "execution_count": 10,
   "id": "c5428bb7",
   "metadata": {
    "execution": {
     "iopub.execute_input": "2023-08-03T22:15:02.809605Z",
     "iopub.status.busy": "2023-08-03T22:15:02.809062Z",
     "iopub.status.idle": "2023-08-03T22:15:18.671618Z",
     "shell.execute_reply": "2023-08-03T22:15:18.670379Z",
     "shell.execute_reply.started": "2023-08-03T22:15:02.809563Z"
    }
   },
   "outputs": [
    {
     "name": "stderr",
     "output_type": "stream",
     "text": [
      "INFO:truera.client.truera_workspace:Download temp_dir: /var/folders/pg/2f8qcnr92cx4rcwpvm_x2ckc0000gn/T/tmp374awbcd\n",
      "INFO:truera.client.truera_workspace:Syncing data collection \"Data Collection v1\" to local.\n",
      "INFO:truera.client.local.local_truera_workspace:Data collection in local environment is now set to \"Data Collection v1\". \n",
      "INFO:truera.client.truera_workspace:Syncing data split \"San Francisco\" to local.\n",
      "INFO:truera.client.local.local_truera_workspace:Data split \"San Francisco\" is added to local data collection \"Data Collection v1\", and set as the data split for the workspace context.\n",
      "INFO:truera.client.truera_workspace:Syncing model model_1 to local.\n",
      "INFO:truera.client.local.local_truera_workspace:Model \"model_1\" is added and associated with local data collection \"Data Collection v1\". \"model_1\" is set as the model for the workspace context.\n",
      "INFO:truera.client.truera_workspace:Syncing segments groups from remote to local.\n",
      "INFO:truera.client.local.local_truera_workspace:The previous data collection (\"Data Collection v1\") and its associated data splits and/or models have been cleared from the local environment workspace context.\n",
      "INFO:truera.client.local.local_truera_workspace:Data collection in local environment is now set to \"Data Collection v1\". \n",
      "INFO:truera.client.local.local_truera_workspace:Setting local model context to \"model_1\".\n",
      "INFO:truera.client.truera_workspace:Download temp_dir: /var/folders/pg/2f8qcnr92cx4rcwpvm_x2ckc0000gn/T/tmp374awbcd\n",
      "INFO:truera.client.truera_workspace:Syncing data collection \"Data Collection v1\" to local.\n",
      "WARNING:truera.client.truera_workspace:Data split \"San Francisco\" exists in local. Skipping.\n",
      "INFO:truera.client.truera_workspace:Syncing data split \"Seattle\" to local.\n",
      "INFO:truera.client.local.local_truera_workspace:Data split \"Seattle\" is added to local data collection \"Data Collection v1\", and set as the data split for the workspace context.\n",
      "WARNING:truera.client.truera_workspace:Model \"model_1\" already exists in local. Skipping.\n",
      "INFO:truera.client.truera_workspace:Syncing segments groups from remote to local.\n"
     ]
    }
   ],
   "source": [
    "tru.set_data_split(\"San Francisco\")\n",
    "sf_preds = tru.get_ys_pred().reset_index(names=\"id\")\n",
    "tru.set_data_split(\"Seattle\")\n",
    "se_preds = tru.get_ys_pred().reset_index(names=\"id\")"
   ]
  },
  {
   "cell_type": "markdown",
   "id": "e98a4287",
   "metadata": {},
   "source": [
    "Once we've computed our predictions we can add them again using add_data. We'll also use column_spec here, but this time we need to supply our prediction_col_names."
   ]
  },
  {
   "cell_type": "code",
   "execution_count": 11,
   "id": "960abe14",
   "metadata": {
    "execution": {
     "iopub.execute_input": "2023-08-03T22:15:18.674017Z",
     "iopub.status.busy": "2023-08-03T22:15:18.673486Z",
     "iopub.status.idle": "2023-08-03T22:15:32.263303Z",
     "shell.execute_reply": "2023-08-03T22:15:32.261808Z",
     "shell.execute_reply.started": "2023-08-03T22:15:18.673981Z"
    }
   },
   "outputs": [
    {
     "name": "stderr",
     "output_type": "stream",
     "text": [
      "INFO:truera.client.remote_truera_workspace:`model_output_context` will be inferred as it was not provided.\n",
      "INFO:truera.client.remote_truera_workspace:Inferred ModelOutputContext: ModelOutputContext(model_name='model_1', score_type='regression', background_split_name='', influence_type='')\n"
     ]
    },
    {
     "name": "stdout",
     "output_type": "stream",
     "text": [
      "Uploading tmpstdc98d4.parquet (70.7KiB) -- ### -- file upload complete.\n",
      "Put resource done.\n"
     ]
    },
    {
     "name": "stderr",
     "output_type": "stream",
     "text": [
      "INFO:truera.client.remote_truera_workspace:Waiting for data split to materialize...\n",
      "INFO:truera.client.remote_truera_workspace:`model_output_context` will be inferred as it was not provided.\n",
      "INFO:truera.client.remote_truera_workspace:Inferred ModelOutputContext: ModelOutputContext(model_name='model_1', score_type='regression', background_split_name='', influence_type='')\n"
     ]
    },
    {
     "name": "stdout",
     "output_type": "stream",
     "text": [
      "Uploading tmp_jh22plt.parquet (44.2KiB) -- ### -- file upload complete.\n",
      "Put resource done.\n"
     ]
    },
    {
     "name": "stderr",
     "output_type": "stream",
     "text": [
      "INFO:truera.client.remote_truera_workspace:Waiting for data split to materialize...\n"
     ]
    }
   ],
   "source": [
    "tru.add_data(data=sf_preds,\n",
    "             data_split_name=\"San Francisco\",\n",
    "             column_spec=ColumnSpec(id_col_name=\"id\", prediction_col_names=\"__truera_prediction__\"))\n",
    "\n",
    "tru.add_data(data=se_preds,\n",
    "             data_split_name=\"Seattle\",\n",
    "             column_spec=ColumnSpec(id_col_name=\"id\", prediction_col_names=\"__truera_prediction__\"))"
   ]
  },
  {
   "cell_type": "markdown",
   "id": "0c893111",
   "metadata": {},
   "source": [
    "### Computing and Ingesting Feature Influences\n",
    "\n",
    "Feature influences are a core component of the TruEra platform that enables model explainability.\n",
    "\n",
    "To compute them, we'll use `compute_feature_influences`. We'll use opensource SHAP as our influence calculation method here. \n",
    "\n",
    "Note: TruEra-QII is available for paid users to provide faster and more accurate computation."
   ]
  },
  {
   "cell_type": "code",
   "execution_count": 14,
   "id": "2086d3ef",
   "metadata": {
    "execution": {
     "iopub.execute_input": "2023-08-03T22:16:32.850171Z",
     "iopub.status.busy": "2023-08-03T22:16:32.849810Z",
     "iopub.status.idle": "2023-08-03T22:17:44.757570Z",
     "shell.execute_reply": "2023-08-03T22:17:44.755927Z",
     "shell.execute_reply.started": "2023-08-03T22:16:32.850146Z"
    }
   },
   "outputs": [
    {
     "name": "stderr",
     "output_type": "stream",
     "text": [
      "INFO:truera.client.truera_workspace:Download temp_dir: /var/folders/pg/2f8qcnr92cx4rcwpvm_x2ckc0000gn/T/tmp374awbcd\n",
      "INFO:truera.client.truera_workspace:Syncing data collection \"Data Collection v1\" to local.\n",
      "WARNING:truera.client.truera_workspace:Data split \"San Francisco\" exists in local. Skipping.\n",
      "WARNING:truera.client.truera_workspace:Data split \"Seattle\" exists in local. Skipping.\n",
      "WARNING:truera.client.truera_workspace:Model \"model_1\" already exists in local. Skipping.\n",
      "INFO:truera.client.truera_workspace:Syncing segments groups from remote to local.\n",
      "WARNING:truera.client.local.intelligence.local_explainer:Background split for `data_collection` \"Data Collection v1\" is currently not set. Setting it to \"San Francisco\"\n"
     ]
    },
    {
     "name": "stdout",
     "output_type": "stream",
     "text": [
      "Uploading tmpq1q7ev3b.parquet (121.9KiB) -- ### -- file upload complete.\n",
      "Put resource done.\n"
     ]
    },
    {
     "name": "stderr",
     "output_type": "stream",
     "text": [
      "INFO:truera.client.remote_truera_workspace:Waiting for data split to materialize...\n",
      "INFO:truera.client.truera_workspace:Download temp_dir: /var/folders/pg/2f8qcnr92cx4rcwpvm_x2ckc0000gn/T/tmp374awbcd\n",
      "INFO:truera.client.truera_workspace:Syncing data collection \"Data Collection v1\" to local.\n",
      "WARNING:truera.client.truera_workspace:Data split \"San Francisco\" exists in local. Skipping.\n",
      "WARNING:truera.client.truera_workspace:Model \"model_1\" already exists in local. Skipping.\n",
      "INFO:truera.client.truera_workspace:Syncing segments groups from remote to local.\n"
     ]
    },
    {
     "name": "stdout",
     "output_type": "stream",
     "text": [
      "Uploading tmpvtlb34jt.parquet (131.8KiB) -- ### -- file upload complete.\n",
      "Put resource done.\n"
     ]
    },
    {
     "name": "stderr",
     "output_type": "stream",
     "text": [
      "INFO:truera.client.remote_truera_workspace:Waiting for data split to materialize...\n"
     ]
    }
   ],
   "source": [
    "tru.set_influence_type(\"shap\")\n",
    "\n",
    "for data_split_name in [\"Seattle\", \"San Francisco\"]:\n",
    "    tru.set_data_split(data_split_name)\n",
    "    tru.compute_feature_influences()"
   ]
  },
  {
   "cell_type": "markdown",
   "id": "f0dc34ef",
   "metadata": {},
   "source": [
    "### Computing and Ingesting Error Influences\n",
    "\n",
    "Error influences are a core component of the TruEra platform that enables model explainability.\n",
    "\n",
    "To compute them, we'll again use `compute_feature_influences`, except with a different score type: `\"mean_absolute_error_for_regression\"`."
   ]
  },
  {
   "cell_type": "code",
   "execution_count": 17,
   "id": "334051f9",
   "metadata": {
    "execution": {
     "iopub.execute_input": "2023-08-03T22:20:13.373490Z",
     "iopub.status.busy": "2023-08-03T22:20:13.373021Z",
     "iopub.status.idle": "2023-08-03T22:23:34.365945Z",
     "shell.execute_reply": "2023-08-03T22:23:34.364836Z",
     "shell.execute_reply.started": "2023-08-03T22:20:13.373462Z"
    }
   },
   "outputs": [
    {
     "name": "stderr",
     "output_type": "stream",
     "text": [
      "INFO:truera.client.truera_workspace:Download temp_dir: /var/folders/pg/2f8qcnr92cx4rcwpvm_x2ckc0000gn/T/tmp374awbcd\n",
      "INFO:truera.client.truera_workspace:Syncing data collection \"Data Collection v1\" to local.\n",
      "WARNING:truera.client.truera_workspace:Data split \"San Francisco\" exists in local. Skipping.\n",
      "WARNING:truera.client.truera_workspace:Data split \"Seattle\" exists in local. Skipping.\n",
      "WARNING:truera.client.truera_workspace:Model \"model_1\" already exists in local. Skipping.\n",
      "INFO:truera.client.truera_workspace:Syncing segments groups from remote to local.\n",
      "WARNING:truera.client.local.intelligence.local_explainer:Failed to use TreeSHAP for this model. Defaulting to KernelSHAP...\n",
      "WARNING:truera.client.local.intelligence.local_explainer:TreeSHAP cannot handle error influence computations for regression models!\n"
     ]
    },
    {
     "data": {
      "application/vnd.jupyter.widget-view+json": {
       "model_id": "e38b447851364034a379d3fbc2ab8d05",
       "version_major": 2,
       "version_minor": 0
      },
      "text/plain": [
       "|          | 0.000% [00:00<?]"
      ]
     },
     "metadata": {},
     "output_type": "display_data"
    },
    {
     "name": "stdout",
     "output_type": "stream",
     "text": [
      "Uploading tmprkz3vio3.parquet (114.2KiB) -- ### -- file upload complete.\n",
      "Put resource done.\n"
     ]
    },
    {
     "name": "stderr",
     "output_type": "stream",
     "text": [
      "INFO:truera.client.remote_truera_workspace:Waiting for data split to materialize...\n",
      "INFO:truera.client.truera_workspace:Download temp_dir: /var/folders/pg/2f8qcnr92cx4rcwpvm_x2ckc0000gn/T/tmp374awbcd\n",
      "INFO:truera.client.truera_workspace:Syncing data collection \"Data Collection v1\" to local.\n",
      "WARNING:truera.client.truera_workspace:Data split \"San Francisco\" exists in local. Skipping.\n",
      "WARNING:truera.client.truera_workspace:Model \"model_1\" already exists in local. Skipping.\n",
      "INFO:truera.client.truera_workspace:Syncing segments groups from remote to local.\n",
      "WARNING:truera.client.local.intelligence.local_explainer:Failed to use TreeSHAP for this model. Defaulting to KernelSHAP...\n",
      "WARNING:truera.client.local.intelligence.local_explainer:TreeSHAP cannot handle error influence computations for regression models!\n"
     ]
    },
    {
     "data": {
      "application/vnd.jupyter.widget-view+json": {
       "model_id": "44d84cb3d3634d4eb1bcb5d7832a5cf5",
       "version_major": 2,
       "version_minor": 0
      },
      "text/plain": [
       "|          | 0.000% [00:00<?]"
      ]
     },
     "metadata": {},
     "output_type": "display_data"
    },
    {
     "name": "stdout",
     "output_type": "stream",
     "text": [
      "Uploading tmpvsghn9dd.parquet (113.7KiB) -- ### -- file upload complete.\n",
      "Put resource done.\n"
     ]
    },
    {
     "name": "stderr",
     "output_type": "stream",
     "text": [
      "INFO:truera.client.remote_truera_workspace:Waiting for data split to materialize...\n"
     ]
    }
   ],
   "source": [
    "for data_split_name in [\"Seattle\", \"San Francisco\"]:\n",
    "    tru.set_data_split(data_split_name)\n",
    "    tru.compute_feature_influences(score_type='mean_absolute_error_for_regression')"
   ]
  },
  {
   "cell_type": "markdown",
   "id": "d89c5145",
   "metadata": {
    "id": "d89c5145"
   },
   "source": [
    "### Issue: Overfitting\n",
    "\n",
    "We observe there to be a large discrepency between our train and test accuracy!"
   ]
  },
  {
   "cell_type": "code",
   "execution_count": 18,
   "id": "66c431d2",
   "metadata": {
    "ExecuteTime": {
     "end_time": "2022-08-31T21:21:42.608027Z",
     "start_time": "2022-08-31T21:21:41.231410Z"
    },
    "colab": {
     "base_uri": "https://localhost:8080/",
     "height": 147
    },
    "execution": {
     "iopub.execute_input": "2023-08-03T22:23:34.368667Z",
     "iopub.status.busy": "2023-08-03T22:23:34.368109Z",
     "iopub.status.idle": "2023-08-03T22:23:35.817132Z",
     "shell.execute_reply": "2023-08-03T22:23:35.816052Z",
     "shell.execute_reply.started": "2023-08-03T22:23:34.368632Z"
    },
    "id": "66c431d2",
    "outputId": "cdeb9e8f-91b7-4766-8123-c2135b5d1815"
   },
   "outputs": [
    {
     "name": "stderr",
     "output_type": "stream",
     "text": [
      "INFO:truera.client.truera_workspace:Download temp_dir: /var/folders/pg/2f8qcnr92cx4rcwpvm_x2ckc0000gn/T/tmp374awbcd\n",
      "INFO:truera.client.truera_workspace:Syncing data collection \"Data Collection v1\" to local.\n",
      "WARNING:truera.client.truera_workspace:Data split \"San Francisco\" exists in local. Skipping.\n",
      "WARNING:truera.client.truera_workspace:Data split \"Seattle\" exists in local. Skipping.\n",
      "WARNING:truera.client.truera_workspace:Model \"model_1\" already exists in local. Skipping.\n",
      "INFO:truera.client.truera_workspace:Syncing segments groups from remote to local.\n"
     ]
    },
    {
     "data": {
      "text/html": [
       "<div>\n",
       "<style scoped>\n",
       "    .dataframe tbody tr th:only-of-type {\n",
       "        vertical-align: middle;\n",
       "    }\n",
       "\n",
       "    .dataframe tbody tr th {\n",
       "        vertical-align: top;\n",
       "    }\n",
       "\n",
       "    .dataframe thead th {\n",
       "        text-align: right;\n",
       "    }\n",
       "</style>\n",
       "<table border=\"1\" class=\"dataframe\">\n",
       "  <thead>\n",
       "    <tr style=\"text-align: right;\">\n",
       "      <th></th>\n",
       "      <th>Split</th>\n",
       "      <th>MAE</th>\n",
       "    </tr>\n",
       "  </thead>\n",
       "  <tbody>\n",
       "    <tr>\n",
       "      <th>0</th>\n",
       "      <td>Seattle</td>\n",
       "      <td>110.269441</td>\n",
       "    </tr>\n",
       "    <tr>\n",
       "      <th>1</th>\n",
       "      <td>San Francisco</td>\n",
       "      <td>47.540053</td>\n",
       "    </tr>\n",
       "  </tbody>\n",
       "</table>\n",
       "</div>"
      ],
      "text/plain": [
       "           Split         MAE\n",
       "0        Seattle  110.269441\n",
       "1  San Francisco   47.540053"
      ]
     },
     "execution_count": 18,
     "metadata": {},
     "output_type": "execute_result"
    }
   ],
   "source": [
    "# set default performance metric\n",
    "tru.set_default_performance_metrics([\"MAE\"])\n",
    "\n",
    "train_split_name = \"San Francisco\"\n",
    "test_split_name = \"Seattle\"\n",
    "\n",
    "# generate the explainer and compute performance\n",
    "explainer = tru.get_explainer(test_split_name, comparison_data_splits=[train_split_name])\n",
    "explainer.compute_performance(metric_type=\"MAE\")"
   ]
  },
  {
   "cell_type": "markdown",
   "id": "d5f6ae57",
   "metadata": {
    "id": "d5f6ae57"
   },
   "source": [
    "### Create Tests\n",
    "\n",
    "To help us keep track of this issue, let's add a test for it!\n",
    "\n",
    "Additionally, too many unimportant features is a common cause of overfitting. We should test for that as well.\n",
    "\n",
    "Note that we could also set up tests for fairness and stability."
   ]
  },
  {
   "cell_type": "code",
   "execution_count": 19,
   "id": "LmoZ7l0hxV6L",
   "metadata": {
    "execution": {
     "iopub.execute_input": "2023-08-03T22:23:35.819274Z",
     "iopub.status.busy": "2023-08-03T22:23:35.818636Z",
     "iopub.status.idle": "2023-08-03T22:23:36.307035Z",
     "shell.execute_reply": "2023-08-03T22:23:36.306140Z",
     "shell.execute_reply.started": "2023-08-03T22:23:35.819239Z"
    },
    "id": "LmoZ7l0hxV6L"
   },
   "outputs": [],
   "source": [
    "# add performance tests\n",
    "tru.tester.add_performance_test(test_name='Relative MAE Test',\n",
    "                                all_data_collections=True,\n",
    "                                data_split_name_regex='Seattle',\n",
    "                                metric=\"MAE\",\n",
    "                                reference_split_name=train_split_name,\n",
    "                                fail_if_greater_than=0.80,\n",
    "                                fail_threshold_type=\"RELATIVE\")\n",
    "\n",
    "tru.tester.add_performance_test(test_name='RMSE Test',\n",
    "                                all_data_collections=True,\n",
    "                                data_split_name_regex='.*',\n",
    "                                metric=\"RMSE\",\n",
    "                                fail_if_greater_than=115,\n",
    "                                fail_threshold_type=\"ABSOLUTE\")"
   ]
  },
  {
   "cell_type": "markdown",
   "id": "v9674AqUxYsv",
   "metadata": {
    "id": "v9674AqUxYsv"
   },
   "source": [
    "### View Test Results"
   ]
  },
  {
   "cell_type": "code",
   "execution_count": 20,
   "id": "qBEnIFjk71pk",
   "metadata": {
    "colab": {
     "base_uri": "https://localhost:8080/",
     "height": 124
    },
    "execution": {
     "iopub.execute_input": "2023-08-03T22:23:36.310686Z",
     "iopub.status.busy": "2023-08-03T22:23:36.310076Z",
     "iopub.status.idle": "2023-08-03T22:23:41.456374Z",
     "shell.execute_reply": "2023-08-03T22:23:41.455475Z",
     "shell.execute_reply.started": "2023-08-03T22:23:36.310658Z"
    },
    "id": "qBEnIFjk71pk",
    "outputId": "e5a96fe3-d2fc-43c5-b09b-444e9a714c9e"
   },
   "outputs": [
    {
     "data": {
      "text/html": [
       "\n",
       "        <html>\n",
       "        <head>\n",
       "        <style>\n",
       "        table, th, td {\n",
       "            border-radius: 5px;\n",
       "        }\n",
       "        .header {\n",
       "            font-weight: bold;\n",
       "            font-size: 14px;\n",
       "        }\n",
       "        caption {\n",
       "            font-weight: bolder;\n",
       "            font-size: 16px;\n",
       "            background-color: powderblue;\n",
       "            color: black;\n",
       "            border-radius: 5px;\n",
       "        }\n",
       "        \n",
       "            .PASSED {\n",
       "                color: black;\n",
       "                background-color: palegreen;\n",
       "            }\n",
       "            .WARNING {\n",
       "                color: black;\n",
       "                background-color: yellow;\n",
       "            }\n",
       "            .FAILED {\n",
       "                color: black;\n",
       "                background-color: pink;\n",
       "            }\n",
       "            \n",
       "        </style>\n",
       "        </head>\n",
       "        <body>\n",
       "        <table>\n",
       "            <caption>Performance Tests Results for Model \"model_1\"</caption>\n",
       "            <tr class=\"header\"><td></td><td>Name</td><td>Split</td><td>Segment</td><td>Metric</td><td>Score</td><td>Navigate</td></tr>\n",
       "            <tr><td >❌</td><td >Relative MAE Test</td><td >Seattle</td><td >ALL POINTS</td><td >MAE</td><td class=\"FAILED\">110.2694</td><td ><a href=\"http://localhost:8000/home/p/Starter Example Companion - Performance/m/model_1/t/performance?splitId=d5d0db26-e2ee-45d4-9573-1ab96c0b5a20&modelIds=ecf8602c-8bf8-4d2d-8df4-2299284a2d91&\" target=\"_blank\">Explore in UI</a></td></tr><tr><td >❌</td><td >RMSE Test</td><td >Seattle</td><td >ALL POINTS</td><td >RMSE</td><td class=\"FAILED\">154.0107</td><td ><a href=\"http://localhost:8000/home/p/Starter Example Companion - Performance/m/model_1/t/performance?splitId=d5d0db26-e2ee-45d4-9573-1ab96c0b5a20&modelIds=ecf8602c-8bf8-4d2d-8df4-2299284a2d91&\" target=\"_blank\">Explore in UI</a></td></tr><tr><td >✅</td><td >RMSE Test</td><td >San Francisco</td><td >ALL POINTS</td><td >RMSE</td><td class=\"PASSED\">75.6847</td><td ><a href=\"http://localhost:8000/home/p/Starter Example Companion - Performance/m/model_1/t/performance?splitId=c835af3d-98f9-4c5d-8b9c-6b852e5e82dd&modelIds=ecf8602c-8bf8-4d2d-8df4-2299284a2d91&\" target=\"_blank\">Explore in UI</a></td></tr>\n",
       "        </table>\n",
       "        </body>\n",
       "        </html>\n",
       "        "
      ],
      "text/plain": [
       "<truera.client.intelligence.model_tests.ModelTestResults at 0x7f857dd53550>"
      ]
     },
     "execution_count": 20,
     "metadata": {},
     "output_type": "execute_result"
    }
   ],
   "source": [
    "# get model results\n",
    "tru.set_model(\"model_1\")\n",
    "tru.tester.get_model_test_results(test_types=[\"performance\"])"
   ]
  },
  {
   "cell_type": "markdown",
   "id": "5b1a7a46-7b91-489a-95c6-5cb625b0bf33",
   "metadata": {
    "execution": {
     "iopub.execute_input": "2023-08-03T22:23:41.457953Z",
     "iopub.status.busy": "2023-08-03T22:23:41.457471Z",
     "iopub.status.idle": "2023-08-03T22:23:41.464370Z",
     "shell.execute_reply": "2023-08-03T22:23:41.462756Z",
     "shell.execute_reply.started": "2023-08-03T22:23:41.457924Z"
    }
   },
   "source": [
    "Both tests are failing."
   ]
  },
  {
   "cell_type": "markdown",
   "id": "de1ed7b4",
   "metadata": {
    "id": "de1ed7b4"
   },
   "source": [
    "### From here, navigate to the TruEra Web App for analysis or continue on to Part 2!     [![Open In Colab](https://colab.research.google.com/assets/colab-badge.svg)](https://colab.research.google.com/drive/16DexGCY1i4A5fLJZXC7xHPpqCSrQhVab)"
   ]
  }
 ],
 "metadata": {
  "colab": {
   "collapsed_sections": [
    "dbea14e2"
   ],
   "provenance": []
  },
  "gpuClass": "standard",
  "kernelspec": {
   "display_name": "Python 3 (ipykernel)",
   "language": "python",
   "name": "python3"
  },
  "language_info": {
   "codemirror_mode": {
    "name": "ipython",
    "version": 3
   },
   "file_extension": ".py",
   "mimetype": "text/x-python",
   "name": "python",
   "nbconvert_exporter": "python",
   "pygments_lexer": "ipython3",
   "version": "3.10.6"
  },
  "latex_envs": {
   "LaTeX_envs_menu_present": true,
   "autoclose": false,
   "autocomplete": true,
   "bibliofile": "biblio.bib",
   "cite_by": "apalike",
   "current_citInitial": 1,
   "eqLabelWithNumbers": true,
   "eqNumInitial": 1,
   "hotkeys": {
    "equation": "Ctrl-E",
    "itemize": "Ctrl-I"
   },
   "labels_anchors": false,
   "latex_user_defs": false,
   "report_style_numbering": false,
   "user_envs_cfg": false
  },
  "toc": {
   "base_numbering": 1,
   "nav_menu": {},
   "number_sections": true,
   "sideBar": true,
   "skip_h1_title": false,
   "title_cell": "Table of Contents",
   "title_sidebar": "Contents",
   "toc_cell": false,
   "toc_position": {},
   "toc_section_display": true,
   "toc_window_display": false
  },
  "vscode": {
   "interpreter": {
    "hash": "b4f2e5daa82a60c8a70e0d3e9bda538f88cddb8e82481cb13c1d3f460faace44"
   }
  }
 },
 "nbformat": 4,
 "nbformat_minor": 5
}

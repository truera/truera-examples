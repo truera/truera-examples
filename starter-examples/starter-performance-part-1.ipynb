{
 "cells": [
  {
   "cell_type": "markdown",
   "id": "bf792a77",
   "metadata": {
    "id": "bf792a77"
   },
   "source": [
    "# Guided Exercise: Performance\n",
    "\n",
    "### Goals 🎯\n",
    "In this tutorial, you will use TruEra to train and ingest a model, and then make performance improvements to our model in a structured and methodical way!\n",
    "\n",
    "In this tutorial, you will:\n",
    "1. Set up and view the results of performance and feature importance tests.\n",
    "2. Find actionable issues with the model.\n",
    "3. Mitigate these issues and re-upload your model to TruEra.\n",
    "4. Retest the new model and confirm the effectivenesss of the mitigation strategy.\n",
    "\n",
    "### First, set the credentials for your TruEra deployment.\n",
    "\n",
    "If you don't have credentials yet, get them instantly by signing up for free at: https://www.truera.com"
   ]
  },
  {
   "cell_type": "code",
   "execution_count": null,
   "id": "61f77925",
   "metadata": {
    "id": "61f77925"
   },
   "outputs": [],
   "source": [
    "# connection details\n",
    "TRUERA_URL = \"https://app.truera.net/\"\n",
    "AUTH_TOKEN = \"...\""
   ]
  },
  {
   "cell_type": "markdown",
   "id": "a055cd87",
   "metadata": {},
   "source": [
    "### Install required packages"
   ]
  },
  {
   "cell_type": "code",
   "execution_count": null,
   "id": "baeb34d6",
   "metadata": {},
   "outputs": [],
   "source": [
    "! pip install --upgrade xgboost==1.6.2\n",
    "! pip install truera"
   ]
  },
  {
   "cell_type": "markdown",
   "id": "e8ede3b0",
   "metadata": {
    "id": "e8ede3b0"
   },
   "source": [
    "### From here, run the rest of the notebook and follow the analysis."
   ]
  },
  {
   "cell_type": "markdown",
   "id": "bxfSeL0Uw7w8",
   "metadata": {
    "id": "bxfSeL0Uw7w8"
   },
   "source": [
    "### Import packages, set up your TruEra Workspace"
   ]
  },
  {
   "cell_type": "code",
   "execution_count": null,
   "id": "887135e4",
   "metadata": {
    "id": "887135e4"
   },
   "outputs": [],
   "source": [
    "import logging\n",
    "\n",
    "import pandas as pd\n",
    "import xgboost as xgb\n",
    "from truera.client.ingestion import ColumnSpec, ModelOutputContext\n",
    "from truera.client.truera_authentication import TokenAuthentication\n",
    "from truera.client.truera_workspace import TrueraWorkspace\n",
    "\n",
    "auth = TokenAuthentication(AUTH_TOKEN)\n",
    "tru = TrueraWorkspace(TRUERA_URL, auth)"
   ]
  },
  {
   "cell_type": "markdown",
   "id": "5806fedf",
   "metadata": {
    "id": "5806fedf"
   },
   "source": [
    "### Load the data and train an xgboost model\n",
    "A bit about the model and data... \n",
    "\n",
    "In this example, we will use real data on the AirBnb listings 🏠 in San Francisco and Seattle to predict the listing price. The Airbnb data was scraped by Inside Airbnb and hosted by OpenDataSoft. Pricing a rental property is a challenging task for Airbnb owners as they need to understand the market, the features of their property, and how those features contribute to listing price.\n",
    "\n",
    "You can find more information about the data here:\n",
    "https://data.opendatasoft.com/explore/dataset/airbnb-listings%40public/"
   ]
  },
  {
   "cell_type": "code",
   "execution_count": null,
   "id": "25418b1c",
   "metadata": {},
   "outputs": [],
   "source": [
    "# load data\n",
    "san_francisco = pd.read_csv(\n",
    "    'https://truera-examples.s3.us-west-2.amazonaws.com/data/starter-performance/San_Francisco.csv')\n",
    "seattle = pd.read_csv('https://truera-examples.s3.us-west-2.amazonaws.com/data/starter-performance/Seattle.csv')\n",
    "\n",
    "# make all float\n",
    "san_francisco = san_francisco.astype(float).reset_index(names=\"id\")\n",
    "seattle = seattle.astype(float).reset_index(names=\"id\")"
   ]
  },
  {
   "cell_type": "markdown",
   "id": "c6a85a78",
   "metadata": {},
   "source": [
    "### Now we can create our first project"
   ]
  },
  {
   "cell_type": "code",
   "execution_count": null,
   "id": "743759f7",
   "metadata": {
    "colab": {
     "base_uri": "https://localhost:8080/"
    },
    "id": "743759f7",
    "outputId": "2a568b94-c083-4962-81f9-9b8b970c72c3"
   },
   "outputs": [],
   "source": [
    "# create the first project\n",
    "project_name = \"Starter Example Companion - Performance\"\n",
    "\n",
    "tru.add_project(project_name, score_type='regression')\n",
    "\n",
    "# set up influence algorithm\n",
    "tru.set_influence_type(\"shap\")\n",
    "\n",
    "# reduce settings for speed\n",
    "tru.set_num_internal_qii_samples(100)\n",
    "tru.set_num_default_influences(100)\n",
    "\n",
    "# add data collection\n",
    "tru.add_data_collection(\"Data Collection v1\")"
   ]
  },
  {
   "cell_type": "markdown",
   "id": "04e50e03",
   "metadata": {},
   "source": [
    "### After we've done so, the next thing to do is adding the data.\n",
    "\n",
    "To do so, we'll introduce the add_data method along with the `ColumnSpec`. `add_data` is a general purpose method for adding data to truera and can be used to ingest a variety of data types including feature data, predictions, influences, labels and extra data.\n",
    "\n",
    "`ColumnSpec` is a helper class we imported from truera.client.ingestion that we use to specify which columns in the dataframe are for what purpose. If you prefer, you can skip using `ColumnSpec` and just pass a dict instead, e.g. `{'id_col_name': 'id', ...}`"
   ]
  },
  {
   "cell_type": "code",
   "execution_count": null,
   "id": "2524db66",
   "metadata": {},
   "outputs": [],
   "source": [
    "# add data to the collection we just created\n",
    "tru.add_data(data=san_francisco,\n",
    "             data_split_name=\"San Francisco\",\n",
    "             column_spec=ColumnSpec(id_col_name=\"id\",\n",
    "                                    pre_data_col_names=list(san_francisco.columns.drop([\"id\", \"price\"])),\n",
    "                                    label_col_names=\"price\"))\n",
    "tru.add_data(data=seattle,\n",
    "             data_split_name=\"Seattle\",\n",
    "             column_spec=ColumnSpec(id_col_name=\"id\",\n",
    "                                    pre_data_col_names=list(seattle.columns.drop([\"id\", \"price\"])),\n",
    "                                    label_col_names=\"price\"))"
   ]
  },
  {
   "cell_type": "markdown",
   "id": "0b44602b",
   "metadata": {},
   "source": [
    "After adding our data, it's a good time to set our background set for calculating feature influences. Generally, it's a good practice to set the background set equal to the training set. We'll do so here."
   ]
  },
  {
   "cell_type": "code",
   "execution_count": null,
   "id": "dab27027",
   "metadata": {},
   "outputs": [],
   "source": [
    "tru.set_influences_background_data_split(\"San Francisco\")"
   ]
  },
  {
   "cell_type": "markdown",
   "id": "fb65939d",
   "metadata": {},
   "source": [
    "### Train and register the model"
   ]
  },
  {
   "cell_type": "code",
   "execution_count": null,
   "id": "353f6d8f",
   "metadata": {},
   "outputs": [],
   "source": [
    "# train first model\n",
    "xgb_reg = xgb.XGBRegressor(eta=0.2, max_depth=4)\n",
    "xgb_reg.fit(san_francisco.drop(['id', 'price'], axis=1), san_francisco.price)\n",
    "\n",
    "# register the model\n",
    "tru.add_python_model(\"model_1\",\n",
    "                     xgb_reg,\n",
    "                     train_split_name=\"San Francisco\",\n",
    "                     train_parameters={\n",
    "                         \"model_type\": \"xgb.XGBRegressor\",\n",
    "                         \"eta\": 0.2,\n",
    "                         \"max_depth\": 4\n",
    "                     })"
   ]
  },
  {
   "cell_type": "markdown",
   "id": "2556a4d8",
   "metadata": {},
   "source": [
    "### Calculate and ingest predicitions.\n",
    "\n",
    "For calculation, we'll use the built-in tru.get_ys_pred() to compute predictions."
   ]
  },
  {
   "cell_type": "code",
   "execution_count": null,
   "id": "c5428bb7",
   "metadata": {},
   "outputs": [],
   "source": [
    "tru.set_data_split(\"San Francisco\")\n",
    "sf_preds = tru.get_ys_pred().reset_index(names=\"id\")\n",
    "tru.set_data_split(\"Seattle\")\n",
    "se_preds = tru.get_ys_pred().reset_index(names=\"id\")"
   ]
  },
  {
   "cell_type": "markdown",
   "id": "e98a4287",
   "metadata": {},
   "source": [
    "Once we've computed our predictions we can add them again using add_data. We'll also use column_spec here, but this time we need to supply our prediction_col_names."
   ]
  },
  {
   "cell_type": "code",
   "execution_count": null,
   "id": "960abe14",
   "metadata": {},
   "outputs": [],
   "source": [
    "tru.add_data(data=sf_preds,\n",
    "             data_split_name=\"San Francisco\",\n",
    "             column_spec=ColumnSpec(id_col_name=\"id\", prediction_col_names=\"__truera_prediction__\"))\n",
    "\n",
    "tru.add_data(data=se_preds,\n",
    "             data_split_name=\"Seattle\",\n",
    "             column_spec=ColumnSpec(id_col_name=\"id\", prediction_col_names=\"__truera_prediction__\"))"
   ]
  },
  {
   "cell_type": "markdown",
   "id": "0c893111",
   "metadata": {},
   "source": [
    "### Computing and Ingesting Feature Influences\n",
    "\n",
    "Feature influences are a core component of the TruEra platform that enables model explainability.\n",
    "\n",
    "To compute them, we'll use `compute_feature_influences`. We'll use opensource SHAP as our influence calculation method here. \n",
    "\n",
    "Note: TruEra-QII is available for paid users to provide faster and more accurate computation."
   ]
  },
  {
   "cell_type": "code",
   "execution_count": null,
   "id": "2086d3ef",
   "metadata": {},
   "outputs": [],
   "source": [
    "tru.set_influence_type(\"shap\")\n",
    "\n",
    "for data_split_name in [\"Seattle\", \"San Francisco\"]:\n",
    "    tru.set_data_split(data_split_name)\n",
    "    tru.compute_feature_influences()"
   ]
  },
  {
   "cell_type": "markdown",
   "id": "f0dc34ef",
   "metadata": {},
   "source": [
    "### Computing and Ingesting Error Influences\n",
    "\n",
    "Error influences are a core component of the TruEra platform that enables model explainability.\n",
    "\n",
    "To compute them, we'll again use `compute_feature_influences`, except with a different score type: `\"mean_absolute_error_for_regression\"`."
   ]
  },
  {
   "cell_type": "code",
   "execution_count": null,
   "id": "334051f9",
   "metadata": {},
   "outputs": [],
   "source": [
    "for data_split_name in [\"Seattle\", \"San Francisco\"]:\n",
    "    tru.set_data_split(data_split_name)\n",
    "    tru.compute_feature_influences(score_type='mean_absolute_error_for_regression')"
   ]
  },
  {
   "cell_type": "markdown",
   "id": "d89c5145",
   "metadata": {
    "id": "d89c5145"
   },
   "source": [
    "### Issue: Overfitting\n",
    "\n",
    "We observe there to be a large discrepency between our train and test accuracy!"
   ]
  },
  {
   "cell_type": "code",
   "execution_count": null,
   "id": "66c431d2",
   "metadata": {
    "ExecuteTime": {
     "end_time": "2022-08-31T21:21:42.608027Z",
     "start_time": "2022-08-31T21:21:41.231410Z"
    },
    "colab": {
     "base_uri": "https://localhost:8080/",
     "height": 147
    },
    "id": "66c431d2",
    "outputId": "cdeb9e8f-91b7-4766-8123-c2135b5d1815"
   },
   "outputs": [],
   "source": [
    "# set default performance metric\n",
    "tru.set_default_performance_metrics([\"MAE\"])\n",
    "\n",
    "train_split_name = \"San Francisco\"\n",
    "test_split_name = \"Seattle\"\n",
    "\n",
    "# generate the explainer and compute performance\n",
    "explainer = tru.get_explainer(test_split_name, comparison_data_splits=[train_split_name])\n",
    "explainer.compute_performance(metric_type=\"MAE\")"
   ]
  },
  {
   "cell_type": "markdown",
   "id": "d5f6ae57",
   "metadata": {
    "id": "d5f6ae57"
   },
   "source": [
    "### Create Tests\n",
    "\n",
    "To help us keep track of this issue, let's add a test for it!\n",
    "\n",
    "Additionally, too many unimportant features is a common cause of overfitting. We should test for that as well.\n",
    "\n",
    "Note that we could also set up tests for fairness and stability."
   ]
  },
  {
   "cell_type": "code",
   "execution_count": null,
   "id": "LmoZ7l0hxV6L",
   "metadata": {
    "id": "LmoZ7l0hxV6L"
   },
   "outputs": [],
   "source": [
    "# add performance tests\n",
    "tru.tester.add_performance_test(test_name='Relative MAE Test',\n",
    "                                all_data_collections=True,\n",
    "                                data_split_name_regex='Seattle',\n",
    "                                metric=\"MAE\",\n",
    "                                reference_split_name=train_split_name,\n",
    "                                fail_if_greater_than=0.80,\n",
    "                                fail_threshold_type=\"RELATIVE\")\n",
    "\n",
    "tru.tester.add_performance_test(test_name='RMSE Test',\n",
    "                                all_data_collections=True,\n",
    "                                data_split_name_regex='.*',\n",
    "                                metric=\"RMSE\",\n",
    "                                fail_if_greater_than=115,\n",
    "                                fail_threshold_type=\"ABSOLUTE\")"
   ]
  },
  {
   "cell_type": "markdown",
   "id": "v9674AqUxYsv",
   "metadata": {
    "id": "v9674AqUxYsv"
   },
   "source": [
    "### View Test Results"
   ]
  },
  {
   "cell_type": "code",
   "execution_count": null,
   "id": "qBEnIFjk71pk",
   "metadata": {
    "colab": {
     "base_uri": "https://localhost:8080/",
     "height": 124
    },
    "id": "qBEnIFjk71pk",
    "outputId": "e5a96fe3-d2fc-43c5-b09b-444e9a714c9e"
   },
   "outputs": [],
   "source": [
    "# get model results\n",
    "tru.set_model(\"model_1\")\n",
    "tru.tester.get_model_test_results(test_types=[\"performance\"])"
   ]
  },
  {
   "cell_type": "markdown",
   "id": "5b1a7a46-7b91-489a-95c6-5cb625b0bf33",
   "metadata": {
    "execution": {
     "iopub.execute_input": "2023-08-03T22:23:41.457953Z",
     "iopub.status.busy": "2023-08-03T22:23:41.457471Z",
     "iopub.status.idle": "2023-08-03T22:23:41.464370Z",
     "shell.execute_reply": "2023-08-03T22:23:41.462756Z",
     "shell.execute_reply.started": "2023-08-03T22:23:41.457924Z"
    }
   },
   "source": [
    "Both tests are failing."
   ]
  },
  {
   "cell_type": "markdown",
   "id": "de1ed7b4",
   "metadata": {
    "id": "de1ed7b4"
   },
   "source": [
    "### From here, navigate to the TruEra Web App for analysis or continue on to Part 2!     [![Open In Colab](https://colab.research.google.com/assets/colab-badge.svg)](https://colab.research.google.com/drive/16DexGCY1i4A5fLJZXC7xHPpqCSrQhVab)"
   ]
  }
 ],
 "metadata": {
  "colab": {
   "collapsed_sections": [
    "dbea14e2"
   ],
   "provenance": []
  },
  "gpuClass": "standard",
  "kernelspec": {
   "display_name": "Python 3 (ipykernel)",
   "language": "python",
   "name": "python3"
  },
  "language_info": {
   "codemirror_mode": {
    "name": "ipython",
    "version": 3
   },
   "file_extension": ".py",
   "mimetype": "text/x-python",
   "name": "python",
   "nbconvert_exporter": "python",
   "pygments_lexer": "ipython3",
   "version": "3.10.6"
  },
  "latex_envs": {
   "LaTeX_envs_menu_present": true,
   "autoclose": false,
   "autocomplete": true,
   "bibliofile": "biblio.bib",
   "cite_by": "apalike",
   "current_citInitial": 1,
   "eqLabelWithNumbers": true,
   "eqNumInitial": 1,
   "hotkeys": {
    "equation": "Ctrl-E",
    "itemize": "Ctrl-I"
   },
   "labels_anchors": false,
   "latex_user_defs": false,
   "report_style_numbering": false,
   "user_envs_cfg": false
  },
  "toc": {
   "base_numbering": 1,
   "nav_menu": {},
   "number_sections": true,
   "sideBar": true,
   "skip_h1_title": false,
   "title_cell": "Table of Contents",
   "title_sidebar": "Contents",
   "toc_cell": false,
   "toc_position": {},
   "toc_section_display": true,
   "toc_window_display": false
  },
  "vscode": {
   "interpreter": {
    "hash": "b4f2e5daa82a60c8a70e0d3e9bda538f88cddb8e82481cb13c1d3f460faace44"
   }
  }
 },
 "nbformat": 4,
 "nbformat_minor": 5
}

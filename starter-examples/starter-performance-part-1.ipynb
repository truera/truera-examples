{
  "cells": [
    {
      "cell_type": "markdown",
      "id": "bf792a77",
      "metadata": {
        "id": "bf792a77"
      },
      "source": [
        "# Guided Exercise: Performance\n",
        "#### Goals 🎯\n",
        "In this tutorial, you will use TruEra to train and ingest a model, and then make performance improvements to our model in a structured and methodical way!\n",
        "\n",
        "In this tutorial, you will:\n",
        "1. Set up and view the results of performance and feature importance tests.\n",
        "2. Find actionable issues with the model.\n",
        "3. Mitigate these issues and re-upload your model to TruEra.\n",
        "4. Retest the new model and confirm the effectivenesss of the mitigation strategy.\n",
        "\n",
        "### First, set the credentials for your TruEra deployment.\n",
        "\n",
        "If you don't have credentials yet, get them instantly by signing up for the free open beta: https://app.truera.net"
      ]
    },
    {
      "cell_type": "code",
      "execution_count": null,
      "id": "61f77925",
      "metadata": {
        "id": "61f77925"
      },
      "outputs": [],
      "source": [
        "#connection details\n",
        "TRUERA_URL = \"https://app.truera.net\"\n",
        "AUTH_TOKEN = \"\""
      ]
    },
    {
      "cell_type": "markdown",
      "id": "dbea14e2",
      "metadata": {
        "id": "dbea14e2"
      },
      "source": [
        "### Install required packages for running in colab"
      ]
    },
    {
      "cell_type": "code",
      "execution_count": null,
      "id": "b882320a",
      "metadata": {
        "id": "b882320a",
        "colab": {
          "base_uri": "https://localhost:8080/"
        },
        "outputId": "6805f9ca-a1c9-4a41-b70c-68faa9b8ef9d"
      },
      "outputs": [
        {
          "output_type": "stream",
          "name": "stdout",
          "text": [
            "Looking in indexes: https://pypi.org/simple, https://us-python.pkg.dev/colab-wheels/public/simple/\n",
            "Requirement already satisfied: shap in /usr/local/lib/python3.9/dist-packages (0.41.0)\n",
            "Requirement already satisfied: packaging>20.9 in /usr/local/lib/python3.9/dist-packages (from shap) (23.0)\n",
            "Requirement already satisfied: numba in /usr/local/lib/python3.9/dist-packages (from shap) (0.56.4)\n",
            "Requirement already satisfied: tqdm>4.25.0 in /usr/local/lib/python3.9/dist-packages (from shap) (4.65.0)\n",
            "Requirement already satisfied: numpy in /usr/local/lib/python3.9/dist-packages (from shap) (1.22.4)\n",
            "Requirement already satisfied: cloudpickle in /usr/local/lib/python3.9/dist-packages (from shap) (2.2.1)\n",
            "Requirement already satisfied: slicer==0.0.7 in /usr/local/lib/python3.9/dist-packages (from shap) (0.0.7)\n",
            "Requirement already satisfied: pandas in /usr/local/lib/python3.9/dist-packages (from shap) (1.5.3)\n",
            "Requirement already satisfied: scipy in /usr/local/lib/python3.9/dist-packages (from shap) (1.10.1)\n",
            "Requirement already satisfied: scikit-learn in /usr/local/lib/python3.9/dist-packages (from shap) (1.2.2)\n",
            "Requirement already satisfied: llvmlite<0.40,>=0.39.0dev0 in /usr/local/lib/python3.9/dist-packages (from numba->shap) (0.39.1)\n",
            "Requirement already satisfied: setuptools in /usr/local/lib/python3.9/dist-packages (from numba->shap) (67.6.1)\n",
            "Requirement already satisfied: pytz>=2020.1 in /usr/local/lib/python3.9/dist-packages (from pandas->shap) (2022.7.1)\n",
            "Requirement already satisfied: python-dateutil>=2.8.1 in /usr/local/lib/python3.9/dist-packages (from pandas->shap) (2.8.2)\n",
            "Requirement already satisfied: threadpoolctl>=2.0.0 in /usr/local/lib/python3.9/dist-packages (from scikit-learn->shap) (3.1.0)\n",
            "Requirement already satisfied: joblib>=1.1.1 in /usr/local/lib/python3.9/dist-packages (from scikit-learn->shap) (1.2.0)\n",
            "Requirement already satisfied: six>=1.5 in /usr/local/lib/python3.9/dist-packages (from python-dateutil>=2.8.1->pandas->shap) (1.16.0)\n",
            "Looking in indexes: https://pypi.org/simple, https://us-python.pkg.dev/colab-wheels/public/simple/\n",
            "Requirement already satisfied: xgboost==1.6.2 in /usr/local/lib/python3.9/dist-packages (1.6.2)\n",
            "Requirement already satisfied: numpy in /usr/local/lib/python3.9/dist-packages (from xgboost==1.6.2) (1.22.4)\n",
            "Requirement already satisfied: scipy in /usr/local/lib/python3.9/dist-packages (from xgboost==1.6.2) (1.10.1)\n",
            "Looking in indexes: https://pypi.org/simple, https://us-python.pkg.dev/colab-wheels/public/simple/\n",
            "Requirement already satisfied: truera in /usr/local/lib/python3.9/dist-packages (11.5.2)\n",
            "Requirement already satisfied: tqdm>4.25.0 in /usr/local/lib/python3.9/dist-packages (from truera) (4.65.0)\n",
            "Requirement already satisfied: pandas>=1.1.1 in /usr/local/lib/python3.9/dist-packages (from truera) (1.5.3)\n",
            "Requirement already satisfied: cloudpickle>=1.2.2 in /usr/local/lib/python3.9/dist-packages (from truera) (2.2.1)\n",
            "Requirement already satisfied: click>=8.0 in /usr/local/lib/python3.9/dist-packages (from truera) (8.1.3)\n",
            "Requirement already satisfied: sqlparse==0.4.2 in /usr/local/lib/python3.9/dist-packages (from truera) (0.4.2)\n",
            "Requirement already satisfied: tabulate>=0.8.9 in /usr/local/lib/python3.9/dist-packages (from truera) (0.8.10)\n",
            "Requirement already satisfied: googleapis-common-protos>=1.56.0 in /usr/local/lib/python3.9/dist-packages (from truera) (1.59.0)\n",
            "Requirement already satisfied: nbformat>=5.1.2 in /usr/local/lib/python3.9/dist-packages (from truera) (5.8.0)\n",
            "Requirement already satisfied: crontab==0.23.0 in /usr/local/lib/python3.9/dist-packages (from truera) (0.23.0)\n",
            "Requirement already satisfied: plotly>=5.11.0 in /usr/local/lib/python3.9/dist-packages (from truera) (5.13.1)\n",
            "Requirement already satisfied: cryptography>=3.2 in /usr/local/lib/python3.9/dist-packages (from truera) (40.0.1)\n",
            "Requirement already satisfied: requests>=2.25.0 in /usr/local/lib/python3.9/dist-packages (from truera) (2.27.1)\n",
            "Requirement already satisfied: urllib3>=1.25.8 in /usr/local/lib/python3.9/dist-packages (from truera) (1.26.15)\n",
            "Requirement already satisfied: protobuf>=4.21.12 in /usr/local/lib/python3.9/dist-packages (from truera) (4.22.1)\n",
            "Requirement already satisfied: sympy>=1.10.1 in /usr/local/lib/python3.9/dist-packages (from truera) (1.11.1)\n",
            "Requirement already satisfied: importlib-metadata>=4.8.1 in /usr/local/lib/python3.9/dist-packages (from truera) (6.2.0)\n",
            "Requirement already satisfied: pyarrow>=10.0.0 in /usr/local/lib/python3.9/dist-packages (from truera) (11.0.0)\n",
            "Requirement already satisfied: grpcio>=1.50.0 in /usr/local/lib/python3.9/dist-packages (from truera) (1.53.0)\n",
            "Requirement already satisfied: pydantic>=1.8.0 in /usr/local/lib/python3.9/dist-packages (from truera) (1.10.7)\n",
            "Requirement already satisfied: cachetools>=5.2.0 in /usr/local/lib/python3.9/dist-packages (from truera) (5.3.0)\n",
            "Requirement already satisfied: pyjwt>=2.4.0 in /usr/local/lib/python3.9/dist-packages (from truera) (2.6.0)\n",
            "Requirement already satisfied: dynaconf==3.1.11 in /usr/local/lib/python3.9/dist-packages (from truera) (3.1.11)\n",
            "Requirement already satisfied: grpcio-status>=1.50.0 in /usr/local/lib/python3.9/dist-packages (from truera) (1.53.0)\n",
            "Requirement already satisfied: scikit-learn>=0.21.2 in /usr/local/lib/python3.9/dist-packages (from truera) (1.2.2)\n",
            "Requirement already satisfied: python-dateutil>=2.8.1 in /usr/local/lib/python3.9/dist-packages (from truera) (2.8.2)\n",
            "Requirement already satisfied: humanize>=4.3.0 in /usr/local/lib/python3.9/dist-packages (from truera) (4.6.0)\n",
            "Requirement already satisfied: numpy<1.24.0 in /usr/local/lib/python3.9/dist-packages (from truera) (1.22.4)\n",
            "Requirement already satisfied: mpmath==0.19 in /usr/local/lib/python3.9/dist-packages (from truera) (0.19)\n",
            "Requirement already satisfied: filelock>=3.0.12 in /usr/local/lib/python3.9/dist-packages (from truera) (3.11.0)\n",
            "Requirement already satisfied: pyyaml>=5.3.1 in /usr/local/lib/python3.9/dist-packages (from truera) (6.0)\n",
            "Requirement already satisfied: cffi>=1.12 in /usr/local/lib/python3.9/dist-packages (from cryptography>=3.2->truera) (1.15.1)\n",
            "Requirement already satisfied: zipp>=0.5 in /usr/local/lib/python3.9/dist-packages (from importlib-metadata>=4.8.1->truera) (3.15.0)\n",
            "Requirement already satisfied: jupyter-core in /usr/local/lib/python3.9/dist-packages (from nbformat>=5.1.2->truera) (5.3.0)\n",
            "Requirement already satisfied: jsonschema>=2.6 in /usr/local/lib/python3.9/dist-packages (from nbformat>=5.1.2->truera) (4.3.3)\n",
            "Requirement already satisfied: traitlets>=5.1 in /usr/local/lib/python3.9/dist-packages (from nbformat>=5.1.2->truera) (5.7.1)\n",
            "Requirement already satisfied: fastjsonschema in /usr/local/lib/python3.9/dist-packages (from nbformat>=5.1.2->truera) (2.16.3)\n",
            "Requirement already satisfied: pytz>=2020.1 in /usr/local/lib/python3.9/dist-packages (from pandas>=1.1.1->truera) (2022.7.1)\n",
            "Requirement already satisfied: tenacity>=6.2.0 in /usr/local/lib/python3.9/dist-packages (from plotly>=5.11.0->truera) (8.2.2)\n",
            "Requirement already satisfied: typing-extensions>=4.2.0 in /usr/local/lib/python3.9/dist-packages (from pydantic>=1.8.0->truera) (4.5.0)\n",
            "Requirement already satisfied: six>=1.5 in /usr/local/lib/python3.9/dist-packages (from python-dateutil>=2.8.1->truera) (1.16.0)\n",
            "Requirement already satisfied: charset-normalizer~=2.0.0 in /usr/local/lib/python3.9/dist-packages (from requests>=2.25.0->truera) (2.0.12)\n",
            "Requirement already satisfied: certifi>=2017.4.17 in /usr/local/lib/python3.9/dist-packages (from requests>=2.25.0->truera) (2022.12.7)\n",
            "Requirement already satisfied: idna<4,>=2.5 in /usr/local/lib/python3.9/dist-packages (from requests>=2.25.0->truera) (3.4)\n",
            "Requirement already satisfied: scipy>=1.3.2 in /usr/local/lib/python3.9/dist-packages (from scikit-learn>=0.21.2->truera) (1.10.1)\n",
            "Requirement already satisfied: joblib>=1.1.1 in /usr/local/lib/python3.9/dist-packages (from scikit-learn>=0.21.2->truera) (1.2.0)\n",
            "Requirement already satisfied: threadpoolctl>=2.0.0 in /usr/local/lib/python3.9/dist-packages (from scikit-learn>=0.21.2->truera) (3.1.0)\n",
            "Requirement already satisfied: pycparser in /usr/local/lib/python3.9/dist-packages (from cffi>=1.12->cryptography>=3.2->truera) (2.21)\n",
            "Requirement already satisfied: attrs>=17.4.0 in /usr/local/lib/python3.9/dist-packages (from jsonschema>=2.6->nbformat>=5.1.2->truera) (22.2.0)\n",
            "Requirement already satisfied: pyrsistent!=0.17.0,!=0.17.1,!=0.17.2,>=0.14.0 in /usr/local/lib/python3.9/dist-packages (from jsonschema>=2.6->nbformat>=5.1.2->truera) (0.19.3)\n",
            "Requirement already satisfied: platformdirs>=2.5 in /usr/local/lib/python3.9/dist-packages (from jupyter-core->nbformat>=5.1.2->truera) (3.2.0)\n"
          ]
        }
      ],
      "source": [
        "! pip install --upgrade shap\n",
        "! pip install --upgrade xgboost==1.6.2\n",
        "! pip install --upgrade truera"
      ]
    },
    {
      "cell_type": "markdown",
      "id": "e8ede3b0",
      "metadata": {
        "id": "e8ede3b0"
      },
      "source": [
        "### From here, run the rest of the notebook and follow the analysis."
      ]
    },
    {
      "cell_type": "markdown",
      "source": [
        "### Import packages, set up your TruEra Workspace"
      ],
      "metadata": {
        "id": "bxfSeL0Uw7w8"
      },
      "id": "bxfSeL0Uw7w8"
    },
    {
      "cell_type": "code",
      "execution_count": null,
      "id": "887135e4",
      "metadata": {
        "id": "887135e4"
      },
      "outputs": [],
      "source": [
        "import pandas as pd\n",
        "import xgboost as xgb\n",
        "import logging\n",
        "\n",
        "from truera.client.truera_workspace import TrueraWorkspace\n",
        "from truera.client.truera_authentication import TokenAuthentication\n",
        "\n",
        "auth = TokenAuthentication(AUTH_TOKEN)\n",
        "tru = TrueraWorkspace(TRUERA_URL, auth)\n",
        "\n",
        "# set our environment to local compute so we can compute predictions and feature influences on our local machine\n",
        "tru.set_environment(\"local\")\n",
        "# note: we'll periodically toggle between local and remote so we can interact with our remote deployment as well."
      ]
    },
    {
      "cell_type": "markdown",
      "id": "5806fedf",
      "metadata": {
        "id": "5806fedf"
      },
      "source": [
        "### Load the data and train an xgboost model\n",
        "A bit about the model and data... \n",
        "\n",
        "In this example, we will use real data on the AirBnb listings 🏠 in San Francisco and Seattle to predict the listing price. The Airbnb data was scraped by Inside Airbnb and hosted by OpenDataSoft. Pricing a rental property is a challenging task for Airbnb owners as they need to understand the market, the features of their property, and how those features contribute to listing price.\n",
        "\n",
        "You can find more information about the data here:\n",
        "https://data.opendatasoft.com/explore/dataset/airbnb-listings%40public/"
      ]
    },
    {
      "cell_type": "code",
      "execution_count": null,
      "id": "743759f7",
      "metadata": {
        "id": "743759f7",
        "outputId": "2a568b94-c083-4962-81f9-9b8b970c72c3",
        "colab": {
          "base_uri": "https://localhost:8080/"
        }
      },
      "outputs": [
        {
          "output_type": "stream",
          "name": "stderr",
          "text": [
            "INFO:truera.client.local.local_truera_workspace:Data collection in local environment is now set to \"Data Collection v1\". \n",
            "INFO:truera.client.local.local_truera_workspace:Data split \"San Francisco\" is added to local data collection \"Data Collection v1\", and set as the data split for the workspace context.\n",
            "INFO:truera.client.local.local_truera_workspace:Data split \"Seattle\" is added to local data collection \"Data Collection v1\", and set as the data split for the workspace context.\n",
            "INFO:truera.client.local.local_truera_workspace:Model \"model_1\" is added and associated with local data collection \"Data Collection v1\". \"model_1\" is set as the model for the workspace context.\n",
            "WARNING:truera.client.truera_workspace:Uploading non-virtual model is not allowed. Will upload virtual models instead.\n",
            "INFO:truera.client.truera_workspace:Uploading data collection Data Collection v1.\n",
            "INFO:truera.client.truera_workspace:Uploading data split San Francisco.\n"
          ]
        },
        {
          "output_type": "stream",
          "name": "stdout",
          "text": [
            "Uploading tmp3w4vvwxl.parquet -- ### -- file upload complete.\n",
            "Put resource done.\n",
            "Uploading tmpah5_spz7.parquet -- ### -- file upload complete.\n",
            "Put resource done.\n"
          ]
        },
        {
          "output_type": "stream",
          "name": "stderr",
          "text": [
            "INFO:truera.client.remote_truera_workspace:Call to join: rowsets ['f52cf8c9-d3e7-4639-ac67-3f4f4356ccac', '51d42088-976c-48dc-a1ce-07d7abbfc2ca'] on ['id'] with default inner join.\n",
            "INFO:truera.client.truera_workspace:Uploading data split Seattle.\n"
          ]
        },
        {
          "output_type": "stream",
          "name": "stdout",
          "text": [
            "Uploading tmp_5ekug69.parquet -- ### -- file upload complete.\n",
            "Put resource done.\n",
            "Uploading tmpdg9ge6yy.parquet -- ### -- file upload complete.\n",
            "Put resource done.\n"
          ]
        },
        {
          "output_type": "stream",
          "name": "stderr",
          "text": [
            "INFO:truera.client.remote_truera_workspace:Call to join: rowsets ['32701444-217f-4923-abc8-4fbb384d38b1', 'b26cc7d0-f21d-4809-b299-fd3058af2386'] on ['id'] with default inner join.\n",
            "INFO:truera.client.remote_truera_workspace:Setting remote model context to \"model_1\".\n"
          ]
        },
        {
          "output_type": "stream",
          "name": "stdout",
          "text": [
            "Uploading tmpxy9x92eiparquet -- ### -- file upload complete.\n",
            "Put resource done.\n"
          ]
        },
        {
          "output_type": "stream",
          "name": "stderr",
          "text": [
            "INFO:truera.client.remote_truera_workspace:Waiting for data split to materialize...\n"
          ]
        },
        {
          "output_type": "stream",
          "name": "stdout",
          "text": [
            "Uploading tmpxcu8ckmhparquet -- ### -- file upload complete.\n",
            "Put resource done.\n"
          ]
        },
        {
          "output_type": "stream",
          "name": "stderr",
          "text": [
            "INFO:truera.client.remote_truera_workspace:Waiting for data split to materialize...\n",
            "WARNING:truera.client.local.intelligence.local_explainer:Background split for `data_collection` \"Data Collection v1\" is currently not set. Setting it to \"San Francisco\"\n",
            "INFO:truera.client.truera_workspace:Influence algorithm for local project is: shap\n",
            "WARNING:truera.client.truera_workspace:Computing feature influences for model \"model_1\", data split \"San Francisco\", score type \"regression\" before upload...\n"
          ]
        },
        {
          "output_type": "stream",
          "name": "stdout",
          "text": [
            "Uploading tmpkj56n7smparquet -- ### -- file upload complete.\n",
            "Put resource done.\n"
          ]
        },
        {
          "output_type": "stream",
          "name": "stderr",
          "text": [
            "INFO:truera.client.remote_truera_workspace:Waiting for data split to materialize...\n",
            "INFO:truera.client.truera_workspace:Influence algorithm for local project is: shap\n",
            "WARNING:truera.client.truera_workspace:Computing feature influences for model \"model_1\", data split \"Seattle\", score type \"regression\" before upload...\n"
          ]
        },
        {
          "output_type": "stream",
          "name": "stdout",
          "text": [
            "Uploading tmp744iczfqparquet -- ### -- file upload complete.\n",
            "Put resource done.\n"
          ]
        },
        {
          "output_type": "stream",
          "name": "stderr",
          "text": [
            "INFO:truera.client.remote_truera_workspace:Waiting for data split to materialize...\n"
          ]
        }
      ],
      "source": [
        "# load data\n",
        "san_francisco = pd.read_csv('https://truera-examples.s3.us-west-2.amazonaws.com/data/starter-performance/San_Francisco.csv')\n",
        "seattle = pd.read_csv('https://truera-examples.s3.us-west-2.amazonaws.com/data/starter-performance/Seattle.csv')\n",
        "\n",
        "#make all float\n",
        "san_francisco = san_francisco.astype(float)\n",
        "seattle = seattle.astype(float)\n",
        "\n",
        "#add point ids\n",
        "sf_ids = [f\"point_{i}\" for i in range(len(san_francisco))]\n",
        "san_francisco[\"id\"] = sf_ids\n",
        "\n",
        "se_ids = [f\"point_{i}\" for i in range(len(seattle))]\n",
        "seattle[\"id\"] = se_ids\n",
        "\n",
        "# train first model\n",
        "xgb_reg = xgb.XGBRegressor(eta = 0.2, max_depth = 4)\n",
        "xgb_reg.fit(san_francisco.drop(['id','price'], axis = 1), san_francisco.price)\n",
        "\n",
        "# create the first project\n",
        "project_name = \"Starter Example Companion - Performance\"\n",
        "tru.add_project(project_name, score_type = 'regression')\n",
        "\n",
        "# add data collection\n",
        "tru.add_data_collection(\"Data Collection v1\")\n",
        "\n",
        "# add data splits to the collection we just created\n",
        "tru.add_data_split(\"San Francisco\", pre_data = san_francisco, label_col_name=\"price\", id_col_name = \"id\", split_type = \"train\")\n",
        "tru.add_data_split(\"Seattle\", pre_data = seattle, label_col_name=\"price\", id_col_name = \"id\", split_type = \"test\")\n",
        "\n",
        "# register the model\n",
        "tru.add_python_model(\"model_1\", xgb_reg, train_split_name=\"San Francisco\", train_parameters = {\"model_type\":\"xgb.XGBRegressor\", \"eta\":0.2, \"max_depth\":4})\n",
        "\n",
        "# sync with remote\n",
        "tru.upload_project(upload_error_influences = False)\n",
        "\n",
        "# Note that we're explicitly opting not to compute and upload error influences to optimize for ingestion speed. This is because SHAP is not optimized to compute error influences for regression models.\n",
        "# Doing so will disable the \"Debug\" tab under Performance, and the \"Contributors to Error Influence\" tab under Drift.\n",
        "# If you'd like to enable these pages, please remove the flag, i.e. run the method below. Please be aware that doing so will greatly increase the time required for ingestion.\n",
        "# tru.upload_project()"
      ]
    },
    {
      "cell_type": "markdown",
      "id": "d89c5145",
      "metadata": {
        "id": "d89c5145"
      },
      "source": [
        "### Issue: Overfitting\n",
        "\n",
        "We observe there to be a large discrepency between our train and test accuracy!"
      ]
    },
    {
      "cell_type": "code",
      "execution_count": null,
      "id": "66c431d2",
      "metadata": {
        "ExecuteTime": {
          "end_time": "2022-08-31T21:21:42.608027Z",
          "start_time": "2022-08-31T21:21:41.231410Z"
        },
        "colab": {
          "base_uri": "https://localhost:8080/",
          "height": 147
        },
        "id": "66c431d2",
        "outputId": "cdeb9e8f-91b7-4766-8123-c2135b5d1815"
      },
      "outputs": [
        {
          "output_type": "stream",
          "name": "stderr",
          "text": [
            "INFO:truera.client.remote_truera_workspace:Data collection in remote environment is now set to \"Data Collection v1\". \n",
            "INFO:truera.client.remote_truera_workspace:Setting remote model context to \"model_1\".\n"
          ]
        },
        {
          "output_type": "execute_result",
          "data": {
            "text/plain": [
              "           Split         MAE\n",
              "0        Seattle  110.289665\n",
              "1  San Francisco   47.496475"
            ],
            "text/html": [
              "\n",
              "  <div id=\"df-9abc09a4-f4cb-491d-8216-269d37c5a774\">\n",
              "    <div class=\"colab-df-container\">\n",
              "      <div>\n",
              "<style scoped>\n",
              "    .dataframe tbody tr th:only-of-type {\n",
              "        vertical-align: middle;\n",
              "    }\n",
              "\n",
              "    .dataframe tbody tr th {\n",
              "        vertical-align: top;\n",
              "    }\n",
              "\n",
              "    .dataframe thead th {\n",
              "        text-align: right;\n",
              "    }\n",
              "</style>\n",
              "<table border=\"1\" class=\"dataframe\">\n",
              "  <thead>\n",
              "    <tr style=\"text-align: right;\">\n",
              "      <th></th>\n",
              "      <th>Split</th>\n",
              "      <th>MAE</th>\n",
              "    </tr>\n",
              "  </thead>\n",
              "  <tbody>\n",
              "    <tr>\n",
              "      <th>0</th>\n",
              "      <td>Seattle</td>\n",
              "      <td>110.289665</td>\n",
              "    </tr>\n",
              "    <tr>\n",
              "      <th>1</th>\n",
              "      <td>San Francisco</td>\n",
              "      <td>47.496475</td>\n",
              "    </tr>\n",
              "  </tbody>\n",
              "</table>\n",
              "</div>\n",
              "      <button class=\"colab-df-convert\" onclick=\"convertToInteractive('df-9abc09a4-f4cb-491d-8216-269d37c5a774')\"\n",
              "              title=\"Convert this dataframe to an interactive table.\"\n",
              "              style=\"display:none;\">\n",
              "        \n",
              "  <svg xmlns=\"http://www.w3.org/2000/svg\" height=\"24px\"viewBox=\"0 0 24 24\"\n",
              "       width=\"24px\">\n",
              "    <path d=\"M0 0h24v24H0V0z\" fill=\"none\"/>\n",
              "    <path d=\"M18.56 5.44l.94 2.06.94-2.06 2.06-.94-2.06-.94-.94-2.06-.94 2.06-2.06.94zm-11 1L8.5 8.5l.94-2.06 2.06-.94-2.06-.94L8.5 2.5l-.94 2.06-2.06.94zm10 10l.94 2.06.94-2.06 2.06-.94-2.06-.94-.94-2.06-.94 2.06-2.06.94z\"/><path d=\"M17.41 7.96l-1.37-1.37c-.4-.4-.92-.59-1.43-.59-.52 0-1.04.2-1.43.59L10.3 9.45l-7.72 7.72c-.78.78-.78 2.05 0 2.83L4 21.41c.39.39.9.59 1.41.59.51 0 1.02-.2 1.41-.59l7.78-7.78 2.81-2.81c.8-.78.8-2.07 0-2.86zM5.41 20L4 18.59l7.72-7.72 1.47 1.35L5.41 20z\"/>\n",
              "  </svg>\n",
              "      </button>\n",
              "      \n",
              "  <style>\n",
              "    .colab-df-container {\n",
              "      display:flex;\n",
              "      flex-wrap:wrap;\n",
              "      gap: 12px;\n",
              "    }\n",
              "\n",
              "    .colab-df-convert {\n",
              "      background-color: #E8F0FE;\n",
              "      border: none;\n",
              "      border-radius: 50%;\n",
              "      cursor: pointer;\n",
              "      display: none;\n",
              "      fill: #1967D2;\n",
              "      height: 32px;\n",
              "      padding: 0 0 0 0;\n",
              "      width: 32px;\n",
              "    }\n",
              "\n",
              "    .colab-df-convert:hover {\n",
              "      background-color: #E2EBFA;\n",
              "      box-shadow: 0px 1px 2px rgba(60, 64, 67, 0.3), 0px 1px 3px 1px rgba(60, 64, 67, 0.15);\n",
              "      fill: #174EA6;\n",
              "    }\n",
              "\n",
              "    [theme=dark] .colab-df-convert {\n",
              "      background-color: #3B4455;\n",
              "      fill: #D2E3FC;\n",
              "    }\n",
              "\n",
              "    [theme=dark] .colab-df-convert:hover {\n",
              "      background-color: #434B5C;\n",
              "      box-shadow: 0px 1px 3px 1px rgba(0, 0, 0, 0.15);\n",
              "      filter: drop-shadow(0px 1px 2px rgba(0, 0, 0, 0.3));\n",
              "      fill: #FFFFFF;\n",
              "    }\n",
              "  </style>\n",
              "\n",
              "      <script>\n",
              "        const buttonEl =\n",
              "          document.querySelector('#df-9abc09a4-f4cb-491d-8216-269d37c5a774 button.colab-df-convert');\n",
              "        buttonEl.style.display =\n",
              "          google.colab.kernel.accessAllowed ? 'block' : 'none';\n",
              "\n",
              "        async function convertToInteractive(key) {\n",
              "          const element = document.querySelector('#df-9abc09a4-f4cb-491d-8216-269d37c5a774');\n",
              "          const dataTable =\n",
              "            await google.colab.kernel.invokeFunction('convertToInteractive',\n",
              "                                                     [key], {});\n",
              "          if (!dataTable) return;\n",
              "\n",
              "          const docLinkHtml = 'Like what you see? Visit the ' +\n",
              "            '<a target=\"_blank\" href=https://colab.research.google.com/notebooks/data_table.ipynb>data table notebook</a>'\n",
              "            + ' to learn more about interactive tables.';\n",
              "          element.innerHTML = '';\n",
              "          dataTable['output_type'] = 'display_data';\n",
              "          await google.colab.output.renderOutput(dataTable, element);\n",
              "          const docLink = document.createElement('div');\n",
              "          docLink.innerHTML = docLinkHtml;\n",
              "          element.appendChild(docLink);\n",
              "        }\n",
              "      </script>\n",
              "    </div>\n",
              "  </div>\n",
              "  "
            ]
          },
          "metadata": {},
          "execution_count": 5
        }
      ],
      "source": [
        "# toggle to remote to interact with the tester\n",
        "tru.set_environment(\"remote\")\n",
        "tru.set_project(project_name)\n",
        "\n",
        "# set default performance metric\n",
        "tru.set_default_performance_metrics([\"MAE\"])\n",
        "\n",
        "tru.set_data_collection(\"Data Collection v1\")\n",
        "tru.set_model(\"model_1\")\n",
        "\n",
        "train_split_name = \"San Francisco\"\n",
        "test_split_name = \"Seattle\"\n",
        "\n",
        "# generate the explainer and compute performance\n",
        "explainer = tru.get_explainer(test_split_name, comparison_data_splits=[train_split_name])\n",
        "explainer.compute_performance(metric_type=\"MAE\")"
      ]
    },
    {
      "cell_type": "markdown",
      "id": "d5f6ae57",
      "metadata": {
        "id": "d5f6ae57"
      },
      "source": [
        "### Create Tests\n",
        "\n",
        "To help us keep track of this issue, let's add a test for it!\n",
        "\n",
        "Additionally, too many unimportant features is a common cause of overfitting. We should test for that as well.\n",
        "\n",
        "Note that we could also set up tests for fairness and stability."
      ]
    },
    {
      "cell_type": "code",
      "source": [
        "# add performance tests\n",
        "tru.tester.add_performance_test(\n",
        "    test_name='Relative MAE Test',\n",
        "    all_data_collections=True,\n",
        "    data_split_name_regex='Seattle',\n",
        "    metric=\"MAE\",\n",
        "    reference_split_name=train_split_name,\n",
        "    fail_if_greater_than=0.80,\n",
        "    fail_threshold_type=\"RELATIVE\"\n",
        ")\n",
        "\n",
        "tru.tester.add_performance_test(\n",
        "    test_name='RMSE Test',\n",
        "    all_data_collections=True,\n",
        "    data_split_name_regex='.*',\n",
        "    metric=\"RMSE\",\n",
        "    fail_if_greater_than=115,\n",
        "    fail_threshold_type=\"ABSOLUTE\"\n",
        ")"
      ],
      "metadata": {
        "id": "LmoZ7l0hxV6L"
      },
      "id": "LmoZ7l0hxV6L",
      "execution_count": null,
      "outputs": []
    },
    {
      "cell_type": "markdown",
      "source": [
        "### View Test Results"
      ],
      "metadata": {
        "id": "v9674AqUxYsv"
      },
      "id": "v9674AqUxYsv"
    },
    {
      "cell_type": "code",
      "source": [
        "# get model results\n",
        "tru.set_model(\"model_1\")\n",
        "tru.tester.get_model_test_results(test_types=[\"performance\"])"
      ],
      "metadata": {
        "id": "qBEnIFjk71pk",
        "colab": {
          "base_uri": "https://localhost:8080/",
          "height": 124
        },
        "outputId": "e5a96fe3-d2fc-43c5-b09b-444e9a714c9e"
      },
      "id": "qBEnIFjk71pk",
      "execution_count": null,
      "outputs": [
        {
          "output_type": "execute_result",
          "data": {
            "text/plain": [
              "<truera.client.intelligence.model_tests.ModelTestResults at 0x7f6aab0d5340>"
            ],
            "text/html": [
              "\n",
              "        <html>\n",
              "        <head>\n",
              "        <style>\n",
              "        table, th, td {\n",
              "            border-radius: 5px;\n",
              "        }\n",
              "        .header {\n",
              "            font-weight: bold;\n",
              "            font-size: 14px;\n",
              "        }\n",
              "        caption {\n",
              "            font-weight: bolder;\n",
              "            font-size: 16px;\n",
              "            background-color: powderblue;\n",
              "            color: black;\n",
              "            border-radius: 5px;\n",
              "        }\n",
              "        \n",
              "            .PASSED {\n",
              "                color: black;\n",
              "                background-color: palegreen;\n",
              "            }\n",
              "            .WARNING {\n",
              "                color: black;\n",
              "                background-color: yellow;\n",
              "            }\n",
              "            .FAILED {\n",
              "                color: black;\n",
              "                background-color: pink;\n",
              "            }\n",
              "            \n",
              "        </style>\n",
              "        </head>\n",
              "        <body>\n",
              "        <table>\n",
              "            <caption>Performance Tests Results for Model \"model_1\"</caption>\n",
              "            <tr class=\"header\"><td></td><td>Name</td><td>Split</td><td>Segment</td><td>Metric</td><td>Score</td><td>Navigate</td></tr>\n",
              "            <tr><td >❌</td><td >Relative MAE Test</td><td >Seattle</td><td >ALL POINTS</td><td >MAE</td><td class=\"FAILED\">110.2897</td><td ><a href=\"https://app.truera.net/home/p/Starter Example Companion - Performance/m/model_1/t/performance?splitId=005931a7-a81a-4017-ad4f-c64e5c459dca&modelIds=802ed7ab-9012-458f-ac1f-69be14016042&\" target=\"_blank\">Explore in UI</a></td></tr><tr><td >❌</td><td >RMSE Test</td><td >Seattle</td><td >ALL POINTS</td><td >RMSE</td><td class=\"FAILED\">154.0362</td><td ><a href=\"https://app.truera.net/home/p/Starter Example Companion - Performance/m/model_1/t/performance?splitId=005931a7-a81a-4017-ad4f-c64e5c459dca&modelIds=802ed7ab-9012-458f-ac1f-69be14016042&\" target=\"_blank\">Explore in UI</a></td></tr><tr><td >✅</td><td >RMSE Test</td><td >San Francisco</td><td >ALL POINTS</td><td >RMSE</td><td class=\"PASSED\">75.6326</td><td ><a href=\"https://app.truera.net/home/p/Starter Example Companion - Performance/m/model_1/t/performance?splitId=476e91a3-15c2-4197-8989-8f5828f76de0&modelIds=802ed7ab-9012-458f-ac1f-69be14016042&\" target=\"_blank\">Explore in UI</a></td></tr>\n",
              "        </table>\n",
              "        </body>\n",
              "        </html>\n",
              "        "
            ]
          },
          "metadata": {},
          "execution_count": 7
        }
      ]
    },
    {
      "cell_type": "markdown",
      "id": "de1ed7b4",
      "metadata": {
        "id": "de1ed7b4"
      },
      "source": [
        "### Both tests are failing.\n",
        "\n",
        "### From here, navigate to the TruEra Web App for analysis or continue on to Part 2!     [![Open In Colab](https://colab.research.google.com/assets/colab-badge.svg)](https://colab.research.google.com/drive/16DexGCY1i4A5fLJZXC7xHPpqCSrQhVab)"
      ]
    }
  ],
  "metadata": {
    "colab": {
      "provenance": [],
      "collapsed_sections": [
        "dbea14e2"
      ]
    },
    "gpuClass": "standard",
    "kernelspec": {
      "display_name": "Python 3.10.8 ('eap_demo')",
      "language": "python",
      "name": "python3"
    },
    "language_info": {
      "codemirror_mode": {
        "name": "ipython",
        "version": 3
      },
      "file_extension": ".py",
      "mimetype": "text/x-python",
      "name": "python",
      "nbconvert_exporter": "python",
      "pygments_lexer": "ipython3",
      "version": "3.10.8"
    },
    "latex_envs": {
      "LaTeX_envs_menu_present": true,
      "autoclose": false,
      "autocomplete": true,
      "bibliofile": "biblio.bib",
      "cite_by": "apalike",
      "current_citInitial": 1,
      "eqLabelWithNumbers": true,
      "eqNumInitial": 1,
      "hotkeys": {
        "equation": "Ctrl-E",
        "itemize": "Ctrl-I"
      },
      "labels_anchors": false,
      "latex_user_defs": false,
      "report_style_numbering": false,
      "user_envs_cfg": false
    },
    "toc": {
      "base_numbering": 1,
      "nav_menu": {},
      "number_sections": true,
      "sideBar": true,
      "skip_h1_title": false,
      "title_cell": "Table of Contents",
      "title_sidebar": "Contents",
      "toc_cell": false,
      "toc_position": {},
      "toc_section_display": true,
      "toc_window_display": false
    },
    "vscode": {
      "interpreter": {
        "hash": "da3924fd47657b295ea4ff31ffc159b50bdc67549cd17755b5462d5d6bda3f74"
      }
    }
  },
  "nbformat": 4,
  "nbformat_minor": 5
}
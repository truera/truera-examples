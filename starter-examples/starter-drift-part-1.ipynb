{
 "cells": [
  {
   "attachments": {},
   "cell_type": "markdown",
   "metadata": {
    "id": "FC9bCFA9rOot"
   },
   "source": [
    "# Guided Exercise: Drift\n",
    "\n",
    "### Setup\n",
    "You are the principal data scientist working for a new startup that offers a price recommendation for rental home listings. Your beach-head market was San Francisco and this was where you trained the model, which is the core service of the business. But now, the startup is looking to expand into Seattle and Austin. Using the mean price difference between San Francisco and each new city, you want to make sure your price recommendations don't drift. If they drift too low, your customers will leave money on the table; if they drift too high, their listing will be vacant. Hitting the goldilocks zone is critical for acquiring and keeping happy customers in Seattle.\n",
    "\n",
    "Competitors in Seattle are within 65 dollars of the ideal price, and due to stiffer competition, competitors in Austin are within $40 of the ideal price. These are the benchmarks we need to hit to prove a viable product.\n",
    "\n",
    "#### Goals 🎯\n",
    "In this tutorial, you will learn how to:\n",
    "1. Set up and view the results of stability tests.\n",
    "2. Debug the true cause of stability issues.\n",
    "3. Retest the new model and confirm the effectivenesss of the mitigation strategy.\n",
    "\n",
    "### First, set the credentials for your TruEra deployment.\n",
    "If you don't have credentials yet, get them instantly by signing up for free at: https://www.truera.com"
   ]
  },
  {
   "cell_type": "code",
   "execution_count": 1,
   "metadata": {
    "execution": {
     "iopub.execute_input": "2023-07-28T21:47:46.304043Z",
     "iopub.status.busy": "2023-07-28T21:47:46.303453Z",
     "iopub.status.idle": "2023-07-28T21:47:53.220733Z",
     "shell.execute_reply": "2023-07-28T21:47:53.219925Z",
     "shell.execute_reply.started": "2023-07-28T21:47:46.304014Z"
    },
    "id": "qRu0HIs0rOov"
   },
   "outputs": [
    {
     "name": "stderr",
     "output_type": "stream",
     "text": [
      "INFO:truera.client.remote_truera_workspace:Connecting to 'http://localhost:8000'\n",
      "INFO:truera.client.remote_truera_workspace:remaining items: []\n",
      "INFO:truera.client.remote_truera_workspace:Delete resource succeeded. Project_id: Starter Example Companion - Drift intra_artifact_path: \n",
      "INFO:truera.client.remote_truera_workspace:remaining items: []\n",
      "INFO:truera.client.remote_truera_workspace:Delete resource succeeded. Project_id: Starter Example Companion - Drift intra_artifact_path: \n",
      "INFO:truera.client.remote_truera_workspace:remaining items: []\n",
      "INFO:truera.client.remote_truera_workspace:Delete resource succeeded. Project_id: Starter Example Companion - Drift intra_artifact_path: \n"
     ]
    }
   ],
   "source": [
    "# connection details\n",
    "TRUERA_URL = \"https://app.truera.net/\"\n",
    "AUTH_TOKEN = \"...\""
   ]
  },
  {
   "cell_type": "code",
   "execution_count": null,
   "metadata": {},
   "outputs": [],
   "source": [
    "! pip install --upgrade truera"
   ]
  },
  {
   "attachments": {},
   "cell_type": "markdown",
   "metadata": {
    "id": "sT6MCOBwrOov"
   },
   "source": [
    "### Install and import required packages for running in colab."
   ]
  },
  {
   "cell_type": "code",
   "execution_count": 3,
   "metadata": {
    "execution": {
     "iopub.execute_input": "2023-07-28T21:47:53.229336Z",
     "iopub.status.busy": "2023-07-28T21:47:53.228815Z",
     "iopub.status.idle": "2023-07-28T21:47:53.281101Z",
     "shell.execute_reply": "2023-07-28T21:47:53.280183Z",
     "shell.execute_reply.started": "2023-07-28T21:47:53.229307Z"
    },
    "id": "62HWRpHvlntp"
   },
   "outputs": [
    {
     "name": "stderr",
     "output_type": "stream",
     "text": [
      "INFO:truera.client.remote_truera_workspace:Connecting to 'http://localhost:8000'\n"
     ]
    }
   ],
   "source": [
    "import logging\n",
    "import pandas as pd\n",
    "import sklearn.metrics\n",
    "import xgboost as xgb\n",
    "from sklearn import preprocessing\n",
    "from sklearn.utils import resample\n",
    "\n",
    "from truera.client.truera_workspace import TrueraWorkspace\n",
    "from truera.client.truera_authentication import TokenAuthentication\n",
    "from truera.client.ingestion import ModelOutputContext, ColumnSpec\n",
    "\n",
    "auth = TokenAuthentication(AUTH_TOKEN)\n",
    "tru = TrueraWorkspace(TRUERA_URL, auth)"
   ]
  },
  {
   "attachments": {},
   "cell_type": "markdown",
   "metadata": {
    "id": "Mp3bgiN5rOov"
   },
   "source": [
    "### From here, run the rest of the notebook and follow the analysis.\n",
    "### First, load data and train the in your beach-head market, San Francisco. Also add additional data for Seattle and Austin, your target markets."
   ]
  },
  {
   "cell_type": "code",
   "execution_count": 4,
   "metadata": {
    "execution": {
     "iopub.execute_input": "2023-07-28T21:47:53.283126Z",
     "iopub.status.busy": "2023-07-28T21:47:53.282654Z",
     "iopub.status.idle": "2023-07-28T21:47:54.141304Z",
     "shell.execute_reply": "2023-07-28T21:47:54.140295Z",
     "shell.execute_reply.started": "2023-07-28T21:47:53.283091Z"
    }
   },
   "outputs": [],
   "source": [
    "# load data\n",
    "san_francisco = pd.read_csv(\"https://truera-examples.s3.us-west-2.amazonaws.com/data/starter-stability/San_Francisco_for_stability.csv\")\n",
    "seattle = pd.read_csv(\"https://truera-examples.s3.us-west-2.amazonaws.com/data/starter-stability/Seattle_for_stability.csv\")\n",
    "austin = pd.read_csv(\"https://truera-examples.s3.us-west-2.amazonaws.com/data/starter-stability/Austin_for_stability.csv\")\n",
    "\n",
    "# make all float and make index ids\n",
    "san_francisco = san_francisco.astype(float).reset_index(names=\"id\")\n",
    "seattle = seattle.astype(float).reset_index(names=\"id\")\n",
    "austin = austin.astype(float).reset_index(names=\"id\")"
   ]
  },
  {
   "cell_type": "markdown",
   "metadata": {},
   "source": [
    "### Create the project and set defaults for faster ingestion"
   ]
  },
  {
   "cell_type": "code",
   "execution_count": 5,
   "metadata": {
    "execution": {
     "iopub.execute_input": "2023-07-28T21:47:54.142845Z",
     "iopub.status.busy": "2023-07-28T21:47:54.142463Z",
     "iopub.status.idle": "2023-07-28T21:47:56.555495Z",
     "shell.execute_reply": "2023-07-28T21:47:56.554339Z",
     "shell.execute_reply.started": "2023-07-28T21:47:54.142818Z"
    }
   },
   "outputs": [],
   "source": [
    "# create the first project and data collection\n",
    "project_name = \"Starter Example Companion - Drift\"\n",
    "tru.add_project(project_name, score_type=\"regression\")\n",
    "tru.set_influence_type(\"shap\")\n",
    "tru.add_data_collection(\"Data Collection v1\")\n",
    "\n",
    "# reduce settings for speed\n",
    "tru.set_num_internal_qii_samples(100)\n",
    "tru.set_num_default_influences(100)"
   ]
  },
  {
   "cell_type": "markdown",
   "metadata": {},
   "source": [
    "### After we've done so, the next thing to do is adding the data.\n",
    "\n",
    "To do so, we'll introduce the add_data method along with the ColumnSpec. add_data is a general purpose method for adding data to truera and can be used to ingest a variety of data types including feature data, predictions, influences, labels and extra data.\n",
    "\n",
    "ColumnSpec is a helper class we imported from truera.client.ingestion that we use to specify which columns in the dataframe are for what purpose. If you prefer, you can skip using ColumnSpec and just pass a dict instead, e.g. {\"id_col_name\": \"id\",...}"
   ]
  },
  {
   "cell_type": "code",
   "execution_count": 6,
   "metadata": {
    "execution": {
     "iopub.execute_input": "2023-07-28T21:47:56.557059Z",
     "iopub.status.busy": "2023-07-28T21:47:56.556633Z",
     "iopub.status.idle": "2023-07-28T21:48:19.232023Z",
     "shell.execute_reply": "2023-07-28T21:48:19.231197Z",
     "shell.execute_reply.started": "2023-07-28T21:47:56.557033Z"
    }
   },
   "outputs": [
    {
     "name": "stdout",
     "output_type": "stream",
     "text": [
      "Uploading tmpma_bpaco.parquet (224.4KiB) -- ### -- file upload complete.\n",
      "Put resource done.\n"
     ]
    },
    {
     "name": "stderr",
     "output_type": "stream",
     "text": [
      "INFO:truera.client.remote_truera_workspace:Waiting for data split to materialize...\n"
     ]
    },
    {
     "name": "stdout",
     "output_type": "stream",
     "text": [
      "Uploading tmpvuahmkmh.parquet (147.9KiB) -- ### -- file upload complete.\n",
      "Put resource done.\n"
     ]
    },
    {
     "name": "stderr",
     "output_type": "stream",
     "text": [
      "INFO:truera.client.remote_truera_workspace:Waiting for data split to materialize...\n"
     ]
    },
    {
     "name": "stdout",
     "output_type": "stream",
     "text": [
      "Uploading tmpede2pf5r.parquet (336.8KiB) -- ### -- file upload complete.\n",
      "Put resource done.\n"
     ]
    },
    {
     "name": "stderr",
     "output_type": "stream",
     "text": [
      "INFO:truera.client.remote_truera_workspace:Waiting for data split to materialize...\n"
     ]
    }
   ],
   "source": [
    "# add data to the collection we just created\n",
    "tru.add_data(\n",
    "    data=san_francisco,\n",
    "    data_split_name=\"San Francisco\",\n",
    "    column_spec=ColumnSpec(\n",
    "        id_col_name=\"id\",\n",
    "        pre_data_col_names=list(san_francisco.columns.drop([\"id\", \"price\"])),\n",
    "        label_col_names=\"price\")\n",
    ")\n",
    "tru.add_data(\n",
    "    data=seattle,\n",
    "    data_split_name=\"Seattle\",\n",
    "    column_spec=ColumnSpec(\n",
    "        id_col_name=\"id\",\n",
    "        pre_data_col_names=list(seattle.columns.drop([\"id\", \"price\"])),\n",
    "        label_col_names=\"price\")\n",
    ")\n",
    "tru.add_data(\n",
    "    data=austin,\n",
    "    data_split_name=\"Austin\",\n",
    "    column_spec=ColumnSpec(\n",
    "        id_col_name=\"id\",\n",
    "        pre_data_col_names=list(seattle.columns.drop([\"id\", \"price\"])),\n",
    "        label_col_names=\"price\")\n",
    ")"
   ]
  },
  {
   "cell_type": "markdown",
   "metadata": {},
   "source": [
    "### Train the model and register it in TruEra"
   ]
  },
  {
   "cell_type": "code",
   "execution_count": 7,
   "metadata": {
    "execution": {
     "iopub.execute_input": "2023-07-28T21:48:19.233579Z",
     "iopub.status.busy": "2023-07-28T21:48:19.233125Z",
     "iopub.status.idle": "2023-07-28T21:48:22.252912Z",
     "shell.execute_reply": "2023-07-28T21:48:22.251634Z",
     "shell.execute_reply.started": "2023-07-28T21:48:19.233552Z"
    }
   },
   "outputs": [
    {
     "name": "stderr",
     "output_type": "stream",
     "text": [
      "INFO:truera.client.remote_truera_workspace:Uploading xgboost model: XGBRegressor\n",
      "INFO:truera.client.remote_truera_workspace:Verifying model...\n",
      "INFO:truera.client.remote_truera_workspace:✔️ Verified packaged model format.\n",
      "INFO:truera.client.remote_truera_workspace:✔️ Loaded model in current environment.\n",
      "INFO:truera.client.remote_truera_workspace:✔️ Called predict on model.\n",
      "INFO:truera.client.remote_truera_workspace:✔️ Verified model output.\n",
      "INFO:truera.client.remote_truera_workspace:Verification succeeded!\n"
     ]
    },
    {
     "name": "stdout",
     "output_type": "stream",
     "text": [
      "Uploading MLmodel (218.0B) -- ### -- file upload complete.\n",
      "Uploading tmpwbw3o8b4.json (171.8KiB) -- ### -- file upload complete.\n",
      "Uploading conda.yaml (208.0B) -- ### -- file upload complete.\n",
      "Uploading xgboost_regression_predict_wrapper.py (459.0B) -- ### -- file upload complete.\n",
      "Uploading xgboost_regression_predict_wrapper.cpython-310.pyc (1.1KiB) -- ### -- file upload complete.\n",
      "Put resource done.\n"
     ]
    },
    {
     "name": "stderr",
     "output_type": "stream",
     "text": [
      "INFO:truera.client.remote_truera_workspace:Model \"model_1\" is added and associated with remote data collection \"Data Collection v1\". \"model_1\" is set as the model for the workspace context.\n"
     ]
    },
    {
     "name": "stdout",
     "output_type": "stream",
     "text": [
      "Model uploaded to: http://localhost:8000/home/p/Starter%20Example%20Companion%20-%20Drift/m/model_1/\n"
     ]
    }
   ],
   "source": [
    "# train first model\n",
    "xgb_reg = xgb.XGBRegressor(eta=0.2, max_depth=4)\n",
    "xgb_reg.fit(san_francisco.drop([\"price\", \"id\"], axis=1), san_francisco.price)\n",
    "\n",
    "# register the model\n",
    "tru.add_python_model(\n",
    "    \"model_1\",\n",
    "    xgb_reg,\n",
    "    train_split_name=\"San Francisco\",\n",
    "    train_parameters={\"model_type\": \"xgb.XGBRegressor\", \"eta\": 0.2, \"max_depth\": 4},\n",
    "    compute_predictions=False\n",
    ")"
   ]
  },
  {
   "cell_type": "markdown",
   "metadata": {},
   "source": [
    "### Add predictions\n",
    "\n",
    "For calculation, we'll use the built-in tru.get_ys_pred() to compute predictions.\n",
    "\n",
    "Once we've computed our predictions we can add them again using add_data. We'll also use column_spec here, but this time we need to supply our prediction_col_names."
   ]
  },
  {
   "cell_type": "code",
   "execution_count": 8,
   "metadata": {
    "execution": {
     "iopub.execute_input": "2023-07-28T21:48:22.263727Z",
     "iopub.status.busy": "2023-07-28T21:48:22.263012Z",
     "iopub.status.idle": "2023-07-28T21:49:06.969555Z",
     "shell.execute_reply": "2023-07-28T21:49:06.968665Z",
     "shell.execute_reply.started": "2023-07-28T21:48:22.263692Z"
    }
   },
   "outputs": [
    {
     "name": "stderr",
     "output_type": "stream",
     "text": [
      "INFO:truera.client.truera_workspace:Download temp_dir: /var/folders/pg/2f8qcnr92cx4rcwpvm_x2ckc0000gn/T/tmpbvnidxr7\n",
      "INFO:truera.client.truera_workspace:Syncing data collection \"Data Collection v1\" to local.\n",
      "INFO:truera.client.local.local_truera_workspace:Data collection in local environment is now set to \"Data Collection v1\". \n",
      "INFO:truera.client.truera_workspace:Syncing data split \"San Francisco\" to local.\n",
      "INFO:truera.client.local.local_truera_workspace:Data split \"San Francisco\" is added to local data collection \"Data Collection v1\", and set as the data split for the workspace context.\n",
      "INFO:truera.client.truera_workspace:Syncing model model_1 to local.\n",
      "INFO:truera.client.local.local_truera_workspace:Model \"model_1\" is added and associated with local data collection \"Data Collection v1\". \"model_1\" is set as the model for the workspace context.\n",
      "ERROR:truera.client.truera_workspace:Failed to sync explanation cache for model \"model_1\" and data_split \"San Francisco\" to local: Requested influence caches not available.\n",
      "ERROR:truera.client.truera_workspace:Failed to sync explanation cache for model \"model_1\" and data_split \"Seattle\" to local: No such data split \"Seattle\" in data collection \"Data Collection v1\"!\n",
      "ERROR:truera.client.truera_workspace:Failed to sync explanation cache for model \"model_1\" and data_split \"Austin\" to local: No such data split \"Austin\" in data collection \"Data Collection v1\"!\n",
      "INFO:truera.client.truera_workspace:Syncing segments groups from remote to local.\n",
      "INFO:truera.client.local.local_truera_workspace:The previous data collection (\"Data Collection v1\") and its associated data splits and/or models have been cleared from the local environment workspace context.\n",
      "INFO:truera.client.local.local_truera_workspace:Data collection in local environment is now set to \"Data Collection v1\". \n",
      "INFO:truera.client.local.local_truera_workspace:Setting local model context to \"model_1\".\n",
      "INFO:truera.client.truera_workspace:Download temp_dir: /var/folders/pg/2f8qcnr92cx4rcwpvm_x2ckc0000gn/T/tmpbvnidxr7\n",
      "INFO:truera.client.truera_workspace:Syncing data collection \"Data Collection v1\" to local.\n",
      "WARNING:truera.client.truera_workspace:Data split \"San Francisco\" exists in local. Skipping.\n",
      "INFO:truera.client.truera_workspace:Syncing data split \"Seattle\" to local.\n",
      "INFO:truera.client.local.local_truera_workspace:Data split \"Seattle\" is added to local data collection \"Data Collection v1\", and set as the data split for the workspace context.\n",
      "WARNING:truera.client.truera_workspace:Model \"model_1\" already exists in local. Skipping.\n",
      "INFO:truera.client.truera_workspace:Syncing segments groups from remote to local.\n",
      "INFO:truera.client.truera_workspace:Download temp_dir: /var/folders/pg/2f8qcnr92cx4rcwpvm_x2ckc0000gn/T/tmpbvnidxr7\n",
      "INFO:truera.client.truera_workspace:Syncing data collection \"Data Collection v1\" to local.\n",
      "WARNING:truera.client.truera_workspace:Data split \"San Francisco\" exists in local. Skipping.\n",
      "INFO:truera.client.truera_workspace:Syncing data split \"Austin\" to local.\n",
      "INFO:truera.client.local.local_truera_workspace:Data split \"Austin\" is added to local data collection \"Data Collection v1\", and set as the data split for the workspace context.\n",
      "WARNING:truera.client.truera_workspace:Model \"model_1\" already exists in local. Skipping.\n",
      "INFO:truera.client.truera_workspace:Syncing segments groups from remote to local.\n",
      "INFO:truera.client.remote_truera_workspace:`model_output_context` will be inferred as it was not provided.\n",
      "INFO:truera.client.remote_truera_workspace:Inferred ModelOutputContext: ModelOutputContext(model_name='model_1', score_type='regression', background_split_name='', influence_type='')\n"
     ]
    },
    {
     "name": "stdout",
     "output_type": "stream",
     "text": [
      "Uploading tmpv4ab78tt.parquet (70.7KiB) -- ### -- file upload complete.\n",
      "Put resource done.\n"
     ]
    },
    {
     "name": "stderr",
     "output_type": "stream",
     "text": [
      "INFO:truera.client.remote_truera_workspace:Waiting for data split to materialize...\n",
      "INFO:truera.client.remote_truera_workspace:`model_output_context` will be inferred as it was not provided.\n",
      "INFO:truera.client.remote_truera_workspace:Inferred ModelOutputContext: ModelOutputContext(model_name='model_1', score_type='regression', background_split_name='', influence_type='')\n"
     ]
    },
    {
     "name": "stdout",
     "output_type": "stream",
     "text": [
      "Uploading tmpk05uraqb.parquet (44.4KiB) -- ### -- file upload complete.\n",
      "Put resource done.\n"
     ]
    },
    {
     "name": "stderr",
     "output_type": "stream",
     "text": [
      "INFO:truera.client.remote_truera_workspace:Waiting for data split to materialize...\n",
      "INFO:truera.client.remote_truera_workspace:`model_output_context` will be inferred as it was not provided.\n",
      "INFO:truera.client.remote_truera_workspace:Inferred ModelOutputContext: ModelOutputContext(model_name='model_1', score_type='regression', background_split_name='', influence_type='')\n"
     ]
    },
    {
     "name": "stdout",
     "output_type": "stream",
     "text": [
      "Uploading tmpyjvvsgm9.parquet (111.2KiB) -- ### -- file upload complete.\n",
      "Put resource done.\n"
     ]
    },
    {
     "name": "stderr",
     "output_type": "stream",
     "text": [
      "INFO:truera.client.remote_truera_workspace:Waiting for data split to materialize...\n"
     ]
    }
   ],
   "source": [
    "# predictions\n",
    "tru.set_influences_background_data_split(\"San Francisco\")\n",
    "tru.set_data_split(\"San Francisco\")\n",
    "sf_preds = tru.get_ys_pred().reset_index(names=\"id\")\n",
    "tru.set_data_split(\"Seattle\")\n",
    "se_preds = tru.get_ys_pred().reset_index(names=\"id\")\n",
    "tru.set_data_split(\"Austin\")\n",
    "au_preds = tru.get_ys_pred().reset_index(names=\"id\")\n",
    "\n",
    "tru.add_data(\n",
    "    data=sf_preds,\n",
    "    data_split_name=\"San Francisco\",\n",
    "    column_spec=ColumnSpec(\n",
    "        id_col_name=\"id\",\n",
    "        prediction_col_names=\"__truera_prediction__\"\n",
    "    )\n",
    ")\n",
    "\n",
    "tru.add_data(\n",
    "    data=se_preds,\n",
    "    data_split_name=\"Seattle\",\n",
    "    column_spec=ColumnSpec(\n",
    "        id_col_name=\"id\",\n",
    "        prediction_col_names=\"__truera_prediction__\"\n",
    "    )\n",
    ")\n",
    "\n",
    "tru.add_data(\n",
    "    data=au_preds,\n",
    "    data_split_name=\"Austin\",\n",
    "    column_spec=ColumnSpec(\n",
    "        id_col_name=\"id\",\n",
    "        prediction_col_names=\"__truera_prediction__\"\n",
    "    )\n",
    ")"
   ]
  },
  {
   "cell_type": "markdown",
   "metadata": {},
   "source": [
    "### Computing and Ingesting Feature Influences\n",
    "\n",
    "Feature influences are a core component of the TruEra platform that enables model explainability.\n",
    "\n",
    "To compute them, we'll use get_feature_influences. We'll use opensource SHAP as our influence calculation method here. \n",
    "\n",
    "Note: TruEra-QII is available for paid users to provide faster and more accurate computation.\n",
    "\n",
    "It's also a good time to introduce the Model Output Context. You should think of this as the metadata related to computing model outputs, including feature influences."
   ]
  },
  {
   "cell_type": "code",
   "execution_count": 9,
   "metadata": {
    "execution": {
     "iopub.execute_input": "2023-07-28T21:49:06.972318Z",
     "iopub.status.busy": "2023-07-28T21:49:06.971249Z",
     "iopub.status.idle": "2023-07-28T21:49:34.981877Z",
     "shell.execute_reply": "2023-07-28T21:49:34.980988Z",
     "shell.execute_reply.started": "2023-07-28T21:49:06.972273Z"
    }
   },
   "outputs": [
    {
     "name": "stderr",
     "output_type": "stream",
     "text": [
      "INFO:truera.client.truera_workspace:Download temp_dir: /var/folders/pg/2f8qcnr92cx4rcwpvm_x2ckc0000gn/T/tmpbvnidxr7\n",
      "INFO:truera.client.truera_workspace:Syncing data collection \"Data Collection v1\" to local.\n",
      "WARNING:truera.client.truera_workspace:Data split \"San Francisco\" exists in local. Skipping.\n",
      "WARNING:truera.client.truera_workspace:Data split \"Seattle\" exists in local. Skipping.\n",
      "WARNING:truera.client.truera_workspace:Data split \"Austin\" exists in local. Skipping.\n",
      "WARNING:truera.client.truera_workspace:Model \"model_1\" already exists in local. Skipping.\n",
      "INFO:truera.client.truera_workspace:Syncing segments groups from remote to local.\n",
      "WARNING:truera.client.local.intelligence.local_explainer:Background split for `data_collection` \"Data Collection v1\" is currently not set. Setting it to \"San Francisco\"\n",
      "INFO:truera.client.truera_workspace:Download temp_dir: /var/folders/pg/2f8qcnr92cx4rcwpvm_x2ckc0000gn/T/tmpbvnidxr7\n",
      "INFO:truera.client.truera_workspace:Syncing data collection \"Data Collection v1\" to local.\n",
      "WARNING:truera.client.truera_workspace:Data split \"San Francisco\" exists in local. Skipping.\n",
      "WARNING:truera.client.truera_workspace:Data split \"Austin\" exists in local. Skipping.\n",
      "WARNING:truera.client.truera_workspace:Model \"model_1\" already exists in local. Skipping.\n",
      "INFO:truera.client.truera_workspace:Syncing segments groups from remote to local.\n",
      "INFO:truera.client.truera_workspace:Download temp_dir: /var/folders/pg/2f8qcnr92cx4rcwpvm_x2ckc0000gn/T/tmpbvnidxr7\n",
      "INFO:truera.client.truera_workspace:Syncing data collection \"Data Collection v1\" to local.\n",
      "WARNING:truera.client.truera_workspace:Data split \"San Francisco\" exists in local. Skipping.\n",
      "WARNING:truera.client.truera_workspace:Data split \"Austin\" exists in local. Skipping.\n",
      "WARNING:truera.client.truera_workspace:Model \"model_1\" already exists in local. Skipping.\n",
      "INFO:truera.client.truera_workspace:Syncing segments groups from remote to local.\n"
     ]
    },
    {
     "name": "stdout",
     "output_type": "stream",
     "text": [
      "Uploading tmpsx7pswgf.parquet (37.9KiB) -- ### -- file upload complete.\n",
      "Put resource done.\n"
     ]
    },
    {
     "name": "stderr",
     "output_type": "stream",
     "text": [
      "INFO:truera.client.remote_truera_workspace:Waiting for data split to materialize...\n"
     ]
    },
    {
     "name": "stdout",
     "output_type": "stream",
     "text": [
      "Uploading tmpak5k2z47.parquet (37.6KiB) -- ### -- file upload complete.\n",
      "Put resource done.\n"
     ]
    },
    {
     "name": "stderr",
     "output_type": "stream",
     "text": [
      "INFO:truera.client.remote_truera_workspace:Waiting for data split to materialize...\n"
     ]
    },
    {
     "name": "stdout",
     "output_type": "stream",
     "text": [
      "Uploading tmp5utlnks9.parquet (37.9KiB) -- ### -- file upload complete.\n",
      "Put resource done.\n"
     ]
    },
    {
     "name": "stderr",
     "output_type": "stream",
     "text": [
      "INFO:truera.client.remote_truera_workspace:Waiting for data split to materialize...\n"
     ]
    }
   ],
   "source": [
    "# feature influences\n",
    "\n",
    "tru.set_influence_type(\"shap\")\n",
    "\n",
    "# reduce settings for speed\n",
    "tru.set_num_internal_qii_samples(100)\n",
    "tru.set_num_default_influences(100)\n",
    "\n",
    "se_explainer = tru.get_explainer(\"Seattle\")\n",
    "se_infs = se_explainer.get_feature_influences().reset_index(names=\"id\")\n",
    "\n",
    "sf_explainer = tru.get_explainer(\"San Francisco\")\n",
    "sf_infs = sf_explainer.get_feature_influences().reset_index(names=\"id\")\n",
    "\n",
    "au_explainer = tru.get_explainer(\"Austin\")\n",
    "au_infs = sf_explainer.get_feature_influences().reset_index(names=\"id\")\n",
    "\n",
    "model_output_context = ModelOutputContext(\n",
    "    model_name=\"model_1\",\n",
    "    score_type=\"regression\",\n",
    "    background_split_name=\"San Francisco\",\n",
    "    influence_type=\"kernel-shap\")\n",
    "\n",
    "tru.add_data(\n",
    "    data=sf_infs,\n",
    "    data_split_name=\"San Francisco\",\n",
    "    column_spec=ColumnSpec(\n",
    "        id_col_name=\"id\",\n",
    "        feature_influence_col_names=list(sf_infs.columns.drop(\"id\"))\n",
    "    ),\n",
    "    model_output_context=model_output_context\n",
    ")\n",
    "\n",
    "tru.add_data(\n",
    "    data=se_infs,\n",
    "    data_split_name=\"Seattle\",\n",
    "    column_spec=ColumnSpec(\n",
    "        id_col_name=\"id\",\n",
    "        feature_influence_col_names=list(se_infs.columns.drop(\"id\"))\n",
    "    ),\n",
    "    model_output_context=model_output_context\n",
    ")\n",
    "\n",
    "tru.add_data(\n",
    "    data=au_infs,\n",
    "    data_split_name=\"Austin\",\n",
    "    column_spec=ColumnSpec(\n",
    "        id_col_name=\"id\",\n",
    "        feature_influence_col_names=list(se_infs.columns.drop(\"id\"))\n",
    "    ),\n",
    "    model_output_context=model_output_context\n",
    ")"
   ]
  },
  {
   "cell_type": "markdown",
   "metadata": {},
   "source": [
    "### Computing and Ingesting Error Influences\n",
    "\n",
    "Error influences are a core component of the TruEra platform that enables model explainability.\n",
    "\n",
    "To compute them, we'll again use get_feature_influences, except with a different score type: \"mean_absolute_error_for_regression\"."
   ]
  },
  {
   "cell_type": "code",
   "execution_count": 10,
   "metadata": {
    "colab": {
     "background_save": true,
     "base_uri": "https://localhost:8080/",
     "height": 952,
     "referenced_widgets": [
      "48f9115e0a004d259e8878a58a8f3b51",
      "775849531f12416bb3a33e73cc36566d",
      "3db7feae39c04129a08fb5202c3996de",
      "a883014af14e42548b2f7e25ddb7ff80",
      "4a4aa63bfad641dd8219f136ce036313",
      "2610f75e46254d3e849dd4eb35fc0a23",
      "a71e471627d549b7a6ef45cfd36db19c",
      "941090ba5bf043e2b6e29fd02900890d",
      "97bd3343c64844edb465d9cfbefc8739",
      "b8dc706fb8ba41f8ad397d4fdf346983",
      "abc3837efb8e4deaaa5f75e36f6dc517",
      "250dcfcca7844e7ab143d353b0c87388",
      "94a6258c42584b969ce809e57e65c0c3",
      "b4f5f804170f49faab3ef8d540fcf117",
      "aaa83a89a45642c2bf67a76fa9dccb45",
      "2236d7ee20874941b81ae807fd2f8b2f",
      "d01bd84e6bfc436189cfb8f0347ba449",
      "01ebbda00191446dbea9ffebfcc5ca8d",
      "c0f414d8a0ef44bc9a6b19f9b4e7d8bb",
      "d1e97e6c471645f79ef5632e807ff931",
      "c6e1919b9e844aa294a92fc8bc0ee5a9",
      "71e742efc0ea4d669adb3c4dd3f85bd5",
      "9f7653c0f01a4461a5bef5a1627b236c"
     ]
    },
    "execution": {
     "iopub.execute_input": "2023-07-28T21:49:34.983951Z",
     "iopub.status.busy": "2023-07-28T21:49:34.983286Z",
     "iopub.status.idle": "2023-07-28T21:51:05.561222Z",
     "shell.execute_reply": "2023-07-28T21:51:05.560044Z",
     "shell.execute_reply.started": "2023-07-28T21:49:34.983915Z"
    },
    "id": "hjSSrMBJrOow",
    "outputId": "fde93e95-7fd0-4dbf-c07c-a77f74a77bf2"
   },
   "outputs": [
    {
     "name": "stderr",
     "output_type": "stream",
     "text": [
      "INFO:truera.client.truera_workspace:Download temp_dir: /var/folders/pg/2f8qcnr92cx4rcwpvm_x2ckc0000gn/T/tmpbvnidxr7\n",
      "INFO:truera.client.truera_workspace:Syncing data collection \"Data Collection v1\" to local.\n",
      "WARNING:truera.client.truera_workspace:Data split \"San Francisco\" exists in local. Skipping.\n",
      "WARNING:truera.client.truera_workspace:Model \"model_1\" already exists in local. Skipping.\n",
      "INFO:truera.client.truera_workspace:Syncing segments groups from remote to local.\n",
      "WARNING:truera.client.local.intelligence.local_explainer:Failed to use TreeSHAP for this model. Defaulting to KernelSHAP...\n",
      "WARNING:truera.client.local.intelligence.local_explainer:TreeSHAP cannot handle error influence computations for regression models!\n"
     ]
    },
    {
     "data": {
      "application/vnd.jupyter.widget-view+json": {
       "model_id": "d85968894bfc4879af3cae04b3a04482",
       "version_major": 2,
       "version_minor": 0
      },
      "text/plain": [
       "|          | 0.000% [00:00<?]"
      ]
     },
     "metadata": {},
     "output_type": "display_data"
    },
    {
     "name": "stderr",
     "output_type": "stream",
     "text": [
      "INFO:truera.client.truera_workspace:Download temp_dir: /var/folders/pg/2f8qcnr92cx4rcwpvm_x2ckc0000gn/T/tmpbvnidxr7\n",
      "INFO:truera.client.truera_workspace:Syncing data collection \"Data Collection v1\" to local.\n",
      "WARNING:truera.client.truera_workspace:Data split \"San Francisco\" exists in local. Skipping.\n",
      "WARNING:truera.client.truera_workspace:Data split \"Seattle\" exists in local. Skipping.\n",
      "WARNING:truera.client.truera_workspace:Model \"model_1\" already exists in local. Skipping.\n",
      "INFO:truera.client.truera_workspace:Syncing segments groups from remote to local.\n",
      "WARNING:truera.client.local.intelligence.local_explainer:Failed to use TreeSHAP for this model. Defaulting to KernelSHAP...\n",
      "WARNING:truera.client.local.intelligence.local_explainer:TreeSHAP cannot handle error influence computations for regression models!\n"
     ]
    },
    {
     "data": {
      "application/vnd.jupyter.widget-view+json": {
       "model_id": "0d61c62afdab412ba2ca308127ed359f",
       "version_major": 2,
       "version_minor": 0
      },
      "text/plain": [
       "|          | 0.000% [00:00<?]"
      ]
     },
     "metadata": {},
     "output_type": "display_data"
    },
    {
     "name": "stderr",
     "output_type": "stream",
     "text": [
      "INFO:truera.client.truera_workspace:Download temp_dir: /var/folders/pg/2f8qcnr92cx4rcwpvm_x2ckc0000gn/T/tmpbvnidxr7\n",
      "INFO:truera.client.truera_workspace:Syncing data collection \"Data Collection v1\" to local.\n",
      "WARNING:truera.client.truera_workspace:Data split \"San Francisco\" exists in local. Skipping.\n",
      "WARNING:truera.client.truera_workspace:Data split \"Austin\" exists in local. Skipping.\n",
      "WARNING:truera.client.truera_workspace:Model \"model_1\" already exists in local. Skipping.\n",
      "INFO:truera.client.truera_workspace:Syncing segments groups from remote to local.\n",
      "WARNING:truera.client.local.intelligence.local_explainer:Failed to use TreeSHAP for this model. Defaulting to KernelSHAP...\n",
      "WARNING:truera.client.local.intelligence.local_explainer:TreeSHAP cannot handle error influence computations for regression models!\n"
     ]
    },
    {
     "data": {
      "application/vnd.jupyter.widget-view+json": {
       "model_id": "ab394dfbe4f04628b1fb64b1f4f27180",
       "version_major": 2,
       "version_minor": 0
      },
      "text/plain": [
       "|          | 0.000% [00:00<?]"
      ]
     },
     "metadata": {},
     "output_type": "display_data"
    },
    {
     "name": "stdout",
     "output_type": "stream",
     "text": [
      "Uploading tmp6ztx7hxr.parquet (33.7KiB) -- ### -- file upload complete.\n",
      "Put resource done.\n"
     ]
    },
    {
     "name": "stderr",
     "output_type": "stream",
     "text": [
      "INFO:truera.client.remote_truera_workspace:Waiting for data split to materialize...\n"
     ]
    },
    {
     "name": "stdout",
     "output_type": "stream",
     "text": [
      "Uploading tmplj8_gs7v.parquet (34.4KiB) -- ### -- file upload complete.\n",
      "Put resource done.\n"
     ]
    },
    {
     "name": "stderr",
     "output_type": "stream",
     "text": [
      "INFO:truera.client.remote_truera_workspace:Waiting for data split to materialize...\n"
     ]
    },
    {
     "name": "stdout",
     "output_type": "stream",
     "text": [
      "Uploading tmpyjjgb976.parquet (34.0KiB) -- ### -- file upload complete.\n",
      "Put resource done.\n"
     ]
    },
    {
     "name": "stderr",
     "output_type": "stream",
     "text": [
      "INFO:truera.client.remote_truera_workspace:Waiting for data split to materialize...\n"
     ]
    }
   ],
   "source": [
    "# error influences\n",
    "model_output_context = ModelOutputContext(\n",
    "    model_name=\"model_1\",\n",
    "    score_type=\"mean_absolute_error_for_regression\",\n",
    "    background_split_name=\"San Francisco\",\n",
    "    influence_type=\"kernel-shap\")\n",
    "\n",
    "tru.set_data_split(\"San Francisco\")\n",
    "sf_error_infs = tru.get_feature_influences(score_type=\"mean_absolute_error_for_regression\").reset_index(names=\"id\")\n",
    "\n",
    "tru.set_data_split(\"Seattle\")\n",
    "se_error_infs = tru.get_feature_influences(score_type=\"mean_absolute_error_for_regression\").reset_index(names=\"id\")\n",
    "\n",
    "tru.set_data_split(\"Austin\")\n",
    "au_error_infs = tru.get_feature_influences(score_type=\"mean_absolute_error_for_regression\").reset_index(names=\"id\")\n",
    "\n",
    "tru.add_data(\n",
    "    data=sf_error_infs,\n",
    "    data_split_name=\"San Francisco\",\n",
    "    column_spec=ColumnSpec(\n",
    "        id_col_name=\"id\",\n",
    "        feature_influence_col_names=list(sf_error_infs.columns.drop(\"id\"))\n",
    "    ),\n",
    "    model_output_context=model_output_context\n",
    ")\n",
    "\n",
    "tru.add_data(\n",
    "    data=se_error_infs,\n",
    "    data_split_name=\"Seattle\",\n",
    "    column_spec=ColumnSpec(\n",
    "        id_col_name=\"id\",\n",
    "        feature_influence_col_names=list(se_error_infs.columns.drop(\"id\"))\n",
    "    ),\n",
    "    model_output_context=model_output_context\n",
    ")\n",
    "\n",
    "tru.add_data(\n",
    "    data=au_error_infs,\n",
    "    data_split_name=\"Austin\",\n",
    "    column_spec=ColumnSpec(\n",
    "        id_col_name=\"id\",\n",
    "        feature_influence_col_names=list(se_error_infs.columns.drop(\"id\"))\n",
    "    ),\n",
    "    model_output_context=model_output_context\n",
    ")"
   ]
  },
  {
   "attachments": {},
   "cell_type": "markdown",
   "metadata": {
    "id": "haxAePk4rOox"
   },
   "source": [
    "### Get the average ground truth price in each city to use for defining our drift (stability) test thresholds."
   ]
  },
  {
   "cell_type": "code",
   "execution_count": 11,
   "metadata": {
    "colab": {
     "background_save": true
    },
    "execution": {
     "iopub.execute_input": "2023-07-28T21:51:05.563792Z",
     "iopub.status.busy": "2023-07-28T21:51:05.563419Z",
     "iopub.status.idle": "2023-07-28T21:51:10.791903Z",
     "shell.execute_reply": "2023-07-28T21:51:10.791057Z",
     "shell.execute_reply.started": "2023-07-28T21:51:05.563760Z"
    },
    "id": "KAENOfmorOox",
    "outputId": "f571afbb-4969-461b-dc67-2bce8f9ffd84"
   },
   "outputs": [
    {
     "name": "stdout",
     "output_type": "stream",
     "text": [
      "San Francisco mean listing price: __truera_label__    205.25581\n",
      "dtype: float64\n",
      "Seattle mean listing price: __truera_label__    127.8074\n",
      "dtype: float64\n",
      "Austin mean listing price: __truera_label__    227.011264\n",
      "dtype: float64\n",
      "Expected price difference from San Francisco to Seattle: __truera_label__   -77.44841\n",
      "dtype: float64\n",
      "Expected price difference from San Francisco to Austin: __truera_label__    21.755454\n",
      "dtype: float64\n"
     ]
    }
   ],
   "source": [
    "tru.set_data_split(\"San Francisco\")\n",
    "san_francisco_mean_price = tru.get_ys().mean()\n",
    "tru.set_data_split(\"Seattle\")\n",
    "seattle_mean_price = tru.get_ys().mean()\n",
    "tru.set_data_split(\"Austin\")\n",
    "austin_mean_price = tru.get_ys().mean()\n",
    "\n",
    "print(\"San Francisco mean listing price: \" + str(san_francisco_mean_price))\n",
    "print(\"Seattle mean listing price: \" + str(seattle_mean_price))\n",
    "print(\"Austin mean listing price: \" + str(austin_mean_price))\n",
    "\n",
    "# calculate expected difference in price recommendations from beach-head to target market\n",
    "seattle_expected_difference = seattle_mean_price - san_francisco_mean_price\n",
    "austin_expected_difference = austin_mean_price - san_francisco_mean_price\n",
    "\n",
    "print(\"Expected price difference from San Francisco to Seattle: \" + str(seattle_expected_difference))\n",
    "print(\"Expected price difference from San Francisco to Austin: \" + str(austin_expected_difference))"
   ]
  },
  {
   "attachments": {},
   "cell_type": "markdown",
   "metadata": {
    "id": "04VsEAWrrOox"
   },
   "source": [
    "### Test for drift (stability) in Seattle and Austin."
   ]
  },
  {
   "cell_type": "code",
   "execution_count": 12,
   "metadata": {
    "colab": {
     "background_save": true
    },
    "execution": {
     "iopub.execute_input": "2023-07-28T21:51:10.794351Z",
     "iopub.status.busy": "2023-07-28T21:51:10.793569Z",
     "iopub.status.idle": "2023-07-28T21:51:13.875859Z",
     "shell.execute_reply": "2023-07-28T21:51:13.874950Z",
     "shell.execute_reply.started": "2023-07-28T21:51:10.794321Z"
    },
    "id": "76OW3Ub1rOox",
    "outputId": "25dceaf6-d420-407a-cde1-0c2dc425a631"
   },
   "outputs": [
    {
     "data": {
      "text/html": [
       "\n",
       "        <html>\n",
       "        <head>\n",
       "        <style>\n",
       "        table, th, td {\n",
       "            border-radius: 5px;\n",
       "        }\n",
       "        .header {\n",
       "            font-weight: bold;\n",
       "            font-size: 14px;\n",
       "        }\n",
       "        caption {\n",
       "            font-weight: bolder;\n",
       "            font-size: 16px;\n",
       "            background-color: powderblue;\n",
       "            color: black;\n",
       "            border-radius: 5px;\n",
       "        }\n",
       "        \n",
       "            .PASSED {\n",
       "                color: black;\n",
       "                background-color: palegreen;\n",
       "            }\n",
       "            .WARNING {\n",
       "                color: black;\n",
       "                background-color: yellow;\n",
       "            }\n",
       "            .FAILED {\n",
       "                color: black;\n",
       "                background-color: pink;\n",
       "            }\n",
       "            \n",
       "        </style>\n",
       "        </head>\n",
       "        <body>\n",
       "        <table>\n",
       "            <caption>Stability Tests Results for Model \"model_1\"</caption>\n",
       "            <tr class=\"header\"><td></td><td>Name</td><td>Comparison Split</td><td>Base Split</td><td>Segment</td><td>Metric</td><td>Score</td><td>Navigate</td></tr>\n",
       "            <tr><td >❌</td><td >Stability Test - Seattle</td><td >Seattle</td><td >San Francisco</td><td >ALL POINTS</td><td >DIFFERENCE_OF_MEAN</td><td class=\"FAILED\">-4.5582</td><td ><a href=\"http://localhost:8000/home/p/Starter Example Companion - Drift/m/model_1/t/stability?baseSplitName=San Francisco&compareSplitName=Seattle&splitId=8bfb4ce9-9a83-4450-ac18-cea862477f6c&modelIds=89841e19-4971-46f2-8801-cd7b10df68b1&\" target=\"_blank\">Explore in UI</a></td></tr><tr><td >❌</td><td >Stability Test - Austin</td><td >Austin</td><td >San Francisco</td><td >ALL POINTS</td><td >DIFFERENCE_OF_MEAN</td><td class=\"FAILED\">64.0755</td><td ><a href=\"http://localhost:8000/home/p/Starter Example Companion - Drift/m/model_1/t/stability?baseSplitName=San Francisco&compareSplitName=Austin&splitId=f3f40bff-9d04-409d-9b7a-8285570e416b&modelIds=89841e19-4971-46f2-8801-cd7b10df68b1&\" target=\"_blank\">Explore in UI</a></td></tr>\n",
       "        </table>\n",
       "        </body>\n",
       "        </html>\n",
       "        "
      ],
      "text/plain": [
       "<truera.client.intelligence.model_tests.ModelTestResults at 0x7fa9937cc0a0>"
      ]
     },
     "execution_count": 12,
     "metadata": {},
     "output_type": "execute_result"
    }
   ],
   "source": [
    "# add stability test\n",
    "\n",
    "# create stability tests in accordance with the setup\n",
    "tru.tester.add_stability_test(\n",
    "    test_name=\"Stability Test - Seattle\",\n",
    "    base_data_split_name=\"San Francisco\",\n",
    "    comparison_data_split_name_regex=\"Seattle\",\n",
    "    fail_if_outside=[seattle_expected_difference - 65, seattle_expected_difference + 65])\n",
    "\n",
    "tru.tester.add_stability_test(\n",
    "    test_name=\"Stability Test - Austin\",\n",
    "    base_data_split_name=\"San Francisco\",\n",
    "    comparison_data_split_names=[\"Austin\"],\n",
    "    fail_if_outside=[austin_expected_difference - 40, austin_expected_difference + 40])\n",
    "\n",
    "tru.set_model(\"model_1\")\n",
    "tru.tester.get_model_test_results(test_types=[\"stability\"])"
   ]
  },
  {
   "attachments": {},
   "cell_type": "markdown",
   "metadata": {
    "id": "bcTB5AZGrOox"
   },
   "source": [
    "The model fails in Seattle and Austin because the scores drifted too far from the ground truth in the new cities.\n",
    "\n",
    "### From here, navigate to the TruEra Web App for analysis or continue on to Part 2!     [![Open In Colab](https://colab.research.google.com/assets/colab-badge.svg)](https://colab.research.google.com/github/truera/truera-examples/blob/release/rc-1.37/starter-examples/starter-drift-part-2.ipynb)"
   ]
  }
 ],
 "metadata": {
  "colab": {
   "collapsed_sections": [
    "sT6MCOBwrOov"
   ],
   "provenance": []
  },
  "kernelspec": {
   "display_name": "Python 3 (ipykernel)",
   "language": "python",
   "name": "python3"
  },
  "language_info": {
   "codemirror_mode": {
    "name": "ipython",
    "version": 3
   },
   "file_extension": ".py",
   "mimetype": "text/x-python",
   "name": "python",
   "nbconvert_exporter": "python",
   "pygments_lexer": "ipython3",
   "version": "3.10.6"
  },
  "vscode": {
   "interpreter": {
    "hash": "b4f2e5daa82a60c8a70e0d3e9bda538f88cddb8e82481cb13c1d3f460faace44"
   }
  },
  "widgets": {
   "application/vnd.jupyter.widget-state+json": {
    "01ebbda00191446dbea9ffebfcc5ca8d": {
     "model_module": "@jupyter-widgets/controls",
     "model_module_version": "1.5.0",
     "model_name": "DescriptionStyleModel",
     "state": {
      "_model_module": "@jupyter-widgets/controls",
      "_model_module_version": "1.5.0",
      "_model_name": "DescriptionStyleModel",
      "_view_count": null,
      "_view_module": "@jupyter-widgets/base",
      "_view_module_version": "1.2.0",
      "_view_name": "StyleView",
      "description_width": ""
     }
    },
    "2236d7ee20874941b81ae807fd2f8b2f": {
     "model_module": "@jupyter-widgets/base",
     "model_module_version": "1.2.0",
     "model_name": "LayoutModel",
     "state": {
      "_model_module": "@jupyter-widgets/base",
      "_model_module_version": "1.2.0",
      "_model_name": "LayoutModel",
      "_view_count": null,
      "_view_module": "@jupyter-widgets/base",
      "_view_module_version": "1.2.0",
      "_view_name": "LayoutView",
      "align_content": null,
      "align_items": null,
      "align_self": null,
      "border": null,
      "bottom": null,
      "display": null,
      "flex": null,
      "flex_flow": null,
      "grid_area": null,
      "grid_auto_columns": null,
      "grid_auto_flow": null,
      "grid_auto_rows": null,
      "grid_column": null,
      "grid_gap": null,
      "grid_row": null,
      "grid_template_areas": null,
      "grid_template_columns": null,
      "grid_template_rows": null,
      "height": null,
      "justify_content": null,
      "justify_items": null,
      "left": null,
      "margin": null,
      "max_height": null,
      "max_width": null,
      "min_height": null,
      "min_width": null,
      "object_fit": null,
      "object_position": null,
      "order": null,
      "overflow": null,
      "overflow_x": null,
      "overflow_y": null,
      "padding": null,
      "right": null,
      "top": null,
      "visibility": null,
      "width": null
     }
    },
    "250dcfcca7844e7ab143d353b0c87388": {
     "model_module": "@jupyter-widgets/controls",
     "model_module_version": "1.5.0",
     "model_name": "HBoxModel",
     "state": {
      "_dom_classes": [],
      "_model_module": "@jupyter-widgets/controls",
      "_model_module_version": "1.5.0",
      "_model_name": "HBoxModel",
      "_view_count": null,
      "_view_module": "@jupyter-widgets/controls",
      "_view_module_version": "1.5.0",
      "_view_name": "HBoxView",
      "box_style": "",
      "children": [
       "IPY_MODEL_94a6258c42584b969ce809e57e65c0c3",
       "IPY_MODEL_b4f5f804170f49faab3ef8d540fcf117",
       "IPY_MODEL_aaa83a89a45642c2bf67a76fa9dccb45"
      ],
      "layout": "IPY_MODEL_2236d7ee20874941b81ae807fd2f8b2f"
     }
    },
    "2610f75e46254d3e849dd4eb35fc0a23": {
     "model_module": "@jupyter-widgets/base",
     "model_module_version": "1.2.0",
     "model_name": "LayoutModel",
     "state": {
      "_model_module": "@jupyter-widgets/base",
      "_model_module_version": "1.2.0",
      "_model_name": "LayoutModel",
      "_view_count": null,
      "_view_module": "@jupyter-widgets/base",
      "_view_module_version": "1.2.0",
      "_view_name": "LayoutView",
      "align_content": null,
      "align_items": null,
      "align_self": null,
      "border": null,
      "bottom": null,
      "display": null,
      "flex": null,
      "flex_flow": null,
      "grid_area": null,
      "grid_auto_columns": null,
      "grid_auto_flow": null,
      "grid_auto_rows": null,
      "grid_column": null,
      "grid_gap": null,
      "grid_row": null,
      "grid_template_areas": null,
      "grid_template_columns": null,
      "grid_template_rows": null,
      "height": null,
      "justify_content": null,
      "justify_items": null,
      "left": null,
      "margin": null,
      "max_height": null,
      "max_width": null,
      "min_height": null,
      "min_width": null,
      "object_fit": null,
      "object_position": null,
      "order": null,
      "overflow": null,
      "overflow_x": null,
      "overflow_y": null,
      "padding": null,
      "right": null,
      "top": null,
      "visibility": null,
      "width": null
     }
    },
    "3db7feae39c04129a08fb5202c3996de": {
     "model_module": "@jupyter-widgets/controls",
     "model_module_version": "1.5.0",
     "model_name": "FloatProgressModel",
     "state": {
      "_dom_classes": [],
      "_model_module": "@jupyter-widgets/controls",
      "_model_module_version": "1.5.0",
      "_model_name": "FloatProgressModel",
      "_view_count": null,
      "_view_module": "@jupyter-widgets/controls",
      "_view_module_version": "1.5.0",
      "_view_name": "ProgressView",
      "bar_style": "",
      "description": "",
      "description_tooltip": null,
      "layout": "IPY_MODEL_941090ba5bf043e2b6e29fd02900890d",
      "max": 100,
      "min": 0,
      "orientation": "horizontal",
      "style": "IPY_MODEL_97bd3343c64844edb465d9cfbefc8739",
      "value": 100
     }
    },
    "48f9115e0a004d259e8878a58a8f3b51": {
     "model_module": "@jupyter-widgets/controls",
     "model_module_version": "1.5.0",
     "model_name": "HBoxModel",
     "state": {
      "_dom_classes": [],
      "_model_module": "@jupyter-widgets/controls",
      "_model_module_version": "1.5.0",
      "_model_name": "HBoxModel",
      "_view_count": null,
      "_view_module": "@jupyter-widgets/controls",
      "_view_module_version": "1.5.0",
      "_view_name": "HBoxView",
      "box_style": "",
      "children": [
       "IPY_MODEL_775849531f12416bb3a33e73cc36566d",
       "IPY_MODEL_3db7feae39c04129a08fb5202c3996de",
       "IPY_MODEL_a883014af14e42548b2f7e25ddb7ff80"
      ],
      "layout": "IPY_MODEL_4a4aa63bfad641dd8219f136ce036313"
     }
    },
    "4a4aa63bfad641dd8219f136ce036313": {
     "model_module": "@jupyter-widgets/base",
     "model_module_version": "1.2.0",
     "model_name": "LayoutModel",
     "state": {
      "_model_module": "@jupyter-widgets/base",
      "_model_module_version": "1.2.0",
      "_model_name": "LayoutModel",
      "_view_count": null,
      "_view_module": "@jupyter-widgets/base",
      "_view_module_version": "1.2.0",
      "_view_name": "LayoutView",
      "align_content": null,
      "align_items": null,
      "align_self": null,
      "border": null,
      "bottom": null,
      "display": null,
      "flex": null,
      "flex_flow": null,
      "grid_area": null,
      "grid_auto_columns": null,
      "grid_auto_flow": null,
      "grid_auto_rows": null,
      "grid_column": null,
      "grid_gap": null,
      "grid_row": null,
      "grid_template_areas": null,
      "grid_template_columns": null,
      "grid_template_rows": null,
      "height": null,
      "justify_content": null,
      "justify_items": null,
      "left": null,
      "margin": null,
      "max_height": null,
      "max_width": null,
      "min_height": null,
      "min_width": null,
      "object_fit": null,
      "object_position": null,
      "order": null,
      "overflow": null,
      "overflow_x": null,
      "overflow_y": null,
      "padding": null,
      "right": null,
      "top": null,
      "visibility": "hidden",
      "width": null
     }
    },
    "71e742efc0ea4d669adb3c4dd3f85bd5": {
     "model_module": "@jupyter-widgets/controls",
     "model_module_version": "1.5.0",
     "model_name": "DescriptionStyleModel",
     "state": {
      "_model_module": "@jupyter-widgets/controls",
      "_model_module_version": "1.5.0",
      "_model_name": "DescriptionStyleModel",
      "_view_count": null,
      "_view_module": "@jupyter-widgets/base",
      "_view_module_version": "1.2.0",
      "_view_name": "StyleView",
      "description_width": ""
     }
    },
    "775849531f12416bb3a33e73cc36566d": {
     "model_module": "@jupyter-widgets/controls",
     "model_module_version": "1.5.0",
     "model_name": "HTMLModel",
     "state": {
      "_dom_classes": [],
      "_model_module": "@jupyter-widgets/controls",
      "_model_module_version": "1.5.0",
      "_model_name": "HTMLModel",
      "_view_count": null,
      "_view_module": "@jupyter-widgets/controls",
      "_view_module_version": "1.5.0",
      "_view_name": "HTMLView",
      "description": "",
      "description_tooltip": null,
      "layout": "IPY_MODEL_2610f75e46254d3e849dd4eb35fc0a23",
      "placeholder": "​",
      "style": "IPY_MODEL_a71e471627d549b7a6ef45cfd36db19c",
      "value": ""
     }
    },
    "941090ba5bf043e2b6e29fd02900890d": {
     "model_module": "@jupyter-widgets/base",
     "model_module_version": "1.2.0",
     "model_name": "LayoutModel",
     "state": {
      "_model_module": "@jupyter-widgets/base",
      "_model_module_version": "1.2.0",
      "_model_name": "LayoutModel",
      "_view_count": null,
      "_view_module": "@jupyter-widgets/base",
      "_view_module_version": "1.2.0",
      "_view_name": "LayoutView",
      "align_content": null,
      "align_items": null,
      "align_self": null,
      "border": null,
      "bottom": null,
      "display": null,
      "flex": null,
      "flex_flow": null,
      "grid_area": null,
      "grid_auto_columns": null,
      "grid_auto_flow": null,
      "grid_auto_rows": null,
      "grid_column": null,
      "grid_gap": null,
      "grid_row": null,
      "grid_template_areas": null,
      "grid_template_columns": null,
      "grid_template_rows": null,
      "height": null,
      "justify_content": null,
      "justify_items": null,
      "left": null,
      "margin": null,
      "max_height": null,
      "max_width": null,
      "min_height": null,
      "min_width": null,
      "object_fit": null,
      "object_position": null,
      "order": null,
      "overflow": null,
      "overflow_x": null,
      "overflow_y": null,
      "padding": null,
      "right": null,
      "top": null,
      "visibility": null,
      "width": null
     }
    },
    "94a6258c42584b969ce809e57e65c0c3": {
     "model_module": "@jupyter-widgets/controls",
     "model_module_version": "1.5.0",
     "model_name": "HTMLModel",
     "state": {
      "_dom_classes": [],
      "_model_module": "@jupyter-widgets/controls",
      "_model_module_version": "1.5.0",
      "_model_name": "HTMLModel",
      "_view_count": null,
      "_view_module": "@jupyter-widgets/controls",
      "_view_module_version": "1.5.0",
      "_view_name": "HTMLView",
      "description": "",
      "description_tooltip": null,
      "layout": "IPY_MODEL_d01bd84e6bfc436189cfb8f0347ba449",
      "placeholder": "​",
      "style": "IPY_MODEL_01ebbda00191446dbea9ffebfcc5ca8d",
      "value": ""
     }
    },
    "97bd3343c64844edb465d9cfbefc8739": {
     "model_module": "@jupyter-widgets/controls",
     "model_module_version": "1.5.0",
     "model_name": "ProgressStyleModel",
     "state": {
      "_model_module": "@jupyter-widgets/controls",
      "_model_module_version": "1.5.0",
      "_model_name": "ProgressStyleModel",
      "_view_count": null,
      "_view_module": "@jupyter-widgets/base",
      "_view_module_version": "1.2.0",
      "_view_name": "StyleView",
      "bar_color": null,
      "description_width": ""
     }
    },
    "a71e471627d549b7a6ef45cfd36db19c": {
     "model_module": "@jupyter-widgets/controls",
     "model_module_version": "1.5.0",
     "model_name": "DescriptionStyleModel",
     "state": {
      "_model_module": "@jupyter-widgets/controls",
      "_model_module_version": "1.5.0",
      "_model_name": "DescriptionStyleModel",
      "_view_count": null,
      "_view_module": "@jupyter-widgets/base",
      "_view_module_version": "1.2.0",
      "_view_name": "StyleView",
      "description_width": ""
     }
    },
    "a883014af14e42548b2f7e25ddb7ff80": {
     "model_module": "@jupyter-widgets/controls",
     "model_module_version": "1.5.0",
     "model_name": "HTMLModel",
     "state": {
      "_dom_classes": [],
      "_model_module": "@jupyter-widgets/controls",
      "_model_module_version": "1.5.0",
      "_model_name": "HTMLModel",
      "_view_count": null,
      "_view_module": "@jupyter-widgets/controls",
      "_view_module_version": "1.5.0",
      "_view_name": "HTMLView",
      "description": "",
      "description_tooltip": null,
      "layout": "IPY_MODEL_b8dc706fb8ba41f8ad397d4fdf346983",
      "placeholder": "​",
      "style": "IPY_MODEL_abc3837efb8e4deaaa5f75e36f6dc517",
      "value": " 100.000% [14:40&lt;00:00]"
     }
    },
    "aaa83a89a45642c2bf67a76fa9dccb45": {
     "model_module": "@jupyter-widgets/controls",
     "model_module_version": "1.5.0",
     "model_name": "HTMLModel",
     "state": {
      "_dom_classes": [],
      "_model_module": "@jupyter-widgets/controls",
      "_model_module_version": "1.5.0",
      "_model_name": "HTMLModel",
      "_view_count": null,
      "_view_module": "@jupyter-widgets/controls",
      "_view_module_version": "1.5.0",
      "_view_name": "HTMLView",
      "description": "",
      "description_tooltip": null,
      "layout": "IPY_MODEL_c6e1919b9e844aa294a92fc8bc0ee5a9",
      "placeholder": "​",
      "style": "IPY_MODEL_71e742efc0ea4d669adb3c4dd3f85bd5",
      "value": " 0.600% [00:06&lt;15:20]"
     }
    },
    "abc3837efb8e4deaaa5f75e36f6dc517": {
     "model_module": "@jupyter-widgets/controls",
     "model_module_version": "1.5.0",
     "model_name": "DescriptionStyleModel",
     "state": {
      "_model_module": "@jupyter-widgets/controls",
      "_model_module_version": "1.5.0",
      "_model_name": "DescriptionStyleModel",
      "_view_count": null,
      "_view_module": "@jupyter-widgets/base",
      "_view_module_version": "1.2.0",
      "_view_name": "StyleView",
      "description_width": ""
     }
    },
    "b4f5f804170f49faab3ef8d540fcf117": {
     "model_module": "@jupyter-widgets/controls",
     "model_module_version": "1.5.0",
     "model_name": "FloatProgressModel",
     "state": {
      "_dom_classes": [],
      "_model_module": "@jupyter-widgets/controls",
      "_model_module_version": "1.5.0",
      "_model_name": "FloatProgressModel",
      "_view_count": null,
      "_view_module": "@jupyter-widgets/controls",
      "_view_module_version": "1.5.0",
      "_view_name": "ProgressView",
      "bar_style": "",
      "description": "",
      "description_tooltip": null,
      "layout": "IPY_MODEL_c0f414d8a0ef44bc9a6b19f9b4e7d8bb",
      "max": 100,
      "min": 0,
      "orientation": "horizontal",
      "style": "IPY_MODEL_d1e97e6c471645f79ef5632e807ff931",
      "value": 0.6
     }
    },
    "b8dc706fb8ba41f8ad397d4fdf346983": {
     "model_module": "@jupyter-widgets/base",
     "model_module_version": "1.2.0",
     "model_name": "LayoutModel",
     "state": {
      "_model_module": "@jupyter-widgets/base",
      "_model_module_version": "1.2.0",
      "_model_name": "LayoutModel",
      "_view_count": null,
      "_view_module": "@jupyter-widgets/base",
      "_view_module_version": "1.2.0",
      "_view_name": "LayoutView",
      "align_content": null,
      "align_items": null,
      "align_self": null,
      "border": null,
      "bottom": null,
      "display": null,
      "flex": null,
      "flex_flow": null,
      "grid_area": null,
      "grid_auto_columns": null,
      "grid_auto_flow": null,
      "grid_auto_rows": null,
      "grid_column": null,
      "grid_gap": null,
      "grid_row": null,
      "grid_template_areas": null,
      "grid_template_columns": null,
      "grid_template_rows": null,
      "height": null,
      "justify_content": null,
      "justify_items": null,
      "left": null,
      "margin": null,
      "max_height": null,
      "max_width": null,
      "min_height": null,
      "min_width": null,
      "object_fit": null,
      "object_position": null,
      "order": null,
      "overflow": null,
      "overflow_x": null,
      "overflow_y": null,
      "padding": null,
      "right": null,
      "top": null,
      "visibility": null,
      "width": null
     }
    },
    "c0f414d8a0ef44bc9a6b19f9b4e7d8bb": {
     "model_module": "@jupyter-widgets/base",
     "model_module_version": "1.2.0",
     "model_name": "LayoutModel",
     "state": {
      "_model_module": "@jupyter-widgets/base",
      "_model_module_version": "1.2.0",
      "_model_name": "LayoutModel",
      "_view_count": null,
      "_view_module": "@jupyter-widgets/base",
      "_view_module_version": "1.2.0",
      "_view_name": "LayoutView",
      "align_content": null,
      "align_items": null,
      "align_self": null,
      "border": null,
      "bottom": null,
      "display": null,
      "flex": null,
      "flex_flow": null,
      "grid_area": null,
      "grid_auto_columns": null,
      "grid_auto_flow": null,
      "grid_auto_rows": null,
      "grid_column": null,
      "grid_gap": null,
      "grid_row": null,
      "grid_template_areas": null,
      "grid_template_columns": null,
      "grid_template_rows": null,
      "height": null,
      "justify_content": null,
      "justify_items": null,
      "left": null,
      "margin": null,
      "max_height": null,
      "max_width": null,
      "min_height": null,
      "min_width": null,
      "object_fit": null,
      "object_position": null,
      "order": null,
      "overflow": null,
      "overflow_x": null,
      "overflow_y": null,
      "padding": null,
      "right": null,
      "top": null,
      "visibility": null,
      "width": null
     }
    },
    "c6e1919b9e844aa294a92fc8bc0ee5a9": {
     "model_module": "@jupyter-widgets/base",
     "model_module_version": "1.2.0",
     "model_name": "LayoutModel",
     "state": {
      "_model_module": "@jupyter-widgets/base",
      "_model_module_version": "1.2.0",
      "_model_name": "LayoutModel",
      "_view_count": null,
      "_view_module": "@jupyter-widgets/base",
      "_view_module_version": "1.2.0",
      "_view_name": "LayoutView",
      "align_content": null,
      "align_items": null,
      "align_self": null,
      "border": null,
      "bottom": null,
      "display": null,
      "flex": null,
      "flex_flow": null,
      "grid_area": null,
      "grid_auto_columns": null,
      "grid_auto_flow": null,
      "grid_auto_rows": null,
      "grid_column": null,
      "grid_gap": null,
      "grid_row": null,
      "grid_template_areas": null,
      "grid_template_columns": null,
      "grid_template_rows": null,
      "height": null,
      "justify_content": null,
      "justify_items": null,
      "left": null,
      "margin": null,
      "max_height": null,
      "max_width": null,
      "min_height": null,
      "min_width": null,
      "object_fit": null,
      "object_position": null,
      "order": null,
      "overflow": null,
      "overflow_x": null,
      "overflow_y": null,
      "padding": null,
      "right": null,
      "top": null,
      "visibility": null,
      "width": null
     }
    },
    "d01bd84e6bfc436189cfb8f0347ba449": {
     "model_module": "@jupyter-widgets/base",
     "model_module_version": "1.2.0",
     "model_name": "LayoutModel",
     "state": {
      "_model_module": "@jupyter-widgets/base",
      "_model_module_version": "1.2.0",
      "_model_name": "LayoutModel",
      "_view_count": null,
      "_view_module": "@jupyter-widgets/base",
      "_view_module_version": "1.2.0",
      "_view_name": "LayoutView",
      "align_content": null,
      "align_items": null,
      "align_self": null,
      "border": null,
      "bottom": null,
      "display": null,
      "flex": null,
      "flex_flow": null,
      "grid_area": null,
      "grid_auto_columns": null,
      "grid_auto_flow": null,
      "grid_auto_rows": null,
      "grid_column": null,
      "grid_gap": null,
      "grid_row": null,
      "grid_template_areas": null,
      "grid_template_columns": null,
      "grid_template_rows": null,
      "height": null,
      "justify_content": null,
      "justify_items": null,
      "left": null,
      "margin": null,
      "max_height": null,
      "max_width": null,
      "min_height": null,
      "min_width": null,
      "object_fit": null,
      "object_position": null,
      "order": null,
      "overflow": null,
      "overflow_x": null,
      "overflow_y": null,
      "padding": null,
      "right": null,
      "top": null,
      "visibility": null,
      "width": null
     }
    },
    "d1e97e6c471645f79ef5632e807ff931": {
     "model_module": "@jupyter-widgets/controls",
     "model_module_version": "1.5.0",
     "model_name": "ProgressStyleModel",
     "state": {
      "_model_module": "@jupyter-widgets/controls",
      "_model_module_version": "1.5.0",
      "_model_name": "ProgressStyleModel",
      "_view_count": null,
      "_view_module": "@jupyter-widgets/base",
      "_view_module_version": "1.2.0",
      "_view_name": "StyleView",
      "bar_color": null,
      "description_width": ""
     }
    }
   }
  }
 },
 "nbformat": 4,
 "nbformat_minor": 4
}

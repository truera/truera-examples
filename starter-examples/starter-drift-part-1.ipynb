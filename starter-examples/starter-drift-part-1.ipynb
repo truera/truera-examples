{
  "cells": [
    {
      "cell_type": "markdown",
      "metadata": {
        "id": "FC9bCFA9rOot"
      },
      "source": [
        "# Guided Exercise: Drift\n",
        "\n",
        "### Setup:\n",
        "You are the principal data scientist working for a new startup that offers a price recommendation for rental home listings. Your beach-head market was San Francisco and this was where you trained the model, which is the core service of the business. But now, the startup is looking to expand into Seattle and Austin. Using the mean price difference between San Francisco and each new city, you want to make sure your price recommendations don't drift. If they drift too low, your customers will leave money on the table; if they drift too high, their listing will be vacant. Hitting the goldilox zone is critical for acquiring and keeping happy customers in Seattle.\n",
        "\n",
        "Competitors in Seattle are within 65 dollars of the ideal price, and due to stiffer competition, competitors in Austin are within $40 of the ideal price. These are the benchmarks we need to hit to prove a viable product.\n",
        "\n",
        "#### Goals 🎯\n",
        "\n",
        "In this tutorial, you will learn how to:\n",
        "1. Set up and view the results of stability tests.\n",
        "2. Debug the true cause of stability issues.\n",
        "3. Retest the new model and confirm the effectivenesss of the mitigation strategy.\n",
        "\n",
        "### First, set the credentials for your TruEra deployment.\n",
        "\n",
        "If you don't have credentials yet, get them instantly by signing up for the free open beta: https://app.truera.net"
      ]
    },
    {
      "cell_type": "code",
      "execution_count": null,
      "metadata": {
        "id": "qRu0HIs0rOov"
      },
      "outputs": [],
      "source": [
        "#connection details\n",
        "TRUERA_URL = \"https://app.truera.net\"\n",
        "AUTH_TOKEN = \"\""
      ]
    },
    {
      "cell_type": "markdown",
      "metadata": {
        "id": "sT6MCOBwrOov"
      },
      "source": [
        "### Install required packages for running in colab"
      ]
    },
    {
      "cell_type": "code",
      "execution_count": null,
      "metadata": {
        "colab": {
          "base_uri": "https://localhost:8080/"
        },
        "id": "UABzHAfBrOov",
        "outputId": "b7d019b2-bf86-45a8-ccf7-de78079cdc73"
      },
      "outputs": [
        {
          "name": "stdout",
          "output_type": "stream",
          "text": [
            "Looking in indexes: https://pypi.org/simple, https://us-python.pkg.dev/colab-wheels/public/simple/\n",
            "Requirement already satisfied: Flask in /usr/local/lib/python3.10/dist-packages (2.2.4)\n",
            "Collecting Flask\n",
            "  Downloading Flask-2.3.2-py3-none-any.whl (96 kB)\n",
            "\u001b[2K     \u001b[90m━━━━━━━━━━━━━━━━━━━━━━━━━━━━━━━━━━━━━━━━\u001b[0m \u001b[32m96.9/96.9 kB\u001b[0m \u001b[31m1.8 MB/s\u001b[0m eta \u001b[36m0:00:00\u001b[0m\n",
            "\u001b[?25hCollecting blinker>=1.6.2\n",
            "  Downloading blinker-1.6.2-py3-none-any.whl (13 kB)\n",
            "Requirement already satisfied: Jinja2>=3.1.2 in /usr/local/lib/python3.10/dist-packages (from Flask) (3.1.2)\n",
            "Requirement already satisfied: click>=8.1.3 in /usr/local/lib/python3.10/dist-packages (from Flask) (8.1.3)\n",
            "Collecting Werkzeug>=2.3.3\n",
            "  Downloading Werkzeug-2.3.3-py3-none-any.whl (242 kB)\n",
            "\u001b[2K     \u001b[90m━━━━━━━━━━━━━━━━━━━━━━━━━━━━━━━━━━━━━━━\u001b[0m \u001b[32m242.3/242.3 kB\u001b[0m \u001b[31m9.6 MB/s\u001b[0m eta \u001b[36m0:00:00\u001b[0m\n",
            "\u001b[?25hRequirement already satisfied: itsdangerous>=2.1.2 in /usr/local/lib/python3.10/dist-packages (from Flask) (2.1.2)\n",
            "Requirement already satisfied: MarkupSafe>=2.0 in /usr/local/lib/python3.10/dist-packages (from Jinja2>=3.1.2->Flask) (2.1.2)\n",
            "Installing collected packages: Werkzeug, blinker, Flask\n",
            "  Attempting uninstall: Werkzeug\n",
            "    Found existing installation: Werkzeug 2.3.0\n",
            "    Uninstalling Werkzeug-2.3.0:\n",
            "      Successfully uninstalled Werkzeug-2.3.0\n",
            "  Attempting uninstall: Flask\n",
            "    Found existing installation: Flask 2.2.4\n",
            "    Uninstalling Flask-2.2.4:\n",
            "      Successfully uninstalled Flask-2.2.4\n",
            "Successfully installed Flask-2.3.2 Werkzeug-2.3.3 blinker-1.6.2\n",
            "Looking in indexes: https://pypi.org/simple, https://us-python.pkg.dev/colab-wheels/public/simple/\n",
            "Requirement already satisfied: protobuf in /usr/local/lib/python3.10/dist-packages (3.20.3)\n",
            "Collecting protobuf\n",
            "  Downloading protobuf-4.22.3-cp37-abi3-manylinux2014_x86_64.whl (302 kB)\n",
            "\u001b[2K     \u001b[90m━━━━━━━━━━━━━━━━━━━━━━━━━━━━━━━━━━━━━━━\u001b[0m \u001b[32m302.4/302.4 kB\u001b[0m \u001b[31m2.7 MB/s\u001b[0m eta \u001b[36m0:00:00\u001b[0m\n",
            "\u001b[?25hInstalling collected packages: protobuf\n",
            "  Attempting uninstall: protobuf\n",
            "    Found existing installation: protobuf 3.20.3\n",
            "    Uninstalling protobuf-3.20.3:\n",
            "      Successfully uninstalled protobuf-3.20.3\n",
            "Successfully installed protobuf-4.22.3\n",
            "Looking in indexes: https://pypi.org/simple, https://us-python.pkg.dev/colab-wheels/public/simple/\n",
            "Collecting shap\n",
            "  Downloading shap-0.41.0-cp310-cp310-manylinux_2_12_x86_64.manylinux2010_x86_64.whl (572 kB)\n",
            "\u001b[2K     \u001b[90m━━━━━━━━━━━━━━━━━━━━━━━━━━━━━━━━━━━━━━━\u001b[0m \u001b[32m572.6/572.6 kB\u001b[0m \u001b[31m9.5 MB/s\u001b[0m eta \u001b[36m0:00:00\u001b[0m\n",
            "\u001b[?25hRequirement already satisfied: scipy in /usr/local/lib/python3.10/dist-packages (from shap) (1.10.1)\n",
            "Requirement already satisfied: pandas in /usr/local/lib/python3.10/dist-packages (from shap) (1.5.3)\n",
            "Requirement already satisfied: scikit-learn in /usr/local/lib/python3.10/dist-packages (from shap) (1.2.2)\n",
            "Requirement already satisfied: numpy in /usr/local/lib/python3.10/dist-packages (from shap) (1.22.4)\n",
            "Collecting slicer==0.0.7\n",
            "  Downloading slicer-0.0.7-py3-none-any.whl (14 kB)\n",
            "Requirement already satisfied: cloudpickle in /usr/local/lib/python3.10/dist-packages (from shap) (2.2.1)\n",
            "Requirement already satisfied: packaging>20.9 in /usr/local/lib/python3.10/dist-packages (from shap) (23.1)\n",
            "Requirement already satisfied: numba in /usr/local/lib/python3.10/dist-packages (from shap) (0.56.4)\n",
            "Requirement already satisfied: tqdm>4.25.0 in /usr/local/lib/python3.10/dist-packages (from shap) (4.65.0)\n",
            "Requirement already satisfied: setuptools in /usr/local/lib/python3.10/dist-packages (from numba->shap) (67.7.2)\n",
            "Requirement already satisfied: llvmlite<0.40,>=0.39.0dev0 in /usr/local/lib/python3.10/dist-packages (from numba->shap) (0.39.1)\n",
            "Requirement already satisfied: pytz>=2020.1 in /usr/local/lib/python3.10/dist-packages (from pandas->shap) (2022.7.1)\n",
            "Requirement already satisfied: python-dateutil>=2.8.1 in /usr/local/lib/python3.10/dist-packages (from pandas->shap) (2.8.2)\n",
            "Requirement already satisfied: joblib>=1.1.1 in /usr/local/lib/python3.10/dist-packages (from scikit-learn->shap) (1.2.0)\n",
            "Requirement already satisfied: threadpoolctl>=2.0.0 in /usr/local/lib/python3.10/dist-packages (from scikit-learn->shap) (3.1.0)\n",
            "Requirement already satisfied: six>=1.5 in /usr/local/lib/python3.10/dist-packages (from python-dateutil>=2.8.1->pandas->shap) (1.16.0)\n",
            "Installing collected packages: slicer, shap\n",
            "Successfully installed shap-0.41.0 slicer-0.0.7\n",
            "Looking in indexes: https://pypi.org/simple, https://us-python.pkg.dev/colab-wheels/public/simple/\n",
            "Collecting truera\n",
            "  Downloading truera-11.5.5-py3-none-any.whl (860 kB)\n",
            "\u001b[2K     \u001b[90m━━━━━━━━━━━━━━━━━━━━━━━━━━━━━━━━━━━━━━\u001b[0m \u001b[32m860.8/860.8 kB\u001b[0m \u001b[31m13.5 MB/s\u001b[0m eta \u001b[36m0:00:00\u001b[0m\n",
            "\u001b[?25hRequirement already satisfied: python-dateutil>=2.8.1 in /usr/local/lib/python3.10/dist-packages (from truera) (2.8.2)\n",
            "Collecting dynaconf==3.1.11\n",
            "  Downloading dynaconf-3.1.11-py2.py3-none-any.whl (211 kB)\n",
            "\u001b[2K     \u001b[90m━━━━━━━━━━━━━━━━━━━━━━━━━━━━━━━━━━━━━━\u001b[0m \u001b[32m211.4/211.4 kB\u001b[0m \u001b[31m22.1 MB/s\u001b[0m eta \u001b[36m0:00:00\u001b[0m\n",
            "\u001b[?25hRequirement already satisfied: pydantic>=1.8.0 in /usr/local/lib/python3.10/dist-packages (from truera) (1.10.7)\n",
            "Requirement already satisfied: grpcio>=1.50.0 in /usr/local/lib/python3.10/dist-packages (from truera) (1.54.0)\n",
            "Requirement already satisfied: pyyaml>=5.3.1 in /usr/local/lib/python3.10/dist-packages (from truera) (6.0)\n",
            "Collecting mpmath==0.19\n",
            "  Downloading mpmath-0.19.tar.gz (498 kB)\n",
            "\u001b[2K     \u001b[90m━━━━━━━━━━━━━━━━━━━━━━━━━━━━━━━━━━━━━━\u001b[0m \u001b[32m498.6/498.6 kB\u001b[0m \u001b[31m36.5 MB/s\u001b[0m eta \u001b[36m0:00:00\u001b[0m\n",
            "\u001b[?25h  Preparing metadata (setup.py) ... \u001b[?25l\u001b[?25hdone\n",
            "Requirement already satisfied: protobuf>=4.21.12 in /usr/local/lib/python3.10/dist-packages (from truera) (4.22.3)\n",
            "Requirement already satisfied: sympy>=1.10.1 in /usr/local/lib/python3.10/dist-packages (from truera) (1.11.1)\n",
            "Requirement already satisfied: pandas>=1.1.1 in /usr/local/lib/python3.10/dist-packages (from truera) (1.5.3)\n",
            "Requirement already satisfied: cachetools>=5.2.0 in /usr/local/lib/python3.10/dist-packages (from truera) (5.3.0)\n",
            "Requirement already satisfied: cryptography>=3.2 in /usr/local/lib/python3.10/dist-packages (from truera) (40.0.2)\n",
            "Requirement already satisfied: nbformat>=5.1.2 in /usr/local/lib/python3.10/dist-packages (from truera) (5.8.0)\n",
            "Requirement already satisfied: humanize>=4.3.0 in /usr/local/lib/python3.10/dist-packages (from truera) (4.6.0)\n",
            "Requirement already satisfied: cloudpickle>=1.2.2 in /usr/local/lib/python3.10/dist-packages (from truera) (2.2.1)\n",
            "Requirement already satisfied: tabulate>=0.8.9 in /usr/local/lib/python3.10/dist-packages (from truera) (0.8.10)\n",
            "Requirement already satisfied: plotly>=5.11.0 in /usr/local/lib/python3.10/dist-packages (from truera) (5.13.1)\n",
            "Requirement already satisfied: tqdm>4.25.0 in /usr/local/lib/python3.10/dist-packages (from truera) (4.65.0)\n",
            "Requirement already satisfied: filelock>=3.0.12 in /usr/local/lib/python3.10/dist-packages (from truera) (3.12.0)\n",
            "Requirement already satisfied: numpy<1.24.0 in /usr/local/lib/python3.10/dist-packages (from truera) (1.22.4)\n",
            "Requirement already satisfied: urllib3>=1.25.8 in /usr/local/lib/python3.10/dist-packages (from truera) (1.26.15)\n",
            "Collecting crontab==0.23.0\n",
            "  Downloading crontab-0.23.0.tar.gz (20 kB)\n",
            "  Preparing metadata (setup.py) ... \u001b[?25l\u001b[?25hdone\n",
            "Collecting pyjwt>=2.4.0\n",
            "  Downloading PyJWT-2.6.0-py3-none-any.whl (20 kB)\n",
            "Requirement already satisfied: scikit-learn>=0.21.2 in /usr/local/lib/python3.10/dist-packages (from truera) (1.2.2)\n",
            "Requirement already satisfied: click>=8.0 in /usr/local/lib/python3.10/dist-packages (from truera) (8.1.3)\n",
            "Collecting sqlparse==0.4.2\n",
            "  Downloading sqlparse-0.4.2-py3-none-any.whl (42 kB)\n",
            "\u001b[2K     \u001b[90m━━━━━━━━━━━━━━━━━━━━━━━━━━━━━━━━━━━━━━━━\u001b[0m \u001b[32m42.3/42.3 kB\u001b[0m \u001b[31m4.5 MB/s\u001b[0m eta \u001b[36m0:00:00\u001b[0m\n",
            "\u001b[?25hCollecting grpcio-status>=1.50.0\n",
            "  Downloading grpcio_status-1.54.0-py3-none-any.whl (5.1 kB)\n",
            "Requirement already satisfied: requests>=2.25.0 in /usr/local/lib/python3.10/dist-packages (from truera) (2.27.1)\n",
            "Collecting importlib-metadata>=4.8.1\n",
            "  Downloading importlib_metadata-6.6.0-py3-none-any.whl (22 kB)\n",
            "Requirement already satisfied: googleapis-common-protos>=1.56.0 in /usr/local/lib/python3.10/dist-packages (from truera) (1.59.0)\n",
            "Collecting pyarrow>=10.0.0\n",
            "  Downloading pyarrow-12.0.0-cp310-cp310-manylinux_2_17_x86_64.manylinux2014_x86_64.whl (38.9 MB)\n",
            "\u001b[2K     \u001b[90m━━━━━━━━━━━━━━━━━━━━━━━━━━━━━━━━━━━━━━━━\u001b[0m \u001b[32m38.9/38.9 MB\u001b[0m \u001b[31m31.0 MB/s\u001b[0m eta \u001b[36m0:00:00\u001b[0m\n",
            "\u001b[?25hRequirement already satisfied: cffi>=1.12 in /usr/local/lib/python3.10/dist-packages (from cryptography>=3.2->truera) (1.15.1)\n",
            "Requirement already satisfied: zipp>=0.5 in /usr/local/lib/python3.10/dist-packages (from importlib-metadata>=4.8.1->truera) (3.15.0)\n",
            "Requirement already satisfied: jsonschema>=2.6 in /usr/local/lib/python3.10/dist-packages (from nbformat>=5.1.2->truera) (4.3.3)\n",
            "Requirement already satisfied: traitlets>=5.1 in /usr/local/lib/python3.10/dist-packages (from nbformat>=5.1.2->truera) (5.7.1)\n",
            "Requirement already satisfied: fastjsonschema in /usr/local/lib/python3.10/dist-packages (from nbformat>=5.1.2->truera) (2.16.3)\n",
            "Requirement already satisfied: jupyter-core in /usr/local/lib/python3.10/dist-packages (from nbformat>=5.1.2->truera) (5.3.0)\n",
            "Requirement already satisfied: pytz>=2020.1 in /usr/local/lib/python3.10/dist-packages (from pandas>=1.1.1->truera) (2022.7.1)\n",
            "Requirement already satisfied: tenacity>=6.2.0 in /usr/local/lib/python3.10/dist-packages (from plotly>=5.11.0->truera) (8.2.2)\n",
            "Requirement already satisfied: typing-extensions>=4.2.0 in /usr/local/lib/python3.10/dist-packages (from pydantic>=1.8.0->truera) (4.5.0)\n",
            "Requirement already satisfied: six>=1.5 in /usr/local/lib/python3.10/dist-packages (from python-dateutil>=2.8.1->truera) (1.16.0)\n",
            "Requirement already satisfied: charset-normalizer~=2.0.0 in /usr/local/lib/python3.10/dist-packages (from requests>=2.25.0->truera) (2.0.12)\n",
            "Requirement already satisfied: idna<4,>=2.5 in /usr/local/lib/python3.10/dist-packages (from requests>=2.25.0->truera) (3.4)\n",
            "Requirement already satisfied: certifi>=2017.4.17 in /usr/local/lib/python3.10/dist-packages (from requests>=2.25.0->truera) (2022.12.7)\n",
            "Requirement already satisfied: scipy>=1.3.2 in /usr/local/lib/python3.10/dist-packages (from scikit-learn>=0.21.2->truera) (1.10.1)\n",
            "Requirement already satisfied: threadpoolctl>=2.0.0 in /usr/local/lib/python3.10/dist-packages (from scikit-learn>=0.21.2->truera) (3.1.0)\n",
            "Requirement already satisfied: joblib>=1.1.1 in /usr/local/lib/python3.10/dist-packages (from scikit-learn>=0.21.2->truera) (1.2.0)\n",
            "Requirement already satisfied: pycparser in /usr/local/lib/python3.10/dist-packages (from cffi>=1.12->cryptography>=3.2->truera) (2.21)\n",
            "Requirement already satisfied: pyrsistent!=0.17.0,!=0.17.1,!=0.17.2,>=0.14.0 in /usr/local/lib/python3.10/dist-packages (from jsonschema>=2.6->nbformat>=5.1.2->truera) (0.19.3)\n",
            "Requirement already satisfied: attrs>=17.4.0 in /usr/local/lib/python3.10/dist-packages (from jsonschema>=2.6->nbformat>=5.1.2->truera) (23.1.0)\n",
            "Requirement already satisfied: platformdirs>=2.5 in /usr/local/lib/python3.10/dist-packages (from jupyter-core->nbformat>=5.1.2->truera) (3.3.0)\n",
            "Building wheels for collected packages: crontab, mpmath\n",
            "  Building wheel for crontab (setup.py) ... \u001b[?25l\u001b[?25hdone\n",
            "  Created wheel for crontab: filename=crontab-0.23.0-py3-none-any.whl size=20555 sha256=a72e1bc40659ea7feba6cb046052f8e5d42d87333be0f3636aa66183507a83e6\n",
            "  Stored in directory: /root/.cache/pip/wheels/f4/32/dd/566e3c035d8e1b0a9fc1809db69857b12f77875e1c598e8f86\n",
            "  Building wheel for mpmath (setup.py) ... \u001b[?25l\u001b[?25hdone\n",
            "  Created wheel for mpmath: filename=mpmath-0.19-py3-none-any.whl size=519686 sha256=e6fbbfb7f08ba4215e5cf6ac4527963fc6f0a4a68fabb1f48fc3b7f0c5fb508f\n",
            "  Stored in directory: /root/.cache/pip/wheels/e1/7f/1d/c183736ed08fa17debf9f81f80dff03df3b2abeac600edbbb5\n",
            "Successfully built crontab mpmath\n",
            "Installing collected packages: mpmath, crontab, sqlparse, pyjwt, pyarrow, importlib-metadata, dynaconf, grpcio-status, truera\n",
            "  Attempting uninstall: mpmath\n",
            "    Found existing installation: mpmath 1.3.0\n",
            "    Uninstalling mpmath-1.3.0:\n",
            "      Successfully uninstalled mpmath-1.3.0\n",
            "  Attempting uninstall: sqlparse\n",
            "    Found existing installation: sqlparse 0.4.4\n",
            "    Uninstalling sqlparse-0.4.4:\n",
            "      Successfully uninstalled sqlparse-0.4.4\n",
            "  Attempting uninstall: pyarrow\n",
            "    Found existing installation: pyarrow 9.0.0\n",
            "    Uninstalling pyarrow-9.0.0:\n",
            "      Successfully uninstalled pyarrow-9.0.0\n",
            "  Attempting uninstall: grpcio-status\n",
            "    Found existing installation: grpcio-status 1.48.2\n",
            "    Uninstalling grpcio-status-1.48.2:\n",
            "      Successfully uninstalled grpcio-status-1.48.2\n",
            "\u001b[31mERROR: pip's dependency resolver does not currently take into account all the packages that are installed. This behaviour is the source of the following dependency conflicts.\n",
            "pandas-gbq 0.17.9 requires pyarrow<10.0dev,>=3.0.0, but you have pyarrow 12.0.0 which is incompatible.\u001b[0m\u001b[31m\n",
            "\u001b[0mSuccessfully installed crontab-0.23.0 dynaconf-3.1.11 grpcio-status-1.54.0 importlib-metadata-6.6.0 mpmath-0.19 pyarrow-12.0.0 pyjwt-2.6.0 sqlparse-0.4.2 truera-11.5.5\n"
          ]
        }
      ],
      "source": [
        "! pip install --upgrade Flask\n",
        "! pip install --upgrade protobuf\n",
        "\n",
        "! pip install --upgrade shap\n",
        "! pip install --upgrade truera"
      ]
    },
    {
      "cell_type": "markdown",
      "metadata": {
        "id": "Mp3bgiN5rOov"
      },
      "source": [
        "### From here, run the rest of the notebook and follow the analysis.\n",
        "\n",
        "### First, load data and train the in your beach-head market, San Francisco. Also add additional data for Seattle and Austin, your target markets."
      ]
    },
    {
      "cell_type": "code",
      "execution_count": null,
      "metadata": {
        "id": "62HWRpHvlntp"
      },
      "outputs": [],
      "source": [
        "import pandas as pd\n",
        "import xgboost as xgb\n",
        "from sklearn import preprocessing\n",
        "import sklearn.metrics\n",
        "from sklearn.utils import resample\n",
        "import logging\n",
        "\n",
        "from truera.client.truera_workspace import TrueraWorkspace\n",
        "from truera.client.truera_authentication import TokenAuthentication\n",
        "\n",
        "auth = TokenAuthentication(AUTH_TOKEN)\n",
        "tru = TrueraWorkspace(TRUERA_URL, auth)\n",
        "\n",
        "# set our environmetn to local compute so we can compute predictions and feature influences on our local machine\n",
        "tru.set_environment(\"local\")\n",
        "# note: we'll periodically toggle between local and remote so we can interact with our remote deployment as well."
      ]
    },
    {
      "cell_type": "code",
      "execution_count": null,
      "metadata": {
        "colab": {
          "background_save": true,
          "base_uri": "https://localhost:8080/",
          "height": 952,
          "referenced_widgets": [
            "48f9115e0a004d259e8878a58a8f3b51",
            "775849531f12416bb3a33e73cc36566d",
            "3db7feae39c04129a08fb5202c3996de",
            "a883014af14e42548b2f7e25ddb7ff80",
            "4a4aa63bfad641dd8219f136ce036313",
            "2610f75e46254d3e849dd4eb35fc0a23",
            "a71e471627d549b7a6ef45cfd36db19c",
            "941090ba5bf043e2b6e29fd02900890d",
            "97bd3343c64844edb465d9cfbefc8739",
            "b8dc706fb8ba41f8ad397d4fdf346983",
            "abc3837efb8e4deaaa5f75e36f6dc517",
            "250dcfcca7844e7ab143d353b0c87388",
            "94a6258c42584b969ce809e57e65c0c3",
            "b4f5f804170f49faab3ef8d540fcf117",
            "aaa83a89a45642c2bf67a76fa9dccb45",
            "2236d7ee20874941b81ae807fd2f8b2f",
            "d01bd84e6bfc436189cfb8f0347ba449",
            "01ebbda00191446dbea9ffebfcc5ca8d",
            "c0f414d8a0ef44bc9a6b19f9b4e7d8bb",
            "d1e97e6c471645f79ef5632e807ff931",
            "c6e1919b9e844aa294a92fc8bc0ee5a9",
            "71e742efc0ea4d669adb3c4dd3f85bd5",
            "9f7653c0f01a4461a5bef5a1627b236c"
          ]
        },
        "id": "hjSSrMBJrOow",
        "outputId": "fde93e95-7fd0-4dbf-c07c-a77f74a77bf2"
      },
      "outputs": [
        {
          "name": "stderr",
          "output_type": "stream",
          "text": [
            "INFO:truera.client.local.local_truera_workspace:Data collection in local environment is now set to \"Data Collection v1\". \n",
            "INFO:truera.client.local.local_truera_workspace:Data split \"San Francisco\" is added to local data collection \"Data Collection v1\", and set as the data split for the workspace context.\n",
            "INFO:truera.client.local.local_truera_workspace:Data split \"Seattle\" is added to local data collection \"Data Collection v1\", and set as the data split for the workspace context.\n",
            "INFO:truera.client.local.local_truera_workspace:Data split \"Austin\" is added to local data collection \"Data Collection v1\", and set as the data split for the workspace context.\n",
            "INFO:truera.client.local.local_truera_workspace:Model \"model_1\" is added and associated with local data collection \"Data Collection v1\". \"model_1\" is set as the model for the workspace context.\n",
            "WARNING:truera.client.truera_workspace:Uploading non-virtual model is not allowed. Will upload virtual models instead.\n",
            "INFO:truera.client.truera_workspace:Uploading data collection Data Collection v1.\n",
            "INFO:truera.client.truera_workspace:Uploading data split San Francisco.\n"
          ]
        },
        {
          "name": "stdout",
          "output_type": "stream",
          "text": [
            "Uploading tmpz3yoe7xa.parquet -- ### -- file upload complete.\n",
            "Put resource done.\n",
            "Uploading tmp6_eypoxt.parquet -- ### -- file upload complete.\n",
            "Put resource done.\n"
          ]
        },
        {
          "name": "stderr",
          "output_type": "stream",
          "text": [
            "INFO:truera.client.remote_truera_workspace:Call to join: rowsets ['706d2c05-e01e-4285-9a51-f982a1b9e10e', '9bf019ea-0fc5-42b5-b3d8-2ddd89abf6d8'] on ['id'] with default inner join.\n",
            "INFO:truera.client.truera_workspace:Uploading data split Seattle.\n"
          ]
        },
        {
          "name": "stdout",
          "output_type": "stream",
          "text": [
            "Uploading tmpb7b12bk9.parquet -- ### -- file upload complete.\n",
            "Put resource done.\n",
            "Uploading tmpvuv_4abb.parquet -- ### -- file upload complete.\n",
            "Put resource done.\n"
          ]
        },
        {
          "name": "stderr",
          "output_type": "stream",
          "text": [
            "INFO:truera.client.remote_truera_workspace:Call to join: rowsets ['5f4c2170-cc3d-46d0-850b-b3761de0292b', '9c03e447-5f2a-4f7f-bdd0-a9538901ba83'] on ['id'] with default inner join.\n",
            "INFO:truera.client.truera_workspace:Uploading data split Austin.\n"
          ]
        },
        {
          "name": "stdout",
          "output_type": "stream",
          "text": [
            "Uploading tmpmwpy5l2j.parquet -- ### -- file upload complete.\n",
            "Put resource done.\n",
            "Uploading tmprqqnrvxg.parquet -- ### -- file upload complete.\n",
            "Put resource done.\n"
          ]
        },
        {
          "name": "stderr",
          "output_type": "stream",
          "text": [
            "INFO:truera.client.remote_truera_workspace:Call to join: rowsets ['00da6ba6-ac72-483a-910d-f6630206b5e1', '8a813793-d2b1-4289-b810-dc669678bdbf'] on ['id'] with default inner join.\n",
            "INFO:truera.client.remote_truera_workspace:Setting remote model context to \"model_1\".\n"
          ]
        },
        {
          "name": "stdout",
          "output_type": "stream",
          "text": [
            "Uploading tmpyjdtrtj2parquet -- ### -- file upload complete.\n",
            "Put resource done.\n"
          ]
        },
        {
          "name": "stderr",
          "output_type": "stream",
          "text": [
            "INFO:truera.client.remote_truera_workspace:Waiting for data split to materialize...\n"
          ]
        },
        {
          "name": "stdout",
          "output_type": "stream",
          "text": [
            "Uploading tmpgm5z54faparquet -- ### -- file upload complete.\n",
            "Put resource done.\n"
          ]
        },
        {
          "name": "stderr",
          "output_type": "stream",
          "text": [
            "INFO:truera.client.remote_truera_workspace:Waiting for data split to materialize...\n"
          ]
        },
        {
          "name": "stdout",
          "output_type": "stream",
          "text": [
            "Uploading tmp65k72n7dparquet -- ### -- file upload complete.\n",
            "Put resource done.\n"
          ]
        },
        {
          "name": "stderr",
          "output_type": "stream",
          "text": [
            "INFO:truera.client.remote_truera_workspace:Waiting for data split to materialize...\n",
            "WARNING:truera.client.local.intelligence.local_explainer:Background split for `data_collection` \"Data Collection v1\" is currently not set. Setting it to \"San Francisco\"\n",
            "INFO:truera.client.truera_workspace:Influence algorithm for local project is: shap\n",
            "WARNING:truera.client.truera_workspace:Computing feature influences for model \"model_1\", data split \"San Francisco\", score type \"regression\" before upload...\n",
            "WARNING:truera.client.truera_workspace:Computing feature influences for model \"model_1\", data split \"San Francisco\", score type \"regression\" before upload...\n",
            "WARNING:truera.client.local.intelligence.local_explainer:Failed to use TreeSHAP for this model. Defaulting to KernelSHAP...\n",
            "WARNING:truera.client.local.intelligence.local_explainer:Only \"regression\" score type is supported for regression models using the TreeSHAP algorithm!\n"
          ]
        },
        {
          "data": {
            "application/vnd.jupyter.widget-view+json": {
              "model_id": "48f9115e0a004d259e8878a58a8f3b51",
              "version_major": 2,
              "version_minor": 0
            },
            "text/plain": [
              "|          | 0.000% [00:00<?]"
            ]
          },
          "metadata": {},
          "output_type": "display_data"
        },
        {
          "name": "stdout",
          "output_type": "stream",
          "text": [
            "Uploading tmpokan8vy3parquet -- ### -- file upload complete.\n",
            "Put resource done.\n"
          ]
        },
        {
          "name": "stderr",
          "output_type": "stream",
          "text": [
            "INFO:truera.client.remote_truera_workspace:Waiting for data split to materialize...\n"
          ]
        },
        {
          "name": "stdout",
          "output_type": "stream",
          "text": [
            "Uploading tmp6q327e62parquet -- ### -- file upload complete.\n",
            "Put resource done.\n"
          ]
        },
        {
          "name": "stderr",
          "output_type": "stream",
          "text": [
            "INFO:truera.client.remote_truera_workspace:Waiting for data split to materialize...\n",
            "INFO:truera.client.truera_workspace:Influence algorithm for local project is: shap\n",
            "WARNING:truera.client.truera_workspace:Computing feature influences for model \"model_1\", data split \"Seattle\", score type \"regression\" before upload...\n",
            "WARNING:truera.client.truera_workspace:Computing feature influences for model \"model_1\", data split \"Seattle\", score type \"regression\" before upload...\n",
            "WARNING:truera.client.local.intelligence.local_explainer:Failed to use TreeSHAP for this model. Defaulting to KernelSHAP...\n",
            "WARNING:truera.client.local.intelligence.local_explainer:Only \"regression\" score type is supported for regression models using the TreeSHAP algorithm!\n"
          ]
        },
        {
          "data": {
            "application/vnd.jupyter.widget-view+json": {
              "model_id": "250dcfcca7844e7ab143d353b0c87388",
              "version_major": 2,
              "version_minor": 0
            },
            "text/plain": [
              "|          | 0.000% [00:00<?]"
            ]
          },
          "metadata": {},
          "output_type": "display_data"
        },
        {
          "name": "stdout",
          "output_type": "stream",
          "text": [
            "Uploading tmpqx8if90eparquet -- ### -- file upload complete.\n",
            "Put resource done.\n"
          ]
        },
        {
          "name": "stderr",
          "output_type": "stream",
          "text": [
            "INFO:truera.client.remote_truera_workspace:Waiting for data split to materialize...\n"
          ]
        },
        {
          "name": "stdout",
          "output_type": "stream",
          "text": [
            "Uploading tmpft4t9v8mparquet -- ### -- file upload complete.\n",
            "Put resource done.\n"
          ]
        },
        {
          "name": "stderr",
          "output_type": "stream",
          "text": [
            "INFO:truera.client.remote_truera_workspace:Waiting for data split to materialize...\n",
            "INFO:truera.client.truera_workspace:Influence algorithm for local project is: shap\n",
            "WARNING:truera.client.truera_workspace:Computing feature influences for model \"model_1\", data split \"Austin\", score type \"regression\" before upload...\n",
            "WARNING:truera.client.truera_workspace:Computing feature influences for model \"model_1\", data split \"Austin\", score type \"regression\" before upload...\n",
            "WARNING:truera.client.local.intelligence.local_explainer:Failed to use TreeSHAP for this model. Defaulting to KernelSHAP...\n",
            "WARNING:truera.client.local.intelligence.local_explainer:Only \"regression\" score type is supported for regression models using the TreeSHAP algorithm!\n"
          ]
        },
        {
          "data": {
            "application/vnd.jupyter.widget-view+json": {
              "model_id": "9f7653c0f01a4461a5bef5a1627b236c",
              "version_major": 2,
              "version_minor": 0
            },
            "text/plain": [
              "|          | 0.000% [00:00<?]"
            ]
          },
          "metadata": {},
          "output_type": "display_data"
        },
        {
          "name": "stdout",
          "output_type": "stream",
          "text": [
            "Uploading tmpz7p1msg2parquet -- ### -- file upload complete.\n",
            "Put resource done.\n"
          ]
        },
        {
          "name": "stderr",
          "output_type": "stream",
          "text": [
            "INFO:truera.client.remote_truera_workspace:Waiting for data split to materialize...\n"
          ]
        },
        {
          "name": "stdout",
          "output_type": "stream",
          "text": [
            "Uploading tmpausogz7eparquet -- ### -- file upload complete.\n",
            "Put resource done.\n"
          ]
        },
        {
          "name": "stderr",
          "output_type": "stream",
          "text": [
            "INFO:truera.client.remote_truera_workspace:Waiting for data split to materialize...\n"
          ]
        }
      ],
      "source": [
        "# load data\n",
        "san_francisco = pd.read_csv('https://truera-examples.s3.us-west-2.amazonaws.com/data/starter-stability/San_Francisco_for_stability.csv')\n",
        "seattle = pd.read_csv('https://truera-examples.s3.us-west-2.amazonaws.com/data/starter-stability/Seattle_for_stability.csv')\n",
        "austin = pd.read_csv('https://truera-examples.s3.us-west-2.amazonaws.com/data/starter-stability/Austin_for_stability.csv')\n",
        "\n",
        "#make all float\n",
        "san_francisco = san_francisco.astype(float)\n",
        "seattle = seattle.astype(float)\n",
        "austin = austin.astype(float)\n",
        "\n",
        "#add point ids\n",
        "sf_ids = [f\"point_{i}\" for i in range(len(san_francisco))]\n",
        "san_francisco[\"id\"] = sf_ids\n",
        "\n",
        "se_ids = [f\"point_{i}\" for i in range(len(seattle))]\n",
        "seattle[\"id\"] = se_ids\n",
        "\n",
        "a_ids = [f\"point_{i}\" for i in range(len(austin))]\n",
        "austin[\"id\"] = a_ids\n",
        "\n",
        "# train first model\n",
        "xgb_reg = xgb.XGBRegressor(eta = 0.2, max_depth = 4)\n",
        "xgb_reg.fit(san_francisco.drop(['price', 'id'], axis = 1), san_francisco.price)\n",
        "\n",
        "# create the first project and data collection\n",
        "project_name = \"Starter Example Companion - Drift\"\n",
        "tru.add_project(project_name, score_type = 'regression')\n",
        "tru.add_data_collection(\"Data Collection v1\")\n",
        "\n",
        "# add data splits to the collection we just created\n",
        "tru.add_data_split(\"San Francisco\", pre_data = san_francisco, label_col_name = 'price', id_col_name = 'id', split_type = \"train\")\n",
        "tru.add_data_split(\"Seattle\", pre_data = seattle, label_col_name = 'price', id_col_name = 'id', split_type = \"test\")\n",
        "tru.add_data_split(\"Austin\", pre_data = austin, label_col_name = 'price', id_col_name = 'id', split_type = \"oot\")\n",
        "\n",
        "# register the model\n",
        "tru.add_python_model(\"model_1\", xgb_reg, train_split_name=\"San Francisco\", train_parameters = {\"model_type\":\"xgb.XGBRegressor\", \"eta\":0.2, \"max_depth\":4})\n",
        "\n",
        "# sync with remote\n",
        "tru.upload_project()"
      ]
    },
    {
      "cell_type": "markdown",
      "metadata": {
        "id": "haxAePk4rOox"
      },
      "source": [
        "### Get the average ground truth price in each city to use for defining our stability test thresholds."
      ]
    },
    {
      "cell_type": "code",
      "execution_count": null,
      "metadata": {
        "colab": {
          "background_save": true
        },
        "id": "KAENOfmorOox",
        "outputId": "f571afbb-4969-461b-dc67-2bce8f9ffd84"
      },
      "outputs": [
        {
          "name": "stdout",
          "output_type": "stream",
          "text": [
            "San Francisco mean listing price: 205.2558100370495\n",
            "Seattle mean listing price: 127.80739963264234\n",
            "Austin mean listing price: 227.01126421697288\n",
            "Expected price difference from San Francisco to Seattle: -77.44841040440717\n",
            "Expected price difference from San Francisco to Austin: 21.755454179923362\n"
          ]
        }
      ],
      "source": [
        "tru.set_data_split(\"San Francisco\")\n",
        "San_Francisco_mean_price = tru.get_ys().mean()\n",
        "tru.set_data_split(\"Seattle\")\n",
        "Seattle_mean_price = tru.get_ys().mean()\n",
        "tru.set_data_split(\"Austin\")\n",
        "Austin_mean_price = tru.get_ys().mean()\n",
        "\n",
        "print(\"San Francisco mean listing price: \" + str(San_Francisco_mean_price))\n",
        "print(\"Seattle mean listing price: \" + str(Seattle_mean_price))\n",
        "print(\"Austin mean listing price: \" + str(Austin_mean_price))\n",
        "\n",
        "#calculate expected difference in price recommendations from beach-head to target market\n",
        "Seattle_expected_difference = Seattle_mean_price - San_Francisco_mean_price\n",
        "Austin_expected_difference = Austin_mean_price - San_Francisco_mean_price\n",
        "\n",
        "print(\"Expected price difference from San Francisco to Seattle: \" + str(Seattle_expected_difference))\n",
        "print(\"Expected price difference from San Francisco to Austin: \" + str(Austin_expected_difference))\n"
      ]
    },
    {
      "cell_type": "markdown",
      "metadata": {
        "id": "04VsEAWrrOox"
      },
      "source": [
        "### Test for stability in Seattle and Austin."
      ]
    },
    {
      "cell_type": "code",
      "execution_count": null,
      "metadata": {
        "colab": {
          "background_save": true
        },
        "id": "76OW3Ub1rOox",
        "outputId": "25dceaf6-d420-407a-cde1-0c2dc425a631"
      },
      "outputs": [
        {
          "ename": "ValueError",
          "evalue": "ignored",
          "output_type": "error",
          "traceback": [
            "\u001b[0;31m---------------------------------------------------------------------------\u001b[0m",
            "\u001b[0;31mValueError\u001b[0m                                Traceback (most recent call last)",
            "\u001b[0;32m<ipython-input-6-086bdf2db268>\u001b[0m in \u001b[0;36m<cell line: 5>\u001b[0;34m()\u001b[0m\n\u001b[1;32m      3\u001b[0m \u001b[0;31m# add stability test\u001b[0m\u001b[0;34m\u001b[0m\u001b[0;34m\u001b[0m\u001b[0m\n\u001b[1;32m      4\u001b[0m \u001b[0mtru\u001b[0m\u001b[0;34m.\u001b[0m\u001b[0mset_environment\u001b[0m\u001b[0;34m(\u001b[0m\u001b[0;34m\"remote\"\u001b[0m\u001b[0;34m)\u001b[0m\u001b[0;34m\u001b[0m\u001b[0;34m\u001b[0m\u001b[0m\n\u001b[0;32m----> 5\u001b[0;31m \u001b[0mtru\u001b[0m\u001b[0;34m.\u001b[0m\u001b[0mset_project\u001b[0m\u001b[0;34m(\u001b[0m\u001b[0;34m\"Starter Example - Drift\"\u001b[0m\u001b[0;34m)\u001b[0m\u001b[0;34m\u001b[0m\u001b[0;34m\u001b[0m\u001b[0m\n\u001b[0m\u001b[1;32m      6\u001b[0m \u001b[0mtru\u001b[0m\u001b[0;34m.\u001b[0m\u001b[0mset_data_collection\u001b[0m\u001b[0;34m(\u001b[0m\u001b[0;34m\"Data Collection v1\"\u001b[0m\u001b[0;34m)\u001b[0m\u001b[0;34m\u001b[0m\u001b[0;34m\u001b[0m\u001b[0m\n\u001b[1;32m      7\u001b[0m \u001b[0;34m\u001b[0m\u001b[0m\n",
            "\u001b[0;32m/usr/local/lib/python3.10/dist-packages/truera/client/truera_workspace.py\u001b[0m in \u001b[0;36mset_project\u001b[0;34m(self, project)\u001b[0m\n\u001b[1;32m    203\u001b[0m \u001b[0;34m\u001b[0m\u001b[0m\n\u001b[1;32m    204\u001b[0m     \u001b[0;32mdef\u001b[0m \u001b[0mset_project\u001b[0m\u001b[0;34m(\u001b[0m\u001b[0mself\u001b[0m\u001b[0;34m,\u001b[0m \u001b[0mproject\u001b[0m\u001b[0;34m:\u001b[0m \u001b[0mstr\u001b[0m\u001b[0;34m)\u001b[0m\u001b[0;34m:\u001b[0m\u001b[0;34m\u001b[0m\u001b[0;34m\u001b[0m\u001b[0m\n\u001b[0;32m--> 205\u001b[0;31m         \u001b[0;32mreturn\u001b[0m \u001b[0mself\u001b[0m\u001b[0;34m.\u001b[0m\u001b[0mcurrent_tru\u001b[0m\u001b[0;34m.\u001b[0m\u001b[0mset_project\u001b[0m\u001b[0;34m(\u001b[0m\u001b[0mproject\u001b[0m\u001b[0;34m)\u001b[0m\u001b[0;34m\u001b[0m\u001b[0;34m\u001b[0m\u001b[0m\n\u001b[0m\u001b[1;32m    206\u001b[0m \u001b[0;34m\u001b[0m\u001b[0m\n\u001b[1;32m    207\u001b[0m     \u001b[0;32mdef\u001b[0m \u001b[0mset_score_type\u001b[0m\u001b[0;34m(\u001b[0m\u001b[0mself\u001b[0m\u001b[0;34m,\u001b[0m \u001b[0mscore_type\u001b[0m\u001b[0;34m:\u001b[0m \u001b[0mstr\u001b[0m\u001b[0;34m)\u001b[0m\u001b[0;34m:\u001b[0m\u001b[0;34m\u001b[0m\u001b[0;34m\u001b[0m\u001b[0m\n",
            "\u001b[0;32m/usr/local/lib/python3.10/dist-packages/truera/client/remote_truera_workspace.py\u001b[0m in \u001b[0;36mset_project\u001b[0;34m(self, project)\u001b[0m\n\u001b[1;32m    290\u001b[0m             \u001b[0;32mreturn\u001b[0m\u001b[0;34m\u001b[0m\u001b[0;34m\u001b[0m\u001b[0m\n\u001b[1;32m    291\u001b[0m         \u001b[0;32mif\u001b[0m \u001b[0mproject\u001b[0m\u001b[0;34m:\u001b[0m\u001b[0;34m\u001b[0m\u001b[0;34m\u001b[0m\u001b[0m\n\u001b[0;32m--> 292\u001b[0;31m             \u001b[0mself\u001b[0m\u001b[0;34m.\u001b[0m\u001b[0m_validate_set_project\u001b[0m\u001b[0;34m(\u001b[0m\u001b[0mproject\u001b[0m\u001b[0;34m)\u001b[0m\u001b[0;34m\u001b[0m\u001b[0;34m\u001b[0m\u001b[0m\n\u001b[0m\u001b[1;32m    293\u001b[0m         \u001b[0;32mif\u001b[0m \u001b[0mself\u001b[0m\u001b[0;34m.\u001b[0m\u001b[0m_get_current_active_project_name\u001b[0m\u001b[0;34m(\u001b[0m\u001b[0;34m)\u001b[0m\u001b[0;34m:\u001b[0m\u001b[0;34m\u001b[0m\u001b[0;34m\u001b[0m\u001b[0m\n\u001b[1;32m    294\u001b[0m             \u001b[0mself\u001b[0m\u001b[0;34m.\u001b[0m\u001b[0mset_data_collection\u001b[0m\u001b[0;34m(\u001b[0m\u001b[0;32mNone\u001b[0m\u001b[0;34m)\u001b[0m\u001b[0;34m\u001b[0m\u001b[0;34m\u001b[0m\u001b[0m\n",
            "\u001b[0;32m/usr/local/lib/python3.10/dist-packages/truera/client/base_truera_workspace.py\u001b[0m in \u001b[0;36m_validate_set_project\u001b[0;34m(self, project)\u001b[0m\n\u001b[1;32m   1417\u001b[0m     ):\n\u001b[1;32m   1418\u001b[0m         \u001b[0;32mif\u001b[0m \u001b[0;32mnot\u001b[0m \u001b[0mproject\u001b[0m \u001b[0;32min\u001b[0m \u001b[0mself\u001b[0m\u001b[0;34m.\u001b[0m\u001b[0mget_projects\u001b[0m\u001b[0;34m(\u001b[0m\u001b[0;34m)\u001b[0m\u001b[0;34m:\u001b[0m\u001b[0;34m\u001b[0m\u001b[0;34m\u001b[0m\u001b[0m\n\u001b[0;32m-> 1419\u001b[0;31m             raise ValueError(\n\u001b[0m\u001b[1;32m   1420\u001b[0m                 \u001b[0;34mf\"No such project \\\"{project}\\\"! See `add_project` to add it.\"\u001b[0m\u001b[0;34m\u001b[0m\u001b[0;34m\u001b[0m\u001b[0m\n\u001b[1;32m   1421\u001b[0m             )\n",
            "\u001b[0;31mValueError\u001b[0m: No such project \"Starter Example - Drift\"! See `add_project` to add it."
          ]
        }
      ],
      "source": [
        "#toggle back to remote to interact with the tester\n",
        "\n",
        "# add stability test\n",
        "tru.set_environment(\"remote\")\n",
        "tru.set_project(\"Starter Example - Drift\")\n",
        "tru.set_data_collection(\"Data Collection v1\")\n",
        "\n",
        "# Create stability tests in accordance with the setup\n",
        "tru.tester.add_stability_test(test_name = \"Stability Test - Seattle\",\n",
        "    base_data_split_name = \"San Francisco\",\n",
        "    comparison_data_split_name_regex = \"Seattle\",\n",
        "    fail_if_outside = [Seattle_expected_difference - 65, Seattle_expected_difference + 65])\n",
        "\n",
        "tru.tester.add_stability_test(test_name = \"Stability Test - Austin\",\n",
        "    base_data_split_name = \"San Francisco\",\n",
        "    comparison_data_split_names = [\"Austin\"],\n",
        "    fail_if_outside = [Austin_expected_difference - 40, Austin_expected_difference + 40])\n",
        "\n",
        "tru.set_model(\"model_1\")\n",
        "tru.tester.get_model_test_results(test_types=[\"stability\"])"
      ]
    },
    {
      "cell_type": "markdown",
      "metadata": {
        "id": "bcTB5AZGrOox"
      },
      "source": [
        "The model fails in Seattle and Austin because the scores drifted too far from the ground truth in the new cities.\n",
        "\n",
        "### From here, navigate to the TruEra Web App for analysis or continue on to Part 2!     [![Open In Colab](https://colab.research.google.com/assets/colab-badge.svg)](https://colab.research.google.com/drive/1SIshdf_nE2dCWPdGNfUJ3UUuWgbocANn)"
      ]
    }
  ],
  "metadata": {
    "colab": {
      "collapsed_sections": [
        "sT6MCOBwrOov"
      ],
      "provenance": []
    },
    "kernelspec": {
      "display_name": "Python 3.10.8 ('eap_demo')",
      "language": "python",
      "name": "python3"
    },
    "language_info": {
      "codemirror_mode": {
        "name": "ipython",
        "version": 3
      },
      "file_extension": ".py",
      "mimetype": "text/x-python",
      "name": "python",
      "nbconvert_exporter": "python",
      "pygments_lexer": "ipython3",
      "version": "3.8.15"
    },
    "vscode": {
      "interpreter": {
        "hash": "da3924fd47657b295ea4ff31ffc159b50bdc67549cd17755b5462d5d6bda3f74"
      }
    },
    "widgets": {
      "application/vnd.jupyter.widget-state+json": {
        "01ebbda00191446dbea9ffebfcc5ca8d": {
          "model_module": "@jupyter-widgets/controls",
          "model_module_version": "1.5.0",
          "model_name": "DescriptionStyleModel",
          "state": {
            "_model_module": "@jupyter-widgets/controls",
            "_model_module_version": "1.5.0",
            "_model_name": "DescriptionStyleModel",
            "_view_count": null,
            "_view_module": "@jupyter-widgets/base",
            "_view_module_version": "1.2.0",
            "_view_name": "StyleView",
            "description_width": ""
          }
        },
        "2236d7ee20874941b81ae807fd2f8b2f": {
          "model_module": "@jupyter-widgets/base",
          "model_module_version": "1.2.0",
          "model_name": "LayoutModel",
          "state": {
            "_model_module": "@jupyter-widgets/base",
            "_model_module_version": "1.2.0",
            "_model_name": "LayoutModel",
            "_view_count": null,
            "_view_module": "@jupyter-widgets/base",
            "_view_module_version": "1.2.0",
            "_view_name": "LayoutView",
            "align_content": null,
            "align_items": null,
            "align_self": null,
            "border": null,
            "bottom": null,
            "display": null,
            "flex": null,
            "flex_flow": null,
            "grid_area": null,
            "grid_auto_columns": null,
            "grid_auto_flow": null,
            "grid_auto_rows": null,
            "grid_column": null,
            "grid_gap": null,
            "grid_row": null,
            "grid_template_areas": null,
            "grid_template_columns": null,
            "grid_template_rows": null,
            "height": null,
            "justify_content": null,
            "justify_items": null,
            "left": null,
            "margin": null,
            "max_height": null,
            "max_width": null,
            "min_height": null,
            "min_width": null,
            "object_fit": null,
            "object_position": null,
            "order": null,
            "overflow": null,
            "overflow_x": null,
            "overflow_y": null,
            "padding": null,
            "right": null,
            "top": null,
            "visibility": null,
            "width": null
          }
        },
        "250dcfcca7844e7ab143d353b0c87388": {
          "model_module": "@jupyter-widgets/controls",
          "model_module_version": "1.5.0",
          "model_name": "HBoxModel",
          "state": {
            "_dom_classes": [],
            "_model_module": "@jupyter-widgets/controls",
            "_model_module_version": "1.5.0",
            "_model_name": "HBoxModel",
            "_view_count": null,
            "_view_module": "@jupyter-widgets/controls",
            "_view_module_version": "1.5.0",
            "_view_name": "HBoxView",
            "box_style": "",
            "children": [
              "IPY_MODEL_94a6258c42584b969ce809e57e65c0c3",
              "IPY_MODEL_b4f5f804170f49faab3ef8d540fcf117",
              "IPY_MODEL_aaa83a89a45642c2bf67a76fa9dccb45"
            ],
            "layout": "IPY_MODEL_2236d7ee20874941b81ae807fd2f8b2f"
          }
        },
        "2610f75e46254d3e849dd4eb35fc0a23": {
          "model_module": "@jupyter-widgets/base",
          "model_module_version": "1.2.0",
          "model_name": "LayoutModel",
          "state": {
            "_model_module": "@jupyter-widgets/base",
            "_model_module_version": "1.2.0",
            "_model_name": "LayoutModel",
            "_view_count": null,
            "_view_module": "@jupyter-widgets/base",
            "_view_module_version": "1.2.0",
            "_view_name": "LayoutView",
            "align_content": null,
            "align_items": null,
            "align_self": null,
            "border": null,
            "bottom": null,
            "display": null,
            "flex": null,
            "flex_flow": null,
            "grid_area": null,
            "grid_auto_columns": null,
            "grid_auto_flow": null,
            "grid_auto_rows": null,
            "grid_column": null,
            "grid_gap": null,
            "grid_row": null,
            "grid_template_areas": null,
            "grid_template_columns": null,
            "grid_template_rows": null,
            "height": null,
            "justify_content": null,
            "justify_items": null,
            "left": null,
            "margin": null,
            "max_height": null,
            "max_width": null,
            "min_height": null,
            "min_width": null,
            "object_fit": null,
            "object_position": null,
            "order": null,
            "overflow": null,
            "overflow_x": null,
            "overflow_y": null,
            "padding": null,
            "right": null,
            "top": null,
            "visibility": null,
            "width": null
          }
        },
        "3db7feae39c04129a08fb5202c3996de": {
          "model_module": "@jupyter-widgets/controls",
          "model_module_version": "1.5.0",
          "model_name": "FloatProgressModel",
          "state": {
            "_dom_classes": [],
            "_model_module": "@jupyter-widgets/controls",
            "_model_module_version": "1.5.0",
            "_model_name": "FloatProgressModel",
            "_view_count": null,
            "_view_module": "@jupyter-widgets/controls",
            "_view_module_version": "1.5.0",
            "_view_name": "ProgressView",
            "bar_style": "",
            "description": "",
            "description_tooltip": null,
            "layout": "IPY_MODEL_941090ba5bf043e2b6e29fd02900890d",
            "max": 100,
            "min": 0,
            "orientation": "horizontal",
            "style": "IPY_MODEL_97bd3343c64844edb465d9cfbefc8739",
            "value": 100
          }
        },
        "48f9115e0a004d259e8878a58a8f3b51": {
          "model_module": "@jupyter-widgets/controls",
          "model_module_version": "1.5.0",
          "model_name": "HBoxModel",
          "state": {
            "_dom_classes": [],
            "_model_module": "@jupyter-widgets/controls",
            "_model_module_version": "1.5.0",
            "_model_name": "HBoxModel",
            "_view_count": null,
            "_view_module": "@jupyter-widgets/controls",
            "_view_module_version": "1.5.0",
            "_view_name": "HBoxView",
            "box_style": "",
            "children": [
              "IPY_MODEL_775849531f12416bb3a33e73cc36566d",
              "IPY_MODEL_3db7feae39c04129a08fb5202c3996de",
              "IPY_MODEL_a883014af14e42548b2f7e25ddb7ff80"
            ],
            "layout": "IPY_MODEL_4a4aa63bfad641dd8219f136ce036313"
          }
        },
        "4a4aa63bfad641dd8219f136ce036313": {
          "model_module": "@jupyter-widgets/base",
          "model_module_version": "1.2.0",
          "model_name": "LayoutModel",
          "state": {
            "_model_module": "@jupyter-widgets/base",
            "_model_module_version": "1.2.0",
            "_model_name": "LayoutModel",
            "_view_count": null,
            "_view_module": "@jupyter-widgets/base",
            "_view_module_version": "1.2.0",
            "_view_name": "LayoutView",
            "align_content": null,
            "align_items": null,
            "align_self": null,
            "border": null,
            "bottom": null,
            "display": null,
            "flex": null,
            "flex_flow": null,
            "grid_area": null,
            "grid_auto_columns": null,
            "grid_auto_flow": null,
            "grid_auto_rows": null,
            "grid_column": null,
            "grid_gap": null,
            "grid_row": null,
            "grid_template_areas": null,
            "grid_template_columns": null,
            "grid_template_rows": null,
            "height": null,
            "justify_content": null,
            "justify_items": null,
            "left": null,
            "margin": null,
            "max_height": null,
            "max_width": null,
            "min_height": null,
            "min_width": null,
            "object_fit": null,
            "object_position": null,
            "order": null,
            "overflow": null,
            "overflow_x": null,
            "overflow_y": null,
            "padding": null,
            "right": null,
            "top": null,
            "visibility": "hidden",
            "width": null
          }
        },
        "71e742efc0ea4d669adb3c4dd3f85bd5": {
          "model_module": "@jupyter-widgets/controls",
          "model_module_version": "1.5.0",
          "model_name": "DescriptionStyleModel",
          "state": {
            "_model_module": "@jupyter-widgets/controls",
            "_model_module_version": "1.5.0",
            "_model_name": "DescriptionStyleModel",
            "_view_count": null,
            "_view_module": "@jupyter-widgets/base",
            "_view_module_version": "1.2.0",
            "_view_name": "StyleView",
            "description_width": ""
          }
        },
        "775849531f12416bb3a33e73cc36566d": {
          "model_module": "@jupyter-widgets/controls",
          "model_module_version": "1.5.0",
          "model_name": "HTMLModel",
          "state": {
            "_dom_classes": [],
            "_model_module": "@jupyter-widgets/controls",
            "_model_module_version": "1.5.0",
            "_model_name": "HTMLModel",
            "_view_count": null,
            "_view_module": "@jupyter-widgets/controls",
            "_view_module_version": "1.5.0",
            "_view_name": "HTMLView",
            "description": "",
            "description_tooltip": null,
            "layout": "IPY_MODEL_2610f75e46254d3e849dd4eb35fc0a23",
            "placeholder": "​",
            "style": "IPY_MODEL_a71e471627d549b7a6ef45cfd36db19c",
            "value": ""
          }
        },
        "941090ba5bf043e2b6e29fd02900890d": {
          "model_module": "@jupyter-widgets/base",
          "model_module_version": "1.2.0",
          "model_name": "LayoutModel",
          "state": {
            "_model_module": "@jupyter-widgets/base",
            "_model_module_version": "1.2.0",
            "_model_name": "LayoutModel",
            "_view_count": null,
            "_view_module": "@jupyter-widgets/base",
            "_view_module_version": "1.2.0",
            "_view_name": "LayoutView",
            "align_content": null,
            "align_items": null,
            "align_self": null,
            "border": null,
            "bottom": null,
            "display": null,
            "flex": null,
            "flex_flow": null,
            "grid_area": null,
            "grid_auto_columns": null,
            "grid_auto_flow": null,
            "grid_auto_rows": null,
            "grid_column": null,
            "grid_gap": null,
            "grid_row": null,
            "grid_template_areas": null,
            "grid_template_columns": null,
            "grid_template_rows": null,
            "height": null,
            "justify_content": null,
            "justify_items": null,
            "left": null,
            "margin": null,
            "max_height": null,
            "max_width": null,
            "min_height": null,
            "min_width": null,
            "object_fit": null,
            "object_position": null,
            "order": null,
            "overflow": null,
            "overflow_x": null,
            "overflow_y": null,
            "padding": null,
            "right": null,
            "top": null,
            "visibility": null,
            "width": null
          }
        },
        "94a6258c42584b969ce809e57e65c0c3": {
          "model_module": "@jupyter-widgets/controls",
          "model_module_version": "1.5.0",
          "model_name": "HTMLModel",
          "state": {
            "_dom_classes": [],
            "_model_module": "@jupyter-widgets/controls",
            "_model_module_version": "1.5.0",
            "_model_name": "HTMLModel",
            "_view_count": null,
            "_view_module": "@jupyter-widgets/controls",
            "_view_module_version": "1.5.0",
            "_view_name": "HTMLView",
            "description": "",
            "description_tooltip": null,
            "layout": "IPY_MODEL_d01bd84e6bfc436189cfb8f0347ba449",
            "placeholder": "​",
            "style": "IPY_MODEL_01ebbda00191446dbea9ffebfcc5ca8d",
            "value": ""
          }
        },
        "97bd3343c64844edb465d9cfbefc8739": {
          "model_module": "@jupyter-widgets/controls",
          "model_module_version": "1.5.0",
          "model_name": "ProgressStyleModel",
          "state": {
            "_model_module": "@jupyter-widgets/controls",
            "_model_module_version": "1.5.0",
            "_model_name": "ProgressStyleModel",
            "_view_count": null,
            "_view_module": "@jupyter-widgets/base",
            "_view_module_version": "1.2.0",
            "_view_name": "StyleView",
            "bar_color": null,
            "description_width": ""
          }
        },
        "a71e471627d549b7a6ef45cfd36db19c": {
          "model_module": "@jupyter-widgets/controls",
          "model_module_version": "1.5.0",
          "model_name": "DescriptionStyleModel",
          "state": {
            "_model_module": "@jupyter-widgets/controls",
            "_model_module_version": "1.5.0",
            "_model_name": "DescriptionStyleModel",
            "_view_count": null,
            "_view_module": "@jupyter-widgets/base",
            "_view_module_version": "1.2.0",
            "_view_name": "StyleView",
            "description_width": ""
          }
        },
        "a883014af14e42548b2f7e25ddb7ff80": {
          "model_module": "@jupyter-widgets/controls",
          "model_module_version": "1.5.0",
          "model_name": "HTMLModel",
          "state": {
            "_dom_classes": [],
            "_model_module": "@jupyter-widgets/controls",
            "_model_module_version": "1.5.0",
            "_model_name": "HTMLModel",
            "_view_count": null,
            "_view_module": "@jupyter-widgets/controls",
            "_view_module_version": "1.5.0",
            "_view_name": "HTMLView",
            "description": "",
            "description_tooltip": null,
            "layout": "IPY_MODEL_b8dc706fb8ba41f8ad397d4fdf346983",
            "placeholder": "​",
            "style": "IPY_MODEL_abc3837efb8e4deaaa5f75e36f6dc517",
            "value": " 100.000% [14:40&lt;00:00]"
          }
        },
        "aaa83a89a45642c2bf67a76fa9dccb45": {
          "model_module": "@jupyter-widgets/controls",
          "model_module_version": "1.5.0",
          "model_name": "HTMLModel",
          "state": {
            "_dom_classes": [],
            "_model_module": "@jupyter-widgets/controls",
            "_model_module_version": "1.5.0",
            "_model_name": "HTMLModel",
            "_view_count": null,
            "_view_module": "@jupyter-widgets/controls",
            "_view_module_version": "1.5.0",
            "_view_name": "HTMLView",
            "description": "",
            "description_tooltip": null,
            "layout": "IPY_MODEL_c6e1919b9e844aa294a92fc8bc0ee5a9",
            "placeholder": "​",
            "style": "IPY_MODEL_71e742efc0ea4d669adb3c4dd3f85bd5",
            "value": " 0.600% [00:06&lt;15:20]"
          }
        },
        "abc3837efb8e4deaaa5f75e36f6dc517": {
          "model_module": "@jupyter-widgets/controls",
          "model_module_version": "1.5.0",
          "model_name": "DescriptionStyleModel",
          "state": {
            "_model_module": "@jupyter-widgets/controls",
            "_model_module_version": "1.5.0",
            "_model_name": "DescriptionStyleModel",
            "_view_count": null,
            "_view_module": "@jupyter-widgets/base",
            "_view_module_version": "1.2.0",
            "_view_name": "StyleView",
            "description_width": ""
          }
        },
        "b4f5f804170f49faab3ef8d540fcf117": {
          "model_module": "@jupyter-widgets/controls",
          "model_module_version": "1.5.0",
          "model_name": "FloatProgressModel",
          "state": {
            "_dom_classes": [],
            "_model_module": "@jupyter-widgets/controls",
            "_model_module_version": "1.5.0",
            "_model_name": "FloatProgressModel",
            "_view_count": null,
            "_view_module": "@jupyter-widgets/controls",
            "_view_module_version": "1.5.0",
            "_view_name": "ProgressView",
            "bar_style": "",
            "description": "",
            "description_tooltip": null,
            "layout": "IPY_MODEL_c0f414d8a0ef44bc9a6b19f9b4e7d8bb",
            "max": 100,
            "min": 0,
            "orientation": "horizontal",
            "style": "IPY_MODEL_d1e97e6c471645f79ef5632e807ff931",
            "value": 0.6
          }
        },
        "b8dc706fb8ba41f8ad397d4fdf346983": {
          "model_module": "@jupyter-widgets/base",
          "model_module_version": "1.2.0",
          "model_name": "LayoutModel",
          "state": {
            "_model_module": "@jupyter-widgets/base",
            "_model_module_version": "1.2.0",
            "_model_name": "LayoutModel",
            "_view_count": null,
            "_view_module": "@jupyter-widgets/base",
            "_view_module_version": "1.2.0",
            "_view_name": "LayoutView",
            "align_content": null,
            "align_items": null,
            "align_self": null,
            "border": null,
            "bottom": null,
            "display": null,
            "flex": null,
            "flex_flow": null,
            "grid_area": null,
            "grid_auto_columns": null,
            "grid_auto_flow": null,
            "grid_auto_rows": null,
            "grid_column": null,
            "grid_gap": null,
            "grid_row": null,
            "grid_template_areas": null,
            "grid_template_columns": null,
            "grid_template_rows": null,
            "height": null,
            "justify_content": null,
            "justify_items": null,
            "left": null,
            "margin": null,
            "max_height": null,
            "max_width": null,
            "min_height": null,
            "min_width": null,
            "object_fit": null,
            "object_position": null,
            "order": null,
            "overflow": null,
            "overflow_x": null,
            "overflow_y": null,
            "padding": null,
            "right": null,
            "top": null,
            "visibility": null,
            "width": null
          }
        },
        "c0f414d8a0ef44bc9a6b19f9b4e7d8bb": {
          "model_module": "@jupyter-widgets/base",
          "model_module_version": "1.2.0",
          "model_name": "LayoutModel",
          "state": {
            "_model_module": "@jupyter-widgets/base",
            "_model_module_version": "1.2.0",
            "_model_name": "LayoutModel",
            "_view_count": null,
            "_view_module": "@jupyter-widgets/base",
            "_view_module_version": "1.2.0",
            "_view_name": "LayoutView",
            "align_content": null,
            "align_items": null,
            "align_self": null,
            "border": null,
            "bottom": null,
            "display": null,
            "flex": null,
            "flex_flow": null,
            "grid_area": null,
            "grid_auto_columns": null,
            "grid_auto_flow": null,
            "grid_auto_rows": null,
            "grid_column": null,
            "grid_gap": null,
            "grid_row": null,
            "grid_template_areas": null,
            "grid_template_columns": null,
            "grid_template_rows": null,
            "height": null,
            "justify_content": null,
            "justify_items": null,
            "left": null,
            "margin": null,
            "max_height": null,
            "max_width": null,
            "min_height": null,
            "min_width": null,
            "object_fit": null,
            "object_position": null,
            "order": null,
            "overflow": null,
            "overflow_x": null,
            "overflow_y": null,
            "padding": null,
            "right": null,
            "top": null,
            "visibility": null,
            "width": null
          }
        },
        "c6e1919b9e844aa294a92fc8bc0ee5a9": {
          "model_module": "@jupyter-widgets/base",
          "model_module_version": "1.2.0",
          "model_name": "LayoutModel",
          "state": {
            "_model_module": "@jupyter-widgets/base",
            "_model_module_version": "1.2.0",
            "_model_name": "LayoutModel",
            "_view_count": null,
            "_view_module": "@jupyter-widgets/base",
            "_view_module_version": "1.2.0",
            "_view_name": "LayoutView",
            "align_content": null,
            "align_items": null,
            "align_self": null,
            "border": null,
            "bottom": null,
            "display": null,
            "flex": null,
            "flex_flow": null,
            "grid_area": null,
            "grid_auto_columns": null,
            "grid_auto_flow": null,
            "grid_auto_rows": null,
            "grid_column": null,
            "grid_gap": null,
            "grid_row": null,
            "grid_template_areas": null,
            "grid_template_columns": null,
            "grid_template_rows": null,
            "height": null,
            "justify_content": null,
            "justify_items": null,
            "left": null,
            "margin": null,
            "max_height": null,
            "max_width": null,
            "min_height": null,
            "min_width": null,
            "object_fit": null,
            "object_position": null,
            "order": null,
            "overflow": null,
            "overflow_x": null,
            "overflow_y": null,
            "padding": null,
            "right": null,
            "top": null,
            "visibility": null,
            "width": null
          }
        },
        "d01bd84e6bfc436189cfb8f0347ba449": {
          "model_module": "@jupyter-widgets/base",
          "model_module_version": "1.2.0",
          "model_name": "LayoutModel",
          "state": {
            "_model_module": "@jupyter-widgets/base",
            "_model_module_version": "1.2.0",
            "_model_name": "LayoutModel",
            "_view_count": null,
            "_view_module": "@jupyter-widgets/base",
            "_view_module_version": "1.2.0",
            "_view_name": "LayoutView",
            "align_content": null,
            "align_items": null,
            "align_self": null,
            "border": null,
            "bottom": null,
            "display": null,
            "flex": null,
            "flex_flow": null,
            "grid_area": null,
            "grid_auto_columns": null,
            "grid_auto_flow": null,
            "grid_auto_rows": null,
            "grid_column": null,
            "grid_gap": null,
            "grid_row": null,
            "grid_template_areas": null,
            "grid_template_columns": null,
            "grid_template_rows": null,
            "height": null,
            "justify_content": null,
            "justify_items": null,
            "left": null,
            "margin": null,
            "max_height": null,
            "max_width": null,
            "min_height": null,
            "min_width": null,
            "object_fit": null,
            "object_position": null,
            "order": null,
            "overflow": null,
            "overflow_x": null,
            "overflow_y": null,
            "padding": null,
            "right": null,
            "top": null,
            "visibility": null,
            "width": null
          }
        },
        "d1e97e6c471645f79ef5632e807ff931": {
          "model_module": "@jupyter-widgets/controls",
          "model_module_version": "1.5.0",
          "model_name": "ProgressStyleModel",
          "state": {
            "_model_module": "@jupyter-widgets/controls",
            "_model_module_version": "1.5.0",
            "_model_name": "ProgressStyleModel",
            "_view_count": null,
            "_view_module": "@jupyter-widgets/base",
            "_view_module_version": "1.2.0",
            "_view_name": "StyleView",
            "bar_color": null,
            "description_width": ""
          }
        }
      }
    }
  },
  "nbformat": 4,
  "nbformat_minor": 0
}
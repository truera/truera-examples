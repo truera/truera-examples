{
  "cells": [
    {
      "cell_type": "markdown",
      "metadata": {
        "id": "FC9bCFA9rOot"
      },
      "source": [
        "# Guided Exercise: Drift\n",
        "\n",
        "### Setup:\n",
        "You are the principal data scientist working for a new startup that offers a price recommendation for rental home listings. Your beach-head market was San Francisco and this was where you trained the model, which is the core service of the business. But now, the startup is looking to expand into Seattle and Austin. Using the mean price difference between San Francisco and each new city, you want to make sure your price recommendations don't drift. If they drift too low, your customers will leave money on the table; if they drift too high, their listing will be vacant. Hitting the goldilox zone is critical for acquiring and keeping happy customers in Seattle.\n",
        "\n",
        "Competitors in Seattle are within 65 dollars of the ideal price, and due to stiffer competition, competitors in Austin are within $40 of the ideal price. These are the benchmarks we need to hit to prove a viable product.\n",
        "\n",
        "#### Goals 🎯\n",
        "\n",
        "In this tutorial, you will learn how to:\n",
        "1. Set up and view the results of stability tests.\n",
        "2. Debug the true cause of stability issues.\n",
        "3. Retest the new model and confirm the effectivenesss of the mitigation strategy.\n",
        "\n",
        "### First, set the credentials for your TruEra deployment.\n",
        "\n",
        "If you don't have credentials yet, get them by signing up for the free private beta: https://go.truera.com/diagnostics-free"
      ]
    },
    {
      "cell_type": "code",
      "execution_count": null,
      "metadata": {
        "id": "qRu0HIs0rOov"
      },
      "outputs": [],
      "source": [
        "#connection details\n",
        "CONNECTION_STRING = \"\"\n",
        "AUTH_TOKEN = \"\""
      ]
    },
    {
      "cell_type": "markdown",
      "metadata": {
        "id": "sT6MCOBwrOov"
      },
      "source": [
        "### Install required packages"
      ]
    },
    {
      "cell_type": "code",
      "execution_count": null,
      "metadata": {},
      "outputs": [],
      "source": [
        "! pip install --upgrade shap\n",
        "! pip install --upgrade truera"
      ]
    },
    {
      "cell_type": "markdown",
      "metadata": {
        "id": "Mp3bgiN5rOov"
      },
      "source": [
        "### From here, run the rest of the notebook and follow the analysis.\n",
        "\n",
        "### First, load data and train the in your beach-head market, San Francisco. Also add additional data for Seattle and Austin, your target markets."
      ]
    },
    {
      "cell_type": "code",
      "execution_count": null,
      "metadata": {
        "id": "62HWRpHvlntp"
      },
      "outputs": [],
      "source": [
        "import pandas as pd\n",
        "import xgboost as xgb\n",
        "from sklearn import preprocessing\n",
        "import sklearn.metrics\n",
        "from sklearn.utils import resample\n",
        "import logging\n",
        "\n",
        "from truera.client.truera_workspace import TrueraWorkspace\n",
        "from truera.client.truera_authentication import TokenAuthentication\n",
        "\n",
        "auth = TokenAuthentication(AUTH_TOKEN)\n",
        "tru = TrueraWorkspace(CONNECTION_STRING, auth, ignore_version_mismatch=True, log_level=logging.ERROR)\n",
        "\n",
        "# set our environmetn to local compute so we can compute predictions and feature influences on our local machine\n",
        "tru.set_environment(\"local\")\n",
        "# note: we'll periodically toggle between local and remote so we can interact with our remote deployment as well."
      ]
    },
    {
      "cell_type": "code",
      "execution_count": null,
      "metadata": {
        "colab": {
          "base_uri": "https://localhost:8080/"
        },
        "id": "hjSSrMBJrOow",
        "outputId": "24ed1c40-4fbe-446f-c8ef-7e5d897bb42a"
      },
      "outputs": [
        {
          "name": "stdout",
          "output_type": "stream",
          "text": [
            "[18:35:16] WARNING: /workspace/src/objective/regression_obj.cu:152: reg:linear is now deprecated in favor of reg:squarederror.\n"
          ]
        },
        {
          "name": "stderr",
          "output_type": "stream",
          "text": [
            "WARNING:truera.client.local.intelligence.local_explainer:Background split for `data_collection` \"Data Collection v1\" is currently not set. Setting it to \"San Francisco\"\n",
            "WARNING:truera.client.local.intelligence.local_explainer:Failed to use TreeSHAP for this model. Defaulting to KernelSHAP...\n",
            "WARNING:truera.client.local.intelligence.local_explainer:Only \"regression\" score type is supported for regression models using the TreeSHAP algorithm!\n",
            "WARNING:truera.client.local.intelligence.local_explainer:Failed to use TreeSHAP for this model. Defaulting to KernelSHAP...\n",
            "WARNING:truera.client.local.intelligence.local_explainer:Only \"regression\" score type is supported for regression models using the TreeSHAP algorithm!\n",
            "WARNING:truera.client.local.intelligence.local_explainer:Failed to use TreeSHAP for this model. Defaulting to KernelSHAP...\n",
            "WARNING:truera.client.local.intelligence.local_explainer:Only \"regression\" score type is supported for regression models using the TreeSHAP algorithm!\n"
          ]
        }
      ],
      "source": [
        "# load data\n",
        "san_francisco = pd.read_csv('https://truera-examples.s3.us-west-2.amazonaws.com/data/starter-stability/San_Francisco_for_stability.csv')\n",
        "seattle = pd.read_csv('https://truera-examples.s3.us-west-2.amazonaws.com/data/starter-stability/Seattle_for_stability.csv')\n",
        "austin = pd.read_csv('https://truera-examples.s3.us-west-2.amazonaws.com/data/starter-stability/Austin_for_stability.csv')\n",
        "\n",
        "# train first model\n",
        "xgb_reg = xgb.XGBRegressor(eta = 0.2, max_depth = 4)\n",
        "xgb_reg.fit(san_francisco.drop('price', axis = 1), san_francisco.price)\n",
        "\n",
        "# create the first project and data collection\n",
        "tru.add_project(\"Starter Example - Drift\", score_type = 'regression')\n",
        "tru.add_data_collection(\"Data Collection v1\")\n",
        "\n",
        "# add data splits to the collection we just created\n",
        "tru.add_data_split(\"San Francisco\", pre_data = san_francisco.drop('price', axis = 1), label_data = san_francisco['price'], split_type = \"train\")\n",
        "tru.add_data_split(\"Seattle\", pre_data = seattle.drop('price', axis = 1), label_data = seattle['price'], split_type = \"test\")\n",
        "tru.add_data_split(\"Austin\", pre_data = austin.drop('price', axis = 1), label_data = austin['price'], split_type = \"test\")\n",
        "\n",
        "# register the model\n",
        "tru.add_python_model(\"model_1\", xgb_reg, train_split_name=\"San Francisco\", train_parameters = {\"model_type\":\"xgb.XGBRegressor\", \"eta\":0.2, \"max_depth\":4})\n",
        "\n",
        "# sync with remote\n",
        "tru.upload_project()"
      ]
    },
    {
      "cell_type": "markdown",
      "metadata": {
        "id": "haxAePk4rOox"
      },
      "source": [
        "### Get the average ground truth price in each city to use for defining our stability test thresholds."
      ]
    },
    {
      "cell_type": "code",
      "execution_count": null,
      "metadata": {
        "colab": {
          "base_uri": "https://localhost:8080/"
        },
        "id": "KAENOfmorOox",
        "outputId": "7e8def37-6ea1-45c1-bf2c-6ed8eec36982"
      },
      "outputs": [
        {
          "name": "stdout",
          "output_type": "stream",
          "text": [
            "San Francisco mean listing price: 205.2558100370495\n",
            "Seattle mean listing price: 127.80739963264234\n",
            "Austin mean listing price: 227.01126421697288\n",
            "Expected price difference from San Francisco to Seattle: -77.44841040440717\n",
            "Expected price difference from San Francisco to Austin: 21.755454179923362\n"
          ]
        }
      ],
      "source": [
        "tru.set_data_split(\"San Francisco\")\n",
        "San_Francisco_mean_price = tru.get_ys().mean()\n",
        "tru.set_data_split(\"Seattle\")\n",
        "Seattle_mean_price = tru.get_ys().mean()\n",
        "tru.set_data_split(\"Austin\")\n",
        "Austin_mean_price = tru.get_ys().mean()\n",
        "\n",
        "print(\"San Francisco mean listing price: \" + str(San_Francisco_mean_price))\n",
        "print(\"Seattle mean listing price: \" + str(Seattle_mean_price))\n",
        "print(\"Austin mean listing price: \" + str(Austin_mean_price))\n",
        "\n",
        "#calculate expected difference in price recommendations from beach-head to target market\n",
        "Seattle_expected_difference = Seattle_mean_price - San_Francisco_mean_price\n",
        "Austin_expected_difference = Austin_mean_price - San_Francisco_mean_price\n",
        "\n",
        "print(\"Expected price difference from San Francisco to Seattle: \" + str(Seattle_expected_difference))\n",
        "print(\"Expected price difference from San Francisco to Austin: \" + str(Austin_expected_difference))\n"
      ]
    },
    {
      "cell_type": "markdown",
      "metadata": {
        "id": "04VsEAWrrOox"
      },
      "source": [
        "### Test for stability in Seattle and Austin."
      ]
    },
    {
      "cell_type": "code",
      "execution_count": null,
      "metadata": {
        "colab": {
          "base_uri": "https://localhost:8080/",
          "height": 103
        },
        "id": "76OW3Ub1rOox",
        "outputId": "2b356c37-2509-4fe3-f65e-ddee31177926"
      },
      "outputs": [
        {
          "data": {
            "text/html": [
              "\n",
              "        <html>\n",
              "        <head>\n",
              "        <style>\n",
              "        table, th, td {\n",
              "            border-radius: 5px;\n",
              "        }\n",
              "        .header {\n",
              "            font-weight: bold;\n",
              "            font-size: 14px;\n",
              "        }\n",
              "        caption {\n",
              "            font-weight: bolder;\n",
              "            font-size: 16px;\n",
              "            background-color: powderblue;\n",
              "            color: black;\n",
              "            border-radius: 5px;\n",
              "        }\n",
              "        \n",
              "            .PASSED {\n",
              "                color: black;\n",
              "                background-color: palegreen;\n",
              "            }\n",
              "            .WARNING {\n",
              "                color: black;\n",
              "                background-color: yellow;\n",
              "            }\n",
              "            .FAILED {\n",
              "                color: black;\n",
              "                background-color: pink;\n",
              "            }\n",
              "            \n",
              "        </style>\n",
              "        </head>\n",
              "        <body>\n",
              "        <table>\n",
              "            <caption>Stability Tests Results for Model \"model_1\"</caption>\n",
              "            <tr class=\"header\"><td></td><td>Name</td><td>Comparison Split</td><td>Base Split</td><td>Segment</td><td>Metric</td><td>Score</td><td>Navigate</td></tr>\n",
              "            <tr><td >❌</td><td >Stability Test - Seattle</td><td >Seattle</td><td >San Francisco</td><td >ALL POINTS</td><td >DIFFERENCE_OF_MEAN</td><td class=\"FAILED\">-2.1431</td><td ><a href=\"https://daily-demo-truera1.sandbox.truera.com/p/Starter Example - Stability/m/model_1/t/stability?baseSplitName=San Francisco&compareSplitName=Seattle&splitId=4a370bbb-0ea0-4e11-b73f-d479dec51129&modelIds=b53c8164-c98a-4ca0-856d-2e941bdf36c4&\" target=\"_blank\">Explore in UI</a></td></tr><tr><td >❌</td><td >Stability Test - Austin</td><td >Austin</td><td >San Francisco</td><td >ALL POINTS</td><td >DIFFERENCE_OF_MEAN</td><td class=\"FAILED\">62.1055</td><td ><a href=\"https://daily-demo-truera1.sandbox.truera.com/p/Starter Example - Stability/m/model_1/t/stability?baseSplitName=San Francisco&compareSplitName=Austin&splitId=21ecb749-097c-4989-baa6-9a633bf552bf&modelIds=b53c8164-c98a-4ca0-856d-2e941bdf36c4&\" target=\"_blank\">Explore in UI</a></td></tr>\n",
              "        </table>\n",
              "        </body>\n",
              "        </html>\n",
              "        "
            ],
            "text/plain": [
              "<truera.client.intelligence.model_tests.ModelTestResults at 0x7fae15b541f0>"
            ]
          },
          "execution_count": 6,
          "metadata": {},
          "output_type": "execute_result"
        }
      ],
      "source": [
        "#toggle back to remote to interact with the tester\n",
        "\n",
        "# add stability test\n",
        "tru.set_environment(\"remote\")\n",
        "tru.set_project(\"Starter Example - Drift\")\n",
        "tru.set_data_collection(\"Data Collection v1\")\n",
        "\n",
        "# Create stability tests in accordance with the setup\n",
        "tru.tester.add_stability_test(test_name = \"Stability Test - Seattle\",\n",
        "    base_data_split_name = \"San Francisco\",\n",
        "    comparison_data_split_name_regex = \"Seattle\",\n",
        "    fail_if_outside = [Seattle_expected_difference - 65, Seattle_expected_difference + 65])\n",
        "\n",
        "tru.tester.add_stability_test(test_name = \"Stability Test - Austin\",\n",
        "    base_data_split_name = \"San Francisco\",\n",
        "    comparison_data_split_names = [\"Austin\"],\n",
        "    fail_if_outside = [Austin_expected_difference - 40, Austin_expected_difference + 40])\n",
        "\n",
        "tru.set_model(\"model_1\")\n",
        "tru.tester.get_model_test_results(test_types=[\"stability\"])"
      ]
    },
    {
      "cell_type": "markdown",
      "metadata": {
        "id": "bcTB5AZGrOox"
      },
      "source": [
        "The model fails in Seattle and Austin because the scores drifted too far from the ground truth in the new cities.\n",
        "\n",
        "### From here, navigate to the TruEra Web App for analysis or continue on to Part 2!     [![Open In Colab](https://colab.research.google.com/assets/colab-badge.svg)](https://colab.research.google.com/drive/1SIshdf_nE2dCWPdGNfUJ3UUuWgbocANn)"
      ]
    }
  ],
  "metadata": {
    "colab": {
      "collapsed_sections": [
        "sT6MCOBwrOov"
      ],
      "provenance": []
    },
    "kernelspec": {
      "display_name": "Python 3.10.8 ('eap_demo')",
      "language": "python",
      "name": "python3"
    },
    "language_info": {
      "codemirror_mode": {
        "name": "ipython",
        "version": 3
      },
      "file_extension": ".py",
      "mimetype": "text/x-python",
      "name": "python",
      "nbconvert_exporter": "python",
      "pygments_lexer": "ipython3",
      "version": "3.8.15"
    },
    "vscode": {
      "interpreter": {
        "hash": "da3924fd47657b295ea4ff31ffc159b50bdc67549cd17755b5462d5d6bda3f74"
      }
    }
  },
  "nbformat": 4,
  "nbformat_minor": 0
}

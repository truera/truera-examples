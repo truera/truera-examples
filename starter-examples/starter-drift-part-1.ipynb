{
  "cells": [
    {
      "cell_type": "markdown",
      "metadata": {
        "id": "FC9bCFA9rOot"
      },
      "source": [
        "# Guided Exercise: Drift\n",
        "\n",
        "### Setup:\n",
        "You are the principal data scientist working for a new startup that offers a price recommendation for rental home listings. Your beach-head market was San Francisco and this was where you trained the model, which is the core service of the business. But now, the startup is looking to expand into Seattle and Austin. Using the mean price difference between San Francisco and each new city, you want to make sure your price recommendations don't drift. If they drift too low, your customers will leave money on the table; if they drift too high, their listing will be vacant. Hitting the goldilox zone is critical for acquiring and keeping happy customers in Seattle.\n",
        "\n",
        "Competitors in Seattle are within 65 dollars of the ideal price, and due to stiffer competition, competitors in Austin are within $40 of the ideal price. These are the benchmarks we need to hit to prove a viable product.\n",
        "\n",
        "#### Goals 🎯\n",
        "\n",
        "In this tutorial, you will learn how to:\n",
        "1. Set up and view the results of stability tests.\n",
        "2. Debug the true cause of stability issues.\n",
        "3. Retest the new model and confirm the effectivenesss of the mitigation strategy.\n",
        "\n",
        "### First, set the credentials for your TruEra deployment.\n",
        "\n",
        "If you don't have credentials yet, get them instantly by signing up for the free open beta: https://app.truera.net"
      ]
    },
    {
      "cell_type": "code",
      "execution_count": 1,
      "metadata": {
        "id": "qRu0HIs0rOov"
      },
      "outputs": [],
      "source": [
        "#connection details\n",
        "TRUERA_URL = \"https://app.truera.net\"\n",
        "AUTH_TOKEN = \"\""
      ]
    },
    {
      "cell_type": "markdown",
      "metadata": {
        "id": "sT6MCOBwrOov"
      },
      "source": [
        "### Install required packages for running in colab"
      ]
    },
    {
      "cell_type": "code",
      "execution_count": null,
      "metadata": {},
      "outputs": [],
      "source": [
        "! pip install --upgrade shap\n",
        "! pip install --upgrade truera"
      ]
    },
    {
      "cell_type": "markdown",
      "metadata": {
        "id": "Mp3bgiN5rOov"
      },
      "source": [
        "### From here, run the rest of the notebook and follow the analysis.\n",
        "\n",
        "### First, load data and train the in your beach-head market, San Francisco. Also add additional data for Seattle and Austin, your target markets."
      ]
    },
    {
      "cell_type": "code",
      "execution_count": 3,
      "metadata": {
        "id": "62HWRpHvlntp"
      },
      "outputs": [
        {
          "name": "stderr",
          "output_type": "stream",
          "text": [
            "/Users/jreini/opt/anaconda3/envs/eap_demo/lib/python3.8/site-packages/tqdm/auto.py:22: TqdmWarning: IProgress not found. Please update jupyter and ipywidgets. See https://ipywidgets.readthedocs.io/en/stable/user_install.html\n",
            "  from .autonotebook import tqdm as notebook_tqdm\n",
            "WARNING:truera.client.client_utils:Warning: Tru client is out of date. Upgrade is recommended. Server side: 11.7.0\n",
            ", client side 11.5.6\n",
            ".\n"
          ]
        }
      ],
      "source": [
        "import pandas as pd\n",
        "import xgboost as xgb\n",
        "from sklearn import preprocessing\n",
        "import sklearn.metrics\n",
        "from sklearn.utils import resample\n",
        "import logging\n",
        "\n",
        "from truera.client.truera_workspace import TrueraWorkspace\n",
        "from truera.client.truera_authentication import TokenAuthentication\n",
        "\n",
        "auth = TokenAuthentication(AUTH_TOKEN)\n",
        "tru = TrueraWorkspace(TRUERA_URL, auth)\n",
        "\n",
        "# set our environmetn to local compute so we can compute predictions and feature influences on our local machine\n",
        "tru.set_environment(\"local\")\n",
        "# note: we'll periodically toggle between local and remote so we can interact with our remote deployment as well."
      ]
    },
    {
      "cell_type": "code",
      "execution_count": 4,
      "metadata": {
        "colab": {
          "background_save": true,
          "base_uri": "https://localhost:8080/",
          "height": 952,
          "referenced_widgets": [
            "48f9115e0a004d259e8878a58a8f3b51",
            "775849531f12416bb3a33e73cc36566d",
            "3db7feae39c04129a08fb5202c3996de",
            "a883014af14e42548b2f7e25ddb7ff80",
            "4a4aa63bfad641dd8219f136ce036313",
            "2610f75e46254d3e849dd4eb35fc0a23",
            "a71e471627d549b7a6ef45cfd36db19c",
            "941090ba5bf043e2b6e29fd02900890d",
            "97bd3343c64844edb465d9cfbefc8739",
            "b8dc706fb8ba41f8ad397d4fdf346983",
            "abc3837efb8e4deaaa5f75e36f6dc517",
            "250dcfcca7844e7ab143d353b0c87388",
            "94a6258c42584b969ce809e57e65c0c3",
            "b4f5f804170f49faab3ef8d540fcf117",
            "aaa83a89a45642c2bf67a76fa9dccb45",
            "2236d7ee20874941b81ae807fd2f8b2f",
            "d01bd84e6bfc436189cfb8f0347ba449",
            "01ebbda00191446dbea9ffebfcc5ca8d",
            "c0f414d8a0ef44bc9a6b19f9b4e7d8bb",
            "d1e97e6c471645f79ef5632e807ff931",
            "c6e1919b9e844aa294a92fc8bc0ee5a9",
            "71e742efc0ea4d669adb3c4dd3f85bd5",
            "9f7653c0f01a4461a5bef5a1627b236c"
          ]
        },
        "id": "hjSSrMBJrOow",
        "outputId": "fde93e95-7fd0-4dbf-c07c-a77f74a77bf2"
      },
      "outputs": [
        {
          "name": "stderr",
          "output_type": "stream",
          "text": [
            "INFO:truera.client.local.local_truera_workspace:Data collection in local environment is now set to \"Data Collection v1\". \n",
            "INFO:truera.client.local.local_truera_workspace:Data split \"San Francisco\" is added to local data collection \"Data Collection v1\", and set as the data split for the workspace context.\n",
            "INFO:truera.client.local.local_truera_workspace:Data split \"Seattle\" is added to local data collection \"Data Collection v1\", and set as the data split for the workspace context.\n",
            "INFO:truera.client.local.local_truera_workspace:Data split \"Austin\" is added to local data collection \"Data Collection v1\", and set as the data split for the workspace context.\n",
            "INFO:truera.client.local.local_truera_workspace:Model \"model_1\" is added and associated with local data collection \"Data Collection v1\". \"model_1\" is set as the model for the workspace context.\n",
            "INFO:truera.client.truera_workspace:Uploading data collection Data Collection v1.\n",
            "INFO:truera.client.truera_workspace:Uploading data split San Francisco.\n"
          ]
        },
        {
          "name": "stdout",
          "output_type": "stream",
          "text": [
            "Uploading tmp26x7x92g.parquet -- ### -- file upload complete.\n",
            "Put resource done.\n",
            "Uploading tmphednotq6.parquet -- ### -- file upload complete.\n",
            "Put resource done.\n"
          ]
        },
        {
          "name": "stderr",
          "output_type": "stream",
          "text": [
            "INFO:truera.client.remote_truera_workspace:Call to join: rowsets ['a97b58ea-8475-4667-b4b8-5e3b995bb62a', '81b3673e-a96a-407b-a9f5-b1e2c92c062f'] on ['id'] with default inner join.\n",
            "INFO:truera.client.truera_workspace:Uploading data split Seattle.\n"
          ]
        },
        {
          "name": "stdout",
          "output_type": "stream",
          "text": [
            "Uploading tmp89drxfoe.parquet -- ### -- file upload complete.\n",
            "Put resource done.\n",
            "Uploading tmph4gvoc86.parquet -- ### -- file upload complete.\n",
            "Put resource done.\n"
          ]
        },
        {
          "name": "stderr",
          "output_type": "stream",
          "text": [
            "INFO:truera.client.remote_truera_workspace:Call to join: rowsets ['5b1c7d06-f281-4c15-9f95-260007d1f024', '357b2b4e-c42d-4389-ae36-2c36e2ea3d14'] on ['id'] with default inner join.\n",
            "INFO:truera.client.truera_workspace:Uploading data split Austin.\n"
          ]
        },
        {
          "name": "stdout",
          "output_type": "stream",
          "text": [
            "Uploading tmpxye6_jfy.parquet -- ### -- file upload complete.\n",
            "Put resource done.\n",
            "Uploading tmpop2xi693.parquet -- ### -- file upload complete.\n",
            "Put resource done.\n"
          ]
        },
        {
          "name": "stderr",
          "output_type": "stream",
          "text": [
            "INFO:truera.client.remote_truera_workspace:Call to join: rowsets ['a768cf10-4d31-459d-bf33-9bb78d567f44', '447e148a-487c-43a3-a10f-b5da24f7a0d3'] on ['id'] with default inner join.\n",
            "INFO:truera.client.truera_workspace:Uploading model model_1.\n",
            "INFO:truera.client.remote_truera_workspace:Uploading xgboost model: XGBRegressor\n"
          ]
        },
        {
          "name": "stdout",
          "output_type": "stream",
          "text": [
            "Verification Done\n",
            "Uploading MLmodel -- ### -- file upload complete.\n",
            "Uploading tmp_2zxumr0.json -- ### -- file upload complete.\n",
            "Uploading conda.yaml -- ### -- file upload complete.\n",
            "Uploading xgboost_regression_predict_wrapper.py -- ### -- file upload complete.\n",
            "Put resource done.\n"
          ]
        },
        {
          "name": "stderr",
          "output_type": "stream",
          "text": [
            "INFO:truera.client.remote_truera_workspace:Model \"model_1\" is added and associated with remote data collection \"Data Collection v1\". \"model_1\" is set as the model for the workspace context.\n"
          ]
        },
        {
          "name": "stdout",
          "output_type": "stream",
          "text": [
            "Model uploaded to: https://daily-demo-truera1.sandbox.truera.com/home/p/Starter%20Example%20Companion%20-%20Drift/m/model_1/\n",
            "Uploading tmp7ude3sozparquet -- ### -- file upload complete.\n",
            "Put resource done.\n"
          ]
        },
        {
          "name": "stderr",
          "output_type": "stream",
          "text": [
            "INFO:truera.client.remote_truera_workspace:Waiting for data split to materialize...\n"
          ]
        },
        {
          "name": "stdout",
          "output_type": "stream",
          "text": [
            "Uploading tmprwlk2j3kparquet -- ### -- file upload complete.\n",
            "Put resource done.\n"
          ]
        },
        {
          "name": "stderr",
          "output_type": "stream",
          "text": [
            "INFO:truera.client.remote_truera_workspace:Waiting for data split to materialize...\n"
          ]
        },
        {
          "name": "stdout",
          "output_type": "stream",
          "text": [
            "Uploading tmpre6raejrparquet -- ### -- file upload complete.\n",
            "Put resource done.\n"
          ]
        },
        {
          "name": "stderr",
          "output_type": "stream",
          "text": [
            "INFO:truera.client.remote_truera_workspace:Waiting for data split to materialize...\n",
            "WARNING:truera.client.local.intelligence.local_explainer:Background split for `data_collection` \"Data Collection v1\" is currently not set. Setting it to \"San Francisco\"\n",
            "INFO:truera.client.truera_workspace:Influence algorithm for local project is: truera-qii\n",
            "WARNING:truera.client.truera_workspace:Computing feature influences for model \"model_1\", data split \"San Francisco\", score type \"regression\" before upload...\n",
            "WARNING:truera.client.truera_workspace:Failed to compute influences for score_type regression ...\n",
            "WARNING:truera.client.truera_workspace:Computing feature influences for model \"model_1\", data split \"San Francisco\", score type \"regression\" before upload...\n",
            "WARNING:truera.client.truera_workspace:Failed to compute influences for score_type mean_absolute_error_for_regression ...\n",
            "INFO:truera.client.truera_workspace:Influence algorithm for local project is: truera-qii\n",
            "WARNING:truera.client.truera_workspace:Computing feature influences for model \"model_1\", data split \"Seattle\", score type \"regression\" before upload...\n",
            "WARNING:truera.client.truera_workspace:Failed to compute influences for score_type regression ...\n",
            "WARNING:truera.client.truera_workspace:Computing feature influences for model \"model_1\", data split \"Seattle\", score type \"regression\" before upload...\n",
            "WARNING:truera.client.truera_workspace:Failed to compute influences for score_type mean_absolute_error_for_regression ...\n",
            "INFO:truera.client.truera_workspace:Influence algorithm for local project is: truera-qii\n",
            "WARNING:truera.client.truera_workspace:Computing feature influences for model \"model_1\", data split \"Austin\", score type \"regression\" before upload...\n",
            "WARNING:truera.client.truera_workspace:Failed to compute influences for score_type regression ...\n",
            "WARNING:truera.client.truera_workspace:Computing feature influences for model \"model_1\", data split \"Austin\", score type \"regression\" before upload...\n",
            "WARNING:truera.client.truera_workspace:Failed to compute influences for score_type mean_absolute_error_for_regression ...\n"
          ]
        }
      ],
      "source": [
        "# load data\n",
        "san_francisco = pd.read_csv('https://truera-examples.s3.us-west-2.amazonaws.com/data/starter-stability/San_Francisco_for_stability.csv')\n",
        "seattle = pd.read_csv('https://truera-examples.s3.us-west-2.amazonaws.com/data/starter-stability/Seattle_for_stability.csv')\n",
        "austin = pd.read_csv('https://truera-examples.s3.us-west-2.amazonaws.com/data/starter-stability/Austin_for_stability.csv')\n",
        "\n",
        "#make all float\n",
        "san_francisco = san_francisco.astype(float)\n",
        "seattle = seattle.astype(float)\n",
        "austin = austin.astype(float)\n",
        "\n",
        "#add point ids\n",
        "sf_ids = [f\"point_{i}\" for i in range(len(san_francisco))]\n",
        "san_francisco[\"id\"] = sf_ids\n",
        "\n",
        "se_ids = [f\"point_{i}\" for i in range(len(seattle))]\n",
        "seattle[\"id\"] = se_ids\n",
        "\n",
        "a_ids = [f\"point_{i}\" for i in range(len(austin))]\n",
        "austin[\"id\"] = a_ids\n",
        "\n",
        "# train first model\n",
        "xgb_reg = xgb.XGBRegressor(eta = 0.2, max_depth = 4)\n",
        "xgb_reg.fit(san_francisco.drop(['price', 'id'], axis = 1), san_francisco.price)\n",
        "\n",
        "# create the first project and data collection\n",
        "project_name = \"Starter Example Companion - Drift\"\n",
        "tru.add_project(project_name, score_type = 'regression')\n",
        "tru.add_data_collection(\"Data Collection v1\")\n",
        "\n",
        "# add data splits to the collection we just created\n",
        "tru.add_data_split(\"San Francisco\", pre_data = san_francisco, label_col_name = 'price', id_col_name = 'id', split_type = \"train\")\n",
        "tru.add_data_split(\"Seattle\", pre_data = seattle, label_col_name = 'price', id_col_name = 'id', split_type = \"test\")\n",
        "tru.add_data_split(\"Austin\", pre_data = austin, label_col_name = 'price', id_col_name = 'id', split_type = \"oot\")\n",
        "\n",
        "# register the model\n",
        "tru.add_python_model(\"model_1\", xgb_reg, train_split_name=\"San Francisco\", train_parameters = {\"model_type\":\"xgb.XGBRegressor\", \"eta\":0.2, \"max_depth\":4})\n",
        "\n",
        "# sync with remote\n",
        "tru.upload_project()"
      ]
    },
    {
      "cell_type": "markdown",
      "metadata": {
        "id": "haxAePk4rOox"
      },
      "source": [
        "### Get the average ground truth price in each city to use for defining our stability test thresholds."
      ]
    },
    {
      "cell_type": "code",
      "execution_count": 5,
      "metadata": {
        "colab": {
          "background_save": true
        },
        "id": "KAENOfmorOox",
        "outputId": "f571afbb-4969-461b-dc67-2bce8f9ffd84"
      },
      "outputs": [
        {
          "name": "stdout",
          "output_type": "stream",
          "text": [
            "San Francisco mean listing price: 205.2558100370495\n",
            "Seattle mean listing price: 127.80739963264234\n",
            "Austin mean listing price: 227.01126421697288\n",
            "Expected price difference from San Francisco to Seattle: -77.44841040440717\n",
            "Expected price difference from San Francisco to Austin: 21.755454179923362\n"
          ]
        }
      ],
      "source": [
        "tru.set_data_split(\"San Francisco\")\n",
        "San_Francisco_mean_price = tru.get_ys().mean()\n",
        "tru.set_data_split(\"Seattle\")\n",
        "Seattle_mean_price = tru.get_ys().mean()\n",
        "tru.set_data_split(\"Austin\")\n",
        "Austin_mean_price = tru.get_ys().mean()\n",
        "\n",
        "print(\"San Francisco mean listing price: \" + str(San_Francisco_mean_price))\n",
        "print(\"Seattle mean listing price: \" + str(Seattle_mean_price))\n",
        "print(\"Austin mean listing price: \" + str(Austin_mean_price))\n",
        "\n",
        "#calculate expected difference in price recommendations from beach-head to target market\n",
        "Seattle_expected_difference = Seattle_mean_price - San_Francisco_mean_price\n",
        "Austin_expected_difference = Austin_mean_price - San_Francisco_mean_price\n",
        "\n",
        "print(\"Expected price difference from San Francisco to Seattle: \" + str(Seattle_expected_difference))\n",
        "print(\"Expected price difference from San Francisco to Austin: \" + str(Austin_expected_difference))\n"
      ]
    },
    {
      "cell_type": "markdown",
      "metadata": {
        "id": "04VsEAWrrOox"
      },
      "source": [
        "### Test for stability in Seattle and Austin."
      ]
    },
    {
      "cell_type": "code",
      "execution_count": 7,
      "metadata": {
        "colab": {
          "background_save": true
        },
        "id": "76OW3Ub1rOox",
        "outputId": "25dceaf6-d420-407a-cde1-0c2dc425a631"
      },
      "outputs": [
        {
          "name": "stderr",
          "output_type": "stream",
          "text": [
            "INFO:truera.client.remote_truera_workspace:Data collection in remote environment is now set to \"Data Collection v1\". \n",
            "INFO:truera.client.remote_truera_workspace:Setting remote model context to \"model_1\".\n"
          ]
        },
        {
          "data": {
            "text/html": [
              "\n",
              "        <html>\n",
              "        <head>\n",
              "        <style>\n",
              "        table, th, td {\n",
              "            border-radius: 5px;\n",
              "        }\n",
              "        .header {\n",
              "            font-weight: bold;\n",
              "            font-size: 14px;\n",
              "        }\n",
              "        caption {\n",
              "            font-weight: bolder;\n",
              "            font-size: 16px;\n",
              "            background-color: powderblue;\n",
              "            color: black;\n",
              "            border-radius: 5px;\n",
              "        }\n",
              "        \n",
              "            .PASSED {\n",
              "                color: black;\n",
              "                background-color: palegreen;\n",
              "            }\n",
              "            .WARNING {\n",
              "                color: black;\n",
              "                background-color: yellow;\n",
              "            }\n",
              "            .FAILED {\n",
              "                color: black;\n",
              "                background-color: pink;\n",
              "            }\n",
              "            \n",
              "        </style>\n",
              "        </head>\n",
              "        <body>\n",
              "        <table>\n",
              "            <caption>Stability Tests Results for Model \"model_1\"</caption>\n",
              "            <tr class=\"header\"><td></td><td>Name</td><td>Comparison Split</td><td>Base Split</td><td>Segment</td><td>Metric</td><td>Score</td><td>Navigate</td></tr>\n",
              "            <tr><td >❌</td><td >Stability Test - Seattle</td><td >Seattle</td><td >San Francisco</td><td >ALL POINTS</td><td >DIFFERENCE_OF_MEAN</td><td class=\"FAILED\">-4.5409</td><td ><a href=\"https://daily-demo-truera1.sandbox.truera.com/home/p/Starter Example Companion - Drift/m/model_1/t/stability?baseSplitName=San Francisco&compareSplitName=Seattle&splitId=34c27797-d5ff-4ece-9ec6-e1bed8d3c32f&modelIds=73e097c8-fdd7-4103-a9ec-60a97740c57c&\" target=\"_blank\">Explore in UI</a></td></tr><tr><td >❌</td><td >Stability Test - Austin</td><td >Austin</td><td >San Francisco</td><td >ALL POINTS</td><td >DIFFERENCE_OF_MEAN</td><td class=\"FAILED\">64.1611</td><td ><a href=\"https://daily-demo-truera1.sandbox.truera.com/home/p/Starter Example Companion - Drift/m/model_1/t/stability?baseSplitName=San Francisco&compareSplitName=Austin&splitId=80fdd083-70c7-448b-b90a-be8e50d4a3b8&modelIds=73e097c8-fdd7-4103-a9ec-60a97740c57c&\" target=\"_blank\">Explore in UI</a></td></tr>\n",
              "        </table>\n",
              "        </body>\n",
              "        </html>\n",
              "        "
            ],
            "text/plain": [
              "<truera.client.intelligence.model_tests.ModelTestResults at 0x7fa5b0ec2f40>"
            ]
          },
          "execution_count": 7,
          "metadata": {},
          "output_type": "execute_result"
        }
      ],
      "source": [
        "#toggle back to remote to interact with the tester\n",
        "\n",
        "# add stability test\n",
        "tru.set_environment(\"remote\")\n",
        "tru.set_project(project_name)\n",
        "tru.set_data_collection(\"Data Collection v1\")\n",
        "\n",
        "# Create stability tests in accordance with the setup\n",
        "tru.tester.add_stability_test(test_name = \"Stability Test - Seattle\",\n",
        "    base_data_split_name = \"San Francisco\",\n",
        "    comparison_data_split_name_regex = \"Seattle\",\n",
        "    fail_if_outside = [Seattle_expected_difference - 65, Seattle_expected_difference + 65])\n",
        "\n",
        "tru.tester.add_stability_test(test_name = \"Stability Test - Austin\",\n",
        "    base_data_split_name = \"San Francisco\",\n",
        "    comparison_data_split_names = [\"Austin\"],\n",
        "    fail_if_outside = [Austin_expected_difference - 40, Austin_expected_difference + 40])\n",
        "\n",
        "tru.set_model(\"model_1\")\n",
        "tru.tester.get_model_test_results(test_types=[\"stability\"])"
      ]
    },
    {
      "cell_type": "markdown",
      "metadata": {
        "id": "bcTB5AZGrOox"
      },
      "source": [
        "The model fails in Seattle and Austin because the scores drifted too far from the ground truth in the new cities.\n",
        "\n",
        "### From here, navigate to the TruEra Web App for analysis or continue on to Part 2!     [![Open In Colab](https://colab.research.google.com/assets/colab-badge.svg)](https://colab.research.google.com/drive/1SIshdf_nE2dCWPdGNfUJ3UUuWgbocANn)"
      ]
    }
  ],
  "metadata": {
    "colab": {
      "collapsed_sections": [
        "sT6MCOBwrOov"
      ],
      "provenance": []
    },
    "kernelspec": {
      "display_name": "Python 3.10.8 ('eap_demo')",
      "language": "python",
      "name": "python3"
    },
    "language_info": {
      "codemirror_mode": {
        "name": "ipython",
        "version": 3
      },
      "file_extension": ".py",
      "mimetype": "text/x-python",
      "name": "python",
      "nbconvert_exporter": "python",
      "pygments_lexer": "ipython3",
      "version": "3.8.15"
    },
    "vscode": {
      "interpreter": {
        "hash": "da3924fd47657b295ea4ff31ffc159b50bdc67549cd17755b5462d5d6bda3f74"
      }
    },
    "widgets": {
      "application/vnd.jupyter.widget-state+json": {
        "01ebbda00191446dbea9ffebfcc5ca8d": {
          "model_module": "@jupyter-widgets/controls",
          "model_module_version": "1.5.0",
          "model_name": "DescriptionStyleModel",
          "state": {
            "_model_module": "@jupyter-widgets/controls",
            "_model_module_version": "1.5.0",
            "_model_name": "DescriptionStyleModel",
            "_view_count": null,
            "_view_module": "@jupyter-widgets/base",
            "_view_module_version": "1.2.0",
            "_view_name": "StyleView",
            "description_width": ""
          }
        },
        "2236d7ee20874941b81ae807fd2f8b2f": {
          "model_module": "@jupyter-widgets/base",
          "model_module_version": "1.2.0",
          "model_name": "LayoutModel",
          "state": {
            "_model_module": "@jupyter-widgets/base",
            "_model_module_version": "1.2.0",
            "_model_name": "LayoutModel",
            "_view_count": null,
            "_view_module": "@jupyter-widgets/base",
            "_view_module_version": "1.2.0",
            "_view_name": "LayoutView",
            "align_content": null,
            "align_items": null,
            "align_self": null,
            "border": null,
            "bottom": null,
            "display": null,
            "flex": null,
            "flex_flow": null,
            "grid_area": null,
            "grid_auto_columns": null,
            "grid_auto_flow": null,
            "grid_auto_rows": null,
            "grid_column": null,
            "grid_gap": null,
            "grid_row": null,
            "grid_template_areas": null,
            "grid_template_columns": null,
            "grid_template_rows": null,
            "height": null,
            "justify_content": null,
            "justify_items": null,
            "left": null,
            "margin": null,
            "max_height": null,
            "max_width": null,
            "min_height": null,
            "min_width": null,
            "object_fit": null,
            "object_position": null,
            "order": null,
            "overflow": null,
            "overflow_x": null,
            "overflow_y": null,
            "padding": null,
            "right": null,
            "top": null,
            "visibility": null,
            "width": null
          }
        },
        "250dcfcca7844e7ab143d353b0c87388": {
          "model_module": "@jupyter-widgets/controls",
          "model_module_version": "1.5.0",
          "model_name": "HBoxModel",
          "state": {
            "_dom_classes": [],
            "_model_module": "@jupyter-widgets/controls",
            "_model_module_version": "1.5.0",
            "_model_name": "HBoxModel",
            "_view_count": null,
            "_view_module": "@jupyter-widgets/controls",
            "_view_module_version": "1.5.0",
            "_view_name": "HBoxView",
            "box_style": "",
            "children": [
              "IPY_MODEL_94a6258c42584b969ce809e57e65c0c3",
              "IPY_MODEL_b4f5f804170f49faab3ef8d540fcf117",
              "IPY_MODEL_aaa83a89a45642c2bf67a76fa9dccb45"
            ],
            "layout": "IPY_MODEL_2236d7ee20874941b81ae807fd2f8b2f"
          }
        },
        "2610f75e46254d3e849dd4eb35fc0a23": {
          "model_module": "@jupyter-widgets/base",
          "model_module_version": "1.2.0",
          "model_name": "LayoutModel",
          "state": {
            "_model_module": "@jupyter-widgets/base",
            "_model_module_version": "1.2.0",
            "_model_name": "LayoutModel",
            "_view_count": null,
            "_view_module": "@jupyter-widgets/base",
            "_view_module_version": "1.2.0",
            "_view_name": "LayoutView",
            "align_content": null,
            "align_items": null,
            "align_self": null,
            "border": null,
            "bottom": null,
            "display": null,
            "flex": null,
            "flex_flow": null,
            "grid_area": null,
            "grid_auto_columns": null,
            "grid_auto_flow": null,
            "grid_auto_rows": null,
            "grid_column": null,
            "grid_gap": null,
            "grid_row": null,
            "grid_template_areas": null,
            "grid_template_columns": null,
            "grid_template_rows": null,
            "height": null,
            "justify_content": null,
            "justify_items": null,
            "left": null,
            "margin": null,
            "max_height": null,
            "max_width": null,
            "min_height": null,
            "min_width": null,
            "object_fit": null,
            "object_position": null,
            "order": null,
            "overflow": null,
            "overflow_x": null,
            "overflow_y": null,
            "padding": null,
            "right": null,
            "top": null,
            "visibility": null,
            "width": null
          }
        },
        "3db7feae39c04129a08fb5202c3996de": {
          "model_module": "@jupyter-widgets/controls",
          "model_module_version": "1.5.0",
          "model_name": "FloatProgressModel",
          "state": {
            "_dom_classes": [],
            "_model_module": "@jupyter-widgets/controls",
            "_model_module_version": "1.5.0",
            "_model_name": "FloatProgressModel",
            "_view_count": null,
            "_view_module": "@jupyter-widgets/controls",
            "_view_module_version": "1.5.0",
            "_view_name": "ProgressView",
            "bar_style": "",
            "description": "",
            "description_tooltip": null,
            "layout": "IPY_MODEL_941090ba5bf043e2b6e29fd02900890d",
            "max": 100,
            "min": 0,
            "orientation": "horizontal",
            "style": "IPY_MODEL_97bd3343c64844edb465d9cfbefc8739",
            "value": 100
          }
        },
        "48f9115e0a004d259e8878a58a8f3b51": {
          "model_module": "@jupyter-widgets/controls",
          "model_module_version": "1.5.0",
          "model_name": "HBoxModel",
          "state": {
            "_dom_classes": [],
            "_model_module": "@jupyter-widgets/controls",
            "_model_module_version": "1.5.0",
            "_model_name": "HBoxModel",
            "_view_count": null,
            "_view_module": "@jupyter-widgets/controls",
            "_view_module_version": "1.5.0",
            "_view_name": "HBoxView",
            "box_style": "",
            "children": [
              "IPY_MODEL_775849531f12416bb3a33e73cc36566d",
              "IPY_MODEL_3db7feae39c04129a08fb5202c3996de",
              "IPY_MODEL_a883014af14e42548b2f7e25ddb7ff80"
            ],
            "layout": "IPY_MODEL_4a4aa63bfad641dd8219f136ce036313"
          }
        },
        "4a4aa63bfad641dd8219f136ce036313": {
          "model_module": "@jupyter-widgets/base",
          "model_module_version": "1.2.0",
          "model_name": "LayoutModel",
          "state": {
            "_model_module": "@jupyter-widgets/base",
            "_model_module_version": "1.2.0",
            "_model_name": "LayoutModel",
            "_view_count": null,
            "_view_module": "@jupyter-widgets/base",
            "_view_module_version": "1.2.0",
            "_view_name": "LayoutView",
            "align_content": null,
            "align_items": null,
            "align_self": null,
            "border": null,
            "bottom": null,
            "display": null,
            "flex": null,
            "flex_flow": null,
            "grid_area": null,
            "grid_auto_columns": null,
            "grid_auto_flow": null,
            "grid_auto_rows": null,
            "grid_column": null,
            "grid_gap": null,
            "grid_row": null,
            "grid_template_areas": null,
            "grid_template_columns": null,
            "grid_template_rows": null,
            "height": null,
            "justify_content": null,
            "justify_items": null,
            "left": null,
            "margin": null,
            "max_height": null,
            "max_width": null,
            "min_height": null,
            "min_width": null,
            "object_fit": null,
            "object_position": null,
            "order": null,
            "overflow": null,
            "overflow_x": null,
            "overflow_y": null,
            "padding": null,
            "right": null,
            "top": null,
            "visibility": "hidden",
            "width": null
          }
        },
        "71e742efc0ea4d669adb3c4dd3f85bd5": {
          "model_module": "@jupyter-widgets/controls",
          "model_module_version": "1.5.0",
          "model_name": "DescriptionStyleModel",
          "state": {
            "_model_module": "@jupyter-widgets/controls",
            "_model_module_version": "1.5.0",
            "_model_name": "DescriptionStyleModel",
            "_view_count": null,
            "_view_module": "@jupyter-widgets/base",
            "_view_module_version": "1.2.0",
            "_view_name": "StyleView",
            "description_width": ""
          }
        },
        "775849531f12416bb3a33e73cc36566d": {
          "model_module": "@jupyter-widgets/controls",
          "model_module_version": "1.5.0",
          "model_name": "HTMLModel",
          "state": {
            "_dom_classes": [],
            "_model_module": "@jupyter-widgets/controls",
            "_model_module_version": "1.5.0",
            "_model_name": "HTMLModel",
            "_view_count": null,
            "_view_module": "@jupyter-widgets/controls",
            "_view_module_version": "1.5.0",
            "_view_name": "HTMLView",
            "description": "",
            "description_tooltip": null,
            "layout": "IPY_MODEL_2610f75e46254d3e849dd4eb35fc0a23",
            "placeholder": "​",
            "style": "IPY_MODEL_a71e471627d549b7a6ef45cfd36db19c",
            "value": ""
          }
        },
        "941090ba5bf043e2b6e29fd02900890d": {
          "model_module": "@jupyter-widgets/base",
          "model_module_version": "1.2.0",
          "model_name": "LayoutModel",
          "state": {
            "_model_module": "@jupyter-widgets/base",
            "_model_module_version": "1.2.0",
            "_model_name": "LayoutModel",
            "_view_count": null,
            "_view_module": "@jupyter-widgets/base",
            "_view_module_version": "1.2.0",
            "_view_name": "LayoutView",
            "align_content": null,
            "align_items": null,
            "align_self": null,
            "border": null,
            "bottom": null,
            "display": null,
            "flex": null,
            "flex_flow": null,
            "grid_area": null,
            "grid_auto_columns": null,
            "grid_auto_flow": null,
            "grid_auto_rows": null,
            "grid_column": null,
            "grid_gap": null,
            "grid_row": null,
            "grid_template_areas": null,
            "grid_template_columns": null,
            "grid_template_rows": null,
            "height": null,
            "justify_content": null,
            "justify_items": null,
            "left": null,
            "margin": null,
            "max_height": null,
            "max_width": null,
            "min_height": null,
            "min_width": null,
            "object_fit": null,
            "object_position": null,
            "order": null,
            "overflow": null,
            "overflow_x": null,
            "overflow_y": null,
            "padding": null,
            "right": null,
            "top": null,
            "visibility": null,
            "width": null
          }
        },
        "94a6258c42584b969ce809e57e65c0c3": {
          "model_module": "@jupyter-widgets/controls",
          "model_module_version": "1.5.0",
          "model_name": "HTMLModel",
          "state": {
            "_dom_classes": [],
            "_model_module": "@jupyter-widgets/controls",
            "_model_module_version": "1.5.0",
            "_model_name": "HTMLModel",
            "_view_count": null,
            "_view_module": "@jupyter-widgets/controls",
            "_view_module_version": "1.5.0",
            "_view_name": "HTMLView",
            "description": "",
            "description_tooltip": null,
            "layout": "IPY_MODEL_d01bd84e6bfc436189cfb8f0347ba449",
            "placeholder": "​",
            "style": "IPY_MODEL_01ebbda00191446dbea9ffebfcc5ca8d",
            "value": ""
          }
        },
        "97bd3343c64844edb465d9cfbefc8739": {
          "model_module": "@jupyter-widgets/controls",
          "model_module_version": "1.5.0",
          "model_name": "ProgressStyleModel",
          "state": {
            "_model_module": "@jupyter-widgets/controls",
            "_model_module_version": "1.5.0",
            "_model_name": "ProgressStyleModel",
            "_view_count": null,
            "_view_module": "@jupyter-widgets/base",
            "_view_module_version": "1.2.0",
            "_view_name": "StyleView",
            "bar_color": null,
            "description_width": ""
          }
        },
        "a71e471627d549b7a6ef45cfd36db19c": {
          "model_module": "@jupyter-widgets/controls",
          "model_module_version": "1.5.0",
          "model_name": "DescriptionStyleModel",
          "state": {
            "_model_module": "@jupyter-widgets/controls",
            "_model_module_version": "1.5.0",
            "_model_name": "DescriptionStyleModel",
            "_view_count": null,
            "_view_module": "@jupyter-widgets/base",
            "_view_module_version": "1.2.0",
            "_view_name": "StyleView",
            "description_width": ""
          }
        },
        "a883014af14e42548b2f7e25ddb7ff80": {
          "model_module": "@jupyter-widgets/controls",
          "model_module_version": "1.5.0",
          "model_name": "HTMLModel",
          "state": {
            "_dom_classes": [],
            "_model_module": "@jupyter-widgets/controls",
            "_model_module_version": "1.5.0",
            "_model_name": "HTMLModel",
            "_view_count": null,
            "_view_module": "@jupyter-widgets/controls",
            "_view_module_version": "1.5.0",
            "_view_name": "HTMLView",
            "description": "",
            "description_tooltip": null,
            "layout": "IPY_MODEL_b8dc706fb8ba41f8ad397d4fdf346983",
            "placeholder": "​",
            "style": "IPY_MODEL_abc3837efb8e4deaaa5f75e36f6dc517",
            "value": " 100.000% [14:40&lt;00:00]"
          }
        },
        "aaa83a89a45642c2bf67a76fa9dccb45": {
          "model_module": "@jupyter-widgets/controls",
          "model_module_version": "1.5.0",
          "model_name": "HTMLModel",
          "state": {
            "_dom_classes": [],
            "_model_module": "@jupyter-widgets/controls",
            "_model_module_version": "1.5.0",
            "_model_name": "HTMLModel",
            "_view_count": null,
            "_view_module": "@jupyter-widgets/controls",
            "_view_module_version": "1.5.0",
            "_view_name": "HTMLView",
            "description": "",
            "description_tooltip": null,
            "layout": "IPY_MODEL_c6e1919b9e844aa294a92fc8bc0ee5a9",
            "placeholder": "​",
            "style": "IPY_MODEL_71e742efc0ea4d669adb3c4dd3f85bd5",
            "value": " 0.600% [00:06&lt;15:20]"
          }
        },
        "abc3837efb8e4deaaa5f75e36f6dc517": {
          "model_module": "@jupyter-widgets/controls",
          "model_module_version": "1.5.0",
          "model_name": "DescriptionStyleModel",
          "state": {
            "_model_module": "@jupyter-widgets/controls",
            "_model_module_version": "1.5.0",
            "_model_name": "DescriptionStyleModel",
            "_view_count": null,
            "_view_module": "@jupyter-widgets/base",
            "_view_module_version": "1.2.0",
            "_view_name": "StyleView",
            "description_width": ""
          }
        },
        "b4f5f804170f49faab3ef8d540fcf117": {
          "model_module": "@jupyter-widgets/controls",
          "model_module_version": "1.5.0",
          "model_name": "FloatProgressModel",
          "state": {
            "_dom_classes": [],
            "_model_module": "@jupyter-widgets/controls",
            "_model_module_version": "1.5.0",
            "_model_name": "FloatProgressModel",
            "_view_count": null,
            "_view_module": "@jupyter-widgets/controls",
            "_view_module_version": "1.5.0",
            "_view_name": "ProgressView",
            "bar_style": "",
            "description": "",
            "description_tooltip": null,
            "layout": "IPY_MODEL_c0f414d8a0ef44bc9a6b19f9b4e7d8bb",
            "max": 100,
            "min": 0,
            "orientation": "horizontal",
            "style": "IPY_MODEL_d1e97e6c471645f79ef5632e807ff931",
            "value": 0.6
          }
        },
        "b8dc706fb8ba41f8ad397d4fdf346983": {
          "model_module": "@jupyter-widgets/base",
          "model_module_version": "1.2.0",
          "model_name": "LayoutModel",
          "state": {
            "_model_module": "@jupyter-widgets/base",
            "_model_module_version": "1.2.0",
            "_model_name": "LayoutModel",
            "_view_count": null,
            "_view_module": "@jupyter-widgets/base",
            "_view_module_version": "1.2.0",
            "_view_name": "LayoutView",
            "align_content": null,
            "align_items": null,
            "align_self": null,
            "border": null,
            "bottom": null,
            "display": null,
            "flex": null,
            "flex_flow": null,
            "grid_area": null,
            "grid_auto_columns": null,
            "grid_auto_flow": null,
            "grid_auto_rows": null,
            "grid_column": null,
            "grid_gap": null,
            "grid_row": null,
            "grid_template_areas": null,
            "grid_template_columns": null,
            "grid_template_rows": null,
            "height": null,
            "justify_content": null,
            "justify_items": null,
            "left": null,
            "margin": null,
            "max_height": null,
            "max_width": null,
            "min_height": null,
            "min_width": null,
            "object_fit": null,
            "object_position": null,
            "order": null,
            "overflow": null,
            "overflow_x": null,
            "overflow_y": null,
            "padding": null,
            "right": null,
            "top": null,
            "visibility": null,
            "width": null
          }
        },
        "c0f414d8a0ef44bc9a6b19f9b4e7d8bb": {
          "model_module": "@jupyter-widgets/base",
          "model_module_version": "1.2.0",
          "model_name": "LayoutModel",
          "state": {
            "_model_module": "@jupyter-widgets/base",
            "_model_module_version": "1.2.0",
            "_model_name": "LayoutModel",
            "_view_count": null,
            "_view_module": "@jupyter-widgets/base",
            "_view_module_version": "1.2.0",
            "_view_name": "LayoutView",
            "align_content": null,
            "align_items": null,
            "align_self": null,
            "border": null,
            "bottom": null,
            "display": null,
            "flex": null,
            "flex_flow": null,
            "grid_area": null,
            "grid_auto_columns": null,
            "grid_auto_flow": null,
            "grid_auto_rows": null,
            "grid_column": null,
            "grid_gap": null,
            "grid_row": null,
            "grid_template_areas": null,
            "grid_template_columns": null,
            "grid_template_rows": null,
            "height": null,
            "justify_content": null,
            "justify_items": null,
            "left": null,
            "margin": null,
            "max_height": null,
            "max_width": null,
            "min_height": null,
            "min_width": null,
            "object_fit": null,
            "object_position": null,
            "order": null,
            "overflow": null,
            "overflow_x": null,
            "overflow_y": null,
            "padding": null,
            "right": null,
            "top": null,
            "visibility": null,
            "width": null
          }
        },
        "c6e1919b9e844aa294a92fc8bc0ee5a9": {
          "model_module": "@jupyter-widgets/base",
          "model_module_version": "1.2.0",
          "model_name": "LayoutModel",
          "state": {
            "_model_module": "@jupyter-widgets/base",
            "_model_module_version": "1.2.0",
            "_model_name": "LayoutModel",
            "_view_count": null,
            "_view_module": "@jupyter-widgets/base",
            "_view_module_version": "1.2.0",
            "_view_name": "LayoutView",
            "align_content": null,
            "align_items": null,
            "align_self": null,
            "border": null,
            "bottom": null,
            "display": null,
            "flex": null,
            "flex_flow": null,
            "grid_area": null,
            "grid_auto_columns": null,
            "grid_auto_flow": null,
            "grid_auto_rows": null,
            "grid_column": null,
            "grid_gap": null,
            "grid_row": null,
            "grid_template_areas": null,
            "grid_template_columns": null,
            "grid_template_rows": null,
            "height": null,
            "justify_content": null,
            "justify_items": null,
            "left": null,
            "margin": null,
            "max_height": null,
            "max_width": null,
            "min_height": null,
            "min_width": null,
            "object_fit": null,
            "object_position": null,
            "order": null,
            "overflow": null,
            "overflow_x": null,
            "overflow_y": null,
            "padding": null,
            "right": null,
            "top": null,
            "visibility": null,
            "width": null
          }
        },
        "d01bd84e6bfc436189cfb8f0347ba449": {
          "model_module": "@jupyter-widgets/base",
          "model_module_version": "1.2.0",
          "model_name": "LayoutModel",
          "state": {
            "_model_module": "@jupyter-widgets/base",
            "_model_module_version": "1.2.0",
            "_model_name": "LayoutModel",
            "_view_count": null,
            "_view_module": "@jupyter-widgets/base",
            "_view_module_version": "1.2.0",
            "_view_name": "LayoutView",
            "align_content": null,
            "align_items": null,
            "align_self": null,
            "border": null,
            "bottom": null,
            "display": null,
            "flex": null,
            "flex_flow": null,
            "grid_area": null,
            "grid_auto_columns": null,
            "grid_auto_flow": null,
            "grid_auto_rows": null,
            "grid_column": null,
            "grid_gap": null,
            "grid_row": null,
            "grid_template_areas": null,
            "grid_template_columns": null,
            "grid_template_rows": null,
            "height": null,
            "justify_content": null,
            "justify_items": null,
            "left": null,
            "margin": null,
            "max_height": null,
            "max_width": null,
            "min_height": null,
            "min_width": null,
            "object_fit": null,
            "object_position": null,
            "order": null,
            "overflow": null,
            "overflow_x": null,
            "overflow_y": null,
            "padding": null,
            "right": null,
            "top": null,
            "visibility": null,
            "width": null
          }
        },
        "d1e97e6c471645f79ef5632e807ff931": {
          "model_module": "@jupyter-widgets/controls",
          "model_module_version": "1.5.0",
          "model_name": "ProgressStyleModel",
          "state": {
            "_model_module": "@jupyter-widgets/controls",
            "_model_module_version": "1.5.0",
            "_model_name": "ProgressStyleModel",
            "_view_count": null,
            "_view_module": "@jupyter-widgets/base",
            "_view_module_version": "1.2.0",
            "_view_name": "StyleView",
            "bar_color": null,
            "description_width": ""
          }
        }
      }
    }
  },
  "nbformat": 4,
  "nbformat_minor": 0
}

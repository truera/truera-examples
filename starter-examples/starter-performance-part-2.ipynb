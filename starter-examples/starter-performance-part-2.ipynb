{
  "cells": [
    {
      "attachments": {},
      "cell_type": "markdown",
      "id": "bf792a77",
      "metadata": {
        "id": "bf792a77"
      },
      "source": [
        "# Guided Exercise: Performance Part 2\n",
        "[![Open In Colab](https://colab.research.google.com/assets/colab-badge.svg)](https://colab.research.google.com/github/truera/truera-examples/blob/release/prod/starter-examples/starter-performance-part-2.ipynb)\n",
        "\n",
        "This is a continuation of part 1. If you missed it:     [![Open In Colab](https://colab.research.google.com/assets/colab-badge.svg)](https://colab.research.google.com/github/truera/truera-examples/blob/release/prod/starter-examples/starter-performance-part-1.ipynb)\n",
        "\n",
        "In this tutorial, you will use TruEra to make performance improvements to the model created in part 1 in a structured and methodical way!\n",
        "\n",
        "#### Goals 🎯\n",
        "1. view the results of performance and feature importance tests created in part 1\n",
        "2. Find actionable issues with the model created in part 1\n",
        "3. Mitigate these issues and re-upload your model to TruEra.\n",
        "4. Retest the new model and confirm the effectivenesss of the mitigation strategy.\n",
        "\n",
        "### First, set the credentials for your TruEra deployment.\n",
        "\n",
        "If you don't have credentials yet, get them instantly by signing up for free at: https://www.truera.com"
      ]
    },
    {
      "cell_type": "code",
      "execution_count": null,
      "id": "61f77925",
      "metadata": {
        "id": "61f77925"
      },
      "outputs": [],
      "source": [
        "#connection details\n",
        "TRUERA_URL = \"https://app.truera.net\"\n",
        "AUTH_TOKEN = \"\""
      ]
    },
    {
      "attachments": {},
      "cell_type": "markdown",
      "id": "dbea14e2",
      "metadata": {
        "id": "dbea14e2"
      },
      "source": [
        "### Install the required packages for running in colab"
      ]
    },
    {
      "cell_type": "code",
      "execution_count": null,
      "id": "b882320a",
      "metadata": {
        "colab": {
          "base_uri": "https://localhost:8080/"
        },
        "id": "b882320a",
        "outputId": "d2cbd4ca-92df-4c88-8904-5fbeac2ace1c"
      },
      "outputs": [],
      "source": [
        "! pip install --upgrade truera"
      ]
    },
    {
      "attachments": {},
      "cell_type": "markdown",
      "id": "e8ede3b0",
      "metadata": {
        "id": "e8ede3b0"
      },
      "source": [
        "### From here, run the rest of the notebook and follow the analysis."
      ]
    },
    {
      "cell_type": "code",
      "execution_count": null,
      "id": "887135e4",
      "metadata": {
        "id": "887135e4"
      },
      "outputs": [],
      "source": [
        "import pandas as pd\n",
        "import xgboost as xgb\n",
        "import logging\n",
        "\n",
        "from truera.client.truera_workspace import TrueraWorkspace\n",
        "from truera.client.truera_authentication import TokenAuthentication\n",
        "from truera.client.ingestion import ModelOutputContext, ColumnSpec\n",
        "\n",
        "auth = TokenAuthentication(AUTH_TOKEN)\n",
        "tru = TrueraWorkspace(TRUERA_URL, auth)"
      ]
    },
    {
      "attachments": {},
      "cell_type": "markdown",
      "id": "5806fedf",
      "metadata": {
        "id": "5806fedf"
      },
      "source": [
        "### First, let's review the test results from part 1."
      ]
    },
    {
      "cell_type": "code",
      "execution_count": null,
      "id": "743759f7",
      "metadata": {
        "colab": {
          "base_uri": "https://localhost:8080/",
          "height": 159
        },
        "id": "743759f7",
        "outputId": "20dd02c2-49d0-4c63-85b6-937a2db769f5"
      },
      "outputs": [],
      "source": [
        "\n",
        "# set project and data collection\n",
        "project_name = \"Starter Example Companion - Performance\"\n",
        "tru.set_project(project_name)\n",
        "tru.set_data_collection(\"Data Collection v1\")\n",
        "\n",
        "# get model results\n",
        "tru.set_model(\"model_1\")\n",
        "tru.tester.get_model_test_results(test_types=[\"performance\"])"
      ]
    },
    {
      "attachments": {},
      "cell_type": "markdown",
      "id": "d89c5145",
      "metadata": {
        "id": "d89c5145"
      },
      "source": [
        "### 2/3 tests fail.\n",
        "\n",
        "### But can we narrow down the problem?"
      ]
    },
    {
      "cell_type": "code",
      "execution_count": null,
      "id": "90acb7b6",
      "metadata": {
        "colab": {
          "base_uri": "https://localhost:8080/"
        },
        "id": "90acb7b6",
        "outputId": "4e920a28-6681-4b07-edbe-4b02364ec055"
      },
      "outputs": [],
      "source": [
        "train_split_name = \"San Francisco\"\n",
        "test_split_name = \"Seattle\"\n",
        "\n",
        "# generate the explainer and compute performance\n",
        "explainer = tru.get_explainer(test_split_name, comparison_data_splits=[train_split_name])\n",
        "\n",
        "explainer.compute_model_score_instability(score_type=None, use_difference_of_means=False)"
      ]
    },
    {
      "attachments": {},
      "cell_type": "markdown",
      "id": "f86f5342",
      "metadata": {
        "id": "f86f5342"
      },
      "source": [
        "One common reason for overfitting is a distributional shift between train and test splits. Are there distributional shifts in the features?\n",
        "\n",
        "Since our features are on different scales, we should choose a distance metric that is scale invariant."
      ]
    },
    {
      "cell_type": "code",
      "execution_count": null,
      "id": "7ec1e4ba",
      "metadata": {
        "colab": {
          "base_uri": "https://localhost:8080/",
          "height": 424
        },
        "id": "7ec1e4ba",
        "outputId": "cea06909-3d96-4c45-85d5-25a73e793741"
      },
      "outputs": [],
      "source": [
        "explainer.compute_feature_contributors_to_instability().T.sort_values(by=\"San Francisco\", ascending = False)"
      ]
    },
    {
      "attachments": {},
      "cell_type": "markdown",
      "id": "9a3b1550",
      "metadata": {
        "id": "9a3b1550"
      },
      "source": [
        "Latitude and longitude have by far the largest distributional shift between San Francisco and Seattle."
      ]
    },
    {
      "attachments": {},
      "cell_type": "markdown",
      "id": "557f4f34",
      "metadata": {
        "id": "557f4f34"
      },
      "source": [
        "### Analyze root cause of problem and attempt to mitigate issue\n",
        "\n",
        "Example possible causes:\n",
        "1. Mislabeled points\n",
        "2. Train/test not from same distribution\n",
        "3. Data pipeline error\n",
        "4. Too many unimportant features\n",
        "5. Insufficient test data\n",
        "6. Target leakage in the training process\n",
        "\n",
        "We can identify two issues:\n",
        "\n",
        "2: We corroborated through finding (1) high error segments (2) features driving the error and (3) comparing the distance between their distributions, that the distributional shift of latitude and longitude is a large source of error in Seattle.\n",
        "\n",
        "4: Signaled by the feature importance test, the number of unimportant features that may be causing our overfitting.\n",
        "\n",
        "Let's address these issues one at a time. First we can mitigate the error from latitude and longitude.\n",
        "\n",
        "To do so, we will create new features for each city to be the distance from city center (by latitude, longitude and pairwise)."
      ]
    },
    {
      "cell_type": "code",
      "execution_count": null,
      "id": "db724b74",
      "metadata": {
        "colab": {
          "base_uri": "https://localhost:8080/",
          "height": 248
        },
        "id": "db724b74",
        "outputId": "d4e563e8-a1fd-4ee3-b34d-1203a0f5e67f"
      },
      "outputs": [],
      "source": [
        "# load data\n",
        "san_francisco = pd.read_csv('https://truera-examples.s3.us-west-2.amazonaws.com/data/starter-performance/San_Francisco.csv')\n",
        "seattle = pd.read_csv('https://truera-examples.s3.us-west-2.amazonaws.com/data/starter-performance/Seattle.csv')\n",
        "\n",
        "#make all float\n",
        "san_francisco = san_francisco.astype(float).reset_index(names=\"id\")\n",
        "seattle = seattle.astype(float).reset_index(names=\"id\")\n",
        "\n",
        "import math\n",
        "\n",
        "# create a generalizable feature from lat and lon, distance from city center\n",
        "def create_lat_lon_features(df, city_center_lat, city_center_lon):\n",
        "\n",
        "  # calculate the distance from the mean latitude and longitude values\n",
        "\n",
        "  df[\"lat_dist\"] = df[\"latitude\"].apply(lambda x: abs(x - city_center_lat))\n",
        "  df[\"lon_dist\"] = df[\"longitude\"].apply(lambda x: abs(x - city_center_lon))\n",
        "\n",
        "  # calculate the pairwise Euclidean distance between each latitude and longitude\n",
        "  df[\"lat_lon_dist\"] = df.apply(lambda x: math.sqrt(x[\"lat_dist\"]**2 + x[\"lon_dist\"]**2), axis=1)\n",
        "  df = df.drop(['latitude','longitude'], axis = 1)\n",
        "\n",
        "  # return the modified dataframe\n",
        "  return df\n",
        "\n",
        "san_francisco_v2 = create_lat_lon_features(san_francisco, 37.7749, -122.4194)\n",
        "seattle_v2 = create_lat_lon_features(seattle, 47.6062, -122.3321)\n",
        "\n",
        "xgb_reg = xgb.XGBRegressor(eta = 0.2, max_depth = 4)\n",
        "xgb_reg.fit(san_francisco_v2.drop(['price','id'], axis = 1), san_francisco_v2.price)"
      ]
    },
    {
      "cell_type": "code",
      "execution_count": null,
      "id": "9fb0016b",
      "metadata": {
        "colab": {
          "base_uri": "https://localhost:8080/"
        },
        "id": "9fb0016b",
        "outputId": "de4e0722-8584-4354-ca8c-83c1ccfd6257"
      },
      "outputs": [],
      "source": [
        "# since we changed our feature space, we need to add a new data collection\n",
        "tru.add_data_collection(\"Data Collection v2\")\n",
        "\n",
        "# add data to the collection we just created\n",
        "tru.add_data(\n",
        "    data = san_francisco_v2,\n",
        "    data_split_name = \"San Francisco\",\n",
        "    column_spec=ColumnSpec(\n",
        "        id_col_name = \"id\",\n",
        "        pre_data_col_names=list(san_francisco_v2.columns.drop([\"id\",\"price\"])),\n",
        "        label_col_names=\"price\")\n",
        ")\n",
        "tru.add_data(\n",
        "    data = seattle_v2,\n",
        "    data_split_name = \"Seattle\",\n",
        "    column_spec=ColumnSpec(\n",
        "        id_col_name = \"id\",\n",
        "        pre_data_col_names=list(seattle_v2.columns.drop([\"id\",\"price\"])),\n",
        "        label_col_names=\"price\")\n",
        ")\n",
        "# add model\n",
        "tru.add_python_model(\"model_2\", xgb_reg, train_split_name=\"San Francisco\", train_parameters = {\"model_type\":\"xgb.XGBRegressor\", \"eta\":0.2, \"max_depth\":4})"
      ]
    },
    {
      "cell_type": "code",
      "execution_count": null,
      "id": "95b6625a",
      "metadata": {
        "colab": {
          "base_uri": "https://localhost:8080/",
          "height": 179
        },
        "id": "95b6625a",
        "outputId": "85e773bb-5fc1-4363-f964-58f0690d4040"
      },
      "outputs": [],
      "source": [
        "tru.tester.get_model_test_results(test_types=[\"performance\"])"
      ]
    },
    {
      "attachments": {},
      "cell_type": "markdown",
      "id": "e0eb875e",
      "metadata": {
        "id": "e0eb875e"
      },
      "source": [
        "### 🪄 Huzzah! Using the Test Harness as our guide, we quickly diagnosed the true cause of overfitting and improved performance."
      ]
    }
  ],
  "metadata": {
    "colab": {
      "collapsed_sections": [
        "dbea14e2"
      ],
      "provenance": []
    },
    "gpuClass": "standard",
    "kernelspec": {
      "display_name": "Python 3.10.8 ('eap_demo')",
      "language": "python",
      "name": "python3"
    },
    "language_info": {
      "codemirror_mode": {
        "name": "ipython",
        "version": 3
      },
      "file_extension": ".py",
      "mimetype": "text/x-python",
      "name": "python",
      "nbconvert_exporter": "python",
      "pygments_lexer": "ipython3",
      "version": "3.8.15"
    },
    "latex_envs": {
      "LaTeX_envs_menu_present": true,
      "autoclose": false,
      "autocomplete": true,
      "bibliofile": "biblio.bib",
      "cite_by": "apalike",
      "current_citInitial": 1,
      "eqLabelWithNumbers": true,
      "eqNumInitial": 1,
      "hotkeys": {
        "equation": "Ctrl-E",
        "itemize": "Ctrl-I"
      },
      "labels_anchors": false,
      "latex_user_defs": false,
      "report_style_numbering": false,
      "user_envs_cfg": false
    },
    "toc": {
      "base_numbering": 1,
      "nav_menu": {},
      "number_sections": true,
      "sideBar": true,
      "skip_h1_title": false,
      "title_cell": "Table of Contents",
      "title_sidebar": "Contents",
      "toc_cell": false,
      "toc_position": {},
      "toc_section_display": true,
      "toc_window_display": false
    },
    "vscode": {
      "interpreter": {
        "hash": "da3924fd47657b295ea4ff31ffc159b50bdc67549cd17755b5462d5d6bda3f74"
      }
    }
  },
  "nbformat": 4,
  "nbformat_minor": 5
}

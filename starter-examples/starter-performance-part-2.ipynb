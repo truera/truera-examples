{
 "cells": [
  {
   "attachments": {},
   "cell_type": "markdown",
   "id": "bf792a77",
   "metadata": {
    "id": "bf792a77"
   },
   "source": [
    "# Guided Exercise: Performance Part 2\n",
    "\n",
    "### Goals 🎯\n",
    "In this tutorial, you will use TruEra to make performance improvements to the model created in part 1 in a structured and methodical way!\n",
    "\n",
    "If you missed part one and need to go back:     [![Open In Colab](https://colab.research.google.com/assets/colab-badge.svg)](https://colab.research.google.com/github/truera/truera-examples/blob/release/rc-1.37/starter-examples/starter-performance-part-1.ipynb)\n",
    "\n",
    "In this tutorial, you will:\n",
    "1. view the results of performance and feature importance tests created in part 1\n",
    "2. Find actionable issues with the model created in part 1\n",
    "3. Mitigate these issues and re-upload your model to TruEra.\n",
    "4. Retest the new model and confirm the effectivenesss of the mitigation strategy.\n",
    "\n",
    "### First, set the credentials for your TruEra deployment.\n",
    "\n",
    "If you don't have credentials yet, get them instantly by signing up for free at: https://www.truera.com"
   ]
  },
  {
   "cell_type": "code",
   "execution_count": 1,
   "id": "61f77925",
   "metadata": {
    "execution": {
     "iopub.execute_input": "2023-08-03T22:27:40.182016Z",
     "iopub.status.busy": "2023-08-03T22:27:40.181425Z",
     "iopub.status.idle": "2023-08-03T22:27:40.192899Z",
     "shell.execute_reply": "2023-08-03T22:27:40.191871Z",
     "shell.execute_reply.started": "2023-08-03T22:27:40.181983Z"
    },
    "id": "61f77925"
   },
   "outputs": [],
   "source": [
    "# connection details\n",
    "TRUERA_URL = \"https://app.truera.net\"\n",
    "AUTH_TOKEN = \"\""
   ]
  },
  {
   "attachments": {},
   "cell_type": "markdown",
   "id": "dbea14e2",
   "metadata": {
    "id": "dbea14e2"
   },
   "source": [
    "### Install the required packages for running in colab"
   ]
  },
  {
   "cell_type": "code",
   "execution_count": 2,
   "id": "b882320a",
   "metadata": {
    "colab": {
     "base_uri": "https://localhost:8080/"
    },
    "execution": {
     "iopub.execute_input": "2023-08-03T22:27:40.195087Z",
     "iopub.status.busy": "2023-08-03T22:27:40.194458Z",
     "iopub.status.idle": "2023-08-03T22:27:40.201283Z",
     "shell.execute_reply": "2023-08-03T22:27:40.199520Z",
     "shell.execute_reply.started": "2023-08-03T22:27:40.195022Z"
    },
    "id": "b882320a",
    "outputId": "d2cbd4ca-92df-4c88-8904-5fbeac2ace1c"
   },
   "outputs": [],
   "source": [
    "#! pip install truera"
   ]
  },
  {
   "cell_type": "code",
   "execution_count": 3,
   "id": "ece44227-14c3-4d13-9119-5e6c5baea0b0",
   "metadata": {
    "execution": {
     "iopub.execute_input": "2023-08-03T22:27:40.204145Z",
     "iopub.status.busy": "2023-08-03T22:27:40.203722Z",
     "iopub.status.idle": "2023-08-03T22:27:43.608851Z",
     "shell.execute_reply": "2023-08-03T22:27:43.608083Z",
     "shell.execute_reply.started": "2023-08-03T22:27:40.204115Z"
    }
   },
   "outputs": [
    {
     "name": "stderr",
     "output_type": "stream",
     "text": [
      "INFO:truera.client.remote_truera_workspace:Connecting to 'http://localhost:8000'\n"
     ]
    }
   ],
   "source": [
    "# delete this cell\n",
    "# uncomment out install of truera\n",
    "# uncomment out workspace/auth\n",
    "# clear cell output\n",
    "\n",
    "import os\n",
    "import sys\n",
    "\n",
    "os.chdir(\"/Users/davidkurokawa/Work/code/truera/truera/python\")\n",
    "if \"/Users/davidkurokawa/Work/code/truera/truera/python\" not in sys.path:\n",
    "    sys.path.append(\"/Users/davidkurokawa/Work/code/truera/truera/python\")\n",
    "\n",
    "from truera.client.truera_authentication import BasicAuthentication, TokenAuthentication\n",
    "from truera.client.truera_workspace import TrueraWorkspace\n",
    "\n",
    "TRUERA_URL = \"http://localhost:8000\"\n",
    "AUTH_TOKEN = \"\"\n",
    "tru = TrueraWorkspace(TRUERA_URL, BasicAuthentication(\"ailens\", \"ailens123\"))"
   ]
  },
  {
   "attachments": {},
   "cell_type": "markdown",
   "id": "e8ede3b0",
   "metadata": {
    "id": "e8ede3b0"
   },
   "source": [
    "### From here, run the rest of the notebook and follow the analysis."
   ]
  },
  {
   "cell_type": "code",
   "execution_count": 4,
   "id": "887135e4",
   "metadata": {
    "execution": {
     "iopub.execute_input": "2023-08-03T22:27:43.612516Z",
     "iopub.status.busy": "2023-08-03T22:27:43.612083Z",
     "iopub.status.idle": "2023-08-03T22:27:43.702742Z",
     "shell.execute_reply": "2023-08-03T22:27:43.701212Z",
     "shell.execute_reply.started": "2023-08-03T22:27:43.612490Z"
    },
    "id": "887135e4"
   },
   "outputs": [],
   "source": [
    "import logging\n",
    "\n",
    "import pandas as pd\n",
    "import xgboost as xgb\n",
    "from truera.client.ingestion import ColumnSpec, ModelOutputContext\n",
    "from truera.client.truera_authentication import TokenAuthentication\n",
    "from truera.client.truera_workspace import TrueraWorkspace\n",
    "\n",
    "#auth = TokenAuthentication(AUTH_TOKEN)\n",
    "#tru = TrueraWorkspace(TRUERA_URL, auth)"
   ]
  },
  {
   "attachments": {},
   "cell_type": "markdown",
   "id": "5806fedf",
   "metadata": {
    "id": "5806fedf"
   },
   "source": [
    "### First, let's review the test results from part 1."
   ]
  },
  {
   "cell_type": "code",
   "execution_count": 5,
   "id": "743759f7",
   "metadata": {
    "colab": {
     "base_uri": "https://localhost:8080/",
     "height": 159
    },
    "execution": {
     "iopub.execute_input": "2023-08-03T22:27:43.704145Z",
     "iopub.status.busy": "2023-08-03T22:27:43.703729Z",
     "iopub.status.idle": "2023-08-03T22:27:48.223593Z",
     "shell.execute_reply": "2023-08-03T22:27:48.222815Z",
     "shell.execute_reply.started": "2023-08-03T22:27:43.704118Z"
    },
    "id": "743759f7",
    "outputId": "20dd02c2-49d0-4c63-85b6-937a2db769f5"
   },
   "outputs": [
    {
     "name": "stderr",
     "output_type": "stream",
     "text": [
      "INFO:truera.client.remote_truera_workspace:Data collection in remote environment is now set to \"Data Collection v1\". \n",
      "INFO:truera.client.remote_truera_workspace:Setting remote model context to \"model_1\".\n"
     ]
    },
    {
     "data": {
      "text/html": [
       "\n",
       "        <html>\n",
       "        <head>\n",
       "        <style>\n",
       "        table, th, td {\n",
       "            border-radius: 5px;\n",
       "        }\n",
       "        .header {\n",
       "            font-weight: bold;\n",
       "            font-size: 14px;\n",
       "        }\n",
       "        caption {\n",
       "            font-weight: bolder;\n",
       "            font-size: 16px;\n",
       "            background-color: powderblue;\n",
       "            color: black;\n",
       "            border-radius: 5px;\n",
       "        }\n",
       "        \n",
       "            .PASSED {\n",
       "                color: black;\n",
       "                background-color: palegreen;\n",
       "            }\n",
       "            .WARNING {\n",
       "                color: black;\n",
       "                background-color: yellow;\n",
       "            }\n",
       "            .FAILED {\n",
       "                color: black;\n",
       "                background-color: pink;\n",
       "            }\n",
       "            \n",
       "        </style>\n",
       "        </head>\n",
       "        <body>\n",
       "        <table>\n",
       "            <caption>Performance Tests Results for Model \"model_1\"</caption>\n",
       "            <tr class=\"header\"><td></td><td>Name</td><td>Split</td><td>Segment</td><td>Metric</td><td>Score</td><td>Navigate</td></tr>\n",
       "            <tr><td >❌</td><td >Relative MAE Test</td><td >Seattle</td><td >ALL POINTS</td><td >MAE</td><td class=\"FAILED\">110.2694</td><td ><a href=\"http://localhost:8000/home/p/Starter Example Companion - Performance/m/model_1/t/performance?splitId=d5d0db26-e2ee-45d4-9573-1ab96c0b5a20&modelIds=ecf8602c-8bf8-4d2d-8df4-2299284a2d91&\" target=\"_blank\">Explore in UI</a></td></tr><tr><td >❌</td><td >RMSE Test</td><td >Seattle</td><td >ALL POINTS</td><td >RMSE</td><td class=\"FAILED\">154.0107</td><td ><a href=\"http://localhost:8000/home/p/Starter Example Companion - Performance/m/model_1/t/performance?splitId=d5d0db26-e2ee-45d4-9573-1ab96c0b5a20&modelIds=ecf8602c-8bf8-4d2d-8df4-2299284a2d91&\" target=\"_blank\">Explore in UI</a></td></tr><tr><td >✅</td><td >RMSE Test</td><td >San Francisco</td><td >ALL POINTS</td><td >RMSE</td><td class=\"PASSED\">75.6847</td><td ><a href=\"http://localhost:8000/home/p/Starter Example Companion - Performance/m/model_1/t/performance?splitId=c835af3d-98f9-4c5d-8b9c-6b852e5e82dd&modelIds=ecf8602c-8bf8-4d2d-8df4-2299284a2d91&\" target=\"_blank\">Explore in UI</a></td></tr>\n",
       "        </table>\n",
       "        </body>\n",
       "        </html>\n",
       "        "
      ],
      "text/plain": [
       "<truera.client.intelligence.model_tests.ModelTestResults at 0x7f8a3c3ff8e0>"
      ]
     },
     "execution_count": 5,
     "metadata": {},
     "output_type": "execute_result"
    }
   ],
   "source": [
    "# set project and data collection\n",
    "project_name = \"Starter Example Companion - Performance\"\n",
    "tru.set_project(project_name)\n",
    "tru.set_data_collection(\"Data Collection v1\")\n",
    "\n",
    "# get model results\n",
    "tru.set_model(\"model_1\")\n",
    "tru.tester.get_model_test_results(test_types=[\"performance\"])"
   ]
  },
  {
   "attachments": {},
   "cell_type": "markdown",
   "id": "d89c5145",
   "metadata": {
    "id": "d89c5145"
   },
   "source": [
    "### 2/3 tests fail.\n",
    "\n",
    "### But can we narrow down the problem?"
   ]
  },
  {
   "cell_type": "code",
   "execution_count": 6,
   "id": "90acb7b6",
   "metadata": {
    "colab": {
     "base_uri": "https://localhost:8080/"
    },
    "execution": {
     "iopub.execute_input": "2023-08-03T22:27:48.225236Z",
     "iopub.status.busy": "2023-08-03T22:27:48.224795Z",
     "iopub.status.idle": "2023-08-03T22:28:02.854004Z",
     "shell.execute_reply": "2023-08-03T22:28:02.852831Z",
     "shell.execute_reply.started": "2023-08-03T22:27:48.225208Z"
    },
    "id": "90acb7b6",
    "outputId": "4e920a28-6681-4b07-edbe-4b02364ec055"
   },
   "outputs": [
    {
     "name": "stderr",
     "output_type": "stream",
     "text": [
      "INFO:truera.client.truera_workspace:Download temp_dir: /var/folders/pg/2f8qcnr92cx4rcwpvm_x2ckc0000gn/T/tmpglyvi4m9\n",
      "INFO:truera.client.truera_workspace:Syncing data collection \"Data Collection v1\" to local.\n",
      "INFO:truera.client.local.local_truera_workspace:Data collection in local environment is now set to \"Data Collection v1\". \n",
      "INFO:truera.client.truera_workspace:Syncing data split \"San Francisco\" to local.\n",
      "INFO:truera.client.local.local_truera_workspace:Data split \"San Francisco\" is added to local data collection \"Data Collection v1\", and set as the data split for the workspace context.\n",
      "INFO:truera.client.truera_workspace:Syncing data split \"Seattle\" to local.\n",
      "INFO:truera.client.local.local_truera_workspace:Data split \"Seattle\" is added to local data collection \"Data Collection v1\", and set as the data split for the workspace context.\n",
      "INFO:truera.client.truera_workspace:Syncing model model_1 to local.\n",
      "INFO:truera.client.local.local_truera_workspace:Model \"model_1\" is added and associated with local data collection \"Data Collection v1\". \"model_1\" is set as the model for the workspace context.\n",
      "INFO:truera.client.truera_workspace:Syncing segments groups from remote to local.\n",
      "INFO:truera.client.local.local_truera_workspace:The previous data collection (\"Data Collection v1\") and its associated data splits and/or models have been cleared from the local environment workspace context.\n",
      "INFO:truera.client.local.local_truera_workspace:Data collection in local environment is now set to \"Data Collection v1\". \n",
      "INFO:truera.client.local.local_truera_workspace:Setting local model context to \"model_1\".\n"
     ]
    },
    {
     "data": {
      "text/plain": [
       "30.131076228459097"
      ]
     },
     "execution_count": 6,
     "metadata": {},
     "output_type": "execute_result"
    }
   ],
   "source": [
    "train_split_name = \"San Francisco\"\n",
    "test_split_name = \"Seattle\"\n",
    "\n",
    "# generate the explainer and compute performance\n",
    "explainer = tru.get_explainer(test_split_name, comparison_data_splits=[train_split_name])\n",
    "\n",
    "explainer.compute_model_score_instability(score_type=None, use_difference_of_means=False)"
   ]
  },
  {
   "attachments": {},
   "cell_type": "markdown",
   "id": "f86f5342",
   "metadata": {
    "id": "f86f5342"
   },
   "source": [
    "One common reason for overfitting is a distributional shift between train and test splits. Are there distributional shifts in the features?\n",
    "\n",
    "Since our features are on different scales, we should choose a distance metric that is scale invariant."
   ]
  },
  {
   "cell_type": "code",
   "execution_count": 7,
   "id": "7ec1e4ba",
   "metadata": {
    "colab": {
     "base_uri": "https://localhost:8080/",
     "height": 424
    },
    "execution": {
     "iopub.execute_input": "2023-08-03T22:28:02.856301Z",
     "iopub.status.busy": "2023-08-03T22:28:02.855866Z",
     "iopub.status.idle": "2023-08-03T22:28:06.404211Z",
     "shell.execute_reply": "2023-08-03T22:28:06.403385Z",
     "shell.execute_reply.started": "2023-08-03T22:28:02.856272Z"
    },
    "id": "7ec1e4ba",
    "outputId": "cea06909-3d96-4c45-85d5-25a73e793741"
   },
   "outputs": [
    {
     "name": "stderr",
     "output_type": "stream",
     "text": [
      "WARNING:truera.client.local.intelligence.local_explainer:Background split for `data_collection` \"Data Collection v1\" is currently not set. Setting it to \"San Francisco\"\n"
     ]
    },
    {
     "data": {
      "text/html": [
       "<div>\n",
       "<style scoped>\n",
       "    .dataframe tbody tr th:only-of-type {\n",
       "        vertical-align: middle;\n",
       "    }\n",
       "\n",
       "    .dataframe tbody tr th {\n",
       "        vertical-align: top;\n",
       "    }\n",
       "\n",
       "    .dataframe thead th {\n",
       "        text-align: right;\n",
       "    }\n",
       "</style>\n",
       "<table border=\"1\" class=\"dataframe\">\n",
       "  <thead>\n",
       "    <tr style=\"text-align: right;\">\n",
       "      <th></th>\n",
       "      <th>San Francisco</th>\n",
       "    </tr>\n",
       "  </thead>\n",
       "  <tbody>\n",
       "    <tr>\n",
       "      <th>latitude</th>\n",
       "      <td>0.136916</td>\n",
       "    </tr>\n",
       "    <tr>\n",
       "      <th>bedrooms</th>\n",
       "      <td>0.096992</td>\n",
       "    </tr>\n",
       "    <tr>\n",
       "      <th>longitude</th>\n",
       "      <td>0.090943</td>\n",
       "    </tr>\n",
       "    <tr>\n",
       "      <th>availability_90</th>\n",
       "      <td>0.080386</td>\n",
       "    </tr>\n",
       "    <tr>\n",
       "      <th>reviews_per_month</th>\n",
       "      <td>0.056922</td>\n",
       "    </tr>\n",
       "    <tr>\n",
       "      <th>...</th>\n",
       "      <td>...</td>\n",
       "    </tr>\n",
       "    <tr>\n",
       "      <th>features_nan</th>\n",
       "      <td>0.000000</td>\n",
       "    </tr>\n",
       "    <tr>\n",
       "      <th>amenities_Children’s_dinnerware</th>\n",
       "      <td>0.000000</td>\n",
       "    </tr>\n",
       "    <tr>\n",
       "      <th>amenities_Stair_gates</th>\n",
       "      <td>0.000000</td>\n",
       "    </tr>\n",
       "    <tr>\n",
       "      <th>amenities_Washer_/_Dryer</th>\n",
       "      <td>0.000000</td>\n",
       "    </tr>\n",
       "    <tr>\n",
       "      <th>property_type_Yurt</th>\n",
       "      <td>0.000000</td>\n",
       "    </tr>\n",
       "  </tbody>\n",
       "</table>\n",
       "<p>117 rows × 1 columns</p>\n",
       "</div>"
      ],
      "text/plain": [
       "                                 San Francisco\n",
       "latitude                              0.136916\n",
       "bedrooms                              0.096992\n",
       "longitude                             0.090943\n",
       "availability_90                       0.080386\n",
       "reviews_per_month                     0.056922\n",
       "...                                        ...\n",
       "features_nan                          0.000000\n",
       "amenities_Children’s_dinnerware       0.000000\n",
       "amenities_Stair_gates                 0.000000\n",
       "amenities_Washer_/_Dryer              0.000000\n",
       "property_type_Yurt                    0.000000\n",
       "\n",
       "[117 rows x 1 columns]"
      ]
     },
     "execution_count": 7,
     "metadata": {},
     "output_type": "execute_result"
    }
   ],
   "source": [
    "explainer.compute_feature_contributors_to_instability().T.sort_values(by=\"San Francisco\", ascending=False)"
   ]
  },
  {
   "attachments": {},
   "cell_type": "markdown",
   "id": "9a3b1550",
   "metadata": {
    "id": "9a3b1550"
   },
   "source": [
    "Latitude and longitude have by far the largest distributional shift between San Francisco and Seattle."
   ]
  },
  {
   "attachments": {},
   "cell_type": "markdown",
   "id": "557f4f34",
   "metadata": {
    "id": "557f4f34"
   },
   "source": [
    "### Analyze root cause of problem and attempt to mitigate issue\n",
    "\n",
    "Example possible causes:\n",
    "1. Mislabeled points\n",
    "2. Train/test not from same distribution\n",
    "3. Data pipeline error\n",
    "4. Too many unimportant features\n",
    "5. Insufficient test data\n",
    "6. Target leakage in the training process\n",
    "\n",
    "We can identify two issues:\n",
    "\n",
    "2: We corroborated through finding (1) high error segments (2) features driving the error and (3) comparing the distance between their distributions, that the distributional shift of latitude and longitude is a large source of error in Seattle.\n",
    "\n",
    "4: Signaled by the feature importance test, the number of unimportant features that may be causing our overfitting.\n",
    "\n",
    "Let's address these issues one at a time. First we can mitigate the error from latitude and longitude.\n",
    "\n",
    "To do so, we will create new features for each city to be the distance from city center (by latitude, longitude and pairwise)."
   ]
  },
  {
   "cell_type": "code",
   "execution_count": 8,
   "id": "db724b74",
   "metadata": {
    "colab": {
     "base_uri": "https://localhost:8080/",
     "height": 248
    },
    "execution": {
     "iopub.execute_input": "2023-08-03T22:28:06.405994Z",
     "iopub.status.busy": "2023-08-03T22:28:06.405481Z",
     "iopub.status.idle": "2023-08-03T22:28:08.203267Z",
     "shell.execute_reply": "2023-08-03T22:28:08.202203Z",
     "shell.execute_reply.started": "2023-08-03T22:28:06.405966Z"
    },
    "id": "db724b74",
    "outputId": "d4e563e8-a1fd-4ee3-b34d-1203a0f5e67f"
   },
   "outputs": [
    {
     "data": {
      "text/html": [
       "<style>#sk-container-id-1 {color: black;background-color: white;}#sk-container-id-1 pre{padding: 0;}#sk-container-id-1 div.sk-toggleable {background-color: white;}#sk-container-id-1 label.sk-toggleable__label {cursor: pointer;display: block;width: 100%;margin-bottom: 0;padding: 0.3em;box-sizing: border-box;text-align: center;}#sk-container-id-1 label.sk-toggleable__label-arrow:before {content: \"▸\";float: left;margin-right: 0.25em;color: #696969;}#sk-container-id-1 label.sk-toggleable__label-arrow:hover:before {color: black;}#sk-container-id-1 div.sk-estimator:hover label.sk-toggleable__label-arrow:before {color: black;}#sk-container-id-1 div.sk-toggleable__content {max-height: 0;max-width: 0;overflow: hidden;text-align: left;background-color: #f0f8ff;}#sk-container-id-1 div.sk-toggleable__content pre {margin: 0.2em;color: black;border-radius: 0.25em;background-color: #f0f8ff;}#sk-container-id-1 input.sk-toggleable__control:checked~div.sk-toggleable__content {max-height: 200px;max-width: 100%;overflow: auto;}#sk-container-id-1 input.sk-toggleable__control:checked~label.sk-toggleable__label-arrow:before {content: \"▾\";}#sk-container-id-1 div.sk-estimator input.sk-toggleable__control:checked~label.sk-toggleable__label {background-color: #d4ebff;}#sk-container-id-1 div.sk-label input.sk-toggleable__control:checked~label.sk-toggleable__label {background-color: #d4ebff;}#sk-container-id-1 input.sk-hidden--visually {border: 0;clip: rect(1px 1px 1px 1px);clip: rect(1px, 1px, 1px, 1px);height: 1px;margin: -1px;overflow: hidden;padding: 0;position: absolute;width: 1px;}#sk-container-id-1 div.sk-estimator {font-family: monospace;background-color: #f0f8ff;border: 1px dotted black;border-radius: 0.25em;box-sizing: border-box;margin-bottom: 0.5em;}#sk-container-id-1 div.sk-estimator:hover {background-color: #d4ebff;}#sk-container-id-1 div.sk-parallel-item::after {content: \"\";width: 100%;border-bottom: 1px solid gray;flex-grow: 1;}#sk-container-id-1 div.sk-label:hover label.sk-toggleable__label {background-color: #d4ebff;}#sk-container-id-1 div.sk-serial::before {content: \"\";position: absolute;border-left: 1px solid gray;box-sizing: border-box;top: 0;bottom: 0;left: 50%;z-index: 0;}#sk-container-id-1 div.sk-serial {display: flex;flex-direction: column;align-items: center;background-color: white;padding-right: 0.2em;padding-left: 0.2em;position: relative;}#sk-container-id-1 div.sk-item {position: relative;z-index: 1;}#sk-container-id-1 div.sk-parallel {display: flex;align-items: stretch;justify-content: center;background-color: white;position: relative;}#sk-container-id-1 div.sk-item::before, #sk-container-id-1 div.sk-parallel-item::before {content: \"\";position: absolute;border-left: 1px solid gray;box-sizing: border-box;top: 0;bottom: 0;left: 50%;z-index: -1;}#sk-container-id-1 div.sk-parallel-item {display: flex;flex-direction: column;z-index: 1;position: relative;background-color: white;}#sk-container-id-1 div.sk-parallel-item:first-child::after {align-self: flex-end;width: 50%;}#sk-container-id-1 div.sk-parallel-item:last-child::after {align-self: flex-start;width: 50%;}#sk-container-id-1 div.sk-parallel-item:only-child::after {width: 0;}#sk-container-id-1 div.sk-dashed-wrapped {border: 1px dashed gray;margin: 0 0.4em 0.5em 0.4em;box-sizing: border-box;padding-bottom: 0.4em;background-color: white;}#sk-container-id-1 div.sk-label label {font-family: monospace;font-weight: bold;display: inline-block;line-height: 1.2em;}#sk-container-id-1 div.sk-label-container {text-align: center;}#sk-container-id-1 div.sk-container {/* jupyter's `normalize.less` sets `[hidden] { display: none; }` but bootstrap.min.css set `[hidden] { display: none !important; }` so we also need the `!important` here to be able to override the default hidden behavior on the sphinx rendered scikit-learn.org. See: https://github.com/scikit-learn/scikit-learn/issues/21755 */display: inline-block !important;position: relative;}#sk-container-id-1 div.sk-text-repr-fallback {display: none;}</style><div id=\"sk-container-id-1\" class=\"sk-top-container\"><div class=\"sk-text-repr-fallback\"><pre>XGBRegressor(base_score=0.5, booster=&#x27;gbtree&#x27;, callbacks=None,\n",
       "             colsample_bylevel=1, colsample_bynode=1, colsample_bytree=1,\n",
       "             early_stopping_rounds=None, enable_categorical=False, eta=0.2,\n",
       "             eval_metric=None, gamma=0, gpu_id=-1, grow_policy=&#x27;depthwise&#x27;,\n",
       "             importance_type=None, interaction_constraints=&#x27;&#x27;,\n",
       "             learning_rate=0.200000003, max_bin=256, max_cat_to_onehot=4,\n",
       "             max_delta_step=0, max_depth=4, max_leaves=0, min_child_weight=1,\n",
       "             missing=nan, monotone_constraints=&#x27;()&#x27;, n_estimators=100, n_jobs=0,\n",
       "             num_parallel_tree=1, predictor=&#x27;auto&#x27;, random_state=0, reg_alpha=0, ...)</pre><b>In a Jupyter environment, please rerun this cell to show the HTML representation or trust the notebook. <br />On GitHub, the HTML representation is unable to render, please try loading this page with nbviewer.org.</b></div><div class=\"sk-container\" hidden><div class=\"sk-item\"><div class=\"sk-estimator sk-toggleable\"><input class=\"sk-toggleable__control sk-hidden--visually\" id=\"sk-estimator-id-1\" type=\"checkbox\" checked><label for=\"sk-estimator-id-1\" class=\"sk-toggleable__label sk-toggleable__label-arrow\">XGBRegressor</label><div class=\"sk-toggleable__content\"><pre>XGBRegressor(base_score=0.5, booster=&#x27;gbtree&#x27;, callbacks=None,\n",
       "             colsample_bylevel=1, colsample_bynode=1, colsample_bytree=1,\n",
       "             early_stopping_rounds=None, enable_categorical=False, eta=0.2,\n",
       "             eval_metric=None, gamma=0, gpu_id=-1, grow_policy=&#x27;depthwise&#x27;,\n",
       "             importance_type=None, interaction_constraints=&#x27;&#x27;,\n",
       "             learning_rate=0.200000003, max_bin=256, max_cat_to_onehot=4,\n",
       "             max_delta_step=0, max_depth=4, max_leaves=0, min_child_weight=1,\n",
       "             missing=nan, monotone_constraints=&#x27;()&#x27;, n_estimators=100, n_jobs=0,\n",
       "             num_parallel_tree=1, predictor=&#x27;auto&#x27;, random_state=0, reg_alpha=0, ...)</pre></div></div></div></div></div>"
      ],
      "text/plain": [
       "XGBRegressor(base_score=0.5, booster='gbtree', callbacks=None,\n",
       "             colsample_bylevel=1, colsample_bynode=1, colsample_bytree=1,\n",
       "             early_stopping_rounds=None, enable_categorical=False, eta=0.2,\n",
       "             eval_metric=None, gamma=0, gpu_id=-1, grow_policy='depthwise',\n",
       "             importance_type=None, interaction_constraints='',\n",
       "             learning_rate=0.200000003, max_bin=256, max_cat_to_onehot=4,\n",
       "             max_delta_step=0, max_depth=4, max_leaves=0, min_child_weight=1,\n",
       "             missing=nan, monotone_constraints='()', n_estimators=100, n_jobs=0,\n",
       "             num_parallel_tree=1, predictor='auto', random_state=0, reg_alpha=0, ...)"
      ]
     },
     "execution_count": 8,
     "metadata": {},
     "output_type": "execute_result"
    }
   ],
   "source": [
    "# load data\n",
    "san_francisco = pd.read_csv(\n",
    "    'https://truera-examples.s3.us-west-2.amazonaws.com/data/starter-performance/San_Francisco.csv')\n",
    "seattle = pd.read_csv('https://truera-examples.s3.us-west-2.amazonaws.com/data/starter-performance/Seattle.csv')\n",
    "\n",
    "#make all float\n",
    "san_francisco = san_francisco.astype(float).reset_index(names=\"id\")\n",
    "seattle = seattle.astype(float).reset_index(names=\"id\")\n",
    "\n",
    "import math\n",
    "\n",
    "\n",
    "# create a generalizable feature from lat and lon, distance from city center\n",
    "def create_lat_lon_features(df, city_center_lat, city_center_lon):\n",
    "    # calculate the distance from the mean latitude and longitude values\n",
    "    df[\"lat_dist\"] = df[\"latitude\"].apply(lambda x: abs(x - city_center_lat))\n",
    "    df[\"lon_dist\"] = df[\"longitude\"].apply(lambda x: abs(x - city_center_lon))\n",
    "\n",
    "    # calculate the pairwise Euclidean distance between each latitude and longitude\n",
    "    df[\"lat_lon_dist\"] = df.apply(lambda x: math.sqrt(x[\"lat_dist\"]**2 + x[\"lon_dist\"]**2), axis=1)\n",
    "    df = df.drop(['latitude', 'longitude'], axis=1)\n",
    "\n",
    "    # return the modified dataframe\n",
    "    return df\n",
    "\n",
    "\n",
    "san_francisco_v2 = create_lat_lon_features(san_francisco, 37.7749, -122.4194)\n",
    "seattle_v2 = create_lat_lon_features(seattle, 47.6062, -122.3321)\n",
    "\n",
    "xgb_reg = xgb.XGBRegressor(eta=0.2, max_depth=4)\n",
    "xgb_reg.fit(san_francisco_v2.drop(['price', 'id'], axis=1), san_francisco_v2.price)"
   ]
  },
  {
   "cell_type": "code",
   "execution_count": 9,
   "id": "9fb0016b",
   "metadata": {
    "colab": {
     "base_uri": "https://localhost:8080/"
    },
    "execution": {
     "iopub.execute_input": "2023-08-03T22:28:08.205613Z",
     "iopub.status.busy": "2023-08-03T22:28:08.205132Z",
     "iopub.status.idle": "2023-08-03T22:28:36.443063Z",
     "shell.execute_reply": "2023-08-03T22:28:36.440146Z",
     "shell.execute_reply.started": "2023-08-03T22:28:08.205580Z"
    },
    "id": "9fb0016b",
    "outputId": "de4e0722-8584-4354-ca8c-83c1ccfd6257"
   },
   "outputs": [
    {
     "name": "stdout",
     "output_type": "stream",
     "text": [
      "Uploading tmpr0vdmb5k.parquet (392.6KiB) -- ### -- file upload complete.\n",
      "Put resource done.\n"
     ]
    },
    {
     "name": "stderr",
     "output_type": "stream",
     "text": [
      "INFO:truera.client.remote_truera_workspace:Waiting for data split to materialize...\n"
     ]
    },
    {
     "name": "stdout",
     "output_type": "stream",
     "text": [
      "Uploading tmpqown1iw_.parquet (264.9KiB) -- ### -- file upload complete.\n",
      "Put resource done.\n"
     ]
    },
    {
     "name": "stderr",
     "output_type": "stream",
     "text": [
      "INFO:truera.client.remote_truera_workspace:Waiting for data split to materialize...\n",
      "INFO:truera.client.remote_truera_workspace:Uploading xgboost model: XGBRegressor\n",
      "INFO:truera.client.remote_truera_workspace:Verifying model...\n",
      "INFO:truera.client.remote_truera_workspace:✔️ Verified packaged model format.\n",
      "INFO:truera.client.remote_truera_workspace:✔️ Loaded model in current environment.\n",
      "INFO:truera.client.remote_truera_workspace:✔️ Called predict on model.\n",
      "INFO:truera.client.remote_truera_workspace:✔️ Verified model output.\n",
      "INFO:truera.client.remote_truera_workspace:Verification succeeded!\n"
     ]
    },
    {
     "name": "stdout",
     "output_type": "stream",
     "text": [
      "Uploading MLmodel (218.0B) -- ### -- file upload complete.\n",
      "Uploading tmp0k27hen5.json (174.0KiB) -- ### -- file upload complete.\n",
      "Uploading conda.yaml (208.0B) -- ### -- file upload complete.\n",
      "Uploading xgboost_regression_predict_wrapper.py (459.0B) -- ### -- file upload complete.\n",
      "Uploading xgboost_regression_predict_wrapper.cpython-310.pyc (1.1KiB) -- ### -- file upload complete.\n",
      "Put resource done.\n"
     ]
    },
    {
     "name": "stderr",
     "output_type": "stream",
     "text": [
      "INFO:truera.client.remote_truera_workspace:Model \"model_2\" is added and associated with remote data collection \"Data Collection v2\". \"model_2\" is set as the model for the workspace context.\n"
     ]
    },
    {
     "name": "stdout",
     "output_type": "stream",
     "text": [
      "Model uploaded to: http://localhost:8000/home/p/Starter%20Example%20Companion%20-%20Performance/m/model_2/\n"
     ]
    },
    {
     "name": "stderr",
     "output_type": "stream",
     "text": [
      "WARNING:truera.client.intelligence.remote_explainer:Background split for `data_collection` \"Data Collection v2\" is currently not set. Setting it to \"San Francisco\"\n",
      "INFO:truera.client.remote_truera_workspace:Triggering computations for model predictions on split San Francisco.\n",
      "INFO:truera.client.remote_truera_workspace:Data collection in remote environment is now set to \"Data Collection v2\". \n",
      "INFO:truera.client.remote_truera_workspace:Setting remote model context to \"model_2\".\n"
     ]
    }
   ],
   "source": [
    "# since we changed our feature space, we need to add a new data collection\n",
    "tru.add_data_collection(\"Data Collection v2\")\n",
    "\n",
    "# add data to the collection we just created\n",
    "tru.add_data(data=san_francisco_v2,\n",
    "             data_split_name=\"San Francisco\",\n",
    "             column_spec=ColumnSpec(id_col_name=\"id\",\n",
    "                                    pre_data_col_names=list(san_francisco_v2.columns.drop([\"id\", \"price\"])),\n",
    "                                    label_col_names=\"price\"))\n",
    "tru.add_data(data=seattle_v2,\n",
    "             data_split_name=\"Seattle\",\n",
    "             column_spec=ColumnSpec(id_col_name=\"id\",\n",
    "                                    pre_data_col_names=list(seattle_v2.columns.drop([\"id\", \"price\"])),\n",
    "                                    label_col_names=\"price\"))\n",
    "# add model\n",
    "tru.add_python_model(\"model_2\",\n",
    "                     xgb_reg,\n",
    "                     train_split_name=\"San Francisco\",\n",
    "                     train_parameters={\n",
    "                         \"model_type\": \"xgb.XGBRegressor\",\n",
    "                         \"eta\": 0.2,\n",
    "                         \"max_depth\": 4\n",
    "                     })"
   ]
  },
  {
   "cell_type": "code",
   "execution_count": 10,
   "id": "95b6625a",
   "metadata": {
    "colab": {
     "base_uri": "https://localhost:8080/",
     "height": 179
    },
    "execution": {
     "iopub.execute_input": "2023-08-03T22:28:36.450043Z",
     "iopub.status.busy": "2023-08-03T22:28:36.448275Z",
     "iopub.status.idle": "2023-08-03T22:28:56.187433Z",
     "shell.execute_reply": "2023-08-03T22:28:56.186520Z",
     "shell.execute_reply.started": "2023-08-03T22:28:36.449972Z"
    },
    "id": "95b6625a",
    "outputId": "85e773bb-5fc1-4363-f964-58f0690d4040"
   },
   "outputs": [
    {
     "data": {
      "application/vnd.jupyter.widget-view+json": {
       "model_id": "95ed980744fe4cf292baaaed8fe36ef9",
       "version_major": 2,
       "version_minor": 0
      },
      "text/plain": [
       "|          | 0.000% [00:00<?]"
      ]
     },
     "metadata": {},
     "output_type": "display_data"
    },
    {
     "data": {
      "text/html": [
       "\n",
       "        <html>\n",
       "        <head>\n",
       "        <style>\n",
       "        table, th, td {\n",
       "            border-radius: 5px;\n",
       "        }\n",
       "        .header {\n",
       "            font-weight: bold;\n",
       "            font-size: 14px;\n",
       "        }\n",
       "        caption {\n",
       "            font-weight: bolder;\n",
       "            font-size: 16px;\n",
       "            background-color: powderblue;\n",
       "            color: black;\n",
       "            border-radius: 5px;\n",
       "        }\n",
       "        \n",
       "            .PASSED {\n",
       "                color: black;\n",
       "                background-color: palegreen;\n",
       "            }\n",
       "            .WARNING {\n",
       "                color: black;\n",
       "                background-color: yellow;\n",
       "            }\n",
       "            .FAILED {\n",
       "                color: black;\n",
       "                background-color: pink;\n",
       "            }\n",
       "            \n",
       "        </style>\n",
       "        </head>\n",
       "        <body>\n",
       "        <table>\n",
       "            <caption>Performance Tests Results for Model \"model_2\"</caption>\n",
       "            <tr class=\"header\"><td></td><td>Name</td><td>Split</td><td>Segment</td><td>Metric</td><td>Score</td><td>Navigate</td></tr>\n",
       "            <tr><td ></td><td >Relative MAE Test</td><td >Seattle</td><td >ALL POINTS</td><td >MAE</td><td class=\"UNDEFINED\">N/A</td><td ><a href=\"http://localhost:8000/home/p/Starter Example Companion - Performance/m/model_2/t/performance?splitId=000fa639-ea3b-433b-8ed9-069bf9182756&modelIds=744c3e52-4d2b-4bda-a858-b9868302d3c4&\" target=\"_blank\">Explore in UI</a></td></tr><tr><td ></td><td >RMSE Test</td><td >San Francisco</td><td >ALL POINTS</td><td >RMSE</td><td class=\"UNDEFINED\">N/A</td><td ><a href=\"http://localhost:8000/home/p/Starter Example Companion - Performance/m/model_2/t/performance?splitId=fee960fc-db1f-4e90-98d8-4e7952552a09&modelIds=744c3e52-4d2b-4bda-a858-b9868302d3c4&\" target=\"_blank\">Explore in UI</a></td></tr><tr><td ></td><td >RMSE Test</td><td >Seattle</td><td >ALL POINTS</td><td >RMSE</td><td class=\"UNDEFINED\">N/A</td><td ><a href=\"http://localhost:8000/home/p/Starter Example Companion - Performance/m/model_2/t/performance?splitId=000fa639-ea3b-433b-8ed9-069bf9182756&modelIds=744c3e52-4d2b-4bda-a858-b9868302d3c4&\" target=\"_blank\">Explore in UI</a></td></tr>\n",
       "        </table>\n",
       "        </body>\n",
       "        </html>\n",
       "        "
      ],
      "text/plain": [
       "<truera.client.intelligence.model_tests.ModelTestResults at 0x7f8a3c2bf430>"
      ]
     },
     "execution_count": 10,
     "metadata": {},
     "output_type": "execute_result"
    }
   ],
   "source": [
    "tru.tester.get_model_test_results(test_types=[\"performance\"])"
   ]
  },
  {
   "attachments": {},
   "cell_type": "markdown",
   "id": "e0eb875e",
   "metadata": {
    "id": "e0eb875e"
   },
   "source": [
    "### 🪄 Huzzah! Using the Test Harness as our guide, we quickly diagnosed the true cause of overfitting and improved performance."
   ]
  }
 ],
 "metadata": {
  "colab": {
   "collapsed_sections": [
    "dbea14e2"
   ],
   "provenance": []
  },
  "gpuClass": "standard",
  "kernelspec": {
   "display_name": "Python 3 (ipykernel)",
   "language": "python",
   "name": "python3"
  },
  "language_info": {
   "codemirror_mode": {
    "name": "ipython",
    "version": 3
   },
   "file_extension": ".py",
   "mimetype": "text/x-python",
   "name": "python",
   "nbconvert_exporter": "python",
   "pygments_lexer": "ipython3",
   "version": "3.10.6"
  },
  "latex_envs": {
   "LaTeX_envs_menu_present": true,
   "autoclose": false,
   "autocomplete": true,
   "bibliofile": "biblio.bib",
   "cite_by": "apalike",
   "current_citInitial": 1,
   "eqLabelWithNumbers": true,
   "eqNumInitial": 1,
   "hotkeys": {
    "equation": "Ctrl-E",
    "itemize": "Ctrl-I"
   },
   "labels_anchors": false,
   "latex_user_defs": false,
   "report_style_numbering": false,
   "user_envs_cfg": false
  },
  "toc": {
   "base_numbering": 1,
   "nav_menu": {},
   "number_sections": true,
   "sideBar": true,
   "skip_h1_title": false,
   "title_cell": "Table of Contents",
   "title_sidebar": "Contents",
   "toc_cell": false,
   "toc_position": {},
   "toc_section_display": true,
   "toc_window_display": false
  },
  "vscode": {
   "interpreter": {
    "hash": "da3924fd47657b295ea4ff31ffc159b50bdc67549cd17755b5462d5d6bda3f74"
   }
  }
 },
 "nbformat": 4,
 "nbformat_minor": 5
}

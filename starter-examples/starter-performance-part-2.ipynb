{
  "cells": [
    {
      "cell_type": "markdown",
      "id": "bf792a77",
      "metadata": {
        "id": "bf792a77"
      },
      "source": [
        "# Guided Exercise: Performance Part 2\n",
        "#### Goals 🎯\n",
        "In this tutorial, you will use TruEra to make performance improvements to the model created in part 1 in a structured and methodical way!\n",
        "\n",
        "If you missed part one and need to go back:     [![Open In Colab](https://colab.research.google.com/assets/colab-badge.svg)](https://colab.research.google.com/drive/1gn8HfAD9G6L6XGhegAHjuBDucZbZH74W)\n",
        "\n",
        "In this tutorial, you will:\n",
        "1. view the results of performance and feature importance tests created in part 1\n",
        "2. Find actionable issues with the model created in part 1\n",
        "3. Mitigate these issues and re-upload your model to TruEra.\n",
        "4. Retest the new model and confirm the effectivenesss of the mitigation strategy.\n",
        "\n",
        "### First, set the credentials for your TruEra deployment."
      ]
    },
    {
      "cell_type": "code",
      "execution_count": null,
      "id": "61f77925",
      "metadata": {
        "id": "61f77925"
      },
      "outputs": [],
      "source": [
        "#connection details\n",
        "CONNECTION_STRING = \"\"\n",
        "AUTH_TOKEN = \"\""
      ]
    },
    {
      "cell_type": "markdown",
      "id": "dbea14e2",
      "metadata": {
        "id": "dbea14e2"
      },
      "source": [
        "### Install the required packages"
      ]
    },
    {
      "cell_type": "code",
      "execution_count": null,
      "id": "13af593f",
      "metadata": {},
      "outputs": [],
      "source": [
        "! pip install --upgrade shap\n",
        "! pip install --upgrade truera"
      ]
    },
    {
      "cell_type": "markdown",
      "id": "e8ede3b0",
      "metadata": {
        "id": "e8ede3b0"
      },
      "source": [
        "### From here, run the rest of the notebook and follow the analysis."
      ]
    },
    {
      "cell_type": "code",
      "execution_count": null,
      "id": "887135e4",
      "metadata": {
        "id": "887135e4"
      },
      "outputs": [],
      "source": [
        "import pandas as pd\n",
        "import xgboost as xgb\n",
        "import logging\n",
        "\n",
        "from truera.client.truera_workspace import TrueraWorkspace\n",
        "from truera.client.truera_authentication import TokenAuthentication\n",
        "\n",
        "auth = TokenAuthentication(AUTH_TOKEN)\n",
        "tru = TrueraWorkspace(CONNECTION_STRING, auth, ignore_version_mismatch=True, log_level=logging.ERROR)\n",
        "\n",
        "# set our environment to remote to view the test results from part one\n",
        "tru.set_environment(\"remote\")\n",
        "# note: we'll periodically toggle between local and remote so we can interact with our remote deployment as well."
      ]
    },
    {
      "cell_type": "markdown",
      "id": "5806fedf",
      "metadata": {
        "id": "5806fedf"
      },
      "source": [
        "### First, let's review the test results from part 1."
      ]
    },
    {
      "cell_type": "code",
      "execution_count": null,
      "id": "743759f7",
      "metadata": {
        "colab": {
          "base_uri": "https://localhost:8080/",
          "height": 124
        },
        "id": "743759f7",
        "outputId": "dfca880d-0f6f-4921-db8a-14451327f9b1"
      },
      "outputs": [
        {
          "data": {
            "text/html": [
              "\n",
              "        <html>\n",
              "        <head>\n",
              "        <style>\n",
              "        table, th, td {\n",
              "            border-radius: 5px;\n",
              "        }\n",
              "        .header {\n",
              "            font-weight: bold;\n",
              "            font-size: 14px;\n",
              "        }\n",
              "        caption {\n",
              "            font-weight: bolder;\n",
              "            font-size: 16px;\n",
              "            background-color: powderblue;\n",
              "            color: black;\n",
              "            border-radius: 5px;\n",
              "        }\n",
              "        \n",
              "            .PASSED {\n",
              "                color: black;\n",
              "                background-color: palegreen;\n",
              "            }\n",
              "            .WARNING {\n",
              "                color: black;\n",
              "                background-color: yellow;\n",
              "            }\n",
              "            .FAILED {\n",
              "                color: black;\n",
              "                background-color: pink;\n",
              "            }\n",
              "            \n",
              "        </style>\n",
              "        </head>\n",
              "        <body>\n",
              "        <table>\n",
              "            <caption>Performance Tests Results for Model \"model_1\"</caption>\n",
              "            <tr class=\"header\"><td></td><td>Name</td><td>Split</td><td>Segment</td><td>Metric</td><td>Score</td><td>Navigate</td></tr>\n",
              "            <tr><td >❌</td><td >Relative MAE Test</td><td >Seattle</td><td >ALL POINTS</td><td >MAE</td><td class=\"FAILED\">123.4791</td><td ><a href=\"https://daily-demo-truera1.sandbox.truera.com/p/Starter Example - Performance/m/model_1/t/performance?splitId=d312072e-efde-4327-ab96-d22982d50fe4&modelIds=75a40411-a451-4c47-af8c-2170e3b9b5bc&\" target=\"_blank\">Explore in UI</a></td></tr><tr><td >❌</td><td >RMSE Test</td><td >Seattle</td><td >ALL POINTS</td><td >RMSE</td><td class=\"FAILED\">161.2632</td><td ><a href=\"https://daily-demo-truera1.sandbox.truera.com/p/Starter Example - Performance/m/model_1/t/performance?splitId=d312072e-efde-4327-ab96-d22982d50fe4&modelIds=75a40411-a451-4c47-af8c-2170e3b9b5bc&\" target=\"_blank\">Explore in UI</a></td></tr><tr><td >✅</td><td >RMSE Test</td><td >San Francisco</td><td >ALL POINTS</td><td >RMSE</td><td class=\"PASSED\">82.4993</td><td ><a href=\"https://daily-demo-truera1.sandbox.truera.com/p/Starter Example - Performance/m/model_1/t/performance?splitId=8c145e34-dd89-4b0b-8bc3-c9dc8deb2627&modelIds=75a40411-a451-4c47-af8c-2170e3b9b5bc&\" target=\"_blank\">Explore in UI</a></td></tr>\n",
              "        </table>\n",
              "        </body>\n",
              "        </html>\n",
              "        "
            ],
            "text/plain": [
              "<truera.client.intelligence.model_tests.ModelTestResults at 0x7f06f56d70d0>"
            ]
          },
          "execution_count": 24,
          "metadata": {},
          "output_type": "execute_result"
        }
      ],
      "source": [
        "\n",
        "# set project and data collection\n",
        "tru.set_project(\"Starter Example - Performance\")\n",
        "tru.set_data_collection(\"Data Collection v1\")\n",
        "\n",
        "# get model results\n",
        "tru.set_model(\"model_1\")\n",
        "tru.tester.get_model_test_results(test_types=[\"performance\"])"
      ]
    },
    {
      "cell_type": "markdown",
      "id": "d89c5145",
      "metadata": {
        "id": "d89c5145"
      },
      "source": [
        "### Both tests fail.\n",
        "\n",
        "### But can we narrow down the problem?\n",
        "\n",
        "First, let's directly search for high error segments. \n",
        "\n",
        "We can do this in two ways: (1) find error segments in the test split alone (2) find segments in which the test split has higher error than train.\n",
        "\n",
        "Let's do both!"
      ]
    },
    {
      "cell_type": "code",
      "execution_count": null,
      "id": "90acb7b6",
      "metadata": {
        "colab": {
          "base_uri": "https://localhost:8080/",
          "height": 206
        },
        "id": "90acb7b6",
        "outputId": "e130c69a-3f4a-4c6f-da47-9315bc5a9e3b"
      },
      "outputs": [
        {
          "data": {
            "text/html": [
              "\n",
              "  <div id=\"df-57891203-3bb7-4a3f-b288-646b7316ed87\">\n",
              "    <div class=\"colab-df-container\">\n",
              "      <div>\n",
              "<style scoped>\n",
              "    .dataframe tbody tr th:only-of-type {\n",
              "        vertical-align: middle;\n",
              "    }\n",
              "\n",
              "    .dataframe tbody tr th {\n",
              "        vertical-align: top;\n",
              "    }\n",
              "\n",
              "    .dataframe thead th {\n",
              "        text-align: right;\n",
              "    }\n",
              "</style>\n",
              "<table border=\"1\" class=\"dataframe\">\n",
              "  <thead>\n",
              "    <tr style=\"text-align: right;\">\n",
              "      <th></th>\n",
              "      <th>representation</th>\n",
              "      <th>MAE</th>\n",
              "      <th>size</th>\n",
              "      <th>size (%)</th>\n",
              "    </tr>\n",
              "  </thead>\n",
              "  <tbody>\n",
              "    <tr>\n",
              "      <th>0</th>\n",
              "      <td>amenities_Cable_TV &lt;= 1.0 AND amenities_Cable_...</td>\n",
              "      <td>160.799057</td>\n",
              "      <td>1443</td>\n",
              "      <td>37.864078</td>\n",
              "    </tr>\n",
              "    <tr>\n",
              "      <th>1</th>\n",
              "      <td>room_type_Entire_home/apt &lt;= 1.0 AND room_type...</td>\n",
              "      <td>154.746643</td>\n",
              "      <td>2538</td>\n",
              "      <td>66.596694</td>\n",
              "    </tr>\n",
              "    <tr>\n",
              "      <th>2</th>\n",
              "      <td>minimum_nights &lt;= 3.0 AND minimum_nights &gt;= 3.0</td>\n",
              "      <td>165.156097</td>\n",
              "      <td>480</td>\n",
              "      <td>12.595119</td>\n",
              "    </tr>\n",
              "    <tr>\n",
              "      <th>3</th>\n",
              "      <td>room_type_Private_room &lt;= 0.0 AND room_type_Pr...</td>\n",
              "      <td>150.535126</td>\n",
              "      <td>2655</td>\n",
              "      <td>69.666754</td>\n",
              "    </tr>\n",
              "    <tr>\n",
              "      <th>4</th>\n",
              "      <td>longitude &lt;= -122.4000448211261 AND longitude ...</td>\n",
              "      <td>188.002533</td>\n",
              "      <td>77</td>\n",
              "      <td>2.020467</td>\n",
              "    </tr>\n",
              "  </tbody>\n",
              "</table>\n",
              "</div>\n",
              "      <button class=\"colab-df-convert\" onclick=\"convertToInteractive('df-57891203-3bb7-4a3f-b288-646b7316ed87')\"\n",
              "              title=\"Convert this dataframe to an interactive table.\"\n",
              "              style=\"display:none;\">\n",
              "        \n",
              "  <svg xmlns=\"http://www.w3.org/2000/svg\" height=\"24px\"viewBox=\"0 0 24 24\"\n",
              "       width=\"24px\">\n",
              "    <path d=\"M0 0h24v24H0V0z\" fill=\"none\"/>\n",
              "    <path d=\"M18.56 5.44l.94 2.06.94-2.06 2.06-.94-2.06-.94-.94-2.06-.94 2.06-2.06.94zm-11 1L8.5 8.5l.94-2.06 2.06-.94-2.06-.94L8.5 2.5l-.94 2.06-2.06.94zm10 10l.94 2.06.94-2.06 2.06-.94-2.06-.94-.94-2.06-.94 2.06-2.06.94z\"/><path d=\"M17.41 7.96l-1.37-1.37c-.4-.4-.92-.59-1.43-.59-.52 0-1.04.2-1.43.59L10.3 9.45l-7.72 7.72c-.78.78-.78 2.05 0 2.83L4 21.41c.39.39.9.59 1.41.59.51 0 1.02-.2 1.41-.59l7.78-7.78 2.81-2.81c.8-.78.8-2.07 0-2.86zM5.41 20L4 18.59l7.72-7.72 1.47 1.35L5.41 20z\"/>\n",
              "  </svg>\n",
              "      </button>\n",
              "      \n",
              "  <style>\n",
              "    .colab-df-container {\n",
              "      display:flex;\n",
              "      flex-wrap:wrap;\n",
              "      gap: 12px;\n",
              "    }\n",
              "\n",
              "    .colab-df-convert {\n",
              "      background-color: #E8F0FE;\n",
              "      border: none;\n",
              "      border-radius: 50%;\n",
              "      cursor: pointer;\n",
              "      display: none;\n",
              "      fill: #1967D2;\n",
              "      height: 32px;\n",
              "      padding: 0 0 0 0;\n",
              "      width: 32px;\n",
              "    }\n",
              "\n",
              "    .colab-df-convert:hover {\n",
              "      background-color: #E2EBFA;\n",
              "      box-shadow: 0px 1px 2px rgba(60, 64, 67, 0.3), 0px 1px 3px 1px rgba(60, 64, 67, 0.15);\n",
              "      fill: #174EA6;\n",
              "    }\n",
              "\n",
              "    [theme=dark] .colab-df-convert {\n",
              "      background-color: #3B4455;\n",
              "      fill: #D2E3FC;\n",
              "    }\n",
              "\n",
              "    [theme=dark] .colab-df-convert:hover {\n",
              "      background-color: #434B5C;\n",
              "      box-shadow: 0px 1px 3px 1px rgba(0, 0, 0, 0.15);\n",
              "      filter: drop-shadow(0px 1px 2px rgba(0, 0, 0, 0.3));\n",
              "      fill: #FFFFFF;\n",
              "    }\n",
              "  </style>\n",
              "\n",
              "      <script>\n",
              "        const buttonEl =\n",
              "          document.querySelector('#df-57891203-3bb7-4a3f-b288-646b7316ed87 button.colab-df-convert');\n",
              "        buttonEl.style.display =\n",
              "          google.colab.kernel.accessAllowed ? 'block' : 'none';\n",
              "\n",
              "        async function convertToInteractive(key) {\n",
              "          const element = document.querySelector('#df-57891203-3bb7-4a3f-b288-646b7316ed87');\n",
              "          const dataTable =\n",
              "            await google.colab.kernel.invokeFunction('convertToInteractive',\n",
              "                                                     [key], {});\n",
              "          if (!dataTable) return;\n",
              "\n",
              "          const docLinkHtml = 'Like what you see? Visit the ' +\n",
              "            '<a target=\"_blank\" href=https://colab.research.google.com/notebooks/data_table.ipynb>data table notebook</a>'\n",
              "            + ' to learn more about interactive tables.';\n",
              "          element.innerHTML = '';\n",
              "          dataTable['output_type'] = 'display_data';\n",
              "          await google.colab.output.renderOutput(dataTable, element);\n",
              "          const docLink = document.createElement('div');\n",
              "          docLink.innerHTML = docLinkHtml;\n",
              "          element.appendChild(docLink);\n",
              "        }\n",
              "      </script>\n",
              "    </div>\n",
              "  </div>\n",
              "  "
            ],
            "text/plain": [
              "                                      representation         MAE  size  \\\n",
              "0  amenities_Cable_TV <= 1.0 AND amenities_Cable_...  160.799057  1443   \n",
              "1  room_type_Entire_home/apt <= 1.0 AND room_type...  154.746643  2538   \n",
              "2    minimum_nights <= 3.0 AND minimum_nights >= 3.0  165.156097   480   \n",
              "3  room_type_Private_room <= 0.0 AND room_type_Pr...  150.535126  2655   \n",
              "4  longitude <= -122.4000448211261 AND longitude ...  188.002533    77   \n",
              "\n",
              "    size (%)  \n",
              "0  37.864078  \n",
              "1  66.596694  \n",
              "2  12.595119  \n",
              "3  69.666754  \n",
              "4   2.020467  "
            ]
          },
          "execution_count": 5,
          "metadata": {},
          "output_type": "execute_result"
        }
      ],
      "source": [
        "train_split_name = \"San Francisco\"\n",
        "test_split_name = \"Seattle\"\n",
        "\n",
        "# generate the explainer and compute performance\n",
        "explainer = tru.get_explainer(test_split_name, comparison_data_splits=[train_split_name])\n",
        "explainer.compute_performance(metric_type=\"MAE\")\n",
        "\n",
        "# method 1, high error just in test\n",
        "explainer.set_base_data_split(test_split_name)\n",
        "explainer.suggest_high_error_segments(metric_types=\"MAE\", max_num_responses = 5)"
      ]
    },
    {
      "cell_type": "code",
      "execution_count": null,
      "id": "0a093269",
      "metadata": {
        "colab": {
          "base_uri": "https://localhost:8080/",
          "height": 206
        },
        "id": "0a093269",
        "outputId": "164c545b-bf25-4efe-baf7-b74a1a1e54a9"
      },
      "outputs": [
        {
          "data": {
            "text/html": [
              "\n",
              "  <div id=\"df-ba49f09b-0385-43cf-b5ef-9bc246f8226d\">\n",
              "    <div class=\"colab-df-container\">\n",
              "      <div>\n",
              "<style scoped>\n",
              "    .dataframe tbody tr th:only-of-type {\n",
              "        vertical-align: middle;\n",
              "    }\n",
              "\n",
              "    .dataframe tbody tr th {\n",
              "        vertical-align: top;\n",
              "    }\n",
              "\n",
              "    .dataframe thead th {\n",
              "        text-align: right;\n",
              "    }\n",
              "</style>\n",
              "<table border=\"1\" class=\"dataframe\">\n",
              "  <thead>\n",
              "    <tr style=\"text-align: right;\">\n",
              "      <th></th>\n",
              "      <th>representation</th>\n",
              "      <th>MAE</th>\n",
              "      <th>size</th>\n",
              "      <th>size (%)</th>\n",
              "    </tr>\n",
              "  </thead>\n",
              "  <tbody>\n",
              "    <tr>\n",
              "      <th>0</th>\n",
              "      <td>longitude &lt;= -122.4000448211261 AND longitude ...</td>\n",
              "      <td>188.002533</td>\n",
              "      <td>77</td>\n",
              "      <td>2.020467</td>\n",
              "    </tr>\n",
              "    <tr>\n",
              "      <th>1</th>\n",
              "      <td>amenities_Cable_TV &lt;= 1.0 AND amenities_Cable_...</td>\n",
              "      <td>160.799057</td>\n",
              "      <td>1443</td>\n",
              "      <td>37.864078</td>\n",
              "    </tr>\n",
              "    <tr>\n",
              "      <th>2</th>\n",
              "      <td>minimum_nights &lt;= 3.0 AND minimum_nights &gt;= 3.0</td>\n",
              "      <td>165.156097</td>\n",
              "      <td>480</td>\n",
              "      <td>12.595119</td>\n",
              "    </tr>\n",
              "    <tr>\n",
              "      <th>3</th>\n",
              "      <td>room_type_Entire_home/apt &lt;= 1.0 AND room_type...</td>\n",
              "      <td>154.746643</td>\n",
              "      <td>2538</td>\n",
              "      <td>66.596694</td>\n",
              "    </tr>\n",
              "    <tr>\n",
              "      <th>4</th>\n",
              "      <td>room_type_Private_room &lt;= 0.0 AND room_type_Pr...</td>\n",
              "      <td>150.535126</td>\n",
              "      <td>2655</td>\n",
              "      <td>69.666754</td>\n",
              "    </tr>\n",
              "  </tbody>\n",
              "</table>\n",
              "</div>\n",
              "      <button class=\"colab-df-convert\" onclick=\"convertToInteractive('df-ba49f09b-0385-43cf-b5ef-9bc246f8226d')\"\n",
              "              title=\"Convert this dataframe to an interactive table.\"\n",
              "              style=\"display:none;\">\n",
              "        \n",
              "  <svg xmlns=\"http://www.w3.org/2000/svg\" height=\"24px\"viewBox=\"0 0 24 24\"\n",
              "       width=\"24px\">\n",
              "    <path d=\"M0 0h24v24H0V0z\" fill=\"none\"/>\n",
              "    <path d=\"M18.56 5.44l.94 2.06.94-2.06 2.06-.94-2.06-.94-.94-2.06-.94 2.06-2.06.94zm-11 1L8.5 8.5l.94-2.06 2.06-.94-2.06-.94L8.5 2.5l-.94 2.06-2.06.94zm10 10l.94 2.06.94-2.06 2.06-.94-2.06-.94-.94-2.06-.94 2.06-2.06.94z\"/><path d=\"M17.41 7.96l-1.37-1.37c-.4-.4-.92-.59-1.43-.59-.52 0-1.04.2-1.43.59L10.3 9.45l-7.72 7.72c-.78.78-.78 2.05 0 2.83L4 21.41c.39.39.9.59 1.41.59.51 0 1.02-.2 1.41-.59l7.78-7.78 2.81-2.81c.8-.78.8-2.07 0-2.86zM5.41 20L4 18.59l7.72-7.72 1.47 1.35L5.41 20z\"/>\n",
              "  </svg>\n",
              "      </button>\n",
              "      \n",
              "  <style>\n",
              "    .colab-df-container {\n",
              "      display:flex;\n",
              "      flex-wrap:wrap;\n",
              "      gap: 12px;\n",
              "    }\n",
              "\n",
              "    .colab-df-convert {\n",
              "      background-color: #E8F0FE;\n",
              "      border: none;\n",
              "      border-radius: 50%;\n",
              "      cursor: pointer;\n",
              "      display: none;\n",
              "      fill: #1967D2;\n",
              "      height: 32px;\n",
              "      padding: 0 0 0 0;\n",
              "      width: 32px;\n",
              "    }\n",
              "\n",
              "    .colab-df-convert:hover {\n",
              "      background-color: #E2EBFA;\n",
              "      box-shadow: 0px 1px 2px rgba(60, 64, 67, 0.3), 0px 1px 3px 1px rgba(60, 64, 67, 0.15);\n",
              "      fill: #174EA6;\n",
              "    }\n",
              "\n",
              "    [theme=dark] .colab-df-convert {\n",
              "      background-color: #3B4455;\n",
              "      fill: #D2E3FC;\n",
              "    }\n",
              "\n",
              "    [theme=dark] .colab-df-convert:hover {\n",
              "      background-color: #434B5C;\n",
              "      box-shadow: 0px 1px 3px 1px rgba(0, 0, 0, 0.15);\n",
              "      filter: drop-shadow(0px 1px 2px rgba(0, 0, 0, 0.3));\n",
              "      fill: #FFFFFF;\n",
              "    }\n",
              "  </style>\n",
              "\n",
              "      <script>\n",
              "        const buttonEl =\n",
              "          document.querySelector('#df-ba49f09b-0385-43cf-b5ef-9bc246f8226d button.colab-df-convert');\n",
              "        buttonEl.style.display =\n",
              "          google.colab.kernel.accessAllowed ? 'block' : 'none';\n",
              "\n",
              "        async function convertToInteractive(key) {\n",
              "          const element = document.querySelector('#df-ba49f09b-0385-43cf-b5ef-9bc246f8226d');\n",
              "          const dataTable =\n",
              "            await google.colab.kernel.invokeFunction('convertToInteractive',\n",
              "                                                     [key], {});\n",
              "          if (!dataTable) return;\n",
              "\n",
              "          const docLinkHtml = 'Like what you see? Visit the ' +\n",
              "            '<a target=\"_blank\" href=https://colab.research.google.com/notebooks/data_table.ipynb>data table notebook</a>'\n",
              "            + ' to learn more about interactive tables.';\n",
              "          element.innerHTML = '';\n",
              "          dataTable['output_type'] = 'display_data';\n",
              "          await google.colab.output.renderOutput(dataTable, element);\n",
              "          const docLink = document.createElement('div');\n",
              "          docLink.innerHTML = docLinkHtml;\n",
              "          element.appendChild(docLink);\n",
              "        }\n",
              "      </script>\n",
              "    </div>\n",
              "  </div>\n",
              "  "
            ],
            "text/plain": [
              "                                      representation         MAE  size  \\\n",
              "0  longitude <= -122.4000448211261 AND longitude ...  188.002533    77   \n",
              "1  amenities_Cable_TV <= 1.0 AND amenities_Cable_...  160.799057  1443   \n",
              "2    minimum_nights <= 3.0 AND minimum_nights >= 3.0  165.156097   480   \n",
              "3  room_type_Entire_home/apt <= 1.0 AND room_type...  154.746643  2538   \n",
              "4  room_type_Private_room <= 0.0 AND room_type_Pr...  150.535126  2655   \n",
              "\n",
              "    size (%)  \n",
              "0   2.020467  \n",
              "1  37.864078  \n",
              "2  12.595119  \n",
              "3  66.596694  \n",
              "4  69.666754  "
            ]
          },
          "execution_count": 6,
          "metadata": {},
          "output_type": "execute_result"
        }
      ],
      "source": [
        "# method 2 - high error in test relative to train\n",
        "explainer.suggest_high_error_segments(metric_types=\"MAE\", max_num_responses = 5, comparison_data_split_name = train_split_name)"
      ]
    },
    {
      "cell_type": "markdown",
      "id": "50519509",
      "metadata": {
        "id": "50519509"
      },
      "source": [
        "You can see that both ways return the same five high error segments, just in a different order."
      ]
    },
    {
      "cell_type": "markdown",
      "id": "f86f5342",
      "metadata": {
        "id": "f86f5342"
      },
      "source": [
        "One common reason for overfitting is a distributional shift between train and test splits. Are there distributional shifts in the features?\n",
        "\n",
        "Since our features are on different scales, we should choose a distance metric that is scale invariant."
      ]
    },
    {
      "cell_type": "code",
      "execution_count": null,
      "id": "7ec1e4ba",
      "metadata": {
        "colab": {
          "base_uri": "https://localhost:8080/",
          "height": 424
        },
        "id": "7ec1e4ba",
        "outputId": "d74b6cee-9e0c-4db8-a1f3-f2372dfafe1a"
      },
      "outputs": [
        {
          "data": {
            "text/html": [
              "\n",
              "  <div id=\"df-af78f91f-b6d5-4d96-967d-4800958e3d09\">\n",
              "    <div class=\"colab-df-container\">\n",
              "      <div>\n",
              "<style scoped>\n",
              "    .dataframe tbody tr th:only-of-type {\n",
              "        vertical-align: middle;\n",
              "    }\n",
              "\n",
              "    .dataframe tbody tr th {\n",
              "        vertical-align: top;\n",
              "    }\n",
              "\n",
              "    .dataframe thead th {\n",
              "        text-align: right;\n",
              "    }\n",
              "</style>\n",
              "<table border=\"1\" class=\"dataframe\">\n",
              "  <thead>\n",
              "    <tr style=\"text-align: right;\">\n",
              "      <th></th>\n",
              "      <th>NUMERICAL_JENSEN_SHANNON_DISTANCE</th>\n",
              "    </tr>\n",
              "  </thead>\n",
              "  <tbody>\n",
              "    <tr>\n",
              "      <th>latitude</th>\n",
              "      <td>1.000000</td>\n",
              "    </tr>\n",
              "    <tr>\n",
              "      <th>longitude</th>\n",
              "      <td>0.933833</td>\n",
              "    </tr>\n",
              "    <tr>\n",
              "      <th>amenities_Hangers</th>\n",
              "      <td>0.351672</td>\n",
              "    </tr>\n",
              "    <tr>\n",
              "      <th>amenities_Iron</th>\n",
              "      <td>0.331656</td>\n",
              "    </tr>\n",
              "    <tr>\n",
              "      <th>availability_365</th>\n",
              "      <td>0.319597</td>\n",
              "    </tr>\n",
              "    <tr>\n",
              "      <th>...</th>\n",
              "      <td>...</td>\n",
              "    </tr>\n",
              "    <tr>\n",
              "      <th>property_type_Yurt</th>\n",
              "      <td>0.002731</td>\n",
              "    </tr>\n",
              "    <tr>\n",
              "      <th>bed_type_Airbed</th>\n",
              "      <td>0.002666</td>\n",
              "    </tr>\n",
              "    <tr>\n",
              "      <th>amenities_Washer_/_Dryer</th>\n",
              "      <td>0.002586</td>\n",
              "    </tr>\n",
              "    <tr>\n",
              "      <th>amenities_Essentials</th>\n",
              "      <td>0.002526</td>\n",
              "    </tr>\n",
              "    <tr>\n",
              "      <th>bed_type_Couch</th>\n",
              "      <td>0.000905</td>\n",
              "    </tr>\n",
              "  </tbody>\n",
              "</table>\n",
              "<p>64 rows × 1 columns</p>\n",
              "</div>\n",
              "      <button class=\"colab-df-convert\" onclick=\"convertToInteractive('df-af78f91f-b6d5-4d96-967d-4800958e3d09')\"\n",
              "              title=\"Convert this dataframe to an interactive table.\"\n",
              "              style=\"display:none;\">\n",
              "        \n",
              "  <svg xmlns=\"http://www.w3.org/2000/svg\" height=\"24px\"viewBox=\"0 0 24 24\"\n",
              "       width=\"24px\">\n",
              "    <path d=\"M0 0h24v24H0V0z\" fill=\"none\"/>\n",
              "    <path d=\"M18.56 5.44l.94 2.06.94-2.06 2.06-.94-2.06-.94-.94-2.06-.94 2.06-2.06.94zm-11 1L8.5 8.5l.94-2.06 2.06-.94-2.06-.94L8.5 2.5l-.94 2.06-2.06.94zm10 10l.94 2.06.94-2.06 2.06-.94-2.06-.94-.94-2.06-.94 2.06-2.06.94z\"/><path d=\"M17.41 7.96l-1.37-1.37c-.4-.4-.92-.59-1.43-.59-.52 0-1.04.2-1.43.59L10.3 9.45l-7.72 7.72c-.78.78-.78 2.05 0 2.83L4 21.41c.39.39.9.59 1.41.59.51 0 1.02-.2 1.41-.59l7.78-7.78 2.81-2.81c.8-.78.8-2.07 0-2.86zM5.41 20L4 18.59l7.72-7.72 1.47 1.35L5.41 20z\"/>\n",
              "  </svg>\n",
              "      </button>\n",
              "      \n",
              "  <style>\n",
              "    .colab-df-container {\n",
              "      display:flex;\n",
              "      flex-wrap:wrap;\n",
              "      gap: 12px;\n",
              "    }\n",
              "\n",
              "    .colab-df-convert {\n",
              "      background-color: #E8F0FE;\n",
              "      border: none;\n",
              "      border-radius: 50%;\n",
              "      cursor: pointer;\n",
              "      display: none;\n",
              "      fill: #1967D2;\n",
              "      height: 32px;\n",
              "      padding: 0 0 0 0;\n",
              "      width: 32px;\n",
              "    }\n",
              "\n",
              "    .colab-df-convert:hover {\n",
              "      background-color: #E2EBFA;\n",
              "      box-shadow: 0px 1px 2px rgba(60, 64, 67, 0.3), 0px 1px 3px 1px rgba(60, 64, 67, 0.15);\n",
              "      fill: #174EA6;\n",
              "    }\n",
              "\n",
              "    [theme=dark] .colab-df-convert {\n",
              "      background-color: #3B4455;\n",
              "      fill: #D2E3FC;\n",
              "    }\n",
              "\n",
              "    [theme=dark] .colab-df-convert:hover {\n",
              "      background-color: #434B5C;\n",
              "      box-shadow: 0px 1px 3px 1px rgba(0, 0, 0, 0.15);\n",
              "      filter: drop-shadow(0px 1px 2px rgba(0, 0, 0, 0.3));\n",
              "      fill: #FFFFFF;\n",
              "    }\n",
              "  </style>\n",
              "\n",
              "      <script>\n",
              "        const buttonEl =\n",
              "          document.querySelector('#df-af78f91f-b6d5-4d96-967d-4800958e3d09 button.colab-df-convert');\n",
              "        buttonEl.style.display =\n",
              "          google.colab.kernel.accessAllowed ? 'block' : 'none';\n",
              "\n",
              "        async function convertToInteractive(key) {\n",
              "          const element = document.querySelector('#df-af78f91f-b6d5-4d96-967d-4800958e3d09');\n",
              "          const dataTable =\n",
              "            await google.colab.kernel.invokeFunction('convertToInteractive',\n",
              "                                                     [key], {});\n",
              "          if (!dataTable) return;\n",
              "\n",
              "          const docLinkHtml = 'Like what you see? Visit the ' +\n",
              "            '<a target=\"_blank\" href=https://colab.research.google.com/notebooks/data_table.ipynb>data table notebook</a>'\n",
              "            + ' to learn more about interactive tables.';\n",
              "          element.innerHTML = '';\n",
              "          dataTable['output_type'] = 'display_data';\n",
              "          await google.colab.output.renderOutput(dataTable, element);\n",
              "          const docLink = document.createElement('div');\n",
              "          docLink.innerHTML = docLinkHtml;\n",
              "          element.appendChild(docLink);\n",
              "        }\n",
              "      </script>\n",
              "    </div>\n",
              "  </div>\n",
              "  "
            ],
            "text/plain": [
              "                          NUMERICAL_JENSEN_SHANNON_DISTANCE\n",
              "latitude                                           1.000000\n",
              "longitude                                          0.933833\n",
              "amenities_Hangers                                  0.351672\n",
              "amenities_Iron                                     0.331656\n",
              "availability_365                                   0.319597\n",
              "...                                                     ...\n",
              "property_type_Yurt                                 0.002731\n",
              "bed_type_Airbed                                    0.002666\n",
              "amenities_Washer_/_Dryer                           0.002586\n",
              "amenities_Essentials                               0.002526\n",
              "bed_type_Couch                                     0.000905\n",
              "\n",
              "[64 rows x 1 columns]"
            ]
          },
          "execution_count": 8,
          "metadata": {},
          "output_type": "execute_result"
        }
      ],
      "source": [
        "# look for feature drift using data_profiler\n",
        "tru.set_data_split(train_split_name)\n",
        "tru.data_profiler.compute_feature_drift(comparison_data_splits=[test_split_name],\n",
        "    distance_metrics=[\"NUMERICAL_JENSEN_SHANNON_DISTANCE\"])['Seattle'].\\\n",
        "        sort_values(by='NUMERICAL_JENSEN_SHANNON_DISTANCE', ascending=False)"
      ]
    },
    {
      "cell_type": "markdown",
      "id": "9a3b1550",
      "metadata": {
        "id": "9a3b1550"
      },
      "source": [
        "Latitude and longitude have by far the largest distributional shift between San Francisco and Seattle."
      ]
    },
    {
      "cell_type": "markdown",
      "id": "557f4f34",
      "metadata": {
        "id": "557f4f34"
      },
      "source": [
        "### Analyze root cause of problem and attempt to mitigate issue\n",
        "\n",
        "Example possible causes:\n",
        "1. Mislabeled points\n",
        "2. Train/test not from same distribution\n",
        "3. Data pipeline error\n",
        "4. Too many unimportant features\n",
        "5. Insufficient test data\n",
        "6. Target leakage in the training process\n",
        "\n",
        "We can identify two issues:\n",
        "\n",
        "2: We corroborated through finding (1) high error segments (2) features driving the error and (3) comparing the distance between their distributions, that the distributional shift of latitude and longitude is a large source of error in Seattle.\n",
        "\n",
        "4: Signaled by the feature importance test, the number of unimportant features that may be causing our overfitting.\n",
        "\n",
        "Let's address these issues one at a time. First we can mitigate the error from latitude and longitude.\n",
        "\n",
        "To do so, we will create new features for each city to be the distance from city center (by latitude, longitude and pairwise)."
      ]
    },
    {
      "cell_type": "code",
      "execution_count": null,
      "id": "db724b74",
      "metadata": {
        "colab": {
          "base_uri": "https://localhost:8080/"
        },
        "id": "db724b74",
        "outputId": "1f2e76a8-6364-4d21-dbe5-4710ced162dc"
      },
      "outputs": [
        {
          "name": "stdout",
          "output_type": "stream",
          "text": [
            "[18:41:05] WARNING: /workspace/src/objective/regression_obj.cu:152: reg:linear is now deprecated in favor of reg:squarederror.\n"
          ]
        },
        {
          "data": {
            "text/plain": [
              "XGBRegressor(eta=0.2, max_depth=4)"
            ]
          },
          "execution_count": 9,
          "metadata": {},
          "output_type": "execute_result"
        }
      ],
      "source": [
        "# load data\n",
        "san_francisco = pd.read_csv('https://truera-examples.s3.us-west-2.amazonaws.com/data/starter-performance/San_Francisco.csv')\n",
        "seattle = pd.read_csv('https://truera-examples.s3.us-west-2.amazonaws.com/data/starter-performance/Seattle.csv')\n",
        "\n",
        "import math\n",
        "\n",
        "def create_lat_lon_features(df, city_center_lat, city_center_lon):\n",
        "\n",
        "  # calculate the distance from the mean latitude and longitude values\n",
        "\n",
        "  df[\"lat_dist\"] = df[\"latitude\"].apply(lambda x: abs(x - city_center_lat))\n",
        "  df[\"lon_dist\"] = df[\"longitude\"].apply(lambda x: abs(x - city_center_lon))\n",
        "\n",
        "  # calculate the pairwise Euclidean distance between each latitude and longitude\n",
        "  df[\"lat_lon_dist\"] = df.apply(lambda x: math.sqrt(x[\"lat_dist\"]**2 + x[\"lon_dist\"]**2), axis=1)\n",
        "  df = df.drop(['latitude','longitude'], axis = 1)\n",
        "\n",
        "  # return the modified dataframe\n",
        "  return df\n",
        "\n",
        "san_francisco_v2 = create_lat_lon_features(san_francisco, 37.7749, -122.4194)\n",
        "seattle_v2 = create_lat_lon_features(seattle, 47.6062, -122.3321)\n",
        "\n",
        "xgb_reg = xgb.XGBRegressor(eta = 0.2, max_depth = 4)\n",
        "xgb_reg.fit(san_francisco_v2.drop('price', axis = 1), san_francisco_v2.price)"
      ]
    },
    {
      "cell_type": "code",
      "execution_count": null,
      "id": "9fb0016b",
      "metadata": {
        "colab": {
          "base_uri": "https://localhost:8080/"
        },
        "id": "9fb0016b",
        "outputId": "4a1a9e03-675d-4ae5-a741-6326cecdf2db"
      },
      "outputs": [
        {
          "name": "stderr",
          "output_type": "stream",
          "text": [
            "WARNING:truera.client.local.intelligence.local_explainer:Background split for `data_collection` \"Data Collection v2\" is currently not set. Setting it to \"San Francisco\"\n",
            "WARNING:truera.client.local.intelligence.local_explainer:Failed to use TreeSHAP for this model. Defaulting to KernelSHAP...\n",
            "WARNING:truera.client.local.intelligence.local_explainer:Only \"regression\" score type is supported for regression models using the TreeSHAP algorithm!\n",
            "WARNING:truera.client.local.intelligence.local_explainer:Failed to use TreeSHAP for this model. Defaulting to KernelSHAP...\n",
            "WARNING:truera.client.local.intelligence.local_explainer:Only \"regression\" score type is supported for regression models using the TreeSHAP algorithm!\n"
          ]
        }
      ],
      "source": [
        "# switch to local mode to add new data and model\n",
        "tru.download_project(\"Starter Example - Performance\")\n",
        "tru.set_environment(\"local\")\n",
        "tru.set_project(\"Starter Example - Performance\")\n",
        "\n",
        "# since we changed our feature space, we need to add a new data collection\n",
        "tru.add_data_collection(\"Data Collection v2\")\n",
        "\n",
        "# add data splits\n",
        "tru.add_data_split(\"San Francisco\", pre_data = san_francisco_v2.drop('price', axis = 1), label_data = san_francisco_v2['price'], split_type = \"train\")\n",
        "tru.add_data_split(\"Seattle\", pre_data = seattle_v2.drop('price', axis = 1), label_data = seattle_v2['price'], split_type = \"test\")\n",
        "\n",
        "# add model\n",
        "tru.add_python_model(\"model_2\", xgb_reg, train_split_name=\"San Francisco\", train_parameters = {\"model_type\":\"xgb.XGBRegressor\", \"eta\":0.2, \"max_depth\":4})\n",
        "\n",
        "# sync with remote\n",
        "tru.upload_project(upload_error_qiis=True)"
      ]
    },
    {
      "cell_type": "code",
      "execution_count": null,
      "id": "95b6625a",
      "metadata": {
        "colab": {
          "base_uri": "https://localhost:8080/",
          "height": 189
        },
        "id": "95b6625a",
        "outputId": "302ec700-5974-4a19-fb5a-923f80278abf"
      },
      "outputs": [
        {
          "data": {
            "text/html": [
              "\n",
              "        <html>\n",
              "        <head>\n",
              "        <style>\n",
              "        table, th, td {\n",
              "            border-radius: 5px;\n",
              "        }\n",
              "        .header {\n",
              "            font-weight: bold;\n",
              "            font-size: 14px;\n",
              "        }\n",
              "        caption {\n",
              "            font-weight: bolder;\n",
              "            font-size: 16px;\n",
              "            background-color: powderblue;\n",
              "            color: black;\n",
              "            border-radius: 5px;\n",
              "        }\n",
              "        \n",
              "            .PASSED {\n",
              "                color: black;\n",
              "                background-color: palegreen;\n",
              "            }\n",
              "            .WARNING {\n",
              "                color: black;\n",
              "                background-color: yellow;\n",
              "            }\n",
              "            .FAILED {\n",
              "                color: black;\n",
              "                background-color: pink;\n",
              "            }\n",
              "            \n",
              "        </style>\n",
              "        </head>\n",
              "        <body>\n",
              "        <table>\n",
              "            <caption>Performance Tests Results for Model \"model_2\"</caption>\n",
              "            <tr class=\"header\"><td></td><td>Name</td><td>Split</td><td>Segment</td><td>Metric</td><td>Score</td><td>Navigate</td></tr>\n",
              "            <tr><td ></td><td >Relative MAE Test</td><td >Seattle</td><td >ALL POINTS</td><td >MAE</td><td class=\"UNDEFINED\">80.8256</td><td ><a href=\"https://daily-demo-truera1.sandbox.truera.com/p/Starter Example - Performance/m/model_2/t/performance?splitId=5bbe99f3-2dbe-4944-87e1-828ebe2922a3&modelIds=60b12758-c441-4a28-9d3a-a30bf1b37bca&\" target=\"_blank\">Explore in UI</a></td></tr><tr><td >✅</td><td >RMSE Test</td><td >San Francisco</td><td >ALL POINTS</td><td >RMSE</td><td class=\"PASSED\">83.8805</td><td ><a href=\"https://daily-demo-truera1.sandbox.truera.com/p/Starter Example - Performance/m/model_2/t/performance?splitId=f84b29c7-caa3-4c19-a054-7fbb4b596956&modelIds=60b12758-c441-4a28-9d3a-a30bf1b37bca&\" target=\"_blank\">Explore in UI</a></td></tr><tr><td >✅</td><td >RMSE Test</td><td >Seattle</td><td >ALL POINTS</td><td >RMSE</td><td class=\"PASSED\">108.7328</td><td ><a href=\"https://daily-demo-truera1.sandbox.truera.com/p/Starter Example - Performance/m/model_2/t/performance?splitId=5bbe99f3-2dbe-4944-87e1-828ebe2922a3&modelIds=60b12758-c441-4a28-9d3a-a30bf1b37bca&\" target=\"_blank\">Explore in UI</a></td></tr>\n",
              "        </table>\n",
              "        </body>\n",
              "        </html>\n",
              "        \n",
              "        <html>\n",
              "        <head>\n",
              "        <style>\n",
              "        table, th, td {\n",
              "            border-radius: 5px;\n",
              "        }\n",
              "        .header {\n",
              "            font-weight: bold;\n",
              "            font-size: 14px;\n",
              "        }\n",
              "        caption {\n",
              "            font-weight: bolder;\n",
              "            font-size: 16px;\n",
              "            background-color: powderblue;\n",
              "            color: black;\n",
              "            border-radius: 5px;\n",
              "        }\n",
              "        \n",
              "            .PASSED {\n",
              "                color: black;\n",
              "                background-color: palegreen;\n",
              "            }\n",
              "            .WARNING {\n",
              "                color: black;\n",
              "                background-color: yellow;\n",
              "            }\n",
              "            .FAILED {\n",
              "                color: black;\n",
              "                background-color: pink;\n",
              "            }\n",
              "            \n",
              "        </style>\n",
              "        </head>\n",
              "        <body>\n",
              "        <table>\n",
              "            <caption>Feature Importance Tests Results for Model \"model_2\"</caption>\n",
              "            <tr class=\"header\"><td></td><td>Name</td><td>Split</td><td>Segment</td><td>Background Split Name</td><td>Min. Importance Value</td><td>Score Type</td><td>Score</td><td>Navigate</td></tr>\n",
              "            <tr><td >❌</td><td >Feature Importance Test 2</td><td >San Francisco</td><td >ALL POINTS</td><td >San Francisco</td><td >0.01</td><td >regression</td><td class=\"FAILED\">102</td><td ><a href=\"https://daily-demo-truera1.sandbox.truera.com/p/Starter Example - Performance/m/model_2/t/features/t/features-all?splitId=f84b29c7-caa3-4c19-a054-7fbb4b596956&modelIds=60b12758-c441-4a28-9d3a-a30bf1b37bca&\" target=\"_blank\">Explore in UI</a></td></tr>\n",
              "        </table>\n",
              "        </body>\n",
              "        </html>\n",
              "        "
            ],
            "text/plain": [
              "<truera.client.intelligence.model_tests.ModelTestResults at 0x7f07828ce550>"
            ]
          },
          "execution_count": 11,
          "metadata": {},
          "output_type": "execute_result"
        }
      ],
      "source": [
        "#toggle back to remote to interact with the tester\n",
        "tru.set_environment(\"remote\")\n",
        "tru.set_project(\"Starter Example - Performance\")\n",
        "tru.set_data_collection(\"Data Collection v2\")\n",
        "tru.set_model(\"model_2\")\n",
        "\n",
        "# test to confirm we fixed the feature importance isssue\n",
        "tru.tester.add_feature_importance_test(\n",
        "    test_name = 'Feature Importance Test 2',\n",
        "    data_split_name_regex = 'San Francisco',\n",
        "    background_split_name = 'San Francisco',\n",
        "    min_importance_value=0.01,\n",
        "    fail_if_greater_than = 15)\n",
        "\n",
        "tru.tester.get_model_test_results(test_types=[\"performance\",\"feature_importance\"])"
      ]
    },
    {
      "cell_type": "markdown",
      "id": "17d9e2ca",
      "metadata": {
        "id": "17d9e2ca"
      },
      "source": [
        "Here we can see small improvement in the MAE from this change but we have not yet solved the issue.\n",
        "\n",
        "Next we'll prune the model."
      ]
    },
    {
      "cell_type": "code",
      "execution_count": null,
      "id": "7e52193d",
      "metadata": {
        "id": "7e52193d"
      },
      "outputs": [],
      "source": [
        "# prune features\n",
        "explainer = tru.get_explainer('Seattle', comparison_data_splits=['San Francisco'])\n",
        "global_feature_importances = explainer.get_global_feature_importances()\n",
        "\n",
        "def prune_features(global_feature_importances, cutoff):\n",
        "    feature_importance = global_feature_importances.T.rename(columns = {0:'importance'})\n",
        "    pruned_feature_importance = feature_importance[feature_importance['importance'] >= cutoff]\n",
        "    return list(pruned_feature_importance.index)\n",
        "\n",
        "pruned_feature_list = prune_features(global_feature_importances, 0.005)\n",
        "\n",
        "pruned_feature_list += ['price'] # don't leave off the target"
      ]
    },
    {
      "cell_type": "code",
      "execution_count": null,
      "id": "0dfa28a6",
      "metadata": {
        "colab": {
          "base_uri": "https://localhost:8080/"
        },
        "id": "0dfa28a6",
        "outputId": "ae4be9bd-39a2-4daf-fc23-d9f77a176e4b"
      },
      "outputs": [
        {
          "name": "stdout",
          "output_type": "stream",
          "text": [
            "[18:41:45] WARNING: /workspace/src/objective/regression_obj.cu:152: reg:linear is now deprecated in favor of reg:squarederror.\n"
          ]
        },
        {
          "data": {
            "text/plain": [
              "XGBRegressor(eta=0.2, max_depth=4)"
            ]
          },
          "execution_count": 13,
          "metadata": {},
          "output_type": "execute_result"
        }
      ],
      "source": [
        "# apply transformations\n",
        "san_francisco_v3 = san_francisco_v2[pruned_feature_list]\n",
        "seattle_v3 = seattle_v2[pruned_feature_list]\n",
        "\n",
        "# train a new model\n",
        "xgb_reg = xgb.XGBRegressor(eta = 0.2, max_depth = 4)\n",
        "xgb_reg.fit(san_francisco_v3.drop('price', axis = 1), san_francisco_v3.price)"
      ]
    },
    {
      "cell_type": "code",
      "execution_count": null,
      "id": "44f80c25",
      "metadata": {
        "colab": {
          "base_uri": "https://localhost:8080/"
        },
        "id": "44f80c25",
        "outputId": "4094d929-0b96-4045-c3b5-67fef420cba1"
      },
      "outputs": [
        {
          "name": "stderr",
          "output_type": "stream",
          "text": [
            "WARNING:truera.client.local.intelligence.local_explainer:Failed to use TreeSHAP for this model. Defaulting to KernelSHAP...\n",
            "WARNING:truera.client.local.intelligence.local_explainer:Only \"regression\" score type is supported for regression models using the TreeSHAP algorithm!\n",
            "WARNING:truera.client.local.intelligence.local_explainer:Failed to use TreeSHAP for this model. Defaulting to KernelSHAP...\n",
            "WARNING:truera.client.local.intelligence.local_explainer:Only \"regression\" score type is supported for regression models using the TreeSHAP algorithm!\n",
            "WARNING:truera.client.local.intelligence.local_explainer:Background split for `data_collection` \"Data Collection v3\" is currently not set. Setting it to \"San Francisco\"\n",
            "WARNING:truera.client.local.intelligence.local_explainer:Failed to use TreeSHAP for this model. Defaulting to KernelSHAP...\n",
            "WARNING:truera.client.local.intelligence.local_explainer:Only \"regression\" score type is supported for regression models using the TreeSHAP algorithm!\n",
            "WARNING:truera.client.local.intelligence.local_explainer:Failed to use TreeSHAP for this model. Defaulting to KernelSHAP...\n",
            "WARNING:truera.client.local.intelligence.local_explainer:Only \"regression\" score type is supported for regression models using the TreeSHAP algorithm!\n"
          ]
        }
      ],
      "source": [
        "# switch to local mode to add new data and model\n",
        "tru.set_environment(\"local\")\n",
        "tru.add_data_collection(\"Data Collection v3\")\n",
        "\n",
        "tru.add_data_split(\"San Francisco\", pre_data = san_francisco_v3.drop('price', axis = 1), label_data = san_francisco_v3['price'], split_type = \"train\")\n",
        "tru.add_data_split(\"Seattle\", pre_data = seattle_v3.drop('price', axis = 1), label_data = seattle_v3['price'], split_type = \"test\")\n",
        "\n",
        "tru.add_python_model(\"model_3\", xgb_reg, train_split_name=\"San Francisco\", train_parameters = {\"model_type\":\"xgb.XGBRegressor\", \"eta\":0.2, \"max_depth\":4})\n",
        "\n",
        "tru.upload_project(upload_error_qiis=True)"
      ]
    },
    {
      "cell_type": "code",
      "execution_count": null,
      "id": "452500a8",
      "metadata": {
        "ExecuteTime": {
          "end_time": "2022-08-31T21:24:18.228273Z",
          "start_time": "2022-08-31T21:24:17.775446Z"
        },
        "colab": {
          "base_uri": "https://localhost:8080/",
          "height": 124
        },
        "id": "452500a8",
        "outputId": "330c40f3-c0e1-440a-c894-f743fd97ca0f"
      },
      "outputs": [
        {
          "data": {
            "text/html": [
              "\n",
              "        <html>\n",
              "        <head>\n",
              "        <style>\n",
              "        table, th, td {\n",
              "            border-radius: 5px;\n",
              "        }\n",
              "        .header {\n",
              "            font-weight: bold;\n",
              "            font-size: 14px;\n",
              "        }\n",
              "        caption {\n",
              "            font-weight: bolder;\n",
              "            font-size: 16px;\n",
              "            background-color: powderblue;\n",
              "            color: black;\n",
              "            border-radius: 5px;\n",
              "        }\n",
              "        \n",
              "            .PASSED {\n",
              "                color: black;\n",
              "                background-color: palegreen;\n",
              "            }\n",
              "            .WARNING {\n",
              "                color: black;\n",
              "                background-color: yellow;\n",
              "            }\n",
              "            .FAILED {\n",
              "                color: black;\n",
              "                background-color: pink;\n",
              "            }\n",
              "            \n",
              "        </style>\n",
              "        </head>\n",
              "        <body>\n",
              "        <table>\n",
              "            <caption>Performance Tests Results for Model \"model_3\"</caption>\n",
              "            <tr class=\"header\"><td></td><td>Name</td><td>Split</td><td>Segment</td><td>Metric</td><td>Score</td><td>Navigate</td></tr>\n",
              "            <tr><td >❌</td><td >RMSE Test</td><td >Seattle</td><td >ALL POINTS</td><td >RMSE</td><td class=\"FAILED\">130.489</td><td ><a href=\"https://daily-demo-truera1.sandbox.truera.com/p/Starter Example - Performance/m/model_3/t/performance?splitId=7bdafb99-3a48-4cad-9ab6-7e6cf5d80991&modelIds=4775be54-77c2-4f87-92da-eabce5711880&\" target=\"_blank\">Explore in UI</a></td></tr><tr><td ></td><td >Relative MAE Test</td><td >Seattle</td><td >ALL POINTS</td><td >MAE</td><td class=\"UNDEFINED\">104.1811</td><td ><a href=\"https://daily-demo-truera1.sandbox.truera.com/p/Starter Example - Performance/m/model_3/t/performance?splitId=7bdafb99-3a48-4cad-9ab6-7e6cf5d80991&modelIds=4775be54-77c2-4f87-92da-eabce5711880&\" target=\"_blank\">Explore in UI</a></td></tr><tr><td >✅</td><td >RMSE Test</td><td >San Francisco</td><td >ALL POINTS</td><td >RMSE</td><td class=\"PASSED\">109.9693</td><td ><a href=\"https://daily-demo-truera1.sandbox.truera.com/p/Starter Example - Performance/m/model_3/t/performance?splitId=cca5b815-0277-4d77-90bb-d4089ad1fce5&modelIds=4775be54-77c2-4f87-92da-eabce5711880&\" target=\"_blank\">Explore in UI</a></td></tr>\n",
              "        </table>\n",
              "        </body>\n",
              "        </html>\n",
              "        "
            ],
            "text/plain": [
              "<truera.client.intelligence.model_tests.ModelTestResults at 0x7f06f5746c40>"
            ]
          },
          "execution_count": 17,
          "metadata": {},
          "output_type": "execute_result"
        }
      ],
      "source": [
        "#toggle back to remote to interact with the tester\n",
        "tru.set_environment(\"remote\")\n",
        "tru.set_project(\"Starter Example - Performance\")\n",
        "tru.set_data_collection(\"Data Collection v3\")\n",
        "tru.set_model(\"model_3\")\n",
        "\n",
        "tru.tester.get_model_test_results(test_types=[\"performance\"])"
      ]
    },
    {
      "cell_type": "markdown",
      "id": "e0eb875e",
      "metadata": {
        "id": "e0eb875e"
      },
      "source": [
        "### 🪄 Huzzah! Using the Test Harness as our guide, we quickly diagnosed the true cause of overfitting and improved performance."
      ]
    }
  ],
  "metadata": {
    "colab": {
      "collapsed_sections": [
        "dbea14e2"
      ],
      "provenance": []
    },
    "gpuClass": "standard",
    "kernelspec": {
      "display_name": "Python 3.10.8 ('usage_monitoring')",
      "language": "python",
      "name": "python3"
    },
    "language_info": {
      "codemirror_mode": {
        "name": "ipython",
        "version": 3
      },
      "file_extension": ".py",
      "mimetype": "text/x-python",
      "name": "python",
      "nbconvert_exporter": "python",
      "pygments_lexer": "ipython3",
      "version": "3.10.8"
    },
    "latex_envs": {
      "LaTeX_envs_menu_present": true,
      "autoclose": false,
      "autocomplete": true,
      "bibliofile": "biblio.bib",
      "cite_by": "apalike",
      "current_citInitial": 1,
      "eqLabelWithNumbers": true,
      "eqNumInitial": 1,
      "hotkeys": {
        "equation": "Ctrl-E",
        "itemize": "Ctrl-I"
      },
      "labels_anchors": false,
      "latex_user_defs": false,
      "report_style_numbering": false,
      "user_envs_cfg": false
    },
    "toc": {
      "base_numbering": 1,
      "nav_menu": {},
      "number_sections": true,
      "sideBar": true,
      "skip_h1_title": false,
      "title_cell": "Table of Contents",
      "title_sidebar": "Contents",
      "toc_cell": false,
      "toc_position": {},
      "toc_section_display": true,
      "toc_window_display": false
    },
    "vscode": {
      "interpreter": {
        "hash": "2b61ff7cd86f4e68b839af7d52433a7bc5d58f0c2fb1a26fe119954bde99676c"
      }
    }
  },
  "nbformat": 4,
  "nbformat_minor": 5
}

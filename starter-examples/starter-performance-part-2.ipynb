{
  "cells": [
    {
      "attachments": {},
      "cell_type": "markdown",
      "id": "bf792a77",
      "metadata": {
        "id": "bf792a77"
      },
      "source": [
        "# Guided Exercise: Performance Part 2\n",
        "#### Goals 🎯\n",
        "In this tutorial, you will use TruEra to make performance improvements to the model created in part 1 in a structured and methodical way!\n",
        "\n",
        "If you missed part one and need to go back:     [![Open In Colab](https://colab.research.google.com/assets/colab-badge.svg)](https://colab.research.google.com/github/truera/truera-examples/blob/release/rc-1.37/starter-examples/starter-performance-part-1.ipynb)\n",
        "\n",
        "In this tutorial, you will:\n",
        "1. view the results of performance and feature importance tests created in part 1\n",
        "2. Find actionable issues with the model created in part 1\n",
        "3. Mitigate these issues and re-upload your model to TruEra.\n",
        "4. Retest the new model and confirm the effectivenesss of the mitigation strategy.\n",
        "\n",
        "### First, set the credentials for your TruEra deployment.\n",
        "\n",
        "If you don't have credentials yet, get them instantly by signing up for free at: https://www.truera.com"
      ]
    },
    {
      "cell_type": "code",
      "execution_count": null,
      "id": "61f77925",
      "metadata": {
        "id": "61f77925"
      },
      "outputs": [],
      "source": [
        "#connection details\n",
        "TRUERA_URL = \"https://app.truera.net\"\n",
        "AUTH_TOKEN = \"\""
      ]
    },
    {
      "attachments": {},
      "cell_type": "markdown",
      "id": "dbea14e2",
      "metadata": {
        "id": "dbea14e2"
      },
      "source": [
        "### Install the required packages for running in colab"
      ]
    },
    {
      "cell_type": "code",
      "execution_count": null,
      "id": "b882320a",
      "metadata": {
        "colab": {
          "base_uri": "https://localhost:8080/"
        },
        "id": "b882320a",
        "outputId": "d2cbd4ca-92df-4c88-8904-5fbeac2ace1c"
      },
      "outputs": [
        {
          "name": "stdout",
          "output_type": "stream",
          "text": [
            "Looking in indexes: https://pypi.org/simple, https://us-python.pkg.dev/colab-wheels/public/simple/\n",
            "Requirement already satisfied: Flask in /usr/local/lib/python3.9/dist-packages (2.2.3)\n",
            "Requirement already satisfied: Werkzeug>=2.2.2 in /usr/local/lib/python3.9/dist-packages (from Flask) (2.2.3)\n",
            "Requirement already satisfied: click>=8.0 in /usr/local/lib/python3.9/dist-packages (from Flask) (8.1.3)\n",
            "Requirement already satisfied: itsdangerous>=2.0 in /usr/local/lib/python3.9/dist-packages (from Flask) (2.1.2)\n",
            "Requirement already satisfied: importlib-metadata>=3.6.0 in /usr/local/lib/python3.9/dist-packages (from Flask) (6.2.0)\n",
            "Requirement already satisfied: Jinja2>=3.0 in /usr/local/lib/python3.9/dist-packages (from Flask) (3.1.2)\n",
            "Requirement already satisfied: zipp>=0.5 in /usr/local/lib/python3.9/dist-packages (from importlib-metadata>=3.6.0->Flask) (3.15.0)\n",
            "Requirement already satisfied: MarkupSafe>=2.0 in /usr/local/lib/python3.9/dist-packages (from Jinja2>=3.0->Flask) (2.1.2)\n",
            "Looking in indexes: https://pypi.org/simple, https://us-python.pkg.dev/colab-wheels/public/simple/\n",
            "Requirement already satisfied: protobuf in /usr/local/lib/python3.9/dist-packages (4.22.1)\n",
            "Looking in indexes: https://pypi.org/simple, https://us-python.pkg.dev/colab-wheels/public/simple/\n",
            "Requirement already satisfied: shap in /usr/local/lib/python3.9/dist-packages (0.41.0)\n",
            "Requirement already satisfied: slicer==0.0.7 in /usr/local/lib/python3.9/dist-packages (from shap) (0.0.7)\n",
            "Requirement already satisfied: scipy in /usr/local/lib/python3.9/dist-packages (from shap) (1.10.1)\n",
            "Requirement already satisfied: cloudpickle in /usr/local/lib/python3.9/dist-packages (from shap) (2.2.1)\n",
            "Requirement already satisfied: scikit-learn in /usr/local/lib/python3.9/dist-packages (from shap) (1.2.2)\n",
            "Requirement already satisfied: pandas in /usr/local/lib/python3.9/dist-packages (from shap) (1.5.3)\n",
            "Requirement already satisfied: numba in /usr/local/lib/python3.9/dist-packages (from shap) (0.56.4)\n",
            "Requirement already satisfied: tqdm>4.25.0 in /usr/local/lib/python3.9/dist-packages (from shap) (4.65.0)\n",
            "Requirement already satisfied: packaging>20.9 in /usr/local/lib/python3.9/dist-packages (from shap) (23.0)\n",
            "Requirement already satisfied: numpy in /usr/local/lib/python3.9/dist-packages (from shap) (1.22.4)\n",
            "Requirement already satisfied: llvmlite<0.40,>=0.39.0dev0 in /usr/local/lib/python3.9/dist-packages (from numba->shap) (0.39.1)\n",
            "Requirement already satisfied: setuptools in /usr/local/lib/python3.9/dist-packages (from numba->shap) (67.6.1)\n",
            "Requirement already satisfied: python-dateutil>=2.8.1 in /usr/local/lib/python3.9/dist-packages (from pandas->shap) (2.8.2)\n",
            "Requirement already satisfied: pytz>=2020.1 in /usr/local/lib/python3.9/dist-packages (from pandas->shap) (2022.7.1)\n",
            "Requirement already satisfied: joblib>=1.1.1 in /usr/local/lib/python3.9/dist-packages (from scikit-learn->shap) (1.2.0)\n",
            "Requirement already satisfied: threadpoolctl>=2.0.0 in /usr/local/lib/python3.9/dist-packages (from scikit-learn->shap) (3.1.0)\n",
            "Requirement already satisfied: six>=1.5 in /usr/local/lib/python3.9/dist-packages (from python-dateutil>=2.8.1->pandas->shap) (1.16.0)\n",
            "Looking in indexes: https://pypi.org/simple, https://us-python.pkg.dev/colab-wheels/public/simple/\n",
            "Requirement already satisfied: truera in /usr/local/lib/python3.9/dist-packages (11.5.2)\n",
            "Requirement already satisfied: tabulate>=0.8.9 in /usr/local/lib/python3.9/dist-packages (from truera) (0.8.10)\n",
            "Requirement already satisfied: click>=8.0 in /usr/local/lib/python3.9/dist-packages (from truera) (8.1.3)\n",
            "Requirement already satisfied: filelock>=3.0.12 in /usr/local/lib/python3.9/dist-packages (from truera) (3.11.0)\n",
            "Requirement already satisfied: pyyaml>=5.3.1 in /usr/local/lib/python3.9/dist-packages (from truera) (6.0)\n",
            "Requirement already satisfied: grpcio>=1.50.0 in /usr/local/lib/python3.9/dist-packages (from truera) (1.53.0)\n",
            "Requirement already satisfied: mpmath==0.19 in /usr/local/lib/python3.9/dist-packages (from truera) (0.19)\n",
            "Requirement already satisfied: humanize>=4.3.0 in /usr/local/lib/python3.9/dist-packages (from truera) (4.6.0)\n",
            "Requirement already satisfied: dynaconf==3.1.11 in /usr/local/lib/python3.9/dist-packages (from truera) (3.1.11)\n",
            "Requirement already satisfied: googleapis-common-protos>=1.56.0 in /usr/local/lib/python3.9/dist-packages (from truera) (1.59.0)\n",
            "Requirement already satisfied: pyarrow>=10.0.0 in /usr/local/lib/python3.9/dist-packages (from truera) (11.0.0)\n",
            "Requirement already satisfied: cryptography>=3.2 in /usr/local/lib/python3.9/dist-packages (from truera) (40.0.1)\n",
            "Requirement already satisfied: crontab==0.23.0 in /usr/local/lib/python3.9/dist-packages (from truera) (0.23.0)\n",
            "Requirement already satisfied: importlib-metadata>=4.8.1 in /usr/local/lib/python3.9/dist-packages (from truera) (6.2.0)\n",
            "Requirement already satisfied: pandas>=1.1.1 in /usr/local/lib/python3.9/dist-packages (from truera) (1.5.3)\n",
            "Requirement already satisfied: pyjwt>=2.4.0 in /usr/local/lib/python3.9/dist-packages (from truera) (2.6.0)\n",
            "Requirement already satisfied: cloudpickle>=1.2.2 in /usr/local/lib/python3.9/dist-packages (from truera) (2.2.1)\n",
            "Requirement already satisfied: numpy<1.24.0 in /usr/local/lib/python3.9/dist-packages (from truera) (1.22.4)\n",
            "Requirement already satisfied: pydantic>=1.8.0 in /usr/local/lib/python3.9/dist-packages (from truera) (1.10.7)\n",
            "Requirement already satisfied: tqdm>4.25.0 in /usr/local/lib/python3.9/dist-packages (from truera) (4.65.0)\n",
            "Requirement already satisfied: python-dateutil>=2.8.1 in /usr/local/lib/python3.9/dist-packages (from truera) (2.8.2)\n",
            "Requirement already satisfied: requests>=2.25.0 in /usr/local/lib/python3.9/dist-packages (from truera) (2.27.1)\n",
            "Requirement already satisfied: scikit-learn>=0.21.2 in /usr/local/lib/python3.9/dist-packages (from truera) (1.2.2)\n",
            "Requirement already satisfied: plotly>=5.11.0 in /usr/local/lib/python3.9/dist-packages (from truera) (5.13.1)\n",
            "Requirement already satisfied: urllib3>=1.25.8 in /usr/local/lib/python3.9/dist-packages (from truera) (1.26.15)\n",
            "Requirement already satisfied: sympy>=1.10.1 in /usr/local/lib/python3.9/dist-packages (from truera) (1.11.1)\n",
            "Requirement already satisfied: nbformat>=5.1.2 in /usr/local/lib/python3.9/dist-packages (from truera) (5.8.0)\n",
            "Requirement already satisfied: sqlparse==0.4.2 in /usr/local/lib/python3.9/dist-packages (from truera) (0.4.2)\n",
            "Requirement already satisfied: cachetools>=5.2.0 in /usr/local/lib/python3.9/dist-packages (from truera) (5.3.0)\n",
            "Requirement already satisfied: protobuf>=4.21.12 in /usr/local/lib/python3.9/dist-packages (from truera) (4.22.1)\n",
            "Requirement already satisfied: grpcio-status>=1.50.0 in /usr/local/lib/python3.9/dist-packages (from truera) (1.53.0)\n",
            "Requirement already satisfied: cffi>=1.12 in /usr/local/lib/python3.9/dist-packages (from cryptography>=3.2->truera) (1.15.1)\n",
            "Requirement already satisfied: zipp>=0.5 in /usr/local/lib/python3.9/dist-packages (from importlib-metadata>=4.8.1->truera) (3.15.0)\n",
            "Requirement already satisfied: traitlets>=5.1 in /usr/local/lib/python3.9/dist-packages (from nbformat>=5.1.2->truera) (5.7.1)\n",
            "Requirement already satisfied: fastjsonschema in /usr/local/lib/python3.9/dist-packages (from nbformat>=5.1.2->truera) (2.16.3)\n",
            "Requirement already satisfied: jsonschema>=2.6 in /usr/local/lib/python3.9/dist-packages (from nbformat>=5.1.2->truera) (4.3.3)\n",
            "Requirement already satisfied: jupyter-core in /usr/local/lib/python3.9/dist-packages (from nbformat>=5.1.2->truera) (5.3.0)\n",
            "Requirement already satisfied: pytz>=2020.1 in /usr/local/lib/python3.9/dist-packages (from pandas>=1.1.1->truera) (2022.7.1)\n",
            "Requirement already satisfied: tenacity>=6.2.0 in /usr/local/lib/python3.9/dist-packages (from plotly>=5.11.0->truera) (8.2.2)\n",
            "Requirement already satisfied: typing-extensions>=4.2.0 in /usr/local/lib/python3.9/dist-packages (from pydantic>=1.8.0->truera) (4.5.0)\n",
            "Requirement already satisfied: six>=1.5 in /usr/local/lib/python3.9/dist-packages (from python-dateutil>=2.8.1->truera) (1.16.0)\n",
            "Requirement already satisfied: certifi>=2017.4.17 in /usr/local/lib/python3.9/dist-packages (from requests>=2.25.0->truera) (2022.12.7)\n",
            "Requirement already satisfied: idna<4,>=2.5 in /usr/local/lib/python3.9/dist-packages (from requests>=2.25.0->truera) (3.4)\n",
            "Requirement already satisfied: charset-normalizer~=2.0.0 in /usr/local/lib/python3.9/dist-packages (from requests>=2.25.0->truera) (2.0.12)\n",
            "Requirement already satisfied: scipy>=1.3.2 in /usr/local/lib/python3.9/dist-packages (from scikit-learn>=0.21.2->truera) (1.10.1)\n",
            "Requirement already satisfied: joblib>=1.1.1 in /usr/local/lib/python3.9/dist-packages (from scikit-learn>=0.21.2->truera) (1.2.0)\n",
            "Requirement already satisfied: threadpoolctl>=2.0.0 in /usr/local/lib/python3.9/dist-packages (from scikit-learn>=0.21.2->truera) (3.1.0)\n",
            "Requirement already satisfied: pycparser in /usr/local/lib/python3.9/dist-packages (from cffi>=1.12->cryptography>=3.2->truera) (2.21)\n",
            "Requirement already satisfied: attrs>=17.4.0 in /usr/local/lib/python3.9/dist-packages (from jsonschema>=2.6->nbformat>=5.1.2->truera) (22.2.0)\n",
            "Requirement already satisfied: pyrsistent!=0.17.0,!=0.17.1,!=0.17.2,>=0.14.0 in /usr/local/lib/python3.9/dist-packages (from jsonschema>=2.6->nbformat>=5.1.2->truera) (0.19.3)\n",
            "Requirement already satisfied: platformdirs>=2.5 in /usr/local/lib/python3.9/dist-packages (from jupyter-core->nbformat>=5.1.2->truera) (3.2.0)\n"
          ]
        }
      ],
      "source": [
        "! pip install --upgrade truera"
      ]
    },
    {
      "attachments": {},
      "cell_type": "markdown",
      "id": "e8ede3b0",
      "metadata": {
        "id": "e8ede3b0"
      },
      "source": [
        "### From here, run the rest of the notebook and follow the analysis."
      ]
    },
    {
      "cell_type": "code",
      "execution_count": null,
      "id": "887135e4",
      "metadata": {
        "id": "887135e4"
      },
      "outputs": [],
      "source": [
        "import pandas as pd\n",
        "import xgboost as xgb\n",
        "import logging\n",
        "\n",
        "from truera.client.truera_workspace import TrueraWorkspace\n",
        "from truera.client.truera_authentication import TokenAuthentication\n",
        "\n",
        "auth = TokenAuthentication(AUTH_TOKEN)\n",
        "tru = TrueraWorkspace(TRUERA_URL, auth)\n",
        "\n",
        "# set our environment to remote to view the test results from part one\n",
        "tru.set_environment(\"remote\")\n",
        "# note: we'll periodically toggle between local and remote so we can interact with our remote deployment as well."
      ]
    },
    {
      "attachments": {},
      "cell_type": "markdown",
      "id": "5806fedf",
      "metadata": {
        "id": "5806fedf"
      },
      "source": [
        "### First, let's review the test results from part 1."
      ]
    },
    {
      "cell_type": "code",
      "execution_count": null,
      "id": "743759f7",
      "metadata": {
        "colab": {
          "base_uri": "https://localhost:8080/",
          "height": 159
        },
        "id": "743759f7",
        "outputId": "20dd02c2-49d0-4c63-85b6-937a2db769f5"
      },
      "outputs": [
        {
          "name": "stderr",
          "output_type": "stream",
          "text": [
            "INFO:truera.client.remote_truera_workspace:Data collection in remote environment is now set to \"Data Collection v1\". \n",
            "INFO:truera.client.remote_truera_workspace:Setting remote model context to \"model_1\".\n"
          ]
        },
        {
          "data": {
            "text/html": [
              "\n",
              "        <html>\n",
              "        <head>\n",
              "        <style>\n",
              "        table, th, td {\n",
              "            border-radius: 5px;\n",
              "        }\n",
              "        .header {\n",
              "            font-weight: bold;\n",
              "            font-size: 14px;\n",
              "        }\n",
              "        caption {\n",
              "            font-weight: bolder;\n",
              "            font-size: 16px;\n",
              "            background-color: powderblue;\n",
              "            color: black;\n",
              "            border-radius: 5px;\n",
              "        }\n",
              "        \n",
              "            .PASSED {\n",
              "                color: black;\n",
              "                background-color: palegreen;\n",
              "            }\n",
              "            .WARNING {\n",
              "                color: black;\n",
              "                background-color: yellow;\n",
              "            }\n",
              "            .FAILED {\n",
              "                color: black;\n",
              "                background-color: pink;\n",
              "            }\n",
              "            \n",
              "        </style>\n",
              "        </head>\n",
              "        <body>\n",
              "        <table>\n",
              "            <caption>Performance Tests Results for Model \"model_1\"</caption>\n",
              "            <tr class=\"header\"><td></td><td>Name</td><td>Split</td><td>Segment</td><td>Metric</td><td>Score</td><td>Navigate</td></tr>\n",
              "            <tr><td >❌</td><td >Relative MAE Test</td><td >Seattle</td><td >ALL POINTS</td><td >MAE</td><td class=\"FAILED\">110.2897</td><td ><a href=\"https://app.truera.net/home/p/Starter Example Companion - Performance/m/model_1/t/performance?splitId=005931a7-a81a-4017-ad4f-c64e5c459dca&modelIds=802ed7ab-9012-458f-ac1f-69be14016042&\" target=\"_blank\">Explore in UI</a></td></tr><tr><td >❌</td><td >RMSE Test</td><td >Seattle</td><td >ALL POINTS</td><td >RMSE</td><td class=\"FAILED\">154.0362</td><td ><a href=\"https://app.truera.net/home/p/Starter Example Companion - Performance/m/model_1/t/performance?splitId=005931a7-a81a-4017-ad4f-c64e5c459dca&modelIds=802ed7ab-9012-458f-ac1f-69be14016042&\" target=\"_blank\">Explore in UI</a></td></tr><tr><td >✅</td><td >RMSE Test</td><td >San Francisco</td><td >ALL POINTS</td><td >RMSE</td><td class=\"PASSED\">75.6326</td><td ><a href=\"https://app.truera.net/home/p/Starter Example Companion - Performance/m/model_1/t/performance?splitId=476e91a3-15c2-4197-8989-8f5828f76de0&modelIds=802ed7ab-9012-458f-ac1f-69be14016042&\" target=\"_blank\">Explore in UI</a></td></tr>\n",
              "        </table>\n",
              "        </body>\n",
              "        </html>\n",
              "        "
            ],
            "text/plain": [
              "<truera.client.intelligence.model_tests.ModelTestResults at 0x7f764aaf47f0>"
            ]
          },
          "execution_count": 4,
          "metadata": {},
          "output_type": "execute_result"
        }
      ],
      "source": [
        "\n",
        "# set project and data collection\n",
        "project_name = \"Starter Example Companion - Performance\"\n",
        "tru.set_project(project_name)\n",
        "tru.set_data_collection(\"Data Collection v1\")\n",
        "\n",
        "# get model results\n",
        "tru.set_model(\"model_1\")\n",
        "tru.tester.get_model_test_results(test_types=[\"performance\"])"
      ]
    },
    {
      "attachments": {},
      "cell_type": "markdown",
      "id": "d89c5145",
      "metadata": {
        "id": "d89c5145"
      },
      "source": [
        "### 2/3 tests fail.\n",
        "\n",
        "### But can we narrow down the problem?"
      ]
    },
    {
      "cell_type": "code",
      "execution_count": null,
      "id": "90acb7b6",
      "metadata": {
        "colab": {
          "base_uri": "https://localhost:8080/"
        },
        "id": "90acb7b6",
        "outputId": "4e920a28-6681-4b07-edbe-4b02364ec055"
      },
      "outputs": [
        {
          "data": {
            "text/plain": [
              "29.874412536621094"
            ]
          },
          "execution_count": 5,
          "metadata": {},
          "output_type": "execute_result"
        }
      ],
      "source": [
        "train_split_name = \"San Francisco\"\n",
        "test_split_name = \"Seattle\"\n",
        "\n",
        "# generate the explainer and compute performance\n",
        "explainer = tru.get_explainer(test_split_name, comparison_data_splits=[train_split_name])\n",
        "\n",
        "explainer.compute_model_score_instability(score_type=None, use_difference_of_means=False)"
      ]
    },
    {
      "attachments": {},
      "cell_type": "markdown",
      "id": "f86f5342",
      "metadata": {
        "id": "f86f5342"
      },
      "source": [
        "One common reason for overfitting is a distributional shift between train and test splits. Are there distributional shifts in the features?\n",
        "\n",
        "Since our features are on different scales, we should choose a distance metric that is scale invariant."
      ]
    },
    {
      "cell_type": "code",
      "execution_count": null,
      "id": "7ec1e4ba",
      "metadata": {
        "colab": {
          "base_uri": "https://localhost:8080/",
          "height": 424
        },
        "id": "7ec1e4ba",
        "outputId": "cea06909-3d96-4c45-85d5-25a73e793741"
      },
      "outputs": [
        {
          "data": {
            "text/html": [
              "\n",
              "  <div id=\"df-e67d74cb-5fea-4e5e-8e73-970e8966f9ad\">\n",
              "    <div class=\"colab-df-container\">\n",
              "      <div>\n",
              "<style scoped>\n",
              "    .dataframe tbody tr th:only-of-type {\n",
              "        vertical-align: middle;\n",
              "    }\n",
              "\n",
              "    .dataframe tbody tr th {\n",
              "        vertical-align: top;\n",
              "    }\n",
              "\n",
              "    .dataframe thead th {\n",
              "        text-align: right;\n",
              "    }\n",
              "</style>\n",
              "<table border=\"1\" class=\"dataframe\">\n",
              "  <thead>\n",
              "    <tr style=\"text-align: right;\">\n",
              "      <th></th>\n",
              "      <th>San Francisco</th>\n",
              "    </tr>\n",
              "  </thead>\n",
              "  <tbody>\n",
              "    <tr>\n",
              "      <th>latitude</th>\n",
              "      <td>0.141920</td>\n",
              "    </tr>\n",
              "    <tr>\n",
              "      <th>bedrooms</th>\n",
              "      <td>0.116459</td>\n",
              "    </tr>\n",
              "    <tr>\n",
              "      <th>availability_90</th>\n",
              "      <td>0.088282</td>\n",
              "    </tr>\n",
              "    <tr>\n",
              "      <th>longitude</th>\n",
              "      <td>0.086429</td>\n",
              "    </tr>\n",
              "    <tr>\n",
              "      <th>room_type_Entire_home/apt</th>\n",
              "      <td>0.066453</td>\n",
              "    </tr>\n",
              "    <tr>\n",
              "      <th>...</th>\n",
              "      <td>...</td>\n",
              "    </tr>\n",
              "    <tr>\n",
              "      <th>amenities_Smartlock</th>\n",
              "      <td>0.000000</td>\n",
              "    </tr>\n",
              "    <tr>\n",
              "      <th>amenities_Crib</th>\n",
              "      <td>0.000000</td>\n",
              "    </tr>\n",
              "    <tr>\n",
              "      <th>amenities_Stair_gates</th>\n",
              "      <td>0.000000</td>\n",
              "    </tr>\n",
              "    <tr>\n",
              "      <th>amenities_Washer_/_Dryer</th>\n",
              "      <td>0.000000</td>\n",
              "    </tr>\n",
              "    <tr>\n",
              "      <th>property_type_Yurt</th>\n",
              "      <td>0.000000</td>\n",
              "    </tr>\n",
              "  </tbody>\n",
              "</table>\n",
              "<p>117 rows × 1 columns</p>\n",
              "</div>\n",
              "      <button class=\"colab-df-convert\" onclick=\"convertToInteractive('df-e67d74cb-5fea-4e5e-8e73-970e8966f9ad')\"\n",
              "              title=\"Convert this dataframe to an interactive table.\"\n",
              "              style=\"display:none;\">\n",
              "        \n",
              "  <svg xmlns=\"http://www.w3.org/2000/svg\" height=\"24px\"viewBox=\"0 0 24 24\"\n",
              "       width=\"24px\">\n",
              "    <path d=\"M0 0h24v24H0V0z\" fill=\"none\"/>\n",
              "    <path d=\"M18.56 5.44l.94 2.06.94-2.06 2.06-.94-2.06-.94-.94-2.06-.94 2.06-2.06.94zm-11 1L8.5 8.5l.94-2.06 2.06-.94-2.06-.94L8.5 2.5l-.94 2.06-2.06.94zm10 10l.94 2.06.94-2.06 2.06-.94-2.06-.94-.94-2.06-.94 2.06-2.06.94z\"/><path d=\"M17.41 7.96l-1.37-1.37c-.4-.4-.92-.59-1.43-.59-.52 0-1.04.2-1.43.59L10.3 9.45l-7.72 7.72c-.78.78-.78 2.05 0 2.83L4 21.41c.39.39.9.59 1.41.59.51 0 1.02-.2 1.41-.59l7.78-7.78 2.81-2.81c.8-.78.8-2.07 0-2.86zM5.41 20L4 18.59l7.72-7.72 1.47 1.35L5.41 20z\"/>\n",
              "  </svg>\n",
              "      </button>\n",
              "      \n",
              "  <style>\n",
              "    .colab-df-container {\n",
              "      display:flex;\n",
              "      flex-wrap:wrap;\n",
              "      gap: 12px;\n",
              "    }\n",
              "\n",
              "    .colab-df-convert {\n",
              "      background-color: #E8F0FE;\n",
              "      border: none;\n",
              "      border-radius: 50%;\n",
              "      cursor: pointer;\n",
              "      display: none;\n",
              "      fill: #1967D2;\n",
              "      height: 32px;\n",
              "      padding: 0 0 0 0;\n",
              "      width: 32px;\n",
              "    }\n",
              "\n",
              "    .colab-df-convert:hover {\n",
              "      background-color: #E2EBFA;\n",
              "      box-shadow: 0px 1px 2px rgba(60, 64, 67, 0.3), 0px 1px 3px 1px rgba(60, 64, 67, 0.15);\n",
              "      fill: #174EA6;\n",
              "    }\n",
              "\n",
              "    [theme=dark] .colab-df-convert {\n",
              "      background-color: #3B4455;\n",
              "      fill: #D2E3FC;\n",
              "    }\n",
              "\n",
              "    [theme=dark] .colab-df-convert:hover {\n",
              "      background-color: #434B5C;\n",
              "      box-shadow: 0px 1px 3px 1px rgba(0, 0, 0, 0.15);\n",
              "      filter: drop-shadow(0px 1px 2px rgba(0, 0, 0, 0.3));\n",
              "      fill: #FFFFFF;\n",
              "    }\n",
              "  </style>\n",
              "\n",
              "      <script>\n",
              "        const buttonEl =\n",
              "          document.querySelector('#df-e67d74cb-5fea-4e5e-8e73-970e8966f9ad button.colab-df-convert');\n",
              "        buttonEl.style.display =\n",
              "          google.colab.kernel.accessAllowed ? 'block' : 'none';\n",
              "\n",
              "        async function convertToInteractive(key) {\n",
              "          const element = document.querySelector('#df-e67d74cb-5fea-4e5e-8e73-970e8966f9ad');\n",
              "          const dataTable =\n",
              "            await google.colab.kernel.invokeFunction('convertToInteractive',\n",
              "                                                     [key], {});\n",
              "          if (!dataTable) return;\n",
              "\n",
              "          const docLinkHtml = 'Like what you see? Visit the ' +\n",
              "            '<a target=\"_blank\" href=https://colab.research.google.com/notebooks/data_table.ipynb>data table notebook</a>'\n",
              "            + ' to learn more about interactive tables.';\n",
              "          element.innerHTML = '';\n",
              "          dataTable['output_type'] = 'display_data';\n",
              "          await google.colab.output.renderOutput(dataTable, element);\n",
              "          const docLink = document.createElement('div');\n",
              "          docLink.innerHTML = docLinkHtml;\n",
              "          element.appendChild(docLink);\n",
              "        }\n",
              "      </script>\n",
              "    </div>\n",
              "  </div>\n",
              "  "
            ],
            "text/plain": [
              "                           San Francisco\n",
              "latitude                        0.141920\n",
              "bedrooms                        0.116459\n",
              "availability_90                 0.088282\n",
              "longitude                       0.086429\n",
              "room_type_Entire_home/apt       0.066453\n",
              "...                                  ...\n",
              "amenities_Smartlock             0.000000\n",
              "amenities_Crib                  0.000000\n",
              "amenities_Stair_gates           0.000000\n",
              "amenities_Washer_/_Dryer        0.000000\n",
              "property_type_Yurt              0.000000\n",
              "\n",
              "[117 rows x 1 columns]"
            ]
          },
          "execution_count": 7,
          "metadata": {},
          "output_type": "execute_result"
        }
      ],
      "source": [
        "explainer.compute_feature_contributors_to_instability().T.sort_values(by=\"San Francisco\", ascending = False)"
      ]
    },
    {
      "attachments": {},
      "cell_type": "markdown",
      "id": "9a3b1550",
      "metadata": {
        "id": "9a3b1550"
      },
      "source": [
        "Latitude and longitude have by far the largest distributional shift between San Francisco and Seattle."
      ]
    },
    {
      "attachments": {},
      "cell_type": "markdown",
      "id": "557f4f34",
      "metadata": {
        "id": "557f4f34"
      },
      "source": [
        "### Analyze root cause of problem and attempt to mitigate issue\n",
        "\n",
        "Example possible causes:\n",
        "1. Mislabeled points\n",
        "2. Train/test not from same distribution\n",
        "3. Data pipeline error\n",
        "4. Too many unimportant features\n",
        "5. Insufficient test data\n",
        "6. Target leakage in the training process\n",
        "\n",
        "We can identify two issues:\n",
        "\n",
        "2: We corroborated through finding (1) high error segments (2) features driving the error and (3) comparing the distance between their distributions, that the distributional shift of latitude and longitude is a large source of error in Seattle.\n",
        "\n",
        "4: Signaled by the feature importance test, the number of unimportant features that may be causing our overfitting.\n",
        "\n",
        "Let's address these issues one at a time. First we can mitigate the error from latitude and longitude.\n",
        "\n",
        "To do so, we will create new features for each city to be the distance from city center (by latitude, longitude and pairwise)."
      ]
    },
    {
      "cell_type": "code",
      "execution_count": null,
      "id": "db724b74",
      "metadata": {
        "colab": {
          "base_uri": "https://localhost:8080/",
          "height": 248
        },
        "id": "db724b74",
        "outputId": "d4e563e8-a1fd-4ee3-b34d-1203a0f5e67f"
      },
      "outputs": [
        {
          "data": {
            "text/html": [
              "<style>#sk-container-id-1 {color: black;background-color: white;}#sk-container-id-1 pre{padding: 0;}#sk-container-id-1 div.sk-toggleable {background-color: white;}#sk-container-id-1 label.sk-toggleable__label {cursor: pointer;display: block;width: 100%;margin-bottom: 0;padding: 0.3em;box-sizing: border-box;text-align: center;}#sk-container-id-1 label.sk-toggleable__label-arrow:before {content: \"▸\";float: left;margin-right: 0.25em;color: #696969;}#sk-container-id-1 label.sk-toggleable__label-arrow:hover:before {color: black;}#sk-container-id-1 div.sk-estimator:hover label.sk-toggleable__label-arrow:before {color: black;}#sk-container-id-1 div.sk-toggleable__content {max-height: 0;max-width: 0;overflow: hidden;text-align: left;background-color: #f0f8ff;}#sk-container-id-1 div.sk-toggleable__content pre {margin: 0.2em;color: black;border-radius: 0.25em;background-color: #f0f8ff;}#sk-container-id-1 input.sk-toggleable__control:checked~div.sk-toggleable__content {max-height: 200px;max-width: 100%;overflow: auto;}#sk-container-id-1 input.sk-toggleable__control:checked~label.sk-toggleable__label-arrow:before {content: \"▾\";}#sk-container-id-1 div.sk-estimator input.sk-toggleable__control:checked~label.sk-toggleable__label {background-color: #d4ebff;}#sk-container-id-1 div.sk-label input.sk-toggleable__control:checked~label.sk-toggleable__label {background-color: #d4ebff;}#sk-container-id-1 input.sk-hidden--visually {border: 0;clip: rect(1px 1px 1px 1px);clip: rect(1px, 1px, 1px, 1px);height: 1px;margin: -1px;overflow: hidden;padding: 0;position: absolute;width: 1px;}#sk-container-id-1 div.sk-estimator {font-family: monospace;background-color: #f0f8ff;border: 1px dotted black;border-radius: 0.25em;box-sizing: border-box;margin-bottom: 0.5em;}#sk-container-id-1 div.sk-estimator:hover {background-color: #d4ebff;}#sk-container-id-1 div.sk-parallel-item::after {content: \"\";width: 100%;border-bottom: 1px solid gray;flex-grow: 1;}#sk-container-id-1 div.sk-label:hover label.sk-toggleable__label {background-color: #d4ebff;}#sk-container-id-1 div.sk-serial::before {content: \"\";position: absolute;border-left: 1px solid gray;box-sizing: border-box;top: 0;bottom: 0;left: 50%;z-index: 0;}#sk-container-id-1 div.sk-serial {display: flex;flex-direction: column;align-items: center;background-color: white;padding-right: 0.2em;padding-left: 0.2em;position: relative;}#sk-container-id-1 div.sk-item {position: relative;z-index: 1;}#sk-container-id-1 div.sk-parallel {display: flex;align-items: stretch;justify-content: center;background-color: white;position: relative;}#sk-container-id-1 div.sk-item::before, #sk-container-id-1 div.sk-parallel-item::before {content: \"\";position: absolute;border-left: 1px solid gray;box-sizing: border-box;top: 0;bottom: 0;left: 50%;z-index: -1;}#sk-container-id-1 div.sk-parallel-item {display: flex;flex-direction: column;z-index: 1;position: relative;background-color: white;}#sk-container-id-1 div.sk-parallel-item:first-child::after {align-self: flex-end;width: 50%;}#sk-container-id-1 div.sk-parallel-item:last-child::after {align-self: flex-start;width: 50%;}#sk-container-id-1 div.sk-parallel-item:only-child::after {width: 0;}#sk-container-id-1 div.sk-dashed-wrapped {border: 1px dashed gray;margin: 0 0.4em 0.5em 0.4em;box-sizing: border-box;padding-bottom: 0.4em;background-color: white;}#sk-container-id-1 div.sk-label label {font-family: monospace;font-weight: bold;display: inline-block;line-height: 1.2em;}#sk-container-id-1 div.sk-label-container {text-align: center;}#sk-container-id-1 div.sk-container {/* jupyter's `normalize.less` sets `[hidden] { display: none; }` but bootstrap.min.css set `[hidden] { display: none !important; }` so we also need the `!important` here to be able to override the default hidden behavior on the sphinx rendered scikit-learn.org. See: https://github.com/scikit-learn/scikit-learn/issues/21755 */display: inline-block !important;position: relative;}#sk-container-id-1 div.sk-text-repr-fallback {display: none;}</style><div id=\"sk-container-id-1\" class=\"sk-top-container\"><div class=\"sk-text-repr-fallback\"><pre>XGBRegressor(base_score=None, booster=None, callbacks=None,\n",
              "             colsample_bylevel=None, colsample_bynode=None,\n",
              "             colsample_bytree=None, early_stopping_rounds=None,\n",
              "             enable_categorical=False, eta=0.2, eval_metric=None,\n",
              "             feature_types=None, gamma=None, gpu_id=None, grow_policy=None,\n",
              "             importance_type=None, interaction_constraints=None,\n",
              "             learning_rate=None, max_bin=None, max_cat_threshold=None,\n",
              "             max_cat_to_onehot=None, max_delta_step=None, max_depth=4,\n",
              "             max_leaves=None, min_child_weight=None, missing=nan,\n",
              "             monotone_constraints=None, n_estimators=100, n_jobs=None,\n",
              "             num_parallel_tree=None, predictor=None, ...)</pre><b>In a Jupyter environment, please rerun this cell to show the HTML representation or trust the notebook. <br />On GitHub, the HTML representation is unable to render, please try loading this page with nbviewer.org.</b></div><div class=\"sk-container\" hidden><div class=\"sk-item\"><div class=\"sk-estimator sk-toggleable\"><input class=\"sk-toggleable__control sk-hidden--visually\" id=\"sk-estimator-id-1\" type=\"checkbox\" checked><label for=\"sk-estimator-id-1\" class=\"sk-toggleable__label sk-toggleable__label-arrow\">XGBRegressor</label><div class=\"sk-toggleable__content\"><pre>XGBRegressor(base_score=None, booster=None, callbacks=None,\n",
              "             colsample_bylevel=None, colsample_bynode=None,\n",
              "             colsample_bytree=None, early_stopping_rounds=None,\n",
              "             enable_categorical=False, eta=0.2, eval_metric=None,\n",
              "             feature_types=None, gamma=None, gpu_id=None, grow_policy=None,\n",
              "             importance_type=None, interaction_constraints=None,\n",
              "             learning_rate=None, max_bin=None, max_cat_threshold=None,\n",
              "             max_cat_to_onehot=None, max_delta_step=None, max_depth=4,\n",
              "             max_leaves=None, min_child_weight=None, missing=nan,\n",
              "             monotone_constraints=None, n_estimators=100, n_jobs=None,\n",
              "             num_parallel_tree=None, predictor=None, ...)</pre></div></div></div></div></div>"
            ],
            "text/plain": [
              "XGBRegressor(base_score=None, booster=None, callbacks=None,\n",
              "             colsample_bylevel=None, colsample_bynode=None,\n",
              "             colsample_bytree=None, early_stopping_rounds=None,\n",
              "             enable_categorical=False, eta=0.2, eval_metric=None,\n",
              "             feature_types=None, gamma=None, gpu_id=None, grow_policy=None,\n",
              "             importance_type=None, interaction_constraints=None,\n",
              "             learning_rate=None, max_bin=None, max_cat_threshold=None,\n",
              "             max_cat_to_onehot=None, max_delta_step=None, max_depth=4,\n",
              "             max_leaves=None, min_child_weight=None, missing=nan,\n",
              "             monotone_constraints=None, n_estimators=100, n_jobs=None,\n",
              "             num_parallel_tree=None, predictor=None, ...)"
            ]
          },
          "execution_count": 8,
          "metadata": {},
          "output_type": "execute_result"
        }
      ],
      "source": [
        "# load data\n",
        "san_francisco = pd.read_csv('https://truera-examples.s3.us-west-2.amazonaws.com/data/starter-performance/San_Francisco.csv')\n",
        "seattle = pd.read_csv('https://truera-examples.s3.us-west-2.amazonaws.com/data/starter-performance/Seattle.csv')\n",
        "\n",
        "#make all float\n",
        "san_francisco = san_francisco.astype(float)\n",
        "seattle = seattle.astype(float)\n",
        "\n",
        "#add point ids\n",
        "sf_ids = [f\"point_{i}\" for i in range(len(san_francisco))]\n",
        "san_francisco[\"id\"] = sf_ids\n",
        "\n",
        "se_ids = [f\"point_{i}\" for i in range(len(seattle))]\n",
        "seattle[\"id\"] = se_ids\n",
        "\n",
        "import math\n",
        "\n",
        "# create a generalizable feature from lat and lon, distance from city center\n",
        "def create_lat_lon_features(df, city_center_lat, city_center_lon):\n",
        "\n",
        "  # calculate the distance from the mean latitude and longitude values\n",
        "\n",
        "  df[\"lat_dist\"] = df[\"latitude\"].apply(lambda x: abs(x - city_center_lat))\n",
        "  df[\"lon_dist\"] = df[\"longitude\"].apply(lambda x: abs(x - city_center_lon))\n",
        "\n",
        "  # calculate the pairwise Euclidean distance between each latitude and longitude\n",
        "  df[\"lat_lon_dist\"] = df.apply(lambda x: math.sqrt(x[\"lat_dist\"]**2 + x[\"lon_dist\"]**2), axis=1)\n",
        "  df = df.drop(['latitude','longitude'], axis = 1)\n",
        "\n",
        "  # return the modified dataframe\n",
        "  return df\n",
        "\n",
        "san_francisco_v2 = create_lat_lon_features(san_francisco, 37.7749, -122.4194)\n",
        "seattle_v2 = create_lat_lon_features(seattle, 47.6062, -122.3321)\n",
        "\n",
        "xgb_reg = xgb.XGBRegressor(eta = 0.2, max_depth = 4)\n",
        "xgb_reg.fit(san_francisco_v2.drop(['price','id'], axis = 1), san_francisco_v2.price)"
      ]
    },
    {
      "cell_type": "code",
      "execution_count": null,
      "id": "9fb0016b",
      "metadata": {
        "colab": {
          "base_uri": "https://localhost:8080/"
        },
        "id": "9fb0016b",
        "outputId": "de4e0722-8584-4354-ca8c-83c1ccfd6257"
      },
      "outputs": [
        {
          "name": "stderr",
          "output_type": "stream",
          "text": [
            "INFO:truera.client.truera_workspace:Download temp_dir: /tmp/tmpwuw2iegv\n",
            "INFO:truera.client.truera_workspace:Syncing data collection \"Data Collection v1\" to local.\n",
            "INFO:truera.client.local.local_truera_workspace:Data collection in local environment is now set to \"Data Collection v1\". \n",
            "INFO:truera.client.truera_workspace:Syncing data split \"San Francisco\" to local.\n",
            "INFO:truera.client.local.local_truera_workspace:Data split \"San Francisco\" is added to local data collection \"Data Collection v1\", and set as the data split for the workspace context.\n",
            "INFO:truera.client.truera_workspace:Syncing data split \"Seattle\" to local.\n",
            "INFO:truera.client.local.local_truera_workspace:Data split \"Seattle\" is added to local data collection \"Data Collection v1\", and set as the data split for the workspace context.\n",
            "INFO:truera.client.truera_workspace:Skipping sync of model \"model_1\" as it is not a PyFunc model.\n",
            "INFO:truera.client.truera_workspace:Syncing segments groups from remote to local.\n",
            "INFO:truera.client.local.local_truera_workspace:The previous data collection (\"Data Collection v1\") and its associated data splits and/or models have been cleared from the local environment workspace context.\n",
            "INFO:truera.client.local.local_truera_workspace:Data collection in local environment is now set to \"Data Collection v2\". \n",
            "INFO:truera.client.local.local_truera_workspace:Data split \"San Francisco\" is added to local data collection \"Data Collection v2\", and set as the data split for the workspace context.\n",
            "INFO:truera.client.local.local_truera_workspace:Data split \"Seattle\" is added to local data collection \"Data Collection v2\", and set as the data split for the workspace context.\n",
            "INFO:truera.client.local.local_truera_workspace:Model \"model_2\" is added and associated with local data collection \"Data Collection v2\". \"model_2\" is set as the model for the workspace context.\n",
            "WARNING:truera.client.truera_workspace:Uploading non-virtual model is not allowed. Will upload virtual models instead.\n",
            "INFO:truera.client.truera_workspace:Uploading data collection Data Collection v1.\n",
            "WARNING:truera.client.truera_workspace:Data Collection Data Collection v1 exists in remote. Skipping upload.\n",
            "INFO:truera.client.local.local_truera_workspace:Data collection in local environment is now set to \"Data Collection v1\". The previous data collection (\"Data Collection v2\") and its associated data splits and/or models have been cleared from the local environment workspace context.\n",
            "WARNING:truera.client.truera_workspace:Data split \"San Francisco\" exists in remote. Skipping upload.\n",
            "WARNING:truera.client.truera_workspace:Data split \"Seattle\" exists in remote. Skipping upload.\n",
            "INFO:truera.client.truera_workspace:Uploading data collection Data Collection v2.\n",
            "INFO:truera.client.local.local_truera_workspace:Data collection in local environment is now set to \"Data Collection v2\". The previous data collection (\"Data Collection v1\") and its associated data splits and/or models have been cleared from the local environment workspace context.\n",
            "INFO:truera.client.truera_workspace:Uploading data split San Francisco.\n"
          ]
        },
        {
          "name": "stdout",
          "output_type": "stream",
          "text": [
            "Uploading tmpx31_1xnq.parquet -- ### -- file upload complete.\n",
            "Put resource done.\n",
            "Uploading tmpwkjqk454.parquet -- ### -- file upload complete.\n",
            "Put resource done.\n"
          ]
        },
        {
          "name": "stderr",
          "output_type": "stream",
          "text": [
            "INFO:truera.client.remote_truera_workspace:Call to join: rowsets ['3a69dc31-5bf6-49d8-a40b-519412e7f140', 'd654814a-22e1-43cc-8790-e6fee62c3520'] on ['id'] with default inner join.\n",
            "INFO:truera.client.truera_workspace:Uploading data split Seattle.\n"
          ]
        },
        {
          "name": "stdout",
          "output_type": "stream",
          "text": [
            "Uploading tmpokanewv1.parquet -- ### -- file upload complete.\n",
            "Put resource done.\n",
            "Uploading tmpx6qio1kn.parquet -- ### -- file upload complete.\n",
            "Put resource done.\n"
          ]
        },
        {
          "name": "stderr",
          "output_type": "stream",
          "text": [
            "INFO:truera.client.remote_truera_workspace:Call to join: rowsets ['646cafb0-fbf0-4c17-b026-1d0bc5f008e2', 'e733eb99-3d50-4817-a3b2-c26ce8dc8670'] on ['id'] with default inner join.\n",
            "INFO:truera.client.local.local_truera_workspace:Setting local model context to \"model_2\".\n",
            "INFO:truera.client.remote_truera_workspace:Setting remote model context to \"model_2\".\n"
          ]
        },
        {
          "name": "stdout",
          "output_type": "stream",
          "text": [
            "Uploading tmp0kyx0aq9parquet -- ### -- file upload complete.\n",
            "Put resource done.\n"
          ]
        },
        {
          "name": "stderr",
          "output_type": "stream",
          "text": [
            "INFO:truera.client.remote_truera_workspace:Waiting for data split to materialize...\n"
          ]
        },
        {
          "name": "stdout",
          "output_type": "stream",
          "text": [
            "Uploading tmp9e2rmnr3parquet -- ### -- file upload complete.\n",
            "Put resource done.\n"
          ]
        },
        {
          "name": "stderr",
          "output_type": "stream",
          "text": [
            "INFO:truera.client.remote_truera_workspace:Waiting for data split to materialize...\n",
            "WARNING:truera.client.local.intelligence.local_explainer:Background split for `data_collection` \"Data Collection v2\" is currently not set. Setting it to \"San Francisco\"\n",
            "INFO:truera.client.truera_workspace:Influence algorithm for local project is: shap\n",
            "WARNING:truera.client.truera_workspace:Computing feature influences for model \"model_2\", data split \"San Francisco\", score type \"regression\" before upload...\n"
          ]
        },
        {
          "name": "stdout",
          "output_type": "stream",
          "text": [
            "Uploading tmp0w7fgbx6parquet -- ### -- file upload complete.\n",
            "Put resource done.\n"
          ]
        },
        {
          "name": "stderr",
          "output_type": "stream",
          "text": [
            "INFO:truera.client.remote_truera_workspace:Waiting for data split to materialize...\n",
            "INFO:truera.client.truera_workspace:Influence algorithm for local project is: shap\n",
            "WARNING:truera.client.truera_workspace:Computing feature influences for model \"model_2\", data split \"Seattle\", score type \"regression\" before upload...\n"
          ]
        },
        {
          "name": "stdout",
          "output_type": "stream",
          "text": [
            "Uploading tmp9q8du5paparquet -- ### -- file upload complete.\n",
            "Put resource done.\n"
          ]
        },
        {
          "name": "stderr",
          "output_type": "stream",
          "text": [
            "INFO:truera.client.remote_truera_workspace:Waiting for data split to materialize...\n",
            "INFO:truera.client.remote_truera_workspace:Model \"model_1\" in remote is associated with a different data_collection (\"Data Collection v1\") than the one in context (\"Data Collection v2\").\n",
            "INFO:truera.client.remote_truera_workspace:Data collection in remote environment is now set to \"Data Collection v1\". The previous data collection (\"Data Collection v2\") and its associated data splits and/or models have been cleared from the remote environment workspace context.\n",
            "INFO:truera.client.remote_truera_workspace:Setting remote model context to \"model_1\".\n"
          ]
        }
      ],
      "source": [
        "# switch to local mode to add new data and model\n",
        "tru.download_project(project_name)\n",
        "tru.set_environment(\"local\")\n",
        "tru.set_project(project_name)\n",
        "\n",
        "# since we changed our feature space, we need to add a new data collection\n",
        "tru.add_data_collection(\"Data Collection v2\")\n",
        "\n",
        "# add data splits\n",
        "tru.add_data_split(\"San Francisco\", pre_data = san_francisco_v2.drop('price', axis = 1), label_data = san_francisco_v2[['id','price']], id_col_name = \"id\", split_type = \"train\")\n",
        "tru.add_data_split(\"Seattle\", pre_data = seattle_v2.drop('price', axis = 1), label_data = seattle_v2[['id','price']], id_col_name = \"id\", split_type = \"test\")\n",
        "\n",
        "# add model\n",
        "tru.add_python_model(\"model_2\", xgb_reg, train_split_name=\"San Francisco\", train_parameters = {\"model_type\":\"xgb.XGBRegressor\", \"eta\":0.2, \"max_depth\":4})\n",
        "\n",
        "# sync with remote\n",
        "tru.upload_project(upload_error_influences = False)\n",
        "# Note that we're explicitly opting not to compute and upload error influences to optimize for ingestion speed. This is because SHAP is not optimized to compute error influences for regression models.\n",
        "# Doing so will disable the \"Debug\" tab under Performance, and the \"Contributors to Error Influence\" tab under Drift.\n",
        "# If you'd like to enable these pages, please remove the flag, i.e. run the method below. Please be aware that doing so will greatly increase the time required for ingestion.\n",
        "# tru.upload_project()"
      ]
    },
    {
      "cell_type": "code",
      "execution_count": null,
      "id": "95b6625a",
      "metadata": {
        "colab": {
          "base_uri": "https://localhost:8080/",
          "height": 179
        },
        "id": "95b6625a",
        "outputId": "85e773bb-5fc1-4363-f964-58f0690d4040"
      },
      "outputs": [
        {
          "name": "stderr",
          "output_type": "stream",
          "text": [
            "INFO:truera.client.remote_truera_workspace:Data collection in remote environment is now set to \"Data Collection v2\". The previous data collection (\"Data Collection v1\") and its associated data splits and/or models have been cleared from the remote environment workspace context.\n",
            "INFO:truera.client.remote_truera_workspace:Setting remote model context to \"model_2\".\n"
          ]
        },
        {
          "data": {
            "text/html": [
              "\n",
              "        <html>\n",
              "        <head>\n",
              "        <style>\n",
              "        table, th, td {\n",
              "            border-radius: 5px;\n",
              "        }\n",
              "        .header {\n",
              "            font-weight: bold;\n",
              "            font-size: 14px;\n",
              "        }\n",
              "        caption {\n",
              "            font-weight: bolder;\n",
              "            font-size: 16px;\n",
              "            background-color: powderblue;\n",
              "            color: black;\n",
              "            border-radius: 5px;\n",
              "        }\n",
              "        \n",
              "            .PASSED {\n",
              "                color: black;\n",
              "                background-color: palegreen;\n",
              "            }\n",
              "            .WARNING {\n",
              "                color: black;\n",
              "                background-color: yellow;\n",
              "            }\n",
              "            .FAILED {\n",
              "                color: black;\n",
              "                background-color: pink;\n",
              "            }\n",
              "            \n",
              "        </style>\n",
              "        </head>\n",
              "        <body>\n",
              "        <table>\n",
              "            <caption>Performance Tests Results for Model \"model_2\"</caption>\n",
              "            <tr class=\"header\"><td></td><td>Name</td><td>Split</td><td>Segment</td><td>Metric</td><td>Score</td><td>Navigate</td></tr>\n",
              "            <tr><td ></td><td >Relative MAE Test</td><td >Seattle</td><td >ALL POINTS</td><td >MAE</td><td class=\"UNDEFINED\">77.062</td><td ><a href=\"https://app.truera.net/home/p/Starter Example Companion - Performance/m/model_2/t/performance?splitId=b074a7e4-0fed-4920-9a73-b4cf4d928f55&modelIds=4ee3ed0c-3ffc-436a-a801-a5a1dce62723&\" target=\"_blank\">Explore in UI</a></td></tr><tr><td >✅</td><td >RMSE Test</td><td >San Francisco</td><td >ALL POINTS</td><td >RMSE</td><td class=\"PASSED\">75.2512</td><td ><a href=\"https://app.truera.net/home/p/Starter Example Companion - Performance/m/model_2/t/performance?splitId=458e5f31-acb6-43ec-9c51-e4f20bb42130&modelIds=4ee3ed0c-3ffc-436a-a801-a5a1dce62723&\" target=\"_blank\">Explore in UI</a></td></tr><tr><td >✅</td><td >RMSE Test</td><td >Seattle</td><td >ALL POINTS</td><td >RMSE</td><td class=\"PASSED\">106.8475</td><td ><a href=\"https://app.truera.net/home/p/Starter Example Companion - Performance/m/model_2/t/performance?splitId=b074a7e4-0fed-4920-9a73-b4cf4d928f55&modelIds=4ee3ed0c-3ffc-436a-a801-a5a1dce62723&\" target=\"_blank\">Explore in UI</a></td></tr>\n",
              "        </table>\n",
              "        </body>\n",
              "        </html>\n",
              "        "
            ],
            "text/plain": [
              "<truera.client.intelligence.model_tests.ModelTestResults at 0x7f7608086640>"
            ]
          },
          "execution_count": 10,
          "metadata": {},
          "output_type": "execute_result"
        }
      ],
      "source": [
        "#toggle back to remote to interact with the tester\n",
        "tru.set_environment(\"remote\")\n",
        "tru.set_project(project_name)\n",
        "tru.set_data_collection(\"Data Collection v2\")\n",
        "tru.set_model(\"model_2\")\n",
        "tru.tester.get_model_test_results(test_types=[\"performance\"])"
      ]
    },
    {
      "attachments": {},
      "cell_type": "markdown",
      "id": "e0eb875e",
      "metadata": {
        "id": "e0eb875e"
      },
      "source": [
        "### 🪄 Huzzah! Using the Test Harness as our guide, we quickly diagnosed the true cause of overfitting and improved performance."
      ]
    }
  ],
  "metadata": {
    "colab": {
      "collapsed_sections": [
        "dbea14e2"
      ],
      "provenance": []
    },
    "gpuClass": "standard",
    "kernelspec": {
      "display_name": "Python 3.10.8 ('eap_demo')",
      "language": "python",
      "name": "python3"
    },
    "language_info": {
      "codemirror_mode": {
        "name": "ipython",
        "version": 3
      },
      "file_extension": ".py",
      "mimetype": "text/x-python",
      "name": "python",
      "nbconvert_exporter": "python",
      "pygments_lexer": "ipython3",
      "version": "3.8.15"
    },
    "latex_envs": {
      "LaTeX_envs_menu_present": true,
      "autoclose": false,
      "autocomplete": true,
      "bibliofile": "biblio.bib",
      "cite_by": "apalike",
      "current_citInitial": 1,
      "eqLabelWithNumbers": true,
      "eqNumInitial": 1,
      "hotkeys": {
        "equation": "Ctrl-E",
        "itemize": "Ctrl-I"
      },
      "labels_anchors": false,
      "latex_user_defs": false,
      "report_style_numbering": false,
      "user_envs_cfg": false
    },
    "toc": {
      "base_numbering": 1,
      "nav_menu": {},
      "number_sections": true,
      "sideBar": true,
      "skip_h1_title": false,
      "title_cell": "Table of Contents",
      "title_sidebar": "Contents",
      "toc_cell": false,
      "toc_position": {},
      "toc_section_display": true,
      "toc_window_display": false
    },
    "vscode": {
      "interpreter": {
        "hash": "da3924fd47657b295ea4ff31ffc159b50bdc67549cd17755b5462d5d6bda3f74"
      }
    }
  },
  "nbformat": 4,
  "nbformat_minor": 5
}

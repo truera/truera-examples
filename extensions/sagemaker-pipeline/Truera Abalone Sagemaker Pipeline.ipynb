{
 "cells": [
  {
   "cell_type": "markdown",
   "id": "b7ab9def-6b1b-40ed-bcdc-b50d777b0680",
   "metadata": {
    "tags": []
   },
   "source": [
    "# Setup Environment"
   ]
  },
  {
   "cell_type": "code",
   "execution_count": null,
   "id": "1e07e47e-6a65-4db2-8b37-5aa0adac5e94",
   "metadata": {},
   "outputs": [],
   "source": [
    "import boto3\n",
    "import sagemaker\n",
    "import sagemaker.session\n",
    "\n",
    "region = boto3.Session().region_name\n",
    "sagemaker_session = sagemaker.session.Session()\n",
    "role = sagemaker.get_execution_role()\n",
    "default_bucket = sagemaker_session.default_bucket()\n",
    "model_package_group_name = f\"AbaloneModelPackageGroupName\""
   ]
  },
  {
   "cell_type": "markdown",
   "id": "c8bc1c86-7f65-41e0-8fa0-6491b56e0ba8",
   "metadata": {},
   "source": [
    "# Step 1: Download the Dataset"
   ]
  },
  {
   "cell_type": "code",
   "execution_count": null,
   "id": "8abddc35-f503-48d3-af54-6e35c2dd0643",
   "metadata": {},
   "outputs": [],
   "source": [
    "!mkdir -p data\n",
    "local_path = \"data/abalone-dataset.csv\"\n",
    "\n",
    "s3 = boto3.resource(\"s3\")\n",
    "s3.Bucket(f\"sagemaker-servicecatalog-seedcode-{region}\").download_file(\n",
    "    \"dataset/abalone-dataset.csv\",\n",
    "    local_path\n",
    ")\n",
    "\n",
    "base_uri = f\"s3://{default_bucket}/abalone\"\n",
    "input_data_uri = sagemaker.s3.S3Uploader.upload(\n",
    "    local_path=local_path, \n",
    "    desired_s3_uri=base_uri,\n",
    ")\n",
    "print(input_data_uri)"
   ]
  },
  {
   "cell_type": "code",
   "execution_count": null,
   "id": "a65ee539-e310-4877-86b1-6063942ee5a9",
   "metadata": {},
   "outputs": [],
   "source": [
    "local_path = \"data/abalone-dataset-batch\"\n",
    "\n",
    "s3 = boto3.resource(\"s3\")\n",
    "s3.Bucket(f\"sagemaker-servicecatalog-seedcode-{region}\").download_file(\n",
    "    \"dataset/abalone-dataset-batch\",\n",
    "    local_path\n",
    ")\n",
    "\n",
    "base_uri = f\"s3://{default_bucket}/abalone\"\n",
    "batch_data_uri = sagemaker.s3.S3Uploader.upload(\n",
    "    local_path=local_path, \n",
    "    desired_s3_uri=base_uri,\n",
    ")\n",
    "print(batch_data_uri)"
   ]
  },
  {
   "cell_type": "markdown",
   "id": "4c1a1455-8d18-4c74-a62a-ecfcf3beb303",
   "metadata": {},
   "source": [
    "# Step 2: Define Pipeline Parameters"
   ]
  },
  {
   "cell_type": "code",
   "execution_count": null,
   "id": "0e34d0f9-8bc5-42ba-90df-7e84047a4378",
   "metadata": {},
   "outputs": [],
   "source": [
    "from sagemaker.workflow.parameters import (\n",
    "    ParameterInteger,\n",
    "    ParameterString\n",
    ")\n",
    "\n",
    "processing_instance_count = ParameterInteger(\n",
    "    name=\"ProcessingInstanceCount\",\n",
    "    default_value=1\n",
    ")\n",
    "model_approval_status = ParameterString(\n",
    "    name=\"ModelApprovalStatus\",\n",
    "    default_value=\"PendingManualApproval\"\n",
    ")\n",
    "input_data = ParameterString(\n",
    "    name=\"InputData\",\n",
    "    default_value=input_data_uri,\n",
    ")\n",
    "batch_data = ParameterString(\n",
    "    name=\"BatchData\",\n",
    "    default_value=batch_data_uri,\n",
    ")"
   ]
  },
  {
   "cell_type": "markdown",
   "id": "a1958fa8-7462-41e0-b31a-ca4b10b247df",
   "metadata": {},
   "source": [
    "## TruEra Params"
   ]
  },
  {
   "cell_type": "code",
   "execution_count": null,
   "id": "600ab0a8-89c8-4f7d-9923-418954d3d790",
   "metadata": {
    "tags": []
   },
   "outputs": [],
   "source": [
    "CONNECTION_STRING = <INSERT YOUR DEPLOYMENT URL>"
   ]
  },
  {
   "cell_type": "code",
   "execution_count": null,
   "id": "126ed9a3-26c7-43f6-aa7b-408c05502b51",
   "metadata": {
    "tags": []
   },
   "outputs": [],
   "source": [
    "from random import randrange\n",
    "from datetime import date, datetime\n",
    "version=randrange(1000)\n",
    "\n",
    "PROJECT_NAME = \"SM TruEra Pipeline {} {}\".format(date.today(), version)\n",
    "DATA_COLLECTION_NAME = \"Abalone\""
   ]
  },
  {
   "cell_type": "code",
   "execution_count": null,
   "id": "b4a71d5d-87e3-4bf0-84f2-b199b154a0e9",
   "metadata": {},
   "outputs": [],
   "source": [
    "with open(\"truera_credentials.json\", \"r\") as f:\n",
    "    _ = json.load(f)\n",
    "    TRUERA_CLIENT_ID = _[\"client ID\"]\n",
    "    TRUERA_SECRET = _[\"client secret\"]\n",
    "\n",
    "client_id = ParameterString(name=\"TrueraClientID\", default_value=TRUERA_CLIENT_ID)\n",
    "client_secret = ParameterString(name=\"TrueraSecret\", default_value=TRUERA_SECRET)\n",
    "connection_string = ParameterString(name=\"TrueraConnectionString\", default_value=CONNECTION_STRING)\n",
    "project_name = ParameterString(name=\"TrueraProjectName\", default_value=PROJECT_NAME)\n",
    "data_collection_name = ParameterString(name=\"TrueraDataCollectionName\", default_value=DATA_COLLECTION_NAME)"
   ]
  },
  {
   "cell_type": "markdown",
   "id": "f82ab8d8-4d96-43d0-b39b-c49bb94b61c3",
   "metadata": {},
   "source": [
    "Create env for script vars"
   ]
  },
  {
   "cell_type": "code",
   "execution_count": null,
   "id": "648b43b0-dd9f-47bc-8229-b4814a0fb13f",
   "metadata": {},
   "outputs": [],
   "source": [
    "env = {\n",
    "    \"TRUERA_CLIENT_ID\": client_id,\n",
    "    \"TRUERA_SECRET\": client_secret,\n",
    "    \"TRUERA_CONNECTION_STRING\": connection_string,\n",
    "    \"TRUERA_PROJECT_NAME\": project_name,\n",
    "    \"TRUERA_DATA_COLLECTION_NAME\": data_collection_name\n",
    "}"
   ]
  },
  {
   "cell_type": "markdown",
   "id": "12d2375c-085a-4a44-962a-676d1130e219",
   "metadata": {
    "tags": []
   },
   "source": [
    "## Step 2.1: Configure TruEra SDK\n",
    "* also configure Pipeline Params for later use\n",
    "* NOTE: basic username and password used here, as test server used for development purposes does not have service accounts enabled, and TOKEN auth is not supported because len TOKEN > allowable len of SM Pipeline Parameters. Code is left in place to convert back to ServiceAccountAuthentication"
   ]
  },
  {
   "cell_type": "code",
   "execution_count": null,
   "id": "ede8f9c5-e7dc-4943-8384-7841be7e3bb4",
   "metadata": {},
   "outputs": [],
   "source": [
    "import json\n",
    "import os\n",
    "\n",
    "from truera.client.truera_workspace import TrueraWorkspace\n",
    "from truera.client.truera_authentication import ServiceAccountAuthentication\n",
    "from truera.client.truera_authentication import TokenAuthentication\n",
    "from truera.client.truera_authentication import BasicAuthentication\n",
    "\n",
    "from truera.client.ingestion import ColumnSpec, ModelOutputContext\n",
    "from truera.client.public.communicator.http_communicator import AlreadyExistsError"
   ]
  },
  {
   "cell_type": "markdown",
   "id": "064df548-bd5b-469a-96a1-d5dad9dff86b",
   "metadata": {},
   "source": [
    "## Step 2.2: Create TruEra project and data collection"
   ]
  },
  {
   "cell_type": "code",
   "execution_count": null,
   "id": "d39fc8fd-e95b-4309-b5b9-7ac9a49c67be",
   "metadata": {
    "tags": []
   },
   "outputs": [],
   "source": [
    "auth = ServiceAccountAuthentication(\n",
    "    client_id = TRUERA_CLIENT_ID,\n",
    "    client_secret = TRUERA_CLIENT_SECRET\n",
    ")"
   ]
  },
  {
   "cell_type": "code",
   "execution_count": null,
   "id": "f011d97f-1cc6-4a28-a0db-02085c688b88",
   "metadata": {
    "tags": []
   },
   "outputs": [],
   "source": [
    "tru = TrueraWorkspace(CONNECTION_STRING, auth)\n",
    "try:\n",
    "    tru.add_project(PROJECT_NAME, score_type=\"regression\")\n",
    "except AlreadyExistsError as e:\n",
    "    tru.delete_project(PROJECT_NAME)\n",
    "    tru.add_project(PROJECT_NAME, score_type=\"regression\")\n",
    "tru.add_data_collection(DATA_COLLECTION_NAME)"
   ]
  },
  {
   "cell_type": "code",
   "execution_count": null,
   "id": "99b8b9ec-5b92-4f73-949e-a16714aedb14",
   "metadata": {},
   "outputs": [],
   "source": [
    "#change this param to \"truera-qii\" if it is available\n",
    "tru.set_influence_type(\"shap\")"
   ]
  },
  {
   "cell_type": "markdown",
   "id": "67fa9162-fc85-4758-99ab-69a62e706851",
   "metadata": {},
   "source": [
    "# Step 3: Define a Processing Step for Feature Engineering\n",
    "* This processing step also loads in the processed data into your TruEra Project"
   ]
  },
  {
   "cell_type": "code",
   "execution_count": null,
   "id": "e5df9f7b-ece7-4993-abdb-1504da76ca5b",
   "metadata": {},
   "outputs": [],
   "source": [
    "#!mkdir -p abalone_truera"
   ]
  },
  {
   "cell_type": "code",
   "execution_count": null,
   "id": "79f9508a-e583-4b4d-abfb-9d0e6a8ecaf6",
   "metadata": {},
   "outputs": [],
   "source": [
    "%%writefile abalone_truera/preprocessing.py\n",
    "import argparse\n",
    "import os\n",
    "import requests\n",
    "import tempfile\n",
    "import numpy as np\n",
    "import pandas as pd\n",
    "\n",
    "from sklearn.compose import ColumnTransformer\n",
    "from sklearn.impute import SimpleImputer\n",
    "from sklearn.pipeline import Pipeline\n",
    "from sklearn.preprocessing import StandardScaler, OneHotEncoder\n",
    "\n",
    "import sys, os, subprocess\n",
    "def install(package):\n",
    "    subprocess.check_call([sys.executable, \"-m\", \"pip\", \"install\", package])\n",
    "\n",
    "#install(\"numpy>=1.21\")\n",
    "install(\"truera\")\n",
    "#install(\"numpy==1.24.1\")\n",
    "#install(\"protobuf==3.20.2\")\n",
    "\n",
    "from truera.client.truera_workspace import TrueraWorkspace\n",
    "#from truera.client.truera_authentication import TokenAuthentication\n",
    "#from truera.client.truera_authentication import BasicAuthentication\n",
    "from truera.client.truera_authentication import ServiceAccountAuthentication\n",
    "from truera.client.ingestion import ColumnSpec, ModelOutputContext\n",
    "\n",
    "# Because this is a headerless CSV file, specify the column names here.\n",
    "feature_columns_names = [\n",
    "    \"sex\",\n",
    "    \"length\",\n",
    "    \"diameter\",\n",
    "    \"height\",\n",
    "    \"whole_weight\",\n",
    "    \"shucked_weight\",\n",
    "    \"viscera_weight\",\n",
    "    \"shell_weight\",\n",
    "]\n",
    "label_column = \"rings\"\n",
    "\n",
    "feature_columns_dtype = {\n",
    "    \"sex\": str,\n",
    "    \"length\": np.float64,\n",
    "    \"diameter\": np.float64,\n",
    "    \"height\": np.float64,\n",
    "    \"whole_weight\": np.float64,\n",
    "    \"shucked_weight\": np.float64,\n",
    "    \"viscera_weight\": np.float64,\n",
    "    \"shell_weight\": np.float64\n",
    "}\n",
    "label_column_dtype = {\"rings\": np.float64}\n",
    "\n",
    "\n",
    "def merge_two_dicts(x, y):\n",
    "    z = x.copy()\n",
    "    z.update(y)\n",
    "    return z\n",
    "\n",
    "##Pre-processing + TruEra ingestion\n",
    "if __name__ == \"__main__\":\n",
    "    base_dir = \"/opt/ml/processing\"\n",
    "\n",
    "    df = pd.read_csv(\n",
    "        f\"{base_dir}/input/abalone-dataset.csv\",\n",
    "        header=None, \n",
    "        names=feature_columns_names + [label_column],\n",
    "        dtype=merge_two_dicts(feature_columns_dtype, label_column_dtype)\n",
    "    )\n",
    "    numeric_features = list(feature_columns_names)\n",
    "    numeric_features.remove(\"sex\")\n",
    "    numeric_transformer = Pipeline(\n",
    "        steps=[\n",
    "            (\"imputer\", SimpleImputer(strategy=\"median\")),\n",
    "            (\"scaler\", StandardScaler())\n",
    "        ]\n",
    "    )\n",
    "\n",
    "    categorical_features = [\"sex\"]\n",
    "    categorical_transformer = Pipeline(\n",
    "        steps=[\n",
    "            (\"imputer\", SimpleImputer(strategy=\"constant\", fill_value=\"missing\")),\n",
    "            (\"onehot\", OneHotEncoder(handle_unknown=\"ignore\"))\n",
    "        ]\n",
    "    )\n",
    "\n",
    "    preprocess = ColumnTransformer(\n",
    "        transformers=[\n",
    "            (\"num\", numeric_transformer, numeric_features),\n",
    "            (\"cat\", categorical_transformer, categorical_features)\n",
    "        ]\n",
    "    )\n",
    "    \n",
    "    y = df.pop(\"rings\")\n",
    "    X_pre = preprocess.fit_transform(df)\n",
    "\n",
    "    #get post transform column names, as list\n",
    "    ohe_feat = preprocess.transformers_[1][1]\\\n",
    "        ['onehot'].get_feature_names_out()\n",
    "    cat_post_list = ohe_feat.tolist()\n",
    "    input_columns = ['rings']+numeric_features+cat_post_list\n",
    "\n",
    "    y_pre = y.to_numpy().reshape(len(y), 1)\n",
    "    X = np.concatenate((y_pre, X_pre), axis=1)\n",
    "\n",
    "    np.random.shuffle(X)\n",
    "    train, validation, test = np.split(X, [int(.7*len(X)), int(.85*len(X))])\n",
    "\n",
    "    train_df = pd.DataFrame(train)\n",
    "    train_df.columns = [str(c) for c in input_columns]\n",
    "    train_df.to_csv(f\"{base_dir}/train/train.csv\", header=False, index=False)\n",
    "    validation_df = pd.DataFrame(validation)\n",
    "    validation_df.columns = [str(c) for c in input_columns]\n",
    "    validation_df.to_csv(f\"{base_dir}/validation/validation.csv\", header=False, index=False)\n",
    "    test_df = pd.DataFrame(test)\n",
    "    test_df.columns = [str(c) for c in input_columns]\n",
    "    test_df.to_csv(f\"{base_dir}/test/test.csv\", header=False, index=False)\n",
    "    \n",
    "    ##########################\n",
    "    ## Truera code ##\n",
    "    ##########################\n",
    "    \n",
    "    auth = ServiceAccountAuthentication(\n",
    "    client_id = os.environ['TRUERA_CLIENT_ID'],\n",
    "    client_secret = os.environ['TRUERA_SECRET'])\n",
    "    \n",
    "    tru = TrueraWorkspace(os.environ['TRUERA_CONNECTION_STRING'], auth,verify_cert=False)\n",
    "    tru.set_project(os.environ['TRUERA_PROJECT_NAME'])\n",
    "    tru.set_data_collection(os.environ['TRUERA_DATA_COLLECTION_NAME'])\n",
    "    \n",
    "    ids = 'index'\n",
    "    \n",
    "    #we are not using a feature map here, so model-readable columns are read in as \"pre\" data\n",
    "    print(train_df.shape)\n",
    "    tru.add_data(data=train_df.reset_index(), \n",
    "                 data_split_name='train',\n",
    "                 column_spec=ColumnSpec(id_col_name=ids,\n",
    "                                        pre_data_col_names=input_columns[1:],\n",
    "                                        label_col_names=input_columns[0]))\n",
    "    print(validation_df.shape)\n",
    "    tru.add_data(data=validation_df.reset_index(), \n",
    "                 data_split_name='validation',\n",
    "                 column_spec=ColumnSpec(id_col_name=ids,\n",
    "                                        pre_data_col_names=input_columns[1:],\n",
    "                                        label_col_names=input_columns[0]))\n",
    "\n",
    "    print(test_df.shape)\n",
    "    tru.add_data(data=test_df.reset_index(), \n",
    "                 data_split_name='test',\n",
    "                 column_spec=ColumnSpec(id_col_name=ids,\n",
    "                                        pre_data_col_names=input_columns[1:],\n",
    "                                        label_col_names=input_columns[0]))"
   ]
  },
  {
   "cell_type": "code",
   "execution_count": null,
   "id": "b5fe8155-aed7-4ae7-bf65-2bc5b3fd3f9a",
   "metadata": {},
   "outputs": [],
   "source": [
    "from sagemaker.sklearn.processing import SKLearnProcessor\n",
    "\n",
    "# framework_version = \"0.23-1\"\n",
    "framework_version = \"1.2-1\"\n",
    "\n",
    "\n",
    "sklearn_processor = SKLearnProcessor(\n",
    "    framework_version=framework_version,\n",
    "    instance_type=\"ml.m5.xlarge\",\n",
    "    instance_count=processing_instance_count,\n",
    "    base_job_name=\"sklearn-abalone-process\",\n",
    "    role=role,\n",
    "    env=env # Truera env variables\n",
    ")"
   ]
  },
  {
   "cell_type": "code",
   "execution_count": null,
   "id": "331c30dc-654f-42b7-be30-9a61849ee259",
   "metadata": {},
   "outputs": [],
   "source": [
    "from sagemaker.processing import ProcessingInput, ProcessingOutput\n",
    "from sagemaker.workflow.steps import ProcessingStep\n",
    "    \n",
    "\n",
    "step_process = ProcessingStep(\n",
    "    name=\"TrueraProcessAndIngestData\",  # Different name\n",
    "    processor=sklearn_processor,\n",
    "    inputs=[\n",
    "      ProcessingInput(source=input_data, destination=\"/opt/ml/processing/input\"),  \n",
    "    ],\n",
    "    outputs=[\n",
    "        ProcessingOutput(output_name=\"train\", source=\"/opt/ml/processing/train\"),\n",
    "        ProcessingOutput(output_name=\"validation\", source=\"/opt/ml/processing/validation\"),\n",
    "        ProcessingOutput(output_name=\"test\", source=\"/opt/ml/processing/test\")\n",
    "    ],\n",
    "    code=\"abalone_truera/preprocessing.py\", # Truera script\n",
    ")"
   ]
  },
  {
   "cell_type": "markdown",
   "id": "fd3a642e-755c-467e-9001-3f3382465e44",
   "metadata": {},
   "source": [
    "# Step 4: Define a Training step"
   ]
  },
  {
   "cell_type": "code",
   "execution_count": null,
   "id": "1bb15811-ce0f-4009-bf87-f5ecd8d670a4",
   "metadata": {},
   "outputs": [],
   "source": [
    "model_path = f\"s3://{default_bucket}/AbaloneTrain\""
   ]
  },
  {
   "cell_type": "code",
   "execution_count": null,
   "id": "03ca594e-588e-4de3-8fad-554fe378fa0b",
   "metadata": {},
   "outputs": [],
   "source": [
    "from sagemaker.estimator import Estimator\n",
    "\n",
    "image_uri = sagemaker.image_uris.retrieve(\n",
    "    framework=\"xgboost\",\n",
    "    region=region,\n",
    "    #version=\"1.0-1\", # Note a version change\n",
    "    version=\"1.7-1\",\n",
    "    py_version=\"py3\",\n",
    "    instance_type=\"ml.m5.xlarge\"\n",
    ")\n",
    "\n",
    "xgb_train = Estimator(\n",
    "    image_uri=image_uri,\n",
    "    instance_type=\"ml.m5.xlarge\",\n",
    "    instance_count=1,\n",
    "    output_path=model_path,\n",
    "    role=role,\n",
    ")\n",
    "\n",
    "xgb_train.set_hyperparameters(\n",
    "    objective=\"reg:linear\",\n",
    "    num_round=50,\n",
    "    max_depth=5,\n",
    "    eta=0.2,\n",
    "    gamma=4,\n",
    "    min_child_weight=6,\n",
    "    subsample=0.7\n",
    "    # silent=0\n",
    ")"
   ]
  },
  {
   "cell_type": "code",
   "execution_count": null,
   "id": "857a9413-5a06-471a-b0d5-58c5cae234c0",
   "metadata": {},
   "outputs": [],
   "source": [
    "from sagemaker.inputs import TrainingInput\n",
    "from sagemaker.workflow.steps import TrainingStep\n",
    "\n",
    "step_train = TrainingStep(\n",
    "    name=\"AbaloneTrain\",\n",
    "    estimator=xgb_train,\n",
    "    inputs={\n",
    "        \"train\": TrainingInput(\n",
    "            s3_data=step_process.properties.ProcessingOutputConfig.Outputs[\n",
    "                \"train\"\n",
    "            ].S3Output.S3Uri,\n",
    "            content_type=\"text/csv\"\n",
    "        ),\n",
    "        \"validation\": TrainingInput(\n",
    "            s3_data=step_process.properties.ProcessingOutputConfig.Outputs[\n",
    "                \"validation\"\n",
    "            ].S3Output.S3Uri,\n",
    "            content_type=\"text/csv\"\n",
    "        )\n",
    "    },\n",
    ")"
   ]
  },
  {
   "cell_type": "markdown",
   "id": "0392720d-8cf0-43ff-bc3c-5cefcfb4b8ee",
   "metadata": {},
   "source": [
    "# Step 5: Define a Processing Step for Model Evaluation\n",
    "## This evaluation step includes TruEra SDK methods to do the following:\n",
    "1. add the python model object to the project\n",
    "2. For each split added to the data collection in the Processing step,\n",
    "  a. compute and upload predictions\n",
    "  b. compute and upload feature value influences\n",
    "  c. compute and upload feature residual (error) influences"
   ]
  },
  {
   "cell_type": "code",
   "execution_count": null,
   "id": "c00b2e24-368b-41fc-b396-e6ec4ab3ee15",
   "metadata": {},
   "outputs": [],
   "source": [
    "%%writefile abalone_truera/evaluation.py\n",
    "\n",
    "import sys, os, subprocess\n",
    "def install(package):\n",
    "    subprocess.check_call([sys.executable, \"-m\", \"pip\", \"install\", package])\n",
    "\n",
    "install(\"numpy>=1.21\")\n",
    "install(\"truera\")\n",
    "#install(\"numpy==1.24.1\")\n",
    "#install(\"protobuf==3.20.2\")\n",
    "\n",
    "#import shap\n",
    "from truera.client.truera_workspace import TrueraWorkspace\n",
    "from truera.client.truera_authentication import TokenAuthentication\n",
    "from truera.client.truera_authentication import BasicAuthentication\n",
    "from truera.client.truera_authentication import ServiceAccountAuthentication\n",
    "from truera.client.ingestion import ColumnSpec, ModelOutputContext\n",
    "\n",
    "import json\n",
    "import pathlib\n",
    "import tarfile\n",
    "import numpy as np\n",
    "import pandas as pd\n",
    "import xgboost\n",
    "\n",
    "import os\n",
    "\n",
    "from sklearn.metrics import mean_squared_error\n",
    "\n",
    "if __name__ == \"__main__\":\n",
    "    model_path = f\"/opt/ml/processing/model/model.tar.gz\"\n",
    "    with tarfile.open(model_path) as tar:\n",
    "        tar.extractall(path=\".\")\n",
    "    \n",
    "    cmd = 'ls -lar'\n",
    "    os.system(cmd)\n",
    "    model = xgboost.Booster()\n",
    "    model.load_model('xgboost-model')\n",
    "\n",
    "    ##########################\n",
    "    ## Truera code ##\n",
    "    ##########################\n",
    "\n",
    "    auth = ServiceAccountAuthentication(\n",
    "    client_id = os.environ['TRUERA_CLIENT_ID'],\n",
    "    client_secret = os.environ['TRUERA_SECRET'])\n",
    "    \n",
    "    tru = TrueraWorkspace(os.environ['TRUERA_CONNECTION_STRING'], auth, verify_cert=False)\n",
    "    tru.set_project(os.environ['TRUERA_PROJECT_NAME'])\n",
    "    tru.set_data_collection(os.environ['TRUERA_DATA_COLLECTION_NAME'])\n",
    "    tru.set_model_execution(\"local\")\n",
    "    \n",
    "    #add model object\n",
    "    tru.add_python_model(\"xgb_abalone_regression\", model)\n",
    "    \n",
    "    for split in tru.get_data_splits():\n",
    "        print('loading data split {}'.format(split))\n",
    "        tru.set_data_split(split)\n",
    "        temp = tru.get_xs()\n",
    "        DMtemp = xgboost.DMatrix(temp)\n",
    "        \n",
    "        print('generating predictions for split {}'.format(split))\n",
    "        preds = model.predict(DMtemp)\n",
    "        preds_df = pd.DataFrame(preds, index=temp.index, columns=['rings']).reset_index()\n",
    "\n",
    "        print('adding predictions to data split {}'.format(split))\n",
    "        tru.add_data(\n",
    "        data=preds_df,\n",
    "        data_split_name=split,\n",
    "        column_spec=ColumnSpec(\n",
    "            id_col_name=\"index\",\n",
    "            prediction_col_names='rings'),\n",
    "\n",
    "        model_output_context=ModelOutputContext(\n",
    "            model_name=tru.get_models()[0],\n",
    "            score_type='regression')\n",
    "        )\n",
    "\n",
    "        print('generating and uploading feature influences for split {}'.format(split))\n",
    "        tru.compute_feature_influences()\n",
    "        print('generating and uploading error influences for split {}'.format(split))\n",
    "        tru.compute_error_influences()\n",
    "\n",
    "    #Example Tests\n",
    "    tru.tester.add_performance_test(test_name=\"MSE test\",\n",
    "                                    data_split_names=tru.get_data_splits(), \n",
    "                                    metric=\"MSE\", \n",
    "                                    warn_if_greater_than = 3,\n",
    "                                    fail_if_greater_than = 6)\n",
    "\n",
    "    tru.tester.add_performance_test(test_name=\"MAPE test\",\n",
    "                                    data_split_names=tru.get_data_splits(), \n",
    "                                    metric=\"MAPE\", \n",
    "                                    warn_if_greater_than = 8,\n",
    "                                    fail_if_greater_than = 16)\n",
    "\n",
    "    tru.tester.add_performance_test(test_name=\"MAE test\",\n",
    "                                    data_split_names=tru.get_data_splits(), \n",
    "                                    metric=\"MAE\", \n",
    "                                    warn_if_greater_than = 2,\n",
    "                                    fail_if_greater_than = 4)\n",
    "\n",
    "    metric_dict = tru.tester.get_model_test_results().as_dict()[\"Performance Tests\"]\n",
    "    metric_df = pd.DataFrame(metric_dict[\"Rows\"], columns=metric_dict[\"Column Names\"])\n",
    "\n",
    "    report_dict = {\n",
    "        \"regression_metrics\": {}\n",
    "    }\n",
    "\n",
    "    num_tests = 0\n",
    "    num_passed = 0\n",
    "    for metric in metric_df[\"Metric\"].unique():\n",
    "        num_tests += 1\n",
    "        row = metric_df[(metric_df[\"Metric\"] == metric) & (metric_df[\"Split\"] == \"test\")].iloc[0]\n",
    "        score = row['Score']\n",
    "        print(f\"Metric: {metric} \\t Value: {score} \\t Outcome: {row['Outcome']}\")\n",
    "\n",
    "        if row[\"Outcome\"] == \"PASSED\":\n",
    "            num_passed += 1\n",
    "\n",
    "        report_dict[\"regression_metrics\"][metric] = {\"value\": score}\n",
    "\n",
    "    report_dict[\"test_metrics\"] = {\n",
    "        \"total_tests\": num_tests,\n",
    "        \"num_passing\": num_passed,\n",
    "        \"passing_percentage\": num_passed / num_tests,\n",
    "    }\n",
    "    report_dict[\"test_results\"] = metric_dict\n",
    "    print(f\"Tests passing: {num_passed}/{num_tests}\")\n",
    "\n",
    "    ##############################\n",
    "    ## END Truera-specific code ##\n",
    "    ##############################\n",
    "\n",
    "    output_dir = \"/opt/ml/processing/evaluation\"\n",
    "    pathlib.Path(output_dir).mkdir(parents=True, exist_ok=True)\n",
    "    \n",
    "    evaluation_path = f\"{output_dir}/evaluation.json\"\n",
    "    with open(evaluation_path, \"w\") as f:\n",
    "        f.write(json.dumps(report_dict))"
   ]
  },
  {
   "cell_type": "code",
   "execution_count": null,
   "id": "866df2c2-23f4-424d-b91e-09bbc027bc88",
   "metadata": {},
   "outputs": [],
   "source": [
    "processor_image_uri = sagemaker.image_uris.retrieve(\n",
    "    framework=\"xgboost\",\n",
    "    region=region,\n",
    "    #version=\"1.7-1\", # Note a version change\n",
    "    version=\"1.7-1\",\n",
    "    py_version=\"py3\",\n",
    "    instance_type=\"ml.m5.2xlarge\"\n",
    ")"
   ]
  },
  {
   "cell_type": "code",
   "execution_count": null,
   "id": "32f18b42-a39b-48ef-8cb1-253282da4558",
   "metadata": {},
   "outputs": [],
   "source": [
    "from sagemaker.processing import ScriptProcessor\n",
    "\n",
    "script_eval = ScriptProcessor(\n",
    "    image_uri=processor_image_uri,\n",
    "    command=[\"python3\"],\n",
    "    instance_type=\"ml.m5.2xlarge\",\n",
    "    instance_count=1,\n",
    "    base_job_name=\"script-abalone-eval\",\n",
    "    role=role,\n",
    "    env=env # Truera env variables\n",
    ")"
   ]
  },
  {
   "cell_type": "code",
   "execution_count": null,
   "id": "ad774cd1-eb8a-4781-b049-5489e3736479",
   "metadata": {
    "tags": []
   },
   "outputs": [],
   "source": [
    "#print(step_train.inputs['train'])\n",
    "dir(step_train.properties.RoleArn)\n",
    "step_train.properties.RoleArn\n",
    "#print(dir(step_train.properties.ModelArtifacts.S3ModelArtifacts))\n",
    "#step_train.properties.ModelArtifacts.S3ModelArtifacts\n",
    "#step_process.properties.ProcessingOutputConfig.Outputs[\"test\"].S3Output.S3Uri"
   ]
  },
  {
   "cell_type": "code",
   "execution_count": null,
   "id": "dbac37fe-726a-4199-ba74-56b12de36a74",
   "metadata": {},
   "outputs": [],
   "source": [
    "from sagemaker.workflow.properties import PropertyFile\n",
    "\n",
    "\n",
    "evaluation_report = PropertyFile(\n",
    "    name=\"EvaluationReport\",\n",
    "    output_name=\"evaluation\",\n",
    "    path=\"evaluation.json\"\n",
    ")\n",
    "step_eval = ProcessingStep(\n",
    "    name=\"TrueraEval\",\n",
    "    processor=script_eval,\n",
    "    inputs=[\n",
    "        ProcessingInput(\n",
    "            source=step_train.properties.ModelArtifacts.S3ModelArtifacts,\n",
    "            destination=\"/opt/ml/processing/model\"\n",
    "        ),\n",
    "        ProcessingInput(\n",
    "            source=step_process.properties.ProcessingOutputConfig.Outputs[\n",
    "                \"test\"\n",
    "            ].S3Output.S3Uri,\n",
    "            destination=\"/opt/ml/processing/test\"\n",
    "        )\n",
    "    ],\n",
    "    outputs=[\n",
    "        ProcessingOutput(output_name=\"evaluation\", source=\"/opt/ml/processing/evaluation\"),\n",
    "    ],\n",
    "    code=\"abalone_truera/evaluation.py\",\n",
    "    property_files=[evaluation_report],\n",
    ")"
   ]
  },
  {
   "cell_type": "markdown",
   "id": "c2c75b4d-c72b-40f1-ba23-5929631be11f",
   "metadata": {},
   "source": [
    "# Step 6: Define a CreateModelStep for Batch Transformation"
   ]
  },
  {
   "cell_type": "code",
   "execution_count": null,
   "id": "ef60acb4-8a6e-4b5e-ae65-8b8a1ac7fc3f",
   "metadata": {},
   "outputs": [],
   "source": [
    "from sagemaker.model import Model\n",
    "\n",
    "model = Model(\n",
    "    image_uri=image_uri,\n",
    "    model_data=step_train.properties.ModelArtifacts.S3ModelArtifacts,\n",
    "    sagemaker_session=sagemaker_session,\n",
    "    role=role,\n",
    ")"
   ]
  },
  {
   "cell_type": "code",
   "execution_count": null,
   "id": "af078a80-bae5-4a64-96af-f4bb5bd0bef6",
   "metadata": {},
   "outputs": [],
   "source": [
    "from sagemaker.inputs import CreateModelInput\n",
    "\n",
    "\n",
    "inputs = CreateModelInput(\n",
    "    instance_type=\"ml.m5.large\",\n",
    "    accelerator_type=\"ml.eia1.medium\",\n",
    ")"
   ]
  },
  {
   "cell_type": "code",
   "execution_count": null,
   "id": "61888f4f-00a3-4d3a-8a00-6fe823fd1843",
   "metadata": {},
   "outputs": [],
   "source": [
    "from sagemaker.workflow.steps import CreateModelStep\n",
    "\n",
    "\n",
    "step_create_model = CreateModelStep(\n",
    "    name=\"AbaloneCreateModel\",\n",
    "    model=model,\n",
    "    inputs=inputs,\n",
    ")"
   ]
  },
  {
   "cell_type": "markdown",
   "id": "7843e763-f995-46c1-8b90-8f8fde754d24",
   "metadata": {},
   "source": [
    "# Step 7: Define a TransformStep to Perform Batch Transformation"
   ]
  },
  {
   "cell_type": "code",
   "execution_count": null,
   "id": "8c321c7f-7f2f-4d36-835f-d89ce7ae3a87",
   "metadata": {},
   "outputs": [],
   "source": [
    "from sagemaker.transformer import Transformer\n",
    "\n",
    "\n",
    "transformer = Transformer(\n",
    "    model_name=step_create_model.properties.ModelName,\n",
    "    instance_type=\"ml.m5.xlarge\",\n",
    "    instance_count=1,\n",
    "    output_path=f\"s3://{default_bucket}/AbaloneTransform\"\n",
    ")"
   ]
  },
  {
   "cell_type": "code",
   "execution_count": null,
   "id": "6da1f67d-b45d-4983-831f-42e435385204",
   "metadata": {},
   "outputs": [],
   "source": [
    "from sagemaker.inputs import TransformInput\n",
    "from sagemaker.workflow.steps import TransformStep\n",
    "\n",
    "\n",
    "step_transform = TransformStep(\n",
    "    name=\"AbaloneTransform\",\n",
    "    transformer=transformer,\n",
    "    inputs=TransformInput(data=batch_data)\n",
    ")"
   ]
  },
  {
   "cell_type": "markdown",
   "id": "0e130341-9094-44e3-a36d-2bb8e4ebcad3",
   "metadata": {},
   "source": [
    "# Step 8: Define a RegisterModel Step to Create a Model Package"
   ]
  },
  {
   "cell_type": "code",
   "execution_count": null,
   "id": "ca294196-3c1e-48d0-8007-9458f0ade148",
   "metadata": {},
   "outputs": [],
   "source": [
    "from sagemaker.model_metrics import MetricsSource, ModelMetrics \n",
    "from sagemaker.workflow.step_collections import RegisterModel\n",
    "\n",
    "\n",
    "model_metrics = ModelMetrics(\n",
    "    model_statistics=MetricsSource(\n",
    "        s3_uri=\"{}/evaluation.json\".format(\n",
    "            step_eval.arguments[\"ProcessingOutputConfig\"][\"Outputs\"][0][\"S3Output\"][\"S3Uri\"]\n",
    "        ),\n",
    "        content_type=\"application/json\"\n",
    "    )\n",
    ")\n",
    "step_register = RegisterModel(\n",
    "    name=\"AbaloneRegisterModel\",\n",
    "    estimator=xgb_train,\n",
    "    model_data=step_train.properties.ModelArtifacts.S3ModelArtifacts,\n",
    "    content_types=[\"text/csv\"],\n",
    "    response_types=[\"text/csv\"],\n",
    "    inference_instances=[\"ml.t2.medium\", \"ml.m5.xlarge\"],\n",
    "    transform_instances=[\"ml.m5.xlarge\"],\n",
    "    model_package_group_name=model_package_group_name,\n",
    "    approval_status=model_approval_status,\n",
    "    model_metrics=model_metrics\n",
    ")"
   ]
  },
  {
   "cell_type": "markdown",
   "id": "89a4b830-a087-4900-b6cd-02f42395b894",
   "metadata": {},
   "source": [
    "# Step 9: Define a Condition Step to Verify Model Accuracy"
   ]
  },
  {
   "cell_type": "code",
   "execution_count": null,
   "id": "421edb5c-ceb0-4cd2-9931-33c581c01fc6",
   "metadata": {},
   "outputs": [],
   "source": [
    "from sagemaker.workflow.conditions import ConditionLessThanOrEqualTo, ConditionGreaterThanOrEqualTo\n",
    "from sagemaker.workflow.condition_step import ConditionStep\n",
    "from sagemaker.workflow.functions import JsonGet\n",
    "\n",
    "\n",
    "cond_lte = ConditionLessThanOrEqualTo(\n",
    "    left=JsonGet(\n",
    "        step_name=step_eval.name,\n",
    "        property_file=evaluation_report,\n",
    "        json_path=\"regression_metrics.MSE.value\"\n",
    "    ),\n",
    "    right=6.0\n",
    ")\n"
   ]
  },
  {
   "cell_type": "code",
   "execution_count": null,
   "id": "7efd0a8d-b887-4025-9b70-7f52883e6979",
   "metadata": {},
   "outputs": [],
   "source": [
    "#################\n",
    "## Truera Code ##\n",
    "#################\n",
    "\n",
    "cond_gte = ConditionGreaterThanOrEqualTo(\n",
    "    left=JsonGet(\n",
    "        step_name=step_eval.name,\n",
    "        property_file=evaluation_report,\n",
    "        json_path=\"test_metrics.num_passing\",\n",
    "    ),\n",
    "    right=3\n",
    ")"
   ]
  },
  {
   "cell_type": "code",
   "execution_count": null,
   "id": "aebf19e2-e66f-4236-9a58-5e14945715d3",
   "metadata": {},
   "outputs": [],
   "source": [
    "step_cond = ConditionStep(\n",
    "    name=\"TrueraQualityCheck\",\n",
    "    conditions=[cond_lte, cond_gte],\n",
    "    if_steps=[step_register, step_create_model, step_transform],\n",
    "    else_steps=[], \n",
    ")"
   ]
  },
  {
   "cell_type": "markdown",
   "id": "8ba7e975-aaa8-4c37-b940-ca5188c0f671",
   "metadata": {},
   "source": [
    "# Step 10: Create a pipeline"
   ]
  },
  {
   "cell_type": "code",
   "execution_count": null,
   "id": "283391c4-0d12-4980-8e96-9ccd3c41a496",
   "metadata": {},
   "outputs": [],
   "source": [
    "from sagemaker.workflow.pipeline import Pipeline\n",
    "\n",
    "pipeline_name = f\"AbaloneWithTrueraPipeline-v2\"\n",
    "pipeline = Pipeline(\n",
    "    name=pipeline_name,\n",
    "    parameters=[\n",
    "        processing_instance_count,\n",
    "        model_approval_status,\n",
    "        input_data,\n",
    "        batch_data,\n",
    "        # Truera Parameters\n",
    "        #username,\n",
    "        #password,\n",
    "        client_id,\n",
    "        client_secret,\n",
    "        connection_string,\n",
    "        project_name,\n",
    "        data_collection_name\n",
    "    ],\n",
    "    steps=[step_process, step_train, step_eval, step_cond],\n",
    ")"
   ]
  },
  {
   "cell_type": "code",
   "execution_count": null,
   "id": "d55b7ba0-bd54-4450-ba8c-5149b18f9f57",
   "metadata": {
    "tags": []
   },
   "outputs": [],
   "source": [
    "import json\n",
    "\n",
    "json.loads(pipeline.definition())"
   ]
  },
  {
   "cell_type": "markdown",
   "id": "3e12f944-4121-445d-9a29-809835133999",
   "metadata": {},
   "source": [
    "# Final Step: Executing the Pipeline"
   ]
  },
  {
   "cell_type": "code",
   "execution_count": null,
   "id": "7f9e5b19-1784-4381-99ce-27a33cf0ee13",
   "metadata": {},
   "outputs": [],
   "source": [
    "pipeline.upsert(role_arn=role)"
   ]
  },
  {
   "cell_type": "code",
   "execution_count": null,
   "id": "aadf3e8d-f4a1-42d9-b6aa-5ea41491dbee",
   "metadata": {},
   "outputs": [],
   "source": [
    "execution = pipeline.start()"
   ]
  },
  {
   "cell_type": "markdown",
   "id": "fd32c47e-fc7b-4247-a759-e1b6a7b79b83",
   "metadata": {},
   "source": [
    "# Cleanup"
   ]
  },
  {
   "cell_type": "raw",
   "id": "cf10c9f5-fc9e-4844-93fc-156d3d99c66e",
   "metadata": {},
   "source": [
    "#assert False\n",
    "#dir(pipeline)\n",
    "#pipeline.list_executions()\n",
    "#pipeline.delete()"
   ]
  }
 ],
 "metadata": {
  "availableInstances": [
   {
    "_defaultOrder": 0,
    "_isFastLaunch": true,
    "category": "General purpose",
    "gpuNum": 0,
    "hideHardwareSpecs": false,
    "memoryGiB": 4,
    "name": "ml.t3.medium",
    "vcpuNum": 2
   },
   {
    "_defaultOrder": 1,
    "_isFastLaunch": false,
    "category": "General purpose",
    "gpuNum": 0,
    "hideHardwareSpecs": false,
    "memoryGiB": 8,
    "name": "ml.t3.large",
    "vcpuNum": 2
   },
   {
    "_defaultOrder": 2,
    "_isFastLaunch": false,
    "category": "General purpose",
    "gpuNum": 0,
    "hideHardwareSpecs": false,
    "memoryGiB": 16,
    "name": "ml.t3.xlarge",
    "vcpuNum": 4
   },
   {
    "_defaultOrder": 3,
    "_isFastLaunch": false,
    "category": "General purpose",
    "gpuNum": 0,
    "hideHardwareSpecs": false,
    "memoryGiB": 32,
    "name": "ml.t3.2xlarge",
    "vcpuNum": 8
   },
   {
    "_defaultOrder": 4,
    "_isFastLaunch": true,
    "category": "General purpose",
    "gpuNum": 0,
    "hideHardwareSpecs": false,
    "memoryGiB": 8,
    "name": "ml.m5.large",
    "vcpuNum": 2
   },
   {
    "_defaultOrder": 5,
    "_isFastLaunch": false,
    "category": "General purpose",
    "gpuNum": 0,
    "hideHardwareSpecs": false,
    "memoryGiB": 16,
    "name": "ml.m5.xlarge",
    "vcpuNum": 4
   },
   {
    "_defaultOrder": 6,
    "_isFastLaunch": false,
    "category": "General purpose",
    "gpuNum": 0,
    "hideHardwareSpecs": false,
    "memoryGiB": 32,
    "name": "ml.m5.2xlarge",
    "vcpuNum": 8
   },
   {
    "_defaultOrder": 7,
    "_isFastLaunch": false,
    "category": "General purpose",
    "gpuNum": 0,
    "hideHardwareSpecs": false,
    "memoryGiB": 64,
    "name": "ml.m5.4xlarge",
    "vcpuNum": 16
   },
   {
    "_defaultOrder": 8,
    "_isFastLaunch": false,
    "category": "General purpose",
    "gpuNum": 0,
    "hideHardwareSpecs": false,
    "memoryGiB": 128,
    "name": "ml.m5.8xlarge",
    "vcpuNum": 32
   },
   {
    "_defaultOrder": 9,
    "_isFastLaunch": false,
    "category": "General purpose",
    "gpuNum": 0,
    "hideHardwareSpecs": false,
    "memoryGiB": 192,
    "name": "ml.m5.12xlarge",
    "vcpuNum": 48
   },
   {
    "_defaultOrder": 10,
    "_isFastLaunch": false,
    "category": "General purpose",
    "gpuNum": 0,
    "hideHardwareSpecs": false,
    "memoryGiB": 256,
    "name": "ml.m5.16xlarge",
    "vcpuNum": 64
   },
   {
    "_defaultOrder": 11,
    "_isFastLaunch": false,
    "category": "General purpose",
    "gpuNum": 0,
    "hideHardwareSpecs": false,
    "memoryGiB": 384,
    "name": "ml.m5.24xlarge",
    "vcpuNum": 96
   },
   {
    "_defaultOrder": 12,
    "_isFastLaunch": false,
    "category": "General purpose",
    "gpuNum": 0,
    "hideHardwareSpecs": false,
    "memoryGiB": 8,
    "name": "ml.m5d.large",
    "vcpuNum": 2
   },
   {
    "_defaultOrder": 13,
    "_isFastLaunch": false,
    "category": "General purpose",
    "gpuNum": 0,
    "hideHardwareSpecs": false,
    "memoryGiB": 16,
    "name": "ml.m5d.xlarge",
    "vcpuNum": 4
   },
   {
    "_defaultOrder": 14,
    "_isFastLaunch": false,
    "category": "General purpose",
    "gpuNum": 0,
    "hideHardwareSpecs": false,
    "memoryGiB": 32,
    "name": "ml.m5d.2xlarge",
    "vcpuNum": 8
   },
   {
    "_defaultOrder": 15,
    "_isFastLaunch": false,
    "category": "General purpose",
    "gpuNum": 0,
    "hideHardwareSpecs": false,
    "memoryGiB": 64,
    "name": "ml.m5d.4xlarge",
    "vcpuNum": 16
   },
   {
    "_defaultOrder": 16,
    "_isFastLaunch": false,
    "category": "General purpose",
    "gpuNum": 0,
    "hideHardwareSpecs": false,
    "memoryGiB": 128,
    "name": "ml.m5d.8xlarge",
    "vcpuNum": 32
   },
   {
    "_defaultOrder": 17,
    "_isFastLaunch": false,
    "category": "General purpose",
    "gpuNum": 0,
    "hideHardwareSpecs": false,
    "memoryGiB": 192,
    "name": "ml.m5d.12xlarge",
    "vcpuNum": 48
   },
   {
    "_defaultOrder": 18,
    "_isFastLaunch": false,
    "category": "General purpose",
    "gpuNum": 0,
    "hideHardwareSpecs": false,
    "memoryGiB": 256,
    "name": "ml.m5d.16xlarge",
    "vcpuNum": 64
   },
   {
    "_defaultOrder": 19,
    "_isFastLaunch": false,
    "category": "General purpose",
    "gpuNum": 0,
    "hideHardwareSpecs": false,
    "memoryGiB": 384,
    "name": "ml.m5d.24xlarge",
    "vcpuNum": 96
   },
   {
    "_defaultOrder": 20,
    "_isFastLaunch": false,
    "category": "General purpose",
    "gpuNum": 0,
    "hideHardwareSpecs": true,
    "memoryGiB": 0,
    "name": "ml.geospatial.interactive",
    "supportedImageNames": [
     "sagemaker-geospatial-v1-0"
    ],
    "vcpuNum": 0
   },
   {
    "_defaultOrder": 21,
    "_isFastLaunch": true,
    "category": "Compute optimized",
    "gpuNum": 0,
    "hideHardwareSpecs": false,
    "memoryGiB": 4,
    "name": "ml.c5.large",
    "vcpuNum": 2
   },
   {
    "_defaultOrder": 22,
    "_isFastLaunch": false,
    "category": "Compute optimized",
    "gpuNum": 0,
    "hideHardwareSpecs": false,
    "memoryGiB": 8,
    "name": "ml.c5.xlarge",
    "vcpuNum": 4
   },
   {
    "_defaultOrder": 23,
    "_isFastLaunch": false,
    "category": "Compute optimized",
    "gpuNum": 0,
    "hideHardwareSpecs": false,
    "memoryGiB": 16,
    "name": "ml.c5.2xlarge",
    "vcpuNum": 8
   },
   {
    "_defaultOrder": 24,
    "_isFastLaunch": false,
    "category": "Compute optimized",
    "gpuNum": 0,
    "hideHardwareSpecs": false,
    "memoryGiB": 32,
    "name": "ml.c5.4xlarge",
    "vcpuNum": 16
   },
   {
    "_defaultOrder": 25,
    "_isFastLaunch": false,
    "category": "Compute optimized",
    "gpuNum": 0,
    "hideHardwareSpecs": false,
    "memoryGiB": 72,
    "name": "ml.c5.9xlarge",
    "vcpuNum": 36
   },
   {
    "_defaultOrder": 26,
    "_isFastLaunch": false,
    "category": "Compute optimized",
    "gpuNum": 0,
    "hideHardwareSpecs": false,
    "memoryGiB": 96,
    "name": "ml.c5.12xlarge",
    "vcpuNum": 48
   },
   {
    "_defaultOrder": 27,
    "_isFastLaunch": false,
    "category": "Compute optimized",
    "gpuNum": 0,
    "hideHardwareSpecs": false,
    "memoryGiB": 144,
    "name": "ml.c5.18xlarge",
    "vcpuNum": 72
   },
   {
    "_defaultOrder": 28,
    "_isFastLaunch": false,
    "category": "Compute optimized",
    "gpuNum": 0,
    "hideHardwareSpecs": false,
    "memoryGiB": 192,
    "name": "ml.c5.24xlarge",
    "vcpuNum": 96
   },
   {
    "_defaultOrder": 29,
    "_isFastLaunch": true,
    "category": "Accelerated computing",
    "gpuNum": 1,
    "hideHardwareSpecs": false,
    "memoryGiB": 16,
    "name": "ml.g4dn.xlarge",
    "vcpuNum": 4
   },
   {
    "_defaultOrder": 30,
    "_isFastLaunch": false,
    "category": "Accelerated computing",
    "gpuNum": 1,
    "hideHardwareSpecs": false,
    "memoryGiB": 32,
    "name": "ml.g4dn.2xlarge",
    "vcpuNum": 8
   },
   {
    "_defaultOrder": 31,
    "_isFastLaunch": false,
    "category": "Accelerated computing",
    "gpuNum": 1,
    "hideHardwareSpecs": false,
    "memoryGiB": 64,
    "name": "ml.g4dn.4xlarge",
    "vcpuNum": 16
   },
   {
    "_defaultOrder": 32,
    "_isFastLaunch": false,
    "category": "Accelerated computing",
    "gpuNum": 1,
    "hideHardwareSpecs": false,
    "memoryGiB": 128,
    "name": "ml.g4dn.8xlarge",
    "vcpuNum": 32
   },
   {
    "_defaultOrder": 33,
    "_isFastLaunch": false,
    "category": "Accelerated computing",
    "gpuNum": 4,
    "hideHardwareSpecs": false,
    "memoryGiB": 192,
    "name": "ml.g4dn.12xlarge",
    "vcpuNum": 48
   },
   {
    "_defaultOrder": 34,
    "_isFastLaunch": false,
    "category": "Accelerated computing",
    "gpuNum": 1,
    "hideHardwareSpecs": false,
    "memoryGiB": 256,
    "name": "ml.g4dn.16xlarge",
    "vcpuNum": 64
   },
   {
    "_defaultOrder": 35,
    "_isFastLaunch": false,
    "category": "Accelerated computing",
    "gpuNum": 1,
    "hideHardwareSpecs": false,
    "memoryGiB": 61,
    "name": "ml.p3.2xlarge",
    "vcpuNum": 8
   },
   {
    "_defaultOrder": 36,
    "_isFastLaunch": false,
    "category": "Accelerated computing",
    "gpuNum": 4,
    "hideHardwareSpecs": false,
    "memoryGiB": 244,
    "name": "ml.p3.8xlarge",
    "vcpuNum": 32
   },
   {
    "_defaultOrder": 37,
    "_isFastLaunch": false,
    "category": "Accelerated computing",
    "gpuNum": 8,
    "hideHardwareSpecs": false,
    "memoryGiB": 488,
    "name": "ml.p3.16xlarge",
    "vcpuNum": 64
   },
   {
    "_defaultOrder": 38,
    "_isFastLaunch": false,
    "category": "Accelerated computing",
    "gpuNum": 8,
    "hideHardwareSpecs": false,
    "memoryGiB": 768,
    "name": "ml.p3dn.24xlarge",
    "vcpuNum": 96
   },
   {
    "_defaultOrder": 39,
    "_isFastLaunch": false,
    "category": "Memory Optimized",
    "gpuNum": 0,
    "hideHardwareSpecs": false,
    "memoryGiB": 16,
    "name": "ml.r5.large",
    "vcpuNum": 2
   },
   {
    "_defaultOrder": 40,
    "_isFastLaunch": false,
    "category": "Memory Optimized",
    "gpuNum": 0,
    "hideHardwareSpecs": false,
    "memoryGiB": 32,
    "name": "ml.r5.xlarge",
    "vcpuNum": 4
   },
   {
    "_defaultOrder": 41,
    "_isFastLaunch": false,
    "category": "Memory Optimized",
    "gpuNum": 0,
    "hideHardwareSpecs": false,
    "memoryGiB": 64,
    "name": "ml.r5.2xlarge",
    "vcpuNum": 8
   },
   {
    "_defaultOrder": 42,
    "_isFastLaunch": false,
    "category": "Memory Optimized",
    "gpuNum": 0,
    "hideHardwareSpecs": false,
    "memoryGiB": 128,
    "name": "ml.r5.4xlarge",
    "vcpuNum": 16
   },
   {
    "_defaultOrder": 43,
    "_isFastLaunch": false,
    "category": "Memory Optimized",
    "gpuNum": 0,
    "hideHardwareSpecs": false,
    "memoryGiB": 256,
    "name": "ml.r5.8xlarge",
    "vcpuNum": 32
   },
   {
    "_defaultOrder": 44,
    "_isFastLaunch": false,
    "category": "Memory Optimized",
    "gpuNum": 0,
    "hideHardwareSpecs": false,
    "memoryGiB": 384,
    "name": "ml.r5.12xlarge",
    "vcpuNum": 48
   },
   {
    "_defaultOrder": 45,
    "_isFastLaunch": false,
    "category": "Memory Optimized",
    "gpuNum": 0,
    "hideHardwareSpecs": false,
    "memoryGiB": 512,
    "name": "ml.r5.16xlarge",
    "vcpuNum": 64
   },
   {
    "_defaultOrder": 46,
    "_isFastLaunch": false,
    "category": "Memory Optimized",
    "gpuNum": 0,
    "hideHardwareSpecs": false,
    "memoryGiB": 768,
    "name": "ml.r5.24xlarge",
    "vcpuNum": 96
   },
   {
    "_defaultOrder": 47,
    "_isFastLaunch": false,
    "category": "Accelerated computing",
    "gpuNum": 1,
    "hideHardwareSpecs": false,
    "memoryGiB": 16,
    "name": "ml.g5.xlarge",
    "vcpuNum": 4
   },
   {
    "_defaultOrder": 48,
    "_isFastLaunch": false,
    "category": "Accelerated computing",
    "gpuNum": 1,
    "hideHardwareSpecs": false,
    "memoryGiB": 32,
    "name": "ml.g5.2xlarge",
    "vcpuNum": 8
   },
   {
    "_defaultOrder": 49,
    "_isFastLaunch": false,
    "category": "Accelerated computing",
    "gpuNum": 1,
    "hideHardwareSpecs": false,
    "memoryGiB": 64,
    "name": "ml.g5.4xlarge",
    "vcpuNum": 16
   },
   {
    "_defaultOrder": 50,
    "_isFastLaunch": false,
    "category": "Accelerated computing",
    "gpuNum": 1,
    "hideHardwareSpecs": false,
    "memoryGiB": 128,
    "name": "ml.g5.8xlarge",
    "vcpuNum": 32
   },
   {
    "_defaultOrder": 51,
    "_isFastLaunch": false,
    "category": "Accelerated computing",
    "gpuNum": 1,
    "hideHardwareSpecs": false,
    "memoryGiB": 256,
    "name": "ml.g5.16xlarge",
    "vcpuNum": 64
   },
   {
    "_defaultOrder": 52,
    "_isFastLaunch": false,
    "category": "Accelerated computing",
    "gpuNum": 4,
    "hideHardwareSpecs": false,
    "memoryGiB": 192,
    "name": "ml.g5.12xlarge",
    "vcpuNum": 48
   },
   {
    "_defaultOrder": 53,
    "_isFastLaunch": false,
    "category": "Accelerated computing",
    "gpuNum": 4,
    "hideHardwareSpecs": false,
    "memoryGiB": 384,
    "name": "ml.g5.24xlarge",
    "vcpuNum": 96
   },
   {
    "_defaultOrder": 54,
    "_isFastLaunch": false,
    "category": "Accelerated computing",
    "gpuNum": 8,
    "hideHardwareSpecs": false,
    "memoryGiB": 768,
    "name": "ml.g5.48xlarge",
    "vcpuNum": 192
   },
   {
    "_defaultOrder": 55,
    "_isFastLaunch": false,
    "category": "Accelerated computing",
    "gpuNum": 8,
    "hideHardwareSpecs": false,
    "memoryGiB": 1152,
    "name": "ml.p4d.24xlarge",
    "vcpuNum": 96
   },
   {
    "_defaultOrder": 56,
    "_isFastLaunch": false,
    "category": "Accelerated computing",
    "gpuNum": 8,
    "hideHardwareSpecs": false,
    "memoryGiB": 1152,
    "name": "ml.p4de.24xlarge",
    "vcpuNum": 96
   }
  ],
  "instance_type": "ml.t3.medium",
  "kernelspec": {
   "display_name": "Python 3 (Data Science 3.0)",
   "language": "python",
   "name": "python3__SAGEMAKER_INTERNAL__arn:aws:sagemaker:us-west-2:236514542706:image/sagemaker-data-science-310-v1"
  },
  "language_info": {
   "codemirror_mode": {
    "name": "ipython",
    "version": 3
   },
   "file_extension": ".py",
   "mimetype": "text/x-python",
   "name": "python",
   "nbconvert_exporter": "python",
   "pygments_lexer": "ipython3",
   "version": "3.10.6"
  }
 },
 "nbformat": 4,
 "nbformat_minor": 5
}

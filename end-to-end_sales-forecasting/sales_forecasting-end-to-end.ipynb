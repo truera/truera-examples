{
 "cells": [
  {
   "cell_type": "markdown",
   "id": "eeb95a92-2234-4ded-b701-3106eca875f9",
   "metadata": {
    "tags": []
   },
   "source": [
    "# TruEra Python SDK Ingestion Demo: OJ Forecasting\n",
    "\n",
    "## Pre-requisites: Install Truera Python Client from pypi\n",
    "Install the wheel in your Python environment using `pip install truera`\n",
    "\n",
    "Note: to use QII to accelerate Feature influence calculation (Shapley value estimation), ensure you have access to, and have installed, the corresponding truera-qii package from the Resources page of your TruEra workspace. \n",
    "\n",
    "## Pre-requisites: Quickstart Data \n",
    "2. If not using these scripts as a reference to ingest your own model & data, download the OJ sales data. See README. "
   ]
  },
  {
   "cell_type": "code",
   "execution_count": null,
   "id": "a64a2854-7746-4c45-98d0-8197ce5eddf6",
   "metadata": {},
   "outputs": [],
   "source": [
    "#!pip install truera"
   ]
  },
  {
   "cell_type": "code",
   "execution_count": null,
   "id": "88f59ad7-c328-4c2d-9f43-63e8f05bd01e",
   "metadata": {
    "tags": []
   },
   "outputs": [],
   "source": [
    "!pip list | grep truera"
   ]
  },
  {
   "cell_type": "code",
   "execution_count": null,
   "id": "6c36423b-4bea-4d77-8534-b3fce348d5b3",
   "metadata": {
    "tags": []
   },
   "outputs": [],
   "source": [
    "import pandas as pd\n",
    "import numpy as np\n",
    "\n",
    "import pickle\n",
    "import random\n",
    "\n",
    "import sklearn\n",
    "from sklearn.model_selection import TimeSeriesSplit\n",
    "from sklearn.linear_model import LogisticRegressionCV\n",
    "from sklearn.ensemble import RandomForestClassifier\n",
    "from sklearn.linear_model import RidgeCV\n",
    "from sklearn.preprocessing import OneHotEncoder\n",
    "from sklearn.model_selection import train_test_split"
   ]
  },
  {
   "cell_type": "code",
   "execution_count": null,
   "id": "06199c14-6776-43ea-a963-6bf499584069",
   "metadata": {
    "tags": []
   },
   "outputs": [],
   "source": [
    "from truera.client.truera_workspace import TrueraWorkspace\n",
    "\n",
    "from truera.client.truera_authentication import TokenAuthentication\n",
    "from truera.client.truera_authentication import BasicAuthentication\n",
    "\n",
    "from truera.client.ingestion import ColumnSpec, ModelOutputContext"
   ]
  },
  {
   "cell_type": "markdown",
   "id": "d3fe20a2-554a-4e17-97ca-b3eb1dedfaae",
   "metadata": {
    "tags": []
   },
   "source": [
    "# Demo: model development\n",
    "As an illustration we train an scikit-learn `GradientBoostingClassifier` model on pre-processed data here.\n",
    "To explore on your own, you can use these models or load your own models & data."
   ]
  },
  {
   "cell_type": "markdown",
   "id": "d7add3e3-fb5a-401d-833f-5f45b49ca5a9",
   "metadata": {},
   "source": [
    "## Data Prep"
   ]
  },
  {
   "cell_type": "code",
   "execution_count": null,
   "id": "445f70b7-6285-4658-9b3a-9891bdbc769b",
   "metadata": {
    "tags": []
   },
   "outputs": [],
   "source": [
    "data = pd.read_csv('oj.csv')"
   ]
  },
  {
   "cell_type": "code",
   "execution_count": null,
   "id": "9f1ab546-0e6c-43a6-abd3-fc64fceb5699",
   "metadata": {
    "tags": []
   },
   "outputs": [],
   "source": [
    "data.shape"
   ]
  },
  {
   "cell_type": "code",
   "execution_count": null,
   "id": "65c67a6d-9f1c-4ee2-9e3b-647bcfde2348",
   "metadata": {
    "tags": []
   },
   "outputs": [],
   "source": [
    "data.index.min(), data.index.max()"
   ]
  },
  {
   "cell_type": "code",
   "execution_count": null,
   "id": "16f15845-fd24-46c4-b526-0becbb6c31a8",
   "metadata": {
    "tags": []
   },
   "outputs": [],
   "source": [
    "data.describe()"
   ]
  },
  {
   "cell_type": "code",
   "execution_count": null,
   "id": "8ae89089-2290-45a5-a963-daad86a0a7a3",
   "metadata": {
    "tags": []
   },
   "outputs": [],
   "source": [
    "data.head()"
   ]
  },
  {
   "cell_type": "code",
   "execution_count": null,
   "id": "b75bf8bf-4c55-4296-b144-1a3cdb5f1b94",
   "metadata": {
    "tags": []
   },
   "outputs": [],
   "source": [
    "timestamps = pd.to_datetime(data.week, unit='D',\n",
    "               origin=pd.Timestamp('2023-06-01'))"
   ]
  },
  {
   "cell_type": "code",
   "execution_count": null,
   "id": "34bffdd8-f369-4966-9374-9ea43dda5fd5",
   "metadata": {
    "tags": []
   },
   "outputs": [],
   "source": [
    "#data= data.drop(columns='week')\n",
    "data['datetime'] = timestamps"
   ]
  },
  {
   "cell_type": "code",
   "execution_count": null,
   "id": "ae45831b-e0ce-4998-8011-5411f0ded9af",
   "metadata": {
    "tags": []
   },
   "outputs": [],
   "source": [
    "df = data.set_index('datetime').sort_index().reset_index()"
   ]
  },
  {
   "cell_type": "code",
   "execution_count": null,
   "id": "55f81f6d-0965-4734-924a-c6bcbea28228",
   "metadata": {
    "tags": []
   },
   "outputs": [],
   "source": [
    "df.index.min(), df.index.max()"
   ]
  },
  {
   "cell_type": "code",
   "execution_count": null,
   "id": "f27dd0b2-fb60-4e58-beef-e286c44a4be4",
   "metadata": {
    "tags": []
   },
   "outputs": [],
   "source": [
    "df.head()"
   ]
  },
  {
   "cell_type": "code",
   "execution_count": null,
   "id": "d90ba1df-bff8-41d0-81b6-48e4c42d64d6",
   "metadata": {
    "tags": []
   },
   "outputs": [],
   "source": [
    "t1 = int(len(df)/3)\n",
    "t1"
   ]
  },
  {
   "cell_type": "code",
   "execution_count": null,
   "id": "2b5a905d-7840-4164-925c-6e2c499d262e",
   "metadata": {
    "tags": []
   },
   "outputs": [],
   "source": [
    "df_train = df.iloc[:t1,:]\n",
    "df_holdout = df.iloc[t1:,:]\n",
    "df_train.shape, df_holdout.shape"
   ]
  },
  {
   "cell_type": "code",
   "execution_count": null,
   "id": "466eef61-d73e-4a63-8fa5-7146f91f6ded",
   "metadata": {
    "tags": []
   },
   "outputs": [],
   "source": [
    "#sanity check\n",
    "len(df_train) + len(df_holdout) == len(df)"
   ]
  },
  {
   "cell_type": "code",
   "execution_count": null,
   "id": "4f5c2c02-1b67-4631-84fc-1bc8e5bc299b",
   "metadata": {
    "tags": []
   },
   "outputs": [],
   "source": [
    "df_holdout.datetime.min() #simulated production start period"
   ]
  },
  {
   "cell_type": "code",
   "execution_count": null,
   "id": "3df67b60-4da4-40c1-96fb-8311fe159ab8",
   "metadata": {},
   "outputs": [],
   "source": [
    "df_holdout.datetime.max()"
   ]
  },
  {
   "cell_type": "markdown",
   "id": "130e4a48-cbb8-4dbc-b2f7-fee5bfb4c43a",
   "metadata": {},
   "source": [
    "## Prepare data for modeling\n",
    "The following utility function is used in two places in this notebook:\n",
    "1. Standalone, to generate training splits. Could be modified/improved to be more generalized on any set of training data, labels, and/or extra data of interest\n",
    "2. In \"split_data_export\" function, for preparing production data simulations in correct format"
   ]
  },
  {
   "cell_type": "code",
   "execution_count": null,
   "id": "515008ed-75e4-4810-9648-e53f923247ae",
   "metadata": {
    "tags": []
   },
   "outputs": [],
   "source": [
    "def data_prep(input, extra_feat, target):\n",
    "    \n",
    "    #extra data - for segmentation, don't train upon\n",
    "    if extra_feat != None:\n",
    "        extra_data = pd.concat([extra_data, input[extra_feat]], axis=1)\n",
    "        input=input.drop(columns=extra_feat)\n",
    "    else:\n",
    "        extra_data = None\n",
    "    \n",
    "    #one hot features of type object -- note, be careful in understanding types of \"pre\" data features before using this method\n",
    "    cats = input.select_dtypes(include=['object'])\n",
    "    print('The following variables will be one-hot encoded: '+cats)\n",
    "    enc = OneHotEncoder(drop=None, sparse=False).fit(cats)\n",
    "    encoded = enc.transform(cats)\n",
    "    \n",
    "    #Create a Pandas DataFrame of the hot encoded column\n",
    "    ohe_df = pd.DataFrame(encoded, columns=enc.get_feature_names_out(), index=input.index)\n",
    "    #concat with original data, drop original\n",
    "    input_post = pd.concat([input, ohe_df], axis=1).drop(cats.columns, axis=1)\n",
    "    print(input.shape, input_post.shape)\n",
    "\n",
    "    #prep data & labels\n",
    "    y = input[target]\n",
    "    X_pre = input.drop(columns=target)\n",
    "    X_post = input_post.drop(columns=target)\n",
    "    \n",
    "    return X_pre, X_post, y, extra_data"
   ]
  },
  {
   "cell_type": "markdown",
   "id": "759a5da6-6d8f-4513-b64f-a680378efa13",
   "metadata": {
    "tags": []
   },
   "source": [
    "## Generate data artifacts for training & TruEra ingestion"
   ]
  },
  {
   "cell_type": "code",
   "execution_count": null,
   "id": "8ffbf02f-b109-45bb-acb2-5f457cf24e9e",
   "metadata": {
    "tags": []
   },
   "outputs": [],
   "source": [
    "X_train_pre, X_train_post, y, extra_data = data_prep(df_train, None, 'logmove')\n"
   ]
  },
  {
   "cell_type": "code",
   "execution_count": null,
   "id": "86a628b2-de1f-4839-ba8c-076b7f733401",
   "metadata": {
    "tags": []
   },
   "outputs": [],
   "source": [
    "X_train_pre.to_csv('pre_train.csv',index=True)\n",
    "X_train_post.to_csv('post_train.csv',index=True)\n",
    "y.to_csv('labels_train.csv',index=True)"
   ]
  },
  {
   "cell_type": "code",
   "execution_count": null,
   "id": "a336a50b-be69-459f-820b-91af236b1057",
   "metadata": {
    "tags": []
   },
   "outputs": [],
   "source": [
    "y"
   ]
  },
  {
   "cell_type": "markdown",
   "id": "337f3353-b9bf-43ab-b7e4-edf24e397545",
   "metadata": {},
   "source": [
    "## Model Selection / Training\n",
    "\n",
    "### V1: Ridge Regression\n",
    "- Linear regression model as baseline\n",
    "- Ridge Regression chosen for regularization of feature weights"
   ]
  },
  {
   "cell_type": "code",
   "execution_count": null,
   "id": "efed7272-83b7-469e-8dea-8c1d74418147",
   "metadata": {
    "tags": []
   },
   "outputs": [],
   "source": [
    "tscv = TimeSeriesSplit(n_splits=5)\n",
    "\n",
    "#score_models = {'f1': 'f1', 'recall': 'recall', 'precision': 'precision'}\n",
    "\n",
    "lin_reg = RidgeCV(cv=tscv)\n",
    "\n",
    "lin_reg.fit(X_train_post.drop(columns=['datetime']),y)\n",
    "lin_reg.best_score_\n",
    "\n",
    "pickle.dump(lin_reg, open('linreg.pkl', \"wb\"))"
   ]
  },
  {
   "cell_type": "markdown",
   "id": "14923528-157f-46de-8064-1f0cef605141",
   "metadata": {
    "tags": []
   },
   "source": [
    "## Model v2: random forest\n",
    "- unfortunately, there is no random forest implementation that takes advantage of a general cross-validation function\n",
    "- simply train on full training dataset, yolo / study behavior in TruEra"
   ]
  },
  {
   "cell_type": "code",
   "execution_count": null,
   "id": "f80573f8-9cd7-4758-b5e9-4213f90514b7",
   "metadata": {
    "tags": []
   },
   "outputs": [],
   "source": [
    "from sklearn.ensemble import RandomForestRegressor"
   ]
  },
  {
   "cell_type": "code",
   "execution_count": null,
   "id": "08784cfc-061a-4b93-8d28-23063861fb68",
   "metadata": {
    "tags": []
   },
   "outputs": [],
   "source": [
    "tscv = TimeSeriesSplit(n_splits=5)\n",
    "\n",
    "random_forest = RandomForestRegressor(verbose=1, n_jobs=-1, random_state=42) ##fit intercept is true by default; l2 reg by default\n",
    "\n",
    "random_forest.fit(X_train_post.drop(columns=['datetime']),y)\n",
    "\n",
    "pickle.dump(random_forest, open('rf.pkl', \"wb\"))"
   ]
  },
  {
   "cell_type": "markdown",
   "id": "61280bb4-c203-4b07-baab-377add4c7334",
   "metadata": {},
   "source": [
    "## Simulating Production Splits"
   ]
  },
  {
   "cell_type": "code",
   "execution_count": null,
   "id": "d1b3d15c-5eeb-4289-b70d-c8f6b8db4bc2",
   "metadata": {
    "tags": []
   },
   "outputs": [],
   "source": [
    "def split_data_export(n, prod_data, extra_feat, target):\n",
    "    pre_split_dict = {}\n",
    "    post_split_dict = {}\n",
    "    labels_dict = {}\n",
    "    extra_dict = {}\n",
    "    \n",
    "    pre_split_file_names = list()\n",
    "    post_split_file_names = list()\n",
    "    label_file_names = list()\n",
    "    extra_file_names = list()\n",
    "    monitoring_splits = list()\n",
    "     \n",
    "    #prep data -- note use of data prep utility function here\n",
    "    X_pre, X_post, y, extra_data = data_prep(prod_data, extra_feat, target)\n",
    "    print(X_pre.shape, X_post.shape, y.shape)\n",
    "    if extra_data !=None:\n",
    "        print(extra_data.shape)\n",
    "\n",
    "    X_splits = np.array_split(X_pre,n)\n",
    "    X_post_splits = np.array_split(X_post, n)\n",
    "    y_splits = np.array_split(y,n) \n",
    "    if extra_data != None:\n",
    "        extra_splits = np.array_split(extra_data, n)\n",
    "\n",
    "    #populate dicts for each data artifact type, for each split, with names and partitioned data\n",
    "    for i in range(n):\n",
    "        date = str(X_splits[i].datetime.iloc[0])[:10]\n",
    "        pre_split_dict[\"pre_split_{0}\".format(date)] = X_splits[i]\n",
    "        post_split_dict[\"post_split_{0}\".format(date)] = X_post_splits[i]\n",
    "        labels_dict[\"label_{0}\".format(date)] = y_splits[i]\n",
    "        if extra_data != None:\n",
    "            extra_dict[\"extra_{0}\".format(date)] = extra_splits[i]\n",
    "   \n",
    "    ## save csvs, and, for documentation purposes & to help with monitoring simulation, create file with names of splits (and associated timestamps)\n",
    "    for key, value in pre_split_dict.items():\n",
    "        split_name = './split_sim/{}.csv'.format(key)\n",
    "            \n",
    "        #data for each split\n",
    "        pre_split_file_names.append(split_name)   \n",
    "        value.to_csv(split_name, index=True)\n",
    "        \n",
    "        value['timestamp'] = value.datetime\n",
    "        timestamps = value['timestamp']\n",
    "        timestamps.to_csv('./split_sim/timestamp_'+str(key)+'.csv', index=True)\n",
    "        \n",
    "        monitoring_splits.append([min(timestamps), max(timestamps)])\n",
    "    \n",
    "    #post data\n",
    "    for key, value in post_split_dict.items():\n",
    "        post_split_name = './split_sim/{}.csv'.format(key)\n",
    "            \n",
    "        #data for each split\n",
    "        post_split_file_names.append(split_name)   \n",
    "        value.to_csv(post_split_name,index=True)\n",
    "\n",
    "    ## continued .. labels\n",
    "    for key, value in labels_dict.items():\n",
    "        if n ==1: #use this to uniquely identify initial partitions for pre-production purposes \n",
    "            label_name = './split_sim/{}.csv'.format(key)\n",
    "        else:\n",
    "            label_name = './split_sim/{}.csv'.format(key)\n",
    "            \n",
    "        label_file_names.append(label_name)   \n",
    "        value.to_csv(label_name,index=True)\n",
    "        \n",
    "    ## continued .. extra data\n",
    "    if extra_data != None:\n",
    "        for key, value in extra_dict.items():\n",
    "            if n ==1:\n",
    "                extra_name = './split_sim/{}.csv'.format(key)\n",
    "            else:\n",
    "                extra_name = './split_sim/{}.csv'.format(key)\n",
    "\n",
    "            extra_file_names.append(extra_name)   \n",
    "            value.to_csv(extra_name,index=True)\n",
    "        \n",
    "    return pre_split_file_names, post_split_file_names, label_file_names, extra_file_names, monitoring_splits"
   ]
  },
  {
   "cell_type": "code",
   "execution_count": null,
   "id": "93057914-ba0b-4253-aab0-1680db3fb75b",
   "metadata": {
    "tags": []
   },
   "outputs": [],
   "source": [
    "df_holdout.shape"
   ]
  },
  {
   "cell_type": "code",
   "execution_count": null,
   "id": "2f306330-acbe-4c2b-a233-20d3a8c25580",
   "metadata": {
    "tags": []
   },
   "outputs": [],
   "source": [
    "start = min(df_holdout.datetime)\n",
    "start"
   ]
  },
  {
   "cell_type": "code",
   "execution_count": null,
   "id": "70c97761-275d-489d-bf01-6d6e0337ce51",
   "metadata": {
    "tags": []
   },
   "outputs": [],
   "source": [
    "end = max(df_holdout.datetime)\n",
    "end"
   ]
  },
  {
   "cell_type": "code",
   "execution_count": null,
   "id": "09bbe36e-f8dc-43ee-ad46-80700268214a",
   "metadata": {
    "tags": []
   },
   "outputs": [],
   "source": [
    "(end-start).days"
   ]
  },
  {
   "cell_type": "markdown",
   "id": "f2323b4b-368b-4e6e-98c5-06af072210fc",
   "metadata": {},
   "source": [
    "### Persist simulated production splits, for future use\n",
    "- use split_data_export function to simulate n splits from holdout dataframe"
   ]
  },
  {
   "cell_type": "code",
   "execution_count": null,
   "id": "4c832dc8-0b4c-4a67-b2dd-0f5ff95c6434",
   "metadata": {
    "tags": []
   },
   "outputs": [],
   "source": [
    "pre_split_file_names, \\\n",
    "post_split_file_names, \\\n",
    "label_file_names, \\\n",
    "extra_file_names, \\\n",
    "monitoring_splits  = split_data_export(80, df_holdout, None, 'logmove')"
   ]
  },
  {
   "cell_type": "code",
   "execution_count": null,
   "id": "40813962-9434-4d1f-a34d-3cb300d5fe5b",
   "metadata": {
    "tags": []
   },
   "outputs": [],
   "source": [
    "monitoring_splits[:10]"
   ]
  },
  {
   "cell_type": "markdown",
   "id": "40f612de-7985-4708-bf5e-d3c0c86ee5ca",
   "metadata": {
    "tags": []
   },
   "source": [
    "# TruEra SDK\n",
    "## Create Project\n",
    "A project is a collection of models and datasets solving a single problem statement.\n",
    "Users can be provided access to collaborate on a project."
   ]
  },
  {
   "cell_type": "code",
   "execution_count": null,
   "id": "b62565a7-906f-4ea0-b4e4-f14aa9e3957e",
   "metadata": {
    "tags": []
   },
   "outputs": [],
   "source": [
    "# connection details\n",
    "TRUERA_URL = \"https://app.truera.net\"\n",
    "AUTH_TOKEN = \"<INSERT AUTH TOKEN>\""
   ]
  },
  {
   "cell_type": "code",
   "execution_count": null,
   "id": "59b68f96-cbc3-4d4f-a537-b0098bbbd5aa",
   "metadata": {
    "tags": []
   },
   "outputs": [],
   "source": [
    "auth = TokenAuthentication(AUTH_TOKEN)\n",
    "tru = TrueraWorkspace(TRUERA_URL, auth, ignore_version_mismatch=True)"
   ]
  },
  {
   "cell_type": "code",
   "execution_count": null,
   "id": "ea1aa172-41e9-459d-81b8-3b33fb8b5b5a",
   "metadata": {
    "tags": []
   },
   "outputs": [],
   "source": [
    "tru.get_projects()"
   ]
  },
  {
   "cell_type": "code",
   "execution_count": null,
   "id": "e0fc1a61-6d42-4d30-92d2-827993011691",
   "metadata": {
    "tags": []
   },
   "outputs": [],
   "source": [
    "project_name = \"Sales Forecasting v1-2\""
   ]
  },
  {
   "cell_type": "code",
   "execution_count": null,
   "id": "cff24058-1a83-492b-9f39-7e6c09ec4ed2",
   "metadata": {
    "tags": []
   },
   "outputs": [],
   "source": [
    "tru.add_project(project_name, score_type=\"regression\")"
   ]
  },
  {
   "cell_type": "code",
   "execution_count": null,
   "id": "77e3e3a1-f09a-42a2-b236-f4921e5bd0ce",
   "metadata": {
    "tags": []
   },
   "outputs": [],
   "source": [
    "tru.get_projects()"
   ]
  },
  {
   "cell_type": "code",
   "execution_count": null,
   "id": "652bccf5-f5a2-4b3d-b370-d1bf85a2dc81",
   "metadata": {
    "tags": []
   },
   "outputs": [],
   "source": [
    "tru.set_model_execution(\"local\")"
   ]
  },
  {
   "cell_type": "markdown",
   "id": "78e6b602-8f16-4c8f-9b09-9ac907622b59",
   "metadata": {
    "tags": []
   },
   "source": [
    "# Adding a Data Collection\n",
    "A data collection organizes data by schema within a TruEra project\n",
    "\n",
    "* Data splits: A set of in-sample data (train, test, validate) or out-of-sample (OOS) / out-of-time (OOT) data to test model quality, stability and generalizability.\n",
    "* Feature Metadata: An (optional) set of metadata defining the set of features for a set of splits and the various models trained and evaluated on them. This allows you to group features and provide feature descriptions for use throughout the tool.\n",
    "\n",
    "Note that all splits associated with a data collection are assumed to follow the same set of features. As a general rule of thumb, if a model can read one split in a data collection it should be able to read all other splits in the data collection."
   ]
  },
  {
   "cell_type": "markdown",
   "id": "8c28a81a-e8a8-42c9-a38a-1445d57bb65d",
   "metadata": {},
   "source": [
    "Reference: https://docs.microsoft.com/en-us/azure/open-datasets/dataset-oj-sales-simulated?tabs=azureml-opendatasets"
   ]
  },
  {
   "cell_type": "code",
   "execution_count": null,
   "id": "87a40992-d857-409c-9c87-8a03070c5974",
   "metadata": {
    "tags": []
   },
   "outputs": [],
   "source": [
    "FEATURE_MAP = {}\n",
    "for post in X_train_post.drop(columns='datetime').columns:\n",
    "    mapped = None\n",
    "    for pre in X_train_pre.columns:\n",
    "        if post.startswith(pre) and (mapped is None or len(mapped) < len(pre)):\n",
    "            mapped = pre\n",
    "    if mapped not in FEATURE_MAP:\n",
    "        FEATURE_MAP[mapped] = []\n",
    "    FEATURE_MAP[mapped].append(post)"
   ]
  },
  {
   "cell_type": "code",
   "execution_count": null,
   "id": "2e9b9534-a3fc-4474-a709-9d4b146f27fd",
   "metadata": {
    "tags": []
   },
   "outputs": [],
   "source": [
    "FEATURE_MAP"
   ]
  },
  {
   "cell_type": "code",
   "execution_count": null,
   "id": "3fe14474-003e-403d-8476-96bb6fa60d78",
   "metadata": {
    "tags": []
   },
   "outputs": [],
   "source": [
    "tru.set_project(project_name)"
   ]
  },
  {
   "cell_type": "code",
   "execution_count": null,
   "id": "45410258-39fb-4877-bce7-ab13ac91aae9",
   "metadata": {
    "tags": []
   },
   "outputs": [],
   "source": [
    "data_collection_name='OJ Sales Data'\n",
    "tru.add_data_collection(data_collection_name, pre_to_post_feature_map=FEATURE_MAP, provide_transform_with_model=False)"
   ]
  },
  {
   "cell_type": "markdown",
   "id": "58f8e036-cf59-4d4a-b2a4-cdd9835b01f6",
   "metadata": {
    "tags": []
   },
   "source": [
    "# Add data and models to project\n",
    "A data collection is a container for two related things:\n",
    "\n",
    "* Data splits: A set of in-sample data (train, test, validate) or out-of-sample (OOS) / out-of-time (OOT) data to test model quality, stability and generalizability.\n",
    "* Feature Metadata: An (optional) set of metadata defining the set of features for a set of splits and the various models trained and evaluated on them. This allows you to group features and provide feature descriptions for use throughout the tool.\n",
    "\n",
    "Note that all splits associated with a data collection are assumed to follow the same set of features. As a general rule of thumb, if a model can read one split in a data collection it should be able to execute against all other splits in the data collection."
   ]
  },
  {
   "cell_type": "code",
   "execution_count": null,
   "id": "775aee9f-d5b1-4479-8317-1f804ab502e9",
   "metadata": {
    "tags": []
   },
   "outputs": [],
   "source": [
    "tru.activate_client_setting('create_model_tests_on_split_ingestion')"
   ]
  },
  {
   "cell_type": "code",
   "execution_count": null,
   "id": "ccf56a01-ea7a-49e6-9440-8c2c4f2b9ba1",
   "metadata": {
    "tags": []
   },
   "outputs": [],
   "source": [
    "X_train_pre = X_train_pre.reset_index()\n",
    "X_train_post = X_train_post.reset_index()"
   ]
  },
  {
   "cell_type": "code",
   "execution_count": null,
   "id": "28f31b6c-4a67-4a26-9502-26f4018cb4ea",
   "metadata": {
    "tags": []
   },
   "outputs": [],
   "source": [
    "y_df = y.to_frame().reset_index()"
   ]
  },
  {
   "cell_type": "code",
   "execution_count": null,
   "id": "1cd1821a-b560-474d-badf-eaa27b56d50a",
   "metadata": {
    "tags": []
   },
   "outputs": [],
   "source": [
    "tru"
   ]
  },
  {
   "cell_type": "markdown",
   "id": "54cb2e45-254d-463c-829f-42bd9ab8c0a3",
   "metadata": {
    "tags": []
   },
   "source": [
    "## Uploading one or more data splits\n",
    "Now we can upload some data to our data collection to prepare for analyzing the model.\n",
    "Here we upload the entire data as an \"all\" split type. We could choose to upload just the train or test datasets as \"train\" or \"test\" split types. \n",
    "At least one \"train\" or \"all\" split is required for generating analysis. You can have 0 or more splits of other kinds. \n",
    "You upload a split by providing:\n",
    " * A friendly name to indentify the split (required).\n",
    " * Input data in the shape the model expects (required). This can be a pandas DataFrame.\n",
    " * Labels/target ground-truth values (optional). It is strongly recommended to provide labels when available."
   ]
  },
  {
   "cell_type": "code",
   "execution_count": null,
   "id": "f7811471-ebc7-4b08-8a8f-d87159225e1b",
   "metadata": {},
   "outputs": [],
   "source": [
    "from truera.client.ingestion.util import merge_dataframes_and_create_column_spec"
   ]
  },
  {
   "cell_type": "raw",
   "id": "33f4ca48-6c13-4e01-a4f7-2f8bc97ed4fd",
   "metadata": {
    "jupyter": {
     "outputs_hidden": true
    },
    "tags": []
   },
   "source": [
    "#convenience function: use if data exists in more than one dataframe. Merges data, and produces column spec based on function parameters\n",
    "?merge_dataframes_and_create_column_spec"
   ]
  },
  {
   "cell_type": "code",
   "execution_count": null,
   "id": "f6d7176e-fe6d-45b5-b132-04d3dc882426",
   "metadata": {
    "tags": []
   },
   "outputs": [],
   "source": [
    "data_df, column_spec = merge_dataframes_and_create_column_spec(\n",
    "                        id_col_name='index',\n",
    "                        timestamp_col_name='datetime',\n",
    "                        pre_data=X_train_pre,\n",
    "                        post_data=X_train_post,\n",
    "                        labels=y_df)\n",
    "print(data_df.columns)"
   ]
  },
  {
   "cell_type": "code",
   "execution_count": null,
   "id": "f7b9233e-0080-46ca-a63c-bccbc7082096",
   "metadata": {
    "tags": []
   },
   "outputs": [],
   "source": [
    "column_spec"
   ]
  },
  {
   "cell_type": "code",
   "execution_count": null,
   "id": "a69c6106-7092-4cd5-9f96-1a9aa83b2e9d",
   "metadata": {
    "tags": []
   },
   "outputs": [],
   "source": [
    "data_df.shape"
   ]
  },
  {
   "cell_type": "code",
   "execution_count": null,
   "id": "2f2bf16d-c44a-47cc-b10f-9074ca457830",
   "metadata": {
    "tags": []
   },
   "outputs": [],
   "source": [
    "tru.add_data(\n",
    "        data_split_name='training data',\n",
    "        data=data_df,\n",
    "        column_spec=column_spec)"
   ]
  },
  {
   "cell_type": "code",
   "execution_count": null,
   "id": "67026d36-07f7-4d60-a412-195f2797d7eb",
   "metadata": {
    "tags": []
   },
   "outputs": [],
   "source": [
    "X_val_pre = pd.read_csv('./split_sim/pre_split_2023-08-20.csv',index_col=0).reset_index()\n",
    "X_val_post = pd.read_csv('./split_sim/post_split_2023-08-20.csv',index_col=0).reset_index()\n",
    "y_val = pd.read_csv('./split_sim/label_2023-08-20.csv',index_col=0).reset_index()\n",
    "#extra_val = pd.read_csv('./split_sim/extra_1.csv', index_col='datetime')"
   ]
  },
  {
   "cell_type": "code",
   "execution_count": null,
   "id": "f1da5be5-d050-4104-94aa-261fc82180f4",
   "metadata": {
    "tags": []
   },
   "outputs": [],
   "source": [
    "X_val_pre.head()"
   ]
  },
  {
   "cell_type": "code",
   "execution_count": null,
   "id": "3f48c05f-42a9-4ca1-a422-1d288f966b4f",
   "metadata": {
    "tags": []
   },
   "outputs": [],
   "source": [
    "val_data_df, column_spec = merge_dataframes_and_create_column_spec(\n",
    "                        id_col_name='index',\n",
    "                        timestamp_col_name='datetime',\n",
    "                        pre_data=X_val_pre,\n",
    "                        post_data=X_val_post,\n",
    "                        labels=y_val)"
   ]
  },
  {
   "cell_type": "code",
   "execution_count": null,
   "id": "fe8b4047-df50-42b7-bad6-96be5f6008fa",
   "metadata": {
    "tags": []
   },
   "outputs": [],
   "source": [
    "tru.add_data(\n",
    "        data_split_name='validation data',\n",
    "        data=val_data_df,\n",
    "        column_spec=column_spec)"
   ]
  },
  {
   "cell_type": "code",
   "execution_count": null,
   "id": "79447294-113c-44f8-893c-ff7ab8314e02",
   "metadata": {
    "tags": []
   },
   "outputs": [],
   "source": [
    "X_test_pre = pd.read_csv('./split_sim/pre_split_2023-08-21.csv',index_col=0).reset_index()\n",
    "X_test_post = pd.read_csv('./split_sim/post_split_2023-08-21.csv',index_col=0).reset_index()\n",
    "y_test = pd.read_csv('./split_sim/label_2023-08-21.csv',index_col=0).reset_index()\n",
    "#extra_test = pd.read_csv('./split_sim/extra_2023-08-21.csv', index_col='datetime')"
   ]
  },
  {
   "cell_type": "code",
   "execution_count": null,
   "id": "3f528e61-242a-41fc-bab6-a720ddcb008a",
   "metadata": {
    "tags": []
   },
   "outputs": [],
   "source": [
    "test_data_df, column_spec = merge_dataframes_and_create_column_spec(\n",
    "                        id_col_name='index',\n",
    "                        timestamp_col_name='datetime',\n",
    "                        pre_data=X_test_pre,\n",
    "                        post_data=X_test_post,\n",
    "                        labels=y_test)"
   ]
  },
  {
   "cell_type": "code",
   "execution_count": null,
   "id": "942633fb-8435-4933-8f2a-6c4001adb7cf",
   "metadata": {
    "tags": []
   },
   "outputs": [],
   "source": [
    "tru.add_data(\n",
    "        data_split_name='test data',\n",
    "        data=test_data_df,\n",
    "        column_spec=column_spec)"
   ]
  },
  {
   "cell_type": "markdown",
   "id": "9f99f838-d467-4f49-9db7-2dfcb972d7b3",
   "metadata": {
    "tags": []
   },
   "source": [
    "## Uploading a model\n",
    "This is the last step before we can start analyzing the model in TruEra dashboards.\n",
    "Model type and dependency versions are automatically inferred from the environment and the model object. A friendly name is provided to be able to find the model in the Truera dashboard and be able to work with it in the future.\n",
    "The model is automatically attached to the current data collection, set by invoking `set_data_collection`."
   ]
  },
  {
   "cell_type": "code",
   "execution_count": null,
   "id": "72b3bf8d-5458-41bc-8c42-61e97b660117",
   "metadata": {
    "tags": []
   },
   "outputs": [],
   "source": [
    "model_name = 'Ridge Regression'\n",
    "tru.add_python_model(model_name, lin_reg)"
   ]
  },
  {
   "cell_type": "code",
   "execution_count": null,
   "id": "d634bf60-5c40-4156-9f3c-fa524b8d2989",
   "metadata": {
    "tags": []
   },
   "outputs": [],
   "source": [
    "tru.get_data_collections()"
   ]
  },
  {
   "cell_type": "markdown",
   "id": "53f8fa6f-034d-45bc-b34a-0a63e6ed929a",
   "metadata": {},
   "source": [
    "## **Monitoring requirement: add new data collection for second model**\n",
    "- 1:1 dc:model req for monitoring\n",
    "- duplicated development data into 2nd data collection\n",
    "  - this is required to have access to FIs for all 6 model-dev_split combinations (see next section)"
   ]
  },
  {
   "cell_type": "markdown",
   "id": "fe44c221-a748-4507-acc5-f27957afdf5e",
   "metadata": {},
   "source": [
    "## New Data Collection for RF prod data\n",
    "Notes:\n",
    "1. adding prod FIs: Adding feature infs for prod data happens under \"virtual\" model. \n",
    "    a. this requires a background split in the data collection\n",
    "    b. re-used code from first add_data call, earlier in script, to create train dataframe and associated column spec for background (training) split\n",
    "    c. this is more duplicate data -- training split already exists in the other dc.\n",
    "    \n",
    "    \n",
    "2. add model: in testing -- did not need to, and could not, add the RF model _with the same name_ to this data collection  \n",
    "    a. Models don't appear constrained to data collections anymore -- tru.get_models() listed both RF and Ridge Regression model, even though I was in a different (new) data collection.  \n",
    "    b. on further inspection, the existing 'Random Forest Regressor' model was able to be referenced by ModelOutputContext***, even though it wasn't in the same data collection. BUT, the new data collection I've created below, shows no associated models.\n",
    "    \n",
    "    ***perhaps \"referenced by\" is incorrect -- it may be that this is a silent failure / nothing happens\n"
   ]
  },
  {
   "cell_type": "code",
   "execution_count": null,
   "id": "1bdd10e5-8534-4495-9625-88faf316c543",
   "metadata": {
    "tags": []
   },
   "outputs": [],
   "source": [
    "tru.add_data_collection(\"OJ Sales Data RF\", pre_to_post_feature_map=FEATURE_MAP, provide_transform_with_model=False)"
   ]
  },
  {
   "cell_type": "code",
   "execution_count": null,
   "id": "1e167c22-d038-4c47-b7e2-d491c2fc26dc",
   "metadata": {
    "tags": []
   },
   "outputs": [],
   "source": [
    "model_name = 'Random Forest Regressor'\n",
    "tru.add_python_model(model_name, random_forest)"
   ]
  },
  {
   "cell_type": "code",
   "execution_count": null,
   "id": "76c62352-3584-44d0-93ca-532560846ff1",
   "metadata": {
    "tags": []
   },
   "outputs": [],
   "source": [
    "data_df, column_spec = merge_dataframes_and_create_column_spec(\n",
    "                        id_col_name='index',\n",
    "                        timestamp_col_name='datetime',\n",
    "                        pre_data=X_train_pre,\n",
    "                        post_data=X_train_post,\n",
    "                        labels=y_df)\n",
    "print(data_df.columns)"
   ]
  },
  {
   "cell_type": "code",
   "execution_count": null,
   "id": "7871ffee-8e3a-459b-9f82-27d5438356d3",
   "metadata": {
    "tags": []
   },
   "outputs": [],
   "source": [
    "tru.add_data(\n",
    "        data_split_name='training data',\n",
    "        data=data_df,\n",
    "        column_spec=column_spec)"
   ]
  },
  {
   "cell_type": "code",
   "execution_count": null,
   "id": "703238a0-efb6-4927-aaa6-f5ca473fefd4",
   "metadata": {
    "tags": []
   },
   "outputs": [],
   "source": [
    "tru.add_data(\n",
    "        data_split_name='validation data',\n",
    "        data=val_data_df,\n",
    "        column_spec=column_spec)"
   ]
  },
  {
   "cell_type": "code",
   "execution_count": null,
   "id": "9ad05861-1209-4963-bb6d-65832b7f73de",
   "metadata": {
    "tags": []
   },
   "outputs": [],
   "source": [
    "tru.add_data(\n",
    "        data_split_name='test data',\n",
    "        data=test_data_df,\n",
    "        column_spec=column_spec)"
   ]
  },
  {
   "cell_type": "markdown",
   "id": "fdbacf06-839e-4fda-843e-67b39d448c0e",
   "metadata": {},
   "source": [
    "----"
   ]
  },
  {
   "cell_type": "markdown",
   "id": "25f9b783-ec6f-4a57-8d07-a799f32db0bc",
   "metadata": {},
   "source": [
    "# Compute & Upload dev split Feature Influences using TruEra QII"
   ]
  },
  {
   "cell_type": "code",
   "execution_count": null,
   "id": "d59e0686-1e38-4906-bf9a-b1951f37af4a",
   "metadata": {
    "tags": []
   },
   "outputs": [],
   "source": [
    "tru.set_model(\"Ridge Regression\")\n",
    "tru.set_data_split(\"training data\")"
   ]
  },
  {
   "cell_type": "code",
   "execution_count": null,
   "id": "f604950c-baca-45e0-a321-7374a42440b3",
   "metadata": {
    "tags": []
   },
   "outputs": [],
   "source": [
    "lr_train_feat_infs = tru.compute_feature_influences()\n",
    "## Note: we need predictions, to generate feature influences. \n",
    "## In other words, (some) predictions are being generated as part of this call"
   ]
  },
  {
   "cell_type": "code",
   "execution_count": null,
   "id": "a6b4df07-bd41-4eeb-8330-ac3e517c57eb",
   "metadata": {
    "tags": []
   },
   "outputs": [],
   "source": [
    "tru.set_model(\"Ridge Regression\")\n",
    "tru.set_data_split(\"validation data\")"
   ]
  },
  {
   "cell_type": "code",
   "execution_count": null,
   "id": "6a997869-5625-4419-accd-c824aa9862aa",
   "metadata": {
    "tags": []
   },
   "outputs": [],
   "source": [
    "lr_val_feat_infs = tru.compute_feature_influences()"
   ]
  },
  {
   "cell_type": "code",
   "execution_count": null,
   "id": "996cdbf8-9cdc-4b37-bf8f-718908301c64",
   "metadata": {
    "tags": []
   },
   "outputs": [],
   "source": [
    "tru.set_model(\"Ridge Regression\")\n",
    "tru.set_data_split(\"test data\")"
   ]
  },
  {
   "cell_type": "code",
   "execution_count": null,
   "id": "b034f1a3-f2f0-4ad2-b15b-355fda29847b",
   "metadata": {
    "tags": []
   },
   "outputs": [],
   "source": [
    "lr_test_feat_infs = tru.compute_feature_influences()"
   ]
  },
  {
   "cell_type": "code",
   "execution_count": null,
   "id": "96293ae5-9279-41d8-b3ff-de9482ec3dfe",
   "metadata": {
    "tags": []
   },
   "outputs": [],
   "source": [
    "tru.set_model(\"Random Forest Regressor\")\n",
    "tru.set_data_split(\"training data\")"
   ]
  },
  {
   "cell_type": "code",
   "execution_count": null,
   "id": "ff04c5d9-f9aa-4fd3-87d7-6f7688064ac6",
   "metadata": {
    "tags": []
   },
   "outputs": [],
   "source": [
    "rf_train_feat_infs = tru.compute_feature_influences()"
   ]
  },
  {
   "cell_type": "code",
   "execution_count": null,
   "id": "5a1a8d2d-c995-4d67-9207-365cf4484bcf",
   "metadata": {
    "tags": []
   },
   "outputs": [],
   "source": [
    "tru.set_model(\"Random Forest Regressor\")\n",
    "tru.set_data_split(\"validation data\")"
   ]
  },
  {
   "cell_type": "code",
   "execution_count": null,
   "id": "5308fc7e-e579-4c16-8872-4e866afce118",
   "metadata": {
    "tags": []
   },
   "outputs": [],
   "source": [
    "rf_val_feat_infs = tru.compute_feature_influences()"
   ]
  },
  {
   "cell_type": "code",
   "execution_count": null,
   "id": "772aaa19-4e05-4cc1-97e9-ea059aabff33",
   "metadata": {
    "tags": []
   },
   "outputs": [],
   "source": [
    "tru.set_model(\"Random Forest Regressor\")\n",
    "tru.set_data_split(\"test data\")"
   ]
  },
  {
   "cell_type": "code",
   "execution_count": null,
   "id": "d008f458-ff00-4bc4-bc63-2214b55d14fb",
   "metadata": {
    "tags": []
   },
   "outputs": [],
   "source": [
    "rf_test_feat_infs = tru.compute_feature_influences()"
   ]
  },
  {
   "cell_type": "markdown",
   "id": "d58336c0-2531-41c5-a3a6-f561409c6cb5",
   "metadata": {},
   "source": [
    "# Adding Predictions"
   ]
  },
  {
   "cell_type": "markdown",
   "id": "457bad0a-603c-4b9e-b68e-58f9712ff3cb",
   "metadata": {},
   "source": [
    "### Note: make sure to push predictions to the correct data collection, aligning to its model\n",
    "- RISK: add predictions to incorrect data collections\n",
    "- If so, they will end up as orphan predictions -- not associated with any data\n",
    "- currently, the SDK does not prevent this "
   ]
  },
  {
   "cell_type": "markdown",
   "id": "276c0fde-a6d1-4a0a-b7fb-0f947b363626",
   "metadata": {},
   "source": [
    "### \"Dev\" DC: Linear Regression Model"
   ]
  },
  {
   "cell_type": "code",
   "execution_count": null,
   "id": "ad9e51c3-7639-4dd8-9ca1-261afd4fe749",
   "metadata": {
    "tags": []
   },
   "outputs": [],
   "source": [
    "tru.get_data_collections()"
   ]
  },
  {
   "cell_type": "code",
   "execution_count": null,
   "id": "50a899a8-2f65-4dc0-a99d-c2bc1a96177f",
   "metadata": {
    "tags": []
   },
   "outputs": [],
   "source": [
    "#this dc contains lin_reg / ridge regression model\n",
    "tru.set_data_collection(\"OJ Sales Data\")"
   ]
  },
  {
   "cell_type": "markdown",
   "id": "0a1b1c91-77b2-4f42-9152-4555eb273ec3",
   "metadata": {},
   "source": [
    "#### Training Data"
   ]
  },
  {
   "cell_type": "code",
   "execution_count": null,
   "id": "06ee87c8-40ce-498e-89ae-baede3fd704b",
   "metadata": {
    "tags": []
   },
   "outputs": [],
   "source": [
    "preds = lin_reg.predict(X_train_post.drop(columns=['datetime','index']))"
   ]
  },
  {
   "cell_type": "code",
   "execution_count": null,
   "id": "4940f71c-2ffe-4f6b-8ff0-9c0dcf42ea9e",
   "metadata": {
    "tags": []
   },
   "outputs": [],
   "source": [
    "#note - use column 'index', not actual index of dataframe\n",
    "preds_df = pd.DataFrame(preds, columns = ['logmove'], index=[X_train_post['index'], X_train_post.datetime])"
   ]
  },
  {
   "cell_type": "code",
   "execution_count": null,
   "id": "cd180bd2-0ea6-4db5-854e-2b1ad3fcf42c",
   "metadata": {
    "tags": []
   },
   "outputs": [],
   "source": [
    "lr_train_preds= preds_df.reset_index()"
   ]
  },
  {
   "cell_type": "code",
   "execution_count": null,
   "id": "89554e2f-aeaa-48a1-9bbd-86d7dffc63c5",
   "metadata": {
    "tags": []
   },
   "outputs": [],
   "source": [
    "tru.add_data(\n",
    "    data=lr_train_preds,\n",
    "    data_split_name=\"training data\",\n",
    "    column_spec=ColumnSpec(\n",
    "        id_col_name=\"index\",\n",
    "        timestamp_col_name='datetime',\n",
    "        prediction_col_names='logmove'),\n",
    "        \n",
    "    model_output_context=ModelOutputContext(\n",
    "        model_name=\"Ridge Regression\",\n",
    "        score_type='regression')\n",
    "    )"
   ]
  },
  {
   "cell_type": "code",
   "execution_count": null,
   "id": "4fa087ad-c87e-48b5-a49a-d4567a779c5e",
   "metadata": {
    "tags": []
   },
   "outputs": [],
   "source": [
    "tru"
   ]
  },
  {
   "cell_type": "code",
   "execution_count": null,
   "id": "f1675691-eadc-4aea-81ec-21e48aa6de4a",
   "metadata": {
    "tags": []
   },
   "outputs": [],
   "source": [
    "#need this for drift calculations in druid\n",
    "tru.set_model(\"Ridge Regression\")\n",
    "tru.add_model_metadata(train_split_name='training data')"
   ]
  },
  {
   "cell_type": "markdown",
   "id": "c3d5f551-4d47-461d-859f-18f3231258ff",
   "metadata": {},
   "source": [
    "#### Validation Data"
   ]
  },
  {
   "cell_type": "code",
   "execution_count": null,
   "id": "d17afa83-cb03-4496-afbd-92e72f1917fd",
   "metadata": {
    "tags": []
   },
   "outputs": [],
   "source": [
    "preds = lin_reg.predict(X_val_post.drop(columns=['datetime','index']))"
   ]
  },
  {
   "cell_type": "code",
   "execution_count": null,
   "id": "bfe7c2e1-4a53-4772-aa02-83fd6b98950d",
   "metadata": {
    "tags": []
   },
   "outputs": [],
   "source": [
    "preds_df = pd.DataFrame(preds, columns = ['logmove'], index=[X_val_post['index'], X_val_post.datetime])"
   ]
  },
  {
   "cell_type": "code",
   "execution_count": null,
   "id": "ff15eee1-d100-4baa-a38a-e7e7c4f31222",
   "metadata": {
    "tags": []
   },
   "outputs": [],
   "source": [
    "lr_val_preds = preds_df.reset_index() #index as column"
   ]
  },
  {
   "cell_type": "code",
   "execution_count": null,
   "id": "187b29b6-ee99-4514-b8dd-6c30694c15d8",
   "metadata": {
    "tags": []
   },
   "outputs": [],
   "source": [
    "tru.add_data(\n",
    "    data=lr_val_preds,\n",
    "    data_split_name=\"validation data\",\n",
    "    column_spec=ColumnSpec(\n",
    "        id_col_name=\"index\",\n",
    "        timestamp_col_name='datetime',\n",
    "        prediction_col_names='logmove'\n",
    "    ),\n",
    "    model_output_context=ModelOutputContext(\n",
    "        model_name=\"Ridge Regression\",\n",
    "        score_type='regression')\n",
    ")"
   ]
  },
  {
   "cell_type": "markdown",
   "id": "d840ee87-a3c7-4eef-be92-58441415a1e0",
   "metadata": {},
   "source": [
    "#### Holdout Data"
   ]
  },
  {
   "cell_type": "code",
   "execution_count": null,
   "id": "054eba58-a83c-4af4-85dc-0b580fc5fe9b",
   "metadata": {
    "tags": []
   },
   "outputs": [],
   "source": [
    "preds = lin_reg.predict(X_test_post.drop(columns=['datetime','index']))"
   ]
  },
  {
   "cell_type": "code",
   "execution_count": null,
   "id": "9ce52911-0e6a-4268-af25-ef4cef094db5",
   "metadata": {
    "tags": []
   },
   "outputs": [],
   "source": [
    "preds_df = pd.DataFrame(preds, columns = ['logmove'], index=[X_test_post['index'], X_test_post.datetime])"
   ]
  },
  {
   "cell_type": "code",
   "execution_count": null,
   "id": "658046d7-c94a-4eb9-a1b1-d033307345f7",
   "metadata": {
    "tags": []
   },
   "outputs": [],
   "source": [
    "lr_test_preds = preds_df.reset_index()"
   ]
  },
  {
   "cell_type": "code",
   "execution_count": null,
   "id": "36418811-b5a8-44d4-9e84-898517b3f4fc",
   "metadata": {
    "tags": []
   },
   "outputs": [],
   "source": [
    "tru.add_data(\n",
    "    data=lr_test_preds,\n",
    "    data_split_name=\"test data\",\n",
    "    column_spec=ColumnSpec(\n",
    "        id_col_name=\"index\",\n",
    "        timestamp_col_name='datetime',\n",
    "        prediction_col_names='logmove'\n",
    "    ),\n",
    "    model_output_context=ModelOutputContext(\n",
    "        model_name=\"Ridge Regression\",\n",
    "        score_type='regression')\n",
    ")"
   ]
  },
  {
   "cell_type": "markdown",
   "id": "6d4f9ee7-5a88-4125-8ead-d3415504f198",
   "metadata": {},
   "source": [
    "### \"Prod\" DC: 2nd DC that contains Random Forest Regressor\n",
    "- satisfy 1:1 DC:Model req from monitoring"
   ]
  },
  {
   "cell_type": "code",
   "execution_count": null,
   "id": "1447d217-ada5-4859-b00a-b20fa05faf98",
   "metadata": {
    "tags": []
   },
   "outputs": [],
   "source": [
    "#this DC contains Random Forest Regressor / RF model\n",
    "tru.set_data_collection(\"OJ Sales Data RF\")"
   ]
  },
  {
   "cell_type": "markdown",
   "id": "82242df8-8b67-4a82-b4f9-012aa583e42f",
   "metadata": {},
   "source": [
    "#### Training Data"
   ]
  },
  {
   "cell_type": "code",
   "execution_count": null,
   "id": "057c486a-959f-41c0-a164-7e4ee0b46898",
   "metadata": {
    "tags": []
   },
   "outputs": [],
   "source": [
    "preds = random_forest.predict(X_train_post.drop(columns=['index','datetime']))"
   ]
  },
  {
   "cell_type": "code",
   "execution_count": null,
   "id": "0e6d52f1-e1c2-484c-b220-4c5df25cb1a6",
   "metadata": {
    "tags": []
   },
   "outputs": [],
   "source": [
    "preds_df = pd.DataFrame(preds, columns = ['logmove'], index=[X_train_post['index'],X_train_post.datetime])"
   ]
  },
  {
   "cell_type": "code",
   "execution_count": null,
   "id": "022c8f6a-92d4-4fbb-96ca-d587a48756f5",
   "metadata": {
    "tags": []
   },
   "outputs": [],
   "source": [
    "rf_train_preds = preds_df.reset_index()"
   ]
  },
  {
   "cell_type": "code",
   "execution_count": null,
   "id": "0a69f225-f25c-43db-a4c0-e915521a8970",
   "metadata": {
    "tags": []
   },
   "outputs": [],
   "source": [
    "tru.add_data(\n",
    "    data=rf_train_preds,\n",
    "    data_split_name=\"training data\",\n",
    "    column_spec=ColumnSpec(\n",
    "        id_col_name=\"index\",\n",
    "        timestamp_col_name='datetime',\n",
    "        prediction_col_names='logmove'\n",
    "    ),\n",
    "    model_output_context=ModelOutputContext(\n",
    "        model_name=\"Random Forest Regressor\",\n",
    "        score_type='regression')\n",
    ")"
   ]
  },
  {
   "cell_type": "code",
   "execution_count": null,
   "id": "1e331346-51bb-42ca-993d-0fe1080a3e75",
   "metadata": {
    "tags": []
   },
   "outputs": [],
   "source": [
    "#need this for drift calculations in druid\n",
    "tru.set_model(\"Random Forest Regressor\")\n",
    "tru.add_model_metadata(train_split_name='training data')"
   ]
  },
  {
   "cell_type": "markdown",
   "id": "8c87880e-4a11-44f5-81d0-68e6532cccda",
   "metadata": {},
   "source": [
    "#### Validation Data"
   ]
  },
  {
   "cell_type": "code",
   "execution_count": null,
   "id": "e42b50cc-33c2-470b-8748-c81f0f60c163",
   "metadata": {
    "tags": []
   },
   "outputs": [],
   "source": [
    "preds = random_forest.predict(X_val_post.drop(columns=['index','datetime']))"
   ]
  },
  {
   "cell_type": "code",
   "execution_count": null,
   "id": "cfd2fd32-ad9c-4311-acb3-5aee5c228a8b",
   "metadata": {
    "tags": []
   },
   "outputs": [],
   "source": [
    "preds_df = pd.DataFrame(preds, columns = ['logmove'], index=[X_val_post['index'], X_val_post.datetime])"
   ]
  },
  {
   "cell_type": "code",
   "execution_count": null,
   "id": "01eda420-b653-4a4c-9347-79895f1e6ede",
   "metadata": {
    "tags": []
   },
   "outputs": [],
   "source": [
    "rf_val_preds = preds_df.reset_index()"
   ]
  },
  {
   "cell_type": "code",
   "execution_count": null,
   "id": "25c11dd8-29ec-4a6a-a472-17d7f9e968c8",
   "metadata": {
    "tags": []
   },
   "outputs": [],
   "source": [
    "tru.add_data(\n",
    "    data=rf_val_preds,\n",
    "    data_split_name=\"validation data\",\n",
    "    column_spec=ColumnSpec(\n",
    "        id_col_name=\"index\",\n",
    "        timestamp_col_name='datetime',\n",
    "        prediction_col_names='logmove'\n",
    "    ),\n",
    "    model_output_context=ModelOutputContext(\n",
    "        model_name=\"Random Forest Regressor\",\n",
    "        score_type='regression')\n",
    ")"
   ]
  },
  {
   "cell_type": "markdown",
   "id": "1ae25a4d-6c85-49b9-9763-737956d570d2",
   "metadata": {},
   "source": [
    "#### Test Data"
   ]
  },
  {
   "cell_type": "code",
   "execution_count": null,
   "id": "a973f780-7b56-4b03-a3e3-dc2f4c44f85e",
   "metadata": {
    "tags": []
   },
   "outputs": [],
   "source": [
    "preds = random_forest.predict(X_test_post.drop(columns=['index','datetime']))"
   ]
  },
  {
   "cell_type": "code",
   "execution_count": null,
   "id": "b3ca5350-8a9a-4937-9912-1e9634033ac5",
   "metadata": {
    "tags": []
   },
   "outputs": [],
   "source": [
    "preds_df = pd.DataFrame(preds, columns = ['logmove'], index=[X_test_post['index'], X_test_post.datetime])"
   ]
  },
  {
   "cell_type": "code",
   "execution_count": null,
   "id": "6ff2f37c-2ac5-40e1-890a-dfe0ca4f19ea",
   "metadata": {
    "tags": []
   },
   "outputs": [],
   "source": [
    "rf_test_preds = preds_df.reset_index()"
   ]
  },
  {
   "cell_type": "code",
   "execution_count": null,
   "id": "278f4a38-1042-4104-8240-bfba451f8fab",
   "metadata": {
    "tags": []
   },
   "outputs": [],
   "source": [
    "tru.add_data(\n",
    "    data=rf_test_preds,\n",
    "    data_split_name=\"test data\",\n",
    "    column_spec=ColumnSpec(\n",
    "        id_col_name=\"index\",\n",
    "        timestamp_col_name='datetime',\n",
    "        prediction_col_names='logmove'\n",
    "    ),\n",
    "    model_output_context=ModelOutputContext(\n",
    "        model_name=\"Random Forest Regressor\",\n",
    "        score_type='regression')\n",
    ")"
   ]
  },
  {
   "cell_type": "markdown",
   "id": "f90b8149-6e5f-420a-b42a-a8f4fff20e44",
   "metadata": {
    "tags": []
   },
   "source": [
    "# Monitoring: Production Data"
   ]
  },
  {
   "cell_type": "code",
   "execution_count": null,
   "id": "4c5aaaf1-c5b2-41a2-8131-330af33f9aa6",
   "metadata": {
    "tags": []
   },
   "outputs": [],
   "source": [
    "df_mon_splits = pd.DataFrame.from_records(monitoring_splits, columns =['start','end'])"
   ]
  },
  {
   "cell_type": "code",
   "execution_count": null,
   "id": "3e5456e5-6a9a-47ae-94fc-35131414c5b7",
   "metadata": {
    "tags": []
   },
   "outputs": [],
   "source": [
    "df_mon_splits[:5]"
   ]
  },
  {
   "cell_type": "code",
   "execution_count": null,
   "id": "11645436-9767-4dbd-98a9-92a9cc10f3f1",
   "metadata": {
    "tags": []
   },
   "outputs": [],
   "source": [
    "import glob\n",
    "import os"
   ]
  },
  {
   "cell_type": "code",
   "execution_count": null,
   "id": "0c829534-b034-4052-9d45-e164f5c13e51",
   "metadata": {
    "tags": []
   },
   "outputs": [],
   "source": [
    "from datetime import datetime"
   ]
  },
  {
   "cell_type": "code",
   "execution_count": null,
   "id": "026bd426-d0b6-4c50-bffe-d4d6c8c0db04",
   "metadata": {
    "tags": []
   },
   "outputs": [],
   "source": [
    "def load_prod_data(start, end):\n",
    "    start = datetime.strptime(start, '%Y-%m-%d').date()\n",
    "    end = datetime.strptime(end, '%Y-%m-%d').date()\n",
    "    print(type(start))\n",
    "    \n",
    "    #gather files to include\n",
    "    f_prod = glob.glob(os.path.join('./split_sim', 'pre_split_*.csv'))\n",
    "    f_prod_post= glob.glob(os.path.join('./split_sim', \"post_split_*.csv\"))\n",
    "    f_y_prod = glob.glob(os.path.join('./split_sim', \"label_*.csv\"))\n",
    "    \n",
    "    #sort file names\n",
    "    f_prod.sort()\n",
    "    f_prod_post.sort()\n",
    "    f_y_prod.sort()\n",
    "    \n",
    "    X_prod = pd.concat((pd.read_csv(f,index_col=0).reset_index() for f in f_prod), ignore_index=True)\n",
    "    X_prod_post = pd.concat((pd.read_csv(f,index_col=0).reset_index() for f in f_prod_post), ignore_index=True)\n",
    "    y_prod = pd.concat((pd.read_csv(f,index_col=0).reset_index() for f in f_y_prod), ignore_index=True)\n",
    "        \n",
    "    prod_data_df, column_spec = merge_dataframes_and_create_column_spec(id_col_name='index',\n",
    "                                                                        timestamp_col_name='datetime',\n",
    "                                                                        pre_data=X_prod,\n",
    "                                                                        post_data=X_prod_post,\n",
    "                                                                        labels=y_prod)\n",
    "    #greater than the start date and smaller than the end date\n",
    "    prod_data_df['datetime'] = pd.to_datetime(prod_data_df['datetime']).dt.date\n",
    "    prod_data_df = prod_data_df[(prod_data_df['datetime'] >= start) & (prod_data_df['datetime'] <= end)]\n",
    "    print(prod_data_df.datetime.min())\n",
    "    print(prod_data_df.datetime.max())\n",
    "    print(prod_data_df.shape)\n",
    "    print(column_spec)\n",
    "    return prod_data_df, column_spec"
   ]
  },
  {
   "cell_type": "code",
   "execution_count": null,
   "id": "d7bf41af-a075-417c-994a-205dd8bdcb6a",
   "metadata": {
    "tags": []
   },
   "outputs": [],
   "source": [
    "prod_data_df, column_spec = load_prod_data('2023-08-24', '2023-09-20')"
   ]
  },
  {
   "cell_type": "markdown",
   "id": "c5d9d4bb-dd5a-46e1-9504-09c54d8b4665",
   "metadata": {},
   "source": [
    "## Prod Predictions"
   ]
  },
  {
   "cell_type": "code",
   "execution_count": null,
   "id": "f012a733-8c2e-4aef-9540-12daca87ce21",
   "metadata": {
    "tags": []
   },
   "outputs": [],
   "source": [
    "prod_data_df.columns"
   ]
  },
  {
   "cell_type": "code",
   "execution_count": null,
   "id": "4a143128-3aa8-4aa2-92bc-4fc45257a6aa",
   "metadata": {
    "tags": []
   },
   "outputs": [],
   "source": [
    "column_spec.post_data_col_names"
   ]
  },
  {
   "cell_type": "code",
   "execution_count": null,
   "id": "a63b6bc5-3d05-4e62-be72-1cd3df5b72ef",
   "metadata": {
    "tags": []
   },
   "outputs": [],
   "source": [
    "def generate_prod_preds(model, data):\n",
    "    preds = model.predict(data.drop(columns=data.columns.difference(column_spec.post_data_col_names)))\n",
    "    preds_df = pd.DataFrame(preds, columns = ['preds'], index=[data['index'], data.datetime])\n",
    "    preds_df = preds_df.reset_index()\n",
    "    print(preds_df.shape)\n",
    "\n",
    "    return preds_df"
   ]
  },
  {
   "cell_type": "code",
   "execution_count": null,
   "id": "863607c1-8ea0-401d-bfb6-2fb73105a173",
   "metadata": {
    "tags": []
   },
   "outputs": [],
   "source": [
    "lr_prod_preds = generate_prod_preds(lin_reg, prod_data_df)"
   ]
  },
  {
   "cell_type": "code",
   "execution_count": null,
   "id": "619c17c8-dc82-4b95-9250-717c5d077c55",
   "metadata": {
    "tags": []
   },
   "outputs": [],
   "source": [
    "rf_prod_preds = generate_prod_preds(random_forest, prod_data_df)"
   ]
  },
  {
   "cell_type": "markdown",
   "id": "be7f644b-144d-493c-bb7b-388133008d7e",
   "metadata": {},
   "source": [
    "## Prod Feature Infs"
   ]
  },
  {
   "cell_type": "code",
   "execution_count": null,
   "id": "1f36475f-d147-4542-ad6e-22620e9510d8",
   "metadata": {
    "tags": []
   },
   "outputs": [],
   "source": [
    "tru.get_data_collections()"
   ]
  },
  {
   "cell_type": "code",
   "execution_count": null,
   "id": "4864d768-a71f-41b5-bf8b-a64788aeb20a",
   "metadata": {
    "tags": []
   },
   "outputs": [],
   "source": [
    "tru.set_data_collection('OJ Sales Data')\n",
    "tru.set_model('Ridge Regression')"
   ]
  },
  {
   "cell_type": "code",
   "execution_count": null,
   "id": "a6bb4a4f-e4c5-4e05-96b8-e5da3bac304d",
   "metadata": {
    "tags": []
   },
   "outputs": [],
   "source": [
    "tru"
   ]
  },
  {
   "cell_type": "code",
   "execution_count": null,
   "id": "7fb13877-5124-442d-8c32-52d43d63d766",
   "metadata": {
    "tags": []
   },
   "outputs": [],
   "source": [
    "LR_explainer = tru.get_explainer()"
   ]
  },
  {
   "cell_type": "code",
   "execution_count": null,
   "id": "27216e2a-00e8-490b-8318-517024d2c227",
   "metadata": {
    "tags": []
   },
   "outputs": [],
   "source": [
    "prod_data_df.columns"
   ]
  },
  {
   "cell_type": "code",
   "execution_count": null,
   "id": "f62fd2a3-a7b6-47d7-8893-a58139260865",
   "metadata": {
    "tags": []
   },
   "outputs": [],
   "source": [
    "column_spec.pre_data_col_names"
   ]
  },
  {
   "cell_type": "code",
   "execution_count": null,
   "id": "fd301346-35b1-49d3-a8f1-305935ca7d5b",
   "metadata": {
    "tags": []
   },
   "outputs": [],
   "source": [
    "column_spec.post_data_col_names"
   ]
  },
  {
   "cell_type": "code",
   "execution_count": null,
   "id": "de4657b9-e991-426b-906f-61fd3d169591",
   "metadata": {
    "tags": []
   },
   "outputs": [],
   "source": [
    "column_spec.label_col_names"
   ]
  },
  {
   "cell_type": "code",
   "execution_count": null,
   "id": "3251a8c1-1f07-4cdd-82db-50a7a9ee8951",
   "metadata": {
    "tags": []
   },
   "outputs": [],
   "source": [
    "prod_data_df[column_spec.pre_data_col_names].shape"
   ]
  },
  {
   "cell_type": "code",
   "execution_count": null,
   "id": "f00d4b49-6f36-4895-adc2-b573018b23ac",
   "metadata": {
    "tags": []
   },
   "outputs": [],
   "source": [
    "?explainer.compute_feature_influences_for_data"
   ]
  },
  {
   "cell_type": "code",
   "execution_count": null,
   "id": "a7696827-841c-45b2-9d2b-315fdb7fe0ff",
   "metadata": {
    "tags": []
   },
   "outputs": [],
   "source": [
    "LR_prod_FIs = LR_explainer.compute_feature_influences_for_data(pre_data = prod_data_df[column_spec.pre_data_col_names], \n",
    "                                                         post_data = prod_data_df[column_spec.post_data_col_names], \n",
    "                                                         ys = prod_data_df[column_spec.label_col_names])"
   ]
  },
  {
   "cell_type": "code",
   "execution_count": null,
   "id": "7cc41996-f099-415d-95c8-e0264cc0acd3",
   "metadata": {
    "tags": []
   },
   "outputs": [],
   "source": [
    "LR_prod_FIs['index'] = prod_data_df[column_spec.id_col_name]"
   ]
  },
  {
   "cell_type": "code",
   "execution_count": null,
   "id": "e478de99-e58d-40ca-a4ee-bedcb89292f7",
   "metadata": {
    "tags": []
   },
   "outputs": [],
   "source": [
    "LR_prod_FIs"
   ]
  },
  {
   "cell_type": "code",
   "execution_count": null,
   "id": "4119d3cc-61bc-47c6-a7e2-fe219146caf2",
   "metadata": {
    "tags": []
   },
   "outputs": [],
   "source": [
    "tru"
   ]
  },
  {
   "cell_type": "markdown",
   "id": "582eace3-6499-4511-a9b2-8c5bc53e538f",
   "metadata": {},
   "source": [
    "### Merge data, predictions, and feature influence"
   ]
  },
  {
   "cell_type": "code",
   "execution_count": null,
   "id": "334e925f-d197-4556-b7d5-bfb5d5b62733",
   "metadata": {
    "tags": []
   },
   "outputs": [],
   "source": [
    "lr_prod_data_df, lr_column_spec = merge_dataframes_and_create_column_spec(\n",
    "                        id_col_name='index',\n",
    "                        timestamp_col_name='datetime',\n",
    "                        pre_data = prod_data_df[column_spec.pre_data_col_names+[column_spec.id_col_name]], \n",
    "                        post_data = prod_data_df[column_spec.post_data_col_names+[column_spec.id_col_name]], \n",
    "                        labels = prod_data_df[column_spec.label_col_names+[column_spec.id_col_name]],\n",
    "                        predictions = lr_prod_preds,\n",
    "                        feature_influences = LR_prod_FIs)"
   ]
  },
  {
   "cell_type": "code",
   "execution_count": null,
   "id": "d2c220d6-8072-42a5-91a7-2271ca555737",
   "metadata": {
    "tags": []
   },
   "outputs": [],
   "source": [
    "model_name = 'Ridge Regression'\n",
    "tru.add_production_data(\n",
    "        data=lr_prod_data_df,\n",
    "        column_spec=lr_column_spec,\n",
    "        model_output_context=ModelOutputContext(\n",
    "            model_name=model_name,\n",
    "            background_split_name='training data',\n",
    "            influence_type='truera-qii',\n",
    "            score_type='regression'))"
   ]
  },
  {
   "cell_type": "code",
   "execution_count": null,
   "id": "3d0bb031-b47a-4ade-8a22-72a711e20349",
   "metadata": {
    "tags": []
   },
   "outputs": [],
   "source": [
    "tru.set_data_collection(\"OJ Sales Data RF\")\n",
    "tru.set_model(\"Random Forest Regressor\")"
   ]
  },
  {
   "cell_type": "code",
   "execution_count": null,
   "id": "98c76556-f9ae-4128-9c3d-664ba492b370",
   "metadata": {
    "tags": []
   },
   "outputs": [],
   "source": [
    "RF_explainer = tru.get_explainer()"
   ]
  },
  {
   "cell_type": "markdown",
   "id": "278c847e-805d-4cfe-8ba2-3b6face6266a",
   "metadata": {
    "tags": []
   },
   "source": [
    "#####  for FI sampling\n",
    "Use the following code snippet to select a random sample of some large dataset, to reduce compute cost & time to generate sufficient feature influences for analysis."
   ]
  },
  {
   "cell_type": "raw",
   "id": "38dcbf7f-6dbc-497a-8e56-f8066f4a076a",
   "metadata": {
    "tags": []
   },
   "source": [
    "FI_mask = prod_data_df['index'].sample(2000)\n",
    "\n",
    "prod_data_df[prod_data_df['index'].isin(FI_mask)]\n",
    "\n",
    "rf_prod_FIs = explainer.compute_feature_influences_for_data(pre_data = prod_data_df[prod_data_df['index'].isin(FI_mask)][column_spec.pre_data_col_names], post_data = prod_data_df[prod_data_df['index'].isin(FI_mask)][column_spec.post_data_col_names], ys = prod_data_df[prod_data_df['index'].isin(FI_mask)][column_spec.label_col_names])\n",
    "\n",
    "rf_prod_FIs['index'] = prod_data_df[prod_data_df['index'].isin(FI_mask)][column_spec.id_col_name]"
   ]
  },
  {
   "cell_type": "code",
   "execution_count": null,
   "id": "5fd36c79-7dbd-4ff9-ad34-4a8800559ba9",
   "metadata": {
    "tags": []
   },
   "outputs": [],
   "source": [
    "RF_prod_FIs = RF_explainer.compute_feature_influences_for_data(pre_data = prod_data_df[column_spec.pre_data_col_names],\n",
    "                                                                post_data = prod_data_df[column_spec.post_data_col_names],\n",
    "                                                                ys = prod_data_df[column_spec.label_col_names])"
   ]
  },
  {
   "cell_type": "code",
   "execution_count": null,
   "id": "94b2305b-c321-48dd-9e03-7d3f479f7e3a",
   "metadata": {
    "tags": []
   },
   "outputs": [],
   "source": [
    "RF_prod_FIs['index'] = prod_data_df[column_spec.id_col_name]"
   ]
  },
  {
   "cell_type": "code",
   "execution_count": null,
   "id": "55e0ebb0-0e8c-4ffc-b7ad-cafdecf7d96c",
   "metadata": {
    "tags": []
   },
   "outputs": [],
   "source": [
    "rf_prod_data_df, rf_column_spec = merge_dataframes_and_create_column_spec(\n",
    "                        id_col_name='index',\n",
    "                        timestamp_col_name='datetime',\n",
    "                        pre_data = prod_data_df[column_spec.pre_data_col_names+[column_spec.id_col_name]], \n",
    "                        post_data = prod_data_df[column_spec.post_data_col_names+[column_spec.id_col_name]], \n",
    "                        labels = prod_data_df[column_spec.label_col_names+[column_spec.id_col_name]],\n",
    "                        predictions = rf_prod_preds,\n",
    "                        feature_influences = RF_prod_FIs)"
   ]
  },
  {
   "cell_type": "code",
   "execution_count": null,
   "id": "02d6d726-dc3a-49e8-b397-0129f902baf5",
   "metadata": {
    "tags": []
   },
   "outputs": [],
   "source": [
    "model_name = 'Random Forest Regressor'\n",
    "tru.add_production_data(\n",
    "        data=rf_prod_data_df,\n",
    "        column_spec=rf_column_spec,\n",
    "        model_output_context=ModelOutputContext(\n",
    "            model_name=model_name,\n",
    "            background_split_name='training data',\n",
    "            influence_type='truera-qii',\n",
    "            score_type='regression'))"
   ]
  },
  {
   "cell_type": "code",
   "execution_count": null,
   "id": "c21e438c-4e0d-4817-815a-538d894398a4",
   "metadata": {
    "tags": []
   },
   "outputs": [],
   "source": [
    "LR_prod_FIs.to_csv('lr_prod_FIs.csv',index=True)"
   ]
  },
  {
   "cell_type": "code",
   "execution_count": null,
   "id": "b2be6c21-58bd-41cb-b8c3-b24b39456d18",
   "metadata": {
    "tags": []
   },
   "outputs": [],
   "source": [
    "RF_prod_FIs.to_csv('rf_prod_FIs.csv',index=True)"
   ]
  },
  {
   "cell_type": "raw",
   "id": "777fb777-c093-4f14-bcd3-dce675603173",
   "metadata": {
    "tags": []
   },
   "source": [
    "X_prod = pd.read_csv('./split_sim/pre_split_4.csv',index_col=0).reset_index()\n",
    "X_prod_post = pd.read_csv('./split_sim/post_split_4.csv',index_col=0).reset_index()\n",
    "y_prod = pd.read_csv('./split_sim/label_4.csv',index_col=0).reset_index()\n",
    "\n",
    "prod_data_df, column_spec = merge_dataframes_and_create_column_spec(\n",
    "                id_col_name='index',\n",
    "                timestamp_col_name='datetime',\n",
    "                pre_data=X_prod,\n",
    "                post_data=X_prod_post,\n",
    "                labels=y_prod)"
   ]
  },
  {
   "cell_type": "raw",
   "id": "5d6b7f7f-4b14-4f6a-8954-d0b9142e7190",
   "metadata": {
    "tags": []
   },
   "source": [
    "X_prod.columns"
   ]
  },
  {
   "cell_type": "raw",
   "id": "2a06d780-cc5f-443b-ba61-0ea296555eb2",
   "metadata": {
    "tags": []
   },
   "source": [
    "X_prod_post.columns"
   ]
  },
  {
   "cell_type": "raw",
   "id": "4753718e-109f-4cb6-9aee-c5dda85f3301",
   "metadata": {
    "tags": []
   },
   "source": [
    "import glob\n",
    "import os"
   ]
  },
  {
   "cell_type": "raw",
   "id": "77fd2e2e-a6b0-4ea7-ba4b-18187ee34338",
   "metadata": {
    "tags": []
   },
   "source": [
    "f_prod = glob.glob(os.path.join('./split_sim', 'pre_split_*.csv'))\n",
    "f_prod_post= glob.glob(os.path.join('./split_sim', \"post_split_*.csv\"))\n",
    "f_y_prod = glob.glob(os.path.join('./split_sim', \"label_*.csv\"))"
   ]
  },
  {
   "cell_type": "raw",
   "id": "f6fa9e78-fa4a-4f8a-9757-a32c64c57cfb",
   "metadata": {
    "tags": []
   },
   "source": [
    "f_prod.sort()\n",
    "f_prod_post.sort()\n",
    "f_y_prod.sort()"
   ]
  },
  {
   "cell_type": "raw",
   "id": "b5af39fa-6630-4afe-8547-1fdab8dedb3c",
   "metadata": {
    "tags": []
   },
   "source": [
    "X_prod = pd.concat((pd.read_csv(f,index_col=0).reset_index() for f in f_prod), ignore_index=True)\n",
    "X_prod_post = pd.concat((pd.read_csv(f,index_col=0).reset_index() for f in f_prod_post), ignore_index=True)\n",
    "y_prod = pd.concat((pd.read_csv(f,index_col=0).reset_index() for f in f_y_prod), ignore_index=True)"
   ]
  },
  {
   "cell_type": "raw",
   "id": "d2613111-de61-49e7-b9c9-5b3e60e770f9",
   "metadata": {
    "tags": []
   },
   "source": [
    "X_prod.shape"
   ]
  },
  {
   "cell_type": "raw",
   "id": "1a12c806-1813-4690-8dec-e489181f08a2",
   "metadata": {
    "tags": []
   },
   "source": [
    "X_prod.head()"
   ]
  },
  {
   "cell_type": "raw",
   "id": "93a30689-8b55-4672-82a5-a58514fa11b4",
   "metadata": {
    "tags": []
   },
   "source": [
    "explainer = tru.get_explainer()"
   ]
  },
  {
   "cell_type": "raw",
   "id": "946eb3da-2e89-4884-b471-387b6f8ddece",
   "metadata": {
    "tags": []
   },
   "source": [
    "prod_FIs = explainer.compute_feature_influences_for_data(X_prod.drop(columns=['datetime','index']), X_prod_post.drop(columns=['datetime','index']), y_prod['logmove'])"
   ]
  },
  {
   "cell_type": "raw",
   "id": "b2f3320c-a69d-4749-929d-589a4eaf93f3",
   "metadata": {
    "tags": []
   },
   "source": [
    "prod_FIs.head()"
   ]
  }
 ],
 "metadata": {
  "kernelspec": {
   "display_name": "Python [conda env:app.truera.net] *",
   "language": "python",
   "name": "conda-env-app.truera.net-py"
  },
  "language_info": {
   "codemirror_mode": {
    "name": "ipython",
    "version": 3
   },
   "file_extension": ".py",
   "mimetype": "text/x-python",
   "name": "python",
   "nbconvert_exporter": "python",
   "pygments_lexer": "ipython3",
   "version": "3.8.16"
  }
 },
 "nbformat": 4,
 "nbformat_minor": 5
}

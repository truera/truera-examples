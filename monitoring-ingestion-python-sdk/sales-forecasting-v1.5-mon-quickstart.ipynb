{
 "cells": [
  {
   "cell_type": "markdown",
   "id": "49d4302d-9a51-40eb-8de6-b8a448112906",
   "metadata": {},
   "source": [
    "# TruEra Monitoring Demo"
   ]
  },
  {
   "cell_type": "markdown",
   "id": "3d4635a0-0660-4688-94cd-e671330bc8a6",
   "metadata": {},
   "source": [
    "## Demonstrate Production Monitoring Ingestion via Python SDK\n",
    "### Modeling Scenario: Orange Juice Forecasting (Regression)\n",
    "\n",
    "Part 1: Using TruEra for ML Explainability **when model & data are available for use**, including\n",
    "- Project creation/setup\n",
    "- Data Preparation\n",
    "- Using TruEra's SDK to ingest data (model inputs & outputs)\n",
    "- Using TruEra's SDK to ingest models\n",
    "- Using TruEra's SDK to generate predictions & feature influences\n",
    "\n",
    "Part 2: Using TruEra for ML Explainability **when model file is not available** / **virtual model project setup**\n",
    "- [TO DO]"
   ]
  },
  {
   "cell_type": "code",
   "execution_count": null,
   "id": "d217676f-e382-4708-b38a-0480ff8e7c1d",
   "metadata": {
    "tags": []
   },
   "outputs": [],
   "source": [
    "!pip list | grep truera"
   ]
  },
  {
   "cell_type": "code",
   "execution_count": null,
   "id": "3ec3020c-1f10-4282-a02e-9572254aaddf",
   "metadata": {
    "tags": []
   },
   "outputs": [],
   "source": [
    "import os\n",
    "import glob"
   ]
  },
  {
   "cell_type": "code",
   "execution_count": null,
   "id": "2434a6cf-e214-4d85-882a-1eba52f8d054",
   "metadata": {
    "tags": []
   },
   "outputs": [],
   "source": [
    "import pandas as pd\n",
    "import numpy as np\n",
    "import pickle\n",
    "from datetime import date, datetime"
   ]
  },
  {
   "cell_type": "code",
   "execution_count": null,
   "id": "278e4ed6-ea5c-45e9-a495-a698ccc87958",
   "metadata": {
    "tags": []
   },
   "outputs": [],
   "source": [
    "import sklearn\n",
    "from sklearn.ensemble import RandomForestClassifier"
   ]
  },
  {
   "cell_type": "code",
   "execution_count": null,
   "id": "6f449e2f-243b-4657-bdb9-638b392eceea",
   "metadata": {
    "tags": []
   },
   "outputs": [],
   "source": [
    "!pip list | grep truera"
   ]
  },
  {
   "cell_type": "code",
   "execution_count": null,
   "id": "2cd49ac8-c6d5-457a-84f2-e3b220380c40",
   "metadata": {
    "tags": []
   },
   "outputs": [],
   "source": [
    "from truera.client.truera_workspace import TrueraWorkspace\n",
    "from truera.client.truera_authentication import TokenAuthentication\n",
    "from truera.client.ingestion import ColumnSpec, ModelOutputContext\n",
    "from truera.client.ingestion.util import merge_dataframes_and_create_column_spec"
   ]
  },
  {
   "cell_type": "markdown",
   "id": "96bc5c09-5cc7-40c7-817f-41336f64c9f9",
   "metadata": {},
   "source": [
    "The following is a custom python script that contains several convenience functions. \n",
    "\n",
    "These functions are not generally required, nor fully generalizable. They are use case specific. \n",
    "\n",
    "However, in many cases, snippets of these utility functions may prove useful for implementing use cases with your models and data"
   ]
  },
  {
   "cell_type": "code",
   "execution_count": null,
   "id": "65ee82a4-1d50-48b0-a692-7c2e88fd3c40",
   "metadata": {
    "tags": []
   },
   "outputs": [],
   "source": [
    "import ingestion_utils"
   ]
  },
  {
   "cell_type": "code",
   "execution_count": null,
   "id": "53f0db9a-46ed-45fa-b1ba-afece8412ad2",
   "metadata": {
    "tags": []
   },
   "outputs": [],
   "source": [
    "import imp\n",
    "imp.reload(ingestion_utils)"
   ]
  },
  {
   "cell_type": "code",
   "execution_count": null,
   "id": "1214d145-c1e1-4f83-96db-9400da904cc3",
   "metadata": {},
   "outputs": [],
   "source": [
    "# connection details\n",
    "TRUERA_URL = \n",
    "AUTH_TOKEN = "
   ]
  },
  {
   "cell_type": "code",
   "execution_count": null,
   "id": "6e396e8d-6100-4660-aaf5-0f7007e37caa",
   "metadata": {
    "tags": []
   },
   "outputs": [],
   "source": [
    "import os"
   ]
  },
  {
   "cell_type": "markdown",
   "id": "137eed9a-e3b6-42b1-b0b1-d19554159464",
   "metadata": {},
   "source": [
    "Recommendation: place URL and auth token in env vars. Not a necessary step, but useful for security and code cleanliness purposes "
   ]
  },
  {
   "cell_type": "code",
   "execution_count": null,
   "id": "e05ab556-f6b6-4700-ab7c-f692c06627b1",
   "metadata": {
    "tags": []
   },
   "outputs": [],
   "source": [
    "os.environ['URL'] = TRUERA_URL\n",
    "os.environ['AUTH_TOKEN'] = AUTH_TOKEN"
   ]
  },
  {
   "cell_type": "code",
   "execution_count": null,
   "id": "f5c2defd-f8ba-4681-bf0f-72a9fc193e5d",
   "metadata": {
    "tags": []
   },
   "outputs": [],
   "source": [
    "# Python SDK - Create TruEra workspace\n",
    "auth = TokenAuthentication(AUTH_TOKEN)\n",
    "tru = TrueraWorkspace(TRUERA_URL, auth, ignore_version_mismatch=True)"
   ]
  },
  {
   "cell_type": "markdown",
   "id": "0409b45f-c05c-4c0b-b5d2-0908db795e11",
   "metadata": {},
   "source": [
    "# Pre-production: Create TruEra Project and load baseline data"
   ]
  },
  {
   "cell_type": "markdown",
   "id": "5efd7a0e-849f-4c5b-8502-e95328f9dcc2",
   "metadata": {
    "tags": []
   },
   "source": [
    "## Create Project"
   ]
  },
  {
   "cell_type": "code",
   "execution_count": null,
   "id": "49c04882-ee61-4a99-a3b0-b6bcbb2dd04c",
   "metadata": {
    "tags": []
   },
   "outputs": [],
   "source": [
    "projectName = \"Forecasting Monitoring Quickstart\"\n",
    "print(projectName)"
   ]
  },
  {
   "cell_type": "code",
   "execution_count": null,
   "id": "e6dbac02-fb11-4488-9857-e7fe4e65edcb",
   "metadata": {
    "tags": []
   },
   "outputs": [],
   "source": [
    "scoreFormat = \"regression\""
   ]
  },
  {
   "cell_type": "code",
   "execution_count": null,
   "id": "904c0ba2-01db-42a1-aa4b-0471bc233687",
   "metadata": {
    "tags": []
   },
   "outputs": [],
   "source": [
    "tru.add_project(project_name, score_type=scoreFormat)  "
   ]
  },
  {
   "cell_type": "markdown",
   "id": "30dbb6e9-99c2-468f-aa46-d61a1598cfc7",
   "metadata": {
    "tags": []
   },
   "source": [
    "## Create Data Collection"
   ]
  },
  {
   "cell_type": "code",
   "execution_count": null,
   "id": "228df298-cb2b-4c70-9d05-a1e34aa49ce5",
   "metadata": {
    "tags": []
   },
   "outputs": [],
   "source": [
    "dcName = \"OJ Sales Data\""
   ]
  },
  {
   "cell_type": "code",
   "execution_count": null,
   "id": "cc21b8c7-7d91-485c-b2fe-17e12d34a533",
   "metadata": {
    "tags": []
   },
   "outputs": [],
   "source": [
    "tru.add_data_collection(dcName)"
   ]
  },
  {
   "cell_type": "markdown",
   "id": "44de0ac2-c654-4fea-ac1e-24016a393a83",
   "metadata": {
    "tags": []
   },
   "source": [
    "## Add data to data collection"
   ]
  },
  {
   "cell_type": "code",
   "execution_count": null,
   "id": "4d845328-a1db-40b8-a551-9ee8e5701bdc",
   "metadata": {
    "tags": []
   },
   "outputs": [],
   "source": [
    "train_data_df = pd.read_csv('./split_sim_v1_mon/train_df.csv')"
   ]
  },
  {
   "cell_type": "code",
   "execution_count": null,
   "id": "4961fe27-feb9-4fb9-be7f-11305d506d8c",
   "metadata": {
    "tags": []
   },
   "outputs": [],
   "source": [
    "train_data_df.head()"
   ]
  },
  {
   "cell_type": "markdown",
   "id": "da229c8b-4d77-4495-a127-34e2ec857c4d",
   "metadata": {
    "tags": []
   },
   "source": [
    "## Create column_spec \n",
    "- Tell TruEra about the columns in your dataframe. Which columns correspond to:\n",
    "    - unique ID\n",
    "    - timestamp\n",
    "    - pre-transform features (optional, if using feature map; else, post-transform features loaded as \"pre_data\")\n",
    "    - post-transform features (i.e., model readable)\n",
    "    - labels (optional; almost always provided for development data)\n",
    "    - predictions (optional if model object is available for use)\n",
    "    - extra data (for use in segmentation or fairness workflows)"
   ]
  },
  {
   "cell_type": "code",
   "execution_count": null,
   "id": "9b6d7619-59b2-4cd8-8bde-ae2ee8f156b6",
   "metadata": {
    "tags": []
   },
   "outputs": [],
   "source": [
    "random_forest = pickle.load(open(\"./split_sim_v1_mon/rf.pkl\", 'rb'))"
   ]
  },
  {
   "cell_type": "code",
   "execution_count": null,
   "id": "f67c1f26-a1e2-4c8c-be9d-1737555879f5",
   "metadata": {
    "tags": []
   },
   "outputs": [],
   "source": [
    "#prepare data - truera SDK convenience function to merge and create column specification\n",
    "## include index in all dataframes being merged. In this case, we're merging from the same original dataframe, for demo purposes. \n",
    "data_df, column_spec = merge_dataframes_and_create_column_spec(id_col_name='index',\n",
    "                                                               timestamp_col_name='datetime', #optional for pre-prod data\n",
    "                                                               pre_data=train_data_df[['index','datetime','store','feat','price','AGE60','EDUC','ETHNIC','INCOME','HHLARGE','WORKWOM','HVAL150','SSTRDIST','SSTRVOL','CPDIST5','CPWVOL5','brand_dominicks','brand_minute.maid','brand_tropicana','weekday_Friday','weekday_Monday','weekday_Saturday','weekday_Sunday','weekday_Thursday','weekday_Tuesday','weekday_Wednesday']],\n",
    "                                                               labels=train_data_df[['index','logmove']])"
   ]
  },
  {
   "cell_type": "code",
   "execution_count": null,
   "id": "fff3fc08-0563-49ae-bf28-0dc930c74b82",
   "metadata": {
    "tags": []
   },
   "outputs": [],
   "source": [
    "?ColumnSpec"
   ]
  },
  {
   "cell_type": "code",
   "execution_count": null,
   "id": "d765674a-6106-4737-b58b-a34bca9a1d79",
   "metadata": {
    "tags": []
   },
   "outputs": [],
   "source": [
    "column_spec"
   ]
  },
  {
   "cell_type": "code",
   "execution_count": null,
   "id": "f3cd529a-6a9c-45d0-afda-63142a80749c",
   "metadata": {
    "tags": []
   },
   "outputs": [],
   "source": [
    "#save column spec as pickle file, for future use\n",
    "with open('./split_sim_v1_mon/column_spec.pkl', 'wb') as f:\n",
    "    pickle.dump(column_spec, f)"
   ]
  },
  {
   "cell_type": "markdown",
   "id": "e11a7356-bf5f-418b-9b86-b922430b460f",
   "metadata": {},
   "source": [
    "## Add model object to project\n",
    "\n",
    "The arguments used in add_python_model function are the name of the model (user specified) and the model object itself. \n",
    "\n",
    "This step is where the \"data & model\" and \"data only\" aka \"virtual model\" approaches to generating TruEra ML observability metrics begins to differ. \n",
    "\n",
    "In the virtual model scenario, a function .add_model is used -- there, we **only** specify the model name, and do not interact with the model object itself, directly, at all. The virtual model scenario implies that one already has all model I/Os required to generate observability metrics persisted in a source location (e.g., in memory, flat file, object storage, etc.). Those model I/Os are, at a minimum, model input data, and typically also include model scores, labels, and feature influences. "
   ]
  },
  {
   "cell_type": "code",
   "execution_count": null,
   "id": "9e401d9c-6465-4041-9605-ea80da297ea0",
   "metadata": {
    "tags": []
   },
   "outputs": [],
   "source": [
    "modelName = 'Random Forest Regressor'"
   ]
  },
  {
   "cell_type": "code",
   "execution_count": null,
   "id": "bc840c1d-fab0-4104-900c-b7e6e7e744a9",
   "metadata": {
    "tags": []
   },
   "outputs": [],
   "source": [
    "tru.add_python_model(modelName, random_forest)"
   ]
  },
  {
   "cell_type": "code",
   "execution_count": null,
   "id": "ca75b05d-30ed-4ce9-952e-cf10d8dc1dfc",
   "metadata": {
    "tags": []
   },
   "outputs": [],
   "source": [
    "tru.add_data(\n",
    "        data_split_name='baseline data',\n",
    "        data=data_df,\n",
    "        column_spec=column_spec)"
   ]
  },
  {
   "cell_type": "markdown",
   "id": "9c7d6f18-31e6-49a3-adb3-52f78b40e6df",
   "metadata": {},
   "source": [
    "## Scoring model, and generating feature influences\n",
    "\n",
    "When a model object is available for use, TruEra provides simplified means to generate predictions, feature influences, and error influences"
   ]
  },
  {
   "cell_type": "markdown",
   "id": "0cee7c96-2879-4763-bd9b-6526793ea70a",
   "metadata": {},
   "source": [
    "Whenever possible, use truera-qii for these purpose. Otherwise, omit the following setting. TruEra will use the OSS SHAP library that corresponds to your model and prediction type. Be aware that this may lead to lengthy increases in computation time to generate Shapley value estimates."
   ]
  },
  {
   "cell_type": "code",
   "execution_count": null,
   "id": "52c8be10-a3c1-4743-b483-94e3bddb8bf6",
   "metadata": {
    "tags": []
   },
   "outputs": [],
   "source": [
    "tru.set_influence_type('truera-qii')"
   ]
  },
  {
   "cell_type": "markdown",
   "id": "e1f314f0-a9e2-428e-bf5e-816b506e146c",
   "metadata": {},
   "source": [
    "By default, the following function will sync the artifacts that have been ingested to your local machine, and compute predictions, feature influences, and error influences for all model-split pairs. \n",
    "\n",
    "Params exist to constrain to specific calculations, as well as specific models or data splits"
   ]
  },
  {
   "cell_type": "code",
   "execution_count": null,
   "id": "594ba208-e644-4384-8e4d-3d72e0143044",
   "metadata": {},
   "outputs": [],
   "source": [
    "?tru.compute_all"
   ]
  },
  {
   "cell_type": "code",
   "execution_count": null,
   "id": "c259018f-8154-4798-aaa6-0c19aeb73fce",
   "metadata": {
    "tags": []
   },
   "outputs": [],
   "source": [
    "tru.compute_all()"
   ]
  },
  {
   "cell_type": "markdown",
   "id": "17ce4d63-1750-4da6-825d-8d49fd4591d2",
   "metadata": {
    "tags": []
   },
   "source": [
    "# Production: Prepare and load production data into TruEra Monitoring\n",
    "1. Simulate/generate production data\n",
    "2. Generate predictions using model\n",
    "3. Load data into production monitoring services"
   ]
  },
  {
   "cell_type": "code",
   "execution_count": null,
   "id": "df615742-d453-487e-b028-f5df50686d0e",
   "metadata": {
    "tags": []
   },
   "outputs": [],
   "source": [
    "prod_data_df = pd.read_csv('./split_sim_v1_mon/prod_df.csv')"
   ]
  },
  {
   "cell_type": "code",
   "execution_count": null,
   "id": "b695ad5b-b17d-43af-a8d7-861aa6e1eafd",
   "metadata": {
    "tags": []
   },
   "outputs": [],
   "source": [
    "prod_data_df.head()"
   ]
  },
  {
   "cell_type": "markdown",
   "id": "ffe43a61-abc1-4f60-8595-3448334ede6c",
   "metadata": {},
   "source": [
    "In many production scenarios, predictions will already be generated prior to ingesting production data into TruEra. \n",
    "\n",
    "In other words, scoring will happen separately and independently of TruEra, in some other production system. \n",
    "\n",
    "Here, we simulate that independent process by generating predictions, on the simulated production dataset, and including them in our production column specification. "
   ]
  },
  {
   "cell_type": "markdown",
   "id": "29ca3ab4-3965-47e0-bb6a-7994c99dab65",
   "metadata": {},
   "source": [
    "Note that we use the previously created column specification to simplify the selection of the correct columns with which to score the model on"
   ]
  },
  {
   "cell_type": "code",
   "execution_count": null,
   "id": "3119abe4-55ec-4285-8eaf-a126ddec4ad7",
   "metadata": {
    "tags": []
   },
   "outputs": [],
   "source": [
    "preds = random_forest.predict(prod_data_df.drop(columns=prod_data_df.columns.difference(column_spec.pre_data_col_names)))\n",
    "preds_df = pd.DataFrame(preds, columns = ['preds'], index=[prod_data_df['index']])\n",
    "preds_df = preds_df.reset_index()\n",
    "preds_df.head()"
   ]
  },
  {
   "cell_type": "markdown",
   "id": "8ed65eaf-b8fc-4dd1-92c4-e30efa201796",
   "metadata": {},
   "source": [
    "Here, we use the convenience function to merge our predictions with the prod data"
   ]
  },
  {
   "cell_type": "code",
   "execution_count": null,
   "id": "296170fa-09bc-4c31-ad2a-5210c9c10088",
   "metadata": {
    "tags": []
   },
   "outputs": [],
   "source": [
    "prod_df, prod_column_spec = merge_dataframes_and_create_column_spec(id_col_name=column_spec.id_col_name,\n",
    "                                                               timestamp_col_name=column_spec.timestamp_col_name,\n",
    "                                                               pre_data=prod_data_df[column_spec.pre_data_col_names+[column_spec.id_col_name]+[column_spec.timestamp_col_name]],\n",
    "                                                               labels=prod_data_df[column_spec.label_col_names+[column_spec.id_col_name]],\n",
    "                                                               predictions=preds_df)"
   ]
  },
  {
   "cell_type": "code",
   "execution_count": null,
   "id": "e3e2515e-7c68-4a18-92c3-9897658b4b49",
   "metadata": {
    "tags": []
   },
   "outputs": [],
   "source": [
    "prod_column_spec"
   ]
  },
  {
   "cell_type": "code",
   "execution_count": null,
   "id": "f082ce72-61a9-4d42-b61b-cf932d7630fa",
   "metadata": {
    "tags": []
   },
   "outputs": [],
   "source": [
    "#save column spec as pickle file, for future use\n",
    "with open('./split_sim_v1_mon/prod_column_spec.pkl', 'wb') as f:\n",
    "    pickle.dump(prod_column_spec, f)"
   ]
  },
  {
   "cell_type": "code",
   "execution_count": null,
   "id": "786a9bfb-af47-43a6-a392-63bd9f7b3faa",
   "metadata": {
    "tags": []
   },
   "outputs": [],
   "source": [
    "projectName, dcName, random_forest, modelName, prod_start, prod_end"
   ]
  },
  {
   "cell_type": "markdown",
   "id": "a85b0731-130d-440e-b3a3-0f03a4fe26bc",
   "metadata": {},
   "source": [
    "### Add production data\n",
    "- Use merged prod_df and prod_column_spec\n",
    "- Specify model output context -- tell TruEra the format of the predictions being ingested"
   ]
  },
  {
   "cell_type": "code",
   "execution_count": null,
   "id": "25dc4d79-4b45-4068-aa65-d6bd6b0cee7e",
   "metadata": {
    "tags": []
   },
   "outputs": [],
   "source": [
    "?ModelOutputContext"
   ]
  },
  {
   "cell_type": "code",
   "execution_count": null,
   "id": "969271d6-7ca1-4591-9a70-c6feb0f3a9b6",
   "metadata": {
    "tags": []
   },
   "outputs": [],
   "source": [
    "tru.add_production_data(data=prod_df,\n",
    "                        column_spec=prod_column_spec,\n",
    "                        model_output_context=ModelOutputContext(\n",
    "                        model_name=modelName,\n",
    "                        score_type='regression'))"
   ]
  },
  {
   "cell_type": "markdown",
   "id": "757dd07e-beea-4e5d-80d7-7245a304a72f",
   "metadata": {},
   "source": [
    "# Generate Feature Influences for a time range split"
   ]
  },
  {
   "cell_type": "markdown",
   "id": "48a470ca-c91b-40b4-b176-e070f1d6b744",
   "metadata": {},
   "source": [
    "check current workspace context; set to desired project/model/split if not already done"
   ]
  },
  {
   "cell_type": "code",
   "execution_count": null,
   "id": "88f08894-83d7-4c88-bcd4-2e1c090f3b79",
   "metadata": {},
   "outputs": [],
   "source": [
    "tru"
   ]
  },
  {
   "cell_type": "markdown",
   "id": "cd5eb9ae-9852-42bc-839e-2ba1c8fbb833",
   "metadata": {},
   "source": [
    "A time range split has been cut from the production data, from a time period of interest"
   ]
  },
  {
   "cell_type": "code",
   "execution_count": null,
   "id": "ad486dbd-10b1-444d-8440-e73ab39b749f",
   "metadata": {},
   "outputs": [],
   "source": [
    "tru.get_data_splits()"
   ]
  },
  {
   "cell_type": "markdown",
   "id": "e7d5c908-c7cc-420b-89d5-42450d13e26a",
   "metadata": {},
   "source": [
    "Let's compute feature influences for that time range split so we can use TruEra Diagnostics to debug performance issues "
   ]
  },
  {
   "cell_type": "code",
   "execution_count": null,
   "id": "10ea7811-0bb9-46d2-b682-d0428f3328ea",
   "metadata": {},
   "outputs": [],
   "source": [
    "?tru.compute_all"
   ]
  },
  {
   "cell_type": "markdown",
   "id": "c7f7db0b-4c06-48dc-9ff2-f16c3d5cfd26",
   "metadata": {},
   "source": [
    "Note: the name of your time range split may differ than below. Example left in for demo purposes. "
   ]
  },
  {
   "cell_type": "code",
   "execution_count": null,
   "id": "58514a4d-3f62-4872-b4be-ce88db22e6af",
   "metadata": {},
   "outputs": [],
   "source": [
    "tru.compute_all(data_splits=['tr_split_prod_1'])"
   ]
  },
  {
   "cell_type": "markdown",
   "id": "63fac09e-10bc-4283-97b0-800dc7c99c2e",
   "metadata": {
    "tags": []
   },
   "source": [
    "# Various explainer / programmatic examples"
   ]
  },
  {
   "cell_type": "markdown",
   "id": "f84b72d6-175f-46a3-bbb1-d3a2d74f5e19",
   "metadata": {
    "tags": []
   },
   "source": [
    "[TO DO. References here:](https://docs.truera.com/1.41/public/sdk/explainers/)\n",
    "- Performance\n",
    "- Explainability\n",
    "- Drift analysis\n",
    "- Fairness\n",
    "- Testing"
   ]
  },
  {
   "cell_type": "markdown",
   "id": "34619167-e063-41e4-a3a0-00a43268d5ff",
   "metadata": {
    "tags": []
   },
   "source": [
    "### Demo: Create segments programmatically"
   ]
  },
  {
   "cell_type": "code",
   "execution_count": null,
   "id": "8e37bc04-0839-4753-bb97-347dc638995d",
   "metadata": {
    "tags": []
   },
   "outputs": [],
   "source": [
    "weekday_names = train_data_df.weekday.unique().tolist()"
   ]
  },
  {
   "cell_type": "code",
   "execution_count": null,
   "id": "b97f3716-dcc6-436c-9c7a-0ffe1157974b",
   "metadata": {
    "tags": []
   },
   "outputs": [],
   "source": [
    "weekday_names"
   ]
  },
  {
   "cell_type": "code",
   "execution_count": null,
   "id": "cba5e965-247b-4b5e-8ac9-3236a2ca1edf",
   "metadata": {
    "tags": []
   },
   "outputs": [],
   "source": [
    "defs = [\"weekday == '{}'\".format(s) for s in weekday_names]"
   ]
  },
  {
   "cell_type": "code",
   "execution_count": null,
   "id": "e65be37f-1e58-447c-97b5-3472f912d440",
   "metadata": {
    "tags": []
   },
   "outputs": [],
   "source": [
    "defs"
   ]
  },
  {
   "cell_type": "code",
   "execution_count": null,
   "id": "f505a241-3d50-4d26-93cc-8cb7c62fef9b",
   "metadata": {
    "tags": []
   },
   "outputs": [],
   "source": [
    "segment_defs = dict(zip(weekday_names, defs))"
   ]
  },
  {
   "cell_type": "code",
   "execution_count": null,
   "id": "fbbccbcc-b50a-4e01-8c2f-f48f9f421ebb",
   "metadata": {
    "tags": []
   },
   "outputs": [],
   "source": [
    "segment_defs"
   ]
  },
  {
   "cell_type": "code",
   "execution_count": null,
   "id": "148cc2a5-1924-4707-b632-ff0329162237",
   "metadata": {
    "tags": []
   },
   "outputs": [],
   "source": [
    "tru"
   ]
  },
  {
   "cell_type": "code",
   "execution_count": null,
   "id": "8411be2f-bd99-4a87-b13e-8147b0bcf061",
   "metadata": {
    "tags": []
   },
   "outputs": [],
   "source": [
    "tru.get_data_splits()"
   ]
  },
  {
   "cell_type": "code",
   "execution_count": null,
   "id": "cd7f9dde-ea85-4b20-9f0f-0371cc08e244",
   "metadata": {
    "tags": []
   },
   "outputs": [],
   "source": [
    "tru.set_data_split(\"training data\")"
   ]
  },
  {
   "cell_type": "code",
   "execution_count": null,
   "id": "7ecd7cef-cc64-44ef-a76d-01bb89136a1b",
   "metadata": {
    "tags": []
   },
   "outputs": [],
   "source": [
    "tru.add_segment_group('Day of Week', segment_defs)"
   ]
  },
  {
   "cell_type": "markdown",
   "id": "434d5b1b-a936-40c9-9559-ffa81089b22e",
   "metadata": {},
   "source": [
    "Scratch\n",
    "\n",
    "----"
   ]
  }
 ],
 "metadata": {
  "kernelspec": {
   "display_name": "Python 3 (ipykernel)",
   "language": "python",
   "name": "python3"
  },
  "language_info": {
   "codemirror_mode": {
    "name": "ipython",
    "version": 3
   },
   "file_extension": ".py",
   "mimetype": "text/x-python",
   "name": "python",
   "nbconvert_exporter": "python",
   "pygments_lexer": "ipython3",
   "version": "3.8.16"
  },
  "toc-autonumbering": true
 },
 "nbformat": 4,
 "nbformat_minor": 5
}
